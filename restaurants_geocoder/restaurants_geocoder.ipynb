{
  "nbformat": 4,
  "nbformat_minor": 0,
  "metadata": {
    "colab": {
      "name": "Рынок заведений общественного питания Москвы accepted (история с помощью данных).ipynb",
      "provenance": [],
      "collapsed_sections": []
    },
    "kernelspec": {
      "display_name": "Python 3",
      "language": "python",
      "name": "python3"
    },
    "language_info": {
      "codemirror_mode": {
        "name": "ipython",
        "version": 3
      },
      "file_extension": ".py",
      "mimetype": "text/x-python",
      "name": "python",
      "nbconvert_exporter": "python",
      "pygments_lexer": "ipython3",
      "version": "3.7.8"
    },
    "toc": {
      "base_numbering": 1,
      "nav_menu": {},
      "number_sections": false,
      "sideBar": true,
      "skip_h1_title": true,
      "title_cell": "Table of Contents",
      "title_sidebar": "Contents",
      "toc_cell": false,
      "toc_position": {},
      "toc_section_display": true,
      "toc_window_display": false
    },
    "widgets": {
      "application/vnd.jupyter.widget-state+json": {
        "0a6302295890434395329321c573cae8": {
          "model_module": "@jupyter-widgets/controls",
          "model_name": "ImageModel",
          "model_module_version": "1.5.0",
          "state": {
            "_view_name": "ImageView",
            "_dom_classes": [],
            "_model_name": "ImageModel",
            "format": "png",
            "_view_module": "@jupyter-widgets/controls",
            "_model_module_version": "1.5.0",
            "_view_count": null,
            "width": "",
            "_view_module_version": "1.5.0",
            "layout": "IPY_MODEL_3b016c5291314f118a81b41f17327283",
            "height": "",
            "_model_module": "@jupyter-widgets/controls"
          }
        },
        "3b016c5291314f118a81b41f17327283": {
          "model_module": "@jupyter-widgets/base",
          "model_name": "LayoutModel",
          "model_module_version": "1.2.0",
          "state": {
            "_view_name": "LayoutView",
            "grid_template_rows": null,
            "right": null,
            "justify_content": null,
            "_view_module": "@jupyter-widgets/base",
            "overflow": null,
            "_model_module_version": "1.2.0",
            "_view_count": null,
            "flex_flow": null,
            "width": null,
            "min_width": null,
            "border": null,
            "align_items": null,
            "bottom": null,
            "_model_module": "@jupyter-widgets/base",
            "top": null,
            "grid_column": null,
            "overflow_y": null,
            "overflow_x": null,
            "grid_auto_flow": null,
            "grid_area": null,
            "grid_template_columns": null,
            "flex": null,
            "_model_name": "LayoutModel",
            "justify_items": null,
            "grid_row": null,
            "max_height": null,
            "align_content": null,
            "visibility": null,
            "align_self": null,
            "height": null,
            "min_height": null,
            "padding": null,
            "grid_auto_rows": null,
            "grid_gap": null,
            "max_width": null,
            "order": null,
            "_view_module_version": "1.2.0",
            "grid_template_areas": null,
            "object_position": null,
            "object_fit": null,
            "grid_auto_columns": null,
            "margin": null,
            "display": null,
            "left": null
          }
        },
        "f625af7e2a344f499c4addf03c8e755a": {
          "model_module": "@jupyter-widgets/controls",
          "model_name": "ImageModel",
          "model_module_version": "1.5.0",
          "state": {
            "_view_name": "ImageView",
            "_dom_classes": [],
            "_model_name": "ImageModel",
            "format": "png",
            "_view_module": "@jupyter-widgets/controls",
            "_model_module_version": "1.5.0",
            "_view_count": null,
            "width": "",
            "_view_module_version": "1.5.0",
            "layout": "IPY_MODEL_384264d9ff1a458687aa0b5d2cdad3f9",
            "height": "",
            "_model_module": "@jupyter-widgets/controls"
          }
        },
        "384264d9ff1a458687aa0b5d2cdad3f9": {
          "model_module": "@jupyter-widgets/base",
          "model_name": "LayoutModel",
          "model_module_version": "1.2.0",
          "state": {
            "_view_name": "LayoutView",
            "grid_template_rows": null,
            "right": null,
            "justify_content": null,
            "_view_module": "@jupyter-widgets/base",
            "overflow": null,
            "_model_module_version": "1.2.0",
            "_view_count": null,
            "flex_flow": null,
            "width": null,
            "min_width": null,
            "border": null,
            "align_items": null,
            "bottom": null,
            "_model_module": "@jupyter-widgets/base",
            "top": null,
            "grid_column": null,
            "overflow_y": null,
            "overflow_x": null,
            "grid_auto_flow": null,
            "grid_area": null,
            "grid_template_columns": null,
            "flex": null,
            "_model_name": "LayoutModel",
            "justify_items": null,
            "grid_row": null,
            "max_height": null,
            "align_content": null,
            "visibility": null,
            "align_self": null,
            "height": null,
            "min_height": null,
            "padding": null,
            "grid_auto_rows": null,
            "grid_gap": null,
            "max_width": null,
            "order": null,
            "_view_module_version": "1.2.0",
            "grid_template_areas": null,
            "object_position": null,
            "object_fit": null,
            "grid_auto_columns": null,
            "margin": null,
            "display": null,
            "left": null
          }
        },
        "01d2f197d7cc43db802bf6c8ee7fbf87": {
          "model_module": "@jupyter-widgets/controls",
          "model_name": "ImageModel",
          "model_module_version": "1.5.0",
          "state": {
            "_view_name": "ImageView",
            "_dom_classes": [],
            "_model_name": "ImageModel",
            "format": "png",
            "_view_module": "@jupyter-widgets/controls",
            "_model_module_version": "1.5.0",
            "_view_count": null,
            "width": "",
            "_view_module_version": "1.5.0",
            "layout": "IPY_MODEL_c5a89ce404c6467e940539ba404781dc",
            "height": "",
            "_model_module": "@jupyter-widgets/controls"
          }
        },
        "c5a89ce404c6467e940539ba404781dc": {
          "model_module": "@jupyter-widgets/base",
          "model_name": "LayoutModel",
          "model_module_version": "1.2.0",
          "state": {
            "_view_name": "LayoutView",
            "grid_template_rows": null,
            "right": null,
            "justify_content": null,
            "_view_module": "@jupyter-widgets/base",
            "overflow": null,
            "_model_module_version": "1.2.0",
            "_view_count": null,
            "flex_flow": null,
            "width": null,
            "min_width": null,
            "border": null,
            "align_items": null,
            "bottom": null,
            "_model_module": "@jupyter-widgets/base",
            "top": null,
            "grid_column": null,
            "overflow_y": null,
            "overflow_x": null,
            "grid_auto_flow": null,
            "grid_area": null,
            "grid_template_columns": null,
            "flex": null,
            "_model_name": "LayoutModel",
            "justify_items": null,
            "grid_row": null,
            "max_height": null,
            "align_content": null,
            "visibility": null,
            "align_self": null,
            "height": null,
            "min_height": null,
            "padding": null,
            "grid_auto_rows": null,
            "grid_gap": null,
            "max_width": null,
            "order": null,
            "_view_module_version": "1.2.0",
            "grid_template_areas": null,
            "object_position": null,
            "object_fit": null,
            "grid_auto_columns": null,
            "margin": null,
            "display": null,
            "left": null
          }
        }
      }
    }
  },
  "cells": [
    {
      "cell_type": "markdown",
      "metadata": {
        "id": "-W4OjGa2R5lq"
      },
      "source": [
        "# Рынок заведений общественного питания Москвы"
      ]
    },
    {
      "cell_type": "markdown",
      "metadata": {
        "id": "xZM5IvgRR8jG"
      },
      "source": [
        "## Оглавление\n",
        "* [Цель проекта](#purpose)\n",
        "* [Исходные данные](#data)\n",
        "* [Предобработка данных](#preprocessing)\n",
        "* [Анализ данных](#analysis)\n",
        "  * [Соотношение видов объектов общественного питания по количеству](#correct_object_type_pivot)\n",
        "  * [Соотношение количества сетевых и несетевых объектов общественного питания](#correct_chain_pivot)\n",
        "  * [Самые распространенные типы объектов питания в сетях и вне сетей](#chain_object_pivot)\n",
        "  * [Типовое сетевое заведение](#typical)\n",
        "  * [Средняя вместимость заведений общепита по типам ](#number_pivot)\n",
        "  * [Определение топ-10 улиц по количеству заведений общепита ](#top_10)\n",
        "  * [Распределение точек общепита по районам ](#district)\n",
        "  * [Улицы, на которых расположен один объект питания](#one_object)\n",
        "  * [Распределение посадочных мест на самых длинных улицах](#long_streets)\n",
        "* [Выводы](#conclusions)\n",
        "* [Рекомендации](#recommend)\n",
        "* [Презентация стартапа](#presentation)\n",
        "\n"
      ]
    },
    {
      "cell_type": "markdown",
      "metadata": {
        "id": "PsrydKgsSAjd"
      },
      "source": [
        "## Цель проекта <a id=\"purpose\"></a>"
      ]
    },
    {
      "cell_type": "markdown",
      "metadata": {
        "id": "RPPgOkfsIzO_"
      },
      "source": [
        "В этом проекте исследуем насыщенность рынка заведений общественного питания города Москвы, чтобы понять, насколько востребованным будет ресторан с инновационной идеей обслуживания - с официантами-роботами. \n",
        "\n",
        "Посмотрим на расположение существующих объектов общепита, проанализируем их вместимость.\n",
        "\n",
        "По итогам сделаем презентацию для потенциальных инвесторов."
      ]
    },
    {
      "cell_type": "markdown",
      "metadata": {
        "id": "Z-nf2-dKSER3"
      },
      "source": [
        "## Исходные данные <a id=\"data\"></a>"
      ]
    },
    {
      "cell_type": "code",
      "metadata": {
        "id": "JE69wwYl0YIQ",
        "colab": {
          "base_uri": "https://localhost:8080/"
        },
        "outputId": "87f410b2-277d-4533-d489-4b460ef04060"
      },
      "source": [
        "#Импорт необходимых библиотек\n",
        "import pandas as pd\n",
        "import numpy as np\n",
        "import plotly.express as px\n",
        "import matplotlib.pyplot as plt\n",
        "from plotly import graph_objects as go\n",
        "import seaborn as sns\n",
        "import re\n",
        "import warnings \n",
        "warnings.filterwarnings('ignore')\n",
        "from io import BytesIO\n",
        "import requests\n",
        "!pip3 install --upgrade --user folium\n",
        "import requests\n",
        "import json\n",
        "import time\n",
        "import zipfile\n",
        "import io\n",
        "from bs4 import BeautifulSoup\n",
        "!pip install geocoder\n",
        "import geocoder"
      ],
      "execution_count": 1,
      "outputs": [
        {
          "output_type": "stream",
          "text": [
            "Requirement already satisfied: folium in /usr/local/lib/python3.7/dist-packages (0.8.3)\n",
            "Collecting folium\n",
            "  Downloading folium-0.12.1-py2.py3-none-any.whl (94 kB)\n",
            "\u001b[K     |████████████████████████████████| 94 kB 2.1 MB/s \n",
            "\u001b[?25hRequirement already satisfied: requests in /usr/local/lib/python3.7/dist-packages (from folium) (2.23.0)\n",
            "Requirement already satisfied: branca>=0.3.0 in /usr/local/lib/python3.7/dist-packages (from folium) (0.4.2)\n",
            "Requirement already satisfied: numpy in /usr/local/lib/python3.7/dist-packages (from folium) (1.19.5)\n",
            "Requirement already satisfied: jinja2>=2.9 in /usr/local/lib/python3.7/dist-packages (from folium) (2.11.3)\n",
            "Requirement already satisfied: MarkupSafe>=0.23 in /usr/local/lib/python3.7/dist-packages (from jinja2>=2.9->folium) (2.0.1)\n",
            "Requirement already satisfied: chardet<4,>=3.0.2 in /usr/local/lib/python3.7/dist-packages (from requests->folium) (3.0.4)\n",
            "Requirement already satisfied: idna<3,>=2.5 in /usr/local/lib/python3.7/dist-packages (from requests->folium) (2.10)\n",
            "Requirement already satisfied: certifi>=2017.4.17 in /usr/local/lib/python3.7/dist-packages (from requests->folium) (2021.5.30)\n",
            "Requirement already satisfied: urllib3!=1.25.0,!=1.25.1,<1.26,>=1.21.1 in /usr/local/lib/python3.7/dist-packages (from requests->folium) (1.24.3)\n",
            "Installing collected packages: folium\n",
            "\u001b[31mERROR: pip's dependency resolver does not currently take into account all the packages that are installed. This behaviour is the source of the following dependency conflicts.\n",
            "datascience 0.10.6 requires folium==0.2.1, but you have folium 0.12.1 which is incompatible.\u001b[0m\n",
            "Successfully installed folium-0.12.1\n",
            "Collecting geocoder\n",
            "  Downloading geocoder-1.38.1-py2.py3-none-any.whl (98 kB)\n",
            "\u001b[K     |████████████████████████████████| 98 kB 3.4 MB/s \n",
            "\u001b[?25hRequirement already satisfied: requests in /usr/local/lib/python3.7/dist-packages (from geocoder) (2.23.0)\n",
            "Requirement already satisfied: click in /usr/local/lib/python3.7/dist-packages (from geocoder) (7.1.2)\n",
            "Requirement already satisfied: future in /usr/local/lib/python3.7/dist-packages (from geocoder) (0.16.0)\n",
            "Requirement already satisfied: six in /usr/local/lib/python3.7/dist-packages (from geocoder) (1.15.0)\n",
            "Collecting ratelim\n",
            "  Downloading ratelim-0.1.6-py2.py3-none-any.whl (4.0 kB)\n",
            "Requirement already satisfied: decorator in /usr/local/lib/python3.7/dist-packages (from ratelim->geocoder) (4.4.2)\n",
            "Requirement already satisfied: chardet<4,>=3.0.2 in /usr/local/lib/python3.7/dist-packages (from requests->geocoder) (3.0.4)\n",
            "Requirement already satisfied: certifi>=2017.4.17 in /usr/local/lib/python3.7/dist-packages (from requests->geocoder) (2021.5.30)\n",
            "Requirement already satisfied: urllib3!=1.25.0,!=1.25.1,<1.26,>=1.21.1 in /usr/local/lib/python3.7/dist-packages (from requests->geocoder) (1.24.3)\n",
            "Requirement already satisfied: idna<3,>=2.5 in /usr/local/lib/python3.7/dist-packages (from requests->geocoder) (2.10)\n",
            "Installing collected packages: ratelim, geocoder\n",
            "Successfully installed geocoder-1.38.1 ratelim-0.1.6\n"
          ],
          "name": "stdout"
        }
      ]
    },
    {
      "cell_type": "code",
      "metadata": {
        "colab": {
          "base_uri": "https://localhost:8080/"
        },
        "id": "zgDFB839KVF0",
        "outputId": "d1554f9e-78ea-48bb-dd5b-861329f1dad3"
      },
      "source": [
        "from google.colab import drive\n",
        "drive.mount('/content/drive')"
      ],
      "execution_count": 2,
      "outputs": [
        {
          "output_type": "stream",
          "text": [
            "Drive already mounted at /content/drive; to attempt to forcibly remount, call drive.mount(\"/content/drive\", force_remount=True).\n"
          ],
          "name": "stdout"
        }
      ]
    },
    {
      "cell_type": "code",
      "metadata": {
        "colab": {
          "base_uri": "https://localhost:8080/",
          "height": 435
        },
        "id": "BsUbtjiZSUBD",
        "outputId": "757d23eb-9ac8-4020-8b3b-2d499f3595d8"
      },
      "source": [
        "rest_data = pd.read_csv('/content/drive/MyDrive/Colab Notebooks/dataset_restaurants/rest_data.csv')\n",
        "display(rest_data.head())\n",
        "rest_data.info()"
      ],
      "execution_count": 3,
      "outputs": [
        {
          "output_type": "display_data",
          "data": {
            "text/html": [
              "<div>\n",
              "<style scoped>\n",
              "    .dataframe tbody tr th:only-of-type {\n",
              "        vertical-align: middle;\n",
              "    }\n",
              "\n",
              "    .dataframe tbody tr th {\n",
              "        vertical-align: top;\n",
              "    }\n",
              "\n",
              "    .dataframe thead th {\n",
              "        text-align: right;\n",
              "    }\n",
              "</style>\n",
              "<table border=\"1\" class=\"dataframe\">\n",
              "  <thead>\n",
              "    <tr style=\"text-align: right;\">\n",
              "      <th></th>\n",
              "      <th>id</th>\n",
              "      <th>object_name</th>\n",
              "      <th>chain</th>\n",
              "      <th>object_type</th>\n",
              "      <th>address</th>\n",
              "      <th>number</th>\n",
              "    </tr>\n",
              "  </thead>\n",
              "  <tbody>\n",
              "    <tr>\n",
              "      <th>0</th>\n",
              "      <td>151635</td>\n",
              "      <td>СМЕТАНА</td>\n",
              "      <td>нет</td>\n",
              "      <td>кафе</td>\n",
              "      <td>город Москва, улица Егора Абакумова, дом 9</td>\n",
              "      <td>48</td>\n",
              "    </tr>\n",
              "    <tr>\n",
              "      <th>1</th>\n",
              "      <td>77874</td>\n",
              "      <td>Родник</td>\n",
              "      <td>нет</td>\n",
              "      <td>кафе</td>\n",
              "      <td>город Москва, улица Талалихина, дом 2/1, корпус 1</td>\n",
              "      <td>35</td>\n",
              "    </tr>\n",
              "    <tr>\n",
              "      <th>2</th>\n",
              "      <td>24309</td>\n",
              "      <td>Кафе «Академия»</td>\n",
              "      <td>нет</td>\n",
              "      <td>кафе</td>\n",
              "      <td>город Москва, Абельмановская улица, дом 6</td>\n",
              "      <td>95</td>\n",
              "    </tr>\n",
              "    <tr>\n",
              "      <th>3</th>\n",
              "      <td>21894</td>\n",
              "      <td>ПИЦЦЕТОРИЯ</td>\n",
              "      <td>да</td>\n",
              "      <td>кафе</td>\n",
              "      <td>город Москва, Абрамцевская улица, дом 1</td>\n",
              "      <td>40</td>\n",
              "    </tr>\n",
              "    <tr>\n",
              "      <th>4</th>\n",
              "      <td>119365</td>\n",
              "      <td>Кафе «Вишневая метель»</td>\n",
              "      <td>нет</td>\n",
              "      <td>кафе</td>\n",
              "      <td>город Москва, Абрамцевская улица, дом 9, корпус 1</td>\n",
              "      <td>50</td>\n",
              "    </tr>\n",
              "  </tbody>\n",
              "</table>\n",
              "</div>"
            ],
            "text/plain": [
              "       id  ... number\n",
              "0  151635  ...     48\n",
              "1   77874  ...     35\n",
              "2   24309  ...     95\n",
              "3   21894  ...     40\n",
              "4  119365  ...     50\n",
              "\n",
              "[5 rows x 6 columns]"
            ]
          },
          "metadata": {}
        },
        {
          "output_type": "stream",
          "text": [
            "<class 'pandas.core.frame.DataFrame'>\n",
            "RangeIndex: 15366 entries, 0 to 15365\n",
            "Data columns (total 6 columns):\n",
            " #   Column       Non-Null Count  Dtype \n",
            "---  ------       --------------  ----- \n",
            " 0   id           15366 non-null  int64 \n",
            " 1   object_name  15366 non-null  object\n",
            " 2   chain        15366 non-null  object\n",
            " 3   object_type  15366 non-null  object\n",
            " 4   address      15366 non-null  object\n",
            " 5   number       15366 non-null  int64 \n",
            "dtypes: int64(2), object(4)\n",
            "memory usage: 720.4+ KB\n"
          ],
          "name": "stdout"
        }
      ]
    },
    {
      "cell_type": "markdown",
      "metadata": {
        "id": "ev3ZYnmIKGKn"
      },
      "source": [
        "В нашем распоряжении данные о 15366 объектах общепита Москвы: уникальный идентификатор, название, принадлежность к сети, тип заведения, его адрес и вместимость.\n",
        "\n",
        "Проверим данные на корректность."
      ]
    },
    {
      "cell_type": "markdown",
      "metadata": {
        "id": "IUZkx7Z7LQtW"
      },
      "source": [
        "## Предобработка данных <a id=\"preprocessing\"></a>"
      ]
    },
    {
      "cell_type": "code",
      "metadata": {
        "colab": {
          "base_uri": "https://localhost:8080/"
        },
        "id": "o5_VsfmSLU1g",
        "outputId": "07a5a8b0-e734-4924-974a-e5d8c1a8d856"
      },
      "source": [
        "\n",
        "print('В датасете {} заведений без посадочных мест.'.format(rest_data[rest_data['number'] == 0]['number'].count()))"
      ],
      "execution_count": 4,
      "outputs": [
        {
          "output_type": "stream",
          "text": [
            "В датасете 1621 заведений без посадочных мест.\n"
          ],
          "name": "stdout"
        }
      ]
    },
    {
      "cell_type": "markdown",
      "metadata": {
        "id": "CDfd_GD1NGcF"
      },
      "source": [
        "Посмотрим, не ошибка ли это."
      ]
    },
    {
      "cell_type": "code",
      "metadata": {
        "colab": {
          "base_uri": "https://localhost:8080/",
          "height": 204
        },
        "id": "tfTXOghjNA6S",
        "outputId": "2e32990f-e96f-4ffc-9daf-7d02e0103602"
      },
      "source": [
        "rest_data[rest_data['number'] == 0].head()"
      ],
      "execution_count": 5,
      "outputs": [
        {
          "output_type": "execute_result",
          "data": {
            "text/html": [
              "<div>\n",
              "<style scoped>\n",
              "    .dataframe tbody tr th:only-of-type {\n",
              "        vertical-align: middle;\n",
              "    }\n",
              "\n",
              "    .dataframe tbody tr th {\n",
              "        vertical-align: top;\n",
              "    }\n",
              "\n",
              "    .dataframe thead th {\n",
              "        text-align: right;\n",
              "    }\n",
              "</style>\n",
              "<table border=\"1\" class=\"dataframe\">\n",
              "  <thead>\n",
              "    <tr style=\"text-align: right;\">\n",
              "      <th></th>\n",
              "      <th>id</th>\n",
              "      <th>object_name</th>\n",
              "      <th>chain</th>\n",
              "      <th>object_type</th>\n",
              "      <th>address</th>\n",
              "      <th>number</th>\n",
              "    </tr>\n",
              "  </thead>\n",
              "  <tbody>\n",
              "    <tr>\n",
              "      <th>137</th>\n",
              "      <td>115498</td>\n",
              "      <td>Пекарня &amp; Донер</td>\n",
              "      <td>нет</td>\n",
              "      <td>закусочная</td>\n",
              "      <td>город Москва, Бутырская улица, дом 9, корпус 2</td>\n",
              "      <td>0</td>\n",
              "    </tr>\n",
              "    <tr>\n",
              "      <th>154</th>\n",
              "      <td>152556</td>\n",
              "      <td>Шаурма в пите</td>\n",
              "      <td>нет</td>\n",
              "      <td>предприятие быстрого обслуживания</td>\n",
              "      <td>город Москва, Варшавское шоссе, дом 72, корпус 2</td>\n",
              "      <td>0</td>\n",
              "    </tr>\n",
              "    <tr>\n",
              "      <th>157</th>\n",
              "      <td>149568</td>\n",
              "      <td>Суши</td>\n",
              "      <td>нет</td>\n",
              "      <td>предприятие быстрого обслуживания</td>\n",
              "      <td>город Москва, улица Маршала Василевского, дом ...</td>\n",
              "      <td>0</td>\n",
              "    </tr>\n",
              "    <tr>\n",
              "      <th>190</th>\n",
              "      <td>126956</td>\n",
              "      <td>Шаурма, куры-гриль</td>\n",
              "      <td>нет</td>\n",
              "      <td>предприятие быстрого обслуживания</td>\n",
              "      <td>город Москва, 1-я Владимирская улица, дом 21</td>\n",
              "      <td>0</td>\n",
              "    </tr>\n",
              "    <tr>\n",
              "      <th>195</th>\n",
              "      <td>149531</td>\n",
              "      <td>Шаурма, куры-гриль</td>\n",
              "      <td>нет</td>\n",
              "      <td>предприятие быстрого обслуживания</td>\n",
              "      <td>город Москва, 2-я Владимирская улица, дом 44/10</td>\n",
              "      <td>0</td>\n",
              "    </tr>\n",
              "  </tbody>\n",
              "</table>\n",
              "</div>"
            ],
            "text/plain": [
              "         id  ... number\n",
              "137  115498  ...      0\n",
              "154  152556  ...      0\n",
              "157  149568  ...      0\n",
              "190  126956  ...      0\n",
              "195  149531  ...      0\n",
              "\n",
              "[5 rows x 6 columns]"
            ]
          },
          "metadata": {},
          "execution_count": 5
        }
      ]
    },
    {
      "cell_type": "code",
      "metadata": {
        "colab": {
          "base_uri": "https://localhost:8080/",
          "height": 204
        },
        "id": "EEjaQhw5NQZq",
        "outputId": "90766f12-eebf-48d8-bfa0-e6ddc9b28f49"
      },
      "source": [
        "rest_data[rest_data['number'] == 0]['object_type'].unique()\n",
        "pd.set_option('display.max_colwidth', 1)\n",
        "rest_data.query('number == 0 and object_type in (\"ресторан\")').tail()"
      ],
      "execution_count": 6,
      "outputs": [
        {
          "output_type": "execute_result",
          "data": {
            "text/html": [
              "<div>\n",
              "<style scoped>\n",
              "    .dataframe tbody tr th:only-of-type {\n",
              "        vertical-align: middle;\n",
              "    }\n",
              "\n",
              "    .dataframe tbody tr th {\n",
              "        vertical-align: top;\n",
              "    }\n",
              "\n",
              "    .dataframe thead th {\n",
              "        text-align: right;\n",
              "    }\n",
              "</style>\n",
              "<table border=\"1\" class=\"dataframe\">\n",
              "  <thead>\n",
              "    <tr style=\"text-align: right;\">\n",
              "      <th></th>\n",
              "      <th>id</th>\n",
              "      <th>object_name</th>\n",
              "      <th>chain</th>\n",
              "      <th>object_type</th>\n",
              "      <th>address</th>\n",
              "      <th>number</th>\n",
              "    </tr>\n",
              "  </thead>\n",
              "  <tbody>\n",
              "    <tr>\n",
              "      <th>15084</th>\n",
              "      <td>214843</td>\n",
              "      <td>CoffeeShop</td>\n",
              "      <td>да</td>\n",
              "      <td>ресторан</td>\n",
              "      <td>город Москва, Кутузовский проспект, дом 57</td>\n",
              "      <td>0</td>\n",
              "    </tr>\n",
              "    <tr>\n",
              "      <th>15105</th>\n",
              "      <td>219032</td>\n",
              "      <td>Бургер Кинг</td>\n",
              "      <td>да</td>\n",
              "      <td>ресторан</td>\n",
              "      <td>город Москва, улица Вавилова, дом 3</td>\n",
              "      <td>0</td>\n",
              "    </tr>\n",
              "    <tr>\n",
              "      <th>15108</th>\n",
              "      <td>210192</td>\n",
              "      <td>Бургер Кинг</td>\n",
              "      <td>да</td>\n",
              "      <td>ресторан</td>\n",
              "      <td>город Москва, поселение Московский, Киевское шоссе, 23-й километр, дом 1, строение 1</td>\n",
              "      <td>0</td>\n",
              "    </tr>\n",
              "    <tr>\n",
              "      <th>15236</th>\n",
              "      <td>219130</td>\n",
              "      <td>KFC</td>\n",
              "      <td>да</td>\n",
              "      <td>ресторан</td>\n",
              "      <td>город Москва, улица Вавилова, дом 3</td>\n",
              "      <td>0</td>\n",
              "    </tr>\n",
              "    <tr>\n",
              "      <th>15255</th>\n",
              "      <td>218284</td>\n",
              "      <td>Marmalato</td>\n",
              "      <td>да</td>\n",
              "      <td>ресторан</td>\n",
              "      <td>город Москва, Хорошёвское шоссе, дом 27</td>\n",
              "      <td>0</td>\n",
              "    </tr>\n",
              "  </tbody>\n",
              "</table>\n",
              "</div>"
            ],
            "text/plain": [
              "           id  ... number\n",
              "15084  214843  ...  0    \n",
              "15105  219032  ...  0    \n",
              "15108  210192  ...  0    \n",
              "15236  219130  ...  0    \n",
              "15255  218284  ...  0    \n",
              "\n",
              "[5 rows x 6 columns]"
            ]
          },
          "metadata": {},
          "execution_count": 6
        }
      ]
    },
    {
      "cell_type": "markdown",
      "metadata": {
        "id": "y9kHRHXQNMsF"
      },
      "source": [
        "Заведения без посадочных мест - это или точки быстрого питания (шаурма, куры-гриль, пекарня), или кафе в торговых центрах (фуд-корты). \n",
        "\n",
        "Поскольку это не ошибка, удалять такие строки нет неободимости.\n"
      ]
    },
    {
      "cell_type": "markdown",
      "metadata": {
        "id": "qUUSh2WMuTg4"
      },
      "source": [
        "Проверим данные на дубликаты."
      ]
    },
    {
      "cell_type": "code",
      "metadata": {
        "colab": {
          "base_uri": "https://localhost:8080/"
        },
        "id": "ZVAPwKWwT2L-",
        "outputId": "fbe840b1-4cc4-46c3-b789-42479a8381ea"
      },
      "source": [
        "print('В таблице {} дублирующихся строк.'.format(rest_data.drop('id', axis = 1).duplicated().sum()))"
      ],
      "execution_count": 7,
      "outputs": [
        {
          "output_type": "stream",
          "text": [
            "В таблице 82 дублирующихся строк.\n"
          ],
          "name": "stdout"
        }
      ]
    },
    {
      "cell_type": "markdown",
      "metadata": {
        "id": "k9FgM-8hjAye"
      },
      "source": [
        "Дубликатов по уникальному идентификатору нет, но есть заведения с одинаковыми характеристиками, находящиеся по одному адресу. Проверим, что это за объекты."
      ]
    },
    {
      "cell_type": "code",
      "metadata": {
        "colab": {
          "base_uri": "https://localhost:8080/",
          "height": 359
        },
        "id": "BLA9ny-FVCq4",
        "outputId": "c009a49f-f7dd-4ccf-f395-bccb60646eec"
      },
      "source": [
        "#выводим список дубликатов (вспомогательная строка)\n",
        "rest_data[rest_data.drop('id', axis = 1).duplicated()]\n",
        "#берем из списка один адрес для проверки\n",
        "rest_data.query('address in (\"город Москва, Беловежская улица, дом 67\", \"город Москва, Багратионовский проезд, дом 7, корпус 1\")')"
      ],
      "execution_count": 8,
      "outputs": [
        {
          "output_type": "execute_result",
          "data": {
            "text/html": [
              "<div>\n",
              "<style scoped>\n",
              "    .dataframe tbody tr th:only-of-type {\n",
              "        vertical-align: middle;\n",
              "    }\n",
              "\n",
              "    .dataframe tbody tr th {\n",
              "        vertical-align: top;\n",
              "    }\n",
              "\n",
              "    .dataframe thead th {\n",
              "        text-align: right;\n",
              "    }\n",
              "</style>\n",
              "<table border=\"1\" class=\"dataframe\">\n",
              "  <thead>\n",
              "    <tr style=\"text-align: right;\">\n",
              "      <th></th>\n",
              "      <th>id</th>\n",
              "      <th>object_name</th>\n",
              "      <th>chain</th>\n",
              "      <th>object_type</th>\n",
              "      <th>address</th>\n",
              "      <th>number</th>\n",
              "    </tr>\n",
              "  </thead>\n",
              "  <tbody>\n",
              "    <tr>\n",
              "      <th>4430</th>\n",
              "      <td>23741</td>\n",
              "      <td>СТОЛОВАЯ ГБОУ города Москвы № 384</td>\n",
              "      <td>нет</td>\n",
              "      <td>буфет</td>\n",
              "      <td>город Москва, Беловежская улица, дом 67</td>\n",
              "      <td>100</td>\n",
              "    </tr>\n",
              "    <tr>\n",
              "      <th>4431</th>\n",
              "      <td>23759</td>\n",
              "      <td>СТОЛОВАЯ ГБОУ города Москвы № 384</td>\n",
              "      <td>нет</td>\n",
              "      <td>буфет</td>\n",
              "      <td>город Москва, Беловежская улица, дом 67</td>\n",
              "      <td>100</td>\n",
              "    </tr>\n",
              "    <tr>\n",
              "      <th>5057</th>\n",
              "      <td>20018</td>\n",
              "      <td>LIFT</td>\n",
              "      <td>нет</td>\n",
              "      <td>кафе</td>\n",
              "      <td>город Москва, Багратионовский проезд, дом 7, корпус 1</td>\n",
              "      <td>25</td>\n",
              "    </tr>\n",
              "    <tr>\n",
              "      <th>5058</th>\n",
              "      <td>20019</td>\n",
              "      <td>LIFT</td>\n",
              "      <td>нет</td>\n",
              "      <td>кафе</td>\n",
              "      <td>город Москва, Багратионовский проезд, дом 7, корпус 1</td>\n",
              "      <td>20</td>\n",
              "    </tr>\n",
              "    <tr>\n",
              "      <th>5059</th>\n",
              "      <td>20021</td>\n",
              "      <td>LIFT</td>\n",
              "      <td>нет</td>\n",
              "      <td>кафе</td>\n",
              "      <td>город Москва, Багратионовский проезд, дом 7, корпус 1</td>\n",
              "      <td>20</td>\n",
              "    </tr>\n",
              "    <tr>\n",
              "      <th>5060</th>\n",
              "      <td>20015</td>\n",
              "      <td>LIFT</td>\n",
              "      <td>нет</td>\n",
              "      <td>кафе</td>\n",
              "      <td>город Москва, Багратионовский проезд, дом 7, корпус 1</td>\n",
              "      <td>40</td>\n",
              "    </tr>\n",
              "    <tr>\n",
              "      <th>5068</th>\n",
              "      <td>20024</td>\n",
              "      <td>LIFT</td>\n",
              "      <td>нет</td>\n",
              "      <td>кафе</td>\n",
              "      <td>город Москва, Багратионовский проезд, дом 7, корпус 1</td>\n",
              "      <td>10</td>\n",
              "    </tr>\n",
              "    <tr>\n",
              "      <th>9104</th>\n",
              "      <td>160766</td>\n",
              "      <td>Прайм-кафе</td>\n",
              "      <td>да</td>\n",
              "      <td>кафе</td>\n",
              "      <td>город Москва, Багратионовский проезд, дом 7, корпус 1</td>\n",
              "      <td>39</td>\n",
              "    </tr>\n",
              "    <tr>\n",
              "      <th>12731</th>\n",
              "      <td>192931</td>\n",
              "      <td>Lift</td>\n",
              "      <td>нет</td>\n",
              "      <td>кафе</td>\n",
              "      <td>город Москва, Багратионовский проезд, дом 7, корпус 1</td>\n",
              "      <td>5</td>\n",
              "    </tr>\n",
              "    <tr>\n",
              "      <th>12732</th>\n",
              "      <td>192921</td>\n",
              "      <td>LIFT</td>\n",
              "      <td>нет</td>\n",
              "      <td>кафе</td>\n",
              "      <td>город Москва, Багратионовский проезд, дом 7, корпус 1</td>\n",
              "      <td>3</td>\n",
              "    </tr>\n",
              "  </tbody>\n",
              "</table>\n",
              "</div>"
            ],
            "text/plain": [
              "           id  ... number\n",
              "4430   23741   ...  100  \n",
              "4431   23759   ...  100  \n",
              "5057   20018   ...  25   \n",
              "5058   20019   ...  20   \n",
              "5059   20021   ...  20   \n",
              "5060   20015   ...  40   \n",
              "5068   20024   ...  10   \n",
              "9104   160766  ...  39   \n",
              "12731  192931  ...  5    \n",
              "12732  192921  ...  3    \n",
              "\n",
              "[10 rows x 6 columns]"
            ]
          },
          "metadata": {},
          "execution_count": 8
        }
      ]
    },
    {
      "cell_type": "markdown",
      "metadata": {
        "id": "Tw48Xeh2kJcO"
      },
      "source": [
        "Адреса, где дублируются объекты питания - или учебные заведения, или торговые центры. Вполне возможно, что в школах/ВУЗах по несколько одинаковых столовых. И кафе в одном ТЦ может иметь несколько точек, которые открываются, например, в зависимости от сезона (например, летние террасы).\n",
        "Дубликатов не так много, они не повлияют на исследование. Удалять их не будем.\n"
      ]
    },
    {
      "cell_type": "markdown",
      "metadata": {
        "id": "25SNCyNemSgG"
      },
      "source": [
        "Обнаружилась другая проблема - одно и то же название встречается в разных регистрах. Возможно, имеет место и разное написание одного и того же сетевого кафе.\n",
        "\n",
        "Приведем все названия к нижнему регистру."
      ]
    },
    {
      "cell_type": "code",
      "metadata": {
        "colab": {
          "base_uri": "https://localhost:8080/",
          "height": 204
        },
        "id": "aI85MpLHmmw7",
        "outputId": "dddc8188-4986-4b56-c696-e0f992c20a25"
      },
      "source": [
        "rest_data['object_name'] = rest_data['object_name'].str.lower()\n",
        "rest_data.head()"
      ],
      "execution_count": 9,
      "outputs": [
        {
          "output_type": "execute_result",
          "data": {
            "text/html": [
              "<div>\n",
              "<style scoped>\n",
              "    .dataframe tbody tr th:only-of-type {\n",
              "        vertical-align: middle;\n",
              "    }\n",
              "\n",
              "    .dataframe tbody tr th {\n",
              "        vertical-align: top;\n",
              "    }\n",
              "\n",
              "    .dataframe thead th {\n",
              "        text-align: right;\n",
              "    }\n",
              "</style>\n",
              "<table border=\"1\" class=\"dataframe\">\n",
              "  <thead>\n",
              "    <tr style=\"text-align: right;\">\n",
              "      <th></th>\n",
              "      <th>id</th>\n",
              "      <th>object_name</th>\n",
              "      <th>chain</th>\n",
              "      <th>object_type</th>\n",
              "      <th>address</th>\n",
              "      <th>number</th>\n",
              "    </tr>\n",
              "  </thead>\n",
              "  <tbody>\n",
              "    <tr>\n",
              "      <th>0</th>\n",
              "      <td>151635</td>\n",
              "      <td>сметана</td>\n",
              "      <td>нет</td>\n",
              "      <td>кафе</td>\n",
              "      <td>город Москва, улица Егора Абакумова, дом 9</td>\n",
              "      <td>48</td>\n",
              "    </tr>\n",
              "    <tr>\n",
              "      <th>1</th>\n",
              "      <td>77874</td>\n",
              "      <td>родник</td>\n",
              "      <td>нет</td>\n",
              "      <td>кафе</td>\n",
              "      <td>город Москва, улица Талалихина, дом 2/1, корпус 1</td>\n",
              "      <td>35</td>\n",
              "    </tr>\n",
              "    <tr>\n",
              "      <th>2</th>\n",
              "      <td>24309</td>\n",
              "      <td>кафе «академия»</td>\n",
              "      <td>нет</td>\n",
              "      <td>кафе</td>\n",
              "      <td>город Москва, Абельмановская улица, дом 6</td>\n",
              "      <td>95</td>\n",
              "    </tr>\n",
              "    <tr>\n",
              "      <th>3</th>\n",
              "      <td>21894</td>\n",
              "      <td>пиццетория</td>\n",
              "      <td>да</td>\n",
              "      <td>кафе</td>\n",
              "      <td>город Москва, Абрамцевская улица, дом 1</td>\n",
              "      <td>40</td>\n",
              "    </tr>\n",
              "    <tr>\n",
              "      <th>4</th>\n",
              "      <td>119365</td>\n",
              "      <td>кафе «вишневая метель»</td>\n",
              "      <td>нет</td>\n",
              "      <td>кафе</td>\n",
              "      <td>город Москва, Абрамцевская улица, дом 9, корпус 1</td>\n",
              "      <td>50</td>\n",
              "    </tr>\n",
              "  </tbody>\n",
              "</table>\n",
              "</div>"
            ],
            "text/plain": [
              "       id  ... number\n",
              "0  151635  ...  48   \n",
              "1  77874   ...  35   \n",
              "2  24309   ...  95   \n",
              "3  21894   ...  40   \n",
              "4  119365  ...  50   \n",
              "\n",
              "[5 rows x 6 columns]"
            ]
          },
          "metadata": {},
          "execution_count": 9
        }
      ]
    },
    {
      "cell_type": "code",
      "metadata": {
        "colab": {
          "base_uri": "https://localhost:8080/"
        },
        "id": "KIuAx8osuD9O",
        "outputId": "afa15df7-4948-405f-efea-9e1ba7a0f632"
      },
      "source": [
        "print('Уникальных названий в таблице:', len(rest_data['object_name'].sort_values().unique()))"
      ],
      "execution_count": 10,
      "outputs": [
        {
          "output_type": "stream",
          "text": [
            "Уникальных названий в таблице: 9924\n"
          ],
          "name": "stdout"
        }
      ]
    },
    {
      "cell_type": "code",
      "metadata": {
        "id": "2nN0jiM7pR_i"
      },
      "source": [
        "#Вывод первых 200 униклаьных названий для поиска дубликатов, закомментирован для экономии места\n",
        "#rest_data['object_name'].sort_values().unique()[:200]"
      ],
      "execution_count": 11,
      "outputs": []
    },
    {
      "cell_type": "markdown",
      "metadata": {
        "id": "D7dr790Ss-Nb"
      },
      "source": [
        "В уникальных названиях есть много дубликатов с разным написанием, например: 'black star burger', 'black star burger prime', 'black star burgers'. \n",
        "\n",
        "Для нашего исследования критичны такие ошибки в написании названий крупных сетевых заведений. Отсортируем объекты по количеству точек в сети и проверим правильность написания."
      ]
    },
    {
      "cell_type": "markdown",
      "metadata": {
        "id": "vfWR4x86wuIc"
      },
      "source": [
        "Уберем из названий все виды кавычек."
      ]
    },
    {
      "cell_type": "code",
      "metadata": {
        "id": "XhdVreHBxApJ"
      },
      "source": [
        "rest_data['object_name'] = rest_data['object_name'].str.replace('\"', '')\n",
        "rest_data['object_name'] = rest_data['object_name'].str.replace('«', '')\n",
        "rest_data['object_name'] = rest_data['object_name'].str.replace('»', '')\n",
        "rest_data['object_name'] = rest_data['object_name'].str.replace('\\'', '')"
      ],
      "execution_count": 12,
      "outputs": []
    },
    {
      "cell_type": "code",
      "metadata": {
        "colab": {
          "base_uri": "https://localhost:8080/"
        },
        "id": "zPBqCTZyyx61",
        "outputId": "c6814563-7c5f-4ec4-a184-9bb5476d5981"
      },
      "source": [
        "print('Уникальных названий в таблице после удаления кавычек:', len(rest_data['object_name'].sort_values().unique()))"
      ],
      "execution_count": 13,
      "outputs": [
        {
          "output_type": "stream",
          "text": [
            "Уникальных названий в таблице после удаления кавычек: 9836\n"
          ],
          "name": "stdout"
        }
      ]
    },
    {
      "cell_type": "markdown",
      "metadata": {
        "id": "82zyGi4loZ7g"
      },
      "source": [
        "Самая сложная часть, которую придется выполнить вручную - поиск распространенных различий в написаниях одной и той же сети питания. Отсортируем названия по частоте появления в таблице и осуществим замену."
      ]
    },
    {
      "cell_type": "code",
      "metadata": {
        "colab": {
          "base_uri": "https://localhost:8080/"
        },
        "id": "ZNH4_2Wbtusu",
        "scrolled": true,
        "outputId": "a9417aaf-0b97-4d10-944a-69bc87de1076"
      },
      "source": [
        "rest_data.groupby('object_name').agg({'number':'count'}).reset_index().sort_values(by = 'number', ascending = False).head(200)['object_name'].unique()"
      ],
      "execution_count": 14,
      "outputs": [
        {
          "output_type": "execute_result",
          "data": {
            "text/plain": [
              "array(['столовая', 'кафе', 'шаурма', 'шоколадница', 'kfc', 'макдоналдс',\n",
              "       'бургер кинг', 'теремок', 'доминос пицца', 'крошка картошка',\n",
              "       'буфет', 'пекарня', 'милти', 'суши wok', 'папа джонс',\n",
              "       'додо пицца', 'кофе с собой', 'школьно-базовая столовая',\n",
              "       'чайхона №1', 'донер кебаб', 'кафетерий', 'хинкальная', 'якитория',\n",
              "       'выпечка', 'кофе хаус', 'subway', 'кофейня', 'тануки',\n",
              "       'хлеб насущный', 'starbucks', 'прайм стар', 'бистро', 'cofix',\n",
              "       'иль патио', 'пиццерия', 'му-му', 'мята lounge', 'кулинария',\n",
              "       'бар', 'старбакс', 'донер', 'сабвей', 'андерсон',\n",
              "       'кафе хинкальная', 'пицца хат', 'пицца паоло', 'кафе шоколадница',\n",
              "       'комбинат питания мгту им.н.э.баумана', 'чайхона',\n",
              "       'кулинарная лавка братьев караваевых', 'кофе', 'вьетнамская кухня',\n",
              "       'французская пекарня', 'алло пицца', 'кофемания', 'азбука вкуса',\n",
              "       'сушишоп', 'столовая при гбоу школа 171', 'школа', 'стардогs',\n",
              "       'чайхана', 'ресторан тануки', 'кружка', 'суши вок', 'закусочная',\n",
              "       'шаурма, выпечка', 'суши', 'суши сет', 'кальянная', 'штолле',\n",
              "       'пиццерия папа джонс', 'lift', 'каменев василий владимирович',\n",
              "       'волконский', 'столовая при школе № 2107', 'баскин роббинс',\n",
              "       'шаверма', 'кафе kfc', 'кафе теремок', 'столовая ооо вито-1',\n",
              "       'столовая при гбоу школа 1231', 'ваби-саби', 'кебаб', 'кп мэи',\n",
              "       'столовая (закрытое)', 'джон джоли', 'прайм', 'столовая при школе',\n",
              "       'кофейня шоколадница', 'грабли', 'корчма тарас бульба',\n",
              "       'вареничная №1', 'даблби', 'иль патио планета суши',\n",
              "       'пицца экспресс', 'гриль хаус', 'москальян', 'cinnabon', 'лиор',\n",
              "       'колбасофф', 'лобби-бар', 'братья караваевы',\n",
              "       'французская выпечка', 'пивной бар', 'самарканд', 'воккер',\n",
              "       'то да сё', 'ресторан', 'брусника', 'правда кофе', 'вкус востока',\n",
              "       'ресторан макдоналдс', 'суши стор', 'ростикс kfc', 'мята',\n",
              "       'кафе на азс', 'чебуречная', 'донеретт', 'dominos pizza',\n",
              "       'кафе якитория', 'кафе му-му', 'осетинские пироги', 'урюк',\n",
              "       'прайм-кафе', 'сушиstore', 'столовая гбоу курчатовская школа',\n",
              "       'кафе-столовая', 'пекарня хлебница', 'ташир пицца',\n",
              "       'шаурма, куры-гриль', 'три правила', 'кафе бистро', 'гп кп мгаи',\n",
              "       'шаурмания', 'krispy creme', 'бургер кинг burger king',\n",
              "       'джаганнат', 'донер-кебаб', 'столовая гбоу школа № 1517',\n",
              "       'столовая гбоу школа № 1560 лидер', 'вьеткафе', 'дабл би',\n",
              "       'пекарня 24', 'руккола', 'шантимель', 'dunkin donuts',\n",
              "       'суши маркет', 'гбоу школа №1468', 'гамбринус', 'быстрое питание',\n",
              "       'тирольские пироги', 'чебуречная ссср',\n",
              "       'кулинарная лавка братьев караваевых братья караваевы', 'академия',\n",
              "       'менза', 'шашлычная', 'кафе уют', 'тандыр', 'маки-маки',\n",
              "       'дагестанская лавка', 'выпечка, шаурма', 'ливан-хаус',\n",
              "       'две палочки', 'правdа кофе', 'шикари', 'нияма',\n",
              "       'столовая при школе 2097', 'кафе-пекарня', 'кафе бургер кинг',\n",
              "       'предприятие быстрого питания',\n",
              "       'предприятие быстрого обслуживания макдоналдс', 'кафе андерсон',\n",
              "       'мясо в лаваше', 'пончики', 'сити пицца', 'стардогс',\n",
              "       'гбоу школа № 1598', 'бургер рус', 'мимино', 'горячая выпечка',\n",
              "       'бургерная', 'кафе макдоналдс', 'кебаб хаус', 'silver panda',\n",
              "       'кафе штолле', 'донер хаус', 'донеретто', 'данкин донатс',\n",
              "       'harats pub', 'скалка', 'jeffreys coffee', 'moskalyan',\n",
              "       'магбургер', 'оазис', 'панчо пицца', 'фарш', 'one price coffee',\n",
              "       'павильон кукуруза', 'общественное питание',\n",
              "       'мск московская сеть кальянных'], dtype=object)"
            ]
          },
          "metadata": {},
          "execution_count": 14
        }
      ]
    },
    {
      "cell_type": "code",
      "metadata": {
        "id": "LNcZ_0Ja3t3K"
      },
      "source": [
        "#создаем словари всех встречающихся названий и меняем на самое распространенное\n",
        "#проще было бы с регулярными выражениями и шаблонами, но хорошая мысля приходит опосля\n",
        "\n",
        "burger = ['кафе бургер кинг', 'бургер кинг burger king', 'burgerking', 'ресторан бургер кинг', 'предприятие быстрого обслуживания бургер кинг', 'закусочная бургер кинг', 'кафе-закусочная бургер кинг']\n",
        "mac = ['ресторан макдоналдс', 'предприятие быстрого обслуживания макдоналдс', 'кафе макдоналдс', 'москва - макдоналдс']\n",
        "tanuki = ['ресторан тануки', 'кафе тануки']\n",
        "choko = ['кофейня шоколадница', 'кафе шоколадница', 'шоколадница кофе хаус', 'шоколадница кофемания']\n",
        "kfc = ['ростикс kfc', 'кафе kfc', 'кфс', 'пбо kfc', 'закусочная kfc', 'kfc волгоградский', 'пбо kfc покрышкина', 'предприятие быстрого обслуживания kfc', 'ресторан kfc']\n",
        "dunkin = ['dunkin donats', 'dankin donats']\n",
        "milti = ['точка продажи готовой еды милти', 'милти готовые блюда для здорового питания', 'готовые блюда милти', 'предприятие быстрого обслуживания милти', 'магазин готовой еды милти']\n",
        "karavai = ['кулинарная лавка братьев караваевых братья караваевы', 'кулинарная лавка братьев караваевых']\n",
        "dominos = ['пиццерия доминос пицца', 'dominos pizza', \"доминос пицца\", 'предприятие быстрого обслуживания доминос Пицца', 'ресторан доминос пицца', 'кафе доминос пицца', 'доминос пицца domino,s pizza']\n",
        "starbucks = ['старбакс starbucks', 'кофейня старбакс', 'кафе сабвей старбакс','старбакс', 'кафе кофейня старбакс', 'кофейня старбакс кофе', 'старбакс кофе', 'starbucks, старбакс кофе', 'старбагс', 'кафе starbucks', 'starbucks кофе', 'starbucks']\n",
        "ilpatio = ['иль патио планета суши', 'ресторан иль патио', 'кафе иль патио il patio', 'ресторан планета суши иль патио', 'кафе иль патио', 'иль патио', 'planeta sushi il patio', 'il patio']\n",
        "sushiwok = ['кафе суши вок', 'sushiwok', 'сеть магазинов «суши wok»', 'кафе суши wok', 'кафе сушиwok', 'бар суши wok', 'суши wok']\n",
        "volk = ['кондитерская волконский', 'волконский', 'волконский у дома', 'кондитерская-пекарня волконский', 'пекарня волконский хлеб', 'кондитерская волконский', 'кафе волконский', 'кафе-пекарея волконский']\n",
        "rest_data['object_name'] = rest_data['object_name'].replace(volk, 'волконский')\n",
        "rest_data['object_name'] = rest_data['object_name'].replace(sushiwok, 'суши wok')\n",
        "rest_data['object_name'] = rest_data['object_name'].replace(ilpatio, 'иль патио')\n",
        "rest_data['object_name'] = rest_data['object_name'].replace(dominos, 'доминос пицца')\n",
        "rest_data['object_name'] = rest_data['object_name'].replace(starbucks, 'старбакс')\n",
        "rest_data['object_name'] = rest_data['object_name'].replace(tanuki, 'тануки')\n",
        "rest_data['object_name'] = rest_data['object_name'].replace('кафе андерсон', 'андерсон')\n",
        "rest_data['object_name'] = rest_data['object_name'].replace(kfc, 'kfc')\n",
        "rest_data['object_name'] = rest_data['object_name'].replace(burger, 'бургер кинг')\n",
        "rest_data['object_name'] = rest_data['object_name'].replace(choko, 'шоколадница')\n",
        "rest_data['object_name'] = rest_data['object_name'].replace(dunkin, 'данкин донатс')\n",
        "rest_data['object_name'] = rest_data['object_name'].replace(karavai, 'братья караваевы')\n",
        "rest_data['object_name'] = rest_data['object_name'].replace(mac, 'макдоналдс')\n",
        "rest_data['object_name'] = rest_data['object_name'].replace('дабл би', 'даблби')\n",
        "rest_data['object_name'] = rest_data['object_name'].replace('стардогs', 'стардогс')\n",
        "rest_data['object_name'] = rest_data['object_name'].replace('кафе хинкальная', 'хинкальная')\n",
        "rest_data['object_name'] = rest_data['object_name'].replace('кафе штолле', 'штолле')\n",
        "rest_data['object_name'] = rest_data['object_name'].replace('кафе теремок', 'теремок')\n",
        "rest_data['object_name'] = rest_data['object_name'].replace(milti, 'милти')"
      ],
      "execution_count": 15,
      "outputs": []
    },
    {
      "cell_type": "code",
      "metadata": {
        "colab": {
          "base_uri": "https://localhost:8080/"
        },
        "id": "Mglxg3vj5L8J",
        "outputId": "4d3eaf39-bef7-48a8-ae9f-859f836c9373"
      },
      "source": [
        "print('Уникальных названий в таблице после приведения в соответствие названий:', len(rest_data['object_name'].sort_values().unique()))"
      ],
      "execution_count": 16,
      "outputs": [
        {
          "output_type": "stream",
          "text": [
            "Уникальных названий в таблице после приведения в соответствие названий: 9763\n"
          ],
          "name": "stdout"
        }
      ]
    },
    {
      "cell_type": "code",
      "metadata": {
        "colab": {
          "base_uri": "https://localhost:8080/"
        },
        "id": "c3HjZVi_mZ-Z",
        "outputId": "689c0caa-1544-4afa-c864-cb1b5dcaf941"
      },
      "source": [
        "print('Число уникальных названий в таблице сократилось на', 9924 - len(rest_data['object_name'].sort_values().unique()))"
      ],
      "execution_count": 17,
      "outputs": [
        {
          "output_type": "stream",
          "text": [
            "Число уникальных названий в таблице сократилось на 161\n"
          ],
          "name": "stdout"
        }
      ]
    },
    {
      "cell_type": "markdown",
      "metadata": {
        "id": "KizaO0GlCS1g"
      },
      "source": [
        "Итак, после обработки количество уникальных названий сократилось более чем на 100. \n",
        "\n",
        "Проверка показала, что одно и то же заведение в таблице может относиться к разному типу. Создадим столбец, в котором каждому названию заведения будет соответствовать самый часто встречающийся тип."
      ]
    },
    {
      "cell_type": "code",
      "metadata": {
        "colab": {
          "base_uri": "https://localhost:8080/",
          "height": 204
        },
        "id": "xN2TYOX_DAt_",
        "outputId": "33edc838-5677-4556-fec8-cd09e54fdb1c"
      },
      "source": [
        "#Создаем сводную таблицу с сортировкой по частоте упоминания названий в таблице\n",
        "object_type_pivot = rest_data.pivot_table(index = ['object_name','object_type'], values = 'number', aggfunc = 'count').sort_values(by = 'number', ascending = False).reset_index()\n",
        "#Создаем список названий и наиболее часто упоминающихся типов заведений\n",
        "object_types_list = object_type_pivot.groupby('object_name').agg({'object_type':'first'}).reset_index()\n",
        "object_types_list.columns = ['object_name', 'correct_object_type']\n",
        "object_types_list.head()"
      ],
      "execution_count": 18,
      "outputs": [
        {
          "output_type": "execute_result",
          "data": {
            "text/html": [
              "<div>\n",
              "<style scoped>\n",
              "    .dataframe tbody tr th:only-of-type {\n",
              "        vertical-align: middle;\n",
              "    }\n",
              "\n",
              "    .dataframe tbody tr th {\n",
              "        vertical-align: top;\n",
              "    }\n",
              "\n",
              "    .dataframe thead th {\n",
              "        text-align: right;\n",
              "    }\n",
              "</style>\n",
              "<table border=\"1\" class=\"dataframe\">\n",
              "  <thead>\n",
              "    <tr style=\"text-align: right;\">\n",
              "      <th></th>\n",
              "      <th>object_name</th>\n",
              "      <th>correct_object_type</th>\n",
              "    </tr>\n",
              "  </thead>\n",
              "  <tbody>\n",
              "    <tr>\n",
              "      <th>0</th>\n",
              "      <td>1-й мок</td>\n",
              "      <td>столовая</td>\n",
              "    </tr>\n",
              "    <tr>\n",
              "      <th>1</th>\n",
              "      <td>1-ый московский кадетский корпус</td>\n",
              "      <td>столовая</td>\n",
              "    </tr>\n",
              "    <tr>\n",
              "      <th>2</th>\n",
              "      <td>100 личная столовая</td>\n",
              "      <td>столовая</td>\n",
              "    </tr>\n",
              "    <tr>\n",
              "      <th>3</th>\n",
              "      <td>100 личное кафе</td>\n",
              "      <td>кафе</td>\n",
              "    </tr>\n",
              "    <tr>\n",
              "      <th>4</th>\n",
              "      <td>1001 ночь</td>\n",
              "      <td>ресторан</td>\n",
              "    </tr>\n",
              "  </tbody>\n",
              "</table>\n",
              "</div>"
            ],
            "text/plain": [
              "                        object_name correct_object_type\n",
              "0  1-й мок                           столовая          \n",
              "1  1-ый московский кадетский корпус  столовая          \n",
              "2  100 личная столовая               столовая          \n",
              "3  100 личное кафе                   кафе              \n",
              "4  1001 ночь                         ресторан          "
            ]
          },
          "metadata": {},
          "execution_count": 18
        }
      ]
    },
    {
      "cell_type": "code",
      "metadata": {
        "colab": {
          "base_uri": "https://localhost:8080/",
          "height": 204
        },
        "id": "u0LXnPSgdYlH",
        "outputId": "b1d37cc2-37c5-492b-f419-6a2ca31e1200"
      },
      "source": [
        "rest_data = rest_data.merge(object_types_list, on = 'object_name', how = 'left')\n",
        "rest_data.head()"
      ],
      "execution_count": 19,
      "outputs": [
        {
          "output_type": "execute_result",
          "data": {
            "text/html": [
              "<div>\n",
              "<style scoped>\n",
              "    .dataframe tbody tr th:only-of-type {\n",
              "        vertical-align: middle;\n",
              "    }\n",
              "\n",
              "    .dataframe tbody tr th {\n",
              "        vertical-align: top;\n",
              "    }\n",
              "\n",
              "    .dataframe thead th {\n",
              "        text-align: right;\n",
              "    }\n",
              "</style>\n",
              "<table border=\"1\" class=\"dataframe\">\n",
              "  <thead>\n",
              "    <tr style=\"text-align: right;\">\n",
              "      <th></th>\n",
              "      <th>id</th>\n",
              "      <th>object_name</th>\n",
              "      <th>chain</th>\n",
              "      <th>object_type</th>\n",
              "      <th>address</th>\n",
              "      <th>number</th>\n",
              "      <th>correct_object_type</th>\n",
              "    </tr>\n",
              "  </thead>\n",
              "  <tbody>\n",
              "    <tr>\n",
              "      <th>0</th>\n",
              "      <td>151635</td>\n",
              "      <td>сметана</td>\n",
              "      <td>нет</td>\n",
              "      <td>кафе</td>\n",
              "      <td>город Москва, улица Егора Абакумова, дом 9</td>\n",
              "      <td>48</td>\n",
              "      <td>кафе</td>\n",
              "    </tr>\n",
              "    <tr>\n",
              "      <th>1</th>\n",
              "      <td>77874</td>\n",
              "      <td>родник</td>\n",
              "      <td>нет</td>\n",
              "      <td>кафе</td>\n",
              "      <td>город Москва, улица Талалихина, дом 2/1, корпус 1</td>\n",
              "      <td>35</td>\n",
              "      <td>кафе</td>\n",
              "    </tr>\n",
              "    <tr>\n",
              "      <th>2</th>\n",
              "      <td>24309</td>\n",
              "      <td>кафе академия</td>\n",
              "      <td>нет</td>\n",
              "      <td>кафе</td>\n",
              "      <td>город Москва, Абельмановская улица, дом 6</td>\n",
              "      <td>95</td>\n",
              "      <td>кафе</td>\n",
              "    </tr>\n",
              "    <tr>\n",
              "      <th>3</th>\n",
              "      <td>21894</td>\n",
              "      <td>пиццетория</td>\n",
              "      <td>да</td>\n",
              "      <td>кафе</td>\n",
              "      <td>город Москва, Абрамцевская улица, дом 1</td>\n",
              "      <td>40</td>\n",
              "      <td>кафе</td>\n",
              "    </tr>\n",
              "    <tr>\n",
              "      <th>4</th>\n",
              "      <td>119365</td>\n",
              "      <td>кафе вишневая метель</td>\n",
              "      <td>нет</td>\n",
              "      <td>кафе</td>\n",
              "      <td>город Москва, Абрамцевская улица, дом 9, корпус 1</td>\n",
              "      <td>50</td>\n",
              "      <td>кафе</td>\n",
              "    </tr>\n",
              "  </tbody>\n",
              "</table>\n",
              "</div>"
            ],
            "text/plain": [
              "       id           object_name  ... number correct_object_type\n",
              "0  151635  сметана               ...  48     кафе              \n",
              "1  77874   родник                ...  35     кафе              \n",
              "2  24309   кафе академия         ...  95     кафе              \n",
              "3  21894   пиццетория            ...  40     кафе              \n",
              "4  119365  кафе вишневая метель  ...  50     кафе              \n",
              "\n",
              "[5 rows x 7 columns]"
            ]
          },
          "metadata": {},
          "execution_count": 19
        }
      ]
    },
    {
      "cell_type": "code",
      "metadata": {
        "colab": {
          "base_uri": "https://localhost:8080/",
          "height": 204
        },
        "id": "A2eVoGyZODx7",
        "outputId": "b945fdad-b00d-475a-d07e-0aa02d9a0951"
      },
      "source": [
        "#Проверяем, что даже самым встречающимся названиям соответствует только один тип заведения\n",
        "check = (rest_data.pivot_table(index = 'object_name', \n",
        "                               values = ['object_type','correct_object_type'], \n",
        "                               aggfunc = {'object_type':'count', 'correct_object_type':'nunique'}).\n",
        "         reset_index().\n",
        "         sort_values(by = 'object_type', ascending = False)\n",
        ")\n",
        "check.head()"
      ],
      "execution_count": 20,
      "outputs": [
        {
          "output_type": "execute_result",
          "data": {
            "text/html": [
              "<div>\n",
              "<style scoped>\n",
              "    .dataframe tbody tr th:only-of-type {\n",
              "        vertical-align: middle;\n",
              "    }\n",
              "\n",
              "    .dataframe tbody tr th {\n",
              "        vertical-align: top;\n",
              "    }\n",
              "\n",
              "    .dataframe thead th {\n",
              "        text-align: right;\n",
              "    }\n",
              "</style>\n",
              "<table border=\"1\" class=\"dataframe\">\n",
              "  <thead>\n",
              "    <tr style=\"text-align: right;\">\n",
              "      <th></th>\n",
              "      <th>object_name</th>\n",
              "      <th>correct_object_type</th>\n",
              "      <th>object_type</th>\n",
              "    </tr>\n",
              "  </thead>\n",
              "  <tbody>\n",
              "    <tr>\n",
              "      <th>7492</th>\n",
              "      <td>столовая</td>\n",
              "      <td>1</td>\n",
              "      <td>321</td>\n",
              "    </tr>\n",
              "    <tr>\n",
              "      <th>3437</th>\n",
              "      <td>кафе</td>\n",
              "      <td>1</td>\n",
              "      <td>278</td>\n",
              "    </tr>\n",
              "    <tr>\n",
              "      <th>9305</th>\n",
              "      <td>шаурма</td>\n",
              "      <td>1</td>\n",
              "      <td>250</td>\n",
              "    </tr>\n",
              "    <tr>\n",
              "      <th>9639</th>\n",
              "      <td>шоколадница</td>\n",
              "      <td>1</td>\n",
              "      <td>188</td>\n",
              "    </tr>\n",
              "    <tr>\n",
              "      <th>619</th>\n",
              "      <td>kfc</td>\n",
              "      <td>1</td>\n",
              "      <td>187</td>\n",
              "    </tr>\n",
              "  </tbody>\n",
              "</table>\n",
              "</div>"
            ],
            "text/plain": [
              "      object_name  correct_object_type  object_type\n",
              "7492  столовая     1                    321        \n",
              "3437  кафе         1                    278        \n",
              "9305  шаурма       1                    250        \n",
              "9639  шоколадница  1                    188        \n",
              "619   kfc          1                    187        "
            ]
          },
          "metadata": {},
          "execution_count": 20
        }
      ]
    },
    {
      "cell_type": "code",
      "metadata": {
        "id": "EPcGCrbVd3Us"
      },
      "source": [
        "#Удаляем столбец с неверными типами заведений\n",
        "rest_data = rest_data.drop('object_type', axis = 1)\n",
        "#rest_data.head()"
      ],
      "execution_count": 21,
      "outputs": []
    },
    {
      "cell_type": "markdown",
      "metadata": {
        "id": "kei6BqHSm5tK"
      },
      "source": [
        "Проверим, все ли сетевые заведения (название встречается в таблице несколько раз) отнесены к таковым в столбце `chain`."
      ]
    },
    {
      "cell_type": "code",
      "metadata": {
        "colab": {
          "base_uri": "https://localhost:8080/",
          "height": 359
        },
        "id": "VGhGeqHnnHgn",
        "outputId": "d43c2c84-a72f-4401-863b-7a2343240682"
      },
      "source": [
        "check_chain = (rest_data.pivot_table(index = 'object_name', \n",
        "                               values = ['number','chain'], \n",
        "                               aggfunc = {'number':'count', 'chain':'nunique'}).\n",
        "         reset_index().\n",
        "         sort_values(by = 'number', ascending = False)\n",
        ")\n",
        "check_chain.head(10)"
      ],
      "execution_count": 22,
      "outputs": [
        {
          "output_type": "execute_result",
          "data": {
            "text/html": [
              "<div>\n",
              "<style scoped>\n",
              "    .dataframe tbody tr th:only-of-type {\n",
              "        vertical-align: middle;\n",
              "    }\n",
              "\n",
              "    .dataframe tbody tr th {\n",
              "        vertical-align: top;\n",
              "    }\n",
              "\n",
              "    .dataframe thead th {\n",
              "        text-align: right;\n",
              "    }\n",
              "</style>\n",
              "<table border=\"1\" class=\"dataframe\">\n",
              "  <thead>\n",
              "    <tr style=\"text-align: right;\">\n",
              "      <th></th>\n",
              "      <th>object_name</th>\n",
              "      <th>chain</th>\n",
              "      <th>number</th>\n",
              "    </tr>\n",
              "  </thead>\n",
              "  <tbody>\n",
              "    <tr>\n",
              "      <th>7492</th>\n",
              "      <td>столовая</td>\n",
              "      <td>1</td>\n",
              "      <td>321</td>\n",
              "    </tr>\n",
              "    <tr>\n",
              "      <th>3437</th>\n",
              "      <td>кафе</td>\n",
              "      <td>1</td>\n",
              "      <td>278</td>\n",
              "    </tr>\n",
              "    <tr>\n",
              "      <th>9305</th>\n",
              "      <td>шаурма</td>\n",
              "      <td>1</td>\n",
              "      <td>250</td>\n",
              "    </tr>\n",
              "    <tr>\n",
              "      <th>9639</th>\n",
              "      <td>шоколадница</td>\n",
              "      <td>2</td>\n",
              "      <td>188</td>\n",
              "    </tr>\n",
              "    <tr>\n",
              "      <th>619</th>\n",
              "      <td>kfc</td>\n",
              "      <td>2</td>\n",
              "      <td>187</td>\n",
              "    </tr>\n",
              "    <tr>\n",
              "      <th>5328</th>\n",
              "      <td>макдоналдс</td>\n",
              "      <td>1</td>\n",
              "      <td>172</td>\n",
              "    </tr>\n",
              "    <tr>\n",
              "      <th>1932</th>\n",
              "      <td>бургер кинг</td>\n",
              "      <td>2</td>\n",
              "      <td>162</td>\n",
              "    </tr>\n",
              "    <tr>\n",
              "      <th>2955</th>\n",
              "      <td>доминос пицца</td>\n",
              "      <td>2</td>\n",
              "      <td>107</td>\n",
              "    </tr>\n",
              "    <tr>\n",
              "      <th>8641</th>\n",
              "      <td>теремок</td>\n",
              "      <td>2</td>\n",
              "      <td>105</td>\n",
              "    </tr>\n",
              "    <tr>\n",
              "      <th>5043</th>\n",
              "      <td>крошка картошка</td>\n",
              "      <td>1</td>\n",
              "      <td>90</td>\n",
              "    </tr>\n",
              "  </tbody>\n",
              "</table>\n",
              "</div>"
            ],
            "text/plain": [
              "          object_name  chain  number\n",
              "7492  столовая         1      321   \n",
              "3437  кафе             1      278   \n",
              "9305  шаурма           1      250   \n",
              "9639  шоколадница      2      188   \n",
              "619   kfc              2      187   \n",
              "5328  макдоналдс       1      172   \n",
              "1932  бургер кинг      2      162   \n",
              "2955  доминос пицца    2      107   \n",
              "8641  теремок          2      105   \n",
              "5043  крошка картошка  1      90    "
            ]
          },
          "metadata": {},
          "execution_count": 22
        }
      ]
    },
    {
      "cell_type": "markdown",
      "metadata": {
        "id": "4u-WKqALn3BA"
      },
      "source": [
        "Есть ошибки и в этом столбце. Создадим столбец с верными значениями `correct_chain` аналогично столбцу `correct_object_type`."
      ]
    },
    {
      "cell_type": "code",
      "metadata": {
        "colab": {
          "base_uri": "https://localhost:8080/",
          "height": 359
        },
        "id": "QsBKGPLnoOuc",
        "outputId": "97443250-84bf-4741-ecd7-c4b808057a91"
      },
      "source": [
        "#Создаем сводную таблицу с сортировкой по частоте упоминания названий в таблице\n",
        "chain_pivot = rest_data.pivot_table(index = ['object_name','chain'], values = 'number', aggfunc = 'count').sort_values(by = 'number', ascending = False).reset_index()\n",
        "#Создаем список названий и наиболее распространенного значения в столбце chain\n",
        "chain_list = chain_pivot.groupby('object_name').agg({'chain':'first'}).reset_index()\n",
        "chain_list.columns = ['object_name', 'correct_chain']\n",
        "rest_data = rest_data.merge(chain_list, on = 'object_name', how = 'left')\n",
        "check_chain = (rest_data.pivot_table(index = 'object_name', \n",
        "                               values = ['number','correct_chain'], \n",
        "                               aggfunc = {'number':'count', 'correct_chain':'nunique'}).\n",
        "         reset_index().\n",
        "         sort_values(by = 'number', ascending = False)\n",
        ")\n",
        "check_chain.head(10)"
      ],
      "execution_count": 23,
      "outputs": [
        {
          "output_type": "execute_result",
          "data": {
            "text/html": [
              "<div>\n",
              "<style scoped>\n",
              "    .dataframe tbody tr th:only-of-type {\n",
              "        vertical-align: middle;\n",
              "    }\n",
              "\n",
              "    .dataframe tbody tr th {\n",
              "        vertical-align: top;\n",
              "    }\n",
              "\n",
              "    .dataframe thead th {\n",
              "        text-align: right;\n",
              "    }\n",
              "</style>\n",
              "<table border=\"1\" class=\"dataframe\">\n",
              "  <thead>\n",
              "    <tr style=\"text-align: right;\">\n",
              "      <th></th>\n",
              "      <th>object_name</th>\n",
              "      <th>correct_chain</th>\n",
              "      <th>number</th>\n",
              "    </tr>\n",
              "  </thead>\n",
              "  <tbody>\n",
              "    <tr>\n",
              "      <th>7492</th>\n",
              "      <td>столовая</td>\n",
              "      <td>1</td>\n",
              "      <td>321</td>\n",
              "    </tr>\n",
              "    <tr>\n",
              "      <th>3437</th>\n",
              "      <td>кафе</td>\n",
              "      <td>1</td>\n",
              "      <td>278</td>\n",
              "    </tr>\n",
              "    <tr>\n",
              "      <th>9305</th>\n",
              "      <td>шаурма</td>\n",
              "      <td>1</td>\n",
              "      <td>250</td>\n",
              "    </tr>\n",
              "    <tr>\n",
              "      <th>9639</th>\n",
              "      <td>шоколадница</td>\n",
              "      <td>1</td>\n",
              "      <td>188</td>\n",
              "    </tr>\n",
              "    <tr>\n",
              "      <th>619</th>\n",
              "      <td>kfc</td>\n",
              "      <td>1</td>\n",
              "      <td>187</td>\n",
              "    </tr>\n",
              "    <tr>\n",
              "      <th>5328</th>\n",
              "      <td>макдоналдс</td>\n",
              "      <td>1</td>\n",
              "      <td>172</td>\n",
              "    </tr>\n",
              "    <tr>\n",
              "      <th>1932</th>\n",
              "      <td>бургер кинг</td>\n",
              "      <td>1</td>\n",
              "      <td>162</td>\n",
              "    </tr>\n",
              "    <tr>\n",
              "      <th>2955</th>\n",
              "      <td>доминос пицца</td>\n",
              "      <td>1</td>\n",
              "      <td>107</td>\n",
              "    </tr>\n",
              "    <tr>\n",
              "      <th>8641</th>\n",
              "      <td>теремок</td>\n",
              "      <td>1</td>\n",
              "      <td>105</td>\n",
              "    </tr>\n",
              "    <tr>\n",
              "      <th>5043</th>\n",
              "      <td>крошка картошка</td>\n",
              "      <td>1</td>\n",
              "      <td>90</td>\n",
              "    </tr>\n",
              "  </tbody>\n",
              "</table>\n",
              "</div>"
            ],
            "text/plain": [
              "          object_name  correct_chain  number\n",
              "7492  столовая         1              321   \n",
              "3437  кафе             1              278   \n",
              "9305  шаурма           1              250   \n",
              "9639  шоколадница      1              188   \n",
              "619   kfc              1              187   \n",
              "5328  макдоналдс       1              172   \n",
              "1932  бургер кинг      1              162   \n",
              "2955  доминос пицца    1              107   \n",
              "8641  теремок          1              105   \n",
              "5043  крошка картошка  1              90    "
            ]
          },
          "metadata": {},
          "execution_count": 23
        }
      ]
    },
    {
      "cell_type": "code",
      "metadata": {
        "colab": {
          "base_uri": "https://localhost:8080/",
          "height": 204
        },
        "id": "EKxbD30Vp3Z4",
        "outputId": "692b037e-f35e-4af3-9e61-52fe6b30e7be"
      },
      "source": [
        "#Удаляем столбец с неверной принадлежностью к сети\n",
        "rest_data = rest_data.drop('chain', axis = 1)\n",
        "rest_data.head()"
      ],
      "execution_count": 24,
      "outputs": [
        {
          "output_type": "execute_result",
          "data": {
            "text/html": [
              "<div>\n",
              "<style scoped>\n",
              "    .dataframe tbody tr th:only-of-type {\n",
              "        vertical-align: middle;\n",
              "    }\n",
              "\n",
              "    .dataframe tbody tr th {\n",
              "        vertical-align: top;\n",
              "    }\n",
              "\n",
              "    .dataframe thead th {\n",
              "        text-align: right;\n",
              "    }\n",
              "</style>\n",
              "<table border=\"1\" class=\"dataframe\">\n",
              "  <thead>\n",
              "    <tr style=\"text-align: right;\">\n",
              "      <th></th>\n",
              "      <th>id</th>\n",
              "      <th>object_name</th>\n",
              "      <th>address</th>\n",
              "      <th>number</th>\n",
              "      <th>correct_object_type</th>\n",
              "      <th>correct_chain</th>\n",
              "    </tr>\n",
              "  </thead>\n",
              "  <tbody>\n",
              "    <tr>\n",
              "      <th>0</th>\n",
              "      <td>151635</td>\n",
              "      <td>сметана</td>\n",
              "      <td>город Москва, улица Егора Абакумова, дом 9</td>\n",
              "      <td>48</td>\n",
              "      <td>кафе</td>\n",
              "      <td>нет</td>\n",
              "    </tr>\n",
              "    <tr>\n",
              "      <th>1</th>\n",
              "      <td>77874</td>\n",
              "      <td>родник</td>\n",
              "      <td>город Москва, улица Талалихина, дом 2/1, корпус 1</td>\n",
              "      <td>35</td>\n",
              "      <td>кафе</td>\n",
              "      <td>нет</td>\n",
              "    </tr>\n",
              "    <tr>\n",
              "      <th>2</th>\n",
              "      <td>24309</td>\n",
              "      <td>кафе академия</td>\n",
              "      <td>город Москва, Абельмановская улица, дом 6</td>\n",
              "      <td>95</td>\n",
              "      <td>кафе</td>\n",
              "      <td>нет</td>\n",
              "    </tr>\n",
              "    <tr>\n",
              "      <th>3</th>\n",
              "      <td>21894</td>\n",
              "      <td>пиццетория</td>\n",
              "      <td>город Москва, Абрамцевская улица, дом 1</td>\n",
              "      <td>40</td>\n",
              "      <td>кафе</td>\n",
              "      <td>да</td>\n",
              "    </tr>\n",
              "    <tr>\n",
              "      <th>4</th>\n",
              "      <td>119365</td>\n",
              "      <td>кафе вишневая метель</td>\n",
              "      <td>город Москва, Абрамцевская улица, дом 9, корпус 1</td>\n",
              "      <td>50</td>\n",
              "      <td>кафе</td>\n",
              "      <td>нет</td>\n",
              "    </tr>\n",
              "  </tbody>\n",
              "</table>\n",
              "</div>"
            ],
            "text/plain": [
              "       id           object_name  ... correct_object_type  correct_chain\n",
              "0  151635  сметана               ...  кафе                нет          \n",
              "1  77874   родник                ...  кафе                нет          \n",
              "2  24309   кафе академия         ...  кафе                нет          \n",
              "3  21894   пиццетория            ...  кафе                да           \n",
              "4  119365  кафе вишневая метель  ...  кафе                нет          \n",
              "\n",
              "[5 rows x 6 columns]"
            ]
          },
          "metadata": {},
          "execution_count": 24
        }
      ]
    },
    {
      "cell_type": "markdown",
      "metadata": {
        "id": "5f3FZt91I3Nk"
      },
      "source": [
        "Проверим, есть ли строки, в которых к сетевым отнесены заведения, имеющие только одну точку."
      ]
    },
    {
      "cell_type": "code",
      "metadata": {
        "colab": {
          "base_uri": "https://localhost:8080/"
        },
        "id": "8XAwSdedI3Nk",
        "outputId": "525a368f-5a73-4363-d752-7da3782f943b"
      },
      "source": [
        "check_chain_pivot = rest_data.query('correct_chain == \"да\"').pivot_table(index = 'object_name', values = 'id', aggfunc = 'count').reset_index().sort_values(by = 'id')\n",
        "print('В таблице {} строк, в которых несетевые заведения отнесены к сетям.'.format(len(check_chain_pivot.query('id == 1'))))"
      ],
      "execution_count": 25,
      "outputs": [
        {
          "output_type": "stream",
          "text": [
            "В таблице 263 строк, в которых несетевые заведения отнесены к сетям.\n"
          ],
          "name": "stdout"
        }
      ]
    },
    {
      "cell_type": "markdown",
      "metadata": {
        "id": "lWs1WJdhI3Nl"
      },
      "source": [
        "Исправим эти строки."
      ]
    },
    {
      "cell_type": "code",
      "metadata": {
        "colab": {
          "base_uri": "https://localhost:8080/"
        },
        "id": "KCIqpuaXI3Nl",
        "outputId": "7ccc006b-3d50-40b3-de74-1f271a89d7a8"
      },
      "source": [
        "correct_chain_2_list = list(check_chain_pivot.query('id == 1')['object_name'])\n",
        "rest_data.loc[(rest_data.object_name.isin(correct_chain_2_list)), 'correct_chain'] = 'нет'\n",
        "\n",
        "check_chain_pivot2 = rest_data.query('correct_chain == \"да\"').pivot_table(index = 'object_name', values = 'id', aggfunc = 'count').reset_index().sort_values(by = 'id')\n",
        "print('В таблице {} строк, в которых несетевые заведения отнесены к сетям.'.format(len(check_chain_pivot2.query('id == 1'))))"
      ],
      "execution_count": 26,
      "outputs": [
        {
          "output_type": "stream",
          "text": [
            "В таблице 0 строк, в которых несетевые заведения отнесены к сетям.\n"
          ],
          "name": "stdout"
        }
      ]
    },
    {
      "cell_type": "markdown",
      "metadata": {
        "id": "Oo23MIvHqGzo"
      },
      "source": [
        "Итак, в ходе предобработки данных было сделано следующее:\n",
        "* Названия приведены к нижнему регистру;\n",
        "* Убраны все кавычки из названий;\n",
        "* Для крупных сетевых заведений названия приведены к одному на сеть с помощью словарей синонимов;\n",
        "* Создан столбец с верной привязкой типа заведения к его названию;\n",
        "* Создан столбец с верной привязкой принадлежности к сети;\n",
        "* Для заведений, встречающихся один раз, тип принадлежности к сети установлен как \"несетевое\".\n",
        "\n",
        "Можно приступать к анализу."
      ]
    },
    {
      "cell_type": "markdown",
      "metadata": {
        "id": "yxc-yrtPrXjw"
      },
      "source": [
        "## Анализ данных <a id=\"analysis\"></a>"
      ]
    },
    {
      "cell_type": "markdown",
      "metadata": {
        "id": "joCROJFZraMc"
      },
      "source": [
        "### Соотношение видов объектов общественного питания по количеству <a id=\"correct_object_type_pivot\"></a>"
      ]
    },
    {
      "cell_type": "markdown",
      "metadata": {
        "id": "NTwH53f5QMzu"
      },
      "source": [
        "Построим два графика, показывающих доминирующие типы заведений питания в Москве."
      ]
    },
    {
      "cell_type": "code",
      "metadata": {
        "id": "irlPEUlnIH9p"
      },
      "source": [
        "#Строим сводную таблицу тип заведения - количество объектов\n",
        "correct_object_type_pivot = rest_data.pivot_table(index = 'correct_object_type', values = 'number', aggfunc = 'count').reset_index()"
      ],
      "execution_count": 27,
      "outputs": []
    },
    {
      "cell_type": "code",
      "metadata": {
        "colab": {
          "base_uri": "https://localhost:8080/",
          "height": 542
        },
        "id": "1iCdySpQIJp_",
        "outputId": "ddfd3e5f-db2d-4489-fdf0-ca2ff63ddb92"
      },
      "source": [
        "#Список объектов в порядке возрастания (для того, чтобы расставить переносы в подписях)\n",
        "#list(correct_object_type_pivot.sort_values(by = 'number', ascending = True)['correct_object_type'])\n",
        "data = correct_object_type_pivot.sort_values(by = 'number', ascending = True)\n",
        "\n",
        "fig = px.bar(\n",
        "    data, x='number', y='correct_object_type', title='Диаграмма соотношения типов заведений питания по количеству',\n",
        "    orientation='h'\n",
        ")\n",
        "fig.update_yaxes(title='Тип заведения', side = 'left', showgrid = True)\n",
        "fig.update_xaxes(title='Количество заведений в Москве', showgrid = True)\n",
        "fig.show()\n"
      ],
      "execution_count": 28,
      "outputs": [
        {
          "output_type": "display_data",
          "data": {
            "text/html": [
              "<html>\n",
              "<head><meta charset=\"utf-8\" /></head>\n",
              "<body>\n",
              "    <div>\n",
              "            <script src=\"https://cdnjs.cloudflare.com/ajax/libs/mathjax/2.7.5/MathJax.js?config=TeX-AMS-MML_SVG\"></script><script type=\"text/javascript\">if (window.MathJax) {MathJax.Hub.Config({SVG: {font: \"STIX-Web\"}});}</script>\n",
              "                <script type=\"text/javascript\">window.PlotlyConfig = {MathJaxConfig: 'local'};</script>\n",
              "        <script src=\"https://cdn.plot.ly/plotly-latest.min.js\"></script>    \n",
              "            <div id=\"d8933f22-e661-4d09-8624-49c354632898\" class=\"plotly-graph-div\" style=\"height:525px; width:100%;\"></div>\n",
              "            <script type=\"text/javascript\">\n",
              "                \n",
              "                    window.PLOTLYENV=window.PLOTLYENV || {};\n",
              "                    \n",
              "                if (document.getElementById(\"d8933f22-e661-4d09-8624-49c354632898\")) {\n",
              "                    Plotly.newPlot(\n",
              "                        'd8933f22-e661-4d09-8624-49c354632898',\n",
              "                        [{\"alignmentgroup\": \"True\", \"hoverlabel\": {\"namelength\": 0}, \"hovertemplate\": \"number=%{x}<br>correct_object_type=%{y}\", \"legendgroup\": \"\", \"marker\": {\"color\": \"#636efa\"}, \"name\": \"\", \"offsetgroup\": \"\", \"orientation\": \"h\", \"showlegend\": false, \"textposition\": \"auto\", \"type\": \"bar\", \"x\": [184, 197, 322, 572, 850, 2104, 2260, 2582, 6295], \"xaxis\": \"x\", \"y\": [\"\\u0437\\u0430\\u043a\\u0443\\u0441\\u043e\\u0447\\u043d\\u0430\\u044f\", \"\\u043c\\u0430\\u0433\\u0430\\u0437\\u0438\\u043d (\\u043e\\u0442\\u0434\\u0435\\u043b \\u043a\\u0443\\u043b\\u0438\\u043d\\u0430\\u0440\\u0438\\u0438)\", \"\\u043a\\u0430\\u0444\\u0435\\u0442\\u0435\\u0440\\u0438\\u0439\", \"\\u0431\\u0443\\u0444\\u0435\\u0442\", \"\\u0431\\u0430\\u0440\", \"\\u0440\\u0435\\u0441\\u0442\\u043e\\u0440\\u0430\\u043d\", \"\\u043f\\u0440\\u0435\\u0434\\u043f\\u0440\\u0438\\u044f\\u0442\\u0438\\u0435 \\u0431\\u044b\\u0441\\u0442\\u0440\\u043e\\u0433\\u043e \\u043e\\u0431\\u0441\\u043b\\u0443\\u0436\\u0438\\u0432\\u0430\\u043d\\u0438\\u044f\", \"\\u0441\\u0442\\u043e\\u043b\\u043e\\u0432\\u0430\\u044f\", \"\\u043a\\u0430\\u0444\\u0435\"], \"yaxis\": \"y\"}],\n",
              "                        {\"barmode\": \"relative\", \"legend\": {\"tracegroupgap\": 0}, \"template\": {\"data\": {\"bar\": [{\"error_x\": {\"color\": \"#2a3f5f\"}, \"error_y\": {\"color\": \"#2a3f5f\"}, \"marker\": {\"line\": {\"color\": \"#E5ECF6\", \"width\": 0.5}}, \"type\": \"bar\"}], \"barpolar\": [{\"marker\": {\"line\": {\"color\": \"#E5ECF6\", \"width\": 0.5}}, \"type\": \"barpolar\"}], \"carpet\": [{\"aaxis\": {\"endlinecolor\": \"#2a3f5f\", \"gridcolor\": \"white\", \"linecolor\": \"white\", \"minorgridcolor\": \"white\", \"startlinecolor\": \"#2a3f5f\"}, \"baxis\": {\"endlinecolor\": \"#2a3f5f\", \"gridcolor\": \"white\", \"linecolor\": \"white\", \"minorgridcolor\": \"white\", \"startlinecolor\": \"#2a3f5f\"}, \"type\": \"carpet\"}], \"choropleth\": [{\"colorbar\": {\"outlinewidth\": 0, \"ticks\": \"\"}, \"type\": \"choropleth\"}], \"contour\": [{\"colorbar\": {\"outlinewidth\": 0, \"ticks\": \"\"}, \"colorscale\": [[0.0, \"#0d0887\"], [0.1111111111111111, \"#46039f\"], [0.2222222222222222, \"#7201a8\"], [0.3333333333333333, \"#9c179e\"], [0.4444444444444444, \"#bd3786\"], [0.5555555555555556, \"#d8576b\"], [0.6666666666666666, \"#ed7953\"], [0.7777777777777778, \"#fb9f3a\"], [0.8888888888888888, \"#fdca26\"], [1.0, \"#f0f921\"]], \"type\": \"contour\"}], \"contourcarpet\": [{\"colorbar\": {\"outlinewidth\": 0, \"ticks\": \"\"}, \"type\": \"contourcarpet\"}], \"heatmap\": [{\"colorbar\": {\"outlinewidth\": 0, \"ticks\": \"\"}, \"colorscale\": [[0.0, \"#0d0887\"], [0.1111111111111111, \"#46039f\"], [0.2222222222222222, \"#7201a8\"], [0.3333333333333333, \"#9c179e\"], [0.4444444444444444, \"#bd3786\"], [0.5555555555555556, \"#d8576b\"], [0.6666666666666666, \"#ed7953\"], [0.7777777777777778, \"#fb9f3a\"], [0.8888888888888888, \"#fdca26\"], [1.0, \"#f0f921\"]], \"type\": \"heatmap\"}], \"heatmapgl\": [{\"colorbar\": {\"outlinewidth\": 0, \"ticks\": \"\"}, \"colorscale\": [[0.0, \"#0d0887\"], [0.1111111111111111, \"#46039f\"], [0.2222222222222222, \"#7201a8\"], [0.3333333333333333, \"#9c179e\"], [0.4444444444444444, \"#bd3786\"], [0.5555555555555556, \"#d8576b\"], [0.6666666666666666, \"#ed7953\"], [0.7777777777777778, \"#fb9f3a\"], [0.8888888888888888, \"#fdca26\"], [1.0, \"#f0f921\"]], \"type\": \"heatmapgl\"}], \"histogram\": [{\"marker\": {\"colorbar\": {\"outlinewidth\": 0, \"ticks\": \"\"}}, \"type\": \"histogram\"}], \"histogram2d\": [{\"colorbar\": {\"outlinewidth\": 0, \"ticks\": \"\"}, \"colorscale\": [[0.0, \"#0d0887\"], [0.1111111111111111, \"#46039f\"], [0.2222222222222222, \"#7201a8\"], [0.3333333333333333, \"#9c179e\"], [0.4444444444444444, \"#bd3786\"], [0.5555555555555556, \"#d8576b\"], [0.6666666666666666, \"#ed7953\"], [0.7777777777777778, \"#fb9f3a\"], [0.8888888888888888, \"#fdca26\"], [1.0, \"#f0f921\"]], \"type\": \"histogram2d\"}], \"histogram2dcontour\": [{\"colorbar\": {\"outlinewidth\": 0, \"ticks\": \"\"}, \"colorscale\": [[0.0, \"#0d0887\"], [0.1111111111111111, \"#46039f\"], [0.2222222222222222, \"#7201a8\"], [0.3333333333333333, \"#9c179e\"], [0.4444444444444444, \"#bd3786\"], [0.5555555555555556, \"#d8576b\"], [0.6666666666666666, \"#ed7953\"], [0.7777777777777778, \"#fb9f3a\"], [0.8888888888888888, \"#fdca26\"], [1.0, \"#f0f921\"]], \"type\": \"histogram2dcontour\"}], \"mesh3d\": [{\"colorbar\": {\"outlinewidth\": 0, \"ticks\": \"\"}, \"type\": \"mesh3d\"}], \"parcoords\": [{\"line\": {\"colorbar\": {\"outlinewidth\": 0, \"ticks\": \"\"}}, \"type\": \"parcoords\"}], \"pie\": [{\"automargin\": true, \"type\": \"pie\"}], \"scatter\": [{\"marker\": {\"colorbar\": {\"outlinewidth\": 0, \"ticks\": \"\"}}, \"type\": \"scatter\"}], \"scatter3d\": [{\"line\": {\"colorbar\": {\"outlinewidth\": 0, \"ticks\": \"\"}}, \"marker\": {\"colorbar\": {\"outlinewidth\": 0, \"ticks\": \"\"}}, \"type\": \"scatter3d\"}], \"scattercarpet\": [{\"marker\": {\"colorbar\": {\"outlinewidth\": 0, \"ticks\": \"\"}}, \"type\": \"scattercarpet\"}], \"scattergeo\": [{\"marker\": {\"colorbar\": {\"outlinewidth\": 0, \"ticks\": \"\"}}, \"type\": \"scattergeo\"}], \"scattergl\": [{\"marker\": {\"colorbar\": {\"outlinewidth\": 0, \"ticks\": \"\"}}, \"type\": \"scattergl\"}], \"scattermapbox\": [{\"marker\": {\"colorbar\": {\"outlinewidth\": 0, \"ticks\": \"\"}}, \"type\": \"scattermapbox\"}], \"scatterpolar\": [{\"marker\": {\"colorbar\": {\"outlinewidth\": 0, \"ticks\": \"\"}}, \"type\": \"scatterpolar\"}], \"scatterpolargl\": [{\"marker\": {\"colorbar\": {\"outlinewidth\": 0, \"ticks\": \"\"}}, \"type\": \"scatterpolargl\"}], \"scatterternary\": [{\"marker\": {\"colorbar\": {\"outlinewidth\": 0, \"ticks\": \"\"}}, \"type\": \"scatterternary\"}], \"surface\": [{\"colorbar\": {\"outlinewidth\": 0, \"ticks\": \"\"}, \"colorscale\": [[0.0, \"#0d0887\"], [0.1111111111111111, \"#46039f\"], [0.2222222222222222, \"#7201a8\"], [0.3333333333333333, \"#9c179e\"], [0.4444444444444444, \"#bd3786\"], [0.5555555555555556, \"#d8576b\"], [0.6666666666666666, \"#ed7953\"], [0.7777777777777778, \"#fb9f3a\"], [0.8888888888888888, \"#fdca26\"], [1.0, \"#f0f921\"]], \"type\": \"surface\"}], \"table\": [{\"cells\": {\"fill\": {\"color\": \"#EBF0F8\"}, \"line\": {\"color\": \"white\"}}, \"header\": {\"fill\": {\"color\": \"#C8D4E3\"}, \"line\": {\"color\": \"white\"}}, \"type\": \"table\"}]}, \"layout\": {\"annotationdefaults\": {\"arrowcolor\": \"#2a3f5f\", \"arrowhead\": 0, \"arrowwidth\": 1}, \"coloraxis\": {\"colorbar\": {\"outlinewidth\": 0, \"ticks\": \"\"}}, \"colorscale\": {\"diverging\": [[0, \"#8e0152\"], [0.1, \"#c51b7d\"], [0.2, \"#de77ae\"], [0.3, \"#f1b6da\"], [0.4, \"#fde0ef\"], [0.5, \"#f7f7f7\"], [0.6, \"#e6f5d0\"], [0.7, \"#b8e186\"], [0.8, \"#7fbc41\"], [0.9, \"#4d9221\"], [1, \"#276419\"]], \"sequential\": [[0.0, \"#0d0887\"], [0.1111111111111111, \"#46039f\"], [0.2222222222222222, \"#7201a8\"], [0.3333333333333333, \"#9c179e\"], [0.4444444444444444, \"#bd3786\"], [0.5555555555555556, \"#d8576b\"], [0.6666666666666666, \"#ed7953\"], [0.7777777777777778, \"#fb9f3a\"], [0.8888888888888888, \"#fdca26\"], [1.0, \"#f0f921\"]], \"sequentialminus\": [[0.0, \"#0d0887\"], [0.1111111111111111, \"#46039f\"], [0.2222222222222222, \"#7201a8\"], [0.3333333333333333, \"#9c179e\"], [0.4444444444444444, \"#bd3786\"], [0.5555555555555556, \"#d8576b\"], [0.6666666666666666, \"#ed7953\"], [0.7777777777777778, \"#fb9f3a\"], [0.8888888888888888, \"#fdca26\"], [1.0, \"#f0f921\"]]}, \"colorway\": [\"#636efa\", \"#EF553B\", \"#00cc96\", \"#ab63fa\", \"#FFA15A\", \"#19d3f3\", \"#FF6692\", \"#B6E880\", \"#FF97FF\", \"#FECB52\"], \"font\": {\"color\": \"#2a3f5f\"}, \"geo\": {\"bgcolor\": \"white\", \"lakecolor\": \"white\", \"landcolor\": \"#E5ECF6\", \"showlakes\": true, \"showland\": true, \"subunitcolor\": \"white\"}, \"hoverlabel\": {\"align\": \"left\"}, \"hovermode\": \"closest\", \"mapbox\": {\"style\": \"light\"}, \"paper_bgcolor\": \"white\", \"plot_bgcolor\": \"#E5ECF6\", \"polar\": {\"angularaxis\": {\"gridcolor\": \"white\", \"linecolor\": \"white\", \"ticks\": \"\"}, \"bgcolor\": \"#E5ECF6\", \"radialaxis\": {\"gridcolor\": \"white\", \"linecolor\": \"white\", \"ticks\": \"\"}}, \"scene\": {\"xaxis\": {\"backgroundcolor\": \"#E5ECF6\", \"gridcolor\": \"white\", \"gridwidth\": 2, \"linecolor\": \"white\", \"showbackground\": true, \"ticks\": \"\", \"zerolinecolor\": \"white\"}, \"yaxis\": {\"backgroundcolor\": \"#E5ECF6\", \"gridcolor\": \"white\", \"gridwidth\": 2, \"linecolor\": \"white\", \"showbackground\": true, \"ticks\": \"\", \"zerolinecolor\": \"white\"}, \"zaxis\": {\"backgroundcolor\": \"#E5ECF6\", \"gridcolor\": \"white\", \"gridwidth\": 2, \"linecolor\": \"white\", \"showbackground\": true, \"ticks\": \"\", \"zerolinecolor\": \"white\"}}, \"shapedefaults\": {\"line\": {\"color\": \"#2a3f5f\"}}, \"ternary\": {\"aaxis\": {\"gridcolor\": \"white\", \"linecolor\": \"white\", \"ticks\": \"\"}, \"baxis\": {\"gridcolor\": \"white\", \"linecolor\": \"white\", \"ticks\": \"\"}, \"bgcolor\": \"#E5ECF6\", \"caxis\": {\"gridcolor\": \"white\", \"linecolor\": \"white\", \"ticks\": \"\"}}, \"title\": {\"x\": 0.05}, \"xaxis\": {\"automargin\": true, \"gridcolor\": \"white\", \"linecolor\": \"white\", \"ticks\": \"\", \"title\": {\"standoff\": 15}, \"zerolinecolor\": \"white\", \"zerolinewidth\": 2}, \"yaxis\": {\"automargin\": true, \"gridcolor\": \"white\", \"linecolor\": \"white\", \"ticks\": \"\", \"title\": {\"standoff\": 15}, \"zerolinecolor\": \"white\", \"zerolinewidth\": 2}}}, \"title\": {\"text\": \"\\u0414\\u0438\\u0430\\u0433\\u0440\\u0430\\u043c\\u043c\\u0430 \\u0441\\u043e\\u043e\\u0442\\u043d\\u043e\\u0448\\u0435\\u043d\\u0438\\u044f \\u0442\\u0438\\u043f\\u043e\\u0432 \\u0437\\u0430\\u0432\\u0435\\u0434\\u0435\\u043d\\u0438\\u0439 \\u043f\\u0438\\u0442\\u0430\\u043d\\u0438\\u044f \\u043f\\u043e \\u043a\\u043e\\u043b\\u0438\\u0447\\u0435\\u0441\\u0442\\u0432\\u0443\"}, \"xaxis\": {\"anchor\": \"y\", \"domain\": [0.0, 1.0], \"showgrid\": true, \"title\": {\"text\": \"\\u041a\\u043e\\u043b\\u0438\\u0447\\u0435\\u0441\\u0442\\u0432\\u043e \\u0437\\u0430\\u0432\\u0435\\u0434\\u0435\\u043d\\u0438\\u0439 \\u0432 \\u041c\\u043e\\u0441\\u043a\\u0432\\u0435\"}}, \"yaxis\": {\"anchor\": \"x\", \"domain\": [0.0, 1.0], \"showgrid\": true, \"side\": \"left\", \"title\": {\"text\": \"\\u0422\\u0438\\u043f \\u0437\\u0430\\u0432\\u0435\\u0434\\u0435\\u043d\\u0438\\u044f\"}}},\n",
              "                        {\"responsive\": true}\n",
              "                    ).then(function(){\n",
              "                            \n",
              "var gd = document.getElementById('d8933f22-e661-4d09-8624-49c354632898');\n",
              "var x = new MutationObserver(function (mutations, observer) {{\n",
              "        var display = window.getComputedStyle(gd).display;\n",
              "        if (!display || display === 'none') {{\n",
              "            console.log([gd, 'removed!']);\n",
              "            Plotly.purge(gd);\n",
              "            observer.disconnect();\n",
              "        }}\n",
              "}});\n",
              "\n",
              "// Listen for the removal of the full notebook cells\n",
              "var notebookContainer = gd.closest('#notebook-container');\n",
              "if (notebookContainer) {{\n",
              "    x.observe(notebookContainer, {childList: true});\n",
              "}}\n",
              "\n",
              "// Listen for the clearing of the current output cell\n",
              "var outputEl = gd.closest('.output');\n",
              "if (outputEl) {{\n",
              "    x.observe(outputEl, {childList: true});\n",
              "}}\n",
              "\n",
              "                        })\n",
              "                };\n",
              "                \n",
              "            </script>\n",
              "        </div>\n",
              "</body>\n",
              "</html>"
            ]
          },
          "metadata": {}
        }
      ]
    },
    {
      "cell_type": "code",
      "metadata": {
        "colab": {
          "base_uri": "https://localhost:8080/",
          "height": 542
        },
        "id": "wCPY7_yurjkw",
        "outputId": "26bd0661-3ef9-40aa-ad3c-bbb67a3990e4"
      },
      "source": [
        "\n",
        "fig = go.Figure(data=[go.Pie(labels=correct_object_type_pivot['correct_object_type'], values=correct_object_type_pivot['number'])])\n",
        "fig.update_layout(title_text=\"Доли типов заведений общественного питания Москвы\",\n",
        "                  title_font_size=18)\n",
        "fig.show()\n"
      ],
      "execution_count": 29,
      "outputs": [
        {
          "output_type": "display_data",
          "data": {
            "text/html": [
              "<html>\n",
              "<head><meta charset=\"utf-8\" /></head>\n",
              "<body>\n",
              "    <div>\n",
              "            <script src=\"https://cdnjs.cloudflare.com/ajax/libs/mathjax/2.7.5/MathJax.js?config=TeX-AMS-MML_SVG\"></script><script type=\"text/javascript\">if (window.MathJax) {MathJax.Hub.Config({SVG: {font: \"STIX-Web\"}});}</script>\n",
              "                <script type=\"text/javascript\">window.PlotlyConfig = {MathJaxConfig: 'local'};</script>\n",
              "        <script src=\"https://cdn.plot.ly/plotly-latest.min.js\"></script>    \n",
              "            <div id=\"e01fa24f-93da-4418-ba57-13f9edb41987\" class=\"plotly-graph-div\" style=\"height:525px; width:100%;\"></div>\n",
              "            <script type=\"text/javascript\">\n",
              "                \n",
              "                    window.PLOTLYENV=window.PLOTLYENV || {};\n",
              "                    \n",
              "                if (document.getElementById(\"e01fa24f-93da-4418-ba57-13f9edb41987\")) {\n",
              "                    Plotly.newPlot(\n",
              "                        'e01fa24f-93da-4418-ba57-13f9edb41987',\n",
              "                        [{\"labels\": [\"\\u0431\\u0430\\u0440\", \"\\u0431\\u0443\\u0444\\u0435\\u0442\", \"\\u0437\\u0430\\u043a\\u0443\\u0441\\u043e\\u0447\\u043d\\u0430\\u044f\", \"\\u043a\\u0430\\u0444\\u0435\", \"\\u043a\\u0430\\u0444\\u0435\\u0442\\u0435\\u0440\\u0438\\u0439\", \"\\u043c\\u0430\\u0433\\u0430\\u0437\\u0438\\u043d (\\u043e\\u0442\\u0434\\u0435\\u043b \\u043a\\u0443\\u043b\\u0438\\u043d\\u0430\\u0440\\u0438\\u0438)\", \"\\u043f\\u0440\\u0435\\u0434\\u043f\\u0440\\u0438\\u044f\\u0442\\u0438\\u0435 \\u0431\\u044b\\u0441\\u0442\\u0440\\u043e\\u0433\\u043e \\u043e\\u0431\\u0441\\u043b\\u0443\\u0436\\u0438\\u0432\\u0430\\u043d\\u0438\\u044f\", \"\\u0440\\u0435\\u0441\\u0442\\u043e\\u0440\\u0430\\u043d\", \"\\u0441\\u0442\\u043e\\u043b\\u043e\\u0432\\u0430\\u044f\"], \"type\": \"pie\", \"values\": [850, 572, 184, 6295, 322, 197, 2260, 2104, 2582]}],\n",
              "                        {\"template\": {\"data\": {\"bar\": [{\"error_x\": {\"color\": \"#2a3f5f\"}, \"error_y\": {\"color\": \"#2a3f5f\"}, \"marker\": {\"line\": {\"color\": \"#E5ECF6\", \"width\": 0.5}}, \"type\": \"bar\"}], \"barpolar\": [{\"marker\": {\"line\": {\"color\": \"#E5ECF6\", \"width\": 0.5}}, \"type\": \"barpolar\"}], \"carpet\": [{\"aaxis\": {\"endlinecolor\": \"#2a3f5f\", \"gridcolor\": \"white\", \"linecolor\": \"white\", \"minorgridcolor\": \"white\", \"startlinecolor\": \"#2a3f5f\"}, \"baxis\": {\"endlinecolor\": \"#2a3f5f\", \"gridcolor\": \"white\", \"linecolor\": \"white\", \"minorgridcolor\": \"white\", \"startlinecolor\": \"#2a3f5f\"}, \"type\": \"carpet\"}], \"choropleth\": [{\"colorbar\": {\"outlinewidth\": 0, \"ticks\": \"\"}, \"type\": \"choropleth\"}], \"contour\": [{\"colorbar\": {\"outlinewidth\": 0, \"ticks\": \"\"}, \"colorscale\": [[0.0, \"#0d0887\"], [0.1111111111111111, \"#46039f\"], [0.2222222222222222, \"#7201a8\"], [0.3333333333333333, \"#9c179e\"], [0.4444444444444444, \"#bd3786\"], [0.5555555555555556, \"#d8576b\"], [0.6666666666666666, \"#ed7953\"], [0.7777777777777778, \"#fb9f3a\"], [0.8888888888888888, \"#fdca26\"], [1.0, \"#f0f921\"]], \"type\": \"contour\"}], \"contourcarpet\": [{\"colorbar\": {\"outlinewidth\": 0, \"ticks\": \"\"}, \"type\": \"contourcarpet\"}], \"heatmap\": [{\"colorbar\": {\"outlinewidth\": 0, \"ticks\": \"\"}, \"colorscale\": [[0.0, \"#0d0887\"], [0.1111111111111111, \"#46039f\"], [0.2222222222222222, \"#7201a8\"], [0.3333333333333333, \"#9c179e\"], [0.4444444444444444, \"#bd3786\"], [0.5555555555555556, \"#d8576b\"], [0.6666666666666666, \"#ed7953\"], [0.7777777777777778, \"#fb9f3a\"], [0.8888888888888888, \"#fdca26\"], [1.0, \"#f0f921\"]], \"type\": \"heatmap\"}], \"heatmapgl\": [{\"colorbar\": {\"outlinewidth\": 0, \"ticks\": \"\"}, \"colorscale\": [[0.0, \"#0d0887\"], [0.1111111111111111, \"#46039f\"], [0.2222222222222222, \"#7201a8\"], [0.3333333333333333, \"#9c179e\"], [0.4444444444444444, \"#bd3786\"], [0.5555555555555556, \"#d8576b\"], [0.6666666666666666, \"#ed7953\"], [0.7777777777777778, \"#fb9f3a\"], [0.8888888888888888, \"#fdca26\"], [1.0, \"#f0f921\"]], \"type\": \"heatmapgl\"}], \"histogram\": [{\"marker\": {\"colorbar\": {\"outlinewidth\": 0, \"ticks\": \"\"}}, \"type\": \"histogram\"}], \"histogram2d\": [{\"colorbar\": {\"outlinewidth\": 0, \"ticks\": \"\"}, \"colorscale\": [[0.0, \"#0d0887\"], [0.1111111111111111, \"#46039f\"], [0.2222222222222222, \"#7201a8\"], [0.3333333333333333, \"#9c179e\"], [0.4444444444444444, \"#bd3786\"], [0.5555555555555556, \"#d8576b\"], [0.6666666666666666, \"#ed7953\"], [0.7777777777777778, \"#fb9f3a\"], [0.8888888888888888, \"#fdca26\"], [1.0, \"#f0f921\"]], \"type\": \"histogram2d\"}], \"histogram2dcontour\": [{\"colorbar\": {\"outlinewidth\": 0, \"ticks\": \"\"}, \"colorscale\": [[0.0, \"#0d0887\"], [0.1111111111111111, \"#46039f\"], [0.2222222222222222, \"#7201a8\"], [0.3333333333333333, \"#9c179e\"], [0.4444444444444444, \"#bd3786\"], [0.5555555555555556, \"#d8576b\"], [0.6666666666666666, \"#ed7953\"], [0.7777777777777778, \"#fb9f3a\"], [0.8888888888888888, \"#fdca26\"], [1.0, \"#f0f921\"]], \"type\": \"histogram2dcontour\"}], \"mesh3d\": [{\"colorbar\": {\"outlinewidth\": 0, \"ticks\": \"\"}, \"type\": \"mesh3d\"}], \"parcoords\": [{\"line\": {\"colorbar\": {\"outlinewidth\": 0, \"ticks\": \"\"}}, \"type\": \"parcoords\"}], \"pie\": [{\"automargin\": true, \"type\": \"pie\"}], \"scatter\": [{\"marker\": {\"colorbar\": {\"outlinewidth\": 0, \"ticks\": \"\"}}, \"type\": \"scatter\"}], \"scatter3d\": [{\"line\": {\"colorbar\": {\"outlinewidth\": 0, \"ticks\": \"\"}}, \"marker\": {\"colorbar\": {\"outlinewidth\": 0, \"ticks\": \"\"}}, \"type\": \"scatter3d\"}], \"scattercarpet\": [{\"marker\": {\"colorbar\": {\"outlinewidth\": 0, \"ticks\": \"\"}}, \"type\": \"scattercarpet\"}], \"scattergeo\": [{\"marker\": {\"colorbar\": {\"outlinewidth\": 0, \"ticks\": \"\"}}, \"type\": \"scattergeo\"}], \"scattergl\": [{\"marker\": {\"colorbar\": {\"outlinewidth\": 0, \"ticks\": \"\"}}, \"type\": \"scattergl\"}], \"scattermapbox\": [{\"marker\": {\"colorbar\": {\"outlinewidth\": 0, \"ticks\": \"\"}}, \"type\": \"scattermapbox\"}], \"scatterpolar\": [{\"marker\": {\"colorbar\": {\"outlinewidth\": 0, \"ticks\": \"\"}}, \"type\": \"scatterpolar\"}], \"scatterpolargl\": [{\"marker\": {\"colorbar\": {\"outlinewidth\": 0, \"ticks\": \"\"}}, \"type\": \"scatterpolargl\"}], \"scatterternary\": [{\"marker\": {\"colorbar\": {\"outlinewidth\": 0, \"ticks\": \"\"}}, \"type\": \"scatterternary\"}], \"surface\": [{\"colorbar\": {\"outlinewidth\": 0, \"ticks\": \"\"}, \"colorscale\": [[0.0, \"#0d0887\"], [0.1111111111111111, \"#46039f\"], [0.2222222222222222, \"#7201a8\"], [0.3333333333333333, \"#9c179e\"], [0.4444444444444444, \"#bd3786\"], [0.5555555555555556, \"#d8576b\"], [0.6666666666666666, \"#ed7953\"], [0.7777777777777778, \"#fb9f3a\"], [0.8888888888888888, \"#fdca26\"], [1.0, \"#f0f921\"]], \"type\": \"surface\"}], \"table\": [{\"cells\": {\"fill\": {\"color\": \"#EBF0F8\"}, \"line\": {\"color\": \"white\"}}, \"header\": {\"fill\": {\"color\": \"#C8D4E3\"}, \"line\": {\"color\": \"white\"}}, \"type\": \"table\"}]}, \"layout\": {\"annotationdefaults\": {\"arrowcolor\": \"#2a3f5f\", \"arrowhead\": 0, \"arrowwidth\": 1}, \"coloraxis\": {\"colorbar\": {\"outlinewidth\": 0, \"ticks\": \"\"}}, \"colorscale\": {\"diverging\": [[0, \"#8e0152\"], [0.1, \"#c51b7d\"], [0.2, \"#de77ae\"], [0.3, \"#f1b6da\"], [0.4, \"#fde0ef\"], [0.5, \"#f7f7f7\"], [0.6, \"#e6f5d0\"], [0.7, \"#b8e186\"], [0.8, \"#7fbc41\"], [0.9, \"#4d9221\"], [1, \"#276419\"]], \"sequential\": [[0.0, \"#0d0887\"], [0.1111111111111111, \"#46039f\"], [0.2222222222222222, \"#7201a8\"], [0.3333333333333333, \"#9c179e\"], [0.4444444444444444, \"#bd3786\"], [0.5555555555555556, \"#d8576b\"], [0.6666666666666666, \"#ed7953\"], [0.7777777777777778, \"#fb9f3a\"], [0.8888888888888888, \"#fdca26\"], [1.0, \"#f0f921\"]], \"sequentialminus\": [[0.0, \"#0d0887\"], [0.1111111111111111, \"#46039f\"], [0.2222222222222222, \"#7201a8\"], [0.3333333333333333, \"#9c179e\"], [0.4444444444444444, \"#bd3786\"], [0.5555555555555556, \"#d8576b\"], [0.6666666666666666, \"#ed7953\"], [0.7777777777777778, \"#fb9f3a\"], [0.8888888888888888, \"#fdca26\"], [1.0, \"#f0f921\"]]}, \"colorway\": [\"#636efa\", \"#EF553B\", \"#00cc96\", \"#ab63fa\", \"#FFA15A\", \"#19d3f3\", \"#FF6692\", \"#B6E880\", \"#FF97FF\", \"#FECB52\"], \"font\": {\"color\": \"#2a3f5f\"}, \"geo\": {\"bgcolor\": \"white\", \"lakecolor\": \"white\", \"landcolor\": \"#E5ECF6\", \"showlakes\": true, \"showland\": true, \"subunitcolor\": \"white\"}, \"hoverlabel\": {\"align\": \"left\"}, \"hovermode\": \"closest\", \"mapbox\": {\"style\": \"light\"}, \"paper_bgcolor\": \"white\", \"plot_bgcolor\": \"#E5ECF6\", \"polar\": {\"angularaxis\": {\"gridcolor\": \"white\", \"linecolor\": \"white\", \"ticks\": \"\"}, \"bgcolor\": \"#E5ECF6\", \"radialaxis\": {\"gridcolor\": \"white\", \"linecolor\": \"white\", \"ticks\": \"\"}}, \"scene\": {\"xaxis\": {\"backgroundcolor\": \"#E5ECF6\", \"gridcolor\": \"white\", \"gridwidth\": 2, \"linecolor\": \"white\", \"showbackground\": true, \"ticks\": \"\", \"zerolinecolor\": \"white\"}, \"yaxis\": {\"backgroundcolor\": \"#E5ECF6\", \"gridcolor\": \"white\", \"gridwidth\": 2, \"linecolor\": \"white\", \"showbackground\": true, \"ticks\": \"\", \"zerolinecolor\": \"white\"}, \"zaxis\": {\"backgroundcolor\": \"#E5ECF6\", \"gridcolor\": \"white\", \"gridwidth\": 2, \"linecolor\": \"white\", \"showbackground\": true, \"ticks\": \"\", \"zerolinecolor\": \"white\"}}, \"shapedefaults\": {\"line\": {\"color\": \"#2a3f5f\"}}, \"ternary\": {\"aaxis\": {\"gridcolor\": \"white\", \"linecolor\": \"white\", \"ticks\": \"\"}, \"baxis\": {\"gridcolor\": \"white\", \"linecolor\": \"white\", \"ticks\": \"\"}, \"bgcolor\": \"#E5ECF6\", \"caxis\": {\"gridcolor\": \"white\", \"linecolor\": \"white\", \"ticks\": \"\"}}, \"title\": {\"x\": 0.05}, \"xaxis\": {\"automargin\": true, \"gridcolor\": \"white\", \"linecolor\": \"white\", \"ticks\": \"\", \"title\": {\"standoff\": 15}, \"zerolinecolor\": \"white\", \"zerolinewidth\": 2}, \"yaxis\": {\"automargin\": true, \"gridcolor\": \"white\", \"linecolor\": \"white\", \"ticks\": \"\", \"title\": {\"standoff\": 15}, \"zerolinecolor\": \"white\", \"zerolinewidth\": 2}}}, \"title\": {\"font\": {\"size\": 18}, \"text\": \"\\u0414\\u043e\\u043b\\u0438 \\u0442\\u0438\\u043f\\u043e\\u0432 \\u0437\\u0430\\u0432\\u0435\\u0434\\u0435\\u043d\\u0438\\u0439 \\u043e\\u0431\\u0449\\u0435\\u0441\\u0442\\u0432\\u0435\\u043d\\u043d\\u043e\\u0433\\u043e \\u043f\\u0438\\u0442\\u0430\\u043d\\u0438\\u044f \\u041c\\u043e\\u0441\\u043a\\u0432\\u044b\"}},\n",
              "                        {\"responsive\": true}\n",
              "                    ).then(function(){\n",
              "                            \n",
              "var gd = document.getElementById('e01fa24f-93da-4418-ba57-13f9edb41987');\n",
              "var x = new MutationObserver(function (mutations, observer) {{\n",
              "        var display = window.getComputedStyle(gd).display;\n",
              "        if (!display || display === 'none') {{\n",
              "            console.log([gd, 'removed!']);\n",
              "            Plotly.purge(gd);\n",
              "            observer.disconnect();\n",
              "        }}\n",
              "}});\n",
              "\n",
              "// Listen for the removal of the full notebook cells\n",
              "var notebookContainer = gd.closest('#notebook-container');\n",
              "if (notebookContainer) {{\n",
              "    x.observe(notebookContainer, {childList: true});\n",
              "}}\n",
              "\n",
              "// Listen for the clearing of the current output cell\n",
              "var outputEl = gd.closest('.output');\n",
              "if (outputEl) {{\n",
              "    x.observe(outputEl, {childList: true});\n",
              "}}\n",
              "\n",
              "                        })\n",
              "                };\n",
              "                \n",
              "            </script>\n",
              "        </div>\n",
              "</body>\n",
              "</html>"
            ]
          },
          "metadata": {}
        }
      ]
    },
    {
      "cell_type": "markdown",
      "metadata": {
        "id": "ErvcK3tosiGK"
      },
      "source": [
        "Среди заведений общепита лидируют кафе - более 6000 точек в Москве, больше 40% от общего количества.\n",
        "\n",
        "На втором месте - почти 17% - столовые (включая объекты в школах и ВУЗах), на третьем - почти 15% - предприятия быстрого обслуживания.\n",
        "\n",
        "Московские рестораны (2000 точек) занимают четвертое место с долей около 14%."
      ]
    },
    {
      "cell_type": "markdown",
      "metadata": {
        "id": "2cn30fhPR-VF"
      },
      "source": [
        "### Соотношение количества сетевых и несетевых объектов общественного питания <a id=\"correct_chain_pivot\"></a>"
      ]
    },
    {
      "cell_type": "markdown",
      "metadata": {
        "id": "JzvUSx01SOvv"
      },
      "source": [
        "Сравним, сколько в Москве сетевых и оригинальных заведений."
      ]
    },
    {
      "cell_type": "code",
      "metadata": {
        "colab": {
          "base_uri": "https://localhost:8080/",
          "height": 111
        },
        "id": "xBpPFDvsRw3K",
        "outputId": "822274c2-6b5d-4458-904c-5758b9f52a1b"
      },
      "source": [
        "#Строим сводную таблицу тип заведения - количество объектов\n",
        "correct_chain_pivot = rest_data.pivot_table(index = 'correct_chain', values = 'number', aggfunc = 'count').reset_index()\n",
        "correct_chain_pivot"
      ],
      "execution_count": 30,
      "outputs": [
        {
          "output_type": "execute_result",
          "data": {
            "text/html": [
              "<div>\n",
              "<style scoped>\n",
              "    .dataframe tbody tr th:only-of-type {\n",
              "        vertical-align: middle;\n",
              "    }\n",
              "\n",
              "    .dataframe tbody tr th {\n",
              "        vertical-align: top;\n",
              "    }\n",
              "\n",
              "    .dataframe thead th {\n",
              "        text-align: right;\n",
              "    }\n",
              "</style>\n",
              "<table border=\"1\" class=\"dataframe\">\n",
              "  <thead>\n",
              "    <tr style=\"text-align: right;\">\n",
              "      <th></th>\n",
              "      <th>correct_chain</th>\n",
              "      <th>number</th>\n",
              "    </tr>\n",
              "  </thead>\n",
              "  <tbody>\n",
              "    <tr>\n",
              "      <th>0</th>\n",
              "      <td>да</td>\n",
              "      <td>2752</td>\n",
              "    </tr>\n",
              "    <tr>\n",
              "      <th>1</th>\n",
              "      <td>нет</td>\n",
              "      <td>12614</td>\n",
              "    </tr>\n",
              "  </tbody>\n",
              "</table>\n",
              "</div>"
            ],
            "text/plain": [
              "  correct_chain  number\n",
              "0  да            2752  \n",
              "1  нет           12614 "
            ]
          },
          "metadata": {},
          "execution_count": 30
        }
      ]
    },
    {
      "cell_type": "code",
      "metadata": {
        "colab": {
          "base_uri": "https://localhost:8080/",
          "height": 542
        },
        "id": "xlMuHjBTSqFg",
        "outputId": "9a85ae42-f96b-432b-8a37-ec47115a9b81"
      },
      "source": [
        "data = correct_chain_pivot.sort_values(by = 'number', ascending = True)\n",
        "fig = px.bar(\n",
        "    data, x='number', y='correct_chain', title='Соотношение количества сетевых/несетевых заведений в Москве',\n",
        "    orientation='h'\n",
        ")\n",
        "fig.update_yaxes(title='Сетевое (да/нет)', side = 'left', showgrid = True)\n",
        "fig.update_xaxes(title='Количество заведений', showgrid = True)\n",
        "fig.show()"
      ],
      "execution_count": 31,
      "outputs": [
        {
          "output_type": "display_data",
          "data": {
            "text/html": [
              "<html>\n",
              "<head><meta charset=\"utf-8\" /></head>\n",
              "<body>\n",
              "    <div>\n",
              "            <script src=\"https://cdnjs.cloudflare.com/ajax/libs/mathjax/2.7.5/MathJax.js?config=TeX-AMS-MML_SVG\"></script><script type=\"text/javascript\">if (window.MathJax) {MathJax.Hub.Config({SVG: {font: \"STIX-Web\"}});}</script>\n",
              "                <script type=\"text/javascript\">window.PlotlyConfig = {MathJaxConfig: 'local'};</script>\n",
              "        <script src=\"https://cdn.plot.ly/plotly-latest.min.js\"></script>    \n",
              "            <div id=\"415dd133-a1db-4ddd-9ba6-c0a5f5ad016f\" class=\"plotly-graph-div\" style=\"height:525px; width:100%;\"></div>\n",
              "            <script type=\"text/javascript\">\n",
              "                \n",
              "                    window.PLOTLYENV=window.PLOTLYENV || {};\n",
              "                    \n",
              "                if (document.getElementById(\"415dd133-a1db-4ddd-9ba6-c0a5f5ad016f\")) {\n",
              "                    Plotly.newPlot(\n",
              "                        '415dd133-a1db-4ddd-9ba6-c0a5f5ad016f',\n",
              "                        [{\"alignmentgroup\": \"True\", \"hoverlabel\": {\"namelength\": 0}, \"hovertemplate\": \"number=%{x}<br>correct_chain=%{y}\", \"legendgroup\": \"\", \"marker\": {\"color\": \"#636efa\"}, \"name\": \"\", \"offsetgroup\": \"\", \"orientation\": \"h\", \"showlegend\": false, \"textposition\": \"auto\", \"type\": \"bar\", \"x\": [2752, 12614], \"xaxis\": \"x\", \"y\": [\"\\u0434\\u0430\", \"\\u043d\\u0435\\u0442\"], \"yaxis\": \"y\"}],\n",
              "                        {\"barmode\": \"relative\", \"legend\": {\"tracegroupgap\": 0}, \"template\": {\"data\": {\"bar\": [{\"error_x\": {\"color\": \"#2a3f5f\"}, \"error_y\": {\"color\": \"#2a3f5f\"}, \"marker\": {\"line\": {\"color\": \"#E5ECF6\", \"width\": 0.5}}, \"type\": \"bar\"}], \"barpolar\": [{\"marker\": {\"line\": {\"color\": \"#E5ECF6\", \"width\": 0.5}}, \"type\": \"barpolar\"}], \"carpet\": [{\"aaxis\": {\"endlinecolor\": \"#2a3f5f\", \"gridcolor\": \"white\", \"linecolor\": \"white\", \"minorgridcolor\": \"white\", \"startlinecolor\": \"#2a3f5f\"}, \"baxis\": {\"endlinecolor\": \"#2a3f5f\", \"gridcolor\": \"white\", \"linecolor\": \"white\", \"minorgridcolor\": \"white\", \"startlinecolor\": \"#2a3f5f\"}, \"type\": \"carpet\"}], \"choropleth\": [{\"colorbar\": {\"outlinewidth\": 0, \"ticks\": \"\"}, \"type\": \"choropleth\"}], \"contour\": [{\"colorbar\": {\"outlinewidth\": 0, \"ticks\": \"\"}, \"colorscale\": [[0.0, \"#0d0887\"], [0.1111111111111111, \"#46039f\"], [0.2222222222222222, \"#7201a8\"], [0.3333333333333333, \"#9c179e\"], [0.4444444444444444, \"#bd3786\"], [0.5555555555555556, \"#d8576b\"], [0.6666666666666666, \"#ed7953\"], [0.7777777777777778, \"#fb9f3a\"], [0.8888888888888888, \"#fdca26\"], [1.0, \"#f0f921\"]], \"type\": \"contour\"}], \"contourcarpet\": [{\"colorbar\": {\"outlinewidth\": 0, \"ticks\": \"\"}, \"type\": \"contourcarpet\"}], \"heatmap\": [{\"colorbar\": {\"outlinewidth\": 0, \"ticks\": \"\"}, \"colorscale\": [[0.0, \"#0d0887\"], [0.1111111111111111, \"#46039f\"], [0.2222222222222222, \"#7201a8\"], [0.3333333333333333, \"#9c179e\"], [0.4444444444444444, \"#bd3786\"], [0.5555555555555556, \"#d8576b\"], [0.6666666666666666, \"#ed7953\"], [0.7777777777777778, \"#fb9f3a\"], [0.8888888888888888, \"#fdca26\"], [1.0, \"#f0f921\"]], \"type\": \"heatmap\"}], \"heatmapgl\": [{\"colorbar\": {\"outlinewidth\": 0, \"ticks\": \"\"}, \"colorscale\": [[0.0, \"#0d0887\"], [0.1111111111111111, \"#46039f\"], [0.2222222222222222, \"#7201a8\"], [0.3333333333333333, \"#9c179e\"], [0.4444444444444444, \"#bd3786\"], [0.5555555555555556, \"#d8576b\"], [0.6666666666666666, \"#ed7953\"], [0.7777777777777778, \"#fb9f3a\"], [0.8888888888888888, \"#fdca26\"], [1.0, \"#f0f921\"]], \"type\": \"heatmapgl\"}], \"histogram\": [{\"marker\": {\"colorbar\": {\"outlinewidth\": 0, \"ticks\": \"\"}}, \"type\": \"histogram\"}], \"histogram2d\": [{\"colorbar\": {\"outlinewidth\": 0, \"ticks\": \"\"}, \"colorscale\": [[0.0, \"#0d0887\"], [0.1111111111111111, \"#46039f\"], [0.2222222222222222, \"#7201a8\"], [0.3333333333333333, \"#9c179e\"], [0.4444444444444444, \"#bd3786\"], [0.5555555555555556, \"#d8576b\"], [0.6666666666666666, \"#ed7953\"], [0.7777777777777778, \"#fb9f3a\"], [0.8888888888888888, \"#fdca26\"], [1.0, \"#f0f921\"]], \"type\": \"histogram2d\"}], \"histogram2dcontour\": [{\"colorbar\": {\"outlinewidth\": 0, \"ticks\": \"\"}, \"colorscale\": [[0.0, \"#0d0887\"], [0.1111111111111111, \"#46039f\"], [0.2222222222222222, \"#7201a8\"], [0.3333333333333333, \"#9c179e\"], [0.4444444444444444, \"#bd3786\"], [0.5555555555555556, \"#d8576b\"], [0.6666666666666666, \"#ed7953\"], [0.7777777777777778, \"#fb9f3a\"], [0.8888888888888888, \"#fdca26\"], [1.0, \"#f0f921\"]], \"type\": \"histogram2dcontour\"}], \"mesh3d\": [{\"colorbar\": {\"outlinewidth\": 0, \"ticks\": \"\"}, \"type\": \"mesh3d\"}], \"parcoords\": [{\"line\": {\"colorbar\": {\"outlinewidth\": 0, \"ticks\": \"\"}}, \"type\": \"parcoords\"}], \"pie\": [{\"automargin\": true, \"type\": \"pie\"}], \"scatter\": [{\"marker\": {\"colorbar\": {\"outlinewidth\": 0, \"ticks\": \"\"}}, \"type\": \"scatter\"}], \"scatter3d\": [{\"line\": {\"colorbar\": {\"outlinewidth\": 0, \"ticks\": \"\"}}, \"marker\": {\"colorbar\": {\"outlinewidth\": 0, \"ticks\": \"\"}}, \"type\": \"scatter3d\"}], \"scattercarpet\": [{\"marker\": {\"colorbar\": {\"outlinewidth\": 0, \"ticks\": \"\"}}, \"type\": \"scattercarpet\"}], \"scattergeo\": [{\"marker\": {\"colorbar\": {\"outlinewidth\": 0, \"ticks\": \"\"}}, \"type\": \"scattergeo\"}], \"scattergl\": [{\"marker\": {\"colorbar\": {\"outlinewidth\": 0, \"ticks\": \"\"}}, \"type\": \"scattergl\"}], \"scattermapbox\": [{\"marker\": {\"colorbar\": {\"outlinewidth\": 0, \"ticks\": \"\"}}, \"type\": \"scattermapbox\"}], \"scatterpolar\": [{\"marker\": {\"colorbar\": {\"outlinewidth\": 0, \"ticks\": \"\"}}, \"type\": \"scatterpolar\"}], \"scatterpolargl\": [{\"marker\": {\"colorbar\": {\"outlinewidth\": 0, \"ticks\": \"\"}}, \"type\": \"scatterpolargl\"}], \"scatterternary\": [{\"marker\": {\"colorbar\": {\"outlinewidth\": 0, \"ticks\": \"\"}}, \"type\": \"scatterternary\"}], \"surface\": [{\"colorbar\": {\"outlinewidth\": 0, \"ticks\": \"\"}, \"colorscale\": [[0.0, \"#0d0887\"], [0.1111111111111111, \"#46039f\"], [0.2222222222222222, \"#7201a8\"], [0.3333333333333333, \"#9c179e\"], [0.4444444444444444, \"#bd3786\"], [0.5555555555555556, \"#d8576b\"], [0.6666666666666666, \"#ed7953\"], [0.7777777777777778, \"#fb9f3a\"], [0.8888888888888888, \"#fdca26\"], [1.0, \"#f0f921\"]], \"type\": \"surface\"}], \"table\": [{\"cells\": {\"fill\": {\"color\": \"#EBF0F8\"}, \"line\": {\"color\": \"white\"}}, \"header\": {\"fill\": {\"color\": \"#C8D4E3\"}, \"line\": {\"color\": \"white\"}}, \"type\": \"table\"}]}, \"layout\": {\"annotationdefaults\": {\"arrowcolor\": \"#2a3f5f\", \"arrowhead\": 0, \"arrowwidth\": 1}, \"coloraxis\": {\"colorbar\": {\"outlinewidth\": 0, \"ticks\": \"\"}}, \"colorscale\": {\"diverging\": [[0, \"#8e0152\"], [0.1, \"#c51b7d\"], [0.2, \"#de77ae\"], [0.3, \"#f1b6da\"], [0.4, \"#fde0ef\"], [0.5, \"#f7f7f7\"], [0.6, \"#e6f5d0\"], [0.7, \"#b8e186\"], [0.8, \"#7fbc41\"], [0.9, \"#4d9221\"], [1, \"#276419\"]], \"sequential\": [[0.0, \"#0d0887\"], [0.1111111111111111, \"#46039f\"], [0.2222222222222222, \"#7201a8\"], [0.3333333333333333, \"#9c179e\"], [0.4444444444444444, \"#bd3786\"], [0.5555555555555556, \"#d8576b\"], [0.6666666666666666, \"#ed7953\"], [0.7777777777777778, \"#fb9f3a\"], [0.8888888888888888, \"#fdca26\"], [1.0, \"#f0f921\"]], \"sequentialminus\": [[0.0, \"#0d0887\"], [0.1111111111111111, \"#46039f\"], [0.2222222222222222, \"#7201a8\"], [0.3333333333333333, \"#9c179e\"], [0.4444444444444444, \"#bd3786\"], [0.5555555555555556, \"#d8576b\"], [0.6666666666666666, \"#ed7953\"], [0.7777777777777778, \"#fb9f3a\"], [0.8888888888888888, \"#fdca26\"], [1.0, \"#f0f921\"]]}, \"colorway\": [\"#636efa\", \"#EF553B\", \"#00cc96\", \"#ab63fa\", \"#FFA15A\", \"#19d3f3\", \"#FF6692\", \"#B6E880\", \"#FF97FF\", \"#FECB52\"], \"font\": {\"color\": \"#2a3f5f\"}, \"geo\": {\"bgcolor\": \"white\", \"lakecolor\": \"white\", \"landcolor\": \"#E5ECF6\", \"showlakes\": true, \"showland\": true, \"subunitcolor\": \"white\"}, \"hoverlabel\": {\"align\": \"left\"}, \"hovermode\": \"closest\", \"mapbox\": {\"style\": \"light\"}, \"paper_bgcolor\": \"white\", \"plot_bgcolor\": \"#E5ECF6\", \"polar\": {\"angularaxis\": {\"gridcolor\": \"white\", \"linecolor\": \"white\", \"ticks\": \"\"}, \"bgcolor\": \"#E5ECF6\", \"radialaxis\": {\"gridcolor\": \"white\", \"linecolor\": \"white\", \"ticks\": \"\"}}, \"scene\": {\"xaxis\": {\"backgroundcolor\": \"#E5ECF6\", \"gridcolor\": \"white\", \"gridwidth\": 2, \"linecolor\": \"white\", \"showbackground\": true, \"ticks\": \"\", \"zerolinecolor\": \"white\"}, \"yaxis\": {\"backgroundcolor\": \"#E5ECF6\", \"gridcolor\": \"white\", \"gridwidth\": 2, \"linecolor\": \"white\", \"showbackground\": true, \"ticks\": \"\", \"zerolinecolor\": \"white\"}, \"zaxis\": {\"backgroundcolor\": \"#E5ECF6\", \"gridcolor\": \"white\", \"gridwidth\": 2, \"linecolor\": \"white\", \"showbackground\": true, \"ticks\": \"\", \"zerolinecolor\": \"white\"}}, \"shapedefaults\": {\"line\": {\"color\": \"#2a3f5f\"}}, \"ternary\": {\"aaxis\": {\"gridcolor\": \"white\", \"linecolor\": \"white\", \"ticks\": \"\"}, \"baxis\": {\"gridcolor\": \"white\", \"linecolor\": \"white\", \"ticks\": \"\"}, \"bgcolor\": \"#E5ECF6\", \"caxis\": {\"gridcolor\": \"white\", \"linecolor\": \"white\", \"ticks\": \"\"}}, \"title\": {\"x\": 0.05}, \"xaxis\": {\"automargin\": true, \"gridcolor\": \"white\", \"linecolor\": \"white\", \"ticks\": \"\", \"title\": {\"standoff\": 15}, \"zerolinecolor\": \"white\", \"zerolinewidth\": 2}, \"yaxis\": {\"automargin\": true, \"gridcolor\": \"white\", \"linecolor\": \"white\", \"ticks\": \"\", \"title\": {\"standoff\": 15}, \"zerolinecolor\": \"white\", \"zerolinewidth\": 2}}}, \"title\": {\"text\": \"\\u0421\\u043e\\u043e\\u0442\\u043d\\u043e\\u0448\\u0435\\u043d\\u0438\\u0435 \\u043a\\u043e\\u043b\\u0438\\u0447\\u0435\\u0441\\u0442\\u0432\\u0430 \\u0441\\u0435\\u0442\\u0435\\u0432\\u044b\\u0445/\\u043d\\u0435\\u0441\\u0435\\u0442\\u0435\\u0432\\u044b\\u0445 \\u0437\\u0430\\u0432\\u0435\\u0434\\u0435\\u043d\\u0438\\u0439 \\u0432 \\u041c\\u043e\\u0441\\u043a\\u0432\\u0435\"}, \"xaxis\": {\"anchor\": \"y\", \"domain\": [0.0, 1.0], \"showgrid\": true, \"title\": {\"text\": \"\\u041a\\u043e\\u043b\\u0438\\u0447\\u0435\\u0441\\u0442\\u0432\\u043e \\u0437\\u0430\\u0432\\u0435\\u0434\\u0435\\u043d\\u0438\\u0439\"}}, \"yaxis\": {\"anchor\": \"x\", \"domain\": [0.0, 1.0], \"showgrid\": true, \"side\": \"left\", \"title\": {\"text\": \"\\u0421\\u0435\\u0442\\u0435\\u0432\\u043e\\u0435 (\\u0434\\u0430/\\u043d\\u0435\\u0442)\"}}},\n",
              "                        {\"responsive\": true}\n",
              "                    ).then(function(){\n",
              "                            \n",
              "var gd = document.getElementById('415dd133-a1db-4ddd-9ba6-c0a5f5ad016f');\n",
              "var x = new MutationObserver(function (mutations, observer) {{\n",
              "        var display = window.getComputedStyle(gd).display;\n",
              "        if (!display || display === 'none') {{\n",
              "            console.log([gd, 'removed!']);\n",
              "            Plotly.purge(gd);\n",
              "            observer.disconnect();\n",
              "        }}\n",
              "}});\n",
              "\n",
              "// Listen for the removal of the full notebook cells\n",
              "var notebookContainer = gd.closest('#notebook-container');\n",
              "if (notebookContainer) {{\n",
              "    x.observe(notebookContainer, {childList: true});\n",
              "}}\n",
              "\n",
              "// Listen for the clearing of the current output cell\n",
              "var outputEl = gd.closest('.output');\n",
              "if (outputEl) {{\n",
              "    x.observe(outputEl, {childList: true});\n",
              "}}\n",
              "\n",
              "                        })\n",
              "                };\n",
              "                \n",
              "            </script>\n",
              "        </div>\n",
              "</body>\n",
              "</html>"
            ]
          },
          "metadata": {}
        }
      ]
    },
    {
      "cell_type": "code",
      "metadata": {
        "colab": {
          "base_uri": "https://localhost:8080/",
          "height": 542
        },
        "id": "GqsY2JOTTOFq",
        "outputId": "431e5808-7d86-4c7d-f394-225664cec57f"
      },
      "source": [
        "fig = go.Figure(data=[go.Pie(labels=correct_chain_pivot['correct_chain'], values=correct_chain_pivot['number'])])\n",
        "fig.update_layout(title_text=\"Доли сетевых и несетевых заведений общественного питания Москвы\",\n",
        "                  title_font_size=18)\n",
        "fig.show()"
      ],
      "execution_count": 32,
      "outputs": [
        {
          "output_type": "display_data",
          "data": {
            "text/html": [
              "<html>\n",
              "<head><meta charset=\"utf-8\" /></head>\n",
              "<body>\n",
              "    <div>\n",
              "            <script src=\"https://cdnjs.cloudflare.com/ajax/libs/mathjax/2.7.5/MathJax.js?config=TeX-AMS-MML_SVG\"></script><script type=\"text/javascript\">if (window.MathJax) {MathJax.Hub.Config({SVG: {font: \"STIX-Web\"}});}</script>\n",
              "                <script type=\"text/javascript\">window.PlotlyConfig = {MathJaxConfig: 'local'};</script>\n",
              "        <script src=\"https://cdn.plot.ly/plotly-latest.min.js\"></script>    \n",
              "            <div id=\"2b23d76c-1a16-48ff-9631-bb1d21a10fcb\" class=\"plotly-graph-div\" style=\"height:525px; width:100%;\"></div>\n",
              "            <script type=\"text/javascript\">\n",
              "                \n",
              "                    window.PLOTLYENV=window.PLOTLYENV || {};\n",
              "                    \n",
              "                if (document.getElementById(\"2b23d76c-1a16-48ff-9631-bb1d21a10fcb\")) {\n",
              "                    Plotly.newPlot(\n",
              "                        '2b23d76c-1a16-48ff-9631-bb1d21a10fcb',\n",
              "                        [{\"labels\": [\"\\u0434\\u0430\", \"\\u043d\\u0435\\u0442\"], \"type\": \"pie\", \"values\": [2752, 12614]}],\n",
              "                        {\"template\": {\"data\": {\"bar\": [{\"error_x\": {\"color\": \"#2a3f5f\"}, \"error_y\": {\"color\": \"#2a3f5f\"}, \"marker\": {\"line\": {\"color\": \"#E5ECF6\", \"width\": 0.5}}, \"type\": \"bar\"}], \"barpolar\": [{\"marker\": {\"line\": {\"color\": \"#E5ECF6\", \"width\": 0.5}}, \"type\": \"barpolar\"}], \"carpet\": [{\"aaxis\": {\"endlinecolor\": \"#2a3f5f\", \"gridcolor\": \"white\", \"linecolor\": \"white\", \"minorgridcolor\": \"white\", \"startlinecolor\": \"#2a3f5f\"}, \"baxis\": {\"endlinecolor\": \"#2a3f5f\", \"gridcolor\": \"white\", \"linecolor\": \"white\", \"minorgridcolor\": \"white\", \"startlinecolor\": \"#2a3f5f\"}, \"type\": \"carpet\"}], \"choropleth\": [{\"colorbar\": {\"outlinewidth\": 0, \"ticks\": \"\"}, \"type\": \"choropleth\"}], \"contour\": [{\"colorbar\": {\"outlinewidth\": 0, \"ticks\": \"\"}, \"colorscale\": [[0.0, \"#0d0887\"], [0.1111111111111111, \"#46039f\"], [0.2222222222222222, \"#7201a8\"], [0.3333333333333333, \"#9c179e\"], [0.4444444444444444, \"#bd3786\"], [0.5555555555555556, \"#d8576b\"], [0.6666666666666666, \"#ed7953\"], [0.7777777777777778, \"#fb9f3a\"], [0.8888888888888888, \"#fdca26\"], [1.0, \"#f0f921\"]], \"type\": \"contour\"}], \"contourcarpet\": [{\"colorbar\": {\"outlinewidth\": 0, \"ticks\": \"\"}, \"type\": \"contourcarpet\"}], \"heatmap\": [{\"colorbar\": {\"outlinewidth\": 0, \"ticks\": \"\"}, \"colorscale\": [[0.0, \"#0d0887\"], [0.1111111111111111, \"#46039f\"], [0.2222222222222222, \"#7201a8\"], [0.3333333333333333, \"#9c179e\"], [0.4444444444444444, \"#bd3786\"], [0.5555555555555556, \"#d8576b\"], [0.6666666666666666, \"#ed7953\"], [0.7777777777777778, \"#fb9f3a\"], [0.8888888888888888, \"#fdca26\"], [1.0, \"#f0f921\"]], \"type\": \"heatmap\"}], \"heatmapgl\": [{\"colorbar\": {\"outlinewidth\": 0, \"ticks\": \"\"}, \"colorscale\": [[0.0, \"#0d0887\"], [0.1111111111111111, \"#46039f\"], [0.2222222222222222, \"#7201a8\"], [0.3333333333333333, \"#9c179e\"], [0.4444444444444444, \"#bd3786\"], [0.5555555555555556, \"#d8576b\"], [0.6666666666666666, \"#ed7953\"], [0.7777777777777778, \"#fb9f3a\"], [0.8888888888888888, \"#fdca26\"], [1.0, \"#f0f921\"]], \"type\": \"heatmapgl\"}], \"histogram\": [{\"marker\": {\"colorbar\": {\"outlinewidth\": 0, \"ticks\": \"\"}}, \"type\": \"histogram\"}], \"histogram2d\": [{\"colorbar\": {\"outlinewidth\": 0, \"ticks\": \"\"}, \"colorscale\": [[0.0, \"#0d0887\"], [0.1111111111111111, \"#46039f\"], [0.2222222222222222, \"#7201a8\"], [0.3333333333333333, \"#9c179e\"], [0.4444444444444444, \"#bd3786\"], [0.5555555555555556, \"#d8576b\"], [0.6666666666666666, \"#ed7953\"], [0.7777777777777778, \"#fb9f3a\"], [0.8888888888888888, \"#fdca26\"], [1.0, \"#f0f921\"]], \"type\": \"histogram2d\"}], \"histogram2dcontour\": [{\"colorbar\": {\"outlinewidth\": 0, \"ticks\": \"\"}, \"colorscale\": [[0.0, \"#0d0887\"], [0.1111111111111111, \"#46039f\"], [0.2222222222222222, \"#7201a8\"], [0.3333333333333333, \"#9c179e\"], [0.4444444444444444, \"#bd3786\"], [0.5555555555555556, \"#d8576b\"], [0.6666666666666666, \"#ed7953\"], [0.7777777777777778, \"#fb9f3a\"], [0.8888888888888888, \"#fdca26\"], [1.0, \"#f0f921\"]], \"type\": \"histogram2dcontour\"}], \"mesh3d\": [{\"colorbar\": {\"outlinewidth\": 0, \"ticks\": \"\"}, \"type\": \"mesh3d\"}], \"parcoords\": [{\"line\": {\"colorbar\": {\"outlinewidth\": 0, \"ticks\": \"\"}}, \"type\": \"parcoords\"}], \"pie\": [{\"automargin\": true, \"type\": \"pie\"}], \"scatter\": [{\"marker\": {\"colorbar\": {\"outlinewidth\": 0, \"ticks\": \"\"}}, \"type\": \"scatter\"}], \"scatter3d\": [{\"line\": {\"colorbar\": {\"outlinewidth\": 0, \"ticks\": \"\"}}, \"marker\": {\"colorbar\": {\"outlinewidth\": 0, \"ticks\": \"\"}}, \"type\": \"scatter3d\"}], \"scattercarpet\": [{\"marker\": {\"colorbar\": {\"outlinewidth\": 0, \"ticks\": \"\"}}, \"type\": \"scattercarpet\"}], \"scattergeo\": [{\"marker\": {\"colorbar\": {\"outlinewidth\": 0, \"ticks\": \"\"}}, \"type\": \"scattergeo\"}], \"scattergl\": [{\"marker\": {\"colorbar\": {\"outlinewidth\": 0, \"ticks\": \"\"}}, \"type\": \"scattergl\"}], \"scattermapbox\": [{\"marker\": {\"colorbar\": {\"outlinewidth\": 0, \"ticks\": \"\"}}, \"type\": \"scattermapbox\"}], \"scatterpolar\": [{\"marker\": {\"colorbar\": {\"outlinewidth\": 0, \"ticks\": \"\"}}, \"type\": \"scatterpolar\"}], \"scatterpolargl\": [{\"marker\": {\"colorbar\": {\"outlinewidth\": 0, \"ticks\": \"\"}}, \"type\": \"scatterpolargl\"}], \"scatterternary\": [{\"marker\": {\"colorbar\": {\"outlinewidth\": 0, \"ticks\": \"\"}}, \"type\": \"scatterternary\"}], \"surface\": [{\"colorbar\": {\"outlinewidth\": 0, \"ticks\": \"\"}, \"colorscale\": [[0.0, \"#0d0887\"], [0.1111111111111111, \"#46039f\"], [0.2222222222222222, \"#7201a8\"], [0.3333333333333333, \"#9c179e\"], [0.4444444444444444, \"#bd3786\"], [0.5555555555555556, \"#d8576b\"], [0.6666666666666666, \"#ed7953\"], [0.7777777777777778, \"#fb9f3a\"], [0.8888888888888888, \"#fdca26\"], [1.0, \"#f0f921\"]], \"type\": \"surface\"}], \"table\": [{\"cells\": {\"fill\": {\"color\": \"#EBF0F8\"}, \"line\": {\"color\": \"white\"}}, \"header\": {\"fill\": {\"color\": \"#C8D4E3\"}, \"line\": {\"color\": \"white\"}}, \"type\": \"table\"}]}, \"layout\": {\"annotationdefaults\": {\"arrowcolor\": \"#2a3f5f\", \"arrowhead\": 0, \"arrowwidth\": 1}, \"coloraxis\": {\"colorbar\": {\"outlinewidth\": 0, \"ticks\": \"\"}}, \"colorscale\": {\"diverging\": [[0, \"#8e0152\"], [0.1, \"#c51b7d\"], [0.2, \"#de77ae\"], [0.3, \"#f1b6da\"], [0.4, \"#fde0ef\"], [0.5, \"#f7f7f7\"], [0.6, \"#e6f5d0\"], [0.7, \"#b8e186\"], [0.8, \"#7fbc41\"], [0.9, \"#4d9221\"], [1, \"#276419\"]], \"sequential\": [[0.0, \"#0d0887\"], [0.1111111111111111, \"#46039f\"], [0.2222222222222222, \"#7201a8\"], [0.3333333333333333, \"#9c179e\"], [0.4444444444444444, \"#bd3786\"], [0.5555555555555556, \"#d8576b\"], [0.6666666666666666, \"#ed7953\"], [0.7777777777777778, \"#fb9f3a\"], [0.8888888888888888, \"#fdca26\"], [1.0, \"#f0f921\"]], \"sequentialminus\": [[0.0, \"#0d0887\"], [0.1111111111111111, \"#46039f\"], [0.2222222222222222, \"#7201a8\"], [0.3333333333333333, \"#9c179e\"], [0.4444444444444444, \"#bd3786\"], [0.5555555555555556, \"#d8576b\"], [0.6666666666666666, \"#ed7953\"], [0.7777777777777778, \"#fb9f3a\"], [0.8888888888888888, \"#fdca26\"], [1.0, \"#f0f921\"]]}, \"colorway\": [\"#636efa\", \"#EF553B\", \"#00cc96\", \"#ab63fa\", \"#FFA15A\", \"#19d3f3\", \"#FF6692\", \"#B6E880\", \"#FF97FF\", \"#FECB52\"], \"font\": {\"color\": \"#2a3f5f\"}, \"geo\": {\"bgcolor\": \"white\", \"lakecolor\": \"white\", \"landcolor\": \"#E5ECF6\", \"showlakes\": true, \"showland\": true, \"subunitcolor\": \"white\"}, \"hoverlabel\": {\"align\": \"left\"}, \"hovermode\": \"closest\", \"mapbox\": {\"style\": \"light\"}, \"paper_bgcolor\": \"white\", \"plot_bgcolor\": \"#E5ECF6\", \"polar\": {\"angularaxis\": {\"gridcolor\": \"white\", \"linecolor\": \"white\", \"ticks\": \"\"}, \"bgcolor\": \"#E5ECF6\", \"radialaxis\": {\"gridcolor\": \"white\", \"linecolor\": \"white\", \"ticks\": \"\"}}, \"scene\": {\"xaxis\": {\"backgroundcolor\": \"#E5ECF6\", \"gridcolor\": \"white\", \"gridwidth\": 2, \"linecolor\": \"white\", \"showbackground\": true, \"ticks\": \"\", \"zerolinecolor\": \"white\"}, \"yaxis\": {\"backgroundcolor\": \"#E5ECF6\", \"gridcolor\": \"white\", \"gridwidth\": 2, \"linecolor\": \"white\", \"showbackground\": true, \"ticks\": \"\", \"zerolinecolor\": \"white\"}, \"zaxis\": {\"backgroundcolor\": \"#E5ECF6\", \"gridcolor\": \"white\", \"gridwidth\": 2, \"linecolor\": \"white\", \"showbackground\": true, \"ticks\": \"\", \"zerolinecolor\": \"white\"}}, \"shapedefaults\": {\"line\": {\"color\": \"#2a3f5f\"}}, \"ternary\": {\"aaxis\": {\"gridcolor\": \"white\", \"linecolor\": \"white\", \"ticks\": \"\"}, \"baxis\": {\"gridcolor\": \"white\", \"linecolor\": \"white\", \"ticks\": \"\"}, \"bgcolor\": \"#E5ECF6\", \"caxis\": {\"gridcolor\": \"white\", \"linecolor\": \"white\", \"ticks\": \"\"}}, \"title\": {\"x\": 0.05}, \"xaxis\": {\"automargin\": true, \"gridcolor\": \"white\", \"linecolor\": \"white\", \"ticks\": \"\", \"title\": {\"standoff\": 15}, \"zerolinecolor\": \"white\", \"zerolinewidth\": 2}, \"yaxis\": {\"automargin\": true, \"gridcolor\": \"white\", \"linecolor\": \"white\", \"ticks\": \"\", \"title\": {\"standoff\": 15}, \"zerolinecolor\": \"white\", \"zerolinewidth\": 2}}}, \"title\": {\"font\": {\"size\": 18}, \"text\": \"\\u0414\\u043e\\u043b\\u0438 \\u0441\\u0435\\u0442\\u0435\\u0432\\u044b\\u0445 \\u0438 \\u043d\\u0435\\u0441\\u0435\\u0442\\u0435\\u0432\\u044b\\u0445 \\u0437\\u0430\\u0432\\u0435\\u0434\\u0435\\u043d\\u0438\\u0439 \\u043e\\u0431\\u0449\\u0435\\u0441\\u0442\\u0432\\u0435\\u043d\\u043d\\u043e\\u0433\\u043e \\u043f\\u0438\\u0442\\u0430\\u043d\\u0438\\u044f \\u041c\\u043e\\u0441\\u043a\\u0432\\u044b\"}},\n",
              "                        {\"responsive\": true}\n",
              "                    ).then(function(){\n",
              "                            \n",
              "var gd = document.getElementById('2b23d76c-1a16-48ff-9631-bb1d21a10fcb');\n",
              "var x = new MutationObserver(function (mutations, observer) {{\n",
              "        var display = window.getComputedStyle(gd).display;\n",
              "        if (!display || display === 'none') {{\n",
              "            console.log([gd, 'removed!']);\n",
              "            Plotly.purge(gd);\n",
              "            observer.disconnect();\n",
              "        }}\n",
              "}});\n",
              "\n",
              "// Listen for the removal of the full notebook cells\n",
              "var notebookContainer = gd.closest('#notebook-container');\n",
              "if (notebookContainer) {{\n",
              "    x.observe(notebookContainer, {childList: true});\n",
              "}}\n",
              "\n",
              "// Listen for the clearing of the current output cell\n",
              "var outputEl = gd.closest('.output');\n",
              "if (outputEl) {{\n",
              "    x.observe(outputEl, {childList: true});\n",
              "}}\n",
              "\n",
              "                        })\n",
              "                };\n",
              "                \n",
              "            </script>\n",
              "        </div>\n",
              "</body>\n",
              "</html>"
            ]
          },
          "metadata": {}
        }
      ]
    },
    {
      "cell_type": "markdown",
      "metadata": {
        "id": "muATPvGGTfet"
      },
      "source": [
        "Итак, на сетевые предприятия приходится меньше 20% рынка объектов общепита. \n",
        "\n",
        "Конкуренция на рынке уникальных заведений высока - таких объектов в Москве около 12,5 тысяч."
      ]
    },
    {
      "cell_type": "markdown",
      "metadata": {
        "id": "0jOfQ2EmV_T5"
      },
      "source": [
        "### Самые распространенные типы объектов питания в сетях и вне сетей <a id=\"chain_object_pivot\"></a>"
      ]
    },
    {
      "cell_type": "markdown",
      "metadata": {
        "id": "BSmJi5wsI3Nn"
      },
      "source": [
        "Выясним, для какого типа заведения общепита более характерно сетевое распространение."
      ]
    },
    {
      "cell_type": "code",
      "metadata": {
        "colab": {
          "base_uri": "https://localhost:8080/",
          "height": 224
        },
        "id": "4o9HkjiPI3No",
        "outputId": "368c2c8c-38f2-4389-9571-04711c3d06fa"
      },
      "source": [
        "type_chain_char = rest_data.pivot_table(index = 'correct_object_type', columns = 'correct_chain', values = 'id', aggfunc = 'count').fillna(0).reset_index()\n",
        "type_chain_char.columns = ['object_type', 'chain_number', 'not_chain_number']\n",
        "type_chain_char['%_chain'] = type_chain_char['chain_number'] / (type_chain_char['chain_number'] + type_chain_char['not_chain_number'])\n",
        "type_chain_char['%_not_chain'] = type_chain_char['not_chain_number'] / (type_chain_char['chain_number'] + type_chain_char['not_chain_number'])\n",
        "type_chain_char.sort_values(by = '%_chain', ascending = False).style.format({'%_chain': '{:.2%}', '%_not_chain': '{:.2%}'})"
      ],
      "execution_count": 33,
      "outputs": [
        {
          "output_type": "execute_result",
          "data": {
            "text/html": [
              "<style  type=\"text/css\" >\n",
              "</style><table id=\"T_c8dca9fe_03ed_11ec_95a1_0242ac1c0002\" ><thead>    <tr>        <th class=\"blank level0\" ></th>        <th class=\"col_heading level0 col0\" >object_type</th>        <th class=\"col_heading level0 col1\" >chain_number</th>        <th class=\"col_heading level0 col2\" >not_chain_number</th>        <th class=\"col_heading level0 col3\" >%_chain</th>        <th class=\"col_heading level0 col4\" >%_not_chain</th>    </tr></thead><tbody>\n",
              "                <tr>\n",
              "                        <th id=\"T_c8dca9fe_03ed_11ec_95a1_0242ac1c0002level0_row0\" class=\"row_heading level0 row0\" >6</th>\n",
              "                        <td id=\"T_c8dca9fe_03ed_11ec_95a1_0242ac1c0002row0_col0\" class=\"data row0 col0\" >предприятие быстрого обслуживания</td>\n",
              "                        <td id=\"T_c8dca9fe_03ed_11ec_95a1_0242ac1c0002row0_col1\" class=\"data row0 col1\" >1005.000000</td>\n",
              "                        <td id=\"T_c8dca9fe_03ed_11ec_95a1_0242ac1c0002row0_col2\" class=\"data row0 col2\" >1255.000000</td>\n",
              "                        <td id=\"T_c8dca9fe_03ed_11ec_95a1_0242ac1c0002row0_col3\" class=\"data row0 col3\" >44.47%</td>\n",
              "                        <td id=\"T_c8dca9fe_03ed_11ec_95a1_0242ac1c0002row0_col4\" class=\"data row0 col4\" >55.53%</td>\n",
              "            </tr>\n",
              "            <tr>\n",
              "                        <th id=\"T_c8dca9fe_03ed_11ec_95a1_0242ac1c0002level0_row1\" class=\"row_heading level0 row1\" >3</th>\n",
              "                        <td id=\"T_c8dca9fe_03ed_11ec_95a1_0242ac1c0002row1_col0\" class=\"data row1 col0\" >кафе</td>\n",
              "                        <td id=\"T_c8dca9fe_03ed_11ec_95a1_0242ac1c0002row1_col1\" class=\"data row1 col1\" >1344.000000</td>\n",
              "                        <td id=\"T_c8dca9fe_03ed_11ec_95a1_0242ac1c0002row1_col2\" class=\"data row1 col2\" >4951.000000</td>\n",
              "                        <td id=\"T_c8dca9fe_03ed_11ec_95a1_0242ac1c0002row1_col3\" class=\"data row1 col3\" >21.35%</td>\n",
              "                        <td id=\"T_c8dca9fe_03ed_11ec_95a1_0242ac1c0002row1_col4\" class=\"data row1 col4\" >78.65%</td>\n",
              "            </tr>\n",
              "            <tr>\n",
              "                        <th id=\"T_c8dca9fe_03ed_11ec_95a1_0242ac1c0002level0_row2\" class=\"row_heading level0 row2\" >7</th>\n",
              "                        <td id=\"T_c8dca9fe_03ed_11ec_95a1_0242ac1c0002row2_col0\" class=\"data row2 col0\" >ресторан</td>\n",
              "                        <td id=\"T_c8dca9fe_03ed_11ec_95a1_0242ac1c0002row2_col1\" class=\"data row2 col1\" >372.000000</td>\n",
              "                        <td id=\"T_c8dca9fe_03ed_11ec_95a1_0242ac1c0002row2_col2\" class=\"data row2 col2\" >1732.000000</td>\n",
              "                        <td id=\"T_c8dca9fe_03ed_11ec_95a1_0242ac1c0002row2_col3\" class=\"data row2 col3\" >17.68%</td>\n",
              "                        <td id=\"T_c8dca9fe_03ed_11ec_95a1_0242ac1c0002row2_col4\" class=\"data row2 col4\" >82.32%</td>\n",
              "            </tr>\n",
              "            <tr>\n",
              "                        <th id=\"T_c8dca9fe_03ed_11ec_95a1_0242ac1c0002level0_row3\" class=\"row_heading level0 row3\" >2</th>\n",
              "                        <td id=\"T_c8dca9fe_03ed_11ec_95a1_0242ac1c0002row3_col0\" class=\"data row3 col0\" >закусочная</td>\n",
              "                        <td id=\"T_c8dca9fe_03ed_11ec_95a1_0242ac1c0002row3_col1\" class=\"data row3 col1\" >4.000000</td>\n",
              "                        <td id=\"T_c8dca9fe_03ed_11ec_95a1_0242ac1c0002row3_col2\" class=\"data row3 col2\" >180.000000</td>\n",
              "                        <td id=\"T_c8dca9fe_03ed_11ec_95a1_0242ac1c0002row3_col3\" class=\"data row3 col3\" >2.17%</td>\n",
              "                        <td id=\"T_c8dca9fe_03ed_11ec_95a1_0242ac1c0002row3_col4\" class=\"data row3 col4\" >97.83%</td>\n",
              "            </tr>\n",
              "            <tr>\n",
              "                        <th id=\"T_c8dca9fe_03ed_11ec_95a1_0242ac1c0002level0_row4\" class=\"row_heading level0 row4\" >0</th>\n",
              "                        <td id=\"T_c8dca9fe_03ed_11ec_95a1_0242ac1c0002row4_col0\" class=\"data row4 col0\" >бар</td>\n",
              "                        <td id=\"T_c8dca9fe_03ed_11ec_95a1_0242ac1c0002row4_col1\" class=\"data row4 col1\" >17.000000</td>\n",
              "                        <td id=\"T_c8dca9fe_03ed_11ec_95a1_0242ac1c0002row4_col2\" class=\"data row4 col2\" >833.000000</td>\n",
              "                        <td id=\"T_c8dca9fe_03ed_11ec_95a1_0242ac1c0002row4_col3\" class=\"data row4 col3\" >2.00%</td>\n",
              "                        <td id=\"T_c8dca9fe_03ed_11ec_95a1_0242ac1c0002row4_col4\" class=\"data row4 col4\" >98.00%</td>\n",
              "            </tr>\n",
              "            <tr>\n",
              "                        <th id=\"T_c8dca9fe_03ed_11ec_95a1_0242ac1c0002level0_row5\" class=\"row_heading level0 row5\" >4</th>\n",
              "                        <td id=\"T_c8dca9fe_03ed_11ec_95a1_0242ac1c0002row5_col0\" class=\"data row5 col0\" >кафетерий</td>\n",
              "                        <td id=\"T_c8dca9fe_03ed_11ec_95a1_0242ac1c0002row5_col1\" class=\"data row5 col1\" >5.000000</td>\n",
              "                        <td id=\"T_c8dca9fe_03ed_11ec_95a1_0242ac1c0002row5_col2\" class=\"data row5 col2\" >317.000000</td>\n",
              "                        <td id=\"T_c8dca9fe_03ed_11ec_95a1_0242ac1c0002row5_col3\" class=\"data row5 col3\" >1.55%</td>\n",
              "                        <td id=\"T_c8dca9fe_03ed_11ec_95a1_0242ac1c0002row5_col4\" class=\"data row5 col4\" >98.45%</td>\n",
              "            </tr>\n",
              "            <tr>\n",
              "                        <th id=\"T_c8dca9fe_03ed_11ec_95a1_0242ac1c0002level0_row6\" class=\"row_heading level0 row6\" >5</th>\n",
              "                        <td id=\"T_c8dca9fe_03ed_11ec_95a1_0242ac1c0002row6_col0\" class=\"data row6 col0\" >магазин (отдел кулинарии)</td>\n",
              "                        <td id=\"T_c8dca9fe_03ed_11ec_95a1_0242ac1c0002row6_col1\" class=\"data row6 col1\" >3.000000</td>\n",
              "                        <td id=\"T_c8dca9fe_03ed_11ec_95a1_0242ac1c0002row6_col2\" class=\"data row6 col2\" >194.000000</td>\n",
              "                        <td id=\"T_c8dca9fe_03ed_11ec_95a1_0242ac1c0002row6_col3\" class=\"data row6 col3\" >1.52%</td>\n",
              "                        <td id=\"T_c8dca9fe_03ed_11ec_95a1_0242ac1c0002row6_col4\" class=\"data row6 col4\" >98.48%</td>\n",
              "            </tr>\n",
              "            <tr>\n",
              "                        <th id=\"T_c8dca9fe_03ed_11ec_95a1_0242ac1c0002level0_row7\" class=\"row_heading level0 row7\" >1</th>\n",
              "                        <td id=\"T_c8dca9fe_03ed_11ec_95a1_0242ac1c0002row7_col0\" class=\"data row7 col0\" >буфет</td>\n",
              "                        <td id=\"T_c8dca9fe_03ed_11ec_95a1_0242ac1c0002row7_col1\" class=\"data row7 col1\" >2.000000</td>\n",
              "                        <td id=\"T_c8dca9fe_03ed_11ec_95a1_0242ac1c0002row7_col2\" class=\"data row7 col2\" >570.000000</td>\n",
              "                        <td id=\"T_c8dca9fe_03ed_11ec_95a1_0242ac1c0002row7_col3\" class=\"data row7 col3\" >0.35%</td>\n",
              "                        <td id=\"T_c8dca9fe_03ed_11ec_95a1_0242ac1c0002row7_col4\" class=\"data row7 col4\" >99.65%</td>\n",
              "            </tr>\n",
              "            <tr>\n",
              "                        <th id=\"T_c8dca9fe_03ed_11ec_95a1_0242ac1c0002level0_row8\" class=\"row_heading level0 row8\" >8</th>\n",
              "                        <td id=\"T_c8dca9fe_03ed_11ec_95a1_0242ac1c0002row8_col0\" class=\"data row8 col0\" >столовая</td>\n",
              "                        <td id=\"T_c8dca9fe_03ed_11ec_95a1_0242ac1c0002row8_col1\" class=\"data row8 col1\" >0.000000</td>\n",
              "                        <td id=\"T_c8dca9fe_03ed_11ec_95a1_0242ac1c0002row8_col2\" class=\"data row8 col2\" >2582.000000</td>\n",
              "                        <td id=\"T_c8dca9fe_03ed_11ec_95a1_0242ac1c0002row8_col3\" class=\"data row8 col3\" >0.00%</td>\n",
              "                        <td id=\"T_c8dca9fe_03ed_11ec_95a1_0242ac1c0002row8_col4\" class=\"data row8 col4\" >100.00%</td>\n",
              "            </tr>\n",
              "    </tbody></table>"
            ],
            "text/plain": [
              "<pandas.io.formats.style.Styler at 0x7f0d91669fd0>"
            ]
          },
          "metadata": {},
          "execution_count": 33
        }
      ]
    },
    {
      "cell_type": "markdown",
      "metadata": {
        "id": "81oMjU3sI3No"
      },
      "source": [
        "Итак, если рассматривать доли сетевых заведений, лидировать будут предприятия быстрого обслуживания. Почти половина таких объектов принадлежит сетям.\n",
        "\n",
        "На втором месте кафе (23%), на третьем - рестораны (21%).\n",
        "\n",
        "Сетевых столовых, оказывается, не бывает. :)"
      ]
    },
    {
      "cell_type": "code",
      "metadata": {
        "colab": {
          "base_uri": "https://localhost:8080/",
          "height": 724
        },
        "id": "e4dX19JMWccy",
        "outputId": "ca52cad2-5084-4438-e051-bb5981121c24"
      },
      "source": [
        "cafe = ['предприятие быстрого обслуживания', 'кафе', 'ресторан']\n",
        "for i in cafe:\n",
        "  popular_chain_cafe = rest_data.query('correct_chain == \"да\"').query('correct_object_type == @i').groupby('object_name').agg({'number':'count'}).sort_values(by = 'number', ascending = False)\n",
        "  print('Топ-5 сетей', i)\n",
        "  display(popular_chain_cafe.head())"
      ],
      "execution_count": 34,
      "outputs": [
        {
          "output_type": "stream",
          "text": [
            "Топ-5 сетей предприятие быстрого обслуживания\n"
          ],
          "name": "stdout"
        },
        {
          "output_type": "display_data",
          "data": {
            "text/html": [
              "<div>\n",
              "<style scoped>\n",
              "    .dataframe tbody tr th:only-of-type {\n",
              "        vertical-align: middle;\n",
              "    }\n",
              "\n",
              "    .dataframe tbody tr th {\n",
              "        vertical-align: top;\n",
              "    }\n",
              "\n",
              "    .dataframe thead th {\n",
              "        text-align: right;\n",
              "    }\n",
              "</style>\n",
              "<table border=\"1\" class=\"dataframe\">\n",
              "  <thead>\n",
              "    <tr style=\"text-align: right;\">\n",
              "      <th></th>\n",
              "      <th>number</th>\n",
              "    </tr>\n",
              "    <tr>\n",
              "      <th>object_name</th>\n",
              "      <th></th>\n",
              "    </tr>\n",
              "  </thead>\n",
              "  <tbody>\n",
              "    <tr>\n",
              "      <th>kfc</th>\n",
              "      <td>187</td>\n",
              "    </tr>\n",
              "    <tr>\n",
              "      <th>макдоналдс</th>\n",
              "      <td>172</td>\n",
              "    </tr>\n",
              "    <tr>\n",
              "      <th>бургер кинг</th>\n",
              "      <td>162</td>\n",
              "    </tr>\n",
              "    <tr>\n",
              "      <th>теремок</th>\n",
              "      <td>105</td>\n",
              "    </tr>\n",
              "    <tr>\n",
              "      <th>крошка картошка</th>\n",
              "      <td>90</td>\n",
              "    </tr>\n",
              "  </tbody>\n",
              "</table>\n",
              "</div>"
            ],
            "text/plain": [
              "                 number\n",
              "object_name            \n",
              "kfc              187   \n",
              "макдоналдс       172   \n",
              "бургер кинг      162   \n",
              "теремок          105   \n",
              "крошка картошка  90    "
            ]
          },
          "metadata": {}
        },
        {
          "output_type": "stream",
          "text": [
            "Топ-5 сетей кафе\n"
          ],
          "name": "stdout"
        },
        {
          "output_type": "display_data",
          "data": {
            "text/html": [
              "<div>\n",
              "<style scoped>\n",
              "    .dataframe tbody tr th:only-of-type {\n",
              "        vertical-align: middle;\n",
              "    }\n",
              "\n",
              "    .dataframe tbody tr th {\n",
              "        vertical-align: top;\n",
              "    }\n",
              "\n",
              "    .dataframe thead th {\n",
              "        text-align: right;\n",
              "    }\n",
              "</style>\n",
              "<table border=\"1\" class=\"dataframe\">\n",
              "  <thead>\n",
              "    <tr style=\"text-align: right;\">\n",
              "      <th></th>\n",
              "      <th>number</th>\n",
              "    </tr>\n",
              "    <tr>\n",
              "      <th>object_name</th>\n",
              "      <th></th>\n",
              "    </tr>\n",
              "  </thead>\n",
              "  <tbody>\n",
              "    <tr>\n",
              "      <th>шоколадница</th>\n",
              "      <td>188</td>\n",
              "    </tr>\n",
              "    <tr>\n",
              "      <th>доминос пицца</th>\n",
              "      <td>107</td>\n",
              "    </tr>\n",
              "    <tr>\n",
              "      <th>суши wok</th>\n",
              "      <td>78</td>\n",
              "    </tr>\n",
              "    <tr>\n",
              "      <th>старбакс</th>\n",
              "      <td>65</td>\n",
              "    </tr>\n",
              "    <tr>\n",
              "      <th>хинкальная</th>\n",
              "      <td>56</td>\n",
              "    </tr>\n",
              "  </tbody>\n",
              "</table>\n",
              "</div>"
            ],
            "text/plain": [
              "               number\n",
              "object_name          \n",
              "шоколадница    188   \n",
              "доминос пицца  107   \n",
              "суши wok       78    \n",
              "старбакс       65    \n",
              "хинкальная     56    "
            ]
          },
          "metadata": {}
        },
        {
          "output_type": "stream",
          "text": [
            "Топ-5 сетей ресторан\n"
          ],
          "name": "stdout"
        },
        {
          "output_type": "display_data",
          "data": {
            "text/html": [
              "<div>\n",
              "<style scoped>\n",
              "    .dataframe tbody tr th:only-of-type {\n",
              "        vertical-align: middle;\n",
              "    }\n",
              "\n",
              "    .dataframe tbody tr th {\n",
              "        vertical-align: top;\n",
              "    }\n",
              "\n",
              "    .dataframe thead th {\n",
              "        text-align: right;\n",
              "    }\n",
              "</style>\n",
              "<table border=\"1\" class=\"dataframe\">\n",
              "  <thead>\n",
              "    <tr style=\"text-align: right;\">\n",
              "      <th></th>\n",
              "      <th>number</th>\n",
              "    </tr>\n",
              "    <tr>\n",
              "      <th>object_name</th>\n",
              "      <th></th>\n",
              "    </tr>\n",
              "  </thead>\n",
              "  <tbody>\n",
              "    <tr>\n",
              "      <th>тануки</th>\n",
              "      <td>47</td>\n",
              "    </tr>\n",
              "    <tr>\n",
              "      <th>иль патио</th>\n",
              "      <td>46</td>\n",
              "    </tr>\n",
              "    <tr>\n",
              "      <th>чайхона №1</th>\n",
              "      <td>43</td>\n",
              "    </tr>\n",
              "    <tr>\n",
              "      <th>якитория</th>\n",
              "      <td>38</td>\n",
              "    </tr>\n",
              "    <tr>\n",
              "      <th>корчма тарас бульба</th>\n",
              "      <td>10</td>\n",
              "    </tr>\n",
              "  </tbody>\n",
              "</table>\n",
              "</div>"
            ],
            "text/plain": [
              "                     number\n",
              "object_name                \n",
              "тануки               47    \n",
              "иль патио            46    \n",
              "чайхона №1           43    \n",
              "якитория             38    \n",
              "корчма тарас бульба  10    "
            ]
          },
          "metadata": {}
        }
      ]
    },
    {
      "cell_type": "markdown",
      "metadata": {
        "id": "Vt8RrRcoWSaI"
      },
      "source": [
        "Сетевые предприятия быстрого обслуживания и кафе преобладают в Москве.Такой стиль питания характерен для торопливого столичного образа жизни. \n",
        "\n",
        "По этой же причине среди несетевых заведений тоже лидируют кафе - средний ценник, быстрая подача, простые блюда.\n",
        "\n",
        "Лидеры сетевых кафе - Шоколадница и пиццерия Доминос. Среди заведений \"быстрого\" общепита - вечные соперники KFC, Макдоналдс и Бургер Кинг."
      ]
    },
    {
      "cell_type": "markdown",
      "metadata": {
        "id": "ovfeT_n_jR8Y"
      },
      "source": [
        "### Типовое сетевое заведение <a id=\"typical\"></a>"
      ]
    },
    {
      "cell_type": "markdown",
      "metadata": {
        "id": "7FlTNG-3oY85"
      },
      "source": [
        "Опишем типовое московское заведение."
      ]
    },
    {
      "cell_type": "code",
      "metadata": {
        "colab": {
          "base_uri": "https://localhost:8080/"
        },
        "id": "c7sjxeZAkkuO",
        "outputId": "43e650c3-4010-43f6-a0d7-68dec9a9ff7c"
      },
      "source": [
        "#Выводим минимальное, максимальное, среднее и медианное значения по всем заведениям Москвы\n",
        "rest_data.query('number != 0')['number'].describe()"
      ],
      "execution_count": 35,
      "outputs": [
        {
          "output_type": "execute_result",
          "data": {
            "text/plain": [
              "count    13745.000000\n",
              "mean     66.569807   \n",
              "std      76.005550   \n",
              "min      1.000000    \n",
              "25%      20.000000   \n",
              "50%      44.000000   \n",
              "75%      85.000000   \n",
              "max      1700.000000 \n",
              "Name: number, dtype: float64"
            ]
          },
          "metadata": {},
          "execution_count": 35
        }
      ]
    },
    {
      "cell_type": "code",
      "metadata": {
        "colab": {
          "base_uri": "https://localhost:8080/",
          "height": 279
        },
        "id": "oakL1tjAlfxQ",
        "outputId": "eb76f572-f6c4-4bbc-9580-ef8b4952bd33"
      },
      "source": [
        "#Строим диаграмму размаха, чтобы увидеть количество выбросов\n",
        "sns.boxplot(data = rest_data, x = 'number')\n",
        "plt.show()"
      ],
      "execution_count": 36,
      "outputs": [
        {
          "output_type": "display_data",
          "data": {
            "image/png": "[encoded data removed]",
            "text/plain": [
              "<Figure size 432x288 with 1 Axes>"
            ]
          },
          "metadata": {
            "needs_background": "light"
          }
        }
      ]
    },
    {
      "cell_type": "code",
      "metadata": {
        "colab": {
          "base_uri": "https://localhost:8080/"
        },
        "id": "Bmuw9qDRm2VW",
        "outputId": "5fde765b-826a-42e0-b674-e6c78f622a69"
      },
      "source": [
        "print(np.percentile(rest_data['number'], [90, 95, 99]))"
      ],
      "execution_count": 37,
      "outputs": [
        {
          "output_type": "stream",
          "text": [
            "[150. 214. 300.]\n"
          ],
          "name": "stdout"
        }
      ]
    },
    {
      "cell_type": "markdown",
      "metadata": {
        "id": "lV7w6YTIoe84"
      },
      "source": [
        "Среди всех объектов общепита Москвы, имеющих столики, медианное значение количества посадочных мест - 44 (медиану берем из-за наличия аномальных значений, которые видны на диаграмме размаха).\n",
        "\n",
        "99% московских заведений имеют не больше 300 посадочных мест.\n",
        "\n",
        "\n"
      ]
    },
    {
      "cell_type": "markdown",
      "metadata": {
        "id": "O3t9yLaovW9A"
      },
      "source": [
        "Для корректного анализа уберем выбросы по количеству посадочных мест из таблицы."
      ]
    },
    {
      "cell_type": "code",
      "metadata": {
        "id": "32jxMxf5viHb"
      },
      "source": [
        "rest_data = rest_data.query('number <= 300')\n",
        "#Проверка\n",
        "#rest_data.query('number != 0')['number'].describe()"
      ],
      "execution_count": 38,
      "outputs": []
    },
    {
      "cell_type": "code",
      "metadata": {
        "colab": {
          "base_uri": "https://localhost:8080/",
          "height": 390
        },
        "id": "cvPxSUoWjVI4",
        "outputId": "d8e208a1-efff-41db-8472-51b6b997f3b9"
      },
      "source": [
        "#Фильтруем данные по сетям\n",
        "chain_number = rest_data.query('correct_chain == \"да\"').groupby('object_name').agg({'address':'count', 'number':'mean'}).sort_values(by = 'address', ascending = False)\n",
        "chain_number.columns = ['number_of_objects', 'mean_capacity']\n",
        "chain_number.head(10)"
      ],
      "execution_count": 39,
      "outputs": [
        {
          "output_type": "execute_result",
          "data": {
            "text/html": [
              "<div>\n",
              "<style scoped>\n",
              "    .dataframe tbody tr th:only-of-type {\n",
              "        vertical-align: middle;\n",
              "    }\n",
              "\n",
              "    .dataframe tbody tr th {\n",
              "        vertical-align: top;\n",
              "    }\n",
              "\n",
              "    .dataframe thead th {\n",
              "        text-align: right;\n",
              "    }\n",
              "</style>\n",
              "<table border=\"1\" class=\"dataframe\">\n",
              "  <thead>\n",
              "    <tr style=\"text-align: right;\">\n",
              "      <th></th>\n",
              "      <th>number_of_objects</th>\n",
              "      <th>mean_capacity</th>\n",
              "    </tr>\n",
              "    <tr>\n",
              "      <th>object_name</th>\n",
              "      <th></th>\n",
              "      <th></th>\n",
              "    </tr>\n",
              "  </thead>\n",
              "  <tbody>\n",
              "    <tr>\n",
              "      <th>шоколадница</th>\n",
              "      <td>188</td>\n",
              "      <td>57.547872</td>\n",
              "    </tr>\n",
              "    <tr>\n",
              "      <th>kfc</th>\n",
              "      <td>186</td>\n",
              "      <td>54.231183</td>\n",
              "    </tr>\n",
              "    <tr>\n",
              "      <th>макдоналдс</th>\n",
              "      <td>170</td>\n",
              "      <td>81.752941</td>\n",
              "    </tr>\n",
              "    <tr>\n",
              "      <th>бургер кинг</th>\n",
              "      <td>162</td>\n",
              "      <td>48.024691</td>\n",
              "    </tr>\n",
              "    <tr>\n",
              "      <th>доминос пицца</th>\n",
              "      <td>107</td>\n",
              "      <td>17.738318</td>\n",
              "    </tr>\n",
              "    <tr>\n",
              "      <th>теремок</th>\n",
              "      <td>105</td>\n",
              "      <td>26.828571</td>\n",
              "    </tr>\n",
              "    <tr>\n",
              "      <th>крошка картошка</th>\n",
              "      <td>90</td>\n",
              "      <td>21.855556</td>\n",
              "    </tr>\n",
              "    <tr>\n",
              "      <th>милти</th>\n",
              "      <td>83</td>\n",
              "      <td>1.168675</td>\n",
              "    </tr>\n",
              "    <tr>\n",
              "      <th>суши wok</th>\n",
              "      <td>78</td>\n",
              "      <td>6.820513</td>\n",
              "    </tr>\n",
              "    <tr>\n",
              "      <th>старбакс</th>\n",
              "      <td>65</td>\n",
              "      <td>41.738462</td>\n",
              "    </tr>\n",
              "  </tbody>\n",
              "</table>\n",
              "</div>"
            ],
            "text/plain": [
              "                 number_of_objects  mean_capacity\n",
              "object_name                                      \n",
              "шоколадница      188                57.547872    \n",
              "kfc              186                54.231183    \n",
              "макдоналдс       170                81.752941    \n",
              "бургер кинг      162                48.024691    \n",
              "доминос пицца    107                17.738318    \n",
              "теремок          105                26.828571    \n",
              "крошка картошка  90                 21.855556    \n",
              "милти            83                 1.168675     \n",
              "суши wok         78                 6.820513     \n",
              "старбакс         65                 41.738462    "
            ]
          },
          "metadata": {},
          "execution_count": 39
        }
      ]
    },
    {
      "cell_type": "markdown",
      "metadata": {
        "id": "5VpWkzcOsmil"
      },
      "source": [
        "По таблице видно, что сетевые \"монстры\" (Шоколадница, KFC, Макдоналдс) предпочитают большой охват со средней вместимостью.\n",
        "\n",
        "Предприятия поменьше открывают больше точек с меньшим количеством посадочных мест (Доминос, Теремок, Крошка-Картошка и т.д.)."
      ]
    },
    {
      "cell_type": "code",
      "metadata": {
        "colab": {
          "base_uri": "https://localhost:8080/",
          "height": 350
        },
        "id": "8NwcjcBrw-kG",
        "outputId": "fb808cf4-43d3-4ec6-e4ad-6a0780da9641"
      },
      "source": [
        "plt.figure(figsize=(10,5))\n",
        "plt.title('Точечный график соотношения вместимости и количества заведений сети')\n",
        "sns.scatterplot(data = chain_number, y = 'number_of_objects', x = 'mean_capacity')\n",
        "plt.xlabel('Средняя вместимость, чел')\n",
        "plt.ylabel('Количество заведений')\n",
        "plt.show()"
      ],
      "execution_count": 40,
      "outputs": [
        {
          "output_type": "display_data",
          "data": {
            "image/png": "[encoded data removed]",
            "text/plain": [
              "<Figure size 720x360 with 1 Axes>"
            ]
          },
          "metadata": {
            "needs_background": "light"
          }
        }
      ]
    },
    {
      "cell_type": "markdown",
      "metadata": {
        "id": "LoqVos0KyBEx"
      },
      "source": [
        "Точечный график подтверждает тенденцию: для сетевых заведений характерна небольшая вместимость с большим количеством объектов.\n",
        "\n",
        "Большое количество точек в районе 0 по оси Y связано с ошибками написания названий в небольших сетях, которые мы оставили, т.к. они не будут сильно влиять на расчёты."
      ]
    },
    {
      "cell_type": "markdown",
      "metadata": {
        "id": "oTsnKqLRuscC"
      },
      "source": [
        "### Средняя вместимость заведений общепита по типам <a id=\"number_pivot\"></a>"
      ]
    },
    {
      "cell_type": "code",
      "metadata": {
        "colab": {
          "base_uri": "https://localhost:8080/",
          "height": 346
        },
        "id": "5tq-pZbjuyhO",
        "outputId": "103ce7e9-8a0c-4254-eb9c-c57e3e08b808"
      },
      "source": [
        "print('Средняя вместимость заведения в зависимости от типа')\n",
        "number_pivot = rest_data.pivot_table(index = 'correct_object_type', values = 'number', aggfunc = 'mean').sort_values(by = 'number', ascending = False).reset_index()\n",
        "number_pivot"
      ],
      "execution_count": 41,
      "outputs": [
        {
          "output_type": "stream",
          "text": [
            "Средняя вместимость заведения в зависимости от типа\n"
          ],
          "name": "stdout"
        },
        {
          "output_type": "execute_result",
          "data": {
            "text/html": [
              "<div>\n",
              "<style scoped>\n",
              "    .dataframe tbody tr th:only-of-type {\n",
              "        vertical-align: middle;\n",
              "    }\n",
              "\n",
              "    .dataframe tbody tr th {\n",
              "        vertical-align: top;\n",
              "    }\n",
              "\n",
              "    .dataframe thead th {\n",
              "        text-align: right;\n",
              "    }\n",
              "</style>\n",
              "<table border=\"1\" class=\"dataframe\">\n",
              "  <thead>\n",
              "    <tr style=\"text-align: right;\">\n",
              "      <th></th>\n",
              "      <th>correct_object_type</th>\n",
              "      <th>number</th>\n",
              "    </tr>\n",
              "  </thead>\n",
              "  <tbody>\n",
              "    <tr>\n",
              "      <th>0</th>\n",
              "      <td>столовая</td>\n",
              "      <td>124.325444</td>\n",
              "    </tr>\n",
              "    <tr>\n",
              "      <th>1</th>\n",
              "      <td>ресторан</td>\n",
              "      <td>88.376165</td>\n",
              "    </tr>\n",
              "    <tr>\n",
              "      <th>2</th>\n",
              "      <td>буфет</td>\n",
              "      <td>53.744308</td>\n",
              "    </tr>\n",
              "    <tr>\n",
              "      <th>3</th>\n",
              "      <td>бар</td>\n",
              "      <td>42.358068</td>\n",
              "    </tr>\n",
              "    <tr>\n",
              "      <th>4</th>\n",
              "      <td>кафе</td>\n",
              "      <td>38.428208</td>\n",
              "    </tr>\n",
              "    <tr>\n",
              "      <th>5</th>\n",
              "      <td>предприятие быстрого обслуживания</td>\n",
              "      <td>21.196278</td>\n",
              "    </tr>\n",
              "    <tr>\n",
              "      <th>6</th>\n",
              "      <td>кафетерий</td>\n",
              "      <td>10.229814</td>\n",
              "    </tr>\n",
              "    <tr>\n",
              "      <th>7</th>\n",
              "      <td>закусочная</td>\n",
              "      <td>7.489130</td>\n",
              "    </tr>\n",
              "    <tr>\n",
              "      <th>8</th>\n",
              "      <td>магазин (отдел кулинарии)</td>\n",
              "      <td>5.543147</td>\n",
              "    </tr>\n",
              "  </tbody>\n",
              "</table>\n",
              "</div>"
            ],
            "text/plain": [
              "                 correct_object_type      number\n",
              "0  столовая                           124.325444\n",
              "1  ресторан                           88.376165 \n",
              "2  буфет                              53.744308 \n",
              "3  бар                                42.358068 \n",
              "4  кафе                               38.428208 \n",
              "5  предприятие быстрого обслуживания  21.196278 \n",
              "6  кафетерий                          10.229814 \n",
              "7  закусочная                         7.489130  \n",
              "8  магазин (отдел кулинарии)          5.543147  "
            ]
          },
          "metadata": {},
          "execution_count": 41
        }
      ]
    },
    {
      "cell_type": "code",
      "metadata": {
        "colab": {
          "base_uri": "https://localhost:8080/",
          "height": 542
        },
        "id": "tvxIfadD3HiT",
        "outputId": "88113147-631e-440f-8cec-609f34efdfe0"
      },
      "source": [
        "data = number_pivot.sort_values(by = 'number', ascending = True)\n",
        "fig = px.bar(\n",
        "    data, x='number', y='correct_object_type', title='Диаграмма соотношения типов заведений по средней вместимости',\n",
        "    orientation='h'\n",
        ")\n",
        "fig.update_yaxes(title='Тип заведения', side = 'left', showgrid = True)\n",
        "fig.update_xaxes(title='Вместимость, человек', showgrid = True)\n",
        "fig.show()"
      ],
      "execution_count": 42,
      "outputs": [
        {
          "output_type": "display_data",
          "data": {
            "text/html": [
              "<html>\n",
              "<head><meta charset=\"utf-8\" /></head>\n",
              "<body>\n",
              "    <div>\n",
              "            <script src=\"https://cdnjs.cloudflare.com/ajax/libs/mathjax/2.7.5/MathJax.js?config=TeX-AMS-MML_SVG\"></script><script type=\"text/javascript\">if (window.MathJax) {MathJax.Hub.Config({SVG: {font: \"STIX-Web\"}});}</script>\n",
              "                <script type=\"text/javascript\">window.PlotlyConfig = {MathJaxConfig: 'local'};</script>\n",
              "        <script src=\"https://cdn.plot.ly/plotly-latest.min.js\"></script>    \n",
              "            <div id=\"63389d97-bab4-42b8-abf4-28d3492724cf\" class=\"plotly-graph-div\" style=\"height:525px; width:100%;\"></div>\n",
              "            <script type=\"text/javascript\">\n",
              "                \n",
              "                    window.PLOTLYENV=window.PLOTLYENV || {};\n",
              "                    \n",
              "                if (document.getElementById(\"63389d97-bab4-42b8-abf4-28d3492724cf\")) {\n",
              "                    Plotly.newPlot(\n",
              "                        '63389d97-bab4-42b8-abf4-28d3492724cf',\n",
              "                        [{\"alignmentgroup\": \"True\", \"hoverlabel\": {\"namelength\": 0}, \"hovertemplate\": \"number=%{x}<br>correct_object_type=%{y}\", \"legendgroup\": \"\", \"marker\": {\"color\": \"#636efa\"}, \"name\": \"\", \"offsetgroup\": \"\", \"orientation\": \"h\", \"showlegend\": false, \"textposition\": \"auto\", \"type\": \"bar\", \"x\": [5.543147208121828, 7.489130434782608, 10.229813664596273, 21.196278245458572, 38.428207982191125, 42.35806831566549, 53.74430823117338, 88.37616478666013, 124.32544378698225], \"xaxis\": \"x\", \"y\": [\"\\u043c\\u0430\\u0433\\u0430\\u0437\\u0438\\u043d (\\u043e\\u0442\\u0434\\u0435\\u043b \\u043a\\u0443\\u043b\\u0438\\u043d\\u0430\\u0440\\u0438\\u0438)\", \"\\u0437\\u0430\\u043a\\u0443\\u0441\\u043e\\u0447\\u043d\\u0430\\u044f\", \"\\u043a\\u0430\\u0444\\u0435\\u0442\\u0435\\u0440\\u0438\\u0439\", \"\\u043f\\u0440\\u0435\\u0434\\u043f\\u0440\\u0438\\u044f\\u0442\\u0438\\u0435 \\u0431\\u044b\\u0441\\u0442\\u0440\\u043e\\u0433\\u043e \\u043e\\u0431\\u0441\\u043b\\u0443\\u0436\\u0438\\u0432\\u0430\\u043d\\u0438\\u044f\", \"\\u043a\\u0430\\u0444\\u0435\", \"\\u0431\\u0430\\u0440\", \"\\u0431\\u0443\\u0444\\u0435\\u0442\", \"\\u0440\\u0435\\u0441\\u0442\\u043e\\u0440\\u0430\\u043d\", \"\\u0441\\u0442\\u043e\\u043b\\u043e\\u0432\\u0430\\u044f\"], \"yaxis\": \"y\"}],\n",
              "                        {\"barmode\": \"relative\", \"legend\": {\"tracegroupgap\": 0}, \"template\": {\"data\": {\"bar\": [{\"error_x\": {\"color\": \"#2a3f5f\"}, \"error_y\": {\"color\": \"#2a3f5f\"}, \"marker\": {\"line\": {\"color\": \"#E5ECF6\", \"width\": 0.5}}, \"type\": \"bar\"}], \"barpolar\": [{\"marker\": {\"line\": {\"color\": \"#E5ECF6\", \"width\": 0.5}}, \"type\": \"barpolar\"}], \"carpet\": [{\"aaxis\": {\"endlinecolor\": \"#2a3f5f\", \"gridcolor\": \"white\", \"linecolor\": \"white\", \"minorgridcolor\": \"white\", \"startlinecolor\": \"#2a3f5f\"}, \"baxis\": {\"endlinecolor\": \"#2a3f5f\", \"gridcolor\": \"white\", \"linecolor\": \"white\", \"minorgridcolor\": \"white\", \"startlinecolor\": \"#2a3f5f\"}, \"type\": \"carpet\"}], \"choropleth\": [{\"colorbar\": {\"outlinewidth\": 0, \"ticks\": \"\"}, \"type\": \"choropleth\"}], \"contour\": [{\"colorbar\": {\"outlinewidth\": 0, \"ticks\": \"\"}, \"colorscale\": [[0.0, \"#0d0887\"], [0.1111111111111111, \"#46039f\"], [0.2222222222222222, \"#7201a8\"], [0.3333333333333333, \"#9c179e\"], [0.4444444444444444, \"#bd3786\"], [0.5555555555555556, \"#d8576b\"], [0.6666666666666666, \"#ed7953\"], [0.7777777777777778, \"#fb9f3a\"], [0.8888888888888888, \"#fdca26\"], [1.0, \"#f0f921\"]], \"type\": \"contour\"}], \"contourcarpet\": [{\"colorbar\": {\"outlinewidth\": 0, \"ticks\": \"\"}, \"type\": \"contourcarpet\"}], \"heatmap\": [{\"colorbar\": {\"outlinewidth\": 0, \"ticks\": \"\"}, \"colorscale\": [[0.0, \"#0d0887\"], [0.1111111111111111, \"#46039f\"], [0.2222222222222222, \"#7201a8\"], [0.3333333333333333, \"#9c179e\"], [0.4444444444444444, \"#bd3786\"], [0.5555555555555556, \"#d8576b\"], [0.6666666666666666, \"#ed7953\"], [0.7777777777777778, \"#fb9f3a\"], [0.8888888888888888, \"#fdca26\"], [1.0, \"#f0f921\"]], \"type\": \"heatmap\"}], \"heatmapgl\": [{\"colorbar\": {\"outlinewidth\": 0, \"ticks\": \"\"}, \"colorscale\": [[0.0, \"#0d0887\"], [0.1111111111111111, \"#46039f\"], [0.2222222222222222, \"#7201a8\"], [0.3333333333333333, \"#9c179e\"], [0.4444444444444444, \"#bd3786\"], [0.5555555555555556, \"#d8576b\"], [0.6666666666666666, \"#ed7953\"], [0.7777777777777778, \"#fb9f3a\"], [0.8888888888888888, \"#fdca26\"], [1.0, \"#f0f921\"]], \"type\": \"heatmapgl\"}], \"histogram\": [{\"marker\": {\"colorbar\": {\"outlinewidth\": 0, \"ticks\": \"\"}}, \"type\": \"histogram\"}], \"histogram2d\": [{\"colorbar\": {\"outlinewidth\": 0, \"ticks\": \"\"}, \"colorscale\": [[0.0, \"#0d0887\"], [0.1111111111111111, \"#46039f\"], [0.2222222222222222, \"#7201a8\"], [0.3333333333333333, \"#9c179e\"], [0.4444444444444444, \"#bd3786\"], [0.5555555555555556, \"#d8576b\"], [0.6666666666666666, \"#ed7953\"], [0.7777777777777778, \"#fb9f3a\"], [0.8888888888888888, \"#fdca26\"], [1.0, \"#f0f921\"]], \"type\": \"histogram2d\"}], \"histogram2dcontour\": [{\"colorbar\": {\"outlinewidth\": 0, \"ticks\": \"\"}, \"colorscale\": [[0.0, \"#0d0887\"], [0.1111111111111111, \"#46039f\"], [0.2222222222222222, \"#7201a8\"], [0.3333333333333333, \"#9c179e\"], [0.4444444444444444, \"#bd3786\"], [0.5555555555555556, \"#d8576b\"], [0.6666666666666666, \"#ed7953\"], [0.7777777777777778, \"#fb9f3a\"], [0.8888888888888888, \"#fdca26\"], [1.0, \"#f0f921\"]], \"type\": \"histogram2dcontour\"}], \"mesh3d\": [{\"colorbar\": {\"outlinewidth\": 0, \"ticks\": \"\"}, \"type\": \"mesh3d\"}], \"parcoords\": [{\"line\": {\"colorbar\": {\"outlinewidth\": 0, \"ticks\": \"\"}}, \"type\": \"parcoords\"}], \"pie\": [{\"automargin\": true, \"type\": \"pie\"}], \"scatter\": [{\"marker\": {\"colorbar\": {\"outlinewidth\": 0, \"ticks\": \"\"}}, \"type\": \"scatter\"}], \"scatter3d\": [{\"line\": {\"colorbar\": {\"outlinewidth\": 0, \"ticks\": \"\"}}, \"marker\": {\"colorbar\": {\"outlinewidth\": 0, \"ticks\": \"\"}}, \"type\": \"scatter3d\"}], \"scattercarpet\": [{\"marker\": {\"colorbar\": {\"outlinewidth\": 0, \"ticks\": \"\"}}, \"type\": \"scattercarpet\"}], \"scattergeo\": [{\"marker\": {\"colorbar\": {\"outlinewidth\": 0, \"ticks\": \"\"}}, \"type\": \"scattergeo\"}], \"scattergl\": [{\"marker\": {\"colorbar\": {\"outlinewidth\": 0, \"ticks\": \"\"}}, \"type\": \"scattergl\"}], \"scattermapbox\": [{\"marker\": {\"colorbar\": {\"outlinewidth\": 0, \"ticks\": \"\"}}, \"type\": \"scattermapbox\"}], \"scatterpolar\": [{\"marker\": {\"colorbar\": {\"outlinewidth\": 0, \"ticks\": \"\"}}, \"type\": \"scatterpolar\"}], \"scatterpolargl\": [{\"marker\": {\"colorbar\": {\"outlinewidth\": 0, \"ticks\": \"\"}}, \"type\": \"scatterpolargl\"}], \"scatterternary\": [{\"marker\": {\"colorbar\": {\"outlinewidth\": 0, \"ticks\": \"\"}}, \"type\": \"scatterternary\"}], \"surface\": [{\"colorbar\": {\"outlinewidth\": 0, \"ticks\": \"\"}, \"colorscale\": [[0.0, \"#0d0887\"], [0.1111111111111111, \"#46039f\"], [0.2222222222222222, \"#7201a8\"], [0.3333333333333333, \"#9c179e\"], [0.4444444444444444, \"#bd3786\"], [0.5555555555555556, \"#d8576b\"], [0.6666666666666666, \"#ed7953\"], [0.7777777777777778, \"#fb9f3a\"], [0.8888888888888888, \"#fdca26\"], [1.0, \"#f0f921\"]], \"type\": \"surface\"}], \"table\": [{\"cells\": {\"fill\": {\"color\": \"#EBF0F8\"}, \"line\": {\"color\": \"white\"}}, \"header\": {\"fill\": {\"color\": \"#C8D4E3\"}, \"line\": {\"color\": \"white\"}}, \"type\": \"table\"}]}, \"layout\": {\"annotationdefaults\": {\"arrowcolor\": \"#2a3f5f\", \"arrowhead\": 0, \"arrowwidth\": 1}, \"coloraxis\": {\"colorbar\": {\"outlinewidth\": 0, \"ticks\": \"\"}}, \"colorscale\": {\"diverging\": [[0, \"#8e0152\"], [0.1, \"#c51b7d\"], [0.2, \"#de77ae\"], [0.3, \"#f1b6da\"], [0.4, \"#fde0ef\"], [0.5, \"#f7f7f7\"], [0.6, \"#e6f5d0\"], [0.7, \"#b8e186\"], [0.8, \"#7fbc41\"], [0.9, \"#4d9221\"], [1, \"#276419\"]], \"sequential\": [[0.0, \"#0d0887\"], [0.1111111111111111, \"#46039f\"], [0.2222222222222222, \"#7201a8\"], [0.3333333333333333, \"#9c179e\"], [0.4444444444444444, \"#bd3786\"], [0.5555555555555556, \"#d8576b\"], [0.6666666666666666, \"#ed7953\"], [0.7777777777777778, \"#fb9f3a\"], [0.8888888888888888, \"#fdca26\"], [1.0, \"#f0f921\"]], \"sequentialminus\": [[0.0, \"#0d0887\"], [0.1111111111111111, \"#46039f\"], [0.2222222222222222, \"#7201a8\"], [0.3333333333333333, \"#9c179e\"], [0.4444444444444444, \"#bd3786\"], [0.5555555555555556, \"#d8576b\"], [0.6666666666666666, \"#ed7953\"], [0.7777777777777778, \"#fb9f3a\"], [0.8888888888888888, \"#fdca26\"], [1.0, \"#f0f921\"]]}, \"colorway\": [\"#636efa\", \"#EF553B\", \"#00cc96\", \"#ab63fa\", \"#FFA15A\", \"#19d3f3\", \"#FF6692\", \"#B6E880\", \"#FF97FF\", \"#FECB52\"], \"font\": {\"color\": \"#2a3f5f\"}, \"geo\": {\"bgcolor\": \"white\", \"lakecolor\": \"white\", \"landcolor\": \"#E5ECF6\", \"showlakes\": true, \"showland\": true, \"subunitcolor\": \"white\"}, \"hoverlabel\": {\"align\": \"left\"}, \"hovermode\": \"closest\", \"mapbox\": {\"style\": \"light\"}, \"paper_bgcolor\": \"white\", \"plot_bgcolor\": \"#E5ECF6\", \"polar\": {\"angularaxis\": {\"gridcolor\": \"white\", \"linecolor\": \"white\", \"ticks\": \"\"}, \"bgcolor\": \"#E5ECF6\", \"radialaxis\": {\"gridcolor\": \"white\", \"linecolor\": \"white\", \"ticks\": \"\"}}, \"scene\": {\"xaxis\": {\"backgroundcolor\": \"#E5ECF6\", \"gridcolor\": \"white\", \"gridwidth\": 2, \"linecolor\": \"white\", \"showbackground\": true, \"ticks\": \"\", \"zerolinecolor\": \"white\"}, \"yaxis\": {\"backgroundcolor\": \"#E5ECF6\", \"gridcolor\": \"white\", \"gridwidth\": 2, \"linecolor\": \"white\", \"showbackground\": true, \"ticks\": \"\", \"zerolinecolor\": \"white\"}, \"zaxis\": {\"backgroundcolor\": \"#E5ECF6\", \"gridcolor\": \"white\", \"gridwidth\": 2, \"linecolor\": \"white\", \"showbackground\": true, \"ticks\": \"\", \"zerolinecolor\": \"white\"}}, \"shapedefaults\": {\"line\": {\"color\": \"#2a3f5f\"}}, \"ternary\": {\"aaxis\": {\"gridcolor\": \"white\", \"linecolor\": \"white\", \"ticks\": \"\"}, \"baxis\": {\"gridcolor\": \"white\", \"linecolor\": \"white\", \"ticks\": \"\"}, \"bgcolor\": \"#E5ECF6\", \"caxis\": {\"gridcolor\": \"white\", \"linecolor\": \"white\", \"ticks\": \"\"}}, \"title\": {\"x\": 0.05}, \"xaxis\": {\"automargin\": true, \"gridcolor\": \"white\", \"linecolor\": \"white\", \"ticks\": \"\", \"title\": {\"standoff\": 15}, \"zerolinecolor\": \"white\", \"zerolinewidth\": 2}, \"yaxis\": {\"automargin\": true, \"gridcolor\": \"white\", \"linecolor\": \"white\", \"ticks\": \"\", \"title\": {\"standoff\": 15}, \"zerolinecolor\": \"white\", \"zerolinewidth\": 2}}}, \"title\": {\"text\": \"\\u0414\\u0438\\u0430\\u0433\\u0440\\u0430\\u043c\\u043c\\u0430 \\u0441\\u043e\\u043e\\u0442\\u043d\\u043e\\u0448\\u0435\\u043d\\u0438\\u044f \\u0442\\u0438\\u043f\\u043e\\u0432 \\u0437\\u0430\\u0432\\u0435\\u0434\\u0435\\u043d\\u0438\\u0439 \\u043f\\u043e \\u0441\\u0440\\u0435\\u0434\\u043d\\u0435\\u0439 \\u0432\\u043c\\u0435\\u0441\\u0442\\u0438\\u043c\\u043e\\u0441\\u0442\\u0438\"}, \"xaxis\": {\"anchor\": \"y\", \"domain\": [0.0, 1.0], \"showgrid\": true, \"title\": {\"text\": \"\\u0412\\u043c\\u0435\\u0441\\u0442\\u0438\\u043c\\u043e\\u0441\\u0442\\u044c, \\u0447\\u0435\\u043b\\u043e\\u0432\\u0435\\u043a\"}}, \"yaxis\": {\"anchor\": \"x\", \"domain\": [0.0, 1.0], \"showgrid\": true, \"side\": \"left\", \"title\": {\"text\": \"\\u0422\\u0438\\u043f \\u0437\\u0430\\u0432\\u0435\\u0434\\u0435\\u043d\\u0438\\u044f\"}}},\n",
              "                        {\"responsive\": true}\n",
              "                    ).then(function(){\n",
              "                            \n",
              "var gd = document.getElementById('63389d97-bab4-42b8-abf4-28d3492724cf');\n",
              "var x = new MutationObserver(function (mutations, observer) {{\n",
              "        var display = window.getComputedStyle(gd).display;\n",
              "        if (!display || display === 'none') {{\n",
              "            console.log([gd, 'removed!']);\n",
              "            Plotly.purge(gd);\n",
              "            observer.disconnect();\n",
              "        }}\n",
              "}});\n",
              "\n",
              "// Listen for the removal of the full notebook cells\n",
              "var notebookContainer = gd.closest('#notebook-container');\n",
              "if (notebookContainer) {{\n",
              "    x.observe(notebookContainer, {childList: true});\n",
              "}}\n",
              "\n",
              "// Listen for the clearing of the current output cell\n",
              "var outputEl = gd.closest('.output');\n",
              "if (outputEl) {{\n",
              "    x.observe(outputEl, {childList: true});\n",
              "}}\n",
              "\n",
              "                        })\n",
              "                };\n",
              "                \n",
              "            </script>\n",
              "        </div>\n",
              "</body>\n",
              "</html>"
            ]
          },
          "metadata": {}
        }
      ]
    },
    {
      "cell_type": "markdown",
      "metadata": {
        "id": "rkaNvEEDF9GE"
      },
      "source": [
        "Среди всех объектов питания больше всего мест в столовых, включая школьные и вузовские (в среднем 124). На втором месте рестораны со средней вместимостью 88 мест.\n",
        "\n",
        "Разная вместимость обусловлена спецификой заведений общепита.\n",
        "\n",
        "Столовые гарантированно ежедневно обслуживают огромное количество учащихся за ограниченное время, поэтому имеют макисмальное количество мест.\n",
        "\n",
        "Пиковое время посещения ресторанов - несколько часов в день. Некоторые из них в связи с этим даже имеют смещенный график работы. Для окупаемости им необходимо иметь довольно большую вместимость."
      ]
    },
    {
      "cell_type": "markdown",
      "metadata": {
        "id": "uqXJ1MTj6mNt"
      },
      "source": [
        "### Определение топ-10 улиц по количеству заведений общепита <a id=\"top_10\"></a>"
      ]
    },
    {
      "cell_type": "markdown",
      "metadata": {
        "id": "nTHeQB3S01VA"
      },
      "source": [
        "Для анализа самых популярных в гастрономическом смысле улиц сформируем отдельный столбец, в который выделим их название из столбца с адресом."
      ]
    },
    {
      "cell_type": "code",
      "metadata": {
        "id": "SlBJX-lTH6Nr"
      },
      "source": [
        "#Создаем словарь, в котором перечислим основные категории городских дорог, встречающихся в файле\n",
        "words = ['улица','ул','переулок','шоссе','проспект','площадь','проезд',\n",
        "         'село','аллея','бульвар','набережная','тупик','линия', 'просек', 'луч', 'спуск', 'ряд', 'вал', 'деревня', 'микрорайон', 'посёлок', 'Зеленоград', 'поселение', 'автодороги', 'квартал', 'территория']\n",
        "#В регулярном выражении отсекаем часть адреса до запятой (город), затем выбираем все слова, которые без запятой соседствуют со словами из списка выше, дальше отсекаем все после следующей запятой\n",
        "str_pat = r\".*,\\s*\\b([^,]*?(?:{})\\b[^,]*)[,$]+\".format(\"|\".join(words))\n",
        "#создаем новый столбец, куда пишутся названия улицы (регистр игнорируется)\n",
        "rest_data['street'] = rest_data['address'].str.extract(str_pat, flags=re.I)\n",
        "#Те строки, которые не начинались с названия города, остались необработанными. Заменяем отсутствующие значения на 0 для удобства работы\n",
        "rest_data['street'] = rest_data['street'].fillna(0)\n",
        "#Регулярка для отсечения названия улицы в этих строках (до первой запятой)\n",
        "str_pat1 = r\"(^.*?,)\"\n",
        "#вспомогательный столбец для выделения улицы в оставшихся строках\n",
        "rest_data['street2'] = rest_data.query('street == 0')['address'].str.extract(str_pat1, flags=re.I)\n",
        "#Убираем лишню запятую\n",
        "rest_data['street2'] = rest_data['street2'].replace(',','', regex = True)\n",
        "#Заменяем нули в основном столбце значениями из вспомогательного\n",
        "rest_data['street'] = np.where(rest_data['street'] == 0, rest_data['street2'], rest_data['street'])\n",
        "#Проверка\n",
        "#rest_data.query('street == \"Шарикоподшипниковская улица\"')"
      ],
      "execution_count": 43,
      "outputs": []
    },
    {
      "cell_type": "code",
      "metadata": {
        "colab": {
          "base_uri": "https://localhost:8080/",
          "height": 204
        },
        "id": "aZjvpTxaiLOt",
        "outputId": "9c481ebc-dc60-4f66-9e90-0615dca79069"
      },
      "source": [
        "#Удаляем вспомогательный столбец\n",
        "rest_data = rest_data.drop('street2', axis=1)\n",
        "rest_data.head()"
      ],
      "execution_count": 44,
      "outputs": [
        {
          "output_type": "execute_result",
          "data": {
            "text/html": [
              "<div>\n",
              "<style scoped>\n",
              "    .dataframe tbody tr th:only-of-type {\n",
              "        vertical-align: middle;\n",
              "    }\n",
              "\n",
              "    .dataframe tbody tr th {\n",
              "        vertical-align: top;\n",
              "    }\n",
              "\n",
              "    .dataframe thead th {\n",
              "        text-align: right;\n",
              "    }\n",
              "</style>\n",
              "<table border=\"1\" class=\"dataframe\">\n",
              "  <thead>\n",
              "    <tr style=\"text-align: right;\">\n",
              "      <th></th>\n",
              "      <th>id</th>\n",
              "      <th>object_name</th>\n",
              "      <th>address</th>\n",
              "      <th>number</th>\n",
              "      <th>correct_object_type</th>\n",
              "      <th>correct_chain</th>\n",
              "      <th>street</th>\n",
              "    </tr>\n",
              "  </thead>\n",
              "  <tbody>\n",
              "    <tr>\n",
              "      <th>0</th>\n",
              "      <td>151635</td>\n",
              "      <td>сметана</td>\n",
              "      <td>город Москва, улица Егора Абакумова, дом 9</td>\n",
              "      <td>48</td>\n",
              "      <td>кафе</td>\n",
              "      <td>нет</td>\n",
              "      <td>улица Егора Абакумова</td>\n",
              "    </tr>\n",
              "    <tr>\n",
              "      <th>1</th>\n",
              "      <td>77874</td>\n",
              "      <td>родник</td>\n",
              "      <td>город Москва, улица Талалихина, дом 2/1, корпус 1</td>\n",
              "      <td>35</td>\n",
              "      <td>кафе</td>\n",
              "      <td>нет</td>\n",
              "      <td>улица Талалихина</td>\n",
              "    </tr>\n",
              "    <tr>\n",
              "      <th>2</th>\n",
              "      <td>24309</td>\n",
              "      <td>кафе академия</td>\n",
              "      <td>город Москва, Абельмановская улица, дом 6</td>\n",
              "      <td>95</td>\n",
              "      <td>кафе</td>\n",
              "      <td>нет</td>\n",
              "      <td>Абельмановская улица</td>\n",
              "    </tr>\n",
              "    <tr>\n",
              "      <th>3</th>\n",
              "      <td>21894</td>\n",
              "      <td>пиццетория</td>\n",
              "      <td>город Москва, Абрамцевская улица, дом 1</td>\n",
              "      <td>40</td>\n",
              "      <td>кафе</td>\n",
              "      <td>да</td>\n",
              "      <td>Абрамцевская улица</td>\n",
              "    </tr>\n",
              "    <tr>\n",
              "      <th>4</th>\n",
              "      <td>119365</td>\n",
              "      <td>кафе вишневая метель</td>\n",
              "      <td>город Москва, Абрамцевская улица, дом 9, корпус 1</td>\n",
              "      <td>50</td>\n",
              "      <td>кафе</td>\n",
              "      <td>нет</td>\n",
              "      <td>Абрамцевская улица</td>\n",
              "    </tr>\n",
              "  </tbody>\n",
              "</table>\n",
              "</div>"
            ],
            "text/plain": [
              "       id           object_name  ... correct_chain                 street\n",
              "0  151635  сметана               ...  нет           улица Егора Абакумова\n",
              "1  77874   родник                ...  нет           улица Талалихина     \n",
              "2  24309   кафе академия         ...  нет           Абельмановская улица \n",
              "3  21894   пиццетория            ...  да            Абрамцевская улица   \n",
              "4  119365  кафе вишневая метель  ...  нет           Абрамцевская улица   \n",
              "\n",
              "[5 rows x 7 columns]"
            ]
          },
          "metadata": {},
          "execution_count": 44
        }
      ]
    },
    {
      "cell_type": "markdown",
      "metadata": {
        "id": "xxxbnbSBYfFO"
      },
      "source": [
        "После того, как мы получили отдельный столбец с названием улицы, строим сводную таблицу, чтобы узнать, на каких улицах расположено больше всего заведений питания."
      ]
    },
    {
      "cell_type": "code",
      "metadata": {
        "colab": {
          "base_uri": "https://localhost:8080/",
          "height": 359
        },
        "id": "t0ItYWV31nMo",
        "outputId": "17debcd2-0488-4220-da45-32c3be47a519"
      },
      "source": [
        "#Исключаем округ Зеленоград, т.к. в городе нет деления на улицы, и статистика по нему не будет корректной\n",
        "street_pivot = rest_data.query('street != \"город Зеленоград\"').pivot_table(index = 'street', values = 'id', aggfunc = 'count').reset_index()\n",
        "street_pivot.columns = ['street', 'objects_number']\n",
        "street_pivot.sort_values(by = 'objects_number', ascending = False).head(10)\n"
      ],
      "execution_count": 45,
      "outputs": [
        {
          "output_type": "execute_result",
          "data": {
            "text/html": [
              "<div>\n",
              "<style scoped>\n",
              "    .dataframe tbody tr th:only-of-type {\n",
              "        vertical-align: middle;\n",
              "    }\n",
              "\n",
              "    .dataframe tbody tr th {\n",
              "        vertical-align: top;\n",
              "    }\n",
              "\n",
              "    .dataframe thead th {\n",
              "        text-align: right;\n",
              "    }\n",
              "</style>\n",
              "<table border=\"1\" class=\"dataframe\">\n",
              "  <thead>\n",
              "    <tr style=\"text-align: right;\">\n",
              "      <th></th>\n",
              "      <th>street</th>\n",
              "      <th>objects_number</th>\n",
              "    </tr>\n",
              "  </thead>\n",
              "  <tbody>\n",
              "    <tr>\n",
              "      <th>1497</th>\n",
              "      <td>проспект Мира</td>\n",
              "      <td>203</td>\n",
              "    </tr>\n",
              "    <tr>\n",
              "      <th>1040</th>\n",
              "      <td>Профсоюзная улица</td>\n",
              "      <td>183</td>\n",
              "    </tr>\n",
              "    <tr>\n",
              "      <th>711</th>\n",
              "      <td>Ленинградский проспект</td>\n",
              "      <td>172</td>\n",
              "    </tr>\n",
              "    <tr>\n",
              "      <th>1023</th>\n",
              "      <td>Пресненская набережная</td>\n",
              "      <td>165</td>\n",
              "    </tr>\n",
              "    <tr>\n",
              "      <th>424</th>\n",
              "      <td>Варшавское шоссе</td>\n",
              "      <td>163</td>\n",
              "    </tr>\n",
              "    <tr>\n",
              "      <th>714</th>\n",
              "      <td>Ленинский проспект</td>\n",
              "      <td>147</td>\n",
              "    </tr>\n",
              "    <tr>\n",
              "      <th>1493</th>\n",
              "      <td>проспект Вернадского</td>\n",
              "      <td>130</td>\n",
              "    </tr>\n",
              "    <tr>\n",
              "      <th>701</th>\n",
              "      <td>Кутузовский проспект</td>\n",
              "      <td>112</td>\n",
              "    </tr>\n",
              "    <tr>\n",
              "      <th>624</th>\n",
              "      <td>Каширское шоссе</td>\n",
              "      <td>110</td>\n",
              "    </tr>\n",
              "    <tr>\n",
              "      <th>631</th>\n",
              "      <td>Кировоградская улица</td>\n",
              "      <td>110</td>\n",
              "    </tr>\n",
              "  </tbody>\n",
              "</table>\n",
              "</div>"
            ],
            "text/plain": [
              "                      street  objects_number\n",
              "1497  проспект Мира           203           \n",
              "1040  Профсоюзная улица       183           \n",
              "711   Ленинградский проспект  172           \n",
              "1023  Пресненская набережная  165           \n",
              "424   Варшавское шоссе        163           \n",
              "714   Ленинский проспект      147           \n",
              "1493  проспект Вернадского    130           \n",
              "701   Кутузовский проспект    112           \n",
              "624   Каширское шоссе         110           \n",
              "631   Кировоградская улица    110           "
            ]
          },
          "metadata": {},
          "execution_count": 45
        }
      ]
    },
    {
      "cell_type": "markdown",
      "metadata": {
        "id": "OpPl5N1uY_c6"
      },
      "source": [
        "Результат ожидаемый - больше всего заведений расположено на радиальных длинных улицах Москвы. Исключение - Пресненская набережная, на которой находится Москва-Сити с огромным количеством заведений."
      ]
    },
    {
      "cell_type": "markdown",
      "metadata": {
        "id": "qsTa1xnFZQDc"
      },
      "source": [
        "Посмотрим, через какие районы проходят эти улицы.\n",
        "\n",
        "Для этого обратимся к сервису геокодинга HERE, который дает 250 000 бесплатных обращений в месяц и позволяет запрашивать пакетную обработку адресов."
      ]
    },
    {
      "cell_type": "code",
      "metadata": {
        "id": "JnZVUzplGoJO"
      },
      "source": [
        "#Подготовка входных данных для обработки. Два столбца с определенными названиями:\n",
        "address_table = rest_data['address'].reset_index()\n",
        "address_table.columns = ['recId', 'searchText']\n",
        "address_table.head()\n",
        "address_table.to_csv('address_table_b.csv', sep = ';')"
      ],
      "execution_count": 46,
      "outputs": []
    },
    {
      "cell_type": "code",
      "metadata": {
        "id": "PwxMWRgduwnD"
      },
      "source": [
        "#Скрипт, отдающий подготовленный файл в геокодер и получающий от него результат\n",
        "\n",
        "\n",
        "\n",
        "#Создаем класс, в который свернуты нужные функции \n",
        "class Batch:\n",
        "#Авторизация на сервисе\n",
        "    SERVICE_URL = \"https://batch.geocoder.ls.hereapi.com/6.2/jobs\"\n",
        "    jobId = None\n",
        "\n",
        "    def __init__(self, apikey=\"MY_REST_API\"):\n",
        "        self.apikey = apikey\n",
        "        \n",
        "#Загрузка файла            \n",
        "    def start(self, filename, indelim=\";\", outdelim=\";\"):\n",
        "        \n",
        "        file = open(filename, 'rb')\n",
        "\n",
        "        params = {\n",
        "            \"action\": \"run\",\n",
        "            \"apiKey\": self.apikey,\n",
        "            \"politicalview\":\"RUS\",\n",
        "            \"gen\": 9,\n",
        "            \"maxresults\": \"1\",\n",
        "            \"header\": \"true\",\n",
        "            \"indelim\": indelim,\n",
        "            \"outdelim\": outdelim,\n",
        "            \"outcols\": \"displayLatitude,displayLongitude,locationLabel,houseNumber,street,district,city,postalCode,county,state,country\",\n",
        "            \"outputcombined\": \"true\",\n",
        "        }\n",
        "\n",
        "        response = requests.post(self.SERVICE_URL, params=params, data=file)\n",
        "        self.__stats (response)\n",
        "        file.close()\n",
        "    \n",
        "#Проверка статуса запроса\n",
        "    def status (self, jobId = None):\n",
        "\n",
        "        if jobId is not None:\n",
        "            self.jobId = jobId\n",
        "        \n",
        "        statusUrl = self.SERVICE_URL + \"/\" + self.jobId\n",
        "        \n",
        "        params = {\n",
        "            \"action\": \"status\",\n",
        "            \"apiKey\": self.apikey,\n",
        "        }\n",
        "        \n",
        "        response = requests.get(statusUrl, params=params)\n",
        "        self.__stats (response)\n",
        "        \n",
        "#запрос результата\n",
        "    def result (self, jobId = None):\n",
        "\n",
        "        if jobId is not None:\n",
        "            self.jobId = jobId\n",
        "        \n",
        "        print(\"Requesting result data ...\")\n",
        "        \n",
        "        resultUrl = self.SERVICE_URL + \"/\" + self.jobId + \"/result\"\n",
        "        \n",
        "        params = {\n",
        "            \"apiKey\": self.apikey\n",
        "        }\n",
        "        \n",
        "        response = requests.get(resultUrl, params=params, stream=True)\n",
        "        \n",
        "        if (response.ok):    \n",
        "            zipResult = zipfile.ZipFile(io.BytesIO(response.content))\n",
        "            zipResult.extractall()\n",
        "            print(\"File saved successfully\")\n",
        "        \n",
        "        else:\n",
        "            print(\"Error\")\n",
        "            print(response.text)\n",
        "    \n",
        "\n",
        "#вывод результата    \n",
        "    def __stats (self, response):\n",
        "        if (response.ok):\n",
        "            parsedXMLResponse = BeautifulSoup(response.text, \"lxml\")\n",
        "\n",
        "            self.jobId = parsedXMLResponse.find('requestid').get_text()\n",
        "            \n",
        "            for stat in parsedXMLResponse.find('response').findChildren():\n",
        "                if(len(stat.findChildren()) == 0):\n",
        "                    print(\"{name}: {data}\".format(name=stat.name, data=stat.get_text()))\n",
        "\n",
        "        else:\n",
        "            print(response.text)\n",
        "\n"
      ],
      "execution_count": 47,
      "outputs": []
    },
    {
      "cell_type": "code",
      "metadata": {
        "id": "qRcnup5JziPu"
      },
      "source": [
        "#Запуск в работу скрипта, скрипт отработал, все закомментировала\n",
        "#from geocoder import Batch\n",
        "#service = Batch(apikey=\"MY_REST_API\")\n",
        "#service.start(\"/content/address_table_b2.csv\", indelim=\";\", outdelim=\";\")"
      ],
      "execution_count": 48,
      "outputs": []
    },
    {
      "cell_type": "code",
      "metadata": {
        "id": "1O6_5NqqtoRy"
      },
      "source": [
        "#service.status()"
      ],
      "execution_count": 49,
      "outputs": []
    },
    {
      "cell_type": "code",
      "metadata": {
        "id": "n2Sw44DHul9A"
      },
      "source": [
        "#service.result()"
      ],
      "execution_count": 50,
      "outputs": []
    },
    {
      "cell_type": "code",
      "metadata": {
        "colab": {
          "base_uri": "https://localhost:8080/"
        },
        "id": "dct5E_u9ynnB",
        "outputId": "d737811b-134c-4b9b-bd12-e48466b1857a"
      },
      "source": [
        "#Открываем полученный файл, загруженный на Google Drive\n",
        "\n",
        "spreadsheet_id = '1fcsVY2ezeZ26Nb-bTy68iHD7f1A6A1xf26SyUVUTBU8'\n",
        "file_name = 'https://docs.google.com/spreadsheets/d/{}/export?format=csv'.format(spreadsheet_id)\n",
        "r = requests.get(file_name)\n",
        "df = pd.read_csv(BytesIO(r.content))\n",
        "df.info()"
      ],
      "execution_count": 51,
      "outputs": [
        {
          "output_type": "stream",
          "text": [
            "<class 'pandas.core.frame.DataFrame'>\n",
            "RangeIndex: 15243 entries, 0 to 15242\n",
            "Data columns (total 11 columns):\n",
            " #   Column            Non-Null Count  Dtype  \n",
            "---  ------            --------------  -----  \n",
            " 0   recId             15243 non-null  int64  \n",
            " 1   searchText        15243 non-null  object \n",
            " 2   displayLatitude   15010 non-null  float64\n",
            " 3   displayLongitude  15010 non-null  float64\n",
            " 4   locationLabel     15010 non-null  object \n",
            " 5   houseNumber       14836 non-null  object \n",
            " 6   street            14991 non-null  object \n",
            " 7   district          14994 non-null  object \n",
            " 8   city              15010 non-null  object \n",
            " 9   postalCode        15002 non-null  float64\n",
            " 10  county            15010 non-null  object \n",
            "dtypes: float64(3), int64(1), object(7)\n",
            "memory usage: 1.3+ MB\n"
          ],
          "name": "stdout"
        }
      ]
    },
    {
      "cell_type": "markdown",
      "metadata": {
        "id": "T9B2SDyobNyY"
      },
      "source": [
        "Получен файл, содержащий координаты, столбцы с улицей и районом.\n",
        "\n",
        "Эти данные более точны, чем полученные выше при обработке вручную, далее будем использовать их. \n",
        "\n",
        "Объединяем полученную таблицу с основной по индексу."
      ]
    },
    {
      "cell_type": "code",
      "metadata": {
        "id": "aHjZmPGFIEfp"
      },
      "source": [
        "rest_data = rest_data.reset_index()\n"
      ],
      "execution_count": 52,
      "outputs": []
    },
    {
      "cell_type": "code",
      "metadata": {
        "id": "djrEfd2QJ0Qr"
      },
      "source": [
        "rest_data = rest_data.merge(df, left_on = 'index', right_on = 'recId', how = 'left')\n"
      ],
      "execution_count": 53,
      "outputs": []
    },
    {
      "cell_type": "code",
      "metadata": {
        "colab": {
          "base_uri": "https://localhost:8080/",
          "height": 616
        },
        "id": "H4u0BQnfKqvQ",
        "outputId": "cb3e2b7d-acc5-48a1-bd0c-4b3557452b50"
      },
      "source": [
        "#Наводим красоту, убирая лишние столбцы и присваивая короткие названия\n",
        "rest_data = rest_data.drop(columns = ['street_x', 'recId', 'searchText'])\n",
        "rest_data = rest_data.rename(columns = {'street_y':'street'})\n",
        "rest_data.tail()"
      ],
      "execution_count": 54,
      "outputs": [
        {
          "output_type": "execute_result",
          "data": {
            "text/html": [
              "<div>\n",
              "<style scoped>\n",
              "    .dataframe tbody tr th:only-of-type {\n",
              "        vertical-align: middle;\n",
              "    }\n",
              "\n",
              "    .dataframe tbody tr th {\n",
              "        vertical-align: top;\n",
              "    }\n",
              "\n",
              "    .dataframe thead th {\n",
              "        text-align: right;\n",
              "    }\n",
              "</style>\n",
              "<table border=\"1\" class=\"dataframe\">\n",
              "  <thead>\n",
              "    <tr style=\"text-align: right;\">\n",
              "      <th></th>\n",
              "      <th>index</th>\n",
              "      <th>id</th>\n",
              "      <th>object_name</th>\n",
              "      <th>address</th>\n",
              "      <th>number</th>\n",
              "      <th>correct_object_type</th>\n",
              "      <th>correct_chain</th>\n",
              "      <th>displayLatitude</th>\n",
              "      <th>displayLongitude</th>\n",
              "      <th>locationLabel</th>\n",
              "      <th>houseNumber</th>\n",
              "      <th>street</th>\n",
              "      <th>district</th>\n",
              "      <th>city</th>\n",
              "      <th>postalCode</th>\n",
              "      <th>county</th>\n",
              "    </tr>\n",
              "  </thead>\n",
              "  <tbody>\n",
              "    <tr>\n",
              "      <th>15238</th>\n",
              "      <td>15361</td>\n",
              "      <td>208537</td>\n",
              "      <td>шоколадница</td>\n",
              "      <td>город Москва, 3-й Крутицкий переулок, дом 18</td>\n",
              "      <td>50</td>\n",
              "      <td>кафе</td>\n",
              "      <td>да</td>\n",
              "      <td>55.73177</td>\n",
              "      <td>37.66402</td>\n",
              "      <td>3-й Крутицкий переулок 18, Москва, Россия, 109044</td>\n",
              "      <td>18</td>\n",
              "      <td>3-й Крутицкий переулок</td>\n",
              "      <td>Таганский</td>\n",
              "      <td>Москва</td>\n",
              "      <td>109044.0</td>\n",
              "      <td>Москва</td>\n",
              "    </tr>\n",
              "    <tr>\n",
              "      <th>15239</th>\n",
              "      <td>15362</td>\n",
              "      <td>209264</td>\n",
              "      <td>шоколадница</td>\n",
              "      <td>город Москва, улица Земляной Вал, дом 33</td>\n",
              "      <td>10</td>\n",
              "      <td>кафе</td>\n",
              "      <td>да</td>\n",
              "      <td>55.75721</td>\n",
              "      <td>37.65909</td>\n",
              "      <td>улица Земляной вал 33, Москва, Россия, 105064</td>\n",
              "      <td>33</td>\n",
              "      <td>улица Земляной вал</td>\n",
              "      <td>Басманный</td>\n",
              "      <td>Москва</td>\n",
              "      <td>105064.0</td>\n",
              "      <td>Москва</td>\n",
              "    </tr>\n",
              "    <tr>\n",
              "      <th>15240</th>\n",
              "      <td>15363</td>\n",
              "      <td>209186</td>\n",
              "      <td>шоколадница</td>\n",
              "      <td>город Москва, улица Земляной Вал, дом 33</td>\n",
              "      <td>20</td>\n",
              "      <td>кафе</td>\n",
              "      <td>да</td>\n",
              "      <td>55.75721</td>\n",
              "      <td>37.65909</td>\n",
              "      <td>улица Земляной вал 33, Москва, Россия, 105064</td>\n",
              "      <td>33</td>\n",
              "      <td>улица Земляной вал</td>\n",
              "      <td>Басманный</td>\n",
              "      <td>Москва</td>\n",
              "      <td>105064.0</td>\n",
              "      <td>Москва</td>\n",
              "    </tr>\n",
              "    <tr>\n",
              "      <th>15241</th>\n",
              "      <td>15364</td>\n",
              "      <td>221900</td>\n",
              "      <td>шоколадница</td>\n",
              "      <td>город Москва, поселение Московский, Киевское шоссе, 22-й километр, домовладение 4, строение 1</td>\n",
              "      <td>36</td>\n",
              "      <td>кафе</td>\n",
              "      <td>да</td>\n",
              "      <td>55.47220</td>\n",
              "      <td>36.93128</td>\n",
              "      <td>Киевское шоссе 6, Москва, Россия, 143340</td>\n",
              "      <td>6</td>\n",
              "      <td>Киевское шоссе</td>\n",
              "      <td>Рассудово посёлок</td>\n",
              "      <td>Москва</td>\n",
              "      <td>143340.0</td>\n",
              "      <td>Москва</td>\n",
              "    </tr>\n",
              "    <tr>\n",
              "      <th>15242</th>\n",
              "      <td>15365</td>\n",
              "      <td>222535</td>\n",
              "      <td>шоколадница</td>\n",
              "      <td>город Москва, Ходынский бульвар, дом 4</td>\n",
              "      <td>10</td>\n",
              "      <td>кафе</td>\n",
              "      <td>да</td>\n",
              "      <td>55.79016</td>\n",
              "      <td>37.53130</td>\n",
              "      <td>Ходынский бульвар 4, Москва, Россия, 125252</td>\n",
              "      <td>4</td>\n",
              "      <td>Ходынский бульвар</td>\n",
              "      <td>Хорошёвский</td>\n",
              "      <td>Москва</td>\n",
              "      <td>125252.0</td>\n",
              "      <td>Москва</td>\n",
              "    </tr>\n",
              "  </tbody>\n",
              "</table>\n",
              "</div>"
            ],
            "text/plain": [
              "       index      id  object_name  ...    city  postalCode  county\n",
              "15238  15361  208537  шоколадница  ...  Москва  109044.0    Москва\n",
              "15239  15362  209264  шоколадница  ...  Москва  105064.0    Москва\n",
              "15240  15363  209186  шоколадница  ...  Москва  105064.0    Москва\n",
              "15241  15364  221900  шоколадница  ...  Москва  143340.0    Москва\n",
              "15242  15365  222535  шоколадница  ...  Москва  125252.0    Москва\n",
              "\n",
              "[5 rows x 16 columns]"
            ]
          },
          "metadata": {},
          "execution_count": 54
        }
      ]
    },
    {
      "cell_type": "markdown",
      "metadata": {
        "id": "SkxERMY-buEz"
      },
      "source": [
        "Строим обновленную таблицу топ-10 улиц по количеству объектов общепита."
      ]
    },
    {
      "cell_type": "code",
      "metadata": {
        "colab": {
          "base_uri": "https://localhost:8080/",
          "height": 359
        },
        "id": "F54ZkPfDLKdo",
        "outputId": "8a1cc181-2c57-4798-ff3c-26d02f2eabf0"
      },
      "source": [
        "street_pivot = rest_data.query('street != \"Зеленоград\"').pivot_table(index = 'street', values = 'id', aggfunc = 'count').reset_index().sort_values(by = 'id', ascending = False)\n",
        "\n",
        "street_top_10 = street_pivot.head(10)\n",
        "street_top_10.columns = ['street', 'objects_number']\n",
        "street_top_10\n"
      ],
      "execution_count": 55,
      "outputs": [
        {
          "output_type": "execute_result",
          "data": {
            "text/html": [
              "<div>\n",
              "<style scoped>\n",
              "    .dataframe tbody tr th:only-of-type {\n",
              "        vertical-align: middle;\n",
              "    }\n",
              "\n",
              "    .dataframe tbody tr th {\n",
              "        vertical-align: top;\n",
              "    }\n",
              "\n",
              "    .dataframe thead th {\n",
              "        text-align: right;\n",
              "    }\n",
              "</style>\n",
              "<table border=\"1\" class=\"dataframe\">\n",
              "  <thead>\n",
              "    <tr style=\"text-align: right;\">\n",
              "      <th></th>\n",
              "      <th>street</th>\n",
              "      <th>objects_number</th>\n",
              "    </tr>\n",
              "  </thead>\n",
              "  <tbody>\n",
              "    <tr>\n",
              "      <th>1432</th>\n",
              "      <td>проспект Мира</td>\n",
              "      <td>203</td>\n",
              "    </tr>\n",
              "    <tr>\n",
              "      <th>1023</th>\n",
              "      <td>Профсоюзная улица</td>\n",
              "      <td>183</td>\n",
              "    </tr>\n",
              "    <tr>\n",
              "      <th>697</th>\n",
              "      <td>Ленинградский проспект</td>\n",
              "      <td>172</td>\n",
              "    </tr>\n",
              "    <tr>\n",
              "      <th>1007</th>\n",
              "      <td>Пресненская набережная</td>\n",
              "      <td>165</td>\n",
              "    </tr>\n",
              "    <tr>\n",
              "      <th>404</th>\n",
              "      <td>Варшавское шоссе</td>\n",
              "      <td>162</td>\n",
              "    </tr>\n",
              "    <tr>\n",
              "      <th>700</th>\n",
              "      <td>Ленинский проспект</td>\n",
              "      <td>146</td>\n",
              "    </tr>\n",
              "    <tr>\n",
              "      <th>1428</th>\n",
              "      <td>проспект Вернадского</td>\n",
              "      <td>130</td>\n",
              "    </tr>\n",
              "    <tr>\n",
              "      <th>687</th>\n",
              "      <td>Кутузовский проспект</td>\n",
              "      <td>112</td>\n",
              "    </tr>\n",
              "    <tr>\n",
              "      <th>609</th>\n",
              "      <td>Каширское шоссе</td>\n",
              "      <td>110</td>\n",
              "    </tr>\n",
              "    <tr>\n",
              "      <th>616</th>\n",
              "      <td>Кировоградская улица</td>\n",
              "      <td>110</td>\n",
              "    </tr>\n",
              "  </tbody>\n",
              "</table>\n",
              "</div>"
            ],
            "text/plain": [
              "                      street  objects_number\n",
              "1432  проспект Мира           203           \n",
              "1023  Профсоюзная улица       183           \n",
              "697   Ленинградский проспект  172           \n",
              "1007  Пресненская набережная  165           \n",
              "404   Варшавское шоссе        162           \n",
              "700   Ленинский проспект      146           \n",
              "1428  проспект Вернадского    130           \n",
              "687   Кутузовский проспект    112           \n",
              "609   Каширское шоссе         110           \n",
              "616   Кировоградская улица    110           "
            ]
          },
          "metadata": {},
          "execution_count": 55
        }
      ]
    },
    {
      "cell_type": "markdown",
      "metadata": {
        "id": "zRngjtIQb42D"
      },
      "source": [
        "Данные совпадают с полученными ранее, однако этот вариант позволит нам автоматически получить район в зависимости от адреса и нанести на карту точки для визуализации результата."
      ]
    },
    {
      "cell_type": "markdown",
      "metadata": {
        "id": "U5VlisCts05f"
      },
      "source": [
        "### Распределение точек общепита по районам <a id=\"district\"></a>"
      ]
    },
    {
      "cell_type": "code",
      "metadata": {
        "colab": {
          "base_uri": "https://localhost:8080/"
        },
        "id": "5s4l5Y2iM9kz",
        "outputId": "b0bf2a2c-9051-40e6-e3e4-9260780957f2"
      },
      "source": [
        "#Создаем список топ-10 самых насыщенных общепитом улиц\n",
        "street_top_10_list = list(street_top_10['street'])\n",
        "street_top_10_list"
      ],
      "execution_count": 56,
      "outputs": [
        {
          "output_type": "execute_result",
          "data": {
            "text/plain": [
              "['проспект Мира',\n",
              " 'Профсоюзная улица',\n",
              " 'Ленинградский проспект',\n",
              " 'Пресненская набережная',\n",
              " 'Варшавское шоссе',\n",
              " 'Ленинский проспект',\n",
              " 'проспект Вернадского',\n",
              " 'Кутузовский проспект',\n",
              " 'Каширское шоссе',\n",
              " 'Кировоградская улица']"
            ]
          },
          "metadata": {},
          "execution_count": 56
        }
      ]
    },
    {
      "cell_type": "code",
      "metadata": {
        "colab": {
          "base_uri": "https://localhost:8080/",
          "height": 1000
        },
        "id": "8PJyaE7pNUbd",
        "outputId": "e5145b18-2a1f-4969-cd01-195517381d07"
      },
      "source": [
        "#Формируем сводную таблицу связи улицы и района\n",
        "street_district = rest_data.query('street in @street_top_10_list').pivot_table(index = ['street', 'district'], values = 'id', aggfunc = 'nunique')\n",
        "display(street_district)"
      ],
      "execution_count": 57,
      "outputs": [
        {
          "output_type": "display_data",
          "data": {
            "text/html": [
              "<div>\n",
              "<style scoped>\n",
              "    .dataframe tbody tr th:only-of-type {\n",
              "        vertical-align: middle;\n",
              "    }\n",
              "\n",
              "    .dataframe tbody tr th {\n",
              "        vertical-align: top;\n",
              "    }\n",
              "\n",
              "    .dataframe thead th {\n",
              "        text-align: right;\n",
              "    }\n",
              "</style>\n",
              "<table border=\"1\" class=\"dataframe\">\n",
              "  <thead>\n",
              "    <tr style=\"text-align: right;\">\n",
              "      <th></th>\n",
              "      <th></th>\n",
              "      <th>id</th>\n",
              "    </tr>\n",
              "    <tr>\n",
              "      <th>street</th>\n",
              "      <th>district</th>\n",
              "      <th></th>\n",
              "    </tr>\n",
              "  </thead>\n",
              "  <tbody>\n",
              "    <tr>\n",
              "      <th rowspan=\"7\" valign=\"top\">Варшавское шоссе</th>\n",
              "      <th>Бутово Южное</th>\n",
              "      <td>2</td>\n",
              "    </tr>\n",
              "    <tr>\n",
              "      <th>Донской</th>\n",
              "      <td>36</td>\n",
              "    </tr>\n",
              "    <tr>\n",
              "      <th>Нагатино-Садовники</th>\n",
              "      <td>7</td>\n",
              "    </tr>\n",
              "    <tr>\n",
              "      <th>Нагорный</th>\n",
              "      <td>44</td>\n",
              "    </tr>\n",
              "    <tr>\n",
              "      <th>Чертаново Северное</th>\n",
              "      <td>23</td>\n",
              "    </tr>\n",
              "    <tr>\n",
              "      <th>Чертаново Центральное</th>\n",
              "      <td>12</td>\n",
              "    </tr>\n",
              "    <tr>\n",
              "      <th>Чертаново Южное</th>\n",
              "      <td>38</td>\n",
              "    </tr>\n",
              "    <tr>\n",
              "      <th rowspan=\"4\" valign=\"top\">Каширское шоссе</th>\n",
              "      <th>Москворечье-Сабурово</th>\n",
              "      <td>46</td>\n",
              "    </tr>\n",
              "    <tr>\n",
              "      <th>Нагатино-Садовники</th>\n",
              "      <td>48</td>\n",
              "    </tr>\n",
              "    <tr>\n",
              "      <th>Орехово-Борисово Северное</th>\n",
              "      <td>10</td>\n",
              "    </tr>\n",
              "    <tr>\n",
              "      <th>Орехово-Борисово Южное</th>\n",
              "      <td>6</td>\n",
              "    </tr>\n",
              "    <tr>\n",
              "      <th rowspan=\"3\" valign=\"top\">Кировоградская улица</th>\n",
              "      <th>Чертаново Северное</th>\n",
              "      <td>21</td>\n",
              "    </tr>\n",
              "    <tr>\n",
              "      <th>Чертаново Центральное</th>\n",
              "      <td>79</td>\n",
              "    </tr>\n",
              "    <tr>\n",
              "      <th>Чертаново Южное</th>\n",
              "      <td>10</td>\n",
              "    </tr>\n",
              "    <tr>\n",
              "      <th rowspan=\"2\" valign=\"top\">Кутузовский проспект</th>\n",
              "      <th>Дорогомилово</th>\n",
              "      <td>59</td>\n",
              "    </tr>\n",
              "    <tr>\n",
              "      <th>Фили-Давыдково</th>\n",
              "      <td>53</td>\n",
              "    </tr>\n",
              "    <tr>\n",
              "      <th rowspan=\"4\" valign=\"top\">Ленинградский проспект</th>\n",
              "      <th>Аэропорт</th>\n",
              "      <td>65</td>\n",
              "    </tr>\n",
              "    <tr>\n",
              "      <th>Беговой</th>\n",
              "      <td>66</td>\n",
              "    </tr>\n",
              "    <tr>\n",
              "      <th>Сокол</th>\n",
              "      <td>24</td>\n",
              "    </tr>\n",
              "    <tr>\n",
              "      <th>Хорошёвский</th>\n",
              "      <td>17</td>\n",
              "    </tr>\n",
              "    <tr>\n",
              "      <th rowspan=\"8\" valign=\"top\">Ленинский проспект</th>\n",
              "      <th>Гагаринский</th>\n",
              "      <td>39</td>\n",
              "    </tr>\n",
              "    <tr>\n",
              "      <th>Донской</th>\n",
              "      <td>15</td>\n",
              "    </tr>\n",
              "    <tr>\n",
              "      <th>Ломоносовский</th>\n",
              "      <td>12</td>\n",
              "    </tr>\n",
              "    <tr>\n",
              "      <th>Обручевский</th>\n",
              "      <td>31</td>\n",
              "    </tr>\n",
              "    <tr>\n",
              "      <th>Проспект Вернадского</th>\n",
              "      <td>2</td>\n",
              "    </tr>\n",
              "    <tr>\n",
              "      <th>Тропарёво-Никулино</th>\n",
              "      <td>19</td>\n",
              "    </tr>\n",
              "    <tr>\n",
              "      <th>Тёплый Стан</th>\n",
              "      <td>4</td>\n",
              "    </tr>\n",
              "    <tr>\n",
              "      <th>Якиманка</th>\n",
              "      <td>24</td>\n",
              "    </tr>\n",
              "    <tr>\n",
              "      <th>Пресненская набережная</th>\n",
              "      <th>Пресненский</th>\n",
              "      <td>165</td>\n",
              "    </tr>\n",
              "    <tr>\n",
              "      <th rowspan=\"6\" valign=\"top\">Профсоюзная улица</th>\n",
              "      <th>Академический</th>\n",
              "      <td>25</td>\n",
              "    </tr>\n",
              "    <tr>\n",
              "      <th>Коньково</th>\n",
              "      <td>35</td>\n",
              "    </tr>\n",
              "    <tr>\n",
              "      <th>Обручевский</th>\n",
              "      <td>28</td>\n",
              "    </tr>\n",
              "    <tr>\n",
              "      <th>Тёплый Стан</th>\n",
              "      <td>40</td>\n",
              "    </tr>\n",
              "    <tr>\n",
              "      <th>Черёмушки</th>\n",
              "      <td>41</td>\n",
              "    </tr>\n",
              "    <tr>\n",
              "      <th>Ясенево</th>\n",
              "      <td>14</td>\n",
              "    </tr>\n",
              "    <tr>\n",
              "      <th rowspan=\"5\" valign=\"top\">проспект Вернадского</th>\n",
              "      <th>Гагаринский</th>\n",
              "      <td>1</td>\n",
              "    </tr>\n",
              "    <tr>\n",
              "      <th>Ломоносовский</th>\n",
              "      <td>14</td>\n",
              "    </tr>\n",
              "    <tr>\n",
              "      <th>Проспект Вернадского</th>\n",
              "      <td>14</td>\n",
              "    </tr>\n",
              "    <tr>\n",
              "      <th>Раменки</th>\n",
              "      <td>32</td>\n",
              "    </tr>\n",
              "    <tr>\n",
              "      <th>Тропарёво-Никулино</th>\n",
              "      <td>69</td>\n",
              "    </tr>\n",
              "    <tr>\n",
              "      <th rowspan=\"6\" valign=\"top\">проспект Мира</th>\n",
              "      <th>Алексеевский</th>\n",
              "      <td>43</td>\n",
              "    </tr>\n",
              "    <tr>\n",
              "      <th>Мещанский</th>\n",
              "      <td>63</td>\n",
              "    </tr>\n",
              "    <tr>\n",
              "      <th>Останкинский</th>\n",
              "      <td>27</td>\n",
              "    </tr>\n",
              "    <tr>\n",
              "      <th>Ростокино</th>\n",
              "      <td>7</td>\n",
              "    </tr>\n",
              "    <tr>\n",
              "      <th>Свиблово</th>\n",
              "      <td>62</td>\n",
              "    </tr>\n",
              "    <tr>\n",
              "      <th>Ярославский</th>\n",
              "      <td>1</td>\n",
              "    </tr>\n",
              "  </tbody>\n",
              "</table>\n",
              "</div>"
            ],
            "text/plain": [
              "                                                   id\n",
              "street                 district                      \n",
              "Варшавское шоссе       Бутово Южное               2  \n",
              "                       Донской                    36 \n",
              "                       Нагатино-Садовники         7  \n",
              "                       Нагорный                   44 \n",
              "                       Чертаново Северное         23 \n",
              "                       Чертаново Центральное      12 \n",
              "                       Чертаново Южное            38 \n",
              "Каширское шоссе        Москворечье-Сабурово       46 \n",
              "                       Нагатино-Садовники         48 \n",
              "                       Орехово-Борисово Северное  10 \n",
              "                       Орехово-Борисово Южное     6  \n",
              "Кировоградская улица   Чертаново Северное         21 \n",
              "                       Чертаново Центральное      79 \n",
              "                       Чертаново Южное            10 \n",
              "Кутузовский проспект   Дорогомилово               59 \n",
              "                       Фили-Давыдково             53 \n",
              "Ленинградский проспект Аэропорт                   65 \n",
              "                       Беговой                    66 \n",
              "                       Сокол                      24 \n",
              "                       Хорошёвский                17 \n",
              "Ленинский проспект     Гагаринский                39 \n",
              "                       Донской                    15 \n",
              "                       Ломоносовский              12 \n",
              "                       Обручевский                31 \n",
              "                       Проспект Вернадского       2  \n",
              "                       Тропарёво-Никулино         19 \n",
              "                       Тёплый Стан                4  \n",
              "                       Якиманка                   24 \n",
              "Пресненская набережная Пресненский                165\n",
              "Профсоюзная улица      Академический              25 \n",
              "                       Коньково                   35 \n",
              "                       Обручевский                28 \n",
              "                       Тёплый Стан                40 \n",
              "                       Черёмушки                  41 \n",
              "                       Ясенево                    14 \n",
              "проспект Вернадского   Гагаринский                1  \n",
              "                       Ломоносовский              14 \n",
              "                       Проспект Вернадского       14 \n",
              "                       Раменки                    32 \n",
              "                       Тропарёво-Никулино         69 \n",
              "проспект Мира          Алексеевский               43 \n",
              "                       Мещанский                  63 \n",
              "                       Останкинский               27 \n",
              "                       Ростокино                  7  \n",
              "                       Свиблово                   62 \n",
              "                       Ярославский                1  "
            ]
          },
          "metadata": {}
        }
      ]
    },
    {
      "cell_type": "markdown",
      "metadata": {
        "id": "UDmjGGTZchOX"
      },
      "source": [
        "В виде таблицы информация не очень читаема. Можно только сказать, что больше всего заведений из выборки топ-10 улиц в Пресненском районе (Москва-Сити!), а также в Центральном Чертанове и Тропарёве-Никулине. Большие районы, логично, что в них попадает большое количество заведений.\n",
        "\n",
        "Визуализируем это распределение на карте."
      ]
    },
    {
      "cell_type": "code",
      "metadata": {
        "id": "8nIJ2C5BQ_6Y"
      },
      "source": [
        "import folium\n",
        "from folium.plugins import MarkerCluster\n",
        "lat = rest_data.query('street in @street_top_10_list')['displayLatitude']\n",
        "lon = rest_data.query('street in @street_top_10_list')['displayLongitude']\n",
        "district = rest_data.query('street in @street_top_10_list')['district']\n",
        "map = folium.Map(location=[55.7522,37.6156], zoom_start = 5)\n",
        "marker_cluster = MarkerCluster().add_to(map)\n",
        "for lat, lon, district in zip(lat, lon, district):\n",
        "    folium.CircleMarker(location=[lat, lon], radius = 9, popup=str(district)+\" m\", color=\"gray\", fill_opacity = 0.9).add_to(marker_cluster)\n",
        "map.save(\"map1.html\")\n"
      ],
      "execution_count": 58,
      "outputs": []
    },
    {
      "cell_type": "code",
      "metadata": {
        "colab": {
          "base_uri": "https://localhost:8080/",
          "height": 887,
          "referenced_widgets": [
            "0a6302295890434395329321c573cae8",
            "3b016c5291314f118a81b41f17327283"
          ]
        },
        "id": "khpSeMSHVh2d",
        "outputId": "d439c49e-617b-4ee4-d5b2-452b0caee7e0"
      },
      "source": [
        "from ipywidgets import Image\n",
        "#https://drive.google.com/file/d/1O0CNGPJ0jR3qBrxbV-kbIaUQzaCQ7cd9/view?usp=sharing\n",
        "Image(value=requests.get('http://drive.google.com/uc?export=view&id=1O0CNGPJ0jR3qBrxbV-kbIaUQzaCQ7cd9').content)"
      ],
      "execution_count": 59,
      "outputs": [
        {
          "output_type": "display_data",
          "data": {
            "application/vnd.jupyter.widget-view+json": {
              "model_id": "0a6302295890434395329321c573cae8",
              "version_minor": 0,
              "version_major": 2
            },
            "text/plain": [
              "Image(value=b'\\xff\\xd8\\xff\\xe0\\x00\\x10JFIF\\x00\\x01\\x01\\x01\\x00\\x90\\x00\\x90\\x00\\x00\\xff\\xdb\\x00C\\x00\\x02\\x01\\x0…"
            ]
          },
          "metadata": {}
        }
      ]
    },
    {
      "cell_type": "markdown",
      "metadata": {
        "id": "pnX7w2ssew3_"
      },
      "source": [
        "На карте видно, что заведения из топ-10 улиц тяготеют к радильным магистралям. Эти улицы длинные, поэтому большое количество кафе на них не говорит ни о чем конкретном.\n",
        "\n",
        "Сравним, как изменится картинка, если нанести на карту все заведения по районам."
      ]
    },
    {
      "cell_type": "code",
      "metadata": {
        "colab": {
          "base_uri": "https://localhost:8080/",
          "height": 390
        },
        "id": "XY70Ju1ydHQm",
        "outputId": "969e3e7e-efdc-48da-ba55-87bff7a2259e"
      },
      "source": [
        "district_pivot = rest_data.pivot_table(index = 'district', values = 'id', aggfunc = 'count')\n",
        "district_pivot.columns = ['objects_number']\n",
        "display(district_pivot.sort_values(by = 'objects_number', ascending = False).head(10))"
      ],
      "execution_count": 60,
      "outputs": [
        {
          "output_type": "display_data",
          "data": {
            "text/html": [
              "<div>\n",
              "<style scoped>\n",
              "    .dataframe tbody tr th:only-of-type {\n",
              "        vertical-align: middle;\n",
              "    }\n",
              "\n",
              "    .dataframe tbody tr th {\n",
              "        vertical-align: top;\n",
              "    }\n",
              "\n",
              "    .dataframe thead th {\n",
              "        text-align: right;\n",
              "    }\n",
              "</style>\n",
              "<table border=\"1\" class=\"dataframe\">\n",
              "  <thead>\n",
              "    <tr style=\"text-align: right;\">\n",
              "      <th></th>\n",
              "      <th>objects_number</th>\n",
              "    </tr>\n",
              "    <tr>\n",
              "      <th>district</th>\n",
              "      <th></th>\n",
              "    </tr>\n",
              "  </thead>\n",
              "  <tbody>\n",
              "    <tr>\n",
              "      <th>Тверской</th>\n",
              "      <td>771</td>\n",
              "    </tr>\n",
              "    <tr>\n",
              "      <th>Пресненский</th>\n",
              "      <td>712</td>\n",
              "    </tr>\n",
              "    <tr>\n",
              "      <th>Басманный</th>\n",
              "      <td>622</td>\n",
              "    </tr>\n",
              "    <tr>\n",
              "      <th>Даниловский</th>\n",
              "      <td>454</td>\n",
              "    </tr>\n",
              "    <tr>\n",
              "      <th>Замоскворечье</th>\n",
              "      <td>383</td>\n",
              "    </tr>\n",
              "    <tr>\n",
              "      <th>Хамовники</th>\n",
              "      <td>365</td>\n",
              "    </tr>\n",
              "    <tr>\n",
              "      <th>Таганский</th>\n",
              "      <td>357</td>\n",
              "    </tr>\n",
              "    <tr>\n",
              "      <th>Мещанский</th>\n",
              "      <td>351</td>\n",
              "    </tr>\n",
              "    <tr>\n",
              "      <th>Арбат</th>\n",
              "      <td>265</td>\n",
              "    </tr>\n",
              "    <tr>\n",
              "      <th>Хорошёвский</th>\n",
              "      <td>245</td>\n",
              "    </tr>\n",
              "  </tbody>\n",
              "</table>\n",
              "</div>"
            ],
            "text/plain": [
              "               objects_number\n",
              "district                     \n",
              "Тверской       771           \n",
              "Пресненский    712           \n",
              "Басманный      622           \n",
              "Даниловский    454           \n",
              "Замоскворечье  383           \n",
              "Хамовники      365           \n",
              "Таганский      357           \n",
              "Мещанский      351           \n",
              "Арбат          265           \n",
              "Хорошёвский    245           "
            ]
          },
          "metadata": {}
        }
      ]
    },
    {
      "cell_type": "markdown",
      "metadata": {
        "id": "QbrMmdOTfR9O"
      },
      "source": [
        "Результат логичен - в центральных районах наиболее густое скопление всевозможных кафе, ресторанов и столовых.\n",
        "\n",
        "Посмотрим на карту.\n"
      ]
    },
    {
      "cell_type": "code",
      "metadata": {
        "id": "Rcvcn3gOfjTC"
      },
      "source": [
        "rest_data = rest_data.dropna()\n",
        "lat = rest_data['displayLatitude']\n",
        "lon = rest_data['displayLongitude']\n",
        "district = rest_data['district']\n",
        "map = folium.Map(location=[55.7522,37.6156], zoom_start = 5)\n",
        "marker_cluster = MarkerCluster().add_to(map)\n",
        "for lat, lon, district in zip(lat, lon, district):\n",
        "    folium.CircleMarker(location=[lat, lon], radius = 9, popup=str(district)+\" m\", color=\"gray\", fill_opacity = 0.9).add_to(marker_cluster)\n",
        "map.save(\"map2.html\")"
      ],
      "execution_count": 61,
      "outputs": []
    },
    {
      "cell_type": "code",
      "metadata": {
        "colab": {
          "base_uri": "https://localhost:8080/",
          "height": 910,
          "referenced_widgets": [
            "f625af7e2a344f499c4addf03c8e755a",
            "384264d9ff1a458687aa0b5d2cdad3f9"
          ]
        },
        "id": "Tz3TOZuIggbe",
        "outputId": "74308e95-cc02-433f-ec54-c7f2699cd735"
      },
      "source": [
        "#https://drive.google.com/file/d/1TfRx2vNQAgnUvRECbRJNqSyJHwfnxiNc/view?usp=sharing\n",
        "print('Районное распределение заведений общепита в Москве')\n",
        "Image(value=requests.get('http://drive.google.com/uc?export=view&id=1TfRx2vNQAgnUvRECbRJNqSyJHwfnxiNc').content)"
      ],
      "execution_count": 62,
      "outputs": [
        {
          "output_type": "stream",
          "text": [
            "Районное распределение заведений общепита в Москве\n"
          ],
          "name": "stdout"
        },
        {
          "output_type": "display_data",
          "data": {
            "application/vnd.jupyter.widget-view+json": {
              "model_id": "f625af7e2a344f499c4addf03c8e755a",
              "version_minor": 0,
              "version_major": 2
            },
            "text/plain": [
              "Image(value=b'\\xff\\xd8\\xff\\xe0\\x00\\x10JFIF\\x00\\x01\\x01\\x01\\x00\\x90\\x00\\x90\\x00\\x00\\xff\\xdb\\x00C\\x00\\x02\\x01\\x0…"
            ]
          },
          "metadata": {}
        }
      ]
    },
    {
      "cell_type": "code",
      "metadata": {
        "colab": {
          "base_uri": "https://localhost:8080/",
          "height": 905,
          "referenced_widgets": [
            "01d2f197d7cc43db802bf6c8ee7fbf87",
            "c5a89ce404c6467e940539ba404781dc"
          ]
        },
        "id": "Cq7IxGV5hM6l",
        "outputId": "243a02b3-085f-4695-f34b-239f5f51dee2"
      },
      "source": [
        "#https://drive.google.com/file/d/1HSeHbQt-gGOd5CtgTC9kF1Lb4GUT9y0y/view?usp=sharing\n",
        "print('Распределение заведений общепита в центре Москвы')\n",
        "Image(value=requests.get('http://drive.google.com/uc?export=view&id=1HSeHbQt-gGOd5CtgTC9kF1Lb4GUT9y0y').content)"
      ],
      "execution_count": 63,
      "outputs": [
        {
          "output_type": "stream",
          "text": [
            "Распределение заведений общепита в центре Москвы\n"
          ],
          "name": "stdout"
        },
        {
          "output_type": "display_data",
          "data": {
            "application/vnd.jupyter.widget-view+json": {
              "model_id": "01d2f197d7cc43db802bf6c8ee7fbf87",
              "version_minor": 0,
              "version_major": 2
            },
            "text/plain": [
              "Image(value=b'\\xff\\xd8\\xff\\xe0\\x00\\x10JFIF\\x00\\x01\\x01\\x01\\x00\\x90\\x00\\x90\\x00\\x00\\xff\\xdb\\x00C\\x00\\x02\\x01\\x0…"
            ]
          },
          "metadata": {}
        }
      ]
    },
    {
      "cell_type": "markdown",
      "metadata": {
        "id": "g5N6SSmriDJj"
      },
      "source": [
        "Самая жесткая конкуренция ждет владельцев бизнеса в районе Арбата, Тверской, Замоскворечья. Одним словом, в историческом центре. \n",
        "\n",
        "Центр - туристическое место, большое количество заведений именно в ЦАО обусловлено ориентацией на гостей столицы."
      ]
    },
    {
      "cell_type": "markdown",
      "metadata": {
        "id": "GSZK7Zvh7g_D"
      },
      "source": [
        "Рассчитаем максимальное количество заведений на улицах центральных районов."
      ]
    },
    {
      "cell_type": "code",
      "metadata": {
        "colab": {
          "base_uri": "https://localhost:8080/",
          "height": 731
        },
        "id": "lQn3athv5G8j",
        "outputId": "9c977c36-5c44-4215-ddad-5fb17087b771"
      },
      "source": [
        "district_dict = ['Тверской', 'Пресненский', 'Даниловский',\t'Замоскворечье', 'Хамовники']\n",
        "for i in district_dict:\n",
        "  print('Район', i)\n",
        "  number_for_street = rest_data.query('district in @i').pivot_table(index = 'street', values = 'id', aggfunc = 'count').reset_index().sort_values(by = 'id', ascending = False).head(3)\n",
        "  display(number_for_street)"
      ],
      "execution_count": 64,
      "outputs": [
        {
          "output_type": "stream",
          "text": [
            "Район Тверской\n"
          ],
          "name": "stdout"
        },
        {
          "output_type": "display_data",
          "data": {
            "text/html": [
              "<div>\n",
              "<style scoped>\n",
              "    .dataframe tbody tr th:only-of-type {\n",
              "        vertical-align: middle;\n",
              "    }\n",
              "\n",
              "    .dataframe tbody tr th {\n",
              "        vertical-align: top;\n",
              "    }\n",
              "\n",
              "    .dataframe thead th {\n",
              "        text-align: right;\n",
              "    }\n",
              "</style>\n",
              "<table border=\"1\" class=\"dataframe\">\n",
              "  <thead>\n",
              "    <tr style=\"text-align: right;\">\n",
              "      <th></th>\n",
              "      <th>street</th>\n",
              "      <th>id</th>\n",
              "    </tr>\n",
              "  </thead>\n",
              "  <tbody>\n",
              "    <tr>\n",
              "      <th>66</th>\n",
              "      <td>Тверская улица</td>\n",
              "      <td>65</td>\n",
              "    </tr>\n",
              "    <tr>\n",
              "      <th>36</th>\n",
              "      <td>Лесная улица</td>\n",
              "      <td>61</td>\n",
              "    </tr>\n",
              "    <tr>\n",
              "      <th>77</th>\n",
              "      <td>улица Большая Дмитровка</td>\n",
              "      <td>51</td>\n",
              "    </tr>\n",
              "  </tbody>\n",
              "</table>\n",
              "</div>"
            ],
            "text/plain": [
              "                     street  id\n",
              "66  Тверская улица           65\n",
              "36  Лесная улица             61\n",
              "77  улица Большая Дмитровка  51"
            ]
          },
          "metadata": {}
        },
        {
          "output_type": "stream",
          "text": [
            "Район Пресненский\n"
          ],
          "name": "stdout"
        },
        {
          "output_type": "display_data",
          "data": {
            "text/html": [
              "<div>\n",
              "<style scoped>\n",
              "    .dataframe tbody tr th:only-of-type {\n",
              "        vertical-align: middle;\n",
              "    }\n",
              "\n",
              "    .dataframe tbody tr th {\n",
              "        vertical-align: top;\n",
              "    }\n",
              "\n",
              "    .dataframe thead th {\n",
              "        text-align: right;\n",
              "    }\n",
              "</style>\n",
              "<table border=\"1\" class=\"dataframe\">\n",
              "  <thead>\n",
              "    <tr style=\"text-align: right;\">\n",
              "      <th></th>\n",
              "      <th>street</th>\n",
              "      <th>id</th>\n",
              "    </tr>\n",
              "  </thead>\n",
              "  <tbody>\n",
              "    <tr>\n",
              "      <th>52</th>\n",
              "      <td>Пресненская набережная</td>\n",
              "      <td>165</td>\n",
              "    </tr>\n",
              "    <tr>\n",
              "      <th>35</th>\n",
              "      <td>Краснопресненская набережная</td>\n",
              "      <td>39</td>\n",
              "    </tr>\n",
              "    <tr>\n",
              "      <th>10</th>\n",
              "      <td>Большая Никитская улица</td>\n",
              "      <td>38</td>\n",
              "    </tr>\n",
              "  </tbody>\n",
              "</table>\n",
              "</div>"
            ],
            "text/plain": [
              "                          street   id\n",
              "52  Пресненская набережная        165\n",
              "35  Краснопресненская набережная  39 \n",
              "10  Большая Никитская улица       38 "
            ]
          },
          "metadata": {}
        },
        {
          "output_type": "stream",
          "text": [
            "Район Даниловский\n"
          ],
          "name": "stdout"
        },
        {
          "output_type": "display_data",
          "data": {
            "text/html": [
              "<div>\n",
              "<style scoped>\n",
              "    .dataframe tbody tr th:only-of-type {\n",
              "        vertical-align: middle;\n",
              "    }\n",
              "\n",
              "    .dataframe tbody tr th {\n",
              "        vertical-align: top;\n",
              "    }\n",
              "\n",
              "    .dataframe thead th {\n",
              "        text-align: right;\n",
              "    }\n",
              "</style>\n",
              "<table border=\"1\" class=\"dataframe\">\n",
              "  <thead>\n",
              "    <tr style=\"text-align: right;\">\n",
              "      <th></th>\n",
              "      <th>street</th>\n",
              "      <th>id</th>\n",
              "    </tr>\n",
              "  </thead>\n",
              "  <tbody>\n",
              "    <tr>\n",
              "      <th>37</th>\n",
              "      <td>улица Ленинская Слобода</td>\n",
              "      <td>88</td>\n",
              "    </tr>\n",
              "    <tr>\n",
              "      <th>13</th>\n",
              "      <td>Автозаводская улица</td>\n",
              "      <td>66</td>\n",
              "    </tr>\n",
              "    <tr>\n",
              "      <th>29</th>\n",
              "      <td>Мытная улица</td>\n",
              "      <td>49</td>\n",
              "    </tr>\n",
              "  </tbody>\n",
              "</table>\n",
              "</div>"
            ],
            "text/plain": [
              "                     street  id\n",
              "37  улица Ленинская Слобода  88\n",
              "13  Автозаводская улица      66\n",
              "29  Мытная улица             49"
            ]
          },
          "metadata": {}
        },
        {
          "output_type": "stream",
          "text": [
            "Район Замоскворечье\n"
          ],
          "name": "stdout"
        },
        {
          "output_type": "display_data",
          "data": {
            "text/html": [
              "<div>\n",
              "<style scoped>\n",
              "    .dataframe tbody tr th:only-of-type {\n",
              "        vertical-align: middle;\n",
              "    }\n",
              "\n",
              "    .dataframe tbody tr th {\n",
              "        vertical-align: top;\n",
              "    }\n",
              "\n",
              "    .dataframe thead th {\n",
              "        text-align: right;\n",
              "    }\n",
              "</style>\n",
              "<table border=\"1\" class=\"dataframe\">\n",
              "  <thead>\n",
              "    <tr style=\"text-align: right;\">\n",
              "      <th></th>\n",
              "      <th>street</th>\n",
              "      <th>id</th>\n",
              "    </tr>\n",
              "  </thead>\n",
              "  <tbody>\n",
              "    <tr>\n",
              "      <th>22</th>\n",
              "      <td>Пятницкая улица</td>\n",
              "      <td>79</td>\n",
              "    </tr>\n",
              "    <tr>\n",
              "      <th>5</th>\n",
              "      <td>Большая Серпуховская улица</td>\n",
              "      <td>30</td>\n",
              "    </tr>\n",
              "    <tr>\n",
              "      <th>21</th>\n",
              "      <td>Павелецкая площадь</td>\n",
              "      <td>24</td>\n",
              "    </tr>\n",
              "  </tbody>\n",
              "</table>\n",
              "</div>"
            ],
            "text/plain": [
              "                        street  id\n",
              "22  Пятницкая улица             79\n",
              "5   Большая Серпуховская улица  30\n",
              "21  Павелецкая площадь          24"
            ]
          },
          "metadata": {}
        },
        {
          "output_type": "stream",
          "text": [
            "Район Хамовники\n"
          ],
          "name": "stdout"
        },
        {
          "output_type": "display_data",
          "data": {
            "text/html": [
              "<div>\n",
              "<style scoped>\n",
              "    .dataframe tbody tr th:only-of-type {\n",
              "        vertical-align: middle;\n",
              "    }\n",
              "\n",
              "    .dataframe tbody tr th {\n",
              "        vertical-align: top;\n",
              "    }\n",
              "\n",
              "    .dataframe thead th {\n",
              "        text-align: right;\n",
              "    }\n",
              "</style>\n",
              "<table border=\"1\" class=\"dataframe\">\n",
              "  <thead>\n",
              "    <tr style=\"text-align: right;\">\n",
              "      <th></th>\n",
              "      <th>street</th>\n",
              "      <th>id</th>\n",
              "    </tr>\n",
              "  </thead>\n",
              "  <tbody>\n",
              "    <tr>\n",
              "      <th>71</th>\n",
              "      <td>улица Усачёва</td>\n",
              "      <td>45</td>\n",
              "    </tr>\n",
              "    <tr>\n",
              "      <th>22</th>\n",
              "      <td>Комсомольский проспект</td>\n",
              "      <td>44</td>\n",
              "    </tr>\n",
              "    <tr>\n",
              "      <th>65</th>\n",
              "      <td>улица Остоженка</td>\n",
              "      <td>24</td>\n",
              "    </tr>\n",
              "  </tbody>\n",
              "</table>\n",
              "</div>"
            ],
            "text/plain": [
              "                    street  id\n",
              "71  улица Усачёва           45\n",
              "22  Комсомольский проспект  44\n",
              "65  улица Остоженка         24"
            ]
          },
          "metadata": {}
        }
      ]
    },
    {
      "cell_type": "markdown",
      "metadata": {
        "id": "_gYvllYZ8Mbo"
      },
      "source": [
        "В топе таблицы есть и популярные для прогулок улицы, и улицы, на которых находятся крупные торговые и бизнес-центры, рынки, вокзалы - центры притяжения. "
      ]
    },
    {
      "cell_type": "markdown",
      "metadata": {
        "id": "rPfy8BKFjynQ"
      },
      "source": [
        "### Улицы, на которых расположен один объект питания <a id=\"one_object\"></a>"
      ]
    },
    {
      "cell_type": "code",
      "metadata": {
        "colab": {
          "base_uri": "https://localhost:8080/"
        },
        "id": "v1x1MxxtingN",
        "outputId": "94eb7321-bfb2-44ab-f04f-a279027e7cbd"
      },
      "source": [
        "#Фильтруем ранее созданную сводную таблицу, выделяя улицы с одним объектом общепита, создаем список таких улиц \n",
        "street_one_object_list = list(street_pivot.query('id == \"1\"')['street'])\n",
        "print('Количество улиц с одним заведением общепита - ', len(street_one_object_list))"
      ],
      "execution_count": 65,
      "outputs": [
        {
          "output_type": "stream",
          "text": [
            "Количество улиц с одним заведением общепита -  560\n"
          ],
          "name": "stdout"
        }
      ]
    },
    {
      "cell_type": "markdown",
      "metadata": {
        "id": "pLZE2CahkiS6"
      },
      "source": [
        "Посмотрим, в каких районах в основном расположены такие улицы."
      ]
    },
    {
      "cell_type": "code",
      "metadata": {
        "colab": {
          "base_uri": "https://localhost:8080/",
          "height": 390
        },
        "id": "3_38Ll8YineF",
        "outputId": "fa1bdb8b-7b14-4ced-ab25-9ca63c2bc724"
      },
      "source": [
        "#Строим сводную по району и количеству улиц с одним заведением\n",
        "street_district = rest_data.query('street in @street_one_object_list').pivot_table(index = 'district', values = 'id', aggfunc = 'count').sort_values(by = 'id', ascending = False)\n",
        "street_district.columns = ['one_object_per_street']\n",
        "display(street_district.head(10))"
      ],
      "execution_count": 66,
      "outputs": [
        {
          "output_type": "display_data",
          "data": {
            "text/html": [
              "<div>\n",
              "<style scoped>\n",
              "    .dataframe tbody tr th:only-of-type {\n",
              "        vertical-align: middle;\n",
              "    }\n",
              "\n",
              "    .dataframe tbody tr th {\n",
              "        vertical-align: top;\n",
              "    }\n",
              "\n",
              "    .dataframe thead th {\n",
              "        text-align: right;\n",
              "    }\n",
              "</style>\n",
              "<table border=\"1\" class=\"dataframe\">\n",
              "  <thead>\n",
              "    <tr style=\"text-align: right;\">\n",
              "      <th></th>\n",
              "      <th>one_object_per_street</th>\n",
              "    </tr>\n",
              "    <tr>\n",
              "      <th>district</th>\n",
              "      <th></th>\n",
              "    </tr>\n",
              "  </thead>\n",
              "  <tbody>\n",
              "    <tr>\n",
              "      <th>Таганский</th>\n",
              "      <td>29</td>\n",
              "    </tr>\n",
              "    <tr>\n",
              "      <th>Хамовники</th>\n",
              "      <td>27</td>\n",
              "    </tr>\n",
              "    <tr>\n",
              "      <th>Басманный</th>\n",
              "      <td>22</td>\n",
              "    </tr>\n",
              "    <tr>\n",
              "      <th>Тверской</th>\n",
              "      <td>20</td>\n",
              "    </tr>\n",
              "    <tr>\n",
              "      <th>Пресненский</th>\n",
              "      <td>19</td>\n",
              "    </tr>\n",
              "    <tr>\n",
              "      <th>Марьина Роща</th>\n",
              "      <td>18</td>\n",
              "    </tr>\n",
              "    <tr>\n",
              "      <th>Сокольники</th>\n",
              "      <td>15</td>\n",
              "    </tr>\n",
              "    <tr>\n",
              "      <th>Мещанский</th>\n",
              "      <td>12</td>\n",
              "    </tr>\n",
              "    <tr>\n",
              "      <th>Лефортово</th>\n",
              "      <td>12</td>\n",
              "    </tr>\n",
              "    <tr>\n",
              "      <th>Замоскворечье</th>\n",
              "      <td>12</td>\n",
              "    </tr>\n",
              "  </tbody>\n",
              "</table>\n",
              "</div>"
            ],
            "text/plain": [
              "               one_object_per_street\n",
              "district                            \n",
              "Таганский      29                   \n",
              "Хамовники      27                   \n",
              "Басманный      22                   \n",
              "Тверской       20                   \n",
              "Пресненский    19                   \n",
              "Марьина Роща   18                   \n",
              "Сокольники     15                   \n",
              "Мещанский      12                   \n",
              "Лефортово      12                   \n",
              "Замоскворечье  12                   "
            ]
          },
          "metadata": {}
        }
      ]
    },
    {
      "cell_type": "markdown",
      "metadata": {
        "id": "4ZvDVU7ckySX"
      },
      "source": [
        "Больше всего таких улиц в Таганском районе и в Хамовниках. Эти районы стоит рассматривать для размещения нового кафе в первую очередь."
      ]
    },
    {
      "cell_type": "markdown",
      "metadata": {
        "id": "o5SlgdeamiQJ"
      },
      "source": [
        "### Распределение посадочных мест на самых длинных улицах <a id=\"long_streets\"></a>"
      ]
    },
    {
      "cell_type": "markdown",
      "metadata": {
        "id": "JfMsHvv33Vi2"
      },
      "source": [
        "Чтобы сбалансировать вместимость нового заведения, проверим распределения количества посадочных мест на улицах с наибольшим числом объектов."
      ]
    },
    {
      "cell_type": "code",
      "metadata": {
        "colab": {
          "base_uri": "https://localhost:8080/",
          "height": 674
        },
        "id": "8Ti-gpwwvYLY",
        "outputId": "4bb96303-e5f4-424b-f2c5-625d20f6072b"
      },
      "source": [
        "with plt.style.context('seaborn-darkgrid'):\n",
        "  plt.figure(figsize=(15,10))\n",
        "  for i, street in enumerate(street_top_10_list):\n",
        "    num_cols = 3\n",
        "    num_rows = 4\n",
        "    plt.suptitle('Распределение посадочных мест на улицах:')\n",
        "    sns.distplot(rest_data.query('street == @street')['number'], ax = plt.subplot(num_rows, num_cols, i + 1))\n",
        "    plt.title(street)\n",
        "    plt.xlabel('Вместимость')\n",
        "    plt.ylabel('Количество заведений') \n"
      ],
      "execution_count": 67,
      "outputs": [
        {
          "output_type": "display_data",
          "data": {
            "image/png": "[encoded data removed]",
            "text/plain": [
              "<Figure size 1080x720 with 10 Axes>"
            ]
          },
          "metadata": {}
        }
      ]
    },
    {
      "cell_type": "markdown",
      "metadata": {
        "id": "ZaVrIutk32GP"
      },
      "source": [
        "Графики показывают, что почти все заведения на этих улицах имеют вместимость не более 100 человек. Основная часть - не больше 50."
      ]
    },
    {
      "cell_type": "markdown",
      "metadata": {
        "id": "UT7HA09W4agz"
      },
      "source": [
        "## Выводы  <a id=\"conclusions\"></a>"
      ]
    },
    {
      "cell_type": "markdown",
      "metadata": {
        "id": "PZIfOeGs6RW3"
      },
      "source": [
        "Итак, анализ данных о московских объектах общественного питания показал следующее:\n",
        "* В Москве отдают предпочтение \"быстрым\" способам питания - на первом месте по количеству заведений стоят кафе, потом столовые, предприятия быстрого обслуживания. Рестораны с дорогими изысканными блюдами только на четвертом месте\n",
        "* Самый популярный вид заведения среди сетевых объектов - предприятие быстрого обслуживания, среди уникальных - столовые\n",
        "* Уникальных заведений в 4 раза больше по количеству, чем сетевых\n",
        "* Сетевые заведения предпочитают экспансивную тактику: много точек с небольшим количеством посадочных мест\n",
        "* Улицы, больше всего насыщенные объектами питания, проходят через несколько районов. Это главные радиусы Москвы. Исключение - Пресненский Вал, где находится Москва-Сити\n",
        "* Средняя вместимость в заведениях, расположенных на этих улицах, не превышает 100 человек\n"
      ]
    },
    {
      "cell_type": "markdown",
      "metadata": {
        "id": "iMHzNirk6lwW"
      },
      "source": [
        "## Рекомендации <a id=\"recommend\"></a>"
      ]
    },
    {
      "cell_type": "markdown",
      "metadata": {
        "id": "7rF1mq8v6prJ"
      },
      "source": [
        "Для старта нового проекта - кафе, где обслуживанием будут заниматься роботы - лучше рассматривать в первую очередь Таганский район и Хамовники, где есть много улиц с одним объектом питания.\n",
        "\n",
        "Тип заведения нужно выбирать среди наиболее популярных: кафе, предприятие быстрого обслуживания, ресторан. Можно произвести градацию уровня в зависимости от приближенности к центру.\n",
        "\n",
        "Число посадочных мест не должно быть большим: в сетях оно не превышает в среднем 40-50."
      ]
    },
    {
      "cell_type": "markdown",
      "metadata": {
        "id": "khI_tUcgtzrO"
      },
      "source": [
        "## Презентация стартапа  <a id=\"presentation\"></a>"
      ]
    },
    {
      "cell_type": "markdown",
      "metadata": {
        "id": "egtfE_4wevUC"
      },
      "source": [
        "Проведенный анализ позволил собрать данные для презентации потенциальным инвесторам.\n",
        "\n",
        "Проект \"Робоцып\" обещает быть интересным!"
      ]
    },
    {
      "cell_type": "markdown",
      "metadata": {
        "id": "wdtsq2jbeiba"
      },
      "source": [
        "Презентация: <https://drive.google.com/file/d/1kbQiaIVg5febf6OyTENw54cpfym6rHEO/view?usp=sharing>"
      ]
    }
  ]
}