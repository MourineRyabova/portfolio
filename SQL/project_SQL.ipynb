{
  "nbformat": 4,
  "nbformat_minor": 0,
  "metadata": {
    "ExecuteTimeLog": [
      {
        "duration": 845,
        "start_time": "2021-07-12T18:07:55.950Z"
      },
      {
        "duration": 45,
        "start_time": "2021-07-12T18:07:56.798Z"
      },
      {
        "duration": 5,
        "start_time": "2021-07-12T18:07:56.846Z"
      },
      {
        "duration": 16,
        "start_time": "2021-07-12T18:07:56.854Z"
      },
      {
        "duration": 209,
        "start_time": "2021-07-12T18:07:56.873Z"
      },
      {
        "duration": 3,
        "start_time": "2021-07-12T18:07:57.084Z"
      },
      {
        "duration": 70,
        "start_time": "2021-07-12T18:07:57.089Z"
      },
      {
        "duration": 3,
        "start_time": "2021-07-12T18:07:57.161Z"
      },
      {
        "duration": 65,
        "start_time": "2021-07-12T18:07:57.167Z"
      },
      {
        "duration": 4,
        "start_time": "2021-07-12T18:07:57.236Z"
      },
      {
        "duration": 66,
        "start_time": "2021-07-12T18:07:57.242Z"
      },
      {
        "duration": 4,
        "start_time": "2021-07-12T18:07:57.311Z"
      },
      {
        "duration": 59,
        "start_time": "2021-07-12T18:07:57.319Z"
      },
      {
        "duration": 4,
        "start_time": "2021-07-12T18:07:57.381Z"
      },
      {
        "duration": 61,
        "start_time": "2021-07-12T18:07:57.388Z"
      },
      {
        "duration": 4,
        "start_time": "2021-07-12T18:07:57.452Z"
      },
      {
        "duration": 59,
        "start_time": "2021-07-12T18:07:57.460Z"
      },
      {
        "duration": 3,
        "start_time": "2021-07-12T18:07:57.521Z"
      },
      {
        "duration": 65,
        "start_time": "2021-07-12T18:07:57.526Z"
      },
      {
        "duration": 4,
        "start_time": "2021-07-12T18:07:57.593Z"
      },
      {
        "duration": 66,
        "start_time": "2021-07-12T18:07:57.599Z"
      },
      {
        "duration": 3,
        "start_time": "2021-07-12T18:07:57.668Z"
      },
      {
        "duration": 58,
        "start_time": "2021-07-12T18:07:57.674Z"
      },
      {
        "duration": 3,
        "start_time": "2021-07-12T18:07:57.735Z"
      },
      {
        "duration": 60,
        "start_time": "2021-07-12T18:07:57.740Z"
      },
      {
        "duration": 4,
        "start_time": "2021-07-12T18:07:57.803Z"
      },
      {
        "duration": 71,
        "start_time": "2021-07-12T18:07:57.811Z"
      },
      {
        "duration": 3,
        "start_time": "2021-07-12T18:07:57.885Z"
      },
      {
        "duration": 64,
        "start_time": "2021-07-12T18:07:57.891Z"
      },
      {
        "duration": 832,
        "start_time": "2021-07-13T06:38:52.805Z"
      },
      {
        "duration": 56,
        "start_time": "2021-07-13T06:38:53.640Z"
      },
      {
        "duration": 4,
        "start_time": "2021-07-13T06:38:53.699Z"
      },
      {
        "duration": 13,
        "start_time": "2021-07-13T06:38:53.706Z"
      },
      {
        "duration": 59,
        "start_time": "2021-07-13T06:38:53.721Z"
      },
      {
        "duration": 3,
        "start_time": "2021-07-13T06:38:53.783Z"
      },
      {
        "duration": 28,
        "start_time": "2021-07-13T06:38:53.788Z"
      },
      {
        "duration": 4,
        "start_time": "2021-07-13T06:38:53.819Z"
      },
      {
        "duration": 24,
        "start_time": "2021-07-13T06:38:53.826Z"
      },
      {
        "duration": 9,
        "start_time": "2021-07-13T06:38:53.853Z"
      },
      {
        "duration": 37,
        "start_time": "2021-07-13T06:38:53.865Z"
      },
      {
        "duration": 3,
        "start_time": "2021-07-13T06:38:53.905Z"
      },
      {
        "duration": 27,
        "start_time": "2021-07-13T06:38:53.912Z"
      },
      {
        "duration": 4,
        "start_time": "2021-07-13T06:38:53.942Z"
      },
      {
        "duration": 18,
        "start_time": "2021-07-13T06:38:53.949Z"
      },
      {
        "duration": 4,
        "start_time": "2021-07-13T06:38:53.986Z"
      },
      {
        "duration": 16,
        "start_time": "2021-07-13T06:38:53.994Z"
      },
      {
        "duration": 3,
        "start_time": "2021-07-13T06:38:54.013Z"
      },
      {
        "duration": 23,
        "start_time": "2021-07-13T06:38:54.019Z"
      },
      {
        "duration": 4,
        "start_time": "2021-07-13T06:38:54.045Z"
      },
      {
        "duration": 48,
        "start_time": "2021-07-13T06:38:54.051Z"
      },
      {
        "duration": 3,
        "start_time": "2021-07-13T06:38:54.102Z"
      },
      {
        "duration": 14,
        "start_time": "2021-07-13T06:38:54.109Z"
      },
      {
        "duration": 3,
        "start_time": "2021-07-13T06:38:54.126Z"
      },
      {
        "duration": 22,
        "start_time": "2021-07-13T06:38:54.131Z"
      },
      {
        "duration": 4,
        "start_time": "2021-07-13T06:38:54.186Z"
      },
      {
        "duration": 23,
        "start_time": "2021-07-13T06:38:54.192Z"
      },
      {
        "duration": 4,
        "start_time": "2021-07-13T06:38:54.217Z"
      },
      {
        "duration": 17,
        "start_time": "2021-07-13T06:38:54.224Z"
      },
      {
        "duration": 18,
        "start_time": "2021-07-13T06:39:36.658Z"
      },
      {
        "duration": 32,
        "start_time": "2021-07-13T06:39:43.731Z"
      },
      {
        "duration": 16,
        "start_time": "2021-07-13T06:40:18.827Z"
      },
      {
        "duration": 19,
        "start_time": "2021-07-13T06:40:26.132Z"
      },
      {
        "duration": 15,
        "start_time": "2021-07-13T06:41:26.236Z"
      },
      {
        "duration": 34,
        "start_time": "2021-07-13T06:41:57.860Z"
      },
      {
        "duration": 18,
        "start_time": "2021-07-13T06:42:01.923Z"
      },
      {
        "duration": 21,
        "start_time": "2021-07-13T06:42:08.674Z"
      },
      {
        "duration": 4,
        "start_time": "2021-07-13T06:42:16.754Z"
      },
      {
        "duration": 14,
        "start_time": "2021-07-13T06:42:17.691Z"
      },
      {
        "duration": 669,
        "start_time": "2021-07-13T06:42:57.283Z"
      },
      {
        "duration": 15,
        "start_time": "2021-07-13T06:43:01.121Z"
      },
      {
        "duration": 3,
        "start_time": "2021-07-13T06:43:09.714Z"
      },
      {
        "duration": 15,
        "start_time": "2021-07-13T06:43:10.828Z"
      },
      {
        "duration": 15,
        "start_time": "2021-07-13T06:43:12.243Z"
      },
      {
        "duration": 10,
        "start_time": "2021-07-13T06:43:51.230Z"
      },
      {
        "duration": 12,
        "start_time": "2021-07-13T06:43:57.475Z"
      },
      {
        "duration": 16,
        "start_time": "2021-07-13T06:44:17.780Z"
      },
      {
        "duration": 598,
        "start_time": "2021-07-13T06:46:13.708Z"
      },
      {
        "duration": 18,
        "start_time": "2021-07-13T06:46:21.757Z"
      },
      {
        "duration": 4,
        "start_time": "2021-07-13T06:51:38.951Z"
      },
      {
        "duration": 18,
        "start_time": "2021-07-13T06:51:39.573Z"
      },
      {
        "duration": 829,
        "start_time": "2021-07-13T06:54:59.663Z"
      },
      {
        "duration": 37,
        "start_time": "2021-07-13T06:55:00.495Z"
      },
      {
        "duration": 4,
        "start_time": "2021-07-13T06:55:00.538Z"
      },
      {
        "duration": 12,
        "start_time": "2021-07-13T06:55:00.544Z"
      },
      {
        "duration": 68,
        "start_time": "2021-07-13T06:55:00.558Z"
      },
      {
        "duration": 3,
        "start_time": "2021-07-13T06:55:00.628Z"
      },
      {
        "duration": 20,
        "start_time": "2021-07-13T06:55:00.635Z"
      },
      {
        "duration": 7,
        "start_time": "2021-07-13T06:55:00.658Z"
      },
      {
        "duration": 29,
        "start_time": "2021-07-13T06:55:00.668Z"
      },
      {
        "duration": 8,
        "start_time": "2021-07-13T06:55:00.699Z"
      },
      {
        "duration": 31,
        "start_time": "2021-07-13T06:55:00.710Z"
      },
      {
        "duration": 3,
        "start_time": "2021-07-13T06:55:00.743Z"
      },
      {
        "duration": 18,
        "start_time": "2021-07-13T06:55:00.749Z"
      },
      {
        "duration": 13,
        "start_time": "2021-07-13T06:55:00.770Z"
      },
      {
        "duration": 30,
        "start_time": "2021-07-13T06:55:00.786Z"
      },
      {
        "duration": 6,
        "start_time": "2021-07-13T06:55:00.819Z"
      },
      {
        "duration": 41,
        "start_time": "2021-07-13T06:55:00.827Z"
      },
      {
        "duration": 6,
        "start_time": "2021-07-13T06:55:00.870Z"
      },
      {
        "duration": 25,
        "start_time": "2021-07-13T06:55:00.878Z"
      },
      {
        "duration": 9,
        "start_time": "2021-07-13T06:55:00.905Z"
      },
      {
        "duration": 56,
        "start_time": "2021-07-13T06:55:00.916Z"
      },
      {
        "duration": 15,
        "start_time": "2021-07-13T06:55:00.977Z"
      },
      {
        "duration": 31,
        "start_time": "2021-07-13T06:55:00.995Z"
      },
      {
        "duration": 3,
        "start_time": "2021-07-13T06:55:01.028Z"
      },
      {
        "duration": 23,
        "start_time": "2021-07-13T06:55:01.034Z"
      },
      {
        "duration": 3,
        "start_time": "2021-07-13T06:55:01.060Z"
      },
      {
        "duration": 32,
        "start_time": "2021-07-13T06:55:01.065Z"
      },
      {
        "duration": 4,
        "start_time": "2021-07-13T06:55:01.099Z"
      },
      {
        "duration": 29,
        "start_time": "2021-07-13T06:55:01.105Z"
      },
      {
        "duration": 893,
        "start_time": "2021-07-13T15:50:41.064Z"
      },
      {
        "duration": 43,
        "start_time": "2021-07-13T15:50:41.959Z"
      },
      {
        "duration": 4,
        "start_time": "2021-07-13T15:50:42.005Z"
      },
      {
        "duration": 7,
        "start_time": "2021-07-13T15:50:42.011Z"
      },
      {
        "duration": 224,
        "start_time": "2021-07-13T15:50:42.020Z"
      },
      {
        "duration": 3,
        "start_time": "2021-07-13T15:50:42.246Z"
      },
      {
        "duration": 63,
        "start_time": "2021-07-13T15:50:42.252Z"
      },
      {
        "duration": 3,
        "start_time": "2021-07-13T15:50:42.318Z"
      },
      {
        "duration": 70,
        "start_time": "2021-07-13T15:50:42.324Z"
      },
      {
        "duration": 3,
        "start_time": "2021-07-13T15:50:42.397Z"
      },
      {
        "duration": 67,
        "start_time": "2021-07-13T15:50:42.403Z"
      },
      {
        "duration": 4,
        "start_time": "2021-07-13T15:50:42.473Z"
      },
      {
        "duration": 63,
        "start_time": "2021-07-13T15:50:42.480Z"
      },
      {
        "duration": 4,
        "start_time": "2021-07-13T15:50:42.546Z"
      },
      {
        "duration": 62,
        "start_time": "2021-07-13T15:50:42.553Z"
      },
      {
        "duration": 4,
        "start_time": "2021-07-13T15:50:42.618Z"
      },
      {
        "duration": 66,
        "start_time": "2021-07-13T15:50:42.625Z"
      },
      {
        "duration": 4,
        "start_time": "2021-07-13T15:50:42.694Z"
      },
      {
        "duration": 75,
        "start_time": "2021-07-13T15:50:42.701Z"
      },
      {
        "duration": 4,
        "start_time": "2021-07-13T15:50:42.779Z"
      },
      {
        "duration": 832,
        "start_time": "2021-07-13T15:50:42.786Z"
      },
      {
        "duration": -1789,
        "start_time": "2021-07-13T15:50:45.410Z"
      },
      {
        "duration": -1794,
        "start_time": "2021-07-13T15:50:45.417Z"
      },
      {
        "duration": -1796,
        "start_time": "2021-07-13T15:50:45.420Z"
      },
      {
        "duration": -1798,
        "start_time": "2021-07-13T15:50:45.424Z"
      },
      {
        "duration": -1804,
        "start_time": "2021-07-13T15:50:45.431Z"
      },
      {
        "duration": -1806,
        "start_time": "2021-07-13T15:50:45.435Z"
      },
      {
        "duration": -1813,
        "start_time": "2021-07-13T15:50:45.443Z"
      },
      {
        "duration": -1816,
        "start_time": "2021-07-13T15:50:45.448Z"
      },
      {
        "duration": 3,
        "start_time": "2021-07-13T15:54:28.055Z"
      },
      {
        "duration": 777,
        "start_time": "2021-07-13T15:54:33.524Z"
      },
      {
        "duration": 3,
        "start_time": "2021-07-13T15:54:44.064Z"
      },
      {
        "duration": 63,
        "start_time": "2021-07-13T15:54:47.528Z"
      },
      {
        "duration": 4,
        "start_time": "2021-07-13T15:56:30.754Z"
      },
      {
        "duration": 65,
        "start_time": "2021-07-13T15:56:35.185Z"
      },
      {
        "duration": 4,
        "start_time": "2021-07-13T15:56:48.851Z"
      },
      {
        "duration": 59,
        "start_time": "2021-07-13T15:56:50.923Z"
      },
      {
        "duration": 4,
        "start_time": "2021-07-13T16:21:55.569Z"
      },
      {
        "duration": 92,
        "start_time": "2021-07-13T16:21:58.426Z"
      },
      {
        "duration": 3,
        "start_time": "2021-07-13T16:22:11.472Z"
      },
      {
        "duration": 64,
        "start_time": "2021-07-13T16:22:15.210Z"
      },
      {
        "duration": 3,
        "start_time": "2021-07-13T16:25:31.357Z"
      },
      {
        "duration": 12,
        "start_time": "2021-07-13T16:25:31.363Z"
      },
      {
        "duration": 9,
        "start_time": "2021-07-13T16:25:31.378Z"
      },
      {
        "duration": 13,
        "start_time": "2021-07-13T16:25:31.389Z"
      },
      {
        "duration": 194,
        "start_time": "2021-07-13T16:25:31.405Z"
      },
      {
        "duration": 4,
        "start_time": "2021-07-13T16:25:31.601Z"
      },
      {
        "duration": 64,
        "start_time": "2021-07-13T16:25:31.609Z"
      },
      {
        "duration": 3,
        "start_time": "2021-07-13T16:25:31.676Z"
      },
      {
        "duration": 70,
        "start_time": "2021-07-13T16:25:31.682Z"
      },
      {
        "duration": 3,
        "start_time": "2021-07-13T16:25:31.754Z"
      },
      {
        "duration": 73,
        "start_time": "2021-07-13T16:25:31.759Z"
      },
      {
        "duration": 3,
        "start_time": "2021-07-13T16:25:31.834Z"
      },
      {
        "duration": 61,
        "start_time": "2021-07-13T16:25:31.840Z"
      },
      {
        "duration": 3,
        "start_time": "2021-07-13T16:25:31.904Z"
      },
      {
        "duration": 60,
        "start_time": "2021-07-13T16:25:31.910Z"
      },
      {
        "duration": 4,
        "start_time": "2021-07-13T16:25:31.972Z"
      },
      {
        "duration": 62,
        "start_time": "2021-07-13T16:25:31.979Z"
      },
      {
        "duration": 3,
        "start_time": "2021-07-13T16:25:32.044Z"
      },
      {
        "duration": 65,
        "start_time": "2021-07-13T16:25:32.050Z"
      },
      {
        "duration": 5,
        "start_time": "2021-07-13T16:25:32.118Z"
      },
      {
        "duration": 64,
        "start_time": "2021-07-13T16:25:32.126Z"
      },
      {
        "duration": 3,
        "start_time": "2021-07-13T16:25:32.192Z"
      },
      {
        "duration": 67,
        "start_time": "2021-07-13T16:25:32.198Z"
      },
      {
        "duration": 4,
        "start_time": "2021-07-13T16:25:32.267Z"
      },
      {
        "duration": 63,
        "start_time": "2021-07-13T16:25:32.273Z"
      },
      {
        "duration": 4,
        "start_time": "2021-07-13T16:25:32.338Z"
      },
      {
        "duration": 62,
        "start_time": "2021-07-13T16:25:32.344Z"
      },
      {
        "duration": 809,
        "start_time": "2021-07-13T16:27:07.317Z"
      },
      {
        "duration": 48,
        "start_time": "2021-07-13T16:27:08.128Z"
      },
      {
        "duration": 3,
        "start_time": "2021-07-13T16:27:08.179Z"
      },
      {
        "duration": 11,
        "start_time": "2021-07-13T16:27:08.185Z"
      },
      {
        "duration": 216,
        "start_time": "2021-07-13T16:27:08.198Z"
      },
      {
        "duration": 3,
        "start_time": "2021-07-13T16:27:08.416Z"
      },
      {
        "duration": 59,
        "start_time": "2021-07-13T16:27:08.421Z"
      },
      {
        "duration": 3,
        "start_time": "2021-07-13T16:27:08.483Z"
      },
      {
        "duration": 61,
        "start_time": "2021-07-13T16:27:08.491Z"
      },
      {
        "duration": 3,
        "start_time": "2021-07-13T16:27:08.555Z"
      },
      {
        "duration": 71,
        "start_time": "2021-07-13T16:27:08.560Z"
      },
      {
        "duration": 3,
        "start_time": "2021-07-13T16:27:08.633Z"
      },
      {
        "duration": 67,
        "start_time": "2021-07-13T16:27:08.639Z"
      },
      {
        "duration": 4,
        "start_time": "2021-07-13T16:27:08.708Z"
      },
      {
        "duration": 66,
        "start_time": "2021-07-13T16:27:08.714Z"
      },
      {
        "duration": 3,
        "start_time": "2021-07-13T16:27:08.782Z"
      },
      {
        "duration": 62,
        "start_time": "2021-07-13T16:27:08.787Z"
      },
      {
        "duration": 3,
        "start_time": "2021-07-13T16:27:08.852Z"
      },
      {
        "duration": 67,
        "start_time": "2021-07-13T16:27:08.858Z"
      },
      {
        "duration": 4,
        "start_time": "2021-07-13T16:27:08.927Z"
      },
      {
        "duration": 65,
        "start_time": "2021-07-13T16:27:08.933Z"
      },
      {
        "duration": 3,
        "start_time": "2021-07-13T16:27:09.000Z"
      },
      {
        "duration": 63,
        "start_time": "2021-07-13T16:27:09.006Z"
      },
      {
        "duration": 4,
        "start_time": "2021-07-13T16:27:09.071Z"
      },
      {
        "duration": 68,
        "start_time": "2021-07-13T16:27:09.077Z"
      },
      {
        "duration": 3,
        "start_time": "2021-07-13T16:27:09.148Z"
      },
      {
        "duration": 60,
        "start_time": "2021-07-13T16:27:09.155Z"
      },
      {
        "duration": 1139,
        "start_time": "2021-07-13T17:57:01.319Z"
      },
      {
        "duration": 47,
        "start_time": "2021-07-13T17:57:02.461Z"
      },
      {
        "duration": 4,
        "start_time": "2021-07-13T17:57:02.515Z"
      },
      {
        "duration": 12,
        "start_time": "2021-07-13T17:57:02.521Z"
      },
      {
        "duration": 62,
        "start_time": "2021-07-13T17:57:02.535Z"
      },
      {
        "duration": 4,
        "start_time": "2021-07-13T17:57:02.600Z"
      },
      {
        "duration": 30,
        "start_time": "2021-07-13T17:57:02.606Z"
      },
      {
        "duration": 4,
        "start_time": "2021-07-13T17:57:02.640Z"
      },
      {
        "duration": 28,
        "start_time": "2021-07-13T17:57:02.648Z"
      },
      {
        "duration": 7,
        "start_time": "2021-07-13T17:57:02.679Z"
      },
      {
        "duration": 29,
        "start_time": "2021-07-13T17:57:02.688Z"
      },
      {
        "duration": 4,
        "start_time": "2021-07-13T17:57:02.719Z"
      },
      {
        "duration": 20,
        "start_time": "2021-07-13T17:57:02.725Z"
      },
      {
        "duration": 3,
        "start_time": "2021-07-13T17:57:02.748Z"
      },
      {
        "duration": 37,
        "start_time": "2021-07-13T17:57:02.753Z"
      },
      {
        "duration": 3,
        "start_time": "2021-07-13T17:57:02.792Z"
      },
      {
        "duration": 23,
        "start_time": "2021-07-13T17:57:02.798Z"
      },
      {
        "duration": 3,
        "start_time": "2021-07-13T17:57:02.824Z"
      },
      {
        "duration": 25,
        "start_time": "2021-07-13T17:57:02.830Z"
      },
      {
        "duration": 27,
        "start_time": "2021-07-13T17:57:02.858Z"
      },
      {
        "duration": 29,
        "start_time": "2021-07-13T17:57:02.888Z"
      },
      {
        "duration": 4,
        "start_time": "2021-07-13T17:57:02.919Z"
      },
      {
        "duration": 21,
        "start_time": "2021-07-13T17:57:02.925Z"
      },
      {
        "duration": 3,
        "start_time": "2021-07-13T17:57:02.949Z"
      },
      {
        "duration": 31,
        "start_time": "2021-07-13T17:57:02.955Z"
      },
      {
        "duration": 4,
        "start_time": "2021-07-13T17:57:02.990Z"
      },
      {
        "duration": 28,
        "start_time": "2021-07-13T17:57:02.996Z"
      },
      {
        "duration": 832,
        "start_time": "2021-07-13T18:01:13.948Z"
      },
      {
        "duration": 37,
        "start_time": "2021-07-13T18:01:14.786Z"
      },
      {
        "duration": 4,
        "start_time": "2021-07-13T18:01:14.826Z"
      },
      {
        "duration": 16,
        "start_time": "2021-07-13T18:01:14.833Z"
      },
      {
        "duration": 57,
        "start_time": "2021-07-13T18:01:14.851Z"
      },
      {
        "duration": 4,
        "start_time": "2021-07-13T18:01:14.910Z"
      },
      {
        "duration": 24,
        "start_time": "2021-07-13T18:01:14.916Z"
      },
      {
        "duration": 3,
        "start_time": "2021-07-13T18:01:14.944Z"
      },
      {
        "duration": 28,
        "start_time": "2021-07-13T18:01:14.949Z"
      },
      {
        "duration": 6,
        "start_time": "2021-07-13T18:01:14.980Z"
      },
      {
        "duration": 30,
        "start_time": "2021-07-13T18:01:14.989Z"
      },
      {
        "duration": 9,
        "start_time": "2021-07-13T18:01:15.022Z"
      },
      {
        "duration": 36,
        "start_time": "2021-07-13T18:01:15.034Z"
      },
      {
        "duration": 2,
        "start_time": "2021-07-13T18:01:15.073Z"
      },
      {
        "duration": 23,
        "start_time": "2021-07-13T18:01:15.078Z"
      },
      {
        "duration": 7,
        "start_time": "2021-07-13T18:01:15.104Z"
      },
      {
        "duration": 26,
        "start_time": "2021-07-13T18:01:15.113Z"
      },
      {
        "duration": 4,
        "start_time": "2021-07-13T18:01:15.141Z"
      },
      {
        "duration": 33,
        "start_time": "2021-07-13T18:01:15.148Z"
      },
      {
        "duration": 6,
        "start_time": "2021-07-13T18:01:15.184Z"
      },
      {
        "duration": 26,
        "start_time": "2021-07-13T18:01:15.192Z"
      },
      {
        "duration": 4,
        "start_time": "2021-07-13T18:01:15.220Z"
      },
      {
        "duration": 33,
        "start_time": "2021-07-13T18:01:15.229Z"
      },
      {
        "duration": 3,
        "start_time": "2021-07-13T18:01:15.265Z"
      },
      {
        "duration": 28,
        "start_time": "2021-07-13T18:01:15.271Z"
      },
      {
        "duration": 4,
        "start_time": "2021-07-13T18:01:15.302Z"
      },
      {
        "duration": 31,
        "start_time": "2021-07-13T18:01:15.309Z"
      },
      {
        "duration": 4,
        "start_time": "2021-07-13T18:02:25.411Z"
      },
      {
        "duration": 31,
        "start_time": "2021-07-13T18:02:26.122Z"
      },
      {
        "duration": 4,
        "start_time": "2021-07-13T18:03:12.648Z"
      },
      {
        "duration": 4,
        "start_time": "2021-07-13T18:03:15.399Z"
      },
      {
        "duration": 34,
        "start_time": "2021-07-13T18:03:15.688Z"
      },
      {
        "duration": 4,
        "start_time": "2021-07-13T18:03:35.070Z"
      },
      {
        "duration": 753,
        "start_time": "2021-07-13T18:03:35.999Z"
      },
      {
        "duration": 3,
        "start_time": "2021-07-13T18:03:44.758Z"
      },
      {
        "duration": 17,
        "start_time": "2021-07-13T18:03:45.542Z"
      },
      {
        "duration": 3,
        "start_time": "2021-07-13T18:04:10.396Z"
      },
      {
        "duration": 35,
        "start_time": "2021-07-13T18:04:10.660Z"
      },
      {
        "duration": 3,
        "start_time": "2021-07-13T18:04:13.204Z"
      },
      {
        "duration": 18,
        "start_time": "2021-07-13T18:04:13.668Z"
      },
      {
        "duration": 3,
        "start_time": "2021-07-13T18:18:06.739Z"
      },
      {
        "duration": 18,
        "start_time": "2021-07-13T18:18:07.194Z"
      },
      {
        "duration": 23,
        "start_time": "2021-07-13T18:22:19.384Z"
      },
      {
        "duration": 3,
        "start_time": "2021-07-13T18:22:37.228Z"
      },
      {
        "duration": 19,
        "start_time": "2021-07-13T18:22:37.771Z"
      },
      {
        "duration": 3,
        "start_time": "2021-07-13T18:22:45.531Z"
      },
      {
        "duration": 21,
        "start_time": "2021-07-13T18:22:46.803Z"
      },
      {
        "duration": 33,
        "start_time": "2021-07-13T18:22:54.866Z"
      },
      {
        "duration": 4,
        "start_time": "2021-07-13T18:23:13.809Z"
      },
      {
        "duration": 19,
        "start_time": "2021-07-13T18:23:26.385Z"
      },
      {
        "duration": 24,
        "start_time": "2021-07-13T18:23:35.808Z"
      },
      {
        "duration": 23,
        "start_time": "2021-07-13T18:23:44.855Z"
      },
      {
        "duration": 3,
        "start_time": "2021-07-13T18:24:40.989Z"
      },
      {
        "duration": 19,
        "start_time": "2021-07-13T18:24:41.443Z"
      },
      {
        "duration": 3,
        "start_time": "2021-07-13T18:25:46.529Z"
      },
      {
        "duration": 29,
        "start_time": "2021-07-13T18:25:58.711Z"
      },
      {
        "duration": 14,
        "start_time": "2021-07-13T18:26:15.134Z"
      },
      {
        "duration": 23,
        "start_time": "2021-07-13T18:26:19.991Z"
      },
      {
        "duration": 20,
        "start_time": "2021-07-13T18:27:46.665Z"
      },
      {
        "duration": 23,
        "start_time": "2021-07-13T18:27:54.873Z"
      },
      {
        "duration": 21,
        "start_time": "2021-07-13T18:27:57.433Z"
      },
      {
        "duration": 812,
        "start_time": "2021-07-13T18:30:47.892Z"
      },
      {
        "duration": 37,
        "start_time": "2021-07-13T18:30:48.707Z"
      },
      {
        "duration": 3,
        "start_time": "2021-07-13T18:30:48.747Z"
      },
      {
        "duration": 22,
        "start_time": "2021-07-13T18:30:48.753Z"
      },
      {
        "duration": 63,
        "start_time": "2021-07-13T18:30:48.777Z"
      },
      {
        "duration": 4,
        "start_time": "2021-07-13T18:30:48.842Z"
      },
      {
        "duration": 28,
        "start_time": "2021-07-13T18:30:48.848Z"
      },
      {
        "duration": 4,
        "start_time": "2021-07-13T18:30:48.878Z"
      },
      {
        "duration": 23,
        "start_time": "2021-07-13T18:30:48.886Z"
      },
      {
        "duration": 4,
        "start_time": "2021-07-13T18:30:48.912Z"
      },
      {
        "duration": 32,
        "start_time": "2021-07-13T18:30:48.918Z"
      },
      {
        "duration": 9,
        "start_time": "2021-07-13T18:30:48.953Z"
      },
      {
        "duration": 30,
        "start_time": "2021-07-13T18:30:48.965Z"
      },
      {
        "duration": 3,
        "start_time": "2021-07-13T18:30:48.998Z"
      },
      {
        "duration": 34,
        "start_time": "2021-07-13T18:30:49.003Z"
      },
      {
        "duration": 8,
        "start_time": "2021-07-13T18:30:49.040Z"
      },
      {
        "duration": 34,
        "start_time": "2021-07-13T18:30:49.050Z"
      },
      {
        "duration": 11,
        "start_time": "2021-07-13T18:30:49.087Z"
      },
      {
        "duration": 44,
        "start_time": "2021-07-13T18:30:49.101Z"
      },
      {
        "duration": 4,
        "start_time": "2021-07-13T18:30:49.148Z"
      },
      {
        "duration": 37,
        "start_time": "2021-07-13T18:30:49.155Z"
      },
      {
        "duration": 31,
        "start_time": "2021-07-13T18:30:49.195Z"
      },
      {
        "duration": 15,
        "start_time": "2021-07-13T18:30:49.230Z"
      },
      {
        "duration": 25,
        "start_time": "2021-07-13T18:30:49.248Z"
      },
      {
        "duration": 4,
        "start_time": "2021-07-13T18:30:49.276Z"
      },
      {
        "duration": 26,
        "start_time": "2021-07-13T18:30:49.285Z"
      },
      {
        "duration": 4,
        "start_time": "2021-07-13T18:30:49.316Z"
      },
      {
        "duration": 38,
        "start_time": "2021-07-13T18:30:49.322Z"
      },
      {
        "duration": 5,
        "start_time": "2021-07-13T18:30:49.362Z"
      },
      {
        "duration": 40,
        "start_time": "2021-07-13T18:30:49.369Z"
      },
      {
        "duration": 787,
        "start_time": "2021-07-15T07:09:05.427Z"
      },
      {
        "duration": 38,
        "start_time": "2021-07-15T07:09:06.216Z"
      },
      {
        "duration": 4,
        "start_time": "2021-07-15T07:09:06.256Z"
      },
      {
        "duration": 22,
        "start_time": "2021-07-15T07:09:06.262Z"
      },
      {
        "duration": 206,
        "start_time": "2021-07-15T07:09:06.286Z"
      },
      {
        "duration": 3,
        "start_time": "2021-07-15T07:09:06.494Z"
      },
      {
        "duration": 59,
        "start_time": "2021-07-15T07:09:06.499Z"
      },
      {
        "duration": 3,
        "start_time": "2021-07-15T07:09:06.562Z"
      },
      {
        "duration": 61,
        "start_time": "2021-07-15T07:09:06.568Z"
      },
      {
        "duration": 3,
        "start_time": "2021-07-15T07:09:06.632Z"
      },
      {
        "duration": 70,
        "start_time": "2021-07-15T07:09:06.637Z"
      },
      {
        "duration": 3,
        "start_time": "2021-07-15T07:09:06.709Z"
      },
      {
        "duration": 61,
        "start_time": "2021-07-15T07:09:06.714Z"
      },
      {
        "duration": 3,
        "start_time": "2021-07-15T07:09:06.777Z"
      },
      {
        "duration": 59,
        "start_time": "2021-07-15T07:09:06.782Z"
      },
      {
        "duration": 3,
        "start_time": "2021-07-15T07:09:06.843Z"
      },
      {
        "duration": 60,
        "start_time": "2021-07-15T07:09:06.849Z"
      },
      {
        "duration": 4,
        "start_time": "2021-07-15T07:09:06.911Z"
      },
      {
        "duration": 72,
        "start_time": "2021-07-15T07:09:06.917Z"
      },
      {
        "duration": 3,
        "start_time": "2021-07-15T07:09:06.992Z"
      },
      {
        "duration": 79,
        "start_time": "2021-07-15T07:09:06.997Z"
      },
      {
        "duration": 62,
        "start_time": "2021-07-15T07:09:07.078Z"
      },
      {
        "duration": 52,
        "start_time": "2021-07-15T07:09:07.144Z"
      },
      {
        "duration": 58,
        "start_time": "2021-07-15T07:09:07.199Z"
      },
      {
        "duration": 4,
        "start_time": "2021-07-15T07:09:07.259Z"
      },
      {
        "duration": 58,
        "start_time": "2021-07-15T07:09:07.265Z"
      },
      {
        "duration": 4,
        "start_time": "2021-07-15T07:09:07.326Z"
      },
      {
        "duration": 65,
        "start_time": "2021-07-15T07:09:07.332Z"
      },
      {
        "duration": 3,
        "start_time": "2021-07-15T07:09:07.399Z"
      },
      {
        "duration": 58,
        "start_time": "2021-07-15T07:09:07.404Z"
      },
      {
        "duration": 3,
        "start_time": "2021-07-15T07:11:06.278Z"
      },
      {
        "duration": 59,
        "start_time": "2021-07-15T07:11:12.880Z"
      }
    ],
    "colab": {
      "name": "SQL_accepted.ipynb",
      "provenance": [],
      "collapsed_sections": []
    },
    "kernelspec": {
      "display_name": "Python 3",
      "language": "python",
      "name": "python3"
    },
    "language_info": {
      "codemirror_mode": {
        "name": "ipython",
        "version": 3
      },
      "file_extension": ".py",
      "mimetype": "text/x-python",
      "name": "python",
      "nbconvert_exporter": "python",
      "pygments_lexer": "ipython3",
      "version": "3.7.8"
    },
    "toc": {
      "base_numbering": 1,
      "nav_menu": {},
      "number_sections": false,
      "sideBar": true,
      "skip_h1_title": true,
      "title_cell": "Table of Contents",
      "title_sidebar": "Contents",
      "toc_cell": false,
      "toc_position": {},
      "toc_section_display": true,
      "toc_window_display": false
    }
  },
  "cells": [
    {
      "cell_type": "markdown",
      "metadata": {
        "id": "-DN_WGnDCWh_"
      },
      "source": [
        "# Анализ базы данных рейтингов книг"
      ]
    },
    {
      "cell_type": "markdown",
      "metadata": {
        "id": "hsgnoe2T94Aa"
      },
      "source": [
        "## Оглавление\n",
        "* [Цель исследования](#purpose)\n",
        "* [Исходные данные](#data)\n",
        "* [Количество книг, которые вышли после 01.01.2000](#books)\n",
        "* [Среднее количество обзоров и средняя оценка для каждой книги](#av_rev_rate)\n",
        "* [Издательство, которое выпустило больше всего книг](#pub)\n",
        "* [Автор с самой высокой средней оценкой книг](#author)\n",
        "* [Среднее количество обзоров от активных пользователей](#users)\n",
        "* [Выводы](#conclusions)\n"
      ]
    },
    {
      "cell_type": "markdown",
      "metadata": {
        "id": "-Pz2Qk539fVF"
      },
      "source": [
        "## Цель исследования <a id=\"purpose\"></a>"
      ]
    },
    {
      "cell_type": "markdown",
      "metadata": {
        "id": "Cqum4lQc9jbi"
      },
      "source": [
        "От заказчика поступило ТЗ по анализу базы данных рейтингов книг:\n",
        "\n",
        "- Посчитайте, сколько книг вышло после 1 января 2000 года;\n",
        "- Для каждой книги посчитайте количество обзоров и среднюю оценку;\n",
        "- Определите издательство, которое выпустило наибольшее число книг толще 50 страниц — так вы исключите из анализа брошюры;\n",
        "- Определите автора с самой высокой средней оценкой книг — учитывайте только книги с 50 и более оценками;\n",
        "- Посчитайте среднее количество обзоров от пользователей, которые поставили больше 50 оценок."
      ]
    },
    {
      "cell_type": "markdown",
      "metadata": {
        "id": "3-iKY17V90Jx"
      },
      "source": [
        "## Исходные данные <a id=\"data\"></a>"
      ]
    },
    {
      "cell_type": "code",
      "metadata": {
        "id": "AbZZIq7rC417"
      },
      "source": [
        "# импортируем библиотеки\n",
        "import pandas as pd\n",
        "import numpy as np\n",
        "from sqlalchemy import create_engine"
      ],
      "execution_count": null,
      "outputs": []
    },
    {
      "cell_type": "code",
      "metadata": {
        "id": "VF7qsZC078pC"
      },
      "source": [
        "# устанавливаем параметры соединения к БД\n",
        "db_config = {'user': 'praktikum_student', # имя пользователя\n",
        " 'pwd': 'Sdf4$2;d-d30pp', # пароль\n",
        " 'host': 'rc1b-wcoijxj3yxfsf3fs.mdb.yandexcloud.net',\n",
        " 'port': 6432, # порт подключения\n",
        " 'db': 'data-analyst-final-project-db'} # название базы данных\n",
        "connection_string = 'postgresql://{}:{}@{}:{}/{}'.format(db_config['user'],\n",
        " db_config['pwd'],\n",
        " db_config['host'],\n",
        " db_config['port'],\n",
        " db_config['db'])\n",
        "# сохраняем коннектор\n",
        "engine = create_engine(connection_string, connect_args={'sslmode':'require'}) "
      ],
      "execution_count": null,
      "outputs": []
    },
    {
      "cell_type": "code",
      "metadata": {
        "id": "HsDdqwwG8gaY"
      },
      "source": [
        "def select(sql):\n",
        "  return pd.io.sql.read_sql(sql, con = engine)"
      ],
      "execution_count": null,
      "outputs": []
    },
    {
      "cell_type": "code",
      "metadata": {
        "id": "Mk3qOLRa8t38"
      },
      "source": [
        "sql = '''SELECT * FROM books\n",
        "LIMIT 5\n",
        "'''"
      ],
      "execution_count": null,
      "outputs": []
    },
    {
      "cell_type": "code",
      "metadata": {
        "colab": {
          "base_uri": "https://localhost:8080/",
          "height": 204
        },
        "id": "TVqcCtDV88kI",
        "outputId": "b6c43fe3-d4c9-45b5-8067-b26c9d1582bf"
      },
      "source": [
        "select(sql)"
      ],
      "execution_count": null,
      "outputs": [
        {
          "data": {
            "text/html": [
              "<div>\n",
              "<style scoped>\n",
              "    .dataframe tbody tr th:only-of-type {\n",
              "        vertical-align: middle;\n",
              "    }\n",
              "\n",
              "    .dataframe tbody tr th {\n",
              "        vertical-align: top;\n",
              "    }\n",
              "\n",
              "    .dataframe thead th {\n",
              "        text-align: right;\n",
              "    }\n",
              "</style>\n",
              "<table border=\"1\" class=\"dataframe\">\n",
              "  <thead>\n",
              "    <tr style=\"text-align: right;\">\n",
              "      <th></th>\n",
              "      <th>book_id</th>\n",
              "      <th>author_id</th>\n",
              "      <th>title</th>\n",
              "      <th>num_pages</th>\n",
              "      <th>publication_date</th>\n",
              "      <th>publisher_id</th>\n",
              "    </tr>\n",
              "  </thead>\n",
              "  <tbody>\n",
              "    <tr>\n",
              "      <td>0</td>\n",
              "      <td>1</td>\n",
              "      <td>546</td>\n",
              "      <td>'Salem's Lot</td>\n",
              "      <td>594</td>\n",
              "      <td>2005-11-01</td>\n",
              "      <td>93</td>\n",
              "    </tr>\n",
              "    <tr>\n",
              "      <td>1</td>\n",
              "      <td>2</td>\n",
              "      <td>465</td>\n",
              "      <td>1 000 Places to See Before You Die</td>\n",
              "      <td>992</td>\n",
              "      <td>2003-05-22</td>\n",
              "      <td>336</td>\n",
              "    </tr>\n",
              "    <tr>\n",
              "      <td>2</td>\n",
              "      <td>3</td>\n",
              "      <td>407</td>\n",
              "      <td>13 Little Blue Envelopes (Little Blue Envelope...</td>\n",
              "      <td>322</td>\n",
              "      <td>2010-12-21</td>\n",
              "      <td>135</td>\n",
              "    </tr>\n",
              "    <tr>\n",
              "      <td>3</td>\n",
              "      <td>4</td>\n",
              "      <td>82</td>\n",
              "      <td>1491: New Revelations of the Americas Before C...</td>\n",
              "      <td>541</td>\n",
              "      <td>2006-10-10</td>\n",
              "      <td>309</td>\n",
              "    </tr>\n",
              "    <tr>\n",
              "      <td>4</td>\n",
              "      <td>5</td>\n",
              "      <td>125</td>\n",
              "      <td>1776</td>\n",
              "      <td>386</td>\n",
              "      <td>2006-07-04</td>\n",
              "      <td>268</td>\n",
              "    </tr>\n",
              "  </tbody>\n",
              "</table>\n",
              "</div>"
            ],
            "text/plain": [
              "   book_id  author_id                                              title  \\\n",
              "0        1        546                                       'Salem's Lot   \n",
              "1        2        465                 1 000 Places to See Before You Die   \n",
              "2        3        407  13 Little Blue Envelopes (Little Blue Envelope...   \n",
              "3        4         82  1491: New Revelations of the Americas Before C...   \n",
              "4        5        125                                               1776   \n",
              "\n",
              "   num_pages publication_date  publisher_id  \n",
              "0        594       2005-11-01            93  \n",
              "1        992       2003-05-22           336  \n",
              "2        322       2010-12-21           135  \n",
              "3        541       2006-10-10           309  \n",
              "4        386       2006-07-04           268  "
            ]
          },
          "execution_count": 5,
          "metadata": {},
          "output_type": "execute_result"
        }
      ]
    },
    {
      "cell_type": "code",
      "metadata": {
        "id": "njFuOqFCtptU"
      },
      "source": [
        "sql = '''SELECT * FROM authors\n",
        "LIMIT 5\n",
        "'''"
      ],
      "execution_count": null,
      "outputs": []
    },
    {
      "cell_type": "code",
      "metadata": {
        "colab": {
          "base_uri": "https://localhost:8080/",
          "height": 204
        },
        "id": "Ewh8LtxvtwWM",
        "outputId": "fb3150b9-4360-4a35-bcab-1e65aedeb2b1"
      },
      "source": [
        "select(sql)"
      ],
      "execution_count": null,
      "outputs": [
        {
          "data": {
            "text/html": [
              "<div>\n",
              "<style scoped>\n",
              "    .dataframe tbody tr th:only-of-type {\n",
              "        vertical-align: middle;\n",
              "    }\n",
              "\n",
              "    .dataframe tbody tr th {\n",
              "        vertical-align: top;\n",
              "    }\n",
              "\n",
              "    .dataframe thead th {\n",
              "        text-align: right;\n",
              "    }\n",
              "</style>\n",
              "<table border=\"1\" class=\"dataframe\">\n",
              "  <thead>\n",
              "    <tr style=\"text-align: right;\">\n",
              "      <th></th>\n",
              "      <th>author_id</th>\n",
              "      <th>author</th>\n",
              "    </tr>\n",
              "  </thead>\n",
              "  <tbody>\n",
              "    <tr>\n",
              "      <td>0</td>\n",
              "      <td>1</td>\n",
              "      <td>A.S. Byatt</td>\n",
              "    </tr>\n",
              "    <tr>\n",
              "      <td>1</td>\n",
              "      <td>2</td>\n",
              "      <td>Aesop/Laura Harris/Laura Gibbs</td>\n",
              "    </tr>\n",
              "    <tr>\n",
              "      <td>2</td>\n",
              "      <td>3</td>\n",
              "      <td>Agatha Christie</td>\n",
              "    </tr>\n",
              "    <tr>\n",
              "      <td>3</td>\n",
              "      <td>4</td>\n",
              "      <td>Alan Brennert</td>\n",
              "    </tr>\n",
              "    <tr>\n",
              "      <td>4</td>\n",
              "      <td>5</td>\n",
              "      <td>Alan Moore/David   Lloyd</td>\n",
              "    </tr>\n",
              "  </tbody>\n",
              "</table>\n",
              "</div>"
            ],
            "text/plain": [
              "   author_id                          author\n",
              "0          1                      A.S. Byatt\n",
              "1          2  Aesop/Laura Harris/Laura Gibbs\n",
              "2          3                 Agatha Christie\n",
              "3          4                   Alan Brennert\n",
              "4          5        Alan Moore/David   Lloyd"
            ]
          },
          "execution_count": 7,
          "metadata": {},
          "output_type": "execute_result"
        }
      ]
    },
    {
      "cell_type": "code",
      "metadata": {
        "id": "IiZOqr3tt39_"
      },
      "source": [
        "sql = '''SELECT * FROM ratings\n",
        "LIMIT 5\n",
        "'''"
      ],
      "execution_count": null,
      "outputs": []
    },
    {
      "cell_type": "code",
      "metadata": {
        "colab": {
          "base_uri": "https://localhost:8080/",
          "height": 204
        },
        "id": "YXJz2dGwuF0R",
        "outputId": "418bd62a-6895-4c99-8c73-9ea9fd191571"
      },
      "source": [
        "select(sql)"
      ],
      "execution_count": null,
      "outputs": [
        {
          "data": {
            "text/html": [
              "<div>\n",
              "<style scoped>\n",
              "    .dataframe tbody tr th:only-of-type {\n",
              "        vertical-align: middle;\n",
              "    }\n",
              "\n",
              "    .dataframe tbody tr th {\n",
              "        vertical-align: top;\n",
              "    }\n",
              "\n",
              "    .dataframe thead th {\n",
              "        text-align: right;\n",
              "    }\n",
              "</style>\n",
              "<table border=\"1\" class=\"dataframe\">\n",
              "  <thead>\n",
              "    <tr style=\"text-align: right;\">\n",
              "      <th></th>\n",
              "      <th>rating_id</th>\n",
              "      <th>book_id</th>\n",
              "      <th>username</th>\n",
              "      <th>rating</th>\n",
              "    </tr>\n",
              "  </thead>\n",
              "  <tbody>\n",
              "    <tr>\n",
              "      <td>0</td>\n",
              "      <td>1</td>\n",
              "      <td>1</td>\n",
              "      <td>ryanfranco</td>\n",
              "      <td>4</td>\n",
              "    </tr>\n",
              "    <tr>\n",
              "      <td>1</td>\n",
              "      <td>2</td>\n",
              "      <td>1</td>\n",
              "      <td>grantpatricia</td>\n",
              "      <td>2</td>\n",
              "    </tr>\n",
              "    <tr>\n",
              "      <td>2</td>\n",
              "      <td>3</td>\n",
              "      <td>1</td>\n",
              "      <td>brandtandrea</td>\n",
              "      <td>5</td>\n",
              "    </tr>\n",
              "    <tr>\n",
              "      <td>3</td>\n",
              "      <td>4</td>\n",
              "      <td>2</td>\n",
              "      <td>lorichen</td>\n",
              "      <td>3</td>\n",
              "    </tr>\n",
              "    <tr>\n",
              "      <td>4</td>\n",
              "      <td>5</td>\n",
              "      <td>2</td>\n",
              "      <td>mariokeller</td>\n",
              "      <td>2</td>\n",
              "    </tr>\n",
              "  </tbody>\n",
              "</table>\n",
              "</div>"
            ],
            "text/plain": [
              "   rating_id  book_id       username  rating\n",
              "0          1        1     ryanfranco       4\n",
              "1          2        1  grantpatricia       2\n",
              "2          3        1   brandtandrea       5\n",
              "3          4        2       lorichen       3\n",
              "4          5        2    mariokeller       2"
            ]
          },
          "execution_count": 9,
          "metadata": {},
          "output_type": "execute_result"
        }
      ]
    },
    {
      "cell_type": "code",
      "metadata": {
        "id": "BHIJJuF5t8N-"
      },
      "source": [
        "sql = '''SELECT * FROM reviews\n",
        "LIMIT 5\n",
        "'''"
      ],
      "execution_count": null,
      "outputs": []
    },
    {
      "cell_type": "code",
      "metadata": {
        "colab": {
          "base_uri": "https://localhost:8080/",
          "height": 204
        },
        "id": "Q3CmSdxpuGcc",
        "outputId": "f07f5682-b578-4955-eee1-c98e2d50da2e"
      },
      "source": [
        "select(sql)"
      ],
      "execution_count": null,
      "outputs": [
        {
          "data": {
            "text/html": [
              "<div>\n",
              "<style scoped>\n",
              "    .dataframe tbody tr th:only-of-type {\n",
              "        vertical-align: middle;\n",
              "    }\n",
              "\n",
              "    .dataframe tbody tr th {\n",
              "        vertical-align: top;\n",
              "    }\n",
              "\n",
              "    .dataframe thead th {\n",
              "        text-align: right;\n",
              "    }\n",
              "</style>\n",
              "<table border=\"1\" class=\"dataframe\">\n",
              "  <thead>\n",
              "    <tr style=\"text-align: right;\">\n",
              "      <th></th>\n",
              "      <th>review_id</th>\n",
              "      <th>book_id</th>\n",
              "      <th>username</th>\n",
              "      <th>text</th>\n",
              "    </tr>\n",
              "  </thead>\n",
              "  <tbody>\n",
              "    <tr>\n",
              "      <td>0</td>\n",
              "      <td>1</td>\n",
              "      <td>1</td>\n",
              "      <td>brandtandrea</td>\n",
              "      <td>Mention society tell send professor analysis. ...</td>\n",
              "    </tr>\n",
              "    <tr>\n",
              "      <td>1</td>\n",
              "      <td>2</td>\n",
              "      <td>1</td>\n",
              "      <td>ryanfranco</td>\n",
              "      <td>Foot glass pretty audience hit themselves. Amo...</td>\n",
              "    </tr>\n",
              "    <tr>\n",
              "      <td>2</td>\n",
              "      <td>3</td>\n",
              "      <td>2</td>\n",
              "      <td>lorichen</td>\n",
              "      <td>Listen treat keep worry. Miss husband tax but ...</td>\n",
              "    </tr>\n",
              "    <tr>\n",
              "      <td>3</td>\n",
              "      <td>4</td>\n",
              "      <td>3</td>\n",
              "      <td>johnsonamanda</td>\n",
              "      <td>Finally month interesting blue could nature cu...</td>\n",
              "    </tr>\n",
              "    <tr>\n",
              "      <td>4</td>\n",
              "      <td>5</td>\n",
              "      <td>3</td>\n",
              "      <td>scotttamara</td>\n",
              "      <td>Nation purpose heavy give wait song will. List...</td>\n",
              "    </tr>\n",
              "  </tbody>\n",
              "</table>\n",
              "</div>"
            ],
            "text/plain": [
              "   review_id  book_id       username  \\\n",
              "0          1        1   brandtandrea   \n",
              "1          2        1     ryanfranco   \n",
              "2          3        2       lorichen   \n",
              "3          4        3  johnsonamanda   \n",
              "4          5        3    scotttamara   \n",
              "\n",
              "                                                text  \n",
              "0  Mention society tell send professor analysis. ...  \n",
              "1  Foot glass pretty audience hit themselves. Amo...  \n",
              "2  Listen treat keep worry. Miss husband tax but ...  \n",
              "3  Finally month interesting blue could nature cu...  \n",
              "4  Nation purpose heavy give wait song will. List...  "
            ]
          },
          "execution_count": 11,
          "metadata": {},
          "output_type": "execute_result"
        }
      ]
    },
    {
      "cell_type": "code",
      "metadata": {
        "id": "0vJ3DeCluBd-"
      },
      "source": [
        "sql = '''SELECT * FROM publishers\n",
        "LIMIT 5\n",
        "'''"
      ],
      "execution_count": null,
      "outputs": []
    },
    {
      "cell_type": "code",
      "metadata": {
        "colab": {
          "base_uri": "https://localhost:8080/",
          "height": 204
        },
        "id": "38qEw_LIuHEh",
        "outputId": "07374544-1533-44d7-9589-575a7b82b0f1"
      },
      "source": [
        "select(sql)"
      ],
      "execution_count": null,
      "outputs": [
        {
          "data": {
            "text/html": [
              "<div>\n",
              "<style scoped>\n",
              "    .dataframe tbody tr th:only-of-type {\n",
              "        vertical-align: middle;\n",
              "    }\n",
              "\n",
              "    .dataframe tbody tr th {\n",
              "        vertical-align: top;\n",
              "    }\n",
              "\n",
              "    .dataframe thead th {\n",
              "        text-align: right;\n",
              "    }\n",
              "</style>\n",
              "<table border=\"1\" class=\"dataframe\">\n",
              "  <thead>\n",
              "    <tr style=\"text-align: right;\">\n",
              "      <th></th>\n",
              "      <th>publisher_id</th>\n",
              "      <th>publisher</th>\n",
              "    </tr>\n",
              "  </thead>\n",
              "  <tbody>\n",
              "    <tr>\n",
              "      <td>0</td>\n",
              "      <td>1</td>\n",
              "      <td>Ace</td>\n",
              "    </tr>\n",
              "    <tr>\n",
              "      <td>1</td>\n",
              "      <td>2</td>\n",
              "      <td>Ace Book</td>\n",
              "    </tr>\n",
              "    <tr>\n",
              "      <td>2</td>\n",
              "      <td>3</td>\n",
              "      <td>Ace Books</td>\n",
              "    </tr>\n",
              "    <tr>\n",
              "      <td>3</td>\n",
              "      <td>4</td>\n",
              "      <td>Ace Hardcover</td>\n",
              "    </tr>\n",
              "    <tr>\n",
              "      <td>4</td>\n",
              "      <td>5</td>\n",
              "      <td>Addison Wesley Publishing Company</td>\n",
              "    </tr>\n",
              "  </tbody>\n",
              "</table>\n",
              "</div>"
            ],
            "text/plain": [
              "   publisher_id                          publisher\n",
              "0             1                                Ace\n",
              "1             2                           Ace Book\n",
              "2             3                          Ace Books\n",
              "3             4                      Ace Hardcover\n",
              "4             5  Addison Wesley Publishing Company"
            ]
          },
          "execution_count": 13,
          "metadata": {},
          "output_type": "execute_result"
        }
      ]
    },
    {
      "cell_type": "markdown",
      "metadata": {
        "id": "vbme5Xzt0nTn"
      },
      "source": [
        "## Количество книг, которые вышли после 01.01.2000 <a id=\"books\"></a>"
      ]
    },
    {
      "cell_type": "markdown",
      "metadata": {
        "id": "vxG1qB-ew-hH"
      },
      "source": [
        "Найдем, сколько книг вышло после 1 января 2000 года."
      ]
    },
    {
      "cell_type": "code",
      "metadata": {
        "id": "xgKplVtqxD2v"
      },
      "source": [
        "sql = '''\n",
        "SELECT COUNT(DISTINCT book_id) AS cnt\n",
        "FROM books\n",
        "WHERE publication_date > '2000-01-01'\n",
        "'''"
      ],
      "execution_count": null,
      "outputs": []
    },
    {
      "cell_type": "code",
      "metadata": {
        "colab": {
          "base_uri": "https://localhost:8080/",
          "height": 80
        },
        "id": "KgyzhFuZxv2M",
        "outputId": "1966f6e0-d3a4-411e-93b4-8f750130d49c"
      },
      "source": [
        "select(sql)"
      ],
      "execution_count": null,
      "outputs": [
        {
          "data": {
            "text/html": [
              "<div>\n",
              "<style scoped>\n",
              "    .dataframe tbody tr th:only-of-type {\n",
              "        vertical-align: middle;\n",
              "    }\n",
              "\n",
              "    .dataframe tbody tr th {\n",
              "        vertical-align: top;\n",
              "    }\n",
              "\n",
              "    .dataframe thead th {\n",
              "        text-align: right;\n",
              "    }\n",
              "</style>\n",
              "<table border=\"1\" class=\"dataframe\">\n",
              "  <thead>\n",
              "    <tr style=\"text-align: right;\">\n",
              "      <th></th>\n",
              "      <th>cnt</th>\n",
              "    </tr>\n",
              "  </thead>\n",
              "  <tbody>\n",
              "    <tr>\n",
              "      <td>0</td>\n",
              "      <td>819</td>\n",
              "    </tr>\n",
              "  </tbody>\n",
              "</table>\n",
              "</div>"
            ],
            "text/plain": [
              "   cnt\n",
              "0  819"
            ]
          },
          "execution_count": 15,
          "metadata": {},
          "output_type": "execute_result"
        }
      ]
    },
    {
      "cell_type": "markdown",
      "metadata": {
        "id": "6qIZu7Rv9IXM"
      },
      "source": [
        "После 01.01.2000 вышло **819** книг (подсчет по уникальным идентификаторам книг в системе)."
      ]
    },
    {
      "cell_type": "code",
      "metadata": {
        "id": "pF-XOoMkMA3z"
      },
      "source": [
        "sql = '''\n",
        "SELECT title, COUNT(book_id) as cnt_book_id\n",
        "FROM books\n",
        "GROUP BY title\n",
        "HAVING COUNT(book_id) > 1\n",
        "\n",
        "'''"
      ],
      "execution_count": null,
      "outputs": []
    },
    {
      "cell_type": "code",
      "metadata": {
        "colab": {
          "base_uri": "https://localhost:8080/",
          "height": 80
        },
        "id": "4RiUoLpcMUg5",
        "outputId": "c84aec54-00c6-492e-d55d-d2822cac6a32"
      },
      "source": [
        "select(sql)"
      ],
      "execution_count": null,
      "outputs": [
        {
          "data": {
            "text/html": [
              "<div>\n",
              "<style scoped>\n",
              "    .dataframe tbody tr th:only-of-type {\n",
              "        vertical-align: middle;\n",
              "    }\n",
              "\n",
              "    .dataframe tbody tr th {\n",
              "        vertical-align: top;\n",
              "    }\n",
              "\n",
              "    .dataframe thead th {\n",
              "        text-align: right;\n",
              "    }\n",
              "</style>\n",
              "<table border=\"1\" class=\"dataframe\">\n",
              "  <thead>\n",
              "    <tr style=\"text-align: right;\">\n",
              "      <th></th>\n",
              "      <th>title</th>\n",
              "      <th>cnt_book_id</th>\n",
              "    </tr>\n",
              "  </thead>\n",
              "  <tbody>\n",
              "    <tr>\n",
              "      <td>0</td>\n",
              "      <td>Memoirs of a Geisha</td>\n",
              "      <td>2</td>\n",
              "    </tr>\n",
              "  </tbody>\n",
              "</table>\n",
              "</div>"
            ],
            "text/plain": [
              "                 title  cnt_book_id\n",
              "0  Memoirs of a Geisha            2"
            ]
          },
          "execution_count": 17,
          "metadata": {},
          "output_type": "execute_result"
        }
      ]
    },
    {
      "cell_type": "code",
      "metadata": {
        "id": "i5d1Y70iP0J4"
      },
      "source": [
        "sql = '''\n",
        "SELECT *\n",
        "FROM books\n",
        "WHERE title = 'Memoirs of a Geisha'\n",
        "\n",
        "'''"
      ],
      "execution_count": null,
      "outputs": []
    },
    {
      "cell_type": "code",
      "metadata": {
        "colab": {
          "base_uri": "https://localhost:8080/",
          "height": 111
        },
        "id": "otZ8p7ERP9Jo",
        "outputId": "7dd1d7c8-7f45-426b-ce57-02b9cc2a8522"
      },
      "source": [
        "select(sql)"
      ],
      "execution_count": null,
      "outputs": [
        {
          "data": {
            "text/html": [
              "<div>\n",
              "<style scoped>\n",
              "    .dataframe tbody tr th:only-of-type {\n",
              "        vertical-align: middle;\n",
              "    }\n",
              "\n",
              "    .dataframe tbody tr th {\n",
              "        vertical-align: top;\n",
              "    }\n",
              "\n",
              "    .dataframe thead th {\n",
              "        text-align: right;\n",
              "    }\n",
              "</style>\n",
              "<table border=\"1\" class=\"dataframe\">\n",
              "  <thead>\n",
              "    <tr style=\"text-align: right;\">\n",
              "      <th></th>\n",
              "      <th>book_id</th>\n",
              "      <th>author_id</th>\n",
              "      <th>title</th>\n",
              "      <th>num_pages</th>\n",
              "      <th>publication_date</th>\n",
              "      <th>publisher_id</th>\n",
              "    </tr>\n",
              "  </thead>\n",
              "  <tbody>\n",
              "    <tr>\n",
              "      <td>0</td>\n",
              "      <td>426</td>\n",
              "      <td>39</td>\n",
              "      <td>Memoirs of a Geisha</td>\n",
              "      <td>434</td>\n",
              "      <td>2005-11-15</td>\n",
              "      <td>241</td>\n",
              "    </tr>\n",
              "    <tr>\n",
              "      <td>1</td>\n",
              "      <td>427</td>\n",
              "      <td>39</td>\n",
              "      <td>Memoirs of a Geisha</td>\n",
              "      <td>503</td>\n",
              "      <td>2005-11-22</td>\n",
              "      <td>311</td>\n",
              "    </tr>\n",
              "  </tbody>\n",
              "</table>\n",
              "</div>"
            ],
            "text/plain": [
              "   book_id  author_id                title  num_pages publication_date  \\\n",
              "0      426         39  Memoirs of a Geisha        434       2005-11-15   \n",
              "1      427         39  Memoirs of a Geisha        503       2005-11-22   \n",
              "\n",
              "   publisher_id  \n",
              "0           241  \n",
              "1           311  "
            ]
          },
          "execution_count": 19,
          "metadata": {},
          "output_type": "execute_result"
        }
      ]
    },
    {
      "cell_type": "markdown",
      "metadata": {
        "id": "Dc0UQPhAQTuV"
      },
      "source": [
        "Вычислили книгу с разными идентификаторами, но с одним названием. У нее разное количество страниц, отличается дата издания и издательство. Будем считать, что это разные книги. Возможно, разные переиздания. Укажем это отдельно в выводах."
      ]
    },
    {
      "cell_type": "markdown",
      "metadata": {
        "id": "rWt-itjo0zzb"
      },
      "source": [
        "## Среднее количество обзоров и средняя оценка для каждой книги <a id=\"av_rev_rate\"></a>"
      ]
    },
    {
      "cell_type": "markdown",
      "metadata": {
        "id": "4-_iAeb6-I4s"
      },
      "source": [
        "Для каждой книги посчитаем количество обзоров и среднюю оценку."
      ]
    },
    {
      "cell_type": "code",
      "metadata": {
        "id": "tB2dNZuhHPbE"
      },
      "source": [
        "sql = '''\n",
        "SELECT books.title, AVG(rating) AS avg_rating, COUNT(DISTINCT review_id) AS cnt_review\n",
        "FROM books\n",
        "LEFT JOIN ratings on ratings.book_id = books.book_id\n",
        "LEFT JOIN reviews on reviews.book_id = books.book_id\n",
        "GROUP BY books.book_id\n",
        "LIMIT 3\n",
        "'''"
      ],
      "execution_count": null,
      "outputs": []
    },
    {
      "cell_type": "code",
      "metadata": {
        "colab": {
          "base_uri": "https://localhost:8080/",
          "height": 142
        },
        "id": "-t_-IbESJJBS",
        "outputId": "9138fec8-1e9d-4c0c-9ff0-be2cd7d4897b"
      },
      "source": [
        "select(sql)"
      ],
      "execution_count": null,
      "outputs": [
        {
          "data": {
            "text/html": [
              "<div>\n",
              "<style scoped>\n",
              "    .dataframe tbody tr th:only-of-type {\n",
              "        vertical-align: middle;\n",
              "    }\n",
              "\n",
              "    .dataframe tbody tr th {\n",
              "        vertical-align: top;\n",
              "    }\n",
              "\n",
              "    .dataframe thead th {\n",
              "        text-align: right;\n",
              "    }\n",
              "</style>\n",
              "<table border=\"1\" class=\"dataframe\">\n",
              "  <thead>\n",
              "    <tr style=\"text-align: right;\">\n",
              "      <th></th>\n",
              "      <th>title</th>\n",
              "      <th>avg_rating</th>\n",
              "      <th>cnt_review</th>\n",
              "    </tr>\n",
              "  </thead>\n",
              "  <tbody>\n",
              "    <tr>\n",
              "      <td>0</td>\n",
              "      <td>'Salem's Lot</td>\n",
              "      <td>3.666667</td>\n",
              "      <td>2</td>\n",
              "    </tr>\n",
              "    <tr>\n",
              "      <td>1</td>\n",
              "      <td>1 000 Places to See Before You Die</td>\n",
              "      <td>2.500000</td>\n",
              "      <td>1</td>\n",
              "    </tr>\n",
              "    <tr>\n",
              "      <td>2</td>\n",
              "      <td>13 Little Blue Envelopes (Little Blue Envelope...</td>\n",
              "      <td>4.666667</td>\n",
              "      <td>3</td>\n",
              "    </tr>\n",
              "  </tbody>\n",
              "</table>\n",
              "</div>"
            ],
            "text/plain": [
              "                                               title  avg_rating  cnt_review\n",
              "0                                       'Salem's Lot    3.666667           2\n",
              "1                 1 000 Places to See Before You Die    2.500000           1\n",
              "2  13 Little Blue Envelopes (Little Blue Envelope...    4.666667           3"
            ]
          },
          "execution_count": 32,
          "metadata": {},
          "output_type": "execute_result"
        }
      ]
    },
    {
      "cell_type": "markdown",
      "metadata": {
        "id": "Roa7KRDjJrUh"
      },
      "source": [
        "Вывели средние оценки и количество уникальных отзывов для каждой книги."
      ]
    },
    {
      "cell_type": "code",
      "metadata": {
        "id": "qIuvR0HLnmfT",
        "outputId": "c94378e4-014f-4f21-fc73-2760d7e60ab3"
      },
      "source": [
        "select(sql = '''\n",
        "SELECT books.title, AVG(rating) AS avg_rating, COUNT(DISTINCT review_id) AS cnt_review\n",
        "FROM books\n",
        "LEFT JOIN ratings on ratings.book_id = books.book_id\n",
        "LEFT JOIN reviews on reviews.book_id = books.book_id\n",
        "GROUP BY books.book_id\n",
        "LIMIT 3\n",
        "''')"
      ],
      "execution_count": null,
      "outputs": [
        {
          "data": {
            "text/html": [
              "<div>\n",
              "<style scoped>\n",
              "    .dataframe tbody tr th:only-of-type {\n",
              "        vertical-align: middle;\n",
              "    }\n",
              "\n",
              "    .dataframe tbody tr th {\n",
              "        vertical-align: top;\n",
              "    }\n",
              "\n",
              "    .dataframe thead th {\n",
              "        text-align: right;\n",
              "    }\n",
              "</style>\n",
              "<table border=\"1\" class=\"dataframe\">\n",
              "  <thead>\n",
              "    <tr style=\"text-align: right;\">\n",
              "      <th></th>\n",
              "      <th>title</th>\n",
              "      <th>avg_rating</th>\n",
              "      <th>cnt_review</th>\n",
              "    </tr>\n",
              "  </thead>\n",
              "  <tbody>\n",
              "    <tr>\n",
              "      <td>0</td>\n",
              "      <td>'Salem's Lot</td>\n",
              "      <td>3.666667</td>\n",
              "      <td>2</td>\n",
              "    </tr>\n",
              "    <tr>\n",
              "      <td>1</td>\n",
              "      <td>1 000 Places to See Before You Die</td>\n",
              "      <td>2.500000</td>\n",
              "      <td>1</td>\n",
              "    </tr>\n",
              "    <tr>\n",
              "      <td>2</td>\n",
              "      <td>13 Little Blue Envelopes (Little Blue Envelope...</td>\n",
              "      <td>4.666667</td>\n",
              "      <td>3</td>\n",
              "    </tr>\n",
              "  </tbody>\n",
              "</table>\n",
              "</div>"
            ],
            "text/plain": [
              "                                               title  avg_rating  cnt_review\n",
              "0                                       'Salem's Lot    3.666667           2\n",
              "1                 1 000 Places to See Before You Die    2.500000           1\n",
              "2  13 Little Blue Envelopes (Little Blue Envelope...    4.666667           3"
            ]
          },
          "execution_count": 24,
          "metadata": {},
          "output_type": "execute_result"
        }
      ]
    },
    {
      "cell_type": "markdown",
      "metadata": {
        "id": "iH367qPL1WAH"
      },
      "source": [
        "## Издательство, которое выпустило больше всего книг <a id=\"pub\"></a>"
      ]
    },
    {
      "cell_type": "markdown",
      "metadata": {
        "id": "cU-UEtK6TV69"
      },
      "source": [
        "Определим издательство, которое выпустило наибольшее число книг толще 50 страниц."
      ]
    },
    {
      "cell_type": "code",
      "metadata": {
        "id": "q2xcpiYzLlEL"
      },
      "source": [
        "sql = '''\n",
        "SELECT publisher, COUNT(book_id) AS cnt_books\n",
        "FROM books\n",
        "LEFT JOIN publishers on publishers.publisher_id = books.publisher_id\n",
        "WHERE books.num_pages > 50\n",
        "GROUP BY publisher\n",
        "ORDER BY cnt_books DESC\n",
        "LIMIT 1\n",
        "'''"
      ],
      "execution_count": null,
      "outputs": []
    },
    {
      "cell_type": "code",
      "metadata": {
        "colab": {
          "base_uri": "https://localhost:8080/",
          "height": 80
        },
        "id": "LDyx5izLVZga",
        "outputId": "f6b51f03-2953-48ca-e090-8494240f4a65"
      },
      "source": [
        "select(sql)"
      ],
      "execution_count": null,
      "outputs": [
        {
          "data": {
            "text/html": [
              "<div>\n",
              "<style scoped>\n",
              "    .dataframe tbody tr th:only-of-type {\n",
              "        vertical-align: middle;\n",
              "    }\n",
              "\n",
              "    .dataframe tbody tr th {\n",
              "        vertical-align: top;\n",
              "    }\n",
              "\n",
              "    .dataframe thead th {\n",
              "        text-align: right;\n",
              "    }\n",
              "</style>\n",
              "<table border=\"1\" class=\"dataframe\">\n",
              "  <thead>\n",
              "    <tr style=\"text-align: right;\">\n",
              "      <th></th>\n",
              "      <th>publisher</th>\n",
              "      <th>cnt_books</th>\n",
              "    </tr>\n",
              "  </thead>\n",
              "  <tbody>\n",
              "    <tr>\n",
              "      <td>0</td>\n",
              "      <td>Penguin Books</td>\n",
              "      <td>42</td>\n",
              "    </tr>\n",
              "  </tbody>\n",
              "</table>\n",
              "</div>"
            ],
            "text/plain": [
              "       publisher  cnt_books\n",
              "0  Penguin Books         42"
            ]
          },
          "execution_count": 26,
          "metadata": {},
          "output_type": "execute_result"
        }
      ]
    },
    {
      "cell_type": "markdown",
      "metadata": {
        "id": "UxuSlKzvZvib"
      },
      "source": [
        "Издательство **Penguin Books** выпустило 42 книги - это наибольший показатель среди всех рассматриваемых издательств."
      ]
    },
    {
      "cell_type": "markdown",
      "metadata": {
        "id": "w6gwpCdH1mzq"
      },
      "source": [
        "## Автор с самой высокой средней оценкой книг <a id=\"author\"></a>"
      ]
    },
    {
      "cell_type": "markdown",
      "metadata": {
        "id": "pKe_0_2aaGMd"
      },
      "source": [
        "Определим автора с самой высокой средней оценкой книг — учитываем только книги с 50 и более оценками."
      ]
    },
    {
      "cell_type": "code",
      "metadata": {
        "id": "cMAOHDF1aJ1a"
      },
      "source": [
        "sql = '''\n",
        "WITH high_rating_books AS (\n",
        "SELECT books.book_id, COUNT(rating) AS cnt_rating, AVG(rating) AS avg_rating\n",
        "FROM books\n",
        "LEFT JOIN ratings on ratings.book_id = books.book_id\n",
        "GROUP BY books.book_id\n",
        "HAVING COUNT(rating) >= 50\n",
        "ORDER BY cnt_rating DESC)\n",
        "\n",
        "SELECT author, AVG(avg_rating) as avg_author_rating\n",
        "FROM books\n",
        "RIGHT JOIN high_rating_books on high_rating_books.book_id = books.book_id\n",
        "LEFT JOIN authors on authors.author_id = books.author_id\n",
        "GROUP BY author\n",
        "ORDER BY avg_author_rating DESC\n",
        "LIMIT 1\n",
        "'''"
      ],
      "execution_count": null,
      "outputs": []
    },
    {
      "cell_type": "code",
      "metadata": {
        "colab": {
          "base_uri": "https://localhost:8080/",
          "height": 80
        },
        "id": "IXETlpFzd_Ej",
        "outputId": "38cff69b-e1bd-49b7-b492-8ef64ebd47bf"
      },
      "source": [
        "select(sql)"
      ],
      "execution_count": null,
      "outputs": [
        {
          "data": {
            "text/html": [
              "<div>\n",
              "<style scoped>\n",
              "    .dataframe tbody tr th:only-of-type {\n",
              "        vertical-align: middle;\n",
              "    }\n",
              "\n",
              "    .dataframe tbody tr th {\n",
              "        vertical-align: top;\n",
              "    }\n",
              "\n",
              "    .dataframe thead th {\n",
              "        text-align: right;\n",
              "    }\n",
              "</style>\n",
              "<table border=\"1\" class=\"dataframe\">\n",
              "  <thead>\n",
              "    <tr style=\"text-align: right;\">\n",
              "      <th></th>\n",
              "      <th>author</th>\n",
              "      <th>avg_author_rating</th>\n",
              "    </tr>\n",
              "  </thead>\n",
              "  <tbody>\n",
              "    <tr>\n",
              "      <td>0</td>\n",
              "      <td>J.K. Rowling/Mary GrandPré</td>\n",
              "      <td>4.283844</td>\n",
              "    </tr>\n",
              "  </tbody>\n",
              "</table>\n",
              "</div>"
            ],
            "text/plain": [
              "                       author  avg_author_rating\n",
              "0  J.K. Rowling/Mary GrandPré           4.283844"
            ]
          },
          "execution_count": 28,
          "metadata": {},
          "output_type": "execute_result"
        }
      ]
    },
    {
      "cell_type": "markdown",
      "metadata": {
        "id": "a083iHCsleo3"
      },
      "source": [
        "Автор с самой высокой оценкой книг (среди книг с 50 и более оценками) - **J.K. Rowling/Mary GrandPré.**"
      ]
    },
    {
      "cell_type": "markdown",
      "metadata": {
        "id": "7AAy7zMK14lb"
      },
      "source": [
        "##  Среднее количество обзоров от активных пользователей <a id=\"users\"></a>"
      ]
    },
    {
      "cell_type": "markdown",
      "metadata": {
        "id": "Opr7yXqqmEXZ"
      },
      "source": [
        "Посчитаем среднее количество обзоров от пользователей, которые поставили больше 50 оценок."
      ]
    },
    {
      "cell_type": "code",
      "metadata": {
        "id": "Ny4MOSxmlu4T"
      },
      "source": [
        "sql = '''\n",
        "WITH active_users_review AS (\n",
        "WITH active_users AS (\n",
        "SELECT ratings.username, COUNT(rating_id) AS cnt_rating\n",
        "FROM ratings\n",
        "GROUP BY ratings.username\n",
        "HAVING COUNT(rating_id) > 50\n",
        "ORDER BY cnt_rating DESC)\n",
        "\n",
        "SELECT reviews.username, COUNT(review_id) as cnt_reviews_from_active_users\n",
        "FROM reviews\n",
        "RIGHT JOIN active_users on reviews.username = active_users.username\n",
        "GROUP BY reviews.username)\n",
        "\n",
        "SELECT AVG(active_users_review.cnt_reviews_from_active_users)\n",
        "FROM active_users_review\n",
        "'''"
      ],
      "execution_count": null,
      "outputs": []
    },
    {
      "cell_type": "code",
      "metadata": {
        "colab": {
          "base_uri": "https://localhost:8080/",
          "height": 80
        },
        "id": "fF3AH_L8sIXD",
        "outputId": "f59b1053-363d-4875-dd53-13105f79e171"
      },
      "source": [
        "select(sql)"
      ],
      "execution_count": null,
      "outputs": [
        {
          "data": {
            "text/html": [
              "<div>\n",
              "<style scoped>\n",
              "    .dataframe tbody tr th:only-of-type {\n",
              "        vertical-align: middle;\n",
              "    }\n",
              "\n",
              "    .dataframe tbody tr th {\n",
              "        vertical-align: top;\n",
              "    }\n",
              "\n",
              "    .dataframe thead th {\n",
              "        text-align: right;\n",
              "    }\n",
              "</style>\n",
              "<table border=\"1\" class=\"dataframe\">\n",
              "  <thead>\n",
              "    <tr style=\"text-align: right;\">\n",
              "      <th></th>\n",
              "      <th>avg</th>\n",
              "    </tr>\n",
              "  </thead>\n",
              "  <tbody>\n",
              "    <tr>\n",
              "      <td>0</td>\n",
              "      <td>24.333333</td>\n",
              "    </tr>\n",
              "  </tbody>\n",
              "</table>\n",
              "</div>"
            ],
            "text/plain": [
              "         avg\n",
              "0  24.333333"
            ]
          },
          "execution_count": 30,
          "metadata": {},
          "output_type": "execute_result"
        }
      ]
    },
    {
      "cell_type": "markdown",
      "metadata": {
        "id": "MrXHplRPx4g3"
      },
      "source": [
        "Среднее количество обзоров от самых активных пользователей (более 50 оценок) - **24,3**. "
      ]
    },
    {
      "cell_type": "markdown",
      "metadata": {
        "id": "5UprJNlk2G5z"
      },
      "source": [
        "## Выводы  <a id=\"conclusions\"></a>"
      ]
    },
    {
      "cell_type": "markdown",
      "metadata": {
        "id": "YsbRRzqV2Sqw"
      },
      "source": [
        "Мы выполнили исследование базы данных книг и определили:\n",
        "\n",
        "* После 01.01.2000 вышло **819** книг (подсчет по уникальным идентификаторам книг в системе);\n",
        "* Вывели средние оценки для 1000 уникальных идентификаторов книг и количество отзывов для 994 книг (для 6 отзывы отсутствуют);\n",
        "* Издательство **Penguin Books** выпустило 42 книги, это максимум среди конкурентов;\n",
        "* Автор с самой высокой оценкой книг (среди книг с 50 и более оценками) - **J.K. Rowling/Mary GrandPré**;\n",
        "* Среднее количество обзоров от самых активных пользователей (более 50 оценок) - **24,3**. \n",
        "\n",
        "*Примечание: В таблице `books` обнаружили аномалию: книга с одним названием фигурирует под двумя разными идентификаторами. Однако в каждом из вариантов разное количество страниц. Даты издания и название издательства также отличаются. Оставили без изменения эти позиции.*\n"
      ]
    }
  ]
}