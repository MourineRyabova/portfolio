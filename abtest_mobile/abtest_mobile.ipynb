{
  "nbformat": 4,
  "nbformat_minor": 0,
  "metadata": {
    "colab": {
      "name": "Событийный анализ мобильного приложения accepted (сборный-2).ipynb",
      "provenance": []
    },
    "kernelspec": {
      "display_name": "Python 3",
      "language": "python",
      "name": "python3"
    },
    "language_info": {
      "codemirror_mode": {
        "name": "ipython",
        "version": 3
      },
      "file_extension": ".py",
      "mimetype": "text/x-python",
      "name": "python",
      "nbconvert_exporter": "python",
      "pygments_lexer": "ipython3",
      "version": "3.7.8"
    },
    "toc": {
      "base_numbering": 1,
      "nav_menu": {},
      "number_sections": true,
      "sideBar": true,
      "skip_h1_title": true,
      "title_cell": "Table of Contents",
      "title_sidebar": "Contents",
      "toc_cell": false,
      "toc_position": {},
      "toc_section_display": true,
      "toc_window_display": false
    }
  },
  "cells": [
    {
      "cell_type": "markdown",
      "metadata": {
        "id": "qDI_d1Ceb_cO"
      },
      "source": [
        "# Событийный анализ мобильного приложения"
      ]
    },
    {
      "cell_type": "markdown",
      "metadata": {
        "id": "Omddm98XcCgG"
      },
      "source": [
        "## Оглавление\n",
        "\n",
        "* [Цель проекта](#purpose)\n",
        "* [Исходные данные](#data)\n",
        "* [Предобработка данных](#preprocessing)\n",
        "* [Первичный анализ данных](#analysis)\n",
        "* [Воронка событий](#funnel)\n",
        "* [Результаты A/A/B-теста](#aabtest)\n",
        "  * [Проверка гипотезы об отсутствии различий в конверсии двух контрольных групп](#a1a2test)\n",
        "  * [Проверка гипотезы об отсутствии различий в конверсии между экспериментальной и каждой из контрольных групп](#a1a2btest)\n",
        "  * [Проверка гипотезы об отсутствии различий в конверсии между экспериментальной и объединённой контрольной группой](#abtest)\n",
        "* [Выводы](#conclusions)\n"
      ]
    },
    {
      "cell_type": "markdown",
      "metadata": {
        "id": "NKI996XqcFNV"
      },
      "source": [
        "## Цель проекта <a id=\"purpose\"></a>"
      ]
    },
    {
      "cell_type": "markdown",
      "metadata": {
        "id": "sxu2P8aEhJr7"
      },
      "source": [
        "В этом проекте мы анализируем эффективность продаж продуктов питания в мобильном приложении небольшого стартапа: смотрим воронку продаж, обрабатываем результаты A/A/B-тестирования по результатам эксперимента (замена шрифтов в приложении)."
      ]
    },
    {
      "cell_type": "markdown",
      "metadata": {
        "id": "pU7twTSscJpZ"
      },
      "source": [
        "## Исходные данные <a id=\"data\"></a>"
      ]
    },
    {
      "cell_type": "code",
      "metadata": {
        "colab": {
          "base_uri": "https://localhost:8080/"
        },
        "id": "jxfKAM5bLWCR",
        "outputId": "7aaf24e6-115a-48d1-cc34-04a2b10ef588"
      },
      "source": [
        "from google.colab import drive\n",
        "drive.mount('/content/drive')"
      ],
      "execution_count": 1,
      "outputs": [
        {
          "output_type": "stream",
          "name": "stdout",
          "text": [
            "Drive already mounted at /content/drive; to attempt to forcibly remount, call drive.mount(\"/content/drive\", force_remount=True).\n"
          ]
        }
      ]
    },
    {
      "cell_type": "code",
      "metadata": {
        "id": "5urCdx-KYXbS"
      },
      "source": [
        "import pandas as pd\n",
        "import matplotlib.pyplot as plt\n",
        "import numpy as np\n",
        "from scipy import stats as st\n",
        "import math as mth\n",
        "import seaborn as sns\n",
        "import plotly.express as px\n",
        "from plotly import graph_objects as go\n",
        "#import warnings \n",
        "#warnings.filterwarnings('ignore')"
      ],
      "execution_count": 2,
      "outputs": []
    },
    {
      "cell_type": "code",
      "metadata": {
        "colab": {
          "base_uri": "https://localhost:8080/",
          "height": 400
        },
        "id": "BYkYeevVY0lP",
        "outputId": "e5ce5d2b-8b98-43ae-c45f-ebee61f2e1a2"
      },
      "source": [
        "log_data = pd.read_csv('/content/drive/MyDrive/Colab Notebooks/logs_exp.csv', sep = '\\t')\n",
        "log_data.info()\n",
        "log_data.head()"
      ],
      "execution_count": 3,
      "outputs": [
        {
          "output_type": "stream",
          "name": "stdout",
          "text": [
            "<class 'pandas.core.frame.DataFrame'>\n",
            "RangeIndex: 244126 entries, 0 to 244125\n",
            "Data columns (total 4 columns):\n",
            " #   Column          Non-Null Count   Dtype \n",
            "---  ------          --------------   ----- \n",
            " 0   EventName       244126 non-null  object\n",
            " 1   DeviceIDHash    244126 non-null  int64 \n",
            " 2   EventTimestamp  244126 non-null  int64 \n",
            " 3   ExpId           244126 non-null  int64 \n",
            "dtypes: int64(3), object(1)\n",
            "memory usage: 7.5+ MB\n"
          ]
        },
        {
          "output_type": "execute_result",
          "data": {
            "text/html": [
              "<div>\n",
              "<style scoped>\n",
              "    .dataframe tbody tr th:only-of-type {\n",
              "        vertical-align: middle;\n",
              "    }\n",
              "\n",
              "    .dataframe tbody tr th {\n",
              "        vertical-align: top;\n",
              "    }\n",
              "\n",
              "    .dataframe thead th {\n",
              "        text-align: right;\n",
              "    }\n",
              "</style>\n",
              "<table border=\"1\" class=\"dataframe\">\n",
              "  <thead>\n",
              "    <tr style=\"text-align: right;\">\n",
              "      <th></th>\n",
              "      <th>EventName</th>\n",
              "      <th>DeviceIDHash</th>\n",
              "      <th>EventTimestamp</th>\n",
              "      <th>ExpId</th>\n",
              "    </tr>\n",
              "  </thead>\n",
              "  <tbody>\n",
              "    <tr>\n",
              "      <th>0</th>\n",
              "      <td>MainScreenAppear</td>\n",
              "      <td>4575588528974610257</td>\n",
              "      <td>1564029816</td>\n",
              "      <td>246</td>\n",
              "    </tr>\n",
              "    <tr>\n",
              "      <th>1</th>\n",
              "      <td>MainScreenAppear</td>\n",
              "      <td>7416695313311560658</td>\n",
              "      <td>1564053102</td>\n",
              "      <td>246</td>\n",
              "    </tr>\n",
              "    <tr>\n",
              "      <th>2</th>\n",
              "      <td>PaymentScreenSuccessful</td>\n",
              "      <td>3518123091307005509</td>\n",
              "      <td>1564054127</td>\n",
              "      <td>248</td>\n",
              "    </tr>\n",
              "    <tr>\n",
              "      <th>3</th>\n",
              "      <td>CartScreenAppear</td>\n",
              "      <td>3518123091307005509</td>\n",
              "      <td>1564054127</td>\n",
              "      <td>248</td>\n",
              "    </tr>\n",
              "    <tr>\n",
              "      <th>4</th>\n",
              "      <td>PaymentScreenSuccessful</td>\n",
              "      <td>6217807653094995999</td>\n",
              "      <td>1564055322</td>\n",
              "      <td>248</td>\n",
              "    </tr>\n",
              "  </tbody>\n",
              "</table>\n",
              "</div>"
            ],
            "text/plain": [
              "                 EventName         DeviceIDHash  EventTimestamp  ExpId\n",
              "0         MainScreenAppear  4575588528974610257      1564029816    246\n",
              "1         MainScreenAppear  7416695313311560658      1564053102    246\n",
              "2  PaymentScreenSuccessful  3518123091307005509      1564054127    248\n",
              "3         CartScreenAppear  3518123091307005509      1564054127    248\n",
              "4  PaymentScreenSuccessful  6217807653094995999      1564055322    248"
            ]
          },
          "metadata": {},
          "execution_count": 3
        }
      ]
    },
    {
      "cell_type": "markdown",
      "metadata": {
        "id": "BQudbz-cT-Uc"
      },
      "source": [
        "Файл с данными содержит список с названиями, временем событий, произошедших в приложении с каждым пользователем, а также идентификатор группы теста: 246 и 247 — контрольные группы, а 248 — экспериментальная."
      ]
    },
    {
      "cell_type": "markdown",
      "metadata": {
        "id": "cbrQjHlkVeI7"
      },
      "source": [
        "## Предобработка данных <a id=\"preprocessing\"></a>"
      ]
    },
    {
      "cell_type": "markdown",
      "metadata": {
        "id": "YT0DY2eoXWoW"
      },
      "source": [
        "Переименуем столбцы в соответствии со стандартом."
      ]
    },
    {
      "cell_type": "code",
      "metadata": {
        "id": "fYxUGD5YVgt8"
      },
      "source": [
        "log_data.columns = ['event_name', 'id', 'dt', 'exp_group']"
      ],
      "execution_count": 4,
      "outputs": []
    },
    {
      "cell_type": "markdown",
      "metadata": {
        "id": "onaHMAZVXmhp"
      },
      "source": [
        "Дата события в таблице указана в формате unix timestamp. Приведем ее к привычному виду."
      ]
    },
    {
      "cell_type": "code",
      "metadata": {
        "colab": {
          "base_uri": "https://localhost:8080/"
        },
        "id": "Ze5xeXzjX-VV",
        "outputId": "3e25b824-cd09-484a-be3c-339efca2c6ac"
      },
      "source": [
        "log_data['datetime'] = pd.to_datetime(log_data['dt'], unit = 's')\n",
        "log_data.info()"
      ],
      "execution_count": 5,
      "outputs": [
        {
          "output_type": "stream",
          "name": "stdout",
          "text": [
            "<class 'pandas.core.frame.DataFrame'>\n",
            "RangeIndex: 244126 entries, 0 to 244125\n",
            "Data columns (total 5 columns):\n",
            " #   Column      Non-Null Count   Dtype         \n",
            "---  ------      --------------   -----         \n",
            " 0   event_name  244126 non-null  object        \n",
            " 1   id          244126 non-null  int64         \n",
            " 2   dt          244126 non-null  int64         \n",
            " 3   exp_group   244126 non-null  int64         \n",
            " 4   datetime    244126 non-null  datetime64[ns]\n",
            "dtypes: datetime64[ns](1), int64(3), object(1)\n",
            "memory usage: 9.3+ MB\n"
          ]
        }
      ]
    },
    {
      "cell_type": "markdown",
      "metadata": {
        "id": "-sPUZcQ8ZiLv"
      },
      "source": [
        "Добавим столбец даты события."
      ]
    },
    {
      "cell_type": "code",
      "metadata": {
        "colab": {
          "base_uri": "https://localhost:8080/"
        },
        "id": "D22USbYrZsp8",
        "outputId": "b83997fa-f821-4809-ba69-805e80f44fcb"
      },
      "source": [
        "log_data['date'] = log_data['datetime'].dt.date\n",
        "log_data['date'].tail()"
      ],
      "execution_count": 6,
      "outputs": [
        {
          "output_type": "execute_result",
          "data": {
            "text/plain": [
              "244121    2019-08-07\n",
              "244122    2019-08-07\n",
              "244123    2019-08-07\n",
              "244124    2019-08-07\n",
              "244125    2019-08-07\n",
              "Name: date, dtype: object"
            ]
          },
          "metadata": {},
          "execution_count": 6
        }
      ]
    },
    {
      "cell_type": "markdown",
      "metadata": {
        "id": "UonifzhhXapP"
      },
      "source": [
        "Найдем и уберем дубликаты."
      ]
    },
    {
      "cell_type": "code",
      "metadata": {
        "colab": {
          "base_uri": "https://localhost:8080/"
        },
        "id": "Qd94bAONWa9G",
        "outputId": "a11e74dc-cce9-4b91-8fc5-5ed94f9d46c4"
      },
      "source": [
        "print('В таблице {} дублирующихся строк.'.format(log_data.duplicated().sum()))"
      ],
      "execution_count": 7,
      "outputs": [
        {
          "output_type": "stream",
          "name": "stdout",
          "text": [
            "В таблице 413 дублирующихся строк.\n"
          ]
        }
      ]
    },
    {
      "cell_type": "code",
      "metadata": {
        "colab": {
          "base_uri": "https://localhost:8080/"
        },
        "id": "dad8Bm5RWxxv",
        "outputId": "dd737098-df43-40d4-b726-40410e8aa7ee"
      },
      "source": [
        "log_data = log_data.drop_duplicates()\n",
        "print('После обработки в таблице осталось {} дублирующихся строк.'.format(log_data.duplicated().sum()))"
      ],
      "execution_count": 8,
      "outputs": [
        {
          "output_type": "stream",
          "name": "stdout",
          "text": [
            "После обработки в таблице осталось 0 дублирующихся строк.\n"
          ]
        }
      ]
    },
    {
      "cell_type": "markdown",
      "metadata": {
        "id": "ocvyw-oQZKD0"
      },
      "source": [
        "Проверим таблицу на пропуски."
      ]
    },
    {
      "cell_type": "code",
      "metadata": {
        "colab": {
          "base_uri": "https://localhost:8080/"
        },
        "id": "L8tjSBGUawfb",
        "outputId": "72cd7b9b-18c2-4747-e78a-6cbf4e1e5587"
      },
      "source": [
        "log_data.isna().sum()"
      ],
      "execution_count": 9,
      "outputs": [
        {
          "output_type": "execute_result",
          "data": {
            "text/plain": [
              "event_name    0\n",
              "id            0\n",
              "dt            0\n",
              "exp_group     0\n",
              "datetime      0\n",
              "date          0\n",
              "dtype: int64"
            ]
          },
          "metadata": {},
          "execution_count": 9
        }
      ]
    },
    {
      "cell_type": "markdown",
      "metadata": {
        "id": "hxzG-BO0bFx5"
      },
      "source": [
        "Пропусков в таблице нет, дубликаты удалены. Можно приступать к анализу данных."
      ]
    },
    {
      "cell_type": "markdown",
      "metadata": {
        "id": "-wNnBqb3bPQR"
      },
      "source": [
        "## Первичный анализ данных <a id=\"analysis\"></a>"
      ]
    },
    {
      "cell_type": "markdown",
      "metadata": {
        "id": "JXEwa4klbSYV"
      },
      "source": [
        "Определим количество событий, рассматриваемых в таблице, количество уникальных пользователей и среднее количество событий, приходящихся на одного пользователя."
      ]
    },
    {
      "cell_type": "code",
      "metadata": {
        "colab": {
          "base_uri": "https://localhost:8080/"
        },
        "id": "4evDSXXlcJRw",
        "outputId": "9f182468-cdda-43fb-a3be-bba836326feb"
      },
      "source": [
        "print('В логе {} типов событий.'.format(log_data['event_name'].nunique()))\n",
        "print('В логе зафиксирована активность {} пользователей.'.format(log_data['id'].nunique()))\n",
        "len(log_data['event_name']) / log_data['id'].nunique()\n",
        "print('В среднем один пользователь участвует в {:.0f} событиях.'.format(len(log_data) / log_data['id'].nunique()))"
      ],
      "execution_count": 10,
      "outputs": [
        {
          "output_type": "stream",
          "name": "stdout",
          "text": [
            "В логе 5 типов событий.\n",
            "В логе зафиксирована активность 7551 пользователей.\n",
            "В среднем один пользователь участвует в 32 событиях.\n"
          ]
        }
      ]
    },
    {
      "cell_type": "markdown",
      "metadata": {
        "id": "IL1hEY8ThLL_"
      },
      "source": [
        "Проверим, равномерно ли распределены события между пользователями."
      ]
    },
    {
      "cell_type": "code",
      "metadata": {
        "colab": {
          "base_uri": "https://localhost:8080/",
          "height": 455
        },
        "id": "I5BeldlOenqY",
        "outputId": "cb34d3b3-4c69-4a32-810a-6342438277d5"
      },
      "source": [
        "#Группируем события по каждому пользователю, выводим информацию по столбцу событий и строим распределение\n",
        "event_per_id = log_data.groupby('id').agg({'event_name':'count'}).reset_index()\n",
        "display(event_per_id['event_name'].describe())\n",
        "event_per_id['event_name'].hist(bins = 1000, color = '#1c1847')\n",
        "plt.title('Распределение количества событий на пользователя')\n",
        "plt.xlabel('Количество событий на пользователя')\n",
        "plt.ylabel('Частота случаев')\n",
        "plt.show()"
      ],
      "execution_count": 11,
      "outputs": [
        {
          "output_type": "display_data",
          "data": {
            "text/plain": [
              "count    7551.000000\n",
              "mean       32.275593\n",
              "std        65.154219\n",
              "min         1.000000\n",
              "25%         9.000000\n",
              "50%        20.000000\n",
              "75%        37.000000\n",
              "max      2307.000000\n",
              "Name: event_name, dtype: float64"
            ]
          },
          "metadata": {}
        },
        {
          "output_type": "display_data",
          "data": {
            "image/png": "[encoded data removed]",
            "text/plain": [
              "<Figure size 432x288 with 1 Axes>"
            ]
          },
          "metadata": {
            "needs_background": "light"
          }
        }
      ]
    },
    {
      "cell_type": "code",
      "metadata": {
        "colab": {
          "base_uri": "https://localhost:8080/"
        },
        "id": "IN9bRXCIkzoe",
        "outputId": "88dac38f-ce33-4558-82a8-3062387d8f18"
      },
      "source": [
        "#Посмотрим на количество событий для 90, 95, 99 перцентилей\n",
        "np.percentile(event_per_id['event_name'], [90, 95, 99])"
      ],
      "execution_count": 12,
      "outputs": [
        {
          "output_type": "execute_result",
          "data": {
            "text/plain": [
              "array([ 64. ,  89. , 200.5])"
            ]
          },
          "metadata": {},
          "execution_count": 12
        }
      ]
    },
    {
      "cell_type": "markdown",
      "metadata": {
        "id": "-48RR8TTkbyZ"
      },
      "source": [
        "Полученные данные показывают, что у распределения количества событий очень большой \"хвост\" вправо - есть аномально большие значения (максимум - 2307 событий на пользователя). Стандартное отклонение вдвое больше среднего значения, а медиана - в полтора раза меньше среднего.\n",
        "\n",
        "В 99% случаев количество событий на пользователя не превышает 200.\n"
      ]
    },
    {
      "cell_type": "code",
      "metadata": {
        "id": "WLnNzUyefT8F"
      },
      "source": [
        "#Не будем пока удалять выбросы, посмотрим, как данные будут вести себя при анализе\n",
        "\n",
        "#Формируем список id аномальных пользователей \n",
        "#abnormal_users_list = list(event_per_id.query('event_name > 1000')['id'])\n",
        "#print('Число пользователей с аномально большим количеством событий: ', event_per_id.query('event_name > 1000')['id'].nunique())\n",
        "#Проверка корректности формирования списка\n",
        "#abnormal_users_list[:5]\n",
        "#Фильтруем датасет по составленному списку\n",
        "#log_data_corr = log_data.query('id not in @abnormal_users_list')\n",
        "#log_data_corr.info()\n",
        "#print('В результате обработки исходный датасет уменьшился на {:.2%}.'.format(1 - len(log_data_corr) / len(log_data)))\n",
        "#print('Среднее количество событий на пользователя: {:.0f}'.format(event_per_id.query('event_name < 200')['event_name'].mean()))\n",
        "#print('Медианное количество событий на пользователя: {:.0f}'.format(event_per_id.query('event_name < 200')['event_name'].median()))\n",
        "#print('Самое распространенное количество (мода) событий на пользователя:',event_per_id.query('event_name < 200')['event_name'].mode()[0])"
      ],
      "execution_count": 13,
      "outputs": []
    },
    {
      "cell_type": "markdown",
      "metadata": {
        "id": "HCtpQ5T_uWFV"
      },
      "source": [
        "Сравним среднюю, моду и медиану количества событий на пользователя. "
      ]
    },
    {
      "cell_type": "code",
      "metadata": {
        "colab": {
          "base_uri": "https://localhost:8080/"
        },
        "id": "0Vb1awLYDFwQ",
        "outputId": "c7fc04bd-80d4-4cec-dd51-3d85109b6a7a"
      },
      "source": [
        "print('Среднее количество событий на пользователя: {:.0f}'.format(event_per_id['event_name'].mean()))\n",
        "print('Медианное количество событий на пользователя: {:.0f}'.format(event_per_id['event_name'].median()))\n",
        "print('Самое распространенное количество (мода) событий на пользователя:',event_per_id['event_name'].mode()[0])"
      ],
      "execution_count": 14,
      "outputs": [
        {
          "output_type": "stream",
          "name": "stdout",
          "text": [
            "Среднее количество событий на пользователя: 32\n",
            "Медианное количество событий на пользователя: 20\n",
            "Самое распространенное количество (мода) событий на пользователя: 5\n"
          ]
        }
      ]
    },
    {
      "cell_type": "markdown",
      "metadata": {
        "id": "v0WN3PTcERh5"
      },
      "source": [
        "Поскольку распределение больше похоже на экспоненциальное, лучше всего тенденцию среднего количества событий будет описывать мода. Она равна пяти, то есть средний пользователь проходит по цепочке событий один раз."
      ]
    },
    {
      "cell_type": "markdown",
      "metadata": {
        "id": "Mmca84nUE0mc"
      },
      "source": [
        "Определим период, за который выгружены логи."
      ]
    },
    {
      "cell_type": "code",
      "metadata": {
        "colab": {
          "base_uri": "https://localhost:8080/"
        },
        "id": "4YYihdT3E5R5",
        "outputId": "5d6a1046-ca42-4049-f23b-4d9f72a2e909"
      },
      "source": [
        "print('Лог содержит данные с {:%d-%m-%Y} по {:%d-%m-%Y}.'.format(log_data['date'].min(), log_data['date'].max()))\n"
      ],
      "execution_count": 15,
      "outputs": [
        {
          "output_type": "stream",
          "name": "stdout",
          "text": [
            "Лог содержит данные с 25-07-2019 по 07-08-2019.\n"
          ]
        }
      ]
    },
    {
      "cell_type": "markdown",
      "metadata": {
        "id": "tfJEAvcTFr54"
      },
      "source": [
        "Посмотрим на распределение количества событий во времени,чтобы подтвердить равномерность собранных данных."
      ]
    },
    {
      "cell_type": "code",
      "metadata": {
        "colab": {
          "base_uri": "https://localhost:8080/",
          "height": 333
        },
        "id": "3xSIyVCfFwYL",
        "outputId": "dc20794b-7eb6-4221-c4f3-b6aa5faf74c1"
      },
      "source": [
        "event_date = log_data.pivot_table(index = 'date', values = 'id', aggfunc = 'count').reset_index()\n",
        "sns.set_style(\"darkgrid\")\n",
        "sns.barplot(data = event_date, x = 'date', y = 'id', color = '#1c1847')\n",
        "plt.xticks(rotation = 45)\n",
        "plt.title('Количество событий по датам')\n",
        "plt.xlabel('Дата события')\n",
        "plt.ylabel('Количество событий')\n",
        "plt.show()"
      ],
      "execution_count": 16,
      "outputs": [
        {
          "output_type": "display_data",
          "data": {
            "image/png": "[encoded data removed]",
            "text/plain": [
              "<Figure size 432x288 with 1 Axes>"
            ]
          },
          "metadata": {}
        }
      ]
    },
    {
      "cell_type": "markdown",
      "metadata": {
        "id": "vver7ybpGt5J"
      },
      "source": [
        "Данные, полученные до 1.08.2019, неполные. Их нельзя использовать при анализе.\n",
        "\n",
        "Удалим их из исходного датасета."
      ]
    },
    {
      "cell_type": "code",
      "metadata": {
        "colab": {
          "base_uri": "https://localhost:8080/"
        },
        "id": "lYGGxaGEHABH",
        "outputId": "96e7a116-adcd-401e-d327-6f497ef56447"
      },
      "source": [
        "#Для корректной работы среза преобразуем формат столбца с датой\n",
        "log_data['date'] = log_data['date'].astype('datetime64')\n",
        "#Создаем список для фильтрации\n",
        "dates_list = [\"2019-08-01\", \"2019-08-02\", \"2019-08-03\", \"2019-08-04\", \"2019-08-05\", \"2019-08-06\", \"2019-08-07\"]\n",
        "log_data_new = log_data.query('date in @dates_list')\n",
        "print('Датасет уменьшился на {:.2%}.'.format(1 - len(log_data_new) / len(log_data)))"
      ],
      "execution_count": 17,
      "outputs": [
        {
          "output_type": "stream",
          "name": "stdout",
          "text": [
            "Датасет уменьшился на 1.16%.\n"
          ]
        }
      ]
    },
    {
      "cell_type": "code",
      "metadata": {
        "colab": {
          "base_uri": "https://localhost:8080/"
        },
        "id": "mvkERmpZRXTO",
        "outputId": "c2b2c75e-f945-46b4-c24b-4580ac21d15a"
      },
      "source": [
        "print('Количество уникальных пользователей уменьшилось на', log_data['id'].nunique() - log_data_new['id'].nunique())\n",
        "print('Количество событий уменьшилось на', len(log_data) - len(log_data_new))"
      ],
      "execution_count": 18,
      "outputs": [
        {
          "output_type": "stream",
          "name": "stdout",
          "text": [
            "Количество уникальных пользователей уменьшилось на 17\n",
            "Количество событий уменьшилось на 2826\n"
          ]
        }
      ]
    },
    {
      "cell_type": "code",
      "metadata": {
        "colab": {
          "base_uri": "https://localhost:8080/"
        },
        "id": "SGlKbNdONK64",
        "outputId": "704ddfaf-c881-4622-9859-39c0cbf17c8f"
      },
      "source": [
        "print('После обработки лог содержит данные с {:%d-%m-%Y} по {:%d-%m-%Y}.'.format(log_data_new['datetime'].min(), log_data_new['datetime'].max()))"
      ],
      "execution_count": 19,
      "outputs": [
        {
          "output_type": "stream",
          "name": "stdout",
          "text": [
            "После обработки лог содержит данные с 01-08-2019 по 07-08-2019.\n"
          ]
        }
      ]
    },
    {
      "cell_type": "markdown",
      "metadata": {
        "id": "56k_xF9MNFG8"
      },
      "source": [
        "Проверим, как распределены пользователи по группам эксперимента."
      ]
    },
    {
      "cell_type": "code",
      "metadata": {
        "colab": {
          "base_uri": "https://localhost:8080/",
          "height": 378
        },
        "id": "V3QJuOvLSLJl",
        "outputId": "dc08258a-2aae-45a8-b226-ddf7801fd7bf"
      },
      "source": [
        "group_pivot = log_data_new.pivot_table(index = 'exp_group', values = 'id', aggfunc = pd.Series.nunique).reset_index()\n",
        "group_pivot.columns = ['exp_group', 'users_number']\n",
        "group_pivot['deviation'] = group_pivot['users_number'] / group_pivot['users_number'].mean()\n",
        "display(group_pivot.style.format({'deviation': '{:.2%}'}))\n",
        "sns.set_style(\"darkgrid\")\n",
        "sns.barplot(data = group_pivot, x = 'exp_group', y = 'users_number', color = '#1c1847')\n",
        "plt.title('Количество пользователей в группах эксперимента')\n",
        "plt.xlabel('Группа')\n",
        "plt.ylabel('Количество пользователей')\n",
        "plt.show() "
      ],
      "execution_count": 20,
      "outputs": [
        {
          "output_type": "display_data",
          "data": {
            "text/html": [
              "<style  type=\"text/css\" >\n",
              "</style><table id=\"T_4a85112e_14b7_11ec_81da_0242ac1c0002\" ><thead>    <tr>        <th class=\"blank level0\" ></th>        <th class=\"col_heading level0 col0\" >exp_group</th>        <th class=\"col_heading level0 col1\" >users_number</th>        <th class=\"col_heading level0 col2\" >deviation</th>    </tr></thead><tbody>\n",
              "                <tr>\n",
              "                        <th id=\"T_4a85112e_14b7_11ec_81da_0242ac1c0002level0_row0\" class=\"row_heading level0 row0\" >0</th>\n",
              "                        <td id=\"T_4a85112e_14b7_11ec_81da_0242ac1c0002row0_col0\" class=\"data row0 col0\" >246</td>\n",
              "                        <td id=\"T_4a85112e_14b7_11ec_81da_0242ac1c0002row0_col1\" class=\"data row0 col1\" >2484</td>\n",
              "                        <td id=\"T_4a85112e_14b7_11ec_81da_0242ac1c0002row0_col2\" class=\"data row0 col2\" >98.91%</td>\n",
              "            </tr>\n",
              "            <tr>\n",
              "                        <th id=\"T_4a85112e_14b7_11ec_81da_0242ac1c0002level0_row1\" class=\"row_heading level0 row1\" >1</th>\n",
              "                        <td id=\"T_4a85112e_14b7_11ec_81da_0242ac1c0002row1_col0\" class=\"data row1 col0\" >247</td>\n",
              "                        <td id=\"T_4a85112e_14b7_11ec_81da_0242ac1c0002row1_col1\" class=\"data row1 col1\" >2513</td>\n",
              "                        <td id=\"T_4a85112e_14b7_11ec_81da_0242ac1c0002row1_col2\" class=\"data row1 col2\" >100.07%</td>\n",
              "            </tr>\n",
              "            <tr>\n",
              "                        <th id=\"T_4a85112e_14b7_11ec_81da_0242ac1c0002level0_row2\" class=\"row_heading level0 row2\" >2</th>\n",
              "                        <td id=\"T_4a85112e_14b7_11ec_81da_0242ac1c0002row2_col0\" class=\"data row2 col0\" >248</td>\n",
              "                        <td id=\"T_4a85112e_14b7_11ec_81da_0242ac1c0002row2_col1\" class=\"data row2 col1\" >2537</td>\n",
              "                        <td id=\"T_4a85112e_14b7_11ec_81da_0242ac1c0002row2_col2\" class=\"data row2 col2\" >101.02%</td>\n",
              "            </tr>\n",
              "    </tbody></table>"
            ],
            "text/plain": [
              "<pandas.io.formats.style.Styler at 0x7f8be9573750>"
            ]
          },
          "metadata": {}
        },
        {
          "output_type": "display_data",
          "data": {
            "image/png": "[encoded data removed]",
            "text/plain": [
              "<Figure size 432x288 with 1 Axes>"
            ]
          },
          "metadata": {}
        }
      ]
    },
    {
      "cell_type": "markdown",
      "metadata": {
        "id": "MUv7lElHWvxk"
      },
      "source": [
        "Отклонение количества пользователей от среднего по трем группам составляет около 1%. На большом размере выборки это допустимо."
      ]
    },
    {
      "cell_type": "markdown",
      "metadata": {
        "id": "wJKGJz__g72r"
      },
      "source": [
        "## Воронка событий <a id=\"funnel\"></a>"
      ]
    },
    {
      "cell_type": "markdown",
      "metadata": {
        "id": "ziMcie4ThAYx"
      },
      "source": [
        "Посмотрим, в каком порядке идут события, и построим воронку."
      ]
    },
    {
      "cell_type": "code",
      "metadata": {
        "colab": {
          "base_uri": "https://localhost:8080/",
          "height": 204
        },
        "id": "Rz9-SHuPh1xF",
        "outputId": "91b87c79-d498-4e79-f695-c5403317add5"
      },
      "source": [
        "log_data_new_funnel = log_data_new.pivot_table(index = 'event_name', values = 'id', aggfunc = 'count').reset_index().sort_values(by = 'id', ascending = False)\n",
        "log_data_new_funnel"
      ],
      "execution_count": 21,
      "outputs": [
        {
          "output_type": "execute_result",
          "data": {
            "text/html": [
              "<div>\n",
              "<style scoped>\n",
              "    .dataframe tbody tr th:only-of-type {\n",
              "        vertical-align: middle;\n",
              "    }\n",
              "\n",
              "    .dataframe tbody tr th {\n",
              "        vertical-align: top;\n",
              "    }\n",
              "\n",
              "    .dataframe thead th {\n",
              "        text-align: right;\n",
              "    }\n",
              "</style>\n",
              "<table border=\"1\" class=\"dataframe\">\n",
              "  <thead>\n",
              "    <tr style=\"text-align: right;\">\n",
              "      <th></th>\n",
              "      <th>event_name</th>\n",
              "      <th>id</th>\n",
              "    </tr>\n",
              "  </thead>\n",
              "  <tbody>\n",
              "    <tr>\n",
              "      <th>1</th>\n",
              "      <td>MainScreenAppear</td>\n",
              "      <td>117328</td>\n",
              "    </tr>\n",
              "    <tr>\n",
              "      <th>2</th>\n",
              "      <td>OffersScreenAppear</td>\n",
              "      <td>46333</td>\n",
              "    </tr>\n",
              "    <tr>\n",
              "      <th>0</th>\n",
              "      <td>CartScreenAppear</td>\n",
              "      <td>42303</td>\n",
              "    </tr>\n",
              "    <tr>\n",
              "      <th>3</th>\n",
              "      <td>PaymentScreenSuccessful</td>\n",
              "      <td>33918</td>\n",
              "    </tr>\n",
              "    <tr>\n",
              "      <th>4</th>\n",
              "      <td>Tutorial</td>\n",
              "      <td>1005</td>\n",
              "    </tr>\n",
              "  </tbody>\n",
              "</table>\n",
              "</div>"
            ],
            "text/plain": [
              "                event_name      id\n",
              "1         MainScreenAppear  117328\n",
              "2       OffersScreenAppear   46333\n",
              "0         CartScreenAppear   42303\n",
              "3  PaymentScreenSuccessful   33918\n",
              "4                 Tutorial    1005"
            ]
          },
          "metadata": {},
          "execution_count": 21
        }
      ]
    },
    {
      "cell_type": "markdown",
      "metadata": {
        "id": "ClEovpJRmkCJ"
      },
      "source": [
        "События в таблице идут в таком порядке по убыванию количества просмотров: \n",
        "1. Просмотр главного экрана\n",
        "2. Просмотр экрана с предложениями\n",
        "3. Переход в корзину\n",
        "4. Просмотр экрана успешной оплаты\n",
        "5. Чтение руководства\n",
        "\n",
        "Последний пункт не является частью цепочки. При построении воронки его учитывать не нужно."
      ]
    },
    {
      "cell_type": "code",
      "metadata": {
        "colab": {
          "base_uri": "https://localhost:8080/",
          "height": 542
        },
        "id": "hDAYHY_0hZUm",
        "outputId": "cb98088b-ffd0-4503-9f5d-b6ec706b15cc"
      },
      "source": [
        "log_data_new_funnel_corr = log_data_new_funnel.query('event_name != \"Tutorial\"')\n",
        "fig = go.Figure(go.Funnel(y=log_data_new_funnel_corr['event_name'], x = log_data_new_funnel_corr['id'], marker = {\"color\": \"#1c1847\"}), layout_title_text='Воронка событий по частоте')\n",
        "fig.show()\n"
      ],
      "execution_count": 22,
      "outputs": [
        {
          "output_type": "display_data",
          "data": {
            "text/html": [
              "<html>\n",
              "<head><meta charset=\"utf-8\" /></head>\n",
              "<body>\n",
              "    <div>\n",
              "            <script src=\"https://cdnjs.cloudflare.com/ajax/libs/mathjax/2.7.5/MathJax.js?config=TeX-AMS-MML_SVG\"></script><script type=\"text/javascript\">if (window.MathJax) {MathJax.Hub.Config({SVG: {font: \"STIX-Web\"}});}</script>\n",
              "                <script type=\"text/javascript\">window.PlotlyConfig = {MathJaxConfig: 'local'};</script>\n",
              "        <script src=\"https://cdn.plot.ly/plotly-latest.min.js\"></script>    \n",
              "            <div id=\"9f615cdb-b113-43c7-83b3-a145e2509c98\" class=\"plotly-graph-div\" style=\"height:525px; width:100%;\"></div>\n",
              "            <script type=\"text/javascript\">\n",
              "                \n",
              "                    window.PLOTLYENV=window.PLOTLYENV || {};\n",
              "                    \n",
              "                if (document.getElementById(\"9f615cdb-b113-43c7-83b3-a145e2509c98\")) {\n",
              "                    Plotly.newPlot(\n",
              "                        '9f615cdb-b113-43c7-83b3-a145e2509c98',\n",
              "                        [{\"marker\": {\"color\": \"#1c1847\"}, \"type\": \"funnel\", \"x\": [117328, 46333, 42303, 33918], \"y\": [\"MainScreenAppear\", \"OffersScreenAppear\", \"CartScreenAppear\", \"PaymentScreenSuccessful\"]}],\n",
              "                        {\"template\": {\"data\": {\"bar\": [{\"error_x\": {\"color\": \"#2a3f5f\"}, \"error_y\": {\"color\": \"#2a3f5f\"}, \"marker\": {\"line\": {\"color\": \"#E5ECF6\", \"width\": 0.5}}, \"type\": \"bar\"}], \"barpolar\": [{\"marker\": {\"line\": {\"color\": \"#E5ECF6\", \"width\": 0.5}}, \"type\": \"barpolar\"}], \"carpet\": [{\"aaxis\": {\"endlinecolor\": \"#2a3f5f\", \"gridcolor\": \"white\", \"linecolor\": \"white\", \"minorgridcolor\": \"white\", \"startlinecolor\": \"#2a3f5f\"}, \"baxis\": {\"endlinecolor\": \"#2a3f5f\", \"gridcolor\": \"white\", \"linecolor\": \"white\", \"minorgridcolor\": \"white\", \"startlinecolor\": \"#2a3f5f\"}, \"type\": \"carpet\"}], \"choropleth\": [{\"colorbar\": {\"outlinewidth\": 0, \"ticks\": \"\"}, \"type\": \"choropleth\"}], \"contour\": [{\"colorbar\": {\"outlinewidth\": 0, \"ticks\": \"\"}, \"colorscale\": [[0.0, \"#0d0887\"], [0.1111111111111111, \"#46039f\"], [0.2222222222222222, \"#7201a8\"], [0.3333333333333333, \"#9c179e\"], [0.4444444444444444, \"#bd3786\"], [0.5555555555555556, \"#d8576b\"], [0.6666666666666666, \"#ed7953\"], [0.7777777777777778, \"#fb9f3a\"], [0.8888888888888888, \"#fdca26\"], [1.0, \"#f0f921\"]], \"type\": \"contour\"}], \"contourcarpet\": [{\"colorbar\": {\"outlinewidth\": 0, \"ticks\": \"\"}, \"type\": \"contourcarpet\"}], \"heatmap\": [{\"colorbar\": {\"outlinewidth\": 0, \"ticks\": \"\"}, \"colorscale\": [[0.0, \"#0d0887\"], [0.1111111111111111, \"#46039f\"], [0.2222222222222222, \"#7201a8\"], [0.3333333333333333, \"#9c179e\"], [0.4444444444444444, \"#bd3786\"], [0.5555555555555556, \"#d8576b\"], [0.6666666666666666, \"#ed7953\"], [0.7777777777777778, \"#fb9f3a\"], [0.8888888888888888, \"#fdca26\"], [1.0, \"#f0f921\"]], \"type\": \"heatmap\"}], \"heatmapgl\": [{\"colorbar\": {\"outlinewidth\": 0, \"ticks\": \"\"}, \"colorscale\": [[0.0, \"#0d0887\"], [0.1111111111111111, \"#46039f\"], [0.2222222222222222, \"#7201a8\"], [0.3333333333333333, \"#9c179e\"], [0.4444444444444444, \"#bd3786\"], [0.5555555555555556, \"#d8576b\"], [0.6666666666666666, \"#ed7953\"], [0.7777777777777778, \"#fb9f3a\"], [0.8888888888888888, \"#fdca26\"], [1.0, \"#f0f921\"]], \"type\": \"heatmapgl\"}], \"histogram\": [{\"marker\": {\"colorbar\": {\"outlinewidth\": 0, \"ticks\": \"\"}}, \"type\": \"histogram\"}], \"histogram2d\": [{\"colorbar\": {\"outlinewidth\": 0, \"ticks\": \"\"}, \"colorscale\": [[0.0, \"#0d0887\"], [0.1111111111111111, \"#46039f\"], [0.2222222222222222, \"#7201a8\"], [0.3333333333333333, \"#9c179e\"], [0.4444444444444444, \"#bd3786\"], [0.5555555555555556, \"#d8576b\"], [0.6666666666666666, \"#ed7953\"], [0.7777777777777778, \"#fb9f3a\"], [0.8888888888888888, \"#fdca26\"], [1.0, \"#f0f921\"]], \"type\": \"histogram2d\"}], \"histogram2dcontour\": [{\"colorbar\": {\"outlinewidth\": 0, \"ticks\": \"\"}, \"colorscale\": [[0.0, \"#0d0887\"], [0.1111111111111111, \"#46039f\"], [0.2222222222222222, \"#7201a8\"], [0.3333333333333333, \"#9c179e\"], [0.4444444444444444, \"#bd3786\"], [0.5555555555555556, \"#d8576b\"], [0.6666666666666666, \"#ed7953\"], [0.7777777777777778, \"#fb9f3a\"], [0.8888888888888888, \"#fdca26\"], [1.0, \"#f0f921\"]], \"type\": \"histogram2dcontour\"}], \"mesh3d\": [{\"colorbar\": {\"outlinewidth\": 0, \"ticks\": \"\"}, \"type\": \"mesh3d\"}], \"parcoords\": [{\"line\": {\"colorbar\": {\"outlinewidth\": 0, \"ticks\": \"\"}}, \"type\": \"parcoords\"}], \"pie\": [{\"automargin\": true, \"type\": \"pie\"}], \"scatter\": [{\"marker\": {\"colorbar\": {\"outlinewidth\": 0, \"ticks\": \"\"}}, \"type\": \"scatter\"}], \"scatter3d\": [{\"line\": {\"colorbar\": {\"outlinewidth\": 0, \"ticks\": \"\"}}, \"marker\": {\"colorbar\": {\"outlinewidth\": 0, \"ticks\": \"\"}}, \"type\": \"scatter3d\"}], \"scattercarpet\": [{\"marker\": {\"colorbar\": {\"outlinewidth\": 0, \"ticks\": \"\"}}, \"type\": \"scattercarpet\"}], \"scattergeo\": [{\"marker\": {\"colorbar\": {\"outlinewidth\": 0, \"ticks\": \"\"}}, \"type\": \"scattergeo\"}], \"scattergl\": [{\"marker\": {\"colorbar\": {\"outlinewidth\": 0, \"ticks\": \"\"}}, \"type\": \"scattergl\"}], \"scattermapbox\": [{\"marker\": {\"colorbar\": {\"outlinewidth\": 0, \"ticks\": \"\"}}, \"type\": \"scattermapbox\"}], \"scatterpolar\": [{\"marker\": {\"colorbar\": {\"outlinewidth\": 0, \"ticks\": \"\"}}, \"type\": \"scatterpolar\"}], \"scatterpolargl\": [{\"marker\": {\"colorbar\": {\"outlinewidth\": 0, \"ticks\": \"\"}}, \"type\": \"scatterpolargl\"}], \"scatterternary\": [{\"marker\": {\"colorbar\": {\"outlinewidth\": 0, \"ticks\": \"\"}}, \"type\": \"scatterternary\"}], \"surface\": [{\"colorbar\": {\"outlinewidth\": 0, \"ticks\": \"\"}, \"colorscale\": [[0.0, \"#0d0887\"], [0.1111111111111111, \"#46039f\"], [0.2222222222222222, \"#7201a8\"], [0.3333333333333333, \"#9c179e\"], [0.4444444444444444, \"#bd3786\"], [0.5555555555555556, \"#d8576b\"], [0.6666666666666666, \"#ed7953\"], [0.7777777777777778, \"#fb9f3a\"], [0.8888888888888888, \"#fdca26\"], [1.0, \"#f0f921\"]], \"type\": \"surface\"}], \"table\": [{\"cells\": {\"fill\": {\"color\": \"#EBF0F8\"}, \"line\": {\"color\": \"white\"}}, \"header\": {\"fill\": {\"color\": \"#C8D4E3\"}, \"line\": {\"color\": \"white\"}}, \"type\": \"table\"}]}, \"layout\": {\"annotationdefaults\": {\"arrowcolor\": \"#2a3f5f\", \"arrowhead\": 0, \"arrowwidth\": 1}, \"coloraxis\": {\"colorbar\": {\"outlinewidth\": 0, \"ticks\": \"\"}}, \"colorscale\": {\"diverging\": [[0, \"#8e0152\"], [0.1, \"#c51b7d\"], [0.2, \"#de77ae\"], [0.3, \"#f1b6da\"], [0.4, \"#fde0ef\"], [0.5, \"#f7f7f7\"], [0.6, \"#e6f5d0\"], [0.7, \"#b8e186\"], [0.8, \"#7fbc41\"], [0.9, \"#4d9221\"], [1, \"#276419\"]], \"sequential\": [[0.0, \"#0d0887\"], [0.1111111111111111, \"#46039f\"], [0.2222222222222222, \"#7201a8\"], [0.3333333333333333, \"#9c179e\"], [0.4444444444444444, \"#bd3786\"], [0.5555555555555556, \"#d8576b\"], [0.6666666666666666, \"#ed7953\"], [0.7777777777777778, \"#fb9f3a\"], [0.8888888888888888, \"#fdca26\"], [1.0, \"#f0f921\"]], \"sequentialminus\": [[0.0, \"#0d0887\"], [0.1111111111111111, \"#46039f\"], [0.2222222222222222, \"#7201a8\"], [0.3333333333333333, \"#9c179e\"], [0.4444444444444444, \"#bd3786\"], [0.5555555555555556, \"#d8576b\"], [0.6666666666666666, \"#ed7953\"], [0.7777777777777778, \"#fb9f3a\"], [0.8888888888888888, \"#fdca26\"], [1.0, \"#f0f921\"]]}, \"colorway\": [\"#636efa\", \"#EF553B\", \"#00cc96\", \"#ab63fa\", \"#FFA15A\", \"#19d3f3\", \"#FF6692\", \"#B6E880\", \"#FF97FF\", \"#FECB52\"], \"font\": {\"color\": \"#2a3f5f\"}, \"geo\": {\"bgcolor\": \"white\", \"lakecolor\": \"white\", \"landcolor\": \"#E5ECF6\", \"showlakes\": true, \"showland\": true, \"subunitcolor\": \"white\"}, \"hoverlabel\": {\"align\": \"left\"}, \"hovermode\": \"closest\", \"mapbox\": {\"style\": \"light\"}, \"paper_bgcolor\": \"white\", \"plot_bgcolor\": \"#E5ECF6\", \"polar\": {\"angularaxis\": {\"gridcolor\": \"white\", \"linecolor\": \"white\", \"ticks\": \"\"}, \"bgcolor\": \"#E5ECF6\", \"radialaxis\": {\"gridcolor\": \"white\", \"linecolor\": \"white\", \"ticks\": \"\"}}, \"scene\": {\"xaxis\": {\"backgroundcolor\": \"#E5ECF6\", \"gridcolor\": \"white\", \"gridwidth\": 2, \"linecolor\": \"white\", \"showbackground\": true, \"ticks\": \"\", \"zerolinecolor\": \"white\"}, \"yaxis\": {\"backgroundcolor\": \"#E5ECF6\", \"gridcolor\": \"white\", \"gridwidth\": 2, \"linecolor\": \"white\", \"showbackground\": true, \"ticks\": \"\", \"zerolinecolor\": \"white\"}, \"zaxis\": {\"backgroundcolor\": \"#E5ECF6\", \"gridcolor\": \"white\", \"gridwidth\": 2, \"linecolor\": \"white\", \"showbackground\": true, \"ticks\": \"\", \"zerolinecolor\": \"white\"}}, \"shapedefaults\": {\"line\": {\"color\": \"#2a3f5f\"}}, \"ternary\": {\"aaxis\": {\"gridcolor\": \"white\", \"linecolor\": \"white\", \"ticks\": \"\"}, \"baxis\": {\"gridcolor\": \"white\", \"linecolor\": \"white\", \"ticks\": \"\"}, \"bgcolor\": \"#E5ECF6\", \"caxis\": {\"gridcolor\": \"white\", \"linecolor\": \"white\", \"ticks\": \"\"}}, \"title\": {\"x\": 0.05}, \"xaxis\": {\"automargin\": true, \"gridcolor\": \"white\", \"linecolor\": \"white\", \"ticks\": \"\", \"title\": {\"standoff\": 15}, \"zerolinecolor\": \"white\", \"zerolinewidth\": 2}, \"yaxis\": {\"automargin\": true, \"gridcolor\": \"white\", \"linecolor\": \"white\", \"ticks\": \"\", \"title\": {\"standoff\": 15}, \"zerolinecolor\": \"white\", \"zerolinewidth\": 2}}}, \"title\": {\"text\": \"\\u0412\\u043e\\u0440\\u043e\\u043d\\u043a\\u0430 \\u0441\\u043e\\u0431\\u044b\\u0442\\u0438\\u0439 \\u043f\\u043e \\u0447\\u0430\\u0441\\u0442\\u043e\\u0442\\u0435\"}},\n",
              "                        {\"responsive\": true}\n",
              "                    ).then(function(){\n",
              "                            \n",
              "var gd = document.getElementById('9f615cdb-b113-43c7-83b3-a145e2509c98');\n",
              "var x = new MutationObserver(function (mutations, observer) {{\n",
              "        var display = window.getComputedStyle(gd).display;\n",
              "        if (!display || display === 'none') {{\n",
              "            console.log([gd, 'removed!']);\n",
              "            Plotly.purge(gd);\n",
              "            observer.disconnect();\n",
              "        }}\n",
              "}});\n",
              "\n",
              "// Listen for the removal of the full notebook cells\n",
              "var notebookContainer = gd.closest('#notebook-container');\n",
              "if (notebookContainer) {{\n",
              "    x.observe(notebookContainer, {childList: true});\n",
              "}}\n",
              "\n",
              "// Listen for the clearing of the current output cell\n",
              "var outputEl = gd.closest('.output');\n",
              "if (outputEl) {{\n",
              "    x.observe(outputEl, {childList: true});\n",
              "}}\n",
              "\n",
              "                        })\n",
              "                };\n",
              "                \n",
              "            </script>\n",
              "        </div>\n",
              "</body>\n",
              "</html>"
            ]
          },
          "metadata": {}
        }
      ]
    },
    {
      "cell_type": "markdown",
      "metadata": {
        "id": "bAFc4sqql784"
      },
      "source": [
        "Построим еще одну воронку - по количеству пользователей, которые проходили эти этапы."
      ]
    },
    {
      "cell_type": "code",
      "metadata": {
        "colab": {
          "base_uri": "https://localhost:8080/"
        },
        "id": "9-C3vOQhmS_M",
        "outputId": "0d5f2647-5296-4a24-995a-e7d54dc09c57"
      },
      "source": [
        "print('Всего пользователей участвовало в эксперименте:', log_data_new['id'].nunique())"
      ],
      "execution_count": 23,
      "outputs": [
        {
          "output_type": "stream",
          "name": "stdout",
          "text": [
            "Всего пользователей участвовало в эксперименте: 7534\n"
          ]
        }
      ]
    },
    {
      "cell_type": "code",
      "metadata": {
        "colab": {
          "base_uri": "https://localhost:8080/",
          "height": 141
        },
        "id": "Vqj294kpvHY5",
        "outputId": "0306ee26-f05f-4ac4-cb75-f3244dd7d195"
      },
      "source": [
        "#Сводная таблица количества пользователей по каждому этапу, кроме этапа 'Tutorial', не входящего в цепочку\n",
        "log_data_new_funnel_2 = log_data_new.query('event_name != \"Tutorial\"').pivot_table(index = 'event_name', values = 'id', aggfunc = pd.Series.nunique).reset_index()\n",
        "#Добавляем событие - открытие приложения, чтобы видеть в воронке общее количество пользователей\n",
        "log_data_new_funnel_2 = log_data_new_funnel_2.append({'event_name': 'ApplicationEnter', 'id':  log_data_new['id'].nunique()}, ignore_index=True).sort_values(by = 'id', ascending = False)\n",
        "#Конверсия по отношению к общему количеству пользователей приложения\n",
        "log_data_new_funnel_2['%_users'] = log_data_new_funnel_2['id']/log_data_new['id'].nunique()\n",
        "display(log_data_new_funnel_2.style.format({'%_users':'{:.2%}'}))"
      ],
      "execution_count": 24,
      "outputs": [
        {
          "output_type": "display_data",
          "data": {
            "text/html": [
              "<style  type=\"text/css\" >\n",
              "</style><table id=\"T_4b85d54a_14b7_11ec_81da_0242ac1c0002\" ><thead>    <tr>        <th class=\"blank level0\" ></th>        <th class=\"col_heading level0 col0\" >event_name</th>        <th class=\"col_heading level0 col1\" >id</th>        <th class=\"col_heading level0 col2\" >%_users</th>    </tr></thead><tbody>\n",
              "                <tr>\n",
              "                        <th id=\"T_4b85d54a_14b7_11ec_81da_0242ac1c0002level0_row0\" class=\"row_heading level0 row0\" >4</th>\n",
              "                        <td id=\"T_4b85d54a_14b7_11ec_81da_0242ac1c0002row0_col0\" class=\"data row0 col0\" >ApplicationEnter</td>\n",
              "                        <td id=\"T_4b85d54a_14b7_11ec_81da_0242ac1c0002row0_col1\" class=\"data row0 col1\" >7534</td>\n",
              "                        <td id=\"T_4b85d54a_14b7_11ec_81da_0242ac1c0002row0_col2\" class=\"data row0 col2\" >100.00%</td>\n",
              "            </tr>\n",
              "            <tr>\n",
              "                        <th id=\"T_4b85d54a_14b7_11ec_81da_0242ac1c0002level0_row1\" class=\"row_heading level0 row1\" >1</th>\n",
              "                        <td id=\"T_4b85d54a_14b7_11ec_81da_0242ac1c0002row1_col0\" class=\"data row1 col0\" >MainScreenAppear</td>\n",
              "                        <td id=\"T_4b85d54a_14b7_11ec_81da_0242ac1c0002row1_col1\" class=\"data row1 col1\" >7419</td>\n",
              "                        <td id=\"T_4b85d54a_14b7_11ec_81da_0242ac1c0002row1_col2\" class=\"data row1 col2\" >98.47%</td>\n",
              "            </tr>\n",
              "            <tr>\n",
              "                        <th id=\"T_4b85d54a_14b7_11ec_81da_0242ac1c0002level0_row2\" class=\"row_heading level0 row2\" >2</th>\n",
              "                        <td id=\"T_4b85d54a_14b7_11ec_81da_0242ac1c0002row2_col0\" class=\"data row2 col0\" >OffersScreenAppear</td>\n",
              "                        <td id=\"T_4b85d54a_14b7_11ec_81da_0242ac1c0002row2_col1\" class=\"data row2 col1\" >4593</td>\n",
              "                        <td id=\"T_4b85d54a_14b7_11ec_81da_0242ac1c0002row2_col2\" class=\"data row2 col2\" >60.96%</td>\n",
              "            </tr>\n",
              "            <tr>\n",
              "                        <th id=\"T_4b85d54a_14b7_11ec_81da_0242ac1c0002level0_row3\" class=\"row_heading level0 row3\" >0</th>\n",
              "                        <td id=\"T_4b85d54a_14b7_11ec_81da_0242ac1c0002row3_col0\" class=\"data row3 col0\" >CartScreenAppear</td>\n",
              "                        <td id=\"T_4b85d54a_14b7_11ec_81da_0242ac1c0002row3_col1\" class=\"data row3 col1\" >3734</td>\n",
              "                        <td id=\"T_4b85d54a_14b7_11ec_81da_0242ac1c0002row3_col2\" class=\"data row3 col2\" >49.56%</td>\n",
              "            </tr>\n",
              "            <tr>\n",
              "                        <th id=\"T_4b85d54a_14b7_11ec_81da_0242ac1c0002level0_row4\" class=\"row_heading level0 row4\" >3</th>\n",
              "                        <td id=\"T_4b85d54a_14b7_11ec_81da_0242ac1c0002row4_col0\" class=\"data row4 col0\" >PaymentScreenSuccessful</td>\n",
              "                        <td id=\"T_4b85d54a_14b7_11ec_81da_0242ac1c0002row4_col1\" class=\"data row4 col1\" >3539</td>\n",
              "                        <td id=\"T_4b85d54a_14b7_11ec_81da_0242ac1c0002row4_col2\" class=\"data row4 col2\" >46.97%</td>\n",
              "            </tr>\n",
              "    </tbody></table>"
            ],
            "text/plain": [
              "<pandas.io.formats.style.Styler at 0x7f8be77c4590>"
            ]
          },
          "metadata": {}
        }
      ]
    },
    {
      "cell_type": "markdown",
      "metadata": {
        "id": "D01VZ9nDqhvT"
      },
      "source": [
        "Обращает на себя внимание тот факт, что на первый этап (просмотр главного экрана) вышли не все пользователи приложения. \n",
        "\n",
        "Возможно, это связано с алгоритмом работы контекстной рекламы, например, в соцсетях, где пользователю предлагается сразу ссылка на конкретный товар.\n",
        "\n",
        "Еще один вариант объяснения - приложение было запущено до рассматриваемого периода."
      ]
    },
    {
      "cell_type": "code",
      "metadata": {
        "colab": {
          "base_uri": "https://localhost:8080/",
          "height": 542
        },
        "id": "rTSHGUS7vyOl",
        "outputId": "8a0d1eed-524a-4298-e481-263a5c70a593"
      },
      "source": [
        "fig = go.Figure(go.Funnel(y=log_data_new_funnel_2['event_name'], x = log_data_new_funnel_2['id'],     textposition = 'inside',\n",
        "    textinfo = 'value+percent previous',\n",
        "    marker = {'color': '#1c1847'}), layout_title_text='Воронка событий по количеству пользователей')\n",
        "fig.show()"
      ],
      "execution_count": 25,
      "outputs": [
        {
          "output_type": "display_data",
          "data": {
            "text/html": [
              "<html>\n",
              "<head><meta charset=\"utf-8\" /></head>\n",
              "<body>\n",
              "    <div>\n",
              "            <script src=\"https://cdnjs.cloudflare.com/ajax/libs/mathjax/2.7.5/MathJax.js?config=TeX-AMS-MML_SVG\"></script><script type=\"text/javascript\">if (window.MathJax) {MathJax.Hub.Config({SVG: {font: \"STIX-Web\"}});}</script>\n",
              "                <script type=\"text/javascript\">window.PlotlyConfig = {MathJaxConfig: 'local'};</script>\n",
              "        <script src=\"https://cdn.plot.ly/plotly-latest.min.js\"></script>    \n",
              "            <div id=\"5de30330-af53-464d-98d2-47f31fb033af\" class=\"plotly-graph-div\" style=\"height:525px; width:100%;\"></div>\n",
              "            <script type=\"text/javascript\">\n",
              "                \n",
              "                    window.PLOTLYENV=window.PLOTLYENV || {};\n",
              "                    \n",
              "                if (document.getElementById(\"5de30330-af53-464d-98d2-47f31fb033af\")) {\n",
              "                    Plotly.newPlot(\n",
              "                        '5de30330-af53-464d-98d2-47f31fb033af',\n",
              "                        [{\"marker\": {\"color\": \"#1c1847\"}, \"textinfo\": \"value+percent previous\", \"textposition\": \"inside\", \"type\": \"funnel\", \"x\": [7534, 7419, 4593, 3734, 3539], \"y\": [\"ApplicationEnter\", \"MainScreenAppear\", \"OffersScreenAppear\", \"CartScreenAppear\", \"PaymentScreenSuccessful\"]}],\n",
              "                        {\"template\": {\"data\": {\"bar\": [{\"error_x\": {\"color\": \"#2a3f5f\"}, \"error_y\": {\"color\": \"#2a3f5f\"}, \"marker\": {\"line\": {\"color\": \"#E5ECF6\", \"width\": 0.5}}, \"type\": \"bar\"}], \"barpolar\": [{\"marker\": {\"line\": {\"color\": \"#E5ECF6\", \"width\": 0.5}}, \"type\": \"barpolar\"}], \"carpet\": [{\"aaxis\": {\"endlinecolor\": \"#2a3f5f\", \"gridcolor\": \"white\", \"linecolor\": \"white\", \"minorgridcolor\": \"white\", \"startlinecolor\": \"#2a3f5f\"}, \"baxis\": {\"endlinecolor\": \"#2a3f5f\", \"gridcolor\": \"white\", \"linecolor\": \"white\", \"minorgridcolor\": \"white\", \"startlinecolor\": \"#2a3f5f\"}, \"type\": \"carpet\"}], \"choropleth\": [{\"colorbar\": {\"outlinewidth\": 0, \"ticks\": \"\"}, \"type\": \"choropleth\"}], \"contour\": [{\"colorbar\": {\"outlinewidth\": 0, \"ticks\": \"\"}, \"colorscale\": [[0.0, \"#0d0887\"], [0.1111111111111111, \"#46039f\"], [0.2222222222222222, \"#7201a8\"], [0.3333333333333333, \"#9c179e\"], [0.4444444444444444, \"#bd3786\"], [0.5555555555555556, \"#d8576b\"], [0.6666666666666666, \"#ed7953\"], [0.7777777777777778, \"#fb9f3a\"], [0.8888888888888888, \"#fdca26\"], [1.0, \"#f0f921\"]], \"type\": \"contour\"}], \"contourcarpet\": [{\"colorbar\": {\"outlinewidth\": 0, \"ticks\": \"\"}, \"type\": \"contourcarpet\"}], \"heatmap\": [{\"colorbar\": {\"outlinewidth\": 0, \"ticks\": \"\"}, \"colorscale\": [[0.0, \"#0d0887\"], [0.1111111111111111, \"#46039f\"], [0.2222222222222222, \"#7201a8\"], [0.3333333333333333, \"#9c179e\"], [0.4444444444444444, \"#bd3786\"], [0.5555555555555556, \"#d8576b\"], [0.6666666666666666, \"#ed7953\"], [0.7777777777777778, \"#fb9f3a\"], [0.8888888888888888, \"#fdca26\"], [1.0, \"#f0f921\"]], \"type\": \"heatmap\"}], \"heatmapgl\": [{\"colorbar\": {\"outlinewidth\": 0, \"ticks\": \"\"}, \"colorscale\": [[0.0, \"#0d0887\"], [0.1111111111111111, \"#46039f\"], [0.2222222222222222, \"#7201a8\"], [0.3333333333333333, \"#9c179e\"], [0.4444444444444444, \"#bd3786\"], [0.5555555555555556, \"#d8576b\"], [0.6666666666666666, \"#ed7953\"], [0.7777777777777778, \"#fb9f3a\"], [0.8888888888888888, \"#fdca26\"], [1.0, \"#f0f921\"]], \"type\": \"heatmapgl\"}], \"histogram\": [{\"marker\": {\"colorbar\": {\"outlinewidth\": 0, \"ticks\": \"\"}}, \"type\": \"histogram\"}], \"histogram2d\": [{\"colorbar\": {\"outlinewidth\": 0, \"ticks\": \"\"}, \"colorscale\": [[0.0, \"#0d0887\"], [0.1111111111111111, \"#46039f\"], [0.2222222222222222, \"#7201a8\"], [0.3333333333333333, \"#9c179e\"], [0.4444444444444444, \"#bd3786\"], [0.5555555555555556, \"#d8576b\"], [0.6666666666666666, \"#ed7953\"], [0.7777777777777778, \"#fb9f3a\"], [0.8888888888888888, \"#fdca26\"], [1.0, \"#f0f921\"]], \"type\": \"histogram2d\"}], \"histogram2dcontour\": [{\"colorbar\": {\"outlinewidth\": 0, \"ticks\": \"\"}, \"colorscale\": [[0.0, \"#0d0887\"], [0.1111111111111111, \"#46039f\"], [0.2222222222222222, \"#7201a8\"], [0.3333333333333333, \"#9c179e\"], [0.4444444444444444, \"#bd3786\"], [0.5555555555555556, \"#d8576b\"], [0.6666666666666666, \"#ed7953\"], [0.7777777777777778, \"#fb9f3a\"], [0.8888888888888888, \"#fdca26\"], [1.0, \"#f0f921\"]], \"type\": \"histogram2dcontour\"}], \"mesh3d\": [{\"colorbar\": {\"outlinewidth\": 0, \"ticks\": \"\"}, \"type\": \"mesh3d\"}], \"parcoords\": [{\"line\": {\"colorbar\": {\"outlinewidth\": 0, \"ticks\": \"\"}}, \"type\": \"parcoords\"}], \"pie\": [{\"automargin\": true, \"type\": \"pie\"}], \"scatter\": [{\"marker\": {\"colorbar\": {\"outlinewidth\": 0, \"ticks\": \"\"}}, \"type\": \"scatter\"}], \"scatter3d\": [{\"line\": {\"colorbar\": {\"outlinewidth\": 0, \"ticks\": \"\"}}, \"marker\": {\"colorbar\": {\"outlinewidth\": 0, \"ticks\": \"\"}}, \"type\": \"scatter3d\"}], \"scattercarpet\": [{\"marker\": {\"colorbar\": {\"outlinewidth\": 0, \"ticks\": \"\"}}, \"type\": \"scattercarpet\"}], \"scattergeo\": [{\"marker\": {\"colorbar\": {\"outlinewidth\": 0, \"ticks\": \"\"}}, \"type\": \"scattergeo\"}], \"scattergl\": [{\"marker\": {\"colorbar\": {\"outlinewidth\": 0, \"ticks\": \"\"}}, \"type\": \"scattergl\"}], \"scattermapbox\": [{\"marker\": {\"colorbar\": {\"outlinewidth\": 0, \"ticks\": \"\"}}, \"type\": \"scattermapbox\"}], \"scatterpolar\": [{\"marker\": {\"colorbar\": {\"outlinewidth\": 0, \"ticks\": \"\"}}, \"type\": \"scatterpolar\"}], \"scatterpolargl\": [{\"marker\": {\"colorbar\": {\"outlinewidth\": 0, \"ticks\": \"\"}}, \"type\": \"scatterpolargl\"}], \"scatterternary\": [{\"marker\": {\"colorbar\": {\"outlinewidth\": 0, \"ticks\": \"\"}}, \"type\": \"scatterternary\"}], \"surface\": [{\"colorbar\": {\"outlinewidth\": 0, \"ticks\": \"\"}, \"colorscale\": [[0.0, \"#0d0887\"], [0.1111111111111111, \"#46039f\"], [0.2222222222222222, \"#7201a8\"], [0.3333333333333333, \"#9c179e\"], [0.4444444444444444, \"#bd3786\"], [0.5555555555555556, \"#d8576b\"], [0.6666666666666666, \"#ed7953\"], [0.7777777777777778, \"#fb9f3a\"], [0.8888888888888888, \"#fdca26\"], [1.0, \"#f0f921\"]], \"type\": \"surface\"}], \"table\": [{\"cells\": {\"fill\": {\"color\": \"#EBF0F8\"}, \"line\": {\"color\": \"white\"}}, \"header\": {\"fill\": {\"color\": \"#C8D4E3\"}, \"line\": {\"color\": \"white\"}}, \"type\": \"table\"}]}, \"layout\": {\"annotationdefaults\": {\"arrowcolor\": \"#2a3f5f\", \"arrowhead\": 0, \"arrowwidth\": 1}, \"coloraxis\": {\"colorbar\": {\"outlinewidth\": 0, \"ticks\": \"\"}}, \"colorscale\": {\"diverging\": [[0, \"#8e0152\"], [0.1, \"#c51b7d\"], [0.2, \"#de77ae\"], [0.3, \"#f1b6da\"], [0.4, \"#fde0ef\"], [0.5, \"#f7f7f7\"], [0.6, \"#e6f5d0\"], [0.7, \"#b8e186\"], [0.8, \"#7fbc41\"], [0.9, \"#4d9221\"], [1, \"#276419\"]], \"sequential\": [[0.0, \"#0d0887\"], [0.1111111111111111, \"#46039f\"], [0.2222222222222222, \"#7201a8\"], [0.3333333333333333, \"#9c179e\"], [0.4444444444444444, \"#bd3786\"], [0.5555555555555556, \"#d8576b\"], [0.6666666666666666, \"#ed7953\"], [0.7777777777777778, \"#fb9f3a\"], [0.8888888888888888, \"#fdca26\"], [1.0, \"#f0f921\"]], \"sequentialminus\": [[0.0, \"#0d0887\"], [0.1111111111111111, \"#46039f\"], [0.2222222222222222, \"#7201a8\"], [0.3333333333333333, \"#9c179e\"], [0.4444444444444444, \"#bd3786\"], [0.5555555555555556, \"#d8576b\"], [0.6666666666666666, \"#ed7953\"], [0.7777777777777778, \"#fb9f3a\"], [0.8888888888888888, \"#fdca26\"], [1.0, \"#f0f921\"]]}, \"colorway\": [\"#636efa\", \"#EF553B\", \"#00cc96\", \"#ab63fa\", \"#FFA15A\", \"#19d3f3\", \"#FF6692\", \"#B6E880\", \"#FF97FF\", \"#FECB52\"], \"font\": {\"color\": \"#2a3f5f\"}, \"geo\": {\"bgcolor\": \"white\", \"lakecolor\": \"white\", \"landcolor\": \"#E5ECF6\", \"showlakes\": true, \"showland\": true, \"subunitcolor\": \"white\"}, \"hoverlabel\": {\"align\": \"left\"}, \"hovermode\": \"closest\", \"mapbox\": {\"style\": \"light\"}, \"paper_bgcolor\": \"white\", \"plot_bgcolor\": \"#E5ECF6\", \"polar\": {\"angularaxis\": {\"gridcolor\": \"white\", \"linecolor\": \"white\", \"ticks\": \"\"}, \"bgcolor\": \"#E5ECF6\", \"radialaxis\": {\"gridcolor\": \"white\", \"linecolor\": \"white\", \"ticks\": \"\"}}, \"scene\": {\"xaxis\": {\"backgroundcolor\": \"#E5ECF6\", \"gridcolor\": \"white\", \"gridwidth\": 2, \"linecolor\": \"white\", \"showbackground\": true, \"ticks\": \"\", \"zerolinecolor\": \"white\"}, \"yaxis\": {\"backgroundcolor\": \"#E5ECF6\", \"gridcolor\": \"white\", \"gridwidth\": 2, \"linecolor\": \"white\", \"showbackground\": true, \"ticks\": \"\", \"zerolinecolor\": \"white\"}, \"zaxis\": {\"backgroundcolor\": \"#E5ECF6\", \"gridcolor\": \"white\", \"gridwidth\": 2, \"linecolor\": \"white\", \"showbackground\": true, \"ticks\": \"\", \"zerolinecolor\": \"white\"}}, \"shapedefaults\": {\"line\": {\"color\": \"#2a3f5f\"}}, \"ternary\": {\"aaxis\": {\"gridcolor\": \"white\", \"linecolor\": \"white\", \"ticks\": \"\"}, \"baxis\": {\"gridcolor\": \"white\", \"linecolor\": \"white\", \"ticks\": \"\"}, \"bgcolor\": \"#E5ECF6\", \"caxis\": {\"gridcolor\": \"white\", \"linecolor\": \"white\", \"ticks\": \"\"}}, \"title\": {\"x\": 0.05}, \"xaxis\": {\"automargin\": true, \"gridcolor\": \"white\", \"linecolor\": \"white\", \"ticks\": \"\", \"title\": {\"standoff\": 15}, \"zerolinecolor\": \"white\", \"zerolinewidth\": 2}, \"yaxis\": {\"automargin\": true, \"gridcolor\": \"white\", \"linecolor\": \"white\", \"ticks\": \"\", \"title\": {\"standoff\": 15}, \"zerolinecolor\": \"white\", \"zerolinewidth\": 2}}}, \"title\": {\"text\": \"\\u0412\\u043e\\u0440\\u043e\\u043d\\u043a\\u0430 \\u0441\\u043e\\u0431\\u044b\\u0442\\u0438\\u0439 \\u043f\\u043e \\u043a\\u043e\\u043b\\u0438\\u0447\\u0435\\u0441\\u0442\\u0432\\u0443 \\u043f\\u043e\\u043b\\u044c\\u0437\\u043e\\u0432\\u0430\\u0442\\u0435\\u043b\\u0435\\u0439\"}},\n",
              "                        {\"responsive\": true}\n",
              "                    ).then(function(){\n",
              "                            \n",
              "var gd = document.getElementById('5de30330-af53-464d-98d2-47f31fb033af');\n",
              "var x = new MutationObserver(function (mutations, observer) {{\n",
              "        var display = window.getComputedStyle(gd).display;\n",
              "        if (!display || display === 'none') {{\n",
              "            console.log([gd, 'removed!']);\n",
              "            Plotly.purge(gd);\n",
              "            observer.disconnect();\n",
              "        }}\n",
              "}});\n",
              "\n",
              "// Listen for the removal of the full notebook cells\n",
              "var notebookContainer = gd.closest('#notebook-container');\n",
              "if (notebookContainer) {{\n",
              "    x.observe(notebookContainer, {childList: true});\n",
              "}}\n",
              "\n",
              "// Listen for the clearing of the current output cell\n",
              "var outputEl = gd.closest('.output');\n",
              "if (outputEl) {{\n",
              "    x.observe(outputEl, {childList: true});\n",
              "}}\n",
              "\n",
              "                        })\n",
              "                };\n",
              "                \n",
              "            </script>\n",
              "        </div>\n",
              "</body>\n",
              "</html>"
            ]
          },
          "metadata": {}
        }
      ]
    },
    {
      "cell_type": "markdown",
      "metadata": {
        "id": "exHc_9Jq6B9-"
      },
      "source": [
        "Воронка показывает, что 38% пользователей не доходят до третьего события - до экрана с предложением товара. Нужно искать проблему на начальном экране приложения (интуитивность интерфейса, работоспособность ссылок и т.д.).\n",
        "\n",
        "До финального события - окна с подтверждением оплаты - доходит меньше половины всех пользователей, открывших приложение (47,7%)."
      ]
    },
    {
      "cell_type": "markdown",
      "metadata": {
        "id": "sNZ1FPIj7JJr"
      },
      "source": [
        "## Результаты A/A/B-теста <a id=\"aabtest\"></a>"
      ]
    },
    {
      "cell_type": "markdown",
      "metadata": {
        "id": "wxN9yDnS7PLV"
      },
      "source": [
        "Проведен эксперимент по замене шрифтов в приложении. \n",
        "\n",
        "В тестировании участвовали три группы: две контрольные (246, 247) и одна экспериментальная (248):"
      ]
    },
    {
      "cell_type": "code",
      "metadata": {
        "colab": {
          "base_uri": "https://localhost:8080/",
          "height": 142
        },
        "id": "gqVfjYop7OVU",
        "outputId": "4804293b-4441-4616-cfe8-c926eae7109d"
      },
      "source": [
        "group_pivot"
      ],
      "execution_count": 26,
      "outputs": [
        {
          "output_type": "execute_result",
          "data": {
            "text/html": [
              "<div>\n",
              "<style scoped>\n",
              "    .dataframe tbody tr th:only-of-type {\n",
              "        vertical-align: middle;\n",
              "    }\n",
              "\n",
              "    .dataframe tbody tr th {\n",
              "        vertical-align: top;\n",
              "    }\n",
              "\n",
              "    .dataframe thead th {\n",
              "        text-align: right;\n",
              "    }\n",
              "</style>\n",
              "<table border=\"1\" class=\"dataframe\">\n",
              "  <thead>\n",
              "    <tr style=\"text-align: right;\">\n",
              "      <th></th>\n",
              "      <th>exp_group</th>\n",
              "      <th>users_number</th>\n",
              "      <th>deviation</th>\n",
              "    </tr>\n",
              "  </thead>\n",
              "  <tbody>\n",
              "    <tr>\n",
              "      <th>0</th>\n",
              "      <td>246</td>\n",
              "      <td>2484</td>\n",
              "      <td>0.989116</td>\n",
              "    </tr>\n",
              "    <tr>\n",
              "      <th>1</th>\n",
              "      <td>247</td>\n",
              "      <td>2513</td>\n",
              "      <td>1.000664</td>\n",
              "    </tr>\n",
              "    <tr>\n",
              "      <th>2</th>\n",
              "      <td>248</td>\n",
              "      <td>2537</td>\n",
              "      <td>1.010220</td>\n",
              "    </tr>\n",
              "  </tbody>\n",
              "</table>\n",
              "</div>"
            ],
            "text/plain": [
              "   exp_group  users_number  deviation\n",
              "0        246          2484   0.989116\n",
              "1        247          2513   1.000664\n",
              "2        248          2537   1.010220"
            ]
          },
          "metadata": {},
          "execution_count": 26
        }
      ]
    },
    {
      "cell_type": "markdown",
      "metadata": {
        "id": "KiiNckXRcW2n"
      },
      "source": [
        "### Проверка гипотезы об отсутствии различий в конверсии двух контрольных групп <a id=\"a1a2test\"></a>"
      ]
    },
    {
      "cell_type": "markdown",
      "metadata": {
        "id": "ORiOb9ZeyrTP"
      },
      "source": [
        "Проверим гипотезу H0 о том, что две контрольные группы не имеют статистически значимых отличий на всех этапах конверсии между событиями."
      ]
    },
    {
      "cell_type": "code",
      "metadata": {
        "id": "nq2xL4SGzPXX"
      },
      "source": [
        "#Фильтруем данные по номеру группы\n",
        "log_data_246 = log_data_new.query('exp_group == 246')\n",
        "log_data_247 = log_data_new.query('exp_group == 247')\n",
        "log_data_248 = log_data_new.query('exp_group == 248')\n",
        "#Функция, которая считает пошаговую конверсию в любом датасете\n",
        "def conv_func(data):\n",
        "  #Этап чтения мануала исключаем, т.к. он не входит в последовательность событий. Группируем события по кол-ву уникальных пользователей\n",
        "  data_events = data.query('event_name != \"Tutorial\"').groupby('event_name').agg({'id':'nunique'}).reset_index().sort_values(by = 'id', ascending = False)\n",
        "  #Создаем колонку, где строке из столбца с пользователями будет соответствовать значение предыдущей строки этого же столбца. Он нужен для расчета конверсии\n",
        "  data_events['prev_id'] = data_events['id'].shift(1).fillna(data['id'].nunique()).astype('int')\n",
        "  #Расчтеный столбец конверсии между этупами\n",
        "  data_events['conversion'] = data_events['id'] / data_events['prev_id']\n",
        "  return data_events\n",
        "\n"
      ],
      "execution_count": 27,
      "outputs": []
    },
    {
      "cell_type": "code",
      "metadata": {
        "colab": {
          "base_uri": "https://localhost:8080/",
          "height": 538
        },
        "id": "olsnx5kZA_Cq",
        "outputId": "0cda22b5-512d-428d-8365-57b254a886c1"
      },
      "source": [
        "#Запускаем написанную функцию\n",
        "print('Таблица конверсии для набора данных группы 246 (А1):')\n",
        "display(conv_func(log_data_246))\n",
        "print('Таблица конверсии для набора данных группы 247 (А2):')\n",
        "display(conv_func(log_data_247))\n",
        "print('Таблица конверсии для набора данных группы 248 (А3):')\n",
        "display(conv_func(log_data_248))"
      ],
      "execution_count": 28,
      "outputs": [
        {
          "output_type": "stream",
          "name": "stdout",
          "text": [
            "Таблица конверсии для набора данных группы 246 (А1):\n"
          ]
        },
        {
          "output_type": "display_data",
          "data": {
            "text/html": [
              "<div>\n",
              "<style scoped>\n",
              "    .dataframe tbody tr th:only-of-type {\n",
              "        vertical-align: middle;\n",
              "    }\n",
              "\n",
              "    .dataframe tbody tr th {\n",
              "        vertical-align: top;\n",
              "    }\n",
              "\n",
              "    .dataframe thead th {\n",
              "        text-align: right;\n",
              "    }\n",
              "</style>\n",
              "<table border=\"1\" class=\"dataframe\">\n",
              "  <thead>\n",
              "    <tr style=\"text-align: right;\">\n",
              "      <th></th>\n",
              "      <th>event_name</th>\n",
              "      <th>id</th>\n",
              "      <th>prev_id</th>\n",
              "      <th>conversion</th>\n",
              "    </tr>\n",
              "  </thead>\n",
              "  <tbody>\n",
              "    <tr>\n",
              "      <th>1</th>\n",
              "      <td>MainScreenAppear</td>\n",
              "      <td>2450</td>\n",
              "      <td>2484</td>\n",
              "      <td>0.986312</td>\n",
              "    </tr>\n",
              "    <tr>\n",
              "      <th>2</th>\n",
              "      <td>OffersScreenAppear</td>\n",
              "      <td>1542</td>\n",
              "      <td>2450</td>\n",
              "      <td>0.629388</td>\n",
              "    </tr>\n",
              "    <tr>\n",
              "      <th>0</th>\n",
              "      <td>CartScreenAppear</td>\n",
              "      <td>1266</td>\n",
              "      <td>1542</td>\n",
              "      <td>0.821012</td>\n",
              "    </tr>\n",
              "    <tr>\n",
              "      <th>3</th>\n",
              "      <td>PaymentScreenSuccessful</td>\n",
              "      <td>1200</td>\n",
              "      <td>1266</td>\n",
              "      <td>0.947867</td>\n",
              "    </tr>\n",
              "  </tbody>\n",
              "</table>\n",
              "</div>"
            ],
            "text/plain": [
              "                event_name    id  prev_id  conversion\n",
              "1         MainScreenAppear  2450     2484    0.986312\n",
              "2       OffersScreenAppear  1542     2450    0.629388\n",
              "0         CartScreenAppear  1266     1542    0.821012\n",
              "3  PaymentScreenSuccessful  1200     1266    0.947867"
            ]
          },
          "metadata": {}
        },
        {
          "output_type": "stream",
          "name": "stdout",
          "text": [
            "Таблица конверсии для набора данных группы 247 (А2):\n"
          ]
        },
        {
          "output_type": "display_data",
          "data": {
            "text/html": [
              "<div>\n",
              "<style scoped>\n",
              "    .dataframe tbody tr th:only-of-type {\n",
              "        vertical-align: middle;\n",
              "    }\n",
              "\n",
              "    .dataframe tbody tr th {\n",
              "        vertical-align: top;\n",
              "    }\n",
              "\n",
              "    .dataframe thead th {\n",
              "        text-align: right;\n",
              "    }\n",
              "</style>\n",
              "<table border=\"1\" class=\"dataframe\">\n",
              "  <thead>\n",
              "    <tr style=\"text-align: right;\">\n",
              "      <th></th>\n",
              "      <th>event_name</th>\n",
              "      <th>id</th>\n",
              "      <th>prev_id</th>\n",
              "      <th>conversion</th>\n",
              "    </tr>\n",
              "  </thead>\n",
              "  <tbody>\n",
              "    <tr>\n",
              "      <th>1</th>\n",
              "      <td>MainScreenAppear</td>\n",
              "      <td>2476</td>\n",
              "      <td>2513</td>\n",
              "      <td>0.985277</td>\n",
              "    </tr>\n",
              "    <tr>\n",
              "      <th>2</th>\n",
              "      <td>OffersScreenAppear</td>\n",
              "      <td>1520</td>\n",
              "      <td>2476</td>\n",
              "      <td>0.613893</td>\n",
              "    </tr>\n",
              "    <tr>\n",
              "      <th>0</th>\n",
              "      <td>CartScreenAppear</td>\n",
              "      <td>1238</td>\n",
              "      <td>1520</td>\n",
              "      <td>0.814474</td>\n",
              "    </tr>\n",
              "    <tr>\n",
              "      <th>3</th>\n",
              "      <td>PaymentScreenSuccessful</td>\n",
              "      <td>1158</td>\n",
              "      <td>1238</td>\n",
              "      <td>0.935380</td>\n",
              "    </tr>\n",
              "  </tbody>\n",
              "</table>\n",
              "</div>"
            ],
            "text/plain": [
              "                event_name    id  prev_id  conversion\n",
              "1         MainScreenAppear  2476     2513    0.985277\n",
              "2       OffersScreenAppear  1520     2476    0.613893\n",
              "0         CartScreenAppear  1238     1520    0.814474\n",
              "3  PaymentScreenSuccessful  1158     1238    0.935380"
            ]
          },
          "metadata": {}
        },
        {
          "output_type": "stream",
          "name": "stdout",
          "text": [
            "Таблица конверсии для набора данных группы 248 (А3):\n"
          ]
        },
        {
          "output_type": "display_data",
          "data": {
            "text/html": [
              "<div>\n",
              "<style scoped>\n",
              "    .dataframe tbody tr th:only-of-type {\n",
              "        vertical-align: middle;\n",
              "    }\n",
              "\n",
              "    .dataframe tbody tr th {\n",
              "        vertical-align: top;\n",
              "    }\n",
              "\n",
              "    .dataframe thead th {\n",
              "        text-align: right;\n",
              "    }\n",
              "</style>\n",
              "<table border=\"1\" class=\"dataframe\">\n",
              "  <thead>\n",
              "    <tr style=\"text-align: right;\">\n",
              "      <th></th>\n",
              "      <th>event_name</th>\n",
              "      <th>id</th>\n",
              "      <th>prev_id</th>\n",
              "      <th>conversion</th>\n",
              "    </tr>\n",
              "  </thead>\n",
              "  <tbody>\n",
              "    <tr>\n",
              "      <th>1</th>\n",
              "      <td>MainScreenAppear</td>\n",
              "      <td>2493</td>\n",
              "      <td>2537</td>\n",
              "      <td>0.982657</td>\n",
              "    </tr>\n",
              "    <tr>\n",
              "      <th>2</th>\n",
              "      <td>OffersScreenAppear</td>\n",
              "      <td>1531</td>\n",
              "      <td>2493</td>\n",
              "      <td>0.614120</td>\n",
              "    </tr>\n",
              "    <tr>\n",
              "      <th>0</th>\n",
              "      <td>CartScreenAppear</td>\n",
              "      <td>1230</td>\n",
              "      <td>1531</td>\n",
              "      <td>0.803396</td>\n",
              "    </tr>\n",
              "    <tr>\n",
              "      <th>3</th>\n",
              "      <td>PaymentScreenSuccessful</td>\n",
              "      <td>1181</td>\n",
              "      <td>1230</td>\n",
              "      <td>0.960163</td>\n",
              "    </tr>\n",
              "  </tbody>\n",
              "</table>\n",
              "</div>"
            ],
            "text/plain": [
              "                event_name    id  prev_id  conversion\n",
              "1         MainScreenAppear  2493     2537    0.982657\n",
              "2       OffersScreenAppear  1531     2493    0.614120\n",
              "0         CartScreenAppear  1230     1531    0.803396\n",
              "3  PaymentScreenSuccessful  1181     1230    0.960163"
            ]
          },
          "metadata": {}
        }
      ]
    },
    {
      "cell_type": "code",
      "metadata": {
        "colab": {
          "base_uri": "https://localhost:8080/",
          "height": 173
        },
        "id": "Lqwo8cHAO1NY",
        "outputId": "0473518f-b075-43cf-b677-3d18cfdeb53b"
      },
      "source": [
        "#Объединяем данные по контрольным группам в одну таблицу\n",
        "A = conv_func(log_data_246).merge(conv_func(log_data_247), on = 'event_name')\n",
        "A.columns = ['event_name', 'A1', 'prev_step1', 'conversion_A1', 'A2', 'prev_step2', 'conversion_A2']\n",
        "A"
      ],
      "execution_count": 29,
      "outputs": [
        {
          "output_type": "execute_result",
          "data": {
            "text/html": [
              "<div>\n",
              "<style scoped>\n",
              "    .dataframe tbody tr th:only-of-type {\n",
              "        vertical-align: middle;\n",
              "    }\n",
              "\n",
              "    .dataframe tbody tr th {\n",
              "        vertical-align: top;\n",
              "    }\n",
              "\n",
              "    .dataframe thead th {\n",
              "        text-align: right;\n",
              "    }\n",
              "</style>\n",
              "<table border=\"1\" class=\"dataframe\">\n",
              "  <thead>\n",
              "    <tr style=\"text-align: right;\">\n",
              "      <th></th>\n",
              "      <th>event_name</th>\n",
              "      <th>A1</th>\n",
              "      <th>prev_step1</th>\n",
              "      <th>conversion_A1</th>\n",
              "      <th>A2</th>\n",
              "      <th>prev_step2</th>\n",
              "      <th>conversion_A2</th>\n",
              "    </tr>\n",
              "  </thead>\n",
              "  <tbody>\n",
              "    <tr>\n",
              "      <th>0</th>\n",
              "      <td>MainScreenAppear</td>\n",
              "      <td>2450</td>\n",
              "      <td>2484</td>\n",
              "      <td>0.986312</td>\n",
              "      <td>2476</td>\n",
              "      <td>2513</td>\n",
              "      <td>0.985277</td>\n",
              "    </tr>\n",
              "    <tr>\n",
              "      <th>1</th>\n",
              "      <td>OffersScreenAppear</td>\n",
              "      <td>1542</td>\n",
              "      <td>2450</td>\n",
              "      <td>0.629388</td>\n",
              "      <td>1520</td>\n",
              "      <td>2476</td>\n",
              "      <td>0.613893</td>\n",
              "    </tr>\n",
              "    <tr>\n",
              "      <th>2</th>\n",
              "      <td>CartScreenAppear</td>\n",
              "      <td>1266</td>\n",
              "      <td>1542</td>\n",
              "      <td>0.821012</td>\n",
              "      <td>1238</td>\n",
              "      <td>1520</td>\n",
              "      <td>0.814474</td>\n",
              "    </tr>\n",
              "    <tr>\n",
              "      <th>3</th>\n",
              "      <td>PaymentScreenSuccessful</td>\n",
              "      <td>1200</td>\n",
              "      <td>1266</td>\n",
              "      <td>0.947867</td>\n",
              "      <td>1158</td>\n",
              "      <td>1238</td>\n",
              "      <td>0.935380</td>\n",
              "    </tr>\n",
              "  </tbody>\n",
              "</table>\n",
              "</div>"
            ],
            "text/plain": [
              "                event_name    A1  prev_step1  ...    A2  prev_step2  conversion_A2\n",
              "0         MainScreenAppear  2450        2484  ...  2476        2513       0.985277\n",
              "1       OffersScreenAppear  1542        2450  ...  1520        2476       0.613893\n",
              "2         CartScreenAppear  1266        1542  ...  1238        1520       0.814474\n",
              "3  PaymentScreenSuccessful  1200        1266  ...  1158        1238       0.935380\n",
              "\n",
              "[4 rows x 7 columns]"
            ]
          },
          "metadata": {},
          "execution_count": 29
        }
      ]
    },
    {
      "cell_type": "code",
      "metadata": {
        "id": "8ObNTo-J1Evw"
      },
      "source": [
        "#Пишем функцию проверки статзначимости по z-тесту\n",
        "def z_test(n1, x1, n2, x2):\n",
        "  #Конверсии по группам:\n",
        "  p1 = x1 / n1\n",
        "  p2 = x2 / n2\n",
        "  #Общая конверсия\n",
        "  p = (x1 + x2) / (n1 + n2)\n",
        "  #Разница между конверсиями\n",
        "  difference = p1 - p2\n",
        "  #Расчет z-значения (статистики разницы между конверсиями)\n",
        "  z_value = difference / mth.sqrt(p * (1 - p) * (1/n1 + 1/n2))\n",
        "  #Статистика распределена нормально, используем при расчете p_value (среднее 0, ст.отклонение 1)\n",
        "  distr = st.norm(0, 1)\n",
        "  #Задаем функцию нормального распределения для расчета критерия \n",
        "  p_value = (1 - distr.cdf(abs(z_value))) * 2\n",
        "  return p_value"
      ],
      "execution_count": 30,
      "outputs": []
    },
    {
      "cell_type": "code",
      "metadata": {
        "colab": {
          "base_uri": "https://localhost:8080/",
          "height": 121
        },
        "id": "My_RJ7kmQRD6",
        "outputId": "5920b833-3d51-4d7f-84ee-624840021c3b"
      },
      "source": [
        "#Создаем столбец со значениями  критического уровня статистической значимости с поправкой Бонферрони (на количество проверок)\n",
        "A['alpha'] = 0.05 / (A.shape[0] * 2)\n",
        "#Применяем функцию к таблице контрольных групп\n",
        "#В этом столбце считаем абсолютную конверсию \n",
        "A['p_value'] = A.apply(lambda x: z_test(A.iloc[0,2], x['A1'], A.iloc[0,5], x['A2']), axis = 1)\n",
        "#В этом столбце считаем относительную конверсию \n",
        "A['p_value_2'] = A.apply(lambda x: z_test(x['prev_step1'], x['A1'], x['prev_step2'], x['A2']), axis = 1)    \n",
        "A.style.format({'p_value':'{:.5f}', 'p_value_2':'{:.5f}'})"
      ],
      "execution_count": 31,
      "outputs": [
        {
          "output_type": "execute_result",
          "data": {
            "text/html": [
              "<style  type=\"text/css\" >\n",
              "</style><table id=\"T_4bdce092_14b7_11ec_81da_0242ac1c0002\" ><thead>    <tr>        <th class=\"blank level0\" ></th>        <th class=\"col_heading level0 col0\" >event_name</th>        <th class=\"col_heading level0 col1\" >A1</th>        <th class=\"col_heading level0 col2\" >prev_step1</th>        <th class=\"col_heading level0 col3\" >conversion_A1</th>        <th class=\"col_heading level0 col4\" >A2</th>        <th class=\"col_heading level0 col5\" >prev_step2</th>        <th class=\"col_heading level0 col6\" >conversion_A2</th>        <th class=\"col_heading level0 col7\" >alpha</th>        <th class=\"col_heading level0 col8\" >p_value</th>        <th class=\"col_heading level0 col9\" >p_value_2</th>    </tr></thead><tbody>\n",
              "                <tr>\n",
              "                        <th id=\"T_4bdce092_14b7_11ec_81da_0242ac1c0002level0_row0\" class=\"row_heading level0 row0\" >0</th>\n",
              "                        <td id=\"T_4bdce092_14b7_11ec_81da_0242ac1c0002row0_col0\" class=\"data row0 col0\" >MainScreenAppear</td>\n",
              "                        <td id=\"T_4bdce092_14b7_11ec_81da_0242ac1c0002row0_col1\" class=\"data row0 col1\" >2450</td>\n",
              "                        <td id=\"T_4bdce092_14b7_11ec_81da_0242ac1c0002row0_col2\" class=\"data row0 col2\" >2484</td>\n",
              "                        <td id=\"T_4bdce092_14b7_11ec_81da_0242ac1c0002row0_col3\" class=\"data row0 col3\" >0.986312</td>\n",
              "                        <td id=\"T_4bdce092_14b7_11ec_81da_0242ac1c0002row0_col4\" class=\"data row0 col4\" >2476</td>\n",
              "                        <td id=\"T_4bdce092_14b7_11ec_81da_0242ac1c0002row0_col5\" class=\"data row0 col5\" >2513</td>\n",
              "                        <td id=\"T_4bdce092_14b7_11ec_81da_0242ac1c0002row0_col6\" class=\"data row0 col6\" >0.985277</td>\n",
              "                        <td id=\"T_4bdce092_14b7_11ec_81da_0242ac1c0002row0_col7\" class=\"data row0 col7\" >0.006250</td>\n",
              "                        <td id=\"T_4bdce092_14b7_11ec_81da_0242ac1c0002row0_col8\" class=\"data row0 col8\" >0.75706</td>\n",
              "                        <td id=\"T_4bdce092_14b7_11ec_81da_0242ac1c0002row0_col9\" class=\"data row0 col9\" >0.75706</td>\n",
              "            </tr>\n",
              "            <tr>\n",
              "                        <th id=\"T_4bdce092_14b7_11ec_81da_0242ac1c0002level0_row1\" class=\"row_heading level0 row1\" >1</th>\n",
              "                        <td id=\"T_4bdce092_14b7_11ec_81da_0242ac1c0002row1_col0\" class=\"data row1 col0\" >OffersScreenAppear</td>\n",
              "                        <td id=\"T_4bdce092_14b7_11ec_81da_0242ac1c0002row1_col1\" class=\"data row1 col1\" >1542</td>\n",
              "                        <td id=\"T_4bdce092_14b7_11ec_81da_0242ac1c0002row1_col2\" class=\"data row1 col2\" >2450</td>\n",
              "                        <td id=\"T_4bdce092_14b7_11ec_81da_0242ac1c0002row1_col3\" class=\"data row1 col3\" >0.629388</td>\n",
              "                        <td id=\"T_4bdce092_14b7_11ec_81da_0242ac1c0002row1_col4\" class=\"data row1 col4\" >1520</td>\n",
              "                        <td id=\"T_4bdce092_14b7_11ec_81da_0242ac1c0002row1_col5\" class=\"data row1 col5\" >2476</td>\n",
              "                        <td id=\"T_4bdce092_14b7_11ec_81da_0242ac1c0002row1_col6\" class=\"data row1 col6\" >0.613893</td>\n",
              "                        <td id=\"T_4bdce092_14b7_11ec_81da_0242ac1c0002row1_col7\" class=\"data row1 col7\" >0.006250</td>\n",
              "                        <td id=\"T_4bdce092_14b7_11ec_81da_0242ac1c0002row1_col8\" class=\"data row1 col8\" >0.24810</td>\n",
              "                        <td id=\"T_4bdce092_14b7_11ec_81da_0242ac1c0002row1_col9\" class=\"data row1 col9\" >0.26223</td>\n",
              "            </tr>\n",
              "            <tr>\n",
              "                        <th id=\"T_4bdce092_14b7_11ec_81da_0242ac1c0002level0_row2\" class=\"row_heading level0 row2\" >2</th>\n",
              "                        <td id=\"T_4bdce092_14b7_11ec_81da_0242ac1c0002row2_col0\" class=\"data row2 col0\" >CartScreenAppear</td>\n",
              "                        <td id=\"T_4bdce092_14b7_11ec_81da_0242ac1c0002row2_col1\" class=\"data row2 col1\" >1266</td>\n",
              "                        <td id=\"T_4bdce092_14b7_11ec_81da_0242ac1c0002row2_col2\" class=\"data row2 col2\" >1542</td>\n",
              "                        <td id=\"T_4bdce092_14b7_11ec_81da_0242ac1c0002row2_col3\" class=\"data row2 col3\" >0.821012</td>\n",
              "                        <td id=\"T_4bdce092_14b7_11ec_81da_0242ac1c0002row2_col4\" class=\"data row2 col4\" >1238</td>\n",
              "                        <td id=\"T_4bdce092_14b7_11ec_81da_0242ac1c0002row2_col5\" class=\"data row2 col5\" >1520</td>\n",
              "                        <td id=\"T_4bdce092_14b7_11ec_81da_0242ac1c0002row2_col6\" class=\"data row2 col6\" >0.814474</td>\n",
              "                        <td id=\"T_4bdce092_14b7_11ec_81da_0242ac1c0002row2_col7\" class=\"data row2 col7\" >0.006250</td>\n",
              "                        <td id=\"T_4bdce092_14b7_11ec_81da_0242ac1c0002row2_col8\" class=\"data row2 col8\" >0.22883</td>\n",
              "                        <td id=\"T_4bdce092_14b7_11ec_81da_0242ac1c0002row2_col9\" class=\"data row2 col9\" >0.63938</td>\n",
              "            </tr>\n",
              "            <tr>\n",
              "                        <th id=\"T_4bdce092_14b7_11ec_81da_0242ac1c0002level0_row3\" class=\"row_heading level0 row3\" >3</th>\n",
              "                        <td id=\"T_4bdce092_14b7_11ec_81da_0242ac1c0002row3_col0\" class=\"data row3 col0\" >PaymentScreenSuccessful</td>\n",
              "                        <td id=\"T_4bdce092_14b7_11ec_81da_0242ac1c0002row3_col1\" class=\"data row3 col1\" >1200</td>\n",
              "                        <td id=\"T_4bdce092_14b7_11ec_81da_0242ac1c0002row3_col2\" class=\"data row3 col2\" >1266</td>\n",
              "                        <td id=\"T_4bdce092_14b7_11ec_81da_0242ac1c0002row3_col3\" class=\"data row3 col3\" >0.947867</td>\n",
              "                        <td id=\"T_4bdce092_14b7_11ec_81da_0242ac1c0002row3_col4\" class=\"data row3 col4\" >1158</td>\n",
              "                        <td id=\"T_4bdce092_14b7_11ec_81da_0242ac1c0002row3_col5\" class=\"data row3 col5\" >1238</td>\n",
              "                        <td id=\"T_4bdce092_14b7_11ec_81da_0242ac1c0002row3_col6\" class=\"data row3 col6\" >0.935380</td>\n",
              "                        <td id=\"T_4bdce092_14b7_11ec_81da_0242ac1c0002row3_col7\" class=\"data row3 col7\" >0.006250</td>\n",
              "                        <td id=\"T_4bdce092_14b7_11ec_81da_0242ac1c0002row3_col8\" class=\"data row3 col8\" >0.11457</td>\n",
              "                        <td id=\"T_4bdce092_14b7_11ec_81da_0242ac1c0002row3_col9\" class=\"data row3 col9\" >0.18243</td>\n",
              "            </tr>\n",
              "    </tbody></table>"
            ],
            "text/plain": [
              "<pandas.io.formats.style.Styler at 0x7f8be7440ad0>"
            ]
          },
          "metadata": {},
          "execution_count": 31
        }
      ]
    },
    {
      "cell_type": "markdown",
      "metadata": {
        "id": "3pSLc5ShEOfz"
      },
      "source": [
        "На всех этапах p-value не достигает уровня критической значимости. \n",
        "\n",
        "Таким образом, гипотезу об отсутствии различий между контрольными группами не отвергаем."
      ]
    },
    {
      "cell_type": "markdown",
      "metadata": {
        "id": "NOGs79Uycs9W"
      },
      "source": [
        "### Проверка гипотезы об отсутствии различий в конверсии между экспериментальной и каждой из контрольных групп <a id=\"a1a2btest\"></a>"
      ]
    },
    {
      "cell_type": "markdown",
      "metadata": {
        "id": "WSIEKphbE2t0"
      },
      "source": [
        "Сравним статистическую значимость различий между экспериментальной и каждой из контрольных групп.\n",
        "\n",
        "Нулевая гипотеза - статистически значимых различий между группами нет.\n",
        "\n",
        "H1 - различия статистически значимы."
      ]
    },
    {
      "cell_type": "code",
      "metadata": {
        "colab": {
          "base_uri": "https://localhost:8080/",
          "height": 121
        },
        "id": "C2rorJZlF7Co",
        "outputId": "a9c3b111-81b6-4a7f-b50a-59fa2e2986c0"
      },
      "source": [
        "#Объединяем данные по первой контрольной и экспериментальной группам в одну таблицу\n",
        "A1B = conv_func(log_data_246).merge(conv_func(log_data_248), on = 'event_name')\n",
        "A1B.columns = ['event_name', 'A1', 'prev_step_A1', 'conversion_A1', 'B', 'prev_step_B', 'conversion_B']\n",
        "#Создаем столбец со значениями  критического уровня статистической значимости с поправкой Бонферрони\n",
        "A1B['alpha'] = 0.05 / (A1B.shape[0] * 2)\n",
        "#Применяем функцию к таблице\n",
        "#В этом столбце считаем абсолютную конверсию \n",
        "A1B['p_value'] = A1B.apply(lambda x: z_test(A1B.iloc[0,2], x['A1'], A1B.iloc[0,5], x['B']), axis = 1)\n",
        "#В этом столбце считаем относительную конверсию \n",
        "A1B['p_value_2'] = A1B.apply(lambda x: z_test(x['prev_step_A1'], x['A1'], x['prev_step_B'], x['B']), axis = 1)    \n",
        "A1B.style.format({'p_value':'{:.5f}', 'p_value_2':'{:.5f}'})"
      ],
      "execution_count": 32,
      "outputs": [
        {
          "output_type": "execute_result",
          "data": {
            "text/html": [
              "<style  type=\"text/css\" >\n",
              "</style><table id=\"T_4bf0300c_14b7_11ec_81da_0242ac1c0002\" ><thead>    <tr>        <th class=\"blank level0\" ></th>        <th class=\"col_heading level0 col0\" >event_name</th>        <th class=\"col_heading level0 col1\" >A1</th>        <th class=\"col_heading level0 col2\" >prev_step_A1</th>        <th class=\"col_heading level0 col3\" >conversion_A1</th>        <th class=\"col_heading level0 col4\" >B</th>        <th class=\"col_heading level0 col5\" >prev_step_B</th>        <th class=\"col_heading level0 col6\" >conversion_B</th>        <th class=\"col_heading level0 col7\" >alpha</th>        <th class=\"col_heading level0 col8\" >p_value</th>        <th class=\"col_heading level0 col9\" >p_value_2</th>    </tr></thead><tbody>\n",
              "                <tr>\n",
              "                        <th id=\"T_4bf0300c_14b7_11ec_81da_0242ac1c0002level0_row0\" class=\"row_heading level0 row0\" >0</th>\n",
              "                        <td id=\"T_4bf0300c_14b7_11ec_81da_0242ac1c0002row0_col0\" class=\"data row0 col0\" >MainScreenAppear</td>\n",
              "                        <td id=\"T_4bf0300c_14b7_11ec_81da_0242ac1c0002row0_col1\" class=\"data row0 col1\" >2450</td>\n",
              "                        <td id=\"T_4bf0300c_14b7_11ec_81da_0242ac1c0002row0_col2\" class=\"data row0 col2\" >2484</td>\n",
              "                        <td id=\"T_4bf0300c_14b7_11ec_81da_0242ac1c0002row0_col3\" class=\"data row0 col3\" >0.986312</td>\n",
              "                        <td id=\"T_4bf0300c_14b7_11ec_81da_0242ac1c0002row0_col4\" class=\"data row0 col4\" >2493</td>\n",
              "                        <td id=\"T_4bf0300c_14b7_11ec_81da_0242ac1c0002row0_col5\" class=\"data row0 col5\" >2537</td>\n",
              "                        <td id=\"T_4bf0300c_14b7_11ec_81da_0242ac1c0002row0_col6\" class=\"data row0 col6\" >0.982657</td>\n",
              "                        <td id=\"T_4bf0300c_14b7_11ec_81da_0242ac1c0002row0_col7\" class=\"data row0 col7\" >0.006250</td>\n",
              "                        <td id=\"T_4bf0300c_14b7_11ec_81da_0242ac1c0002row0_col8\" class=\"data row0 col8\" >0.29497</td>\n",
              "                        <td id=\"T_4bf0300c_14b7_11ec_81da_0242ac1c0002row0_col9\" class=\"data row0 col9\" >0.29497</td>\n",
              "            </tr>\n",
              "            <tr>\n",
              "                        <th id=\"T_4bf0300c_14b7_11ec_81da_0242ac1c0002level0_row1\" class=\"row_heading level0 row1\" >1</th>\n",
              "                        <td id=\"T_4bf0300c_14b7_11ec_81da_0242ac1c0002row1_col0\" class=\"data row1 col0\" >OffersScreenAppear</td>\n",
              "                        <td id=\"T_4bf0300c_14b7_11ec_81da_0242ac1c0002row1_col1\" class=\"data row1 col1\" >1542</td>\n",
              "                        <td id=\"T_4bf0300c_14b7_11ec_81da_0242ac1c0002row1_col2\" class=\"data row1 col2\" >2450</td>\n",
              "                        <td id=\"T_4bf0300c_14b7_11ec_81da_0242ac1c0002row1_col3\" class=\"data row1 col3\" >0.629388</td>\n",
              "                        <td id=\"T_4bf0300c_14b7_11ec_81da_0242ac1c0002row1_col4\" class=\"data row1 col4\" >1531</td>\n",
              "                        <td id=\"T_4bf0300c_14b7_11ec_81da_0242ac1c0002row1_col5\" class=\"data row1 col5\" >2493</td>\n",
              "                        <td id=\"T_4bf0300c_14b7_11ec_81da_0242ac1c0002row1_col6\" class=\"data row1 col6\" >0.614120</td>\n",
              "                        <td id=\"T_4bf0300c_14b7_11ec_81da_0242ac1c0002row1_col7\" class=\"data row1 col7\" >0.006250</td>\n",
              "                        <td id=\"T_4bf0300c_14b7_11ec_81da_0242ac1c0002row1_col8\" class=\"data row1 col8\" >0.20836</td>\n",
              "                        <td id=\"T_4bf0300c_14b7_11ec_81da_0242ac1c0002row1_col9\" class=\"data row1 col9\" >0.26843</td>\n",
              "            </tr>\n",
              "            <tr>\n",
              "                        <th id=\"T_4bf0300c_14b7_11ec_81da_0242ac1c0002level0_row2\" class=\"row_heading level0 row2\" >2</th>\n",
              "                        <td id=\"T_4bf0300c_14b7_11ec_81da_0242ac1c0002row2_col0\" class=\"data row2 col0\" >CartScreenAppear</td>\n",
              "                        <td id=\"T_4bf0300c_14b7_11ec_81da_0242ac1c0002row2_col1\" class=\"data row2 col1\" >1266</td>\n",
              "                        <td id=\"T_4bf0300c_14b7_11ec_81da_0242ac1c0002row2_col2\" class=\"data row2 col2\" >1542</td>\n",
              "                        <td id=\"T_4bf0300c_14b7_11ec_81da_0242ac1c0002row2_col3\" class=\"data row2 col3\" >0.821012</td>\n",
              "                        <td id=\"T_4bf0300c_14b7_11ec_81da_0242ac1c0002row2_col4\" class=\"data row2 col4\" >1230</td>\n",
              "                        <td id=\"T_4bf0300c_14b7_11ec_81da_0242ac1c0002row2_col5\" class=\"data row2 col5\" >1531</td>\n",
              "                        <td id=\"T_4bf0300c_14b7_11ec_81da_0242ac1c0002row2_col6\" class=\"data row2 col6\" >0.803396</td>\n",
              "                        <td id=\"T_4bf0300c_14b7_11ec_81da_0242ac1c0002row2_col7\" class=\"data row2 col7\" >0.006250</td>\n",
              "                        <td id=\"T_4bf0300c_14b7_11ec_81da_0242ac1c0002row2_col8\" class=\"data row2 col8\" >0.07843</td>\n",
              "                        <td id=\"T_4bf0300c_14b7_11ec_81da_0242ac1c0002row2_col9\" class=\"data row2 col9\" >0.21122</td>\n",
              "            </tr>\n",
              "            <tr>\n",
              "                        <th id=\"T_4bf0300c_14b7_11ec_81da_0242ac1c0002level0_row3\" class=\"row_heading level0 row3\" >3</th>\n",
              "                        <td id=\"T_4bf0300c_14b7_11ec_81da_0242ac1c0002row3_col0\" class=\"data row3 col0\" >PaymentScreenSuccessful</td>\n",
              "                        <td id=\"T_4bf0300c_14b7_11ec_81da_0242ac1c0002row3_col1\" class=\"data row3 col1\" >1200</td>\n",
              "                        <td id=\"T_4bf0300c_14b7_11ec_81da_0242ac1c0002row3_col2\" class=\"data row3 col2\" >1266</td>\n",
              "                        <td id=\"T_4bf0300c_14b7_11ec_81da_0242ac1c0002row3_col3\" class=\"data row3 col3\" >0.947867</td>\n",
              "                        <td id=\"T_4bf0300c_14b7_11ec_81da_0242ac1c0002row3_col4\" class=\"data row3 col4\" >1181</td>\n",
              "                        <td id=\"T_4bf0300c_14b7_11ec_81da_0242ac1c0002row3_col5\" class=\"data row3 col5\" >1230</td>\n",
              "                        <td id=\"T_4bf0300c_14b7_11ec_81da_0242ac1c0002row3_col6\" class=\"data row3 col6\" >0.960163</td>\n",
              "                        <td id=\"T_4bf0300c_14b7_11ec_81da_0242ac1c0002row3_col7\" class=\"data row3 col7\" >0.006250</td>\n",
              "                        <td id=\"T_4bf0300c_14b7_11ec_81da_0242ac1c0002row3_col8\" class=\"data row3 col8\" >0.21226</td>\n",
              "                        <td id=\"T_4bf0300c_14b7_11ec_81da_0242ac1c0002row3_col9\" class=\"data row3 col9\" >0.14295</td>\n",
              "            </tr>\n",
              "    </tbody></table>"
            ],
            "text/plain": [
              "<pandas.io.formats.style.Styler at 0x7f8be74ff350>"
            ]
          },
          "metadata": {},
          "execution_count": 32
        }
      ]
    },
    {
      "cell_type": "markdown",
      "metadata": {
        "id": "2hSqoVqpHBnw"
      },
      "source": [
        "Значения p-value не меньше критических. Нулевую гипотезу по отсутствию статзначимых различий между группами A1 и B не отвергаем."
      ]
    },
    {
      "cell_type": "code",
      "metadata": {
        "colab": {
          "base_uri": "https://localhost:8080/",
          "height": 121
        },
        "id": "BROltRqqGiG2",
        "outputId": "f3e62fe9-fa49-4000-92b1-9333cd77a72b"
      },
      "source": [
        "#Объединяем данные по первой контрольной и экспериментальной группам в одну таблицу\n",
        "A2B = conv_func(log_data_247).merge(conv_func(log_data_248), on = 'event_name')\n",
        "A2B.columns = ['event_name', 'A2', 'prev_step_A2', 'conversion_A2', 'B', 'prev_step_B', 'conversion_B']\n",
        "#Создаем столбец со значениями  критического уровня статистической значимости с поправкой Бонферрони\n",
        "A2B['alpha'] = 0.05 / (A2B.shape[0] * 2)\n",
        "#Применяем функцию к таблице \n",
        "#В этом столбце считаем абсолютную конверсию \n",
        "A2B['p_value'] = A2B.apply(lambda x: z_test(A2B.iloc[0,2], x['A2'], A2B.iloc[0,5], x['B']), axis = 1)\n",
        "#В этом столбце считаем относительную конверсию \n",
        "A2B['p_value_2'] = A2B.apply(lambda x: z_test(x['prev_step_A2'], x['A2'], x['prev_step_B'], x['B']), axis = 1)    \n",
        "A2B.style.format({'p_value':'{:.5f}', 'p_value_2':'{:.5f}'})"
      ],
      "execution_count": 33,
      "outputs": [
        {
          "output_type": "execute_result",
          "data": {
            "text/html": [
              "<style  type=\"text/css\" >\n",
              "</style><table id=\"T_4c0309de_14b7_11ec_81da_0242ac1c0002\" ><thead>    <tr>        <th class=\"blank level0\" ></th>        <th class=\"col_heading level0 col0\" >event_name</th>        <th class=\"col_heading level0 col1\" >A2</th>        <th class=\"col_heading level0 col2\" >prev_step_A2</th>        <th class=\"col_heading level0 col3\" >conversion_A2</th>        <th class=\"col_heading level0 col4\" >B</th>        <th class=\"col_heading level0 col5\" >prev_step_B</th>        <th class=\"col_heading level0 col6\" >conversion_B</th>        <th class=\"col_heading level0 col7\" >alpha</th>        <th class=\"col_heading level0 col8\" >p_value</th>        <th class=\"col_heading level0 col9\" >p_value_2</th>    </tr></thead><tbody>\n",
              "                <tr>\n",
              "                        <th id=\"T_4c0309de_14b7_11ec_81da_0242ac1c0002level0_row0\" class=\"row_heading level0 row0\" >0</th>\n",
              "                        <td id=\"T_4c0309de_14b7_11ec_81da_0242ac1c0002row0_col0\" class=\"data row0 col0\" >MainScreenAppear</td>\n",
              "                        <td id=\"T_4c0309de_14b7_11ec_81da_0242ac1c0002row0_col1\" class=\"data row0 col1\" >2476</td>\n",
              "                        <td id=\"T_4c0309de_14b7_11ec_81da_0242ac1c0002row0_col2\" class=\"data row0 col2\" >2513</td>\n",
              "                        <td id=\"T_4c0309de_14b7_11ec_81da_0242ac1c0002row0_col3\" class=\"data row0 col3\" >0.985277</td>\n",
              "                        <td id=\"T_4c0309de_14b7_11ec_81da_0242ac1c0002row0_col4\" class=\"data row0 col4\" >2493</td>\n",
              "                        <td id=\"T_4c0309de_14b7_11ec_81da_0242ac1c0002row0_col5\" class=\"data row0 col5\" >2537</td>\n",
              "                        <td id=\"T_4c0309de_14b7_11ec_81da_0242ac1c0002row0_col6\" class=\"data row0 col6\" >0.982657</td>\n",
              "                        <td id=\"T_4c0309de_14b7_11ec_81da_0242ac1c0002row0_col7\" class=\"data row0 col7\" >0.006250</td>\n",
              "                        <td id=\"T_4c0309de_14b7_11ec_81da_0242ac1c0002row0_col8\" class=\"data row0 col8\" >0.45871</td>\n",
              "                        <td id=\"T_4c0309de_14b7_11ec_81da_0242ac1c0002row0_col9\" class=\"data row0 col9\" >0.45871</td>\n",
              "            </tr>\n",
              "            <tr>\n",
              "                        <th id=\"T_4c0309de_14b7_11ec_81da_0242ac1c0002level0_row1\" class=\"row_heading level0 row1\" >1</th>\n",
              "                        <td id=\"T_4c0309de_14b7_11ec_81da_0242ac1c0002row1_col0\" class=\"data row1 col0\" >OffersScreenAppear</td>\n",
              "                        <td id=\"T_4c0309de_14b7_11ec_81da_0242ac1c0002row1_col1\" class=\"data row1 col1\" >1520</td>\n",
              "                        <td id=\"T_4c0309de_14b7_11ec_81da_0242ac1c0002row1_col2\" class=\"data row1 col2\" >2476</td>\n",
              "                        <td id=\"T_4c0309de_14b7_11ec_81da_0242ac1c0002row1_col3\" class=\"data row1 col3\" >0.613893</td>\n",
              "                        <td id=\"T_4c0309de_14b7_11ec_81da_0242ac1c0002row1_col4\" class=\"data row1 col4\" >1531</td>\n",
              "                        <td id=\"T_4c0309de_14b7_11ec_81da_0242ac1c0002row1_col5\" class=\"data row1 col5\" >2493</td>\n",
              "                        <td id=\"T_4c0309de_14b7_11ec_81da_0242ac1c0002row1_col6\" class=\"data row1 col6\" >0.614120</td>\n",
              "                        <td id=\"T_4c0309de_14b7_11ec_81da_0242ac1c0002row1_col7\" class=\"data row1 col7\" >0.006250</td>\n",
              "                        <td id=\"T_4c0309de_14b7_11ec_81da_0242ac1c0002row1_col8\" class=\"data row1 col8\" >0.91978</td>\n",
              "                        <td id=\"T_4c0309de_14b7_11ec_81da_0242ac1c0002row1_col9\" class=\"data row1 col9\" >0.98694</td>\n",
              "            </tr>\n",
              "            <tr>\n",
              "                        <th id=\"T_4c0309de_14b7_11ec_81da_0242ac1c0002level0_row2\" class=\"row_heading level0 row2\" >2</th>\n",
              "                        <td id=\"T_4c0309de_14b7_11ec_81da_0242ac1c0002row2_col0\" class=\"data row2 col0\" >CartScreenAppear</td>\n",
              "                        <td id=\"T_4c0309de_14b7_11ec_81da_0242ac1c0002row2_col1\" class=\"data row2 col1\" >1238</td>\n",
              "                        <td id=\"T_4c0309de_14b7_11ec_81da_0242ac1c0002row2_col2\" class=\"data row2 col2\" >1520</td>\n",
              "                        <td id=\"T_4c0309de_14b7_11ec_81da_0242ac1c0002row2_col3\" class=\"data row2 col3\" >0.814474</td>\n",
              "                        <td id=\"T_4c0309de_14b7_11ec_81da_0242ac1c0002row2_col4\" class=\"data row2 col4\" >1230</td>\n",
              "                        <td id=\"T_4c0309de_14b7_11ec_81da_0242ac1c0002row2_col5\" class=\"data row2 col5\" >1531</td>\n",
              "                        <td id=\"T_4c0309de_14b7_11ec_81da_0242ac1c0002row2_col6\" class=\"data row2 col6\" >0.803396</td>\n",
              "                        <td id=\"T_4c0309de_14b7_11ec_81da_0242ac1c0002row2_col7\" class=\"data row2 col7\" >0.006250</td>\n",
              "                        <td id=\"T_4c0309de_14b7_11ec_81da_0242ac1c0002row2_col8\" class=\"data row2 col8\" >0.57862</td>\n",
              "                        <td id=\"T_4c0309de_14b7_11ec_81da_0242ac1c0002row2_col9\" class=\"data row2 col9\" >0.43649</td>\n",
              "            </tr>\n",
              "            <tr>\n",
              "                        <th id=\"T_4c0309de_14b7_11ec_81da_0242ac1c0002level0_row3\" class=\"row_heading level0 row3\" >3</th>\n",
              "                        <td id=\"T_4c0309de_14b7_11ec_81da_0242ac1c0002row3_col0\" class=\"data row3 col0\" >PaymentScreenSuccessful</td>\n",
              "                        <td id=\"T_4c0309de_14b7_11ec_81da_0242ac1c0002row3_col1\" class=\"data row3 col1\" >1158</td>\n",
              "                        <td id=\"T_4c0309de_14b7_11ec_81da_0242ac1c0002row3_col2\" class=\"data row3 col2\" >1238</td>\n",
              "                        <td id=\"T_4c0309de_14b7_11ec_81da_0242ac1c0002row3_col3\" class=\"data row3 col3\" >0.935380</td>\n",
              "                        <td id=\"T_4c0309de_14b7_11ec_81da_0242ac1c0002row3_col4\" class=\"data row3 col4\" >1181</td>\n",
              "                        <td id=\"T_4c0309de_14b7_11ec_81da_0242ac1c0002row3_col5\" class=\"data row3 col5\" >1230</td>\n",
              "                        <td id=\"T_4c0309de_14b7_11ec_81da_0242ac1c0002row3_col6\" class=\"data row3 col6\" >0.960163</td>\n",
              "                        <td id=\"T_4c0309de_14b7_11ec_81da_0242ac1c0002row3_col7\" class=\"data row3 col7\" >0.006250</td>\n",
              "                        <td id=\"T_4c0309de_14b7_11ec_81da_0242ac1c0002row3_col8\" class=\"data row3 col8\" >0.73734</td>\n",
              "                        <td id=\"T_4c0309de_14b7_11ec_81da_0242ac1c0002row3_col9\" class=\"data row3 col9\" >0.00568</td>\n",
              "            </tr>\n",
              "    </tbody></table>"
            ],
            "text/plain": [
              "<pandas.io.formats.style.Styler at 0x7f8bea11c050>"
            ]
          },
          "metadata": {},
          "execution_count": 33
        }
      ]
    },
    {
      "cell_type": "markdown",
      "metadata": {
        "id": "4O5FpxXFHT2T"
      },
      "source": [
        "Значения p-value не меньше критических. Нулевую гипотезу по отсутствию статзначимых различий между группами A2 и B не отвергаем.\n",
        "\n",
        "Важный момент: если бы мы не сделали поправку на множественные проверки статзначимости (базовое значение `alpha` разделили на количество проверок, в нашем случае 4), нулевую гипотезу пришлось бы отвергнуть из-за значения p_value2 на поседнем этапе."
      ]
    },
    {
      "cell_type": "markdown",
      "metadata": {
        "id": "wj1eWnaQc7Gs"
      },
      "source": [
        "### Проверка гипотезы об отсутствии различий в конверсии между экспериментальной и объединённой контрольной группой <a id=\"abtest\"></a>"
      ]
    },
    {
      "cell_type": "markdown",
      "metadata": {
        "id": "SqSL1Q2mSLhe"
      },
      "source": [
        "Последним этапом сравним статзначимость различий в экспериментальной и объединённой контрольной группах.\n",
        "\n",
        "H0 - статистически значимых различий между группами нет."
      ]
    },
    {
      "cell_type": "code",
      "metadata": {
        "colab": {
          "base_uri": "https://localhost:8080/",
          "height": 121
        },
        "id": "sAflKC3sSf0W",
        "outputId": "657ece61-462b-4137-d552-1907da3ec2f8"
      },
      "source": [
        "#Объединяем данные по первой контрольной и экспериментальной группам в одну таблицу\n",
        "AB = A.merge(conv_func(log_data_248), on = 'event_name')\n",
        "AB.rename(columns = {'id':'B', 'prev_id': 'prev_step_B', 'conversion': 'conversion_B'}, inplace = True)\n",
        "AB['A'] = AB['A1'] + AB['A2']\n",
        "AB['prev_step_A'] = AB['prev_step1'] + AB['prev_step2']\n",
        "AB['conversion_A'] = AB['A'] / AB['prev_step_A']\n",
        "AB = AB[['event_name','A', 'prev_step_A', 'conversion_A', 'B', 'prev_step_B', 'conversion_B']]\n",
        "#AB.columns = ['event_name', 'A2', 'prev_step_A2', 'conversion_A2', 'B', 'prev_step_B', 'conversion_B']\n",
        "#Создаем столбец со значениями  критического уровня статистической значимости с поправкой Бонферрони\n",
        "AB['alpha'] = 0.05 / (AB.shape[0] * 2)\n",
        "#Применяем функцию к таблице \n",
        "#В этом столбце считаем абсолютную конверсию \n",
        "AB['p_value'] = AB.apply(lambda x: z_test(AB.iloc[0,2], x['A'], AB.iloc[0,5], x['B']), axis = 1)\n",
        "#В этом столбце считаем относительную конверсию \n",
        "AB['p_value_2'] = AB.apply(lambda x: z_test(x['prev_step_A'], x['A'], x['prev_step_B'], x['B']), axis = 1)    \n",
        "AB.style.format({'p_value':'{:.5f}', 'p_value_2':'{:.5f}'})"
      ],
      "execution_count": 34,
      "outputs": [
        {
          "output_type": "execute_result",
          "data": {
            "text/html": [
              "<style  type=\"text/css\" >\n",
              "</style><table id=\"T_4c11d914_14b7_11ec_81da_0242ac1c0002\" ><thead>    <tr>        <th class=\"blank level0\" ></th>        <th class=\"col_heading level0 col0\" >event_name</th>        <th class=\"col_heading level0 col1\" >A</th>        <th class=\"col_heading level0 col2\" >prev_step_A</th>        <th class=\"col_heading level0 col3\" >conversion_A</th>        <th class=\"col_heading level0 col4\" >B</th>        <th class=\"col_heading level0 col5\" >prev_step_B</th>        <th class=\"col_heading level0 col6\" >conversion_B</th>        <th class=\"col_heading level0 col7\" >alpha</th>        <th class=\"col_heading level0 col8\" >p_value</th>        <th class=\"col_heading level0 col9\" >p_value_2</th>    </tr></thead><tbody>\n",
              "                <tr>\n",
              "                        <th id=\"T_4c11d914_14b7_11ec_81da_0242ac1c0002level0_row0\" class=\"row_heading level0 row0\" >0</th>\n",
              "                        <td id=\"T_4c11d914_14b7_11ec_81da_0242ac1c0002row0_col0\" class=\"data row0 col0\" >MainScreenAppear</td>\n",
              "                        <td id=\"T_4c11d914_14b7_11ec_81da_0242ac1c0002row0_col1\" class=\"data row0 col1\" >4926</td>\n",
              "                        <td id=\"T_4c11d914_14b7_11ec_81da_0242ac1c0002row0_col2\" class=\"data row0 col2\" >4997</td>\n",
              "                        <td id=\"T_4c11d914_14b7_11ec_81da_0242ac1c0002row0_col3\" class=\"data row0 col3\" >0.985791</td>\n",
              "                        <td id=\"T_4c11d914_14b7_11ec_81da_0242ac1c0002row0_col4\" class=\"data row0 col4\" >2493</td>\n",
              "                        <td id=\"T_4c11d914_14b7_11ec_81da_0242ac1c0002row0_col5\" class=\"data row0 col5\" >2537</td>\n",
              "                        <td id=\"T_4c11d914_14b7_11ec_81da_0242ac1c0002row0_col6\" class=\"data row0 col6\" >0.982657</td>\n",
              "                        <td id=\"T_4c11d914_14b7_11ec_81da_0242ac1c0002row0_col7\" class=\"data row0 col7\" >0.006250</td>\n",
              "                        <td id=\"T_4c11d914_14b7_11ec_81da_0242ac1c0002row0_col8\" class=\"data row0 col8\" >0.29425</td>\n",
              "                        <td id=\"T_4c11d914_14b7_11ec_81da_0242ac1c0002row0_col9\" class=\"data row0 col9\" >0.29425</td>\n",
              "            </tr>\n",
              "            <tr>\n",
              "                        <th id=\"T_4c11d914_14b7_11ec_81da_0242ac1c0002level0_row1\" class=\"row_heading level0 row1\" >1</th>\n",
              "                        <td id=\"T_4c11d914_14b7_11ec_81da_0242ac1c0002row1_col0\" class=\"data row1 col0\" >OffersScreenAppear</td>\n",
              "                        <td id=\"T_4c11d914_14b7_11ec_81da_0242ac1c0002row1_col1\" class=\"data row1 col1\" >3062</td>\n",
              "                        <td id=\"T_4c11d914_14b7_11ec_81da_0242ac1c0002row1_col2\" class=\"data row1 col2\" >4926</td>\n",
              "                        <td id=\"T_4c11d914_14b7_11ec_81da_0242ac1c0002row1_col3\" class=\"data row1 col3\" >0.621600</td>\n",
              "                        <td id=\"T_4c11d914_14b7_11ec_81da_0242ac1c0002row1_col4\" class=\"data row1 col4\" >1531</td>\n",
              "                        <td id=\"T_4c11d914_14b7_11ec_81da_0242ac1c0002row1_col5\" class=\"data row1 col5\" >2493</td>\n",
              "                        <td id=\"T_4c11d914_14b7_11ec_81da_0242ac1c0002row1_col6\" class=\"data row1 col6\" >0.614120</td>\n",
              "                        <td id=\"T_4c11d914_14b7_11ec_81da_0242ac1c0002row1_col7\" class=\"data row1 col7\" >0.006250</td>\n",
              "                        <td id=\"T_4c11d914_14b7_11ec_81da_0242ac1c0002row1_col8\" class=\"data row1 col8\" >0.43426</td>\n",
              "                        <td id=\"T_4c11d914_14b7_11ec_81da_0242ac1c0002row1_col9\" class=\"data row1 col9\" >0.53086</td>\n",
              "            </tr>\n",
              "            <tr>\n",
              "                        <th id=\"T_4c11d914_14b7_11ec_81da_0242ac1c0002level0_row2\" class=\"row_heading level0 row2\" >2</th>\n",
              "                        <td id=\"T_4c11d914_14b7_11ec_81da_0242ac1c0002row2_col0\" class=\"data row2 col0\" >CartScreenAppear</td>\n",
              "                        <td id=\"T_4c11d914_14b7_11ec_81da_0242ac1c0002row2_col1\" class=\"data row2 col1\" >2504</td>\n",
              "                        <td id=\"T_4c11d914_14b7_11ec_81da_0242ac1c0002row2_col2\" class=\"data row2 col2\" >3062</td>\n",
              "                        <td id=\"T_4c11d914_14b7_11ec_81da_0242ac1c0002row2_col3\" class=\"data row2 col3\" >0.817766</td>\n",
              "                        <td id=\"T_4c11d914_14b7_11ec_81da_0242ac1c0002row2_col4\" class=\"data row2 col4\" >1230</td>\n",
              "                        <td id=\"T_4c11d914_14b7_11ec_81da_0242ac1c0002row2_col5\" class=\"data row2 col5\" >1531</td>\n",
              "                        <td id=\"T_4c11d914_14b7_11ec_81da_0242ac1c0002row2_col6\" class=\"data row2 col6\" >0.803396</td>\n",
              "                        <td id=\"T_4c11d914_14b7_11ec_81da_0242ac1c0002row2_col7\" class=\"data row2 col7\" >0.006250</td>\n",
              "                        <td id=\"T_4c11d914_14b7_11ec_81da_0242ac1c0002row2_col8\" class=\"data row2 col8\" >0.18176</td>\n",
              "                        <td id=\"T_4c11d914_14b7_11ec_81da_0242ac1c0002row2_col9\" class=\"data row2 col9\" >0.23906</td>\n",
              "            </tr>\n",
              "            <tr>\n",
              "                        <th id=\"T_4c11d914_14b7_11ec_81da_0242ac1c0002level0_row3\" class=\"row_heading level0 row3\" >3</th>\n",
              "                        <td id=\"T_4c11d914_14b7_11ec_81da_0242ac1c0002row3_col0\" class=\"data row3 col0\" >PaymentScreenSuccessful</td>\n",
              "                        <td id=\"T_4c11d914_14b7_11ec_81da_0242ac1c0002row3_col1\" class=\"data row3 col1\" >2358</td>\n",
              "                        <td id=\"T_4c11d914_14b7_11ec_81da_0242ac1c0002row3_col2\" class=\"data row3 col2\" >2504</td>\n",
              "                        <td id=\"T_4c11d914_14b7_11ec_81da_0242ac1c0002row3_col3\" class=\"data row3 col3\" >0.941693</td>\n",
              "                        <td id=\"T_4c11d914_14b7_11ec_81da_0242ac1c0002row3_col4\" class=\"data row3 col4\" >1181</td>\n",
              "                        <td id=\"T_4c11d914_14b7_11ec_81da_0242ac1c0002row3_col5\" class=\"data row3 col5\" >1230</td>\n",
              "                        <td id=\"T_4c11d914_14b7_11ec_81da_0242ac1c0002row3_col6\" class=\"data row3 col6\" >0.960163</td>\n",
              "                        <td id=\"T_4c11d914_14b7_11ec_81da_0242ac1c0002row3_col7\" class=\"data row3 col7\" >0.006250</td>\n",
              "                        <td id=\"T_4c11d914_14b7_11ec_81da_0242ac1c0002row3_col8\" class=\"data row3 col8\" >0.60043</td>\n",
              "                        <td id=\"T_4c11d914_14b7_11ec_81da_0242ac1c0002row3_col9\" class=\"data row3 col9\" >0.01711</td>\n",
              "            </tr>\n",
              "    </tbody></table>"
            ],
            "text/plain": [
              "<pandas.io.formats.style.Styler at 0x7f8be84d2050>"
            ]
          },
          "metadata": {},
          "execution_count": 34
        }
      ]
    },
    {
      "cell_type": "markdown",
      "metadata": {
        "id": "SZTnl7EbVbzJ"
      },
      "source": [
        "Сравнение показателей объединённой контрольной группы с экспериментальной дает отсутствие статистически значимых различий при выбранном уровне значимости 0,00625. \n",
        "\n",
        "Нужно отметить, что при уменьшении этого порога повышается вероятнсть ошибки второго рода (ошибочно не отвергнуть нулевую гипотезу). Однако уровень p-value достаточно высок. При сравнении абсолютных изменений конверсии нельзя отвергнуть нулевую гипотезу даже при нескорректированном `alpha`."
      ]
    },
    {
      "cell_type": "markdown",
      "metadata": {
        "id": "vK7zYMVkXwbX"
      },
      "source": [
        "## Выводы <a id=\"conclusions\"></a>"
      ]
    },
    {
      "cell_type": "markdown",
      "metadata": {
        "id": "wMmW4tL6XzKQ"
      },
      "source": [
        "Проект состоял из двух частей. В первой части мы исследовали все полученные при A/A/B-тестировании данные, чтобы увидеть воронку событий. Она показала:\n",
        "* **Около 1,5% пользователей заходят в приложение, минуя главный экран**. Нужно разобраться в причинах этого нетипичного маршрута\n",
        "* **До экрана с выбором продуктов не доходят 38% пользователей приложения**. Это большой процент. Нужно исследовать корректность работы приложения на этом этапе\n",
        "* В целом **из общего количества пользователей около половины** проходят всю цепочку событий и **успешно оплачивают заказ**. Это неплохой показатель, но его можно улучшить, проверив пункты выше.\n",
        "\n",
        "Исследование результатов A/A/B-теста показало:\n",
        "* Группы в исследовании отличаются друг от друга по размеру не больше чем на 1%. Это допустимое отклонение\n",
        "* Контрольные группы подобраны и разбиты корректно, гипотеза о наличии статистически значимых различий в них не отвергнута\n",
        "* Конверсия каждой контрольной группы (и совокупной контрольной) не имеет статистически значимых различий с результатами экспериментальной. Это значит, что **эксперимент с заменой шрифтов в приложении не дал большого прироста конверсии**."
      ]
    }
  ]
}