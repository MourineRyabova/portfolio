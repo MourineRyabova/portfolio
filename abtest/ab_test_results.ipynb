{
  "nbformat": 4,
  "nbformat_minor": 0,
  "metadata": {
    "ExecuteTimeLog": [
      {
        "duration": 2081,
        "start_time": "2021-07-11T12:53:45.086Z"
      },
      {
        "duration": 9425,
        "start_time": "2021-07-11T12:53:47.169Z"
      },
      {
        "duration": 1837,
        "start_time": "2021-07-11T12:53:56.598Z"
      },
      {
        "duration": 2674,
        "start_time": "2021-07-11T12:53:58.438Z"
      },
      {
        "duration": 898,
        "start_time": "2021-07-11T12:54:01.115Z"
      },
      {
        "duration": 15,
        "start_time": "2021-07-11T12:54:02.016Z"
      },
      {
        "duration": 40,
        "start_time": "2021-07-11T12:54:02.034Z"
      },
      {
        "duration": 16,
        "start_time": "2021-07-11T12:54:02.079Z"
      },
      {
        "duration": 18,
        "start_time": "2021-07-11T12:54:02.099Z"
      },
      {
        "duration": 55,
        "start_time": "2021-07-11T12:54:02.120Z"
      },
      {
        "duration": 5,
        "start_time": "2021-07-11T12:54:02.178Z"
      },
      {
        "duration": 32,
        "start_time": "2021-07-11T12:54:02.186Z"
      },
      {
        "duration": 55,
        "start_time": "2021-07-11T12:54:02.220Z"
      },
      {
        "duration": 44,
        "start_time": "2021-07-11T12:54:02.278Z"
      },
      {
        "duration": 224,
        "start_time": "2021-07-11T12:54:02.325Z"
      },
      {
        "duration": 219,
        "start_time": "2021-07-11T12:54:02.554Z"
      },
      {
        "duration": 41,
        "start_time": "2021-07-11T12:54:02.775Z"
      },
      {
        "duration": 49,
        "start_time": "2021-07-11T12:54:02.819Z"
      },
      {
        "duration": 7,
        "start_time": "2021-07-11T12:54:02.871Z"
      },
      {
        "duration": 22,
        "start_time": "2021-07-11T12:54:02.881Z"
      },
      {
        "duration": 80,
        "start_time": "2021-07-11T12:54:02.906Z"
      },
      {
        "duration": 7380,
        "start_time": "2021-07-11T12:54:02.989Z"
      },
      {
        "duration": -2278,
        "start_time": "2021-07-11T12:54:12.652Z"
      },
      {
        "duration": -2283,
        "start_time": "2021-07-11T12:54:12.659Z"
      },
      {
        "duration": -2287,
        "start_time": "2021-07-11T12:54:12.665Z"
      },
      {
        "duration": -2288,
        "start_time": "2021-07-11T12:54:12.668Z"
      },
      {
        "duration": -2288,
        "start_time": "2021-07-11T12:54:12.670Z"
      },
      {
        "duration": -2288,
        "start_time": "2021-07-11T12:54:12.672Z"
      },
      {
        "duration": -2288,
        "start_time": "2021-07-11T12:54:12.674Z"
      },
      {
        "duration": -2288,
        "start_time": "2021-07-11T12:54:12.676Z"
      },
      {
        "duration": -2288,
        "start_time": "2021-07-11T12:54:12.678Z"
      },
      {
        "duration": -2293,
        "start_time": "2021-07-11T12:54:12.685Z"
      },
      {
        "duration": -2294,
        "start_time": "2021-07-11T12:54:12.689Z"
      },
      {
        "duration": -2295,
        "start_time": "2021-07-11T12:54:12.692Z"
      },
      {
        "duration": -2295,
        "start_time": "2021-07-11T12:54:12.694Z"
      },
      {
        "duration": -2297,
        "start_time": "2021-07-11T12:54:12.698Z"
      },
      {
        "duration": -2301,
        "start_time": "2021-07-11T12:54:12.704Z"
      },
      {
        "duration": -2303,
        "start_time": "2021-07-11T12:54:12.708Z"
      },
      {
        "duration": -2306,
        "start_time": "2021-07-11T12:54:12.713Z"
      },
      {
        "duration": -2306,
        "start_time": "2021-07-11T12:54:12.715Z"
      },
      {
        "duration": -2264,
        "start_time": "2021-07-11T12:54:12.718Z"
      },
      {
        "duration": -2263,
        "start_time": "2021-07-11T12:54:12.720Z"
      },
      {
        "duration": -2268,
        "start_time": "2021-07-11T12:54:12.727Z"
      },
      {
        "duration": -2270,
        "start_time": "2021-07-11T12:54:12.731Z"
      },
      {
        "duration": 262,
        "start_time": "2021-07-11T12:54:39.121Z"
      },
      {
        "duration": 7381,
        "start_time": "2021-07-11T12:54:53.182Z"
      },
      {
        "duration": 7125,
        "start_time": "2021-07-11T12:56:34.171Z"
      },
      {
        "duration": 6,
        "start_time": "2021-07-11T12:57:26.956Z"
      },
      {
        "duration": 5278,
        "start_time": "2021-07-11T12:57:26.964Z"
      },
      {
        "duration": 1349,
        "start_time": "2021-07-11T12:57:32.244Z"
      },
      {
        "duration": 1808,
        "start_time": "2021-07-11T12:57:33.596Z"
      },
      {
        "duration": 593,
        "start_time": "2021-07-11T12:57:35.406Z"
      },
      {
        "duration": 10,
        "start_time": "2021-07-11T12:57:36.002Z"
      },
      {
        "duration": 29,
        "start_time": "2021-07-11T12:57:36.014Z"
      },
      {
        "duration": 20,
        "start_time": "2021-07-11T12:57:36.049Z"
      },
      {
        "duration": 9,
        "start_time": "2021-07-11T12:57:36.072Z"
      },
      {
        "duration": 37,
        "start_time": "2021-07-11T12:57:36.084Z"
      },
      {
        "duration": 35,
        "start_time": "2021-07-11T12:57:36.124Z"
      },
      {
        "duration": 30,
        "start_time": "2021-07-11T12:57:36.162Z"
      },
      {
        "duration": 61,
        "start_time": "2021-07-11T12:57:36.195Z"
      },
      {
        "duration": 38,
        "start_time": "2021-07-11T12:57:36.260Z"
      },
      {
        "duration": 79,
        "start_time": "2021-07-11T12:57:36.300Z"
      },
      {
        "duration": 255,
        "start_time": "2021-07-11T12:57:36.381Z"
      },
      {
        "duration": 53,
        "start_time": "2021-07-11T12:57:36.638Z"
      },
      {
        "duration": 27,
        "start_time": "2021-07-11T12:57:36.694Z"
      },
      {
        "duration": 32,
        "start_time": "2021-07-11T12:57:36.724Z"
      },
      {
        "duration": 15,
        "start_time": "2021-07-11T12:57:36.759Z"
      },
      {
        "duration": 36,
        "start_time": "2021-07-11T12:57:36.777Z"
      },
      {
        "duration": 6870,
        "start_time": "2021-07-11T12:57:59.685Z"
      },
      {
        "duration": 273,
        "start_time": "2021-07-11T12:58:15.225Z"
      },
      {
        "duration": 279,
        "start_time": "2021-07-11T12:58:47.793Z"
      },
      {
        "duration": 277,
        "start_time": "2021-07-11T12:58:58.243Z"
      },
      {
        "duration": 94,
        "start_time": "2021-07-11T12:59:15.448Z"
      },
      {
        "duration": 257,
        "start_time": "2021-07-11T12:59:40.542Z"
      },
      {
        "duration": 274,
        "start_time": "2021-07-11T12:59:49.632Z"
      },
      {
        "duration": 298,
        "start_time": "2021-07-11T13:00:09.474Z"
      },
      {
        "duration": 264,
        "start_time": "2021-07-11T13:00:33.935Z"
      },
      {
        "duration": 5,
        "start_time": "2021-07-11T13:00:46.200Z"
      },
      {
        "duration": 5,
        "start_time": "2021-07-11T13:00:55.106Z"
      },
      {
        "duration": 6,
        "start_time": "2021-07-11T13:01:33.651Z"
      },
      {
        "duration": 1923,
        "start_time": "2021-07-11T13:01:43.794Z"
      },
      {
        "duration": 5600,
        "start_time": "2021-07-11T13:01:45.719Z"
      },
      {
        "duration": 1496,
        "start_time": "2021-07-11T13:01:51.322Z"
      },
      {
        "duration": 1604,
        "start_time": "2021-07-11T13:01:52.821Z"
      },
      {
        "duration": 923,
        "start_time": "2021-07-11T13:01:54.428Z"
      },
      {
        "duration": 14,
        "start_time": "2021-07-11T13:01:55.356Z"
      },
      {
        "duration": 25,
        "start_time": "2021-07-11T13:01:55.373Z"
      },
      {
        "duration": 12,
        "start_time": "2021-07-11T13:01:55.401Z"
      },
      {
        "duration": 46,
        "start_time": "2021-07-11T13:01:55.417Z"
      },
      {
        "duration": 34,
        "start_time": "2021-07-11T13:01:55.466Z"
      },
      {
        "duration": 7,
        "start_time": "2021-07-11T13:01:55.503Z"
      },
      {
        "duration": 61,
        "start_time": "2021-07-11T13:01:55.513Z"
      },
      {
        "duration": 32,
        "start_time": "2021-07-11T13:01:55.578Z"
      },
      {
        "duration": 69,
        "start_time": "2021-07-11T13:01:55.613Z"
      },
      {
        "duration": 49,
        "start_time": "2021-07-11T13:01:55.685Z"
      },
      {
        "duration": 215,
        "start_time": "2021-07-11T13:01:55.754Z"
      },
      {
        "duration": 44,
        "start_time": "2021-07-11T13:01:55.972Z"
      },
      {
        "duration": 59,
        "start_time": "2021-07-11T13:01:56.019Z"
      },
      {
        "duration": 8,
        "start_time": "2021-07-11T13:01:56.081Z"
      },
      {
        "duration": 12,
        "start_time": "2021-07-11T13:01:56.092Z"
      },
      {
        "duration": 74,
        "start_time": "2021-07-11T13:01:56.107Z"
      },
      {
        "duration": 6,
        "start_time": "2021-07-11T13:01:56.184Z"
      },
      {
        "duration": 71,
        "start_time": "2021-07-11T13:01:56.193Z"
      },
      {
        "duration": 11,
        "start_time": "2021-07-11T13:01:56.267Z"
      },
      {
        "duration": 27,
        "start_time": "2021-07-11T13:01:56.281Z"
      },
      {
        "duration": 667,
        "start_time": "2021-07-11T13:01:56.310Z"
      },
      {
        "duration": 27,
        "start_time": "2021-07-11T13:01:56.983Z"
      },
      {
        "duration": 11,
        "start_time": "2021-07-11T13:01:57.013Z"
      },
      {
        "duration": 517,
        "start_time": "2021-07-11T13:01:57.026Z"
      },
      {
        "duration": -2281,
        "start_time": "2021-07-11T13:01:59.827Z"
      },
      {
        "duration": -2286,
        "start_time": "2021-07-11T13:01:59.834Z"
      },
      {
        "duration": -2287,
        "start_time": "2021-07-11T13:01:59.836Z"
      },
      {
        "duration": -2287,
        "start_time": "2021-07-11T13:01:59.838Z"
      },
      {
        "duration": -2291,
        "start_time": "2021-07-11T13:01:59.844Z"
      },
      {
        "duration": -2288,
        "start_time": "2021-07-11T13:01:59.846Z"
      },
      {
        "duration": -2288,
        "start_time": "2021-07-11T13:01:59.848Z"
      },
      {
        "duration": -2288,
        "start_time": "2021-07-11T13:01:59.850Z"
      },
      {
        "duration": -2286,
        "start_time": "2021-07-11T13:01:59.851Z"
      },
      {
        "duration": -2286,
        "start_time": "2021-07-11T13:01:59.853Z"
      },
      {
        "duration": -2288,
        "start_time": "2021-07-11T13:01:59.856Z"
      },
      {
        "duration": -2289,
        "start_time": "2021-07-11T13:01:59.859Z"
      },
      {
        "duration": -2289,
        "start_time": "2021-07-11T13:01:59.861Z"
      },
      {
        "duration": -2290,
        "start_time": "2021-07-11T13:01:59.863Z"
      },
      {
        "duration": -2291,
        "start_time": "2021-07-11T13:01:59.865Z"
      },
      {
        "duration": 7678,
        "start_time": "2021-07-11T13:04:42.655Z"
      },
      {
        "duration": 5338,
        "start_time": "2021-07-11T13:04:50.336Z"
      },
      {
        "duration": 1504,
        "start_time": "2021-07-11T13:04:55.681Z"
      },
      {
        "duration": 1911,
        "start_time": "2021-07-11T13:04:57.188Z"
      },
      {
        "duration": 643,
        "start_time": "2021-07-11T13:04:59.101Z"
      },
      {
        "duration": 11,
        "start_time": "2021-07-11T13:04:59.747Z"
      },
      {
        "duration": 28,
        "start_time": "2021-07-11T13:04:59.761Z"
      },
      {
        "duration": 18,
        "start_time": "2021-07-11T13:04:59.796Z"
      },
      {
        "duration": 10,
        "start_time": "2021-07-11T13:04:59.817Z"
      },
      {
        "duration": 51,
        "start_time": "2021-07-11T13:04:59.862Z"
      },
      {
        "duration": 5,
        "start_time": "2021-07-11T13:04:59.916Z"
      },
      {
        "duration": 57,
        "start_time": "2021-07-11T13:04:59.923Z"
      },
      {
        "duration": 35,
        "start_time": "2021-07-11T13:04:59.983Z"
      },
      {
        "duration": 61,
        "start_time": "2021-07-11T13:05:00.021Z"
      },
      {
        "duration": 72,
        "start_time": "2021-07-11T13:05:00.084Z"
      },
      {
        "duration": 354,
        "start_time": "2021-07-11T13:05:00.158Z"
      },
      {
        "duration": 61,
        "start_time": "2021-07-11T13:05:00.514Z"
      },
      {
        "duration": 39,
        "start_time": "2021-07-11T13:05:00.578Z"
      },
      {
        "duration": 7,
        "start_time": "2021-07-11T13:05:00.620Z"
      },
      {
        "duration": 44,
        "start_time": "2021-07-11T13:05:00.629Z"
      },
      {
        "duration": 51,
        "start_time": "2021-07-11T13:05:00.676Z"
      },
      {
        "duration": 4,
        "start_time": "2021-07-11T13:05:00.730Z"
      },
      {
        "duration": 41,
        "start_time": "2021-07-11T13:05:00.737Z"
      },
      {
        "duration": 18,
        "start_time": "2021-07-11T13:05:00.781Z"
      },
      {
        "duration": 38,
        "start_time": "2021-07-11T13:05:00.801Z"
      },
      {
        "duration": 688,
        "start_time": "2021-07-11T13:05:00.845Z"
      },
      {
        "duration": 48,
        "start_time": "2021-07-11T13:05:01.536Z"
      },
      {
        "duration": 30,
        "start_time": "2021-07-11T13:05:01.586Z"
      },
      {
        "duration": 536,
        "start_time": "2021-07-11T13:05:01.618Z"
      },
      {
        "duration": 791,
        "start_time": "2021-07-11T13:05:02.157Z"
      },
      {
        "duration": 9,
        "start_time": "2021-07-11T13:05:02.951Z"
      },
      {
        "duration": 31,
        "start_time": "2021-07-11T13:05:02.963Z"
      },
      {
        "duration": 31,
        "start_time": "2021-07-11T13:05:02.997Z"
      },
      {
        "duration": 67,
        "start_time": "2021-07-11T13:05:03.031Z"
      },
      {
        "duration": 136,
        "start_time": "2021-07-11T13:05:03.101Z"
      },
      {
        "duration": 59,
        "start_time": "2021-07-11T13:05:03.239Z"
      },
      {
        "duration": 829,
        "start_time": "2021-07-11T13:05:03.300Z"
      },
      {
        "duration": 171,
        "start_time": "2021-07-11T13:05:04.132Z"
      },
      {
        "duration": 311,
        "start_time": "2021-07-11T13:05:04.355Z"
      },
      {
        "duration": 17,
        "start_time": "2021-07-11T13:05:04.669Z"
      },
      {
        "duration": 122,
        "start_time": "2021-07-11T13:05:04.689Z"
      },
      {
        "duration": 6,
        "start_time": "2021-07-11T13:05:04.813Z"
      },
      {
        "duration": 93,
        "start_time": "2021-07-11T13:05:04.821Z"
      },
      {
        "duration": 55,
        "start_time": "2021-07-11T13:05:04.916Z"
      },
      {
        "duration": 5547,
        "start_time": "2021-07-11T18:14:38.508Z"
      },
      {
        "duration": 11718,
        "start_time": "2021-07-11T18:14:44.057Z"
      },
      {
        "duration": 1677,
        "start_time": "2021-07-11T18:14:55.777Z"
      },
      {
        "duration": 2959,
        "start_time": "2021-07-11T18:14:57.456Z"
      },
      {
        "duration": 1031,
        "start_time": "2021-07-11T18:15:00.417Z"
      },
      {
        "duration": 6,
        "start_time": "2021-07-11T18:15:01.450Z"
      },
      {
        "duration": 20,
        "start_time": "2021-07-11T18:15:01.458Z"
      },
      {
        "duration": 8,
        "start_time": "2021-07-11T18:15:01.479Z"
      },
      {
        "duration": 9,
        "start_time": "2021-07-11T18:15:01.489Z"
      },
      {
        "duration": 47,
        "start_time": "2021-07-11T18:15:01.500Z"
      },
      {
        "duration": 4,
        "start_time": "2021-07-11T18:15:01.548Z"
      },
      {
        "duration": 24,
        "start_time": "2021-07-11T18:15:01.553Z"
      },
      {
        "duration": 20,
        "start_time": "2021-07-11T18:15:01.578Z"
      },
      {
        "duration": 42,
        "start_time": "2021-07-11T18:15:01.599Z"
      },
      {
        "duration": 32,
        "start_time": "2021-07-11T18:15:01.642Z"
      },
      {
        "duration": 144,
        "start_time": "2021-07-11T18:15:01.675Z"
      },
      {
        "duration": 44,
        "start_time": "2021-07-11T18:15:01.821Z"
      },
      {
        "duration": 27,
        "start_time": "2021-07-11T18:15:01.867Z"
      },
      {
        "duration": 4,
        "start_time": "2021-07-11T18:15:01.895Z"
      },
      {
        "duration": 9,
        "start_time": "2021-07-11T18:15:01.901Z"
      },
      {
        "duration": 36,
        "start_time": "2021-07-11T18:15:01.912Z"
      },
      {
        "duration": 4,
        "start_time": "2021-07-11T18:15:01.949Z"
      },
      {
        "duration": 22,
        "start_time": "2021-07-11T18:15:01.954Z"
      },
      {
        "duration": 7,
        "start_time": "2021-07-11T18:15:01.977Z"
      },
      {
        "duration": 17,
        "start_time": "2021-07-11T18:15:01.986Z"
      },
      {
        "duration": 750,
        "start_time": "2021-07-11T18:15:02.004Z"
      },
      {
        "duration": 23,
        "start_time": "2021-07-11T18:15:02.757Z"
      },
      {
        "duration": 10,
        "start_time": "2021-07-11T18:15:02.782Z"
      },
      {
        "duration": 232,
        "start_time": "2021-07-11T18:15:02.793Z"
      },
      {
        "duration": 313,
        "start_time": "2021-07-11T18:15:03.027Z"
      },
      {
        "duration": 6,
        "start_time": "2021-07-11T18:15:03.342Z"
      },
      {
        "duration": 12,
        "start_time": "2021-07-11T18:15:03.349Z"
      },
      {
        "duration": 18,
        "start_time": "2021-07-11T18:15:03.363Z"
      },
      {
        "duration": 30,
        "start_time": "2021-07-11T18:15:03.383Z"
      },
      {
        "duration": 10,
        "start_time": "2021-07-11T18:15:03.414Z"
      },
      {
        "duration": 29,
        "start_time": "2021-07-11T18:15:03.441Z"
      },
      {
        "duration": 254,
        "start_time": "2021-07-11T18:15:03.471Z"
      },
      {
        "duration": 51,
        "start_time": "2021-07-11T18:15:03.726Z"
      },
      {
        "duration": 62,
        "start_time": "2021-07-11T18:15:03.779Z"
      },
      {
        "duration": 9,
        "start_time": "2021-07-11T18:15:03.843Z"
      },
      {
        "duration": 100,
        "start_time": "2021-07-11T18:15:03.854Z"
      },
      {
        "duration": 4,
        "start_time": "2021-07-11T18:15:03.956Z"
      },
      {
        "duration": 43,
        "start_time": "2021-07-11T18:15:03.962Z"
      },
      {
        "duration": 35,
        "start_time": "2021-07-11T18:15:04.006Z"
      },
      {
        "duration": 4,
        "start_time": "2021-07-11T19:32:30.748Z"
      },
      {
        "duration": 4,
        "start_time": "2021-07-11T19:32:35.566Z"
      },
      {
        "duration": 22,
        "start_time": "2021-07-11T19:32:42.044Z"
      },
      {
        "duration": 23,
        "start_time": "2021-07-11T19:34:54.669Z"
      },
      {
        "duration": 19,
        "start_time": "2021-07-11T19:38:03.338Z"
      },
      {
        "duration": 23,
        "start_time": "2021-07-11T19:38:56.961Z"
      },
      {
        "duration": 83,
        "start_time": "2021-07-11T19:39:32.933Z"
      },
      {
        "duration": 13,
        "start_time": "2021-07-11T19:39:40.631Z"
      },
      {
        "duration": 26,
        "start_time": "2021-07-11T19:40:01.286Z"
      },
      {
        "duration": 20,
        "start_time": "2021-07-11T19:40:46.260Z"
      },
      {
        "duration": 31,
        "start_time": "2021-07-11T19:40:53.240Z"
      },
      {
        "duration": 32,
        "start_time": "2021-07-11T19:40:56.433Z"
      },
      {
        "duration": 51,
        "start_time": "2021-07-11T19:40:58.762Z"
      },
      {
        "duration": 32,
        "start_time": "2021-07-11T19:41:11.410Z"
      },
      {
        "duration": 16,
        "start_time": "2021-07-11T19:41:51.725Z"
      },
      {
        "duration": 15,
        "start_time": "2021-07-11T19:41:56.856Z"
      },
      {
        "duration": 393,
        "start_time": "2021-07-11T19:43:54.813Z"
      },
      {
        "duration": 85,
        "start_time": "2021-07-11T19:44:11.091Z"
      },
      {
        "duration": 266,
        "start_time": "2021-07-11T19:44:13.676Z"
      },
      {
        "duration": 4,
        "start_time": "2021-07-11T19:44:17.780Z"
      },
      {
        "duration": 4467,
        "start_time": "2021-07-11T19:45:39.978Z"
      },
      {
        "duration": 11049,
        "start_time": "2021-07-11T19:45:44.447Z"
      },
      {
        "duration": 1689,
        "start_time": "2021-07-11T19:45:55.498Z"
      },
      {
        "duration": 2577,
        "start_time": "2021-07-11T19:45:57.189Z"
      },
      {
        "duration": 999,
        "start_time": "2021-07-11T19:45:59.767Z"
      },
      {
        "duration": 7,
        "start_time": "2021-07-11T19:46:00.767Z"
      },
      {
        "duration": 20,
        "start_time": "2021-07-11T19:46:00.775Z"
      },
      {
        "duration": 9,
        "start_time": "2021-07-11T19:46:00.798Z"
      },
      {
        "duration": 11,
        "start_time": "2021-07-11T19:46:00.809Z"
      },
      {
        "duration": 34,
        "start_time": "2021-07-11T19:46:00.822Z"
      },
      {
        "duration": 4,
        "start_time": "2021-07-11T19:46:00.857Z"
      },
      {
        "duration": 27,
        "start_time": "2021-07-11T19:46:00.862Z"
      },
      {
        "duration": 20,
        "start_time": "2021-07-11T19:46:00.890Z"
      },
      {
        "duration": 31,
        "start_time": "2021-07-11T19:46:00.912Z"
      },
      {
        "duration": 30,
        "start_time": "2021-07-11T19:46:00.944Z"
      },
      {
        "duration": 151,
        "start_time": "2021-07-11T19:46:00.976Z"
      },
      {
        "duration": 38,
        "start_time": "2021-07-11T19:46:01.128Z"
      },
      {
        "duration": 35,
        "start_time": "2021-07-11T19:46:01.168Z"
      },
      {
        "duration": 8,
        "start_time": "2021-07-11T19:46:01.204Z"
      },
      {
        "duration": 26,
        "start_time": "2021-07-11T19:46:01.213Z"
      },
      {
        "duration": 34,
        "start_time": "2021-07-11T19:46:01.241Z"
      },
      {
        "duration": 4,
        "start_time": "2021-07-11T19:46:01.276Z"
      },
      {
        "duration": 34,
        "start_time": "2021-07-11T19:46:01.283Z"
      },
      {
        "duration": 7,
        "start_time": "2021-07-11T19:46:01.319Z"
      },
      {
        "duration": 20,
        "start_time": "2021-07-11T19:46:01.328Z"
      },
      {
        "duration": 734,
        "start_time": "2021-07-11T19:46:01.349Z"
      },
      {
        "duration": 19,
        "start_time": "2021-07-11T19:46:02.085Z"
      },
      {
        "duration": 12,
        "start_time": "2021-07-11T19:46:02.106Z"
      },
      {
        "duration": 221,
        "start_time": "2021-07-11T19:46:02.119Z"
      },
      {
        "duration": 308,
        "start_time": "2021-07-11T19:46:02.342Z"
      },
      {
        "duration": 5,
        "start_time": "2021-07-11T19:46:02.652Z"
      },
      {
        "duration": 11,
        "start_time": "2021-07-11T19:46:02.659Z"
      },
      {
        "duration": 13,
        "start_time": "2021-07-11T19:46:02.671Z"
      },
      {
        "duration": 23,
        "start_time": "2021-07-11T19:46:02.686Z"
      },
      {
        "duration": 36,
        "start_time": "2021-07-11T19:46:02.711Z"
      },
      {
        "duration": 26,
        "start_time": "2021-07-11T19:46:02.749Z"
      },
      {
        "duration": 261,
        "start_time": "2021-07-11T19:46:02.776Z"
      },
      {
        "duration": 112,
        "start_time": "2021-07-11T19:46:03.039Z"
      },
      {
        "duration": 12,
        "start_time": "2021-07-11T19:46:03.152Z"
      },
      {
        "duration": 16,
        "start_time": "2021-07-11T19:46:03.165Z"
      },
      {
        "duration": 100,
        "start_time": "2021-07-11T19:46:03.182Z"
      },
      {
        "duration": 3,
        "start_time": "2021-07-11T19:46:03.284Z"
      },
      {
        "duration": 81,
        "start_time": "2021-07-11T19:46:03.288Z"
      },
      {
        "duration": 23,
        "start_time": "2021-07-11T19:46:03.370Z"
      },
      {
        "duration": 4283,
        "start_time": "2021-07-12T10:52:28.304Z"
      },
      {
        "duration": 7877,
        "start_time": "2021-07-12T10:52:32.589Z"
      },
      {
        "duration": 1596,
        "start_time": "2021-07-12T10:52:40.468Z"
      },
      {
        "duration": 2801,
        "start_time": "2021-07-12T10:52:42.066Z"
      },
      {
        "duration": 1204,
        "start_time": "2021-07-12T10:52:44.869Z"
      },
      {
        "duration": 7,
        "start_time": "2021-07-12T10:52:46.074Z"
      },
      {
        "duration": 15,
        "start_time": "2021-07-12T10:52:46.083Z"
      },
      {
        "duration": 8,
        "start_time": "2021-07-12T10:52:46.100Z"
      },
      {
        "duration": 7,
        "start_time": "2021-07-12T10:52:46.110Z"
      },
      {
        "duration": 23,
        "start_time": "2021-07-12T10:52:46.119Z"
      },
      {
        "duration": 4,
        "start_time": "2021-07-12T10:52:46.144Z"
      },
      {
        "duration": 54,
        "start_time": "2021-07-12T10:52:46.149Z"
      },
      {
        "duration": 20,
        "start_time": "2021-07-12T10:52:46.205Z"
      },
      {
        "duration": 21,
        "start_time": "2021-07-12T10:52:46.227Z"
      },
      {
        "duration": 60,
        "start_time": "2021-07-12T10:52:46.250Z"
      },
      {
        "duration": 132,
        "start_time": "2021-07-12T10:52:46.312Z"
      },
      {
        "duration": 26,
        "start_time": "2021-07-12T10:52:46.445Z"
      },
      {
        "duration": 26,
        "start_time": "2021-07-12T10:52:46.473Z"
      },
      {
        "duration": 4,
        "start_time": "2021-07-12T10:52:46.500Z"
      },
      {
        "duration": 7,
        "start_time": "2021-07-12T10:52:46.505Z"
      },
      {
        "duration": 18,
        "start_time": "2021-07-12T10:52:46.514Z"
      },
      {
        "duration": 3,
        "start_time": "2021-07-12T10:52:46.533Z"
      },
      {
        "duration": 50,
        "start_time": "2021-07-12T10:52:46.538Z"
      },
      {
        "duration": 6,
        "start_time": "2021-07-12T10:52:46.590Z"
      },
      {
        "duration": 16,
        "start_time": "2021-07-12T10:52:46.597Z"
      },
      {
        "duration": 24,
        "start_time": "2021-07-12T10:52:58.654Z"
      },
      {
        "duration": 2068,
        "start_time": "2021-07-12T11:03:01.837Z"
      },
      {
        "duration": 14372,
        "start_time": "2021-07-12T11:03:03.907Z"
      },
      {
        "duration": 1740,
        "start_time": "2021-07-12T11:03:18.281Z"
      },
      {
        "duration": 7795,
        "start_time": "2021-07-12T11:03:20.023Z"
      },
      {
        "duration": 1180,
        "start_time": "2021-07-12T11:03:27.819Z"
      },
      {
        "duration": 7,
        "start_time": "2021-07-12T11:03:29.001Z"
      },
      {
        "duration": 14,
        "start_time": "2021-07-12T11:03:29.009Z"
      },
      {
        "duration": 7,
        "start_time": "2021-07-12T11:03:29.025Z"
      },
      {
        "duration": 6,
        "start_time": "2021-07-12T11:03:29.034Z"
      },
      {
        "duration": 51,
        "start_time": "2021-07-12T11:03:29.042Z"
      },
      {
        "duration": 4,
        "start_time": "2021-07-12T11:03:29.095Z"
      },
      {
        "duration": 19,
        "start_time": "2021-07-12T11:03:29.101Z"
      },
      {
        "duration": 21,
        "start_time": "2021-07-12T11:03:29.122Z"
      },
      {
        "duration": 53,
        "start_time": "2021-07-12T11:03:29.145Z"
      },
      {
        "duration": 33,
        "start_time": "2021-07-12T11:03:29.200Z"
      },
      {
        "duration": 170,
        "start_time": "2021-07-12T11:03:29.235Z"
      },
      {
        "duration": 33,
        "start_time": "2021-07-12T11:03:29.407Z"
      },
      {
        "duration": 20,
        "start_time": "2021-07-12T11:03:29.442Z"
      },
      {
        "duration": 23,
        "start_time": "2021-07-12T11:03:29.464Z"
      },
      {
        "duration": 9,
        "start_time": "2021-07-12T11:03:29.489Z"
      },
      {
        "duration": 21,
        "start_time": "2021-07-12T11:03:29.500Z"
      },
      {
        "duration": 4,
        "start_time": "2021-07-12T11:03:29.523Z"
      },
      {
        "duration": 60,
        "start_time": "2021-07-12T11:03:29.531Z"
      },
      {
        "duration": 19,
        "start_time": "2021-07-12T11:03:29.593Z"
      },
      {
        "duration": 8,
        "start_time": "2021-07-12T11:03:29.614Z"
      },
      {
        "duration": 18,
        "start_time": "2021-07-12T11:03:29.624Z"
      },
      {
        "duration": 370,
        "start_time": "2021-07-12T11:03:29.643Z"
      },
      {
        "duration": 22,
        "start_time": "2021-07-12T11:03:30.015Z"
      },
      {
        "duration": 10,
        "start_time": "2021-07-12T11:03:30.039Z"
      },
      {
        "duration": 317,
        "start_time": "2021-07-12T11:03:30.050Z"
      },
      {
        "duration": 509,
        "start_time": "2021-07-12T11:03:30.369Z"
      },
      {
        "duration": 6,
        "start_time": "2021-07-12T11:03:30.879Z"
      },
      {
        "duration": 21,
        "start_time": "2021-07-12T11:03:30.887Z"
      },
      {
        "duration": 3,
        "start_time": "2021-07-12T11:03:36.597Z"
      },
      {
        "duration": 9,
        "start_time": "2021-07-12T11:03:58.797Z"
      },
      {
        "duration": 7,
        "start_time": "2021-07-12T11:04:05.885Z"
      },
      {
        "duration": 2088,
        "start_time": "2021-07-12T11:04:12.360Z"
      },
      {
        "duration": 6603,
        "start_time": "2021-07-12T11:04:14.451Z"
      },
      {
        "duration": 1315,
        "start_time": "2021-07-12T11:04:21.056Z"
      },
      {
        "duration": 2069,
        "start_time": "2021-07-12T11:04:22.372Z"
      },
      {
        "duration": 793,
        "start_time": "2021-07-12T11:04:24.443Z"
      },
      {
        "duration": 9,
        "start_time": "2021-07-12T11:04:25.238Z"
      },
      {
        "duration": 15,
        "start_time": "2021-07-12T11:04:25.249Z"
      },
      {
        "duration": 10,
        "start_time": "2021-07-12T11:04:25.266Z"
      },
      {
        "duration": 7,
        "start_time": "2021-07-12T11:04:25.279Z"
      },
      {
        "duration": 25,
        "start_time": "2021-07-12T11:04:25.288Z"
      },
      {
        "duration": 4,
        "start_time": "2021-07-12T11:04:25.314Z"
      },
      {
        "duration": 18,
        "start_time": "2021-07-12T11:04:25.319Z"
      },
      {
        "duration": 46,
        "start_time": "2021-07-12T11:04:25.339Z"
      },
      {
        "duration": 22,
        "start_time": "2021-07-12T11:04:25.386Z"
      },
      {
        "duration": 32,
        "start_time": "2021-07-12T11:04:25.410Z"
      },
      {
        "duration": 165,
        "start_time": "2021-07-12T11:04:25.443Z"
      },
      {
        "duration": 33,
        "start_time": "2021-07-12T11:04:25.610Z"
      },
      {
        "duration": 20,
        "start_time": "2021-07-12T11:04:25.645Z"
      },
      {
        "duration": 21,
        "start_time": "2021-07-12T11:04:25.666Z"
      },
      {
        "duration": 8,
        "start_time": "2021-07-12T11:04:25.688Z"
      },
      {
        "duration": 21,
        "start_time": "2021-07-12T11:04:25.698Z"
      },
      {
        "duration": 4,
        "start_time": "2021-07-12T11:04:25.720Z"
      },
      {
        "duration": 25,
        "start_time": "2021-07-12T11:04:25.726Z"
      },
      {
        "duration": 50,
        "start_time": "2021-07-12T11:04:25.753Z"
      },
      {
        "duration": 8,
        "start_time": "2021-07-12T11:04:25.804Z"
      },
      {
        "duration": 18,
        "start_time": "2021-07-12T11:04:25.813Z"
      },
      {
        "duration": 57,
        "start_time": "2021-07-12T11:04:25.835Z"
      },
      {
        "duration": 20,
        "start_time": "2021-07-12T11:04:25.893Z"
      },
      {
        "duration": 8,
        "start_time": "2021-07-12T11:04:25.915Z"
      },
      {
        "duration": 421,
        "start_time": "2021-07-12T11:04:25.925Z"
      },
      {
        "duration": 422,
        "start_time": "2021-07-12T11:04:26.348Z"
      },
      {
        "duration": 13,
        "start_time": "2021-07-12T11:04:26.772Z"
      },
      {
        "duration": 11,
        "start_time": "2021-07-12T11:04:33.087Z"
      },
      {
        "duration": 4,
        "start_time": "2021-07-12T11:04:36.326Z"
      },
      {
        "duration": 4,
        "start_time": "2021-07-12T11:04:42.032Z"
      },
      {
        "duration": 68,
        "start_time": "2021-07-12T11:12:55.437Z"
      },
      {
        "duration": 61,
        "start_time": "2021-07-12T11:13:04.246Z"
      },
      {
        "duration": 57,
        "start_time": "2021-07-12T11:13:17.358Z"
      },
      {
        "duration": 4,
        "start_time": "2021-07-12T11:13:31.098Z"
      },
      {
        "duration": 5,
        "start_time": "2021-07-12T11:13:48.247Z"
      },
      {
        "duration": 321,
        "start_time": "2021-07-12T11:26:38.556Z"
      },
      {
        "duration": 2265,
        "start_time": "2021-07-12T11:26:44.863Z"
      },
      {
        "duration": 10270,
        "start_time": "2021-07-12T11:26:47.130Z"
      },
      {
        "duration": 1585,
        "start_time": "2021-07-12T11:26:57.402Z"
      },
      {
        "duration": 2549,
        "start_time": "2021-07-12T11:26:58.990Z"
      },
      {
        "duration": 5811,
        "start_time": "2021-07-12T11:27:01.540Z"
      },
      {
        "duration": 7,
        "start_time": "2021-07-12T11:27:07.353Z"
      },
      {
        "duration": 18,
        "start_time": "2021-07-12T11:27:07.361Z"
      },
      {
        "duration": 11,
        "start_time": "2021-07-12T11:27:07.381Z"
      },
      {
        "duration": 10,
        "start_time": "2021-07-12T11:27:07.395Z"
      },
      {
        "duration": 22,
        "start_time": "2021-07-12T11:27:07.407Z"
      },
      {
        "duration": 3,
        "start_time": "2021-07-12T11:27:07.431Z"
      },
      {
        "duration": 19,
        "start_time": "2021-07-12T11:27:07.436Z"
      },
      {
        "duration": 57,
        "start_time": "2021-07-12T11:27:07.457Z"
      },
      {
        "duration": 21,
        "start_time": "2021-07-12T11:27:07.515Z"
      },
      {
        "duration": 55,
        "start_time": "2021-07-12T11:27:07.537Z"
      },
      {
        "duration": 193,
        "start_time": "2021-07-12T11:27:07.595Z"
      },
      {
        "duration": 35,
        "start_time": "2021-07-12T11:27:07.790Z"
      },
      {
        "duration": 16,
        "start_time": "2021-07-12T11:27:07.827Z"
      },
      {
        "duration": 4,
        "start_time": "2021-07-12T11:27:07.844Z"
      },
      {
        "duration": 7,
        "start_time": "2021-07-12T11:27:07.849Z"
      },
      {
        "duration": 52,
        "start_time": "2021-07-12T11:27:07.858Z"
      },
      {
        "duration": 4,
        "start_time": "2021-07-12T11:27:07.911Z"
      },
      {
        "duration": 23,
        "start_time": "2021-07-12T11:27:07.917Z"
      },
      {
        "duration": 43,
        "start_time": "2021-07-12T11:27:07.942Z"
      },
      {
        "duration": 10,
        "start_time": "2021-07-12T11:27:07.988Z"
      },
      {
        "duration": 19,
        "start_time": "2021-07-12T11:27:08.000Z"
      },
      {
        "duration": 25,
        "start_time": "2021-07-12T11:27:08.022Z"
      },
      {
        "duration": 50,
        "start_time": "2021-07-12T11:27:08.049Z"
      },
      {
        "duration": 8,
        "start_time": "2021-07-12T11:27:08.102Z"
      },
      {
        "duration": 416,
        "start_time": "2021-07-12T11:27:08.112Z"
      },
      {
        "duration": 448,
        "start_time": "2021-07-12T11:27:08.530Z"
      },
      {
        "duration": 9,
        "start_time": "2021-07-12T11:27:08.980Z"
      },
      {
        "duration": 14,
        "start_time": "2021-07-12T11:27:08.991Z"
      },
      {
        "duration": 5,
        "start_time": "2021-07-12T11:27:09.007Z"
      },
      {
        "duration": 16,
        "start_time": "2021-07-12T11:27:09.013Z"
      },
      {
        "duration": 66,
        "start_time": "2021-07-12T11:27:09.031Z"
      },
      {
        "duration": 11,
        "start_time": "2021-07-12T11:27:09.099Z"
      },
      {
        "duration": 28,
        "start_time": "2021-07-12T11:27:09.112Z"
      },
      {
        "duration": 681,
        "start_time": "2021-07-12T11:27:16.324Z"
      },
      {
        "duration": 125,
        "start_time": "2021-07-12T11:29:40.287Z"
      },
      {
        "duration": 332,
        "start_time": "2021-07-12T11:30:32.019Z"
      },
      {
        "duration": 2334,
        "start_time": "2021-07-12T11:30:44.230Z"
      },
      {
        "duration": 4905,
        "start_time": "2021-07-12T11:30:46.566Z"
      },
      {
        "duration": 1072,
        "start_time": "2021-07-12T11:30:51.474Z"
      },
      {
        "duration": 1629,
        "start_time": "2021-07-12T11:30:52.548Z"
      },
      {
        "duration": 723,
        "start_time": "2021-07-12T11:30:54.180Z"
      },
      {
        "duration": 9,
        "start_time": "2021-07-12T11:30:54.905Z"
      },
      {
        "duration": 16,
        "start_time": "2021-07-12T11:30:54.916Z"
      },
      {
        "duration": 9,
        "start_time": "2021-07-12T11:30:54.936Z"
      },
      {
        "duration": 42,
        "start_time": "2021-07-12T11:30:54.947Z"
      },
      {
        "duration": 26,
        "start_time": "2021-07-12T11:30:54.992Z"
      },
      {
        "duration": 4,
        "start_time": "2021-07-12T11:30:55.020Z"
      },
      {
        "duration": 20,
        "start_time": "2021-07-12T11:30:55.025Z"
      },
      {
        "duration": 55,
        "start_time": "2021-07-12T11:30:55.047Z"
      },
      {
        "duration": 21,
        "start_time": "2021-07-12T11:30:55.104Z"
      },
      {
        "duration": 31,
        "start_time": "2021-07-12T11:30:55.127Z"
      },
      {
        "duration": 183,
        "start_time": "2021-07-12T11:30:55.160Z"
      },
      {
        "duration": 42,
        "start_time": "2021-07-12T11:30:55.345Z"
      },
      {
        "duration": 22,
        "start_time": "2021-07-12T11:30:55.389Z"
      },
      {
        "duration": 5,
        "start_time": "2021-07-12T11:30:55.413Z"
      },
      {
        "duration": 9,
        "start_time": "2021-07-12T11:30:55.420Z"
      },
      {
        "duration": 22,
        "start_time": "2021-07-12T11:30:55.430Z"
      },
      {
        "duration": 5,
        "start_time": "2021-07-12T11:30:55.486Z"
      },
      {
        "duration": 26,
        "start_time": "2021-07-12T11:30:55.496Z"
      },
      {
        "duration": 17,
        "start_time": "2021-07-12T11:30:55.524Z"
      },
      {
        "duration": 7,
        "start_time": "2021-07-12T11:30:55.543Z"
      },
      {
        "duration": 24,
        "start_time": "2021-07-12T11:30:55.585Z"
      },
      {
        "duration": 26,
        "start_time": "2021-07-12T11:30:55.610Z"
      },
      {
        "duration": 14,
        "start_time": "2021-07-12T11:30:55.637Z"
      },
      {
        "duration": 33,
        "start_time": "2021-07-12T11:30:55.653Z"
      },
      {
        "duration": 430,
        "start_time": "2021-07-12T11:30:55.689Z"
      },
      {
        "duration": 448,
        "start_time": "2021-07-12T11:30:56.121Z"
      },
      {
        "duration": 5,
        "start_time": "2021-07-12T11:30:56.571Z"
      },
      {
        "duration": 20,
        "start_time": "2021-07-12T11:30:56.578Z"
      },
      {
        "duration": 6,
        "start_time": "2021-07-12T11:30:56.600Z"
      },
      {
        "duration": 16,
        "start_time": "2021-07-12T11:30:56.608Z"
      },
      {
        "duration": 28,
        "start_time": "2021-07-12T11:30:56.625Z"
      },
      {
        "duration": 15,
        "start_time": "2021-07-12T11:30:56.685Z"
      },
      {
        "duration": 29,
        "start_time": "2021-07-12T11:30:56.702Z"
      },
      {
        "duration": 322,
        "start_time": "2021-07-12T11:30:56.732Z"
      },
      {
        "duration": 75,
        "start_time": "2021-07-12T11:30:57.057Z"
      },
      {
        "duration": 111,
        "start_time": "2021-07-12T11:33:42.298Z"
      },
      {
        "duration": 2082,
        "start_time": "2021-07-12T11:37:20.058Z"
      },
      {
        "duration": 9371,
        "start_time": "2021-07-12T11:37:22.142Z"
      },
      {
        "duration": 2057,
        "start_time": "2021-07-12T11:37:31.515Z"
      },
      {
        "duration": 2600,
        "start_time": "2021-07-12T11:37:33.574Z"
      },
      {
        "duration": 1014,
        "start_time": "2021-07-12T11:37:36.176Z"
      },
      {
        "duration": 7,
        "start_time": "2021-07-12T11:37:37.191Z"
      },
      {
        "duration": 14,
        "start_time": "2021-07-12T11:37:37.200Z"
      },
      {
        "duration": 8,
        "start_time": "2021-07-12T11:37:37.216Z"
      },
      {
        "duration": 9,
        "start_time": "2021-07-12T11:37:37.226Z"
      },
      {
        "duration": 48,
        "start_time": "2021-07-12T11:37:37.237Z"
      },
      {
        "duration": 4,
        "start_time": "2021-07-12T11:37:37.286Z"
      },
      {
        "duration": 25,
        "start_time": "2021-07-12T11:37:37.291Z"
      },
      {
        "duration": 19,
        "start_time": "2021-07-12T11:37:37.318Z"
      },
      {
        "duration": 22,
        "start_time": "2021-07-12T11:37:37.339Z"
      },
      {
        "duration": 50,
        "start_time": "2021-07-12T11:37:37.362Z"
      },
      {
        "duration": 152,
        "start_time": "2021-07-12T11:37:37.414Z"
      },
      {
        "duration": 37,
        "start_time": "2021-07-12T11:37:37.568Z"
      },
      {
        "duration": 17,
        "start_time": "2021-07-12T11:37:37.607Z"
      },
      {
        "duration": 4,
        "start_time": "2021-07-12T11:37:37.626Z"
      },
      {
        "duration": 10,
        "start_time": "2021-07-12T11:37:37.631Z"
      },
      {
        "duration": 46,
        "start_time": "2021-07-12T11:37:37.642Z"
      },
      {
        "duration": 4,
        "start_time": "2021-07-12T11:37:37.690Z"
      },
      {
        "duration": 25,
        "start_time": "2021-07-12T11:37:37.698Z"
      },
      {
        "duration": 21,
        "start_time": "2021-07-12T11:37:37.725Z"
      },
      {
        "duration": 41,
        "start_time": "2021-07-12T11:37:37.748Z"
      },
      {
        "duration": 18,
        "start_time": "2021-07-12T11:37:37.791Z"
      },
      {
        "duration": 27,
        "start_time": "2021-07-12T11:37:37.811Z"
      },
      {
        "duration": 45,
        "start_time": "2021-07-12T11:37:37.840Z"
      },
      {
        "duration": 9,
        "start_time": "2021-07-12T11:37:37.887Z"
      },
      {
        "duration": 398,
        "start_time": "2021-07-12T11:37:37.897Z"
      },
      {
        "duration": 420,
        "start_time": "2021-07-12T11:37:38.297Z"
      },
      {
        "duration": 6,
        "start_time": "2021-07-12T11:37:38.718Z"
      },
      {
        "duration": 11,
        "start_time": "2021-07-12T11:37:38.725Z"
      },
      {
        "duration": 3,
        "start_time": "2021-07-12T11:37:38.738Z"
      },
      {
        "duration": 17,
        "start_time": "2021-07-12T11:37:38.743Z"
      },
      {
        "duration": 22,
        "start_time": "2021-07-12T11:37:38.784Z"
      },
      {
        "duration": 11,
        "start_time": "2021-07-12T11:37:38.808Z"
      },
      {
        "duration": 35,
        "start_time": "2021-07-12T11:37:38.821Z"
      },
      {
        "duration": 142,
        "start_time": "2021-07-12T11:37:38.858Z"
      },
      {
        "duration": 50,
        "start_time": "2021-07-12T11:37:39.001Z"
      },
      {
        "duration": 294,
        "start_time": "2021-07-12T11:37:39.052Z"
      },
      {
        "duration": 8,
        "start_time": "2021-07-12T11:37:39.348Z"
      },
      {
        "duration": 64,
        "start_time": "2021-07-12T11:37:39.358Z"
      },
      {
        "duration": 4,
        "start_time": "2021-07-12T11:37:39.423Z"
      },
      {
        "duration": 57,
        "start_time": "2021-07-12T11:37:39.428Z"
      },
      {
        "duration": 4,
        "start_time": "2021-07-12T11:38:17.667Z"
      },
      {
        "duration": 38,
        "start_time": "2021-07-12T11:38:32.890Z"
      },
      {
        "duration": 55,
        "start_time": "2021-07-12T11:40:33.096Z"
      },
      {
        "duration": 224,
        "start_time": "2021-07-12T11:42:49.467Z"
      },
      {
        "duration": 620,
        "start_time": "2021-07-12T11:43:54.007Z"
      },
      {
        "duration": 618,
        "start_time": "2021-07-12T11:44:19.029Z"
      },
      {
        "duration": 585,
        "start_time": "2021-07-12T11:45:08.558Z"
      },
      {
        "duration": 218,
        "start_time": "2021-07-12T12:10:09.477Z"
      },
      {
        "duration": 11,
        "start_time": "2021-07-12T12:10:36.299Z"
      },
      {
        "duration": 212,
        "start_time": "2021-07-12T12:12:42.427Z"
      },
      {
        "duration": 485,
        "start_time": "2021-07-12T12:13:15.967Z"
      },
      {
        "duration": 480,
        "start_time": "2021-07-12T12:13:30.327Z"
      },
      {
        "duration": 16,
        "start_time": "2021-07-12T12:17:12.127Z"
      },
      {
        "duration": 3446,
        "start_time": "2021-07-12T12:19:12.111Z"
      },
      {
        "duration": 10094,
        "start_time": "2021-07-12T12:19:15.559Z"
      },
      {
        "duration": 1642,
        "start_time": "2021-07-12T12:19:25.655Z"
      },
      {
        "duration": 2333,
        "start_time": "2021-07-12T12:19:27.299Z"
      },
      {
        "duration": 1085,
        "start_time": "2021-07-12T12:19:29.634Z"
      },
      {
        "duration": 7,
        "start_time": "2021-07-12T12:19:30.721Z"
      },
      {
        "duration": 16,
        "start_time": "2021-07-12T12:19:30.730Z"
      },
      {
        "duration": 9,
        "start_time": "2021-07-12T12:19:30.748Z"
      },
      {
        "duration": 10,
        "start_time": "2021-07-12T12:19:30.759Z"
      },
      {
        "duration": 29,
        "start_time": "2021-07-12T12:19:30.771Z"
      },
      {
        "duration": 4,
        "start_time": "2021-07-12T12:19:30.802Z"
      },
      {
        "duration": 21,
        "start_time": "2021-07-12T12:19:30.808Z"
      },
      {
        "duration": 21,
        "start_time": "2021-07-12T12:19:30.831Z"
      },
      {
        "duration": 49,
        "start_time": "2021-07-12T12:19:30.853Z"
      },
      {
        "duration": 33,
        "start_time": "2021-07-12T12:19:30.904Z"
      },
      {
        "duration": 172,
        "start_time": "2021-07-12T12:19:30.939Z"
      },
      {
        "duration": 35,
        "start_time": "2021-07-12T12:19:31.113Z"
      },
      {
        "duration": 36,
        "start_time": "2021-07-12T12:19:31.149Z"
      },
      {
        "duration": 5,
        "start_time": "2021-07-12T12:19:31.187Z"
      },
      {
        "duration": 20,
        "start_time": "2021-07-12T12:19:31.193Z"
      },
      {
        "duration": 32,
        "start_time": "2021-07-12T12:19:31.215Z"
      },
      {
        "duration": 4,
        "start_time": "2021-07-12T12:19:31.248Z"
      },
      {
        "duration": 40,
        "start_time": "2021-07-12T12:19:31.256Z"
      },
      {
        "duration": 19,
        "start_time": "2021-07-12T12:19:31.298Z"
      },
      {
        "duration": 7,
        "start_time": "2021-07-12T12:19:31.318Z"
      },
      {
        "duration": 16,
        "start_time": "2021-07-12T12:19:31.327Z"
      },
      {
        "duration": 363,
        "start_time": "2021-07-12T12:19:31.344Z"
      },
      {
        "duration": 22,
        "start_time": "2021-07-12T12:19:31.709Z"
      },
      {
        "duration": 9,
        "start_time": "2021-07-12T12:19:31.733Z"
      },
      {
        "duration": 314,
        "start_time": "2021-07-12T12:19:31.743Z"
      },
      {
        "duration": -802,
        "start_time": "2021-07-12T12:19:32.861Z"
      },
      {
        "duration": -806,
        "start_time": "2021-07-12T12:19:32.866Z"
      },
      {
        "duration": -808,
        "start_time": "2021-07-12T12:19:32.869Z"
      },
      {
        "duration": -810,
        "start_time": "2021-07-12T12:19:32.872Z"
      },
      {
        "duration": -815,
        "start_time": "2021-07-12T12:19:32.877Z"
      },
      {
        "duration": -818,
        "start_time": "2021-07-12T12:19:32.881Z"
      },
      {
        "duration": -820,
        "start_time": "2021-07-12T12:19:32.884Z"
      },
      {
        "duration": -823,
        "start_time": "2021-07-12T12:19:32.888Z"
      },
      {
        "duration": -825,
        "start_time": "2021-07-12T12:19:32.891Z"
      },
      {
        "duration": -828,
        "start_time": "2021-07-12T12:19:32.895Z"
      },
      {
        "duration": -836,
        "start_time": "2021-07-12T12:19:32.904Z"
      },
      {
        "duration": -840,
        "start_time": "2021-07-12T12:19:32.909Z"
      },
      {
        "duration": -842,
        "start_time": "2021-07-12T12:19:32.912Z"
      },
      {
        "duration": -845,
        "start_time": "2021-07-12T12:19:32.916Z"
      },
      {
        "duration": -847,
        "start_time": "2021-07-12T12:19:32.919Z"
      },
      {
        "duration": -850,
        "start_time": "2021-07-12T12:19:32.923Z"
      },
      {
        "duration": -852,
        "start_time": "2021-07-12T12:19:32.926Z"
      },
      {
        "duration": -855,
        "start_time": "2021-07-12T12:19:32.930Z"
      },
      {
        "duration": 3585,
        "start_time": "2021-07-12T12:24:53.875Z"
      },
      {
        "duration": 9742,
        "start_time": "2021-07-12T12:24:57.462Z"
      },
      {
        "duration": 1421,
        "start_time": "2021-07-12T12:25:07.207Z"
      },
      {
        "duration": 2421,
        "start_time": "2021-07-12T12:25:08.630Z"
      },
      {
        "duration": 909,
        "start_time": "2021-07-12T12:25:11.053Z"
      },
      {
        "duration": 7,
        "start_time": "2021-07-12T12:25:11.963Z"
      },
      {
        "duration": 33,
        "start_time": "2021-07-12T12:25:11.971Z"
      },
      {
        "duration": 18,
        "start_time": "2021-07-12T12:25:12.007Z"
      },
      {
        "duration": 30,
        "start_time": "2021-07-12T12:25:12.027Z"
      },
      {
        "duration": 47,
        "start_time": "2021-07-12T12:25:12.058Z"
      },
      {
        "duration": 4,
        "start_time": "2021-07-12T12:25:12.107Z"
      },
      {
        "duration": 40,
        "start_time": "2021-07-12T12:25:12.112Z"
      },
      {
        "duration": 49,
        "start_time": "2021-07-12T12:25:12.154Z"
      },
      {
        "duration": 23,
        "start_time": "2021-07-12T12:25:12.205Z"
      },
      {
        "duration": 42,
        "start_time": "2021-07-12T12:25:12.229Z"
      },
      {
        "duration": 177,
        "start_time": "2021-07-12T12:25:12.272Z"
      },
      {
        "duration": 43,
        "start_time": "2021-07-12T12:25:12.451Z"
      },
      {
        "duration": 22,
        "start_time": "2021-07-12T12:25:12.496Z"
      },
      {
        "duration": 11,
        "start_time": "2021-07-12T12:25:12.520Z"
      },
      {
        "duration": 21,
        "start_time": "2021-07-12T12:25:12.533Z"
      },
      {
        "duration": 44,
        "start_time": "2021-07-12T12:25:12.555Z"
      },
      {
        "duration": 7,
        "start_time": "2021-07-12T12:25:12.601Z"
      },
      {
        "duration": 40,
        "start_time": "2021-07-12T12:25:12.612Z"
      },
      {
        "duration": 22,
        "start_time": "2021-07-12T12:25:12.654Z"
      },
      {
        "duration": 18,
        "start_time": "2021-07-12T12:25:12.677Z"
      },
      {
        "duration": 31,
        "start_time": "2021-07-12T12:25:12.697Z"
      },
      {
        "duration": 337,
        "start_time": "2021-07-12T12:25:12.730Z"
      },
      {
        "duration": 23,
        "start_time": "2021-07-12T12:25:13.069Z"
      },
      {
        "duration": 16,
        "start_time": "2021-07-12T12:25:13.094Z"
      },
      {
        "duration": 468,
        "start_time": "2021-07-12T12:25:13.112Z"
      },
      {
        "duration": 769,
        "start_time": "2021-07-12T12:25:13.582Z"
      },
      {
        "duration": 5,
        "start_time": "2021-07-12T12:25:14.353Z"
      },
      {
        "duration": 28,
        "start_time": "2021-07-12T12:25:14.360Z"
      },
      {
        "duration": 37,
        "start_time": "2021-07-12T12:25:14.391Z"
      },
      {
        "duration": 45,
        "start_time": "2021-07-12T12:25:14.430Z"
      },
      {
        "duration": 63,
        "start_time": "2021-07-12T12:25:14.477Z"
      },
      {
        "duration": 16,
        "start_time": "2021-07-12T12:25:14.542Z"
      },
      {
        "duration": 53,
        "start_time": "2021-07-12T12:25:14.560Z"
      },
      {
        "duration": 563,
        "start_time": "2021-07-12T12:25:14.615Z"
      },
      {
        "duration": 121,
        "start_time": "2021-07-12T12:25:15.186Z"
      },
      {
        "duration": 212,
        "start_time": "2021-07-12T12:25:15.309Z"
      },
      {
        "duration": 9,
        "start_time": "2021-07-12T12:25:15.523Z"
      },
      {
        "duration": 78,
        "start_time": "2021-07-12T12:25:15.533Z"
      },
      {
        "duration": 3,
        "start_time": "2021-07-12T12:25:15.613Z"
      },
      {
        "duration": 55,
        "start_time": "2021-07-12T12:25:15.618Z"
      },
      {
        "duration": 10,
        "start_time": "2021-07-12T12:25:15.675Z"
      },
      {
        "duration": 29,
        "start_time": "2021-07-12T12:25:15.687Z"
      },
      {
        "duration": 6017,
        "start_time": "2021-07-12T17:42:19.390Z"
      },
      {
        "duration": 8932,
        "start_time": "2021-07-12T17:42:25.410Z"
      },
      {
        "duration": 2942,
        "start_time": "2021-07-12T17:42:34.345Z"
      },
      {
        "duration": 2888,
        "start_time": "2021-07-12T17:42:37.289Z"
      },
      {
        "duration": 1198,
        "start_time": "2021-07-12T17:42:40.179Z"
      },
      {
        "duration": 11,
        "start_time": "2021-07-12T17:42:41.380Z"
      },
      {
        "duration": 88,
        "start_time": "2021-07-12T17:42:41.393Z"
      },
      {
        "duration": 11,
        "start_time": "2021-07-12T17:42:41.484Z"
      },
      {
        "duration": 77,
        "start_time": "2021-07-12T17:42:41.500Z"
      },
      {
        "duration": 103,
        "start_time": "2021-07-12T17:42:41.580Z"
      },
      {
        "duration": 5,
        "start_time": "2021-07-12T17:42:41.685Z"
      },
      {
        "duration": 93,
        "start_time": "2021-07-12T17:42:41.692Z"
      },
      {
        "duration": 97,
        "start_time": "2021-07-12T17:42:41.787Z"
      },
      {
        "duration": 95,
        "start_time": "2021-07-12T17:42:41.886Z"
      },
      {
        "duration": 199,
        "start_time": "2021-07-12T17:42:41.984Z"
      },
      {
        "duration": 606,
        "start_time": "2021-07-12T17:42:42.186Z"
      },
      {
        "duration": 102,
        "start_time": "2021-07-12T17:42:42.795Z"
      },
      {
        "duration": 87,
        "start_time": "2021-07-12T17:42:42.900Z"
      },
      {
        "duration": 5,
        "start_time": "2021-07-12T17:42:42.990Z"
      },
      {
        "duration": 77,
        "start_time": "2021-07-12T17:42:42.998Z"
      },
      {
        "duration": 96,
        "start_time": "2021-07-12T17:42:43.078Z"
      },
      {
        "duration": 5,
        "start_time": "2021-07-12T17:42:43.176Z"
      },
      {
        "duration": 102,
        "start_time": "2021-07-12T17:42:43.184Z"
      },
      {
        "duration": 89,
        "start_time": "2021-07-12T17:42:43.289Z"
      },
      {
        "duration": 11,
        "start_time": "2021-07-12T17:42:43.380Z"
      },
      {
        "duration": 92,
        "start_time": "2021-07-12T17:42:43.393Z"
      },
      {
        "duration": 1099,
        "start_time": "2021-07-12T17:42:43.492Z"
      },
      {
        "duration": 82,
        "start_time": "2021-07-12T17:42:44.594Z"
      },
      {
        "duration": 18,
        "start_time": "2021-07-12T17:42:44.678Z"
      },
      {
        "duration": 1573,
        "start_time": "2021-07-12T17:42:44.698Z"
      },
      {
        "duration": 1923,
        "start_time": "2021-07-12T17:42:46.273Z"
      },
      {
        "duration": 8,
        "start_time": "2021-07-12T17:42:48.198Z"
      },
      {
        "duration": 74,
        "start_time": "2021-07-12T17:42:48.209Z"
      },
      {
        "duration": 6,
        "start_time": "2021-07-12T17:42:48.286Z"
      },
      {
        "duration": 92,
        "start_time": "2021-07-12T17:42:48.295Z"
      },
      {
        "duration": 84,
        "start_time": "2021-07-12T17:42:48.390Z"
      },
      {
        "duration": 23,
        "start_time": "2021-07-12T17:42:48.477Z"
      },
      {
        "duration": 175,
        "start_time": "2021-07-12T17:42:48.504Z"
      },
      {
        "duration": 503,
        "start_time": "2021-07-12T17:42:48.681Z"
      },
      {
        "duration": 303,
        "start_time": "2021-07-12T17:42:49.187Z"
      },
      {
        "duration": 86,
        "start_time": "2021-07-12T17:42:49.492Z"
      },
      {
        "duration": 88,
        "start_time": "2021-07-12T17:42:49.580Z"
      },
      {
        "duration": 213,
        "start_time": "2021-07-12T17:42:49.671Z"
      },
      {
        "duration": 6,
        "start_time": "2021-07-12T17:42:49.886Z"
      },
      {
        "duration": 189,
        "start_time": "2021-07-12T17:42:49.894Z"
      },
      {
        "duration": 7,
        "start_time": "2021-07-12T17:42:50.086Z"
      },
      {
        "duration": 170,
        "start_time": "2021-07-12T17:42:50.097Z"
      },
      {
        "duration": 6,
        "start_time": "2021-07-12T17:44:35.731Z"
      },
      {
        "duration": 6,
        "start_time": "2021-07-12T17:45:30.011Z"
      }
    ],
    "colab": {
      "name": "ABtest_accepted.ipynb",
      "provenance": []
    },
    "kernelspec": {
      "display_name": "Python 3",
      "language": "python",
      "name": "python3"
    },
    "language_info": {
      "codemirror_mode": {
        "name": "ipython",
        "version": 3
      },
      "file_extension": ".py",
      "mimetype": "text/x-python",
      "name": "python",
      "nbconvert_exporter": "python",
      "pygments_lexer": "ipython3",
      "version": "3.7.8"
    },
    "toc": {
      "base_numbering": 1,
      "nav_menu": {},
      "number_sections": false,
      "sideBar": true,
      "skip_h1_title": true,
      "title_cell": "Table of Contents",
      "title_sidebar": "Contents",
      "toc_cell": false,
      "toc_position": {},
      "toc_section_display": true,
      "toc_window_display": false
    }
  },
  "cells": [
    {
      "cell_type": "markdown",
      "metadata": {
        "id": "Cev23upCWAEd"
      },
      "source": [
        "# Анализ результатов А/В-теста `recommender_system_test`"
      ]
    },
    {
      "cell_type": "markdown",
      "metadata": {
        "id": "zOnz2n9lWQNe"
      },
      "source": [
        "## Содержание\n",
        "* [Цель исследования](#purpose)\n",
        "* [Исходные данные](#data)\n",
        "* [Предобработка данных](#preprocessing)\n",
        "* [Исследовательский анализ данных](#analysis)\n",
        "* [Воронка событий](#funnel)\n",
        "* [Проверка гипотезы об отсутствии различий в конверсии между экспериментальной и контрольной группой](#hypothesis)\n",
        "* [Выводы](#conclusions)"
      ]
    },
    {
      "cell_type": "markdown",
      "metadata": {
        "id": "sDMGcWhYXShM"
      },
      "source": [
        "## Цель исследования <a id=\"purpose\"></a>"
      ]
    },
    {
      "cell_type": "markdown",
      "metadata": {
        "id": "g_SqxVY0y2Jo"
      },
      "source": [
        "Задача — провести оценку результатов A/B-теста в соответствии с техническим заданием, предварительно очистив данные.\n",
        "\n",
        "Техническое задание:\n",
        "\n",
        "* Название теста: recommender_system_test;\n",
        "* Группы: А (контрольная), B (новая платёжная воронка);\n",
        "* Дата запуска: 2020-12-07;\n",
        "* Дата остановки набора новых пользователей: 2020-12-21;\n",
        "* Дата остановки: 2021-01-04;\n",
        "* Аудитория: 15% новых пользователей из региона EU;\n",
        "* Назначение теста: тестирование изменений, связанных с внедрением улучшенной рекомендательной системы;\n",
        "* Ожидаемое количество участников теста: 6000.\n",
        "* Ожидаемый эффект: за 14 дней с момента регистрации в системе пользователи покажут улучшение каждой метрики не менее, чем на 10%:\n",
        "    * конверсии в просмотр карточек товаров — событие product_page\n",
        "    * просмотры корзины — product_cart\n",
        "    * покупки — purchase."
      ]
    },
    {
      "cell_type": "markdown",
      "metadata": {
        "id": "afjL7RtcXf4R"
      },
      "source": [
        "## Исходные данные <a id=\"data\"></a>"
      ]
    },
    {
      "cell_type": "code",
      "metadata": {
        "colab": {
          "base_uri": "https://localhost:8080/"
        },
        "id": "TxGy89cvMkZw",
        "outputId": "3a4745d3-74a4-46c1-b063-deeac30c2a0a"
      },
      "source": [
        "import pandas as pd\n",
        "import matplotlib.pyplot as plt\n",
        "import numpy as np\n",
        "import math as mth\n",
        "import scipy.stats as st\n",
        "!pip3 install -U seaborn==0.11.1\n",
        "import seaborn as sns\n",
        "import plotly.express as px\n",
        "from plotly import graph_objects as go\n",
        "import warnings \n",
        "warnings.filterwarnings('ignore')\n",
        "from pandas.plotting import register_matplotlib_converters\n",
        "register_matplotlib_converters()\n",
        "from io import BytesIO\n",
        "import requests\n"
      ],
      "execution_count": 1,
      "outputs": [
        {
          "output_type": "stream",
          "text": [
            "Requirement already satisfied: seaborn==0.11.1 in /usr/local/lib/python3.7/dist-packages (0.11.1)\n",
            "Requirement already satisfied: pandas>=0.23 in /usr/local/lib/python3.7/dist-packages (from seaborn==0.11.1) (1.1.5)\n",
            "Requirement already satisfied: numpy>=1.15 in /usr/local/lib/python3.7/dist-packages (from seaborn==0.11.1) (1.19.5)\n",
            "Requirement already satisfied: scipy>=1.0 in /usr/local/lib/python3.7/dist-packages (from seaborn==0.11.1) (1.4.1)\n",
            "Requirement already satisfied: matplotlib>=2.2 in /usr/local/lib/python3.7/dist-packages (from seaborn==0.11.1) (3.2.2)\n",
            "Requirement already satisfied: python-dateutil>=2.1 in /usr/local/lib/python3.7/dist-packages (from matplotlib>=2.2->seaborn==0.11.1) (2.8.1)\n",
            "Requirement already satisfied: kiwisolver>=1.0.1 in /usr/local/lib/python3.7/dist-packages (from matplotlib>=2.2->seaborn==0.11.1) (1.3.1)\n",
            "Requirement already satisfied: pyparsing!=2.0.4,!=2.1.2,!=2.1.6,>=2.0.1 in /usr/local/lib/python3.7/dist-packages (from matplotlib>=2.2->seaborn==0.11.1) (2.4.7)\n",
            "Requirement already satisfied: cycler>=0.10 in /usr/local/lib/python3.7/dist-packages (from matplotlib>=2.2->seaborn==0.11.1) (0.10.0)\n",
            "Requirement already satisfied: six in /usr/local/lib/python3.7/dist-packages (from cycler>=0.10->matplotlib>=2.2->seaborn==0.11.1) (1.15.0)\n",
            "Requirement already satisfied: pytz>=2017.2 in /usr/local/lib/python3.7/dist-packages (from pandas>=0.23->seaborn==0.11.1) (2018.9)\n"
          ],
          "name": "stdout"
        }
      ]
    },
    {
      "cell_type": "markdown",
      "metadata": {
        "id": "kQkGe6kC__Sp"
      },
      "source": [
        "В нашем распоряжении 4 таблицы:\n",
        "* `events` - основная таблица с данными о событиях, которые совершали участники теста;\n",
        "* `participants` - данные по участникам теста (привязка к группе тестирования и названию теста). Не все пользователи участвовали в тесте, результаты которого нужно проверить;\n",
        "* `new_users` - информация о том, когда пользователь зарегистрировался в системе;\n",
        "* `marketing_events` - список маркетинговых акций (даты их проведения нужно учесть для исключения влияния на результаты теста)"
      ]
    },
    {
      "cell_type": "code",
      "metadata": {
        "colab": {
          "base_uri": "https://localhost:8080/",
          "height": 400
        },
        "id": "klu2RdCjODp6",
        "outputId": "b191e362-a527-46b5-a2cb-ef7221116954"
      },
      "source": [
        "spreadsheet_id = '1L7kwvX8xh8j_FrC5mVTTeiX8lgOC4XYLaLm9d58fp8o'\n",
        "file_name = 'https://docs.google.com/spreadsheets/d/{}/export?format=csv'.format(spreadsheet_id)\n",
        "r = requests.get(file_name)\n",
        "events = pd.read_csv(BytesIO(r.content))\n",
        "events.info()\n",
        "events.head()"
      ],
      "execution_count": 2,
      "outputs": [
        {
          "output_type": "stream",
          "text": [
            "<class 'pandas.core.frame.DataFrame'>\n",
            "RangeIndex: 440317 entries, 0 to 440316\n",
            "Data columns (total 4 columns):\n",
            " #   Column      Non-Null Count   Dtype  \n",
            "---  ------      --------------   -----  \n",
            " 0   user_id     440317 non-null  object \n",
            " 1   event_dt    440317 non-null  object \n",
            " 2   event_name  440317 non-null  object \n",
            " 3   details     62740 non-null   float64\n",
            "dtypes: float64(1), object(3)\n",
            "memory usage: 13.4+ MB\n"
          ],
          "name": "stdout"
        },
        {
          "output_type": "execute_result",
          "data": {
            "text/html": [
              "<div>\n",
              "<style scoped>\n",
              "    .dataframe tbody tr th:only-of-type {\n",
              "        vertical-align: middle;\n",
              "    }\n",
              "\n",
              "    .dataframe tbody tr th {\n",
              "        vertical-align: top;\n",
              "    }\n",
              "\n",
              "    .dataframe thead th {\n",
              "        text-align: right;\n",
              "    }\n",
              "</style>\n",
              "<table border=\"1\" class=\"dataframe\">\n",
              "  <thead>\n",
              "    <tr style=\"text-align: right;\">\n",
              "      <th></th>\n",
              "      <th>user_id</th>\n",
              "      <th>event_dt</th>\n",
              "      <th>event_name</th>\n",
              "      <th>details</th>\n",
              "    </tr>\n",
              "  </thead>\n",
              "  <tbody>\n",
              "    <tr>\n",
              "      <th>0</th>\n",
              "      <td>E1BDDCE0DAFA2679</td>\n",
              "      <td>2020-12-07 20:22:03</td>\n",
              "      <td>purchase</td>\n",
              "      <td>99.99</td>\n",
              "    </tr>\n",
              "    <tr>\n",
              "      <th>1</th>\n",
              "      <td>7B6452F081F49504</td>\n",
              "      <td>2020-12-07 9:22:53</td>\n",
              "      <td>purchase</td>\n",
              "      <td>9.99</td>\n",
              "    </tr>\n",
              "    <tr>\n",
              "      <th>2</th>\n",
              "      <td>9CD9F34546DF254C</td>\n",
              "      <td>2020-12-07 12:59:29</td>\n",
              "      <td>purchase</td>\n",
              "      <td>4.99</td>\n",
              "    </tr>\n",
              "    <tr>\n",
              "      <th>3</th>\n",
              "      <td>96F27A054B191457</td>\n",
              "      <td>2020-12-07 4:02:40</td>\n",
              "      <td>purchase</td>\n",
              "      <td>4.99</td>\n",
              "    </tr>\n",
              "    <tr>\n",
              "      <th>4</th>\n",
              "      <td>1FD7660FDF94CA1F</td>\n",
              "      <td>2020-12-07 10:15:09</td>\n",
              "      <td>purchase</td>\n",
              "      <td>4.99</td>\n",
              "    </tr>\n",
              "  </tbody>\n",
              "</table>\n",
              "</div>"
            ],
            "text/plain": [
              "            user_id             event_dt event_name  details\n",
              "0  E1BDDCE0DAFA2679  2020-12-07 20:22:03   purchase    99.99\n",
              "1  7B6452F081F49504   2020-12-07 9:22:53   purchase     9.99\n",
              "2  9CD9F34546DF254C  2020-12-07 12:59:29   purchase     4.99\n",
              "3  96F27A054B191457   2020-12-07 4:02:40   purchase     4.99\n",
              "4  1FD7660FDF94CA1F  2020-12-07 10:15:09   purchase     4.99"
            ]
          },
          "metadata": {
            "tags": []
          },
          "execution_count": 2
        }
      ]
    },
    {
      "cell_type": "code",
      "metadata": {
        "colab": {
          "base_uri": "https://localhost:8080/",
          "height": 382
        },
        "id": "TKtsZf1qPQAE",
        "outputId": "f16a2c3d-45bf-412d-c91e-056a933e0fd2"
      },
      "source": [
        "spreadsheet_id = '1q2gCqHoNXanbBHi5LYrZ1va0jrSqPtK-gEHCobyesyI'\n",
        "file_name = 'https://docs.google.com/spreadsheets/d/{}/export?format=csv'.format(spreadsheet_id)\n",
        "r = requests.get(file_name)\n",
        "participants = pd.read_csv(BytesIO(r.content))\n",
        "participants.info()\n",
        "participants.head()"
      ],
      "execution_count": 3,
      "outputs": [
        {
          "output_type": "stream",
          "text": [
            "<class 'pandas.core.frame.DataFrame'>\n",
            "RangeIndex: 18268 entries, 0 to 18267\n",
            "Data columns (total 3 columns):\n",
            " #   Column   Non-Null Count  Dtype \n",
            "---  ------   --------------  ----- \n",
            " 0   user_id  18268 non-null  object\n",
            " 1   group    18268 non-null  object\n",
            " 2   ab_test  18268 non-null  object\n",
            "dtypes: object(3)\n",
            "memory usage: 428.3+ KB\n"
          ],
          "name": "stdout"
        },
        {
          "output_type": "execute_result",
          "data": {
            "text/html": [
              "<div>\n",
              "<style scoped>\n",
              "    .dataframe tbody tr th:only-of-type {\n",
              "        vertical-align: middle;\n",
              "    }\n",
              "\n",
              "    .dataframe tbody tr th {\n",
              "        vertical-align: top;\n",
              "    }\n",
              "\n",
              "    .dataframe thead th {\n",
              "        text-align: right;\n",
              "    }\n",
              "</style>\n",
              "<table border=\"1\" class=\"dataframe\">\n",
              "  <thead>\n",
              "    <tr style=\"text-align: right;\">\n",
              "      <th></th>\n",
              "      <th>user_id</th>\n",
              "      <th>group</th>\n",
              "      <th>ab_test</th>\n",
              "    </tr>\n",
              "  </thead>\n",
              "  <tbody>\n",
              "    <tr>\n",
              "      <th>0</th>\n",
              "      <td>D1ABA3E2887B6A73</td>\n",
              "      <td>A</td>\n",
              "      <td>recommender_system_test</td>\n",
              "    </tr>\n",
              "    <tr>\n",
              "      <th>1</th>\n",
              "      <td>A7A3664BD6242119</td>\n",
              "      <td>A</td>\n",
              "      <td>recommender_system_test</td>\n",
              "    </tr>\n",
              "    <tr>\n",
              "      <th>2</th>\n",
              "      <td>DABC14FDDFADD29E</td>\n",
              "      <td>A</td>\n",
              "      <td>recommender_system_test</td>\n",
              "    </tr>\n",
              "    <tr>\n",
              "      <th>3</th>\n",
              "      <td>04988C5DF189632E</td>\n",
              "      <td>A</td>\n",
              "      <td>recommender_system_test</td>\n",
              "    </tr>\n",
              "    <tr>\n",
              "      <th>4</th>\n",
              "      <td>482F14783456D21B</td>\n",
              "      <td>B</td>\n",
              "      <td>recommender_system_test</td>\n",
              "    </tr>\n",
              "  </tbody>\n",
              "</table>\n",
              "</div>"
            ],
            "text/plain": [
              "            user_id group                  ab_test\n",
              "0  D1ABA3E2887B6A73     A  recommender_system_test\n",
              "1  A7A3664BD6242119     A  recommender_system_test\n",
              "2  DABC14FDDFADD29E     A  recommender_system_test\n",
              "3  04988C5DF189632E     A  recommender_system_test\n",
              "4  482F14783456D21B     B  recommender_system_test"
            ]
          },
          "metadata": {
            "tags": []
          },
          "execution_count": 3
        }
      ]
    },
    {
      "cell_type": "code",
      "metadata": {
        "colab": {
          "base_uri": "https://localhost:8080/",
          "height": 400
        },
        "id": "yNteLzEbQJfZ",
        "outputId": "f568a50d-bac9-4522-fe65-621dc26a2638"
      },
      "source": [
        "spreadsheet_id = '1iWPmkfHyuQkkrHwBGmrq-N4vyLhQUCH9oKCg7M5C74I'\n",
        "file_name = 'https://docs.google.com/spreadsheets/d/{}/export?format=csv'.format(spreadsheet_id)\n",
        "r = requests.get(file_name)\n",
        "new_users = pd.read_csv(BytesIO(r.content))\n",
        "new_users.info()\n",
        "new_users.head()"
      ],
      "execution_count": 4,
      "outputs": [
        {
          "output_type": "stream",
          "text": [
            "<class 'pandas.core.frame.DataFrame'>\n",
            "RangeIndex: 61733 entries, 0 to 61732\n",
            "Data columns (total 4 columns):\n",
            " #   Column      Non-Null Count  Dtype \n",
            "---  ------      --------------  ----- \n",
            " 0   user_id     61733 non-null  object\n",
            " 1   first_date  61733 non-null  object\n",
            " 2   region      61733 non-null  object\n",
            " 3   device      61733 non-null  object\n",
            "dtypes: object(4)\n",
            "memory usage: 1.9+ MB\n"
          ],
          "name": "stdout"
        },
        {
          "output_type": "execute_result",
          "data": {
            "text/html": [
              "<div>\n",
              "<style scoped>\n",
              "    .dataframe tbody tr th:only-of-type {\n",
              "        vertical-align: middle;\n",
              "    }\n",
              "\n",
              "    .dataframe tbody tr th {\n",
              "        vertical-align: top;\n",
              "    }\n",
              "\n",
              "    .dataframe thead th {\n",
              "        text-align: right;\n",
              "    }\n",
              "</style>\n",
              "<table border=\"1\" class=\"dataframe\">\n",
              "  <thead>\n",
              "    <tr style=\"text-align: right;\">\n",
              "      <th></th>\n",
              "      <th>user_id</th>\n",
              "      <th>first_date</th>\n",
              "      <th>region</th>\n",
              "      <th>device</th>\n",
              "    </tr>\n",
              "  </thead>\n",
              "  <tbody>\n",
              "    <tr>\n",
              "      <th>0</th>\n",
              "      <td>D72A72121175D8BE</td>\n",
              "      <td>2020-12-07</td>\n",
              "      <td>EU</td>\n",
              "      <td>PC</td>\n",
              "    </tr>\n",
              "    <tr>\n",
              "      <th>1</th>\n",
              "      <td>F1C668619DFE6E65</td>\n",
              "      <td>2020-12-07</td>\n",
              "      <td>N.America</td>\n",
              "      <td>Android</td>\n",
              "    </tr>\n",
              "    <tr>\n",
              "      <th>2</th>\n",
              "      <td>2E1BF1D4C37EA01F</td>\n",
              "      <td>2020-12-07</td>\n",
              "      <td>EU</td>\n",
              "      <td>PC</td>\n",
              "    </tr>\n",
              "    <tr>\n",
              "      <th>3</th>\n",
              "      <td>50734A22C0C63768</td>\n",
              "      <td>2020-12-07</td>\n",
              "      <td>EU</td>\n",
              "      <td>iPhone</td>\n",
              "    </tr>\n",
              "    <tr>\n",
              "      <th>4</th>\n",
              "      <td>E1BDDCE0DAFA2679</td>\n",
              "      <td>2020-12-07</td>\n",
              "      <td>N.America</td>\n",
              "      <td>iPhone</td>\n",
              "    </tr>\n",
              "  </tbody>\n",
              "</table>\n",
              "</div>"
            ],
            "text/plain": [
              "            user_id  first_date     region   device\n",
              "0  D72A72121175D8BE  2020-12-07         EU       PC\n",
              "1  F1C668619DFE6E65  2020-12-07  N.America  Android\n",
              "2  2E1BF1D4C37EA01F  2020-12-07         EU       PC\n",
              "3  50734A22C0C63768  2020-12-07         EU   iPhone\n",
              "4  E1BDDCE0DAFA2679  2020-12-07  N.America   iPhone"
            ]
          },
          "metadata": {
            "tags": []
          },
          "execution_count": 4
        }
      ]
    },
    {
      "cell_type": "code",
      "metadata": {
        "colab": {
          "base_uri": "https://localhost:8080/",
          "height": 678
        },
        "id": "AOfaUFNQTadI",
        "outputId": "5757d822-41e6-40ec-9140-f6bf5e9d77ff"
      },
      "source": [
        "spreadsheet_id = '13-T-4QPxxDl4xhz4zmjU2JD47gzjRHuMmzuN4HLxAbw'\n",
        "file_name = 'https://docs.google.com/spreadsheets/d/{}/export?format=csv'.format(spreadsheet_id)\n",
        "r = requests.get(file_name)\n",
        "marketing_events = pd.read_csv(BytesIO(r.content))\n",
        "marketing_events.info()\n",
        "marketing_events"
      ],
      "execution_count": 5,
      "outputs": [
        {
          "output_type": "stream",
          "text": [
            "<class 'pandas.core.frame.DataFrame'>\n",
            "RangeIndex: 14 entries, 0 to 13\n",
            "Data columns (total 4 columns):\n",
            " #   Column     Non-Null Count  Dtype \n",
            "---  ------     --------------  ----- \n",
            " 0   name       14 non-null     object\n",
            " 1   regions    14 non-null     object\n",
            " 2   start_dt   14 non-null     object\n",
            " 3   finish_dt  14 non-null     object\n",
            "dtypes: object(4)\n",
            "memory usage: 576.0+ bytes\n"
          ],
          "name": "stdout"
        },
        {
          "output_type": "execute_result",
          "data": {
            "text/html": [
              "<div>\n",
              "<style scoped>\n",
              "    .dataframe tbody tr th:only-of-type {\n",
              "        vertical-align: middle;\n",
              "    }\n",
              "\n",
              "    .dataframe tbody tr th {\n",
              "        vertical-align: top;\n",
              "    }\n",
              "\n",
              "    .dataframe thead th {\n",
              "        text-align: right;\n",
              "    }\n",
              "</style>\n",
              "<table border=\"1\" class=\"dataframe\">\n",
              "  <thead>\n",
              "    <tr style=\"text-align: right;\">\n",
              "      <th></th>\n",
              "      <th>name</th>\n",
              "      <th>regions</th>\n",
              "      <th>start_dt</th>\n",
              "      <th>finish_dt</th>\n",
              "    </tr>\n",
              "  </thead>\n",
              "  <tbody>\n",
              "    <tr>\n",
              "      <th>0</th>\n",
              "      <td>Christmas&amp;New Year Promo</td>\n",
              "      <td>EU, N.America</td>\n",
              "      <td>2020-12-25</td>\n",
              "      <td>2021-01-03</td>\n",
              "    </tr>\n",
              "    <tr>\n",
              "      <th>1</th>\n",
              "      <td>St. Valentine's Day Giveaway</td>\n",
              "      <td>EU, CIS, APAC, N.America</td>\n",
              "      <td>2020-02-14</td>\n",
              "      <td>2020-02-16</td>\n",
              "    </tr>\n",
              "    <tr>\n",
              "      <th>2</th>\n",
              "      <td>St. Patric's Day Promo</td>\n",
              "      <td>EU, N.America</td>\n",
              "      <td>2020-03-17</td>\n",
              "      <td>2020-03-19</td>\n",
              "    </tr>\n",
              "    <tr>\n",
              "      <th>3</th>\n",
              "      <td>Easter Promo</td>\n",
              "      <td>EU, CIS, APAC, N.America</td>\n",
              "      <td>2020-04-12</td>\n",
              "      <td>2020-04-19</td>\n",
              "    </tr>\n",
              "    <tr>\n",
              "      <th>4</th>\n",
              "      <td>4th of July Promo</td>\n",
              "      <td>N.America</td>\n",
              "      <td>2020-07-04</td>\n",
              "      <td>2020-07-11</td>\n",
              "    </tr>\n",
              "    <tr>\n",
              "      <th>5</th>\n",
              "      <td>Black Friday Ads Campaign</td>\n",
              "      <td>EU, CIS, APAC, N.America</td>\n",
              "      <td>2020-11-26</td>\n",
              "      <td>2020-12-01</td>\n",
              "    </tr>\n",
              "    <tr>\n",
              "      <th>6</th>\n",
              "      <td>Chinese New Year Promo</td>\n",
              "      <td>APAC</td>\n",
              "      <td>2020-01-25</td>\n",
              "      <td>2020-02-07</td>\n",
              "    </tr>\n",
              "    <tr>\n",
              "      <th>7</th>\n",
              "      <td>Labor day (May 1st) Ads Campaign</td>\n",
              "      <td>EU, CIS, APAC</td>\n",
              "      <td>2020-05-01</td>\n",
              "      <td>2020-05-03</td>\n",
              "    </tr>\n",
              "    <tr>\n",
              "      <th>8</th>\n",
              "      <td>International Women's Day Promo</td>\n",
              "      <td>EU, CIS, APAC</td>\n",
              "      <td>2020-03-08</td>\n",
              "      <td>2020-03-10</td>\n",
              "    </tr>\n",
              "    <tr>\n",
              "      <th>9</th>\n",
              "      <td>Victory Day CIS (May 9th) Event</td>\n",
              "      <td>CIS</td>\n",
              "      <td>2020-05-09</td>\n",
              "      <td>2020-05-11</td>\n",
              "    </tr>\n",
              "    <tr>\n",
              "      <th>10</th>\n",
              "      <td>CIS New Year Gift Lottery</td>\n",
              "      <td>CIS</td>\n",
              "      <td>2020-12-30</td>\n",
              "      <td>2021-01-07</td>\n",
              "    </tr>\n",
              "    <tr>\n",
              "      <th>11</th>\n",
              "      <td>Dragon Boat Festival Giveaway</td>\n",
              "      <td>APAC</td>\n",
              "      <td>2020-06-25</td>\n",
              "      <td>2020-07-01</td>\n",
              "    </tr>\n",
              "    <tr>\n",
              "      <th>12</th>\n",
              "      <td>Single's Day Gift Promo</td>\n",
              "      <td>APAC</td>\n",
              "      <td>2020-11-11</td>\n",
              "      <td>2020-11-12</td>\n",
              "    </tr>\n",
              "    <tr>\n",
              "      <th>13</th>\n",
              "      <td>Chinese Moon Festival</td>\n",
              "      <td>APAC</td>\n",
              "      <td>2020-10-01</td>\n",
              "      <td>2020-10-07</td>\n",
              "    </tr>\n",
              "  </tbody>\n",
              "</table>\n",
              "</div>"
            ],
            "text/plain": [
              "                                name  ...   finish_dt\n",
              "0           Christmas&New Year Promo  ...  2021-01-03\n",
              "1       St. Valentine's Day Giveaway  ...  2020-02-16\n",
              "2             St. Patric's Day Promo  ...  2020-03-19\n",
              "3                       Easter Promo  ...  2020-04-19\n",
              "4                  4th of July Promo  ...  2020-07-11\n",
              "5          Black Friday Ads Campaign  ...  2020-12-01\n",
              "6             Chinese New Year Promo  ...  2020-02-07\n",
              "7   Labor day (May 1st) Ads Campaign  ...  2020-05-03\n",
              "8    International Women's Day Promo  ...  2020-03-10\n",
              "9    Victory Day CIS (May 9th) Event  ...  2020-05-11\n",
              "10         CIS New Year Gift Lottery  ...  2021-01-07\n",
              "11     Dragon Boat Festival Giveaway  ...  2020-07-01\n",
              "12           Single's Day Gift Promo  ...  2020-11-12\n",
              "13             Chinese Moon Festival  ...  2020-10-07\n",
              "\n",
              "[14 rows x 4 columns]"
            ]
          },
          "metadata": {
            "tags": []
          },
          "execution_count": 5
        }
      ]
    },
    {
      "cell_type": "markdown",
      "metadata": {
        "id": "fG_3r-QWKK3d"
      },
      "source": [
        "## Предобработка данных <a id=\"preprocessing\"></a>"
      ]
    },
    {
      "cell_type": "markdown",
      "metadata": {
        "id": "u1WPrTEEMXjg"
      },
      "source": [
        "Рассмотрим таблицы со вспомогательными данными на предмет ошибок."
      ]
    },
    {
      "cell_type": "markdown",
      "metadata": {
        "id": "EYbcEicsNjsC"
      },
      "source": [
        "Таблица `participants` не содержит пропусков. Проверим, в каких тестах участвовали люди из этого списка, и отфильтруем нужные результаты."
      ]
    },
    {
      "cell_type": "code",
      "metadata": {
        "colab": {
          "base_uri": "https://localhost:8080/"
        },
        "id": "nD67OQc4MdXw",
        "outputId": "8a69fc04-0e7c-4a90-fd4d-7fcc69b9231a"
      },
      "source": [
        "participants['ab_test'].unique()\n",
        "participants['ab_test'].value_counts()"
      ],
      "execution_count": 6,
      "outputs": [
        {
          "output_type": "execute_result",
          "data": {
            "text/plain": [
              "interface_eu_test          11567\n",
              "recommender_system_test     6701\n",
              "Name: ab_test, dtype: int64"
            ]
          },
          "metadata": {
            "tags": []
          },
          "execution_count": 6
        }
      ]
    },
    {
      "cell_type": "markdown",
      "metadata": {
        "id": "xhQyd_9xb7qi"
      },
      "source": [
        "Проверим, есть ли такие пользователи, которые участвуют в двух тестах одновременно."
      ]
    },
    {
      "cell_type": "code",
      "metadata": {
        "colab": {
          "base_uri": "https://localhost:8080/"
        },
        "id": "x7MJPBlOa-C_",
        "outputId": "56ab1ccc-9b30-4bd0-8aaa-617320823ce9"
      },
      "source": [
        "other_test_users = participants.query('ab_test == \"interface_eu_test\"')['user_id'].unique()\n",
        "print('Количество пользователей, участвующих в двух тестах: ', participants.query('ab_test == \"recommender_system_test\" and user_id in @other_test_users')['user_id'].nunique())"
      ],
      "execution_count": 7,
      "outputs": [
        {
          "output_type": "stream",
          "text": [
            "Количество пользователей, участвующих в двух тестах:  1602\n"
          ],
          "name": "stdout"
        }
      ]
    },
    {
      "cell_type": "markdown",
      "metadata": {
        "id": "F7SyfxjfcLjj"
      },
      "source": [
        "Таких пользователей много. Не будем убирать их из наших данных, но обратим внимание организаторов теста на этот факт."
      ]
    },
    {
      "cell_type": "markdown",
      "metadata": {
        "id": "HVGUS373OKa9"
      },
      "source": [
        "Отфильтруем участников только нашего теста, затем проверим данные на дубликаты."
      ]
    },
    {
      "cell_type": "code",
      "metadata": {
        "colab": {
          "base_uri": "https://localhost:8080/"
        },
        "id": "PCCEm0u2N000",
        "outputId": "aeec2e19-5b81-4be5-f7ba-ea540ab8ec74"
      },
      "source": [
        "participants = participants.query('ab_test == \"recommender_system_test\"')\n",
        "participants['ab_test'].value_counts()"
      ],
      "execution_count": 8,
      "outputs": [
        {
          "output_type": "execute_result",
          "data": {
            "text/plain": [
              "recommender_system_test    6701\n",
              "Name: ab_test, dtype: int64"
            ]
          },
          "metadata": {
            "tags": []
          },
          "execution_count": 8
        }
      ]
    },
    {
      "cell_type": "code",
      "metadata": {
        "colab": {
          "base_uri": "https://localhost:8080/"
        },
        "id": "JCf-BaDKREAP",
        "outputId": "38b81f24-f384-4244-c8cf-14d2a01704ad"
      },
      "source": [
        "participants.duplicated().sum()"
      ],
      "execution_count": 9,
      "outputs": [
        {
          "output_type": "execute_result",
          "data": {
            "text/plain": [
              "0"
            ]
          },
          "metadata": {
            "tags": []
          },
          "execution_count": 9
        }
      ]
    },
    {
      "cell_type": "markdown",
      "metadata": {
        "id": "_qKIdAk1RPcp"
      },
      "source": [
        "Дубликатов, пропусков и лишних значений в файле `participants` нет. Его можно использовать для агрегации."
      ]
    },
    {
      "cell_type": "markdown",
      "metadata": {
        "id": "vlu1zlWARgSH"
      },
      "source": [
        "Расмотрим таблицу `new_users`. В ней должны остаться только пользователи, которые зарегистрировались в системе до 21.21.2020."
      ]
    },
    {
      "cell_type": "code",
      "metadata": {
        "colab": {
          "base_uri": "https://localhost:8080/"
        },
        "id": "GI0yDbIfRd7N",
        "outputId": "34f19fca-1234-4488-93cf-2c983d87ae08"
      },
      "source": [
        "new_users = new_users.astype({'first_date': 'datetime64'})\n",
        "new_users.info()"
      ],
      "execution_count": 10,
      "outputs": [
        {
          "output_type": "stream",
          "text": [
            "<class 'pandas.core.frame.DataFrame'>\n",
            "RangeIndex: 61733 entries, 0 to 61732\n",
            "Data columns (total 4 columns):\n",
            " #   Column      Non-Null Count  Dtype         \n",
            "---  ------      --------------  -----         \n",
            " 0   user_id     61733 non-null  object        \n",
            " 1   first_date  61733 non-null  datetime64[ns]\n",
            " 2   region      61733 non-null  object        \n",
            " 3   device      61733 non-null  object        \n",
            "dtypes: datetime64[ns](1), object(3)\n",
            "memory usage: 1.9+ MB\n"
          ],
          "name": "stdout"
        }
      ]
    },
    {
      "cell_type": "code",
      "metadata": {
        "colab": {
          "base_uri": "https://localhost:8080/"
        },
        "id": "tIOpCRhUeZbI",
        "outputId": "d6cc813f-1ada-4ab0-954a-72b78cebc95f"
      },
      "source": [
        "print('Последний день регистрации в системе: {:%d-%m-%Y}.'.format(new_users['first_date'].max()))"
      ],
      "execution_count": 11,
      "outputs": [
        {
          "output_type": "stream",
          "text": [
            "Последний день регистрации в системе: 23-12-2020.\n"
          ],
          "name": "stdout"
        }
      ]
    },
    {
      "cell_type": "markdown",
      "metadata": {
        "id": "z0xOsfKxfRgV"
      },
      "source": [
        "По условию ТЗ нужно отсечь пользователей, которые зарегистрировались в системе после 21.12.2020."
      ]
    },
    {
      "cell_type": "code",
      "metadata": {
        "colab": {
          "base_uri": "https://localhost:8080/"
        },
        "id": "Ar3SU0VOf5IE",
        "outputId": "b4bab04c-965b-4e9a-dc82-3b1b57f0077b"
      },
      "source": [
        "print('Количество пользователей в данных по регистрации:', new_users['user_id'].nunique())"
      ],
      "execution_count": 12,
      "outputs": [
        {
          "output_type": "stream",
          "text": [
            "Количество пользователей в данных по регистрации: 61733\n"
          ],
          "name": "stdout"
        }
      ]
    },
    {
      "cell_type": "code",
      "metadata": {
        "colab": {
          "base_uri": "https://localhost:8080/"
        },
        "id": "aNw4aHp5fhhO",
        "outputId": "4f18ee44-47db-48e1-97e6-b2636f6c016c"
      },
      "source": [
        "new_users = new_users.query('first_date <= \"2020-12-21\"')\n",
        "print('Количество пользователей, зарегистрировавшихся до 21.12.2020 включительно:', new_users['user_id'].nunique())"
      ],
      "execution_count": 13,
      "outputs": [
        {
          "output_type": "stream",
          "text": [
            "Количество пользователей, зарегистрировавшихся до 21.12.2020 включительно: 56470\n"
          ],
          "name": "stdout"
        }
      ]
    },
    {
      "cell_type": "code",
      "metadata": {
        "colab": {
          "base_uri": "https://localhost:8080/"
        },
        "id": "kVxcXtjoj4xU",
        "outputId": "8c725d9f-8322-4118-f7d5-d97abfde6505"
      },
      "source": [
        "print('Количество дубликатов в `new_users`:', new_users.duplicated().sum())"
      ],
      "execution_count": 14,
      "outputs": [
        {
          "output_type": "stream",
          "text": [
            "Количество дубликатов в `new_users`: 0\n"
          ],
          "name": "stdout"
        }
      ]
    },
    {
      "cell_type": "markdown",
      "metadata": {
        "id": "0TexZq24qYIT"
      },
      "source": [
        "Построим сводную таблицу с разбивкой пользователей по регионам проживания."
      ]
    },
    {
      "cell_type": "code",
      "metadata": {
        "colab": {
          "base_uri": "https://localhost:8080/",
          "height": 204
        },
        "id": "vAcYoyezmmJt",
        "outputId": "638b472c-3f34-4697-b4de-b1d8b3049975"
      },
      "source": [
        "region_pivot = new_users.pivot_table(index = 'region', values = 'user_id', aggfunc = pd.Series.nunique)\n",
        "region_pivot"
      ],
      "execution_count": 15,
      "outputs": [
        {
          "output_type": "execute_result",
          "data": {
            "text/html": [
              "<div>\n",
              "<style scoped>\n",
              "    .dataframe tbody tr th:only-of-type {\n",
              "        vertical-align: middle;\n",
              "    }\n",
              "\n",
              "    .dataframe tbody tr th {\n",
              "        vertical-align: top;\n",
              "    }\n",
              "\n",
              "    .dataframe thead th {\n",
              "        text-align: right;\n",
              "    }\n",
              "</style>\n",
              "<table border=\"1\" class=\"dataframe\">\n",
              "  <thead>\n",
              "    <tr style=\"text-align: right;\">\n",
              "      <th></th>\n",
              "      <th>user_id</th>\n",
              "    </tr>\n",
              "    <tr>\n",
              "      <th>region</th>\n",
              "      <th></th>\n",
              "    </tr>\n",
              "  </thead>\n",
              "  <tbody>\n",
              "    <tr>\n",
              "      <th>APAC</th>\n",
              "      <td>2883</td>\n",
              "    </tr>\n",
              "    <tr>\n",
              "      <th>CIS</th>\n",
              "      <td>2900</td>\n",
              "    </tr>\n",
              "    <tr>\n",
              "      <th>EU</th>\n",
              "      <td>42340</td>\n",
              "    </tr>\n",
              "    <tr>\n",
              "      <th>N.America</th>\n",
              "      <td>8347</td>\n",
              "    </tr>\n",
              "  </tbody>\n",
              "</table>\n",
              "</div>"
            ],
            "text/plain": [
              "           user_id\n",
              "region            \n",
              "APAC          2883\n",
              "CIS           2900\n",
              "EU           42340\n",
              "N.America     8347"
            ]
          },
          "metadata": {
            "tags": []
          },
          "execution_count": 15
        }
      ]
    },
    {
      "cell_type": "markdown",
      "metadata": {
        "id": "4PVuCAcFKOxd"
      },
      "source": [
        "Объединим таблицы с данными в одну для удобства работы. К таблице событий присоединяем таблицу участников. Отбираем только пользователей из второй таблицы (right join). Далее присоединяем информацию о новых пользователях."
      ]
    },
    {
      "cell_type": "code",
      "metadata": {
        "colab": {
          "base_uri": "https://localhost:8080/"
        },
        "id": "1FZZ-knBnodQ",
        "outputId": "9e3201b3-3e69-4cd9-dfad-1473cfaa456a"
      },
      "source": [
        "data = events.merge(participants, on = 'user_id', how = 'right' ).merge(new_users, on = 'user_id', how = 'left' )\n",
        "data.info()"
      ],
      "execution_count": 16,
      "outputs": [
        {
          "output_type": "stream",
          "text": [
            "<class 'pandas.core.frame.DataFrame'>\n",
            "Int64Index: 27724 entries, 0 to 27723\n",
            "Data columns (total 9 columns):\n",
            " #   Column      Non-Null Count  Dtype         \n",
            "---  ------      --------------  -----         \n",
            " 0   user_id     27724 non-null  object        \n",
            " 1   event_dt    24698 non-null  object        \n",
            " 2   event_name  24698 non-null  object        \n",
            " 3   details     3331 non-null   float64       \n",
            " 4   group       27724 non-null  object        \n",
            " 5   ab_test     27724 non-null  object        \n",
            " 6   first_date  27724 non-null  datetime64[ns]\n",
            " 7   region      27724 non-null  object        \n",
            " 8   device      27724 non-null  object        \n",
            "dtypes: datetime64[ns](1), float64(1), object(7)\n",
            "memory usage: 2.1+ MB\n"
          ],
          "name": "stdout"
        }
      ]
    },
    {
      "cell_type": "markdown",
      "metadata": {
        "id": "F_4Uw66Kheks"
      },
      "source": [
        "Преобразуем дату в числовой формат."
      ]
    },
    {
      "cell_type": "code",
      "metadata": {
        "id": "RuPHeSlLxa5u"
      },
      "source": [
        "data = data.astype({'event_dt': 'datetime64'})"
      ],
      "execution_count": 17,
      "outputs": []
    },
    {
      "cell_type": "code",
      "metadata": {
        "colab": {
          "base_uri": "https://localhost:8080/"
        },
        "id": "8HEPWCs1kSBX",
        "outputId": "37fe3674-3971-44cd-9d73-a9b04365184a"
      },
      "source": [
        "print('Количество дубликатов в общей таблице:', data.duplicated().sum())"
      ],
      "execution_count": 18,
      "outputs": [
        {
          "output_type": "stream",
          "text": [
            "Количество дубликатов в общей таблице: 0\n"
          ],
          "name": "stdout"
        }
      ]
    },
    {
      "cell_type": "code",
      "metadata": {
        "colab": {
          "base_uri": "https://localhost:8080/"
        },
        "id": "MH_g3Bpy088w",
        "outputId": "a5327d83-cedd-400b-f882-4cebbc4258df"
      },
      "source": [
        "print('Проверка интервала проведения теста: {} - {}.'.format(data['event_dt'].min(), data['event_dt'].max())) "
      ],
      "execution_count": 19,
      "outputs": [
        {
          "output_type": "stream",
          "text": [
            "Проверка интервала проведения теста: 2020-12-07 00:05:57 - 2020-12-30 12:42:57.\n"
          ],
          "name": "stdout"
        }
      ]
    },
    {
      "cell_type": "markdown",
      "metadata": {
        "id": "M9M7y1UWhoM3"
      },
      "source": [
        "Посчитаем количество уникальных пользователей, попавших в тест."
      ]
    },
    {
      "cell_type": "code",
      "metadata": {
        "colab": {
          "base_uri": "https://localhost:8080/"
        },
        "id": "_pFf1kvUpVe8",
        "outputId": "a6a06f13-5004-4205-94cd-e2de82633059"
      },
      "source": [
        "print('Количество пользователей в тесте:', data['user_id'].nunique())"
      ],
      "execution_count": 20,
      "outputs": [
        {
          "output_type": "stream",
          "text": [
            "Количество пользователей в тесте: 6701\n"
          ],
          "name": "stdout"
        }
      ]
    },
    {
      "cell_type": "markdown",
      "metadata": {
        "id": "o6MZJJiCqyYk"
      },
      "source": [
        "Посмотрим, какое количество новых пользователей из Европы попало в тест."
      ]
    },
    {
      "cell_type": "code",
      "metadata": {
        "colab": {
          "base_uri": "https://localhost:8080/",
          "height": 204
        },
        "id": "Jw1I1r82pgmU",
        "outputId": "bcdc33cb-4bbe-4777-c322-5e2a9ee7404d"
      },
      "source": [
        "#Сводная таблица с агрегацией пользователей по регионам\n",
        "region_pivot_test = data.pivot_table(index = 'region', values = 'user_id', aggfunc = pd.Series.nunique)\n",
        "region_pivot_test"
      ],
      "execution_count": 21,
      "outputs": [
        {
          "output_type": "execute_result",
          "data": {
            "text/html": [
              "<div>\n",
              "<style scoped>\n",
              "    .dataframe tbody tr th:only-of-type {\n",
              "        vertical-align: middle;\n",
              "    }\n",
              "\n",
              "    .dataframe tbody tr th {\n",
              "        vertical-align: top;\n",
              "    }\n",
              "\n",
              "    .dataframe thead th {\n",
              "        text-align: right;\n",
              "    }\n",
              "</style>\n",
              "<table border=\"1\" class=\"dataframe\">\n",
              "  <thead>\n",
              "    <tr style=\"text-align: right;\">\n",
              "      <th></th>\n",
              "      <th>user_id</th>\n",
              "    </tr>\n",
              "    <tr>\n",
              "      <th>region</th>\n",
              "      <th></th>\n",
              "    </tr>\n",
              "  </thead>\n",
              "  <tbody>\n",
              "    <tr>\n",
              "      <th>APAC</th>\n",
              "      <td>72</td>\n",
              "    </tr>\n",
              "    <tr>\n",
              "      <th>CIS</th>\n",
              "      <td>55</td>\n",
              "    </tr>\n",
              "    <tr>\n",
              "      <th>EU</th>\n",
              "      <td>6351</td>\n",
              "    </tr>\n",
              "    <tr>\n",
              "      <th>N.America</th>\n",
              "      <td>223</td>\n",
              "    </tr>\n",
              "  </tbody>\n",
              "</table>\n",
              "</div>"
            ],
            "text/plain": [
              "           user_id\n",
              "region            \n",
              "APAC            72\n",
              "CIS             55\n",
              "EU            6351\n",
              "N.America      223"
            ]
          },
          "metadata": {
            "tags": []
          },
          "execution_count": 21
        }
      ]
    },
    {
      "cell_type": "code",
      "metadata": {
        "colab": {
          "base_uri": "https://localhost:8080/"
        },
        "id": "kBlqvO6zrB7n",
        "outputId": "ce663d42-ed0d-4ea5-b0c1-020b2c409904"
      },
      "source": [
        "print('Доля новых пользователей из EU, попавших в тест: {:.0%}.'.format(region_pivot_test['user_id'][2]/region_pivot['user_id'][2]))"
      ],
      "execution_count": 22,
      "outputs": [
        {
          "output_type": "stream",
          "text": [
            "Доля новых пользователей из EU, попавших в тест: 15%.\n"
          ],
          "name": "stdout"
        }
      ]
    },
    {
      "cell_type": "markdown",
      "metadata": {
        "id": "BvGRH_q2z5eg"
      },
      "source": [
        "Посмотрим, как представлены регионы в итоговой выборке пользователей."
      ]
    },
    {
      "cell_type": "code",
      "metadata": {
        "colab": {
          "base_uri": "https://localhost:8080/",
          "height": 328
        },
        "id": "wdnmZSimz5eg",
        "outputId": "04c27b55-1a0a-4d2b-b5f5-c1d33fece822"
      },
      "source": [
        "data.pivot_table(index = ['group', 'region'], values = 'user_id', aggfunc = pd.Series.nunique)"
      ],
      "execution_count": 23,
      "outputs": [
        {
          "output_type": "execute_result",
          "data": {
            "text/html": [
              "<div>\n",
              "<style scoped>\n",
              "    .dataframe tbody tr th:only-of-type {\n",
              "        vertical-align: middle;\n",
              "    }\n",
              "\n",
              "    .dataframe tbody tr th {\n",
              "        vertical-align: top;\n",
              "    }\n",
              "\n",
              "    .dataframe thead th {\n",
              "        text-align: right;\n",
              "    }\n",
              "</style>\n",
              "<table border=\"1\" class=\"dataframe\">\n",
              "  <thead>\n",
              "    <tr style=\"text-align: right;\">\n",
              "      <th></th>\n",
              "      <th></th>\n",
              "      <th>user_id</th>\n",
              "    </tr>\n",
              "    <tr>\n",
              "      <th>group</th>\n",
              "      <th>region</th>\n",
              "      <th></th>\n",
              "    </tr>\n",
              "  </thead>\n",
              "  <tbody>\n",
              "    <tr>\n",
              "      <th rowspan=\"4\" valign=\"top\">A</th>\n",
              "      <th>APAC</th>\n",
              "      <td>37</td>\n",
              "    </tr>\n",
              "    <tr>\n",
              "      <th>CIS</th>\n",
              "      <td>25</td>\n",
              "    </tr>\n",
              "    <tr>\n",
              "      <th>EU</th>\n",
              "      <td>3634</td>\n",
              "    </tr>\n",
              "    <tr>\n",
              "      <th>N.America</th>\n",
              "      <td>128</td>\n",
              "    </tr>\n",
              "    <tr>\n",
              "      <th rowspan=\"4\" valign=\"top\">B</th>\n",
              "      <th>APAC</th>\n",
              "      <td>35</td>\n",
              "    </tr>\n",
              "    <tr>\n",
              "      <th>CIS</th>\n",
              "      <td>30</td>\n",
              "    </tr>\n",
              "    <tr>\n",
              "      <th>EU</th>\n",
              "      <td>2717</td>\n",
              "    </tr>\n",
              "    <tr>\n",
              "      <th>N.America</th>\n",
              "      <td>95</td>\n",
              "    </tr>\n",
              "  </tbody>\n",
              "</table>\n",
              "</div>"
            ],
            "text/plain": [
              "                 user_id\n",
              "group region            \n",
              "A     APAC            37\n",
              "      CIS             25\n",
              "      EU            3634\n",
              "      N.America      128\n",
              "B     APAC            35\n",
              "      CIS             30\n",
              "      EU            2717\n",
              "      N.America       95"
            ]
          },
          "metadata": {
            "tags": []
          },
          "execution_count": 23
        }
      ]
    },
    {
      "cell_type": "markdown",
      "metadata": {
        "id": "D6DDXMErzH0L"
      },
      "source": [
        "Проверим, сколько пользователей из нашего теста совершало действия во время маркетинговых акций."
      ]
    },
    {
      "cell_type": "code",
      "metadata": {
        "colab": {
          "base_uri": "https://localhost:8080/"
        },
        "id": "rbwjdnKrwDAM",
        "outputId": "15bf0a46-0d21-4f25-b94f-a2cc136ef90b"
      },
      "source": [
        "promo1 = ['N.America', 'EU']\n",
        "promo2 = ['CIS']\n",
        "print('Количество пользователей, совершавших действия в системе в период новогодних распродаж в Европе и Северной Америке:', data.query('region in @promo1').query('event_dt > \"2020-12-25\" and event_dt < \"2021-01-03\"')['user_id'].nunique())\n",
        "print('Количество пользователей, совершавших действия в системе в период новогодних распродаж в странах СНГ:', data.query('region in @promo2').query('event_dt > \"2020-12-30\" and event_dt < \"2021-01-07\"')['user_id'].nunique())"
      ],
      "execution_count": 24,
      "outputs": [
        {
          "output_type": "stream",
          "text": [
            "Количество пользователей, совершавших действия в системе в период новогодних распродаж в Европе и Северной Америке: 1220\n",
            "Количество пользователей, совершавших действия в системе в период новогодних распродаж в странах СНГ: 0\n"
          ],
          "name": "stdout"
        }
      ]
    },
    {
      "cell_type": "markdown",
      "metadata": {
        "id": "_Ii0Vr1qZNK5"
      },
      "source": [
        "В столбцах времени и типа события есть пропуски. Посмотрим, сколько пользователей из теста не совершили никаких событий."
      ]
    },
    {
      "cell_type": "code",
      "metadata": {
        "colab": {
          "base_uri": "https://localhost:8080/"
        },
        "id": "ODgHgExP2xXF",
        "outputId": "88fc2b68-6986-45a4-dc7c-5cf91759cfce"
      },
      "source": [
        "print('Количество пользователей, не совершивших никаких действий в период проведения теста:', data.query('event_dt.isna()', engine='python')['user_id'].nunique())"
      ],
      "execution_count": 25,
      "outputs": [
        {
          "output_type": "stream",
          "text": [
            "Количество пользователей, не совершивших никаких действий в период проведения теста: 3026\n"
          ],
          "name": "stdout"
        }
      ]
    },
    {
      "cell_type": "code",
      "metadata": {
        "colab": {
          "base_uri": "https://localhost:8080/",
          "height": 142
        },
        "id": "JA_T9v_Jg9Oy",
        "outputId": "12132dcd-5d6c-4456-9292-3aa5d2a295df"
      },
      "source": [
        "data.query('event_dt.isna()', engine='python').pivot_table(index = 'group', values = 'user_id', aggfunc = pd.Series.nunique)"
      ],
      "execution_count": 26,
      "outputs": [
        {
          "output_type": "execute_result",
          "data": {
            "text/html": [
              "<div>\n",
              "<style scoped>\n",
              "    .dataframe tbody tr th:only-of-type {\n",
              "        vertical-align: middle;\n",
              "    }\n",
              "\n",
              "    .dataframe tbody tr th {\n",
              "        vertical-align: top;\n",
              "    }\n",
              "\n",
              "    .dataframe thead th {\n",
              "        text-align: right;\n",
              "    }\n",
              "</style>\n",
              "<table border=\"1\" class=\"dataframe\">\n",
              "  <thead>\n",
              "    <tr style=\"text-align: right;\">\n",
              "      <th></th>\n",
              "      <th>user_id</th>\n",
              "    </tr>\n",
              "    <tr>\n",
              "      <th>group</th>\n",
              "      <th></th>\n",
              "    </tr>\n",
              "  </thead>\n",
              "  <tbody>\n",
              "    <tr>\n",
              "      <th>A</th>\n",
              "      <td>1077</td>\n",
              "    </tr>\n",
              "    <tr>\n",
              "      <th>B</th>\n",
              "      <td>1949</td>\n",
              "    </tr>\n",
              "  </tbody>\n",
              "</table>\n",
              "</div>"
            ],
            "text/plain": [
              "       user_id\n",
              "group         \n",
              "A         1077\n",
              "B         1949"
            ]
          },
          "metadata": {
            "tags": []
          },
          "execution_count": 26
        }
      ]
    },
    {
      "cell_type": "markdown",
      "metadata": {
        "id": "Hk6HH1JvtGtQ"
      },
      "source": [
        "Итак, в тест попали:\n",
        "* все пользователи, зарегистрированные в системе до 21.12.2020 включительно;\n",
        "* 15% от всех зарегистрированных пользователей из Европы;\n",
        "* Европейцы составляют большую часть участников теста. На втором месте пользователи из Северной Америки. Жителей Азии и СНГ - меньшинство;\n",
        "* количество участников теста - 6701 человек. Если убрать из теста тех, чьи действия попали на период распродажи, получится меньше 6000, необходимых для валидации теста. Придется их оставить, но иметь в виду погрешность, которую могут вызвать эти пересечения;\n",
        "* Плановое время проведения теста: 7.12.2020 - 04.01.2021. Однако по имеющимся у нас данным тест был остановлен досрочно - 30.12.2020;\n",
        "* Чуть меньше половины зарегистрированных пользователей не совершило после регистрации никаких значимых действий: около 1000 из группы А и почти 2000 из группы В."
      ]
    },
    {
      "cell_type": "markdown",
      "metadata": {
        "id": "JvKhIYRHu5kx"
      },
      "source": [
        "## Исследовательский анализ данных <a id=\"analysis\"></a>"
      ]
    },
    {
      "cell_type": "markdown",
      "metadata": {
        "id": "CeqUELWhiNQI"
      },
      "source": [
        "Посмотрим, равномерно ли разбиты пользователи на группы в тесте."
      ]
    },
    {
      "cell_type": "code",
      "metadata": {
        "colab": {
          "base_uri": "https://localhost:8080/",
          "height": 118
        },
        "id": "QvhOICPDibdX",
        "outputId": "2d450769-e377-48fe-e79e-b7ac13c6c82c"
      },
      "source": [
        "ab_pivot = data.pivot_table(index = 'group', values = 'user_id', aggfunc = pd.Series.nunique)\n",
        "ab_pivot['%_user'] = ab_pivot['user_id'] / (ab_pivot['user_id'].sum())\n",
        "display(ab_pivot.style.format({'%_user':'{:.2%}'}))\n",
        "print('Группа A больше группы B на {:.2%}.'.format((ab_pivot.query('group == \"A\"')['user_id'][0]/ab_pivot.query('group == \"B\"')['user_id'][0] - 1)))"
      ],
      "execution_count": 27,
      "outputs": [
        {
          "output_type": "display_data",
          "data": {
            "text/html": [
              "<style  type=\"text/css\" >\n",
              "</style><table id=\"T_f0187d1e_fc3f_11eb_a5b7_0242ac1c0002\" ><thead>    <tr>        <th class=\"blank level0\" ></th>        <th class=\"col_heading level0 col0\" >user_id</th>        <th class=\"col_heading level0 col1\" >%_user</th>    </tr>    <tr>        <th class=\"index_name level0\" >group</th>        <th class=\"blank\" ></th>        <th class=\"blank\" ></th>    </tr></thead><tbody>\n",
              "                <tr>\n",
              "                        <th id=\"T_f0187d1e_fc3f_11eb_a5b7_0242ac1c0002level0_row0\" class=\"row_heading level0 row0\" >A</th>\n",
              "                        <td id=\"T_f0187d1e_fc3f_11eb_a5b7_0242ac1c0002row0_col0\" class=\"data row0 col0\" >3824</td>\n",
              "                        <td id=\"T_f0187d1e_fc3f_11eb_a5b7_0242ac1c0002row0_col1\" class=\"data row0 col1\" >57.07%</td>\n",
              "            </tr>\n",
              "            <tr>\n",
              "                        <th id=\"T_f0187d1e_fc3f_11eb_a5b7_0242ac1c0002level0_row1\" class=\"row_heading level0 row1\" >B</th>\n",
              "                        <td id=\"T_f0187d1e_fc3f_11eb_a5b7_0242ac1c0002row1_col0\" class=\"data row1 col0\" >2877</td>\n",
              "                        <td id=\"T_f0187d1e_fc3f_11eb_a5b7_0242ac1c0002row1_col1\" class=\"data row1 col1\" >42.93%</td>\n",
              "            </tr>\n",
              "    </tbody></table>"
            ],
            "text/plain": [
              "<pandas.io.formats.style.Styler at 0x7fbb21299590>"
            ]
          },
          "metadata": {
            "tags": []
          }
        },
        {
          "output_type": "stream",
          "text": [
            "Группа A больше группы B на 32.92%.\n"
          ],
          "name": "stdout"
        }
      ]
    },
    {
      "cell_type": "markdown",
      "metadata": {
        "id": "XKP1UZw_pw8V"
      },
      "source": [
        "Отклонение между размерами групп очень большое, это может исказить результаты теста. Но и сами выборки достаточно велики. Анализировать в любом случае будем конверсию относительно общего количества пользователей в каждой группе."
      ]
    },
    {
      "cell_type": "markdown",
      "metadata": {
        "id": "FadcdLLgqir4"
      },
      "source": [
        "Проверим, не попали ли одни и те же пользователи в обе группы теста."
      ]
    },
    {
      "cell_type": "code",
      "metadata": {
        "colab": {
          "base_uri": "https://localhost:8080/"
        },
        "id": "mPD7mL9Yr1vG",
        "outputId": "3266be5c-b093-4482-c017-91449c570215"
      },
      "source": [
        "A = data.query('group == \"A\"')['user_id'].unique()\n",
        "B = data.query('group == \"B\"')\n",
        "AB = B.query('user_id in @A')['user_id'].nunique()\n",
        "print('Количество пользователей, попавших в обе группы теста: ', AB)"
      ],
      "execution_count": 28,
      "outputs": [
        {
          "output_type": "stream",
          "text": [
            "Количество пользователей, попавших в обе группы теста:  0\n"
          ],
          "name": "stdout"
        }
      ]
    },
    {
      "cell_type": "markdown",
      "metadata": {
        "id": "Rs7TWN-9vtgY"
      },
      "source": [
        "Определим количество событий, рассматриваемых в таблице, и среднее количество событий, приходящихся на одного пользователя."
      ]
    },
    {
      "cell_type": "code",
      "metadata": {
        "colab": {
          "base_uri": "https://localhost:8080/"
        },
        "id": "oYhsnjEwvTOA",
        "outputId": "b72e8d72-cd8d-49ce-eb03-e5f56ea5e01c"
      },
      "source": [
        "print('В логе {} типа событий.'.format(data['event_name'].nunique()))\n",
        "print('В среднем один пользователь участвует в {:.0f} событиях.'.format(len(data) / data['user_id'].nunique()))"
      ],
      "execution_count": 29,
      "outputs": [
        {
          "output_type": "stream",
          "text": [
            "В логе 4 типа событий.\n",
            "В среднем один пользователь участвует в 4 событиях.\n"
          ],
          "name": "stdout"
        }
      ]
    },
    {
      "cell_type": "markdown",
      "metadata": {
        "id": "VAq8WEiVv-_h"
      },
      "source": [
        "Проверим, равномерно ли распределены события между пользователями."
      ]
    },
    {
      "cell_type": "code",
      "metadata": {
        "colab": {
          "base_uri": "https://localhost:8080/",
          "height": 455
        },
        "id": "8Gbx5t0BwFDh",
        "outputId": "26460bd7-c528-47ee-da97-fde06c5d237d"
      },
      "source": [
        "#Группируем события по каждому пользователю, выводим информацию по столбцу событий и строим распределение\n",
        "event_per_id = data.groupby(['group', 'user_id']).agg({'event_name':'count'}).reset_index()\n",
        "display(event_per_id['event_name'].describe())\n",
        "sns.histplot(data = event_per_id, x = 'event_name', hue = 'group')\n",
        "plt.title('Распределение количества событий на пользователя')\n",
        "plt.xlabel('Количество событий на пользователя')\n",
        "plt.ylabel('Частота случаев')\n",
        "plt.show()"
      ],
      "execution_count": 30,
      "outputs": [
        {
          "output_type": "display_data",
          "data": {
            "text/plain": [
              "count    6701.000000\n",
              "mean        3.685719\n",
              "std         4.376568\n",
              "min         0.000000\n",
              "25%         0.000000\n",
              "50%         2.000000\n",
              "75%         6.000000\n",
              "max        28.000000\n",
              "Name: event_name, dtype: float64"
            ]
          },
          "metadata": {
            "tags": []
          }
        },
        {
          "output_type": "display_data",
          "data": {
            "image/png": "[encoded data removed]",
            "text/plain": [
              "<Figure size 432x288 with 1 Axes>"
            ]
          },
          "metadata": {
            "tags": [],
            "needs_background": "light"
          }
        }
      ]
    },
    {
      "cell_type": "markdown",
      "metadata": {
        "id": "iz3qJ8fvwujX"
      },
      "source": [
        "На гистограмме видно, что пользователи экспериментальной группы в среднем гораздо менее активны, чем контрольные. В группе В частота случаев, когда пользователь не совершил ни одного события, вдвое выше, чем в А.\n",
        "\n",
        "Из-за большого количества пользователей, не совершивших никаких действий, распределение выглядит смещенным влево. Корректнее для описания среднего количества событий на пользователя использовать медиану - 2 события.\n",
        "\n",
        "Выбросы удалять не будем. Посмотрим, как данные поведут себя при анализе."
      ]
    },
    {
      "cell_type": "markdown",
      "metadata": {
        "id": "1g7SHTWGxj-G"
      },
      "source": [
        "Посмотрим на распределение количества событий в каждой группе во времени,чтобы подтвердить равномерность собранных данных."
      ]
    },
    {
      "cell_type": "code",
      "metadata": {
        "colab": {
          "base_uri": "https://localhost:8080/",
          "height": 388
        },
        "id": "1zKFtXmDt9KS",
        "outputId": "78cef72f-9e82-4b1d-cec2-4d711faf64a1"
      },
      "source": [
        "data['date'] = data['event_dt'].dt.date\n",
        "event_date = data.pivot_table(index = ['date', 'group'], values = 'user_id', aggfunc = 'count').reset_index()\n",
        "plt.figure(figsize=(10,5))\n",
        "sns.set_style(\"darkgrid\")\n",
        "sns.barplot(data = event_date, x = 'date', y = 'user_id', hue = 'group')\n",
        "plt.xticks(rotation = 45)\n",
        "plt.title('Количество событий по датам')\n",
        "plt.xlabel('Дата события')\n",
        "plt.ylabel('Количество событий')\n",
        "plt.show()"
      ],
      "execution_count": 31,
      "outputs": [
        {
          "output_type": "display_data",
          "data": {
            "image/png": "[encoded data removed]",
            "text/plain": [
              "<Figure size 720x360 with 1 Axes>"
            ]
          },
          "metadata": {
            "tags": [],
            "needs_background": "light"
          }
        }
      ]
    },
    {
      "cell_type": "markdown",
      "metadata": {
        "id": "PFoN_RChy3Cj"
      },
      "source": [
        "Явных аномалий в суточном количестве событий нет, но отчетливо видна тенденция роста активности за 12 дней до новогодней распродажи. Резкий всплеск в контрольной группе, плавный рост с двумя пиками в экспериментальной. Максимальная активность обеих групп пришлась на 20.12.2021.\n",
        "\n",
        "Такая динамика активности по группам - первый сигнал, что эксперимент, возможно, пошел не так, как было запланировано. В начале периода группа В проявляла активность, сопоставимую с группой А (даже при том, что в В меньше пользователей), затем разрыв драматически вырос. Проверим эту гипотезу воронкой событий."
      ]
    },
    {
      "cell_type": "markdown",
      "metadata": {
        "id": "eBjfTTHczPTS"
      },
      "source": [
        "## Воронка событий <a id=\"funnel\"></a>"
      ]
    },
    {
      "cell_type": "markdown",
      "metadata": {
        "id": "hxNd_0S389i7"
      },
      "source": [
        "По условию техзадания, метрики должны улучшиться не менее, чем на 10%, за 14 дней с момента регистрации пользователя в системе. \n",
        "\n",
        "Удалим из лога все события, которые превышают этот срок, но оставим пользователей, которые не совершали никаких действий - это наша база.\n"
      ]
    },
    {
      "cell_type": "code",
      "metadata": {
        "colab": {
          "base_uri": "https://localhost:8080/"
        },
        "id": "BiSvO7319BDf",
        "outputId": "0ddb4769-bcd6-4b47-9bf8-f13f2e085fef"
      },
      "source": [
        "data['period'] = (data['event_dt'] - data['first_date']).astype('timedelta64[D]')\n",
        "print('Количество событий до обработки:', len(data))"
      ],
      "execution_count": 32,
      "outputs": [
        {
          "output_type": "stream",
          "text": [
            "Количество событий до обработки: 27724\n"
          ],
          "name": "stdout"
        }
      ]
    },
    {
      "cell_type": "code",
      "metadata": {
        "colab": {
          "base_uri": "https://localhost:8080/"
        },
        "id": "3OuMgCIo9Dg1",
        "outputId": "a2f210ab-91fb-4b0b-f18d-65d4ece0c59b"
      },
      "source": [
        "data = data.query('period <= 14 or period.isna()', engine = 'python')\n",
        "print('Количество событий после обработки:', len(data))"
      ],
      "execution_count": 33,
      "outputs": [
        {
          "output_type": "stream",
          "text": [
            "Количество событий после обработки: 27096\n"
          ],
          "name": "stdout"
        }
      ]
    },
    {
      "cell_type": "code",
      "metadata": {
        "colab": {
          "base_uri": "https://localhost:8080/"
        },
        "id": "ytuZ38zwz5en",
        "outputId": "a56d06e9-4719-49ff-ba6d-f12a6f77138b"
      },
      "source": [
        "print('Проверка. Период между датой регистрации и датой события для оставшихся пользователей: {:.0f} - {:.0f} дней.'.format(data['period'].min(), data['period'].max()))"
      ],
      "execution_count": 34,
      "outputs": [
        {
          "output_type": "stream",
          "text": [
            "Проверка. Период между датой регистрации и датой события для оставшихся пользователей: 0 - 14 дней.\n"
          ],
          "name": "stdout"
        }
      ]
    },
    {
      "cell_type": "code",
      "metadata": {
        "colab": {
          "base_uri": "https://localhost:8080/",
          "height": 359
        },
        "id": "nVHO5SepFPdN",
        "outputId": "5c4c3cbc-17c7-465e-d90b-84526eb67f2d"
      },
      "source": [
        "data.sample(10)"
      ],
      "execution_count": 35,
      "outputs": [
        {
          "output_type": "execute_result",
          "data": {
            "text/html": [
              "<div>\n",
              "<style scoped>\n",
              "    .dataframe tbody tr th:only-of-type {\n",
              "        vertical-align: middle;\n",
              "    }\n",
              "\n",
              "    .dataframe tbody tr th {\n",
              "        vertical-align: top;\n",
              "    }\n",
              "\n",
              "    .dataframe thead th {\n",
              "        text-align: right;\n",
              "    }\n",
              "</style>\n",
              "<table border=\"1\" class=\"dataframe\">\n",
              "  <thead>\n",
              "    <tr style=\"text-align: right;\">\n",
              "      <th></th>\n",
              "      <th>user_id</th>\n",
              "      <th>event_dt</th>\n",
              "      <th>event_name</th>\n",
              "      <th>details</th>\n",
              "      <th>group</th>\n",
              "      <th>ab_test</th>\n",
              "      <th>first_date</th>\n",
              "      <th>region</th>\n",
              "      <th>device</th>\n",
              "      <th>date</th>\n",
              "      <th>period</th>\n",
              "    </tr>\n",
              "  </thead>\n",
              "  <tbody>\n",
              "    <tr>\n",
              "      <th>10496</th>\n",
              "      <td>FCBE4B0CF081F04D</td>\n",
              "      <td>2020-12-22 19:07:27</td>\n",
              "      <td>product_page</td>\n",
              "      <td>NaN</td>\n",
              "      <td>A</td>\n",
              "      <td>recommender_system_test</td>\n",
              "      <td>2020-12-20</td>\n",
              "      <td>EU</td>\n",
              "      <td>iPhone</td>\n",
              "      <td>2020-12-22</td>\n",
              "      <td>2.0</td>\n",
              "    </tr>\n",
              "    <tr>\n",
              "      <th>4263</th>\n",
              "      <td>97AD409895906A32</td>\n",
              "      <td>2020-12-25 21:28:00</td>\n",
              "      <td>purchase</td>\n",
              "      <td>4.99</td>\n",
              "      <td>A</td>\n",
              "      <td>recommender_system_test</td>\n",
              "      <td>2020-12-21</td>\n",
              "      <td>EU</td>\n",
              "      <td>Android</td>\n",
              "      <td>2020-12-25</td>\n",
              "      <td>4.0</td>\n",
              "    </tr>\n",
              "    <tr>\n",
              "      <th>23146</th>\n",
              "      <td>2AD6903B2DCEAE0D</td>\n",
              "      <td>2020-12-20 08:12:47</td>\n",
              "      <td>product_page</td>\n",
              "      <td>NaN</td>\n",
              "      <td>A</td>\n",
              "      <td>recommender_system_test</td>\n",
              "      <td>2020-12-20</td>\n",
              "      <td>EU</td>\n",
              "      <td>Android</td>\n",
              "      <td>2020-12-20</td>\n",
              "      <td>0.0</td>\n",
              "    </tr>\n",
              "    <tr>\n",
              "      <th>10124</th>\n",
              "      <td>D072F407D6CE2C45</td>\n",
              "      <td>2020-12-17 07:01:57</td>\n",
              "      <td>product_cart</td>\n",
              "      <td>NaN</td>\n",
              "      <td>A</td>\n",
              "      <td>recommender_system_test</td>\n",
              "      <td>2020-12-17</td>\n",
              "      <td>EU</td>\n",
              "      <td>Android</td>\n",
              "      <td>2020-12-17</td>\n",
              "      <td>0.0</td>\n",
              "    </tr>\n",
              "    <tr>\n",
              "      <th>20720</th>\n",
              "      <td>DB79311DC523639B</td>\n",
              "      <td>2020-12-25 11:08:57</td>\n",
              "      <td>product_page</td>\n",
              "      <td>NaN</td>\n",
              "      <td>A</td>\n",
              "      <td>recommender_system_test</td>\n",
              "      <td>2020-12-15</td>\n",
              "      <td>EU</td>\n",
              "      <td>Android</td>\n",
              "      <td>2020-12-25</td>\n",
              "      <td>10.0</td>\n",
              "    </tr>\n",
              "    <tr>\n",
              "      <th>10192</th>\n",
              "      <td>F4190A5A95736012</td>\n",
              "      <td>2020-12-21 20:56:33</td>\n",
              "      <td>product_cart</td>\n",
              "      <td>NaN</td>\n",
              "      <td>A</td>\n",
              "      <td>recommender_system_test</td>\n",
              "      <td>2020-12-20</td>\n",
              "      <td>EU</td>\n",
              "      <td>Android</td>\n",
              "      <td>2020-12-21</td>\n",
              "      <td>1.0</td>\n",
              "    </tr>\n",
              "    <tr>\n",
              "      <th>26760</th>\n",
              "      <td>19E3408B4B4F85A9</td>\n",
              "      <td>2020-12-13 00:22:03</td>\n",
              "      <td>login</td>\n",
              "      <td>NaN</td>\n",
              "      <td>A</td>\n",
              "      <td>recommender_system_test</td>\n",
              "      <td>2020-12-10</td>\n",
              "      <td>N.America</td>\n",
              "      <td>Android</td>\n",
              "      <td>2020-12-13</td>\n",
              "      <td>3.0</td>\n",
              "    </tr>\n",
              "    <tr>\n",
              "      <th>19885</th>\n",
              "      <td>6E3DF9C69A6B607E</td>\n",
              "      <td>2020-12-14 08:29:56</td>\n",
              "      <td>product_cart</td>\n",
              "      <td>NaN</td>\n",
              "      <td>A</td>\n",
              "      <td>recommender_system_test</td>\n",
              "      <td>2020-12-14</td>\n",
              "      <td>EU</td>\n",
              "      <td>iPhone</td>\n",
              "      <td>2020-12-14</td>\n",
              "      <td>0.0</td>\n",
              "    </tr>\n",
              "    <tr>\n",
              "      <th>17953</th>\n",
              "      <td>053310D9D8FAB659</td>\n",
              "      <td>2020-12-15 21:44:40</td>\n",
              "      <td>product_cart</td>\n",
              "      <td>NaN</td>\n",
              "      <td>A</td>\n",
              "      <td>recommender_system_test</td>\n",
              "      <td>2020-12-14</td>\n",
              "      <td>EU</td>\n",
              "      <td>Android</td>\n",
              "      <td>2020-12-15</td>\n",
              "      <td>1.0</td>\n",
              "    </tr>\n",
              "    <tr>\n",
              "      <th>17722</th>\n",
              "      <td>0E24E4F981343864</td>\n",
              "      <td>2020-12-16 15:07:56</td>\n",
              "      <td>login</td>\n",
              "      <td>NaN</td>\n",
              "      <td>B</td>\n",
              "      <td>recommender_system_test</td>\n",
              "      <td>2020-12-07</td>\n",
              "      <td>EU</td>\n",
              "      <td>Android</td>\n",
              "      <td>2020-12-16</td>\n",
              "      <td>9.0</td>\n",
              "    </tr>\n",
              "  </tbody>\n",
              "</table>\n",
              "</div>"
            ],
            "text/plain": [
              "                user_id            event_dt  ...        date  period\n",
              "10496  FCBE4B0CF081F04D 2020-12-22 19:07:27  ...  2020-12-22     2.0\n",
              "4263   97AD409895906A32 2020-12-25 21:28:00  ...  2020-12-25     4.0\n",
              "23146  2AD6903B2DCEAE0D 2020-12-20 08:12:47  ...  2020-12-20     0.0\n",
              "10124  D072F407D6CE2C45 2020-12-17 07:01:57  ...  2020-12-17     0.0\n",
              "20720  DB79311DC523639B 2020-12-25 11:08:57  ...  2020-12-25    10.0\n",
              "10192  F4190A5A95736012 2020-12-21 20:56:33  ...  2020-12-21     1.0\n",
              "26760  19E3408B4B4F85A9 2020-12-13 00:22:03  ...  2020-12-13     3.0\n",
              "19885  6E3DF9C69A6B607E 2020-12-14 08:29:56  ...  2020-12-14     0.0\n",
              "17953  053310D9D8FAB659 2020-12-15 21:44:40  ...  2020-12-15     1.0\n",
              "17722  0E24E4F981343864 2020-12-16 15:07:56  ...  2020-12-16     9.0\n",
              "\n",
              "[10 rows x 11 columns]"
            ]
          },
          "metadata": {
            "tags": []
          },
          "execution_count": 35
        }
      ]
    },
    {
      "cell_type": "markdown",
      "metadata": {
        "id": "_tIH3WT0DOMP"
      },
      "source": [
        "Такая разбивка по пользователям осталась в соответствии с ТЗ."
      ]
    },
    {
      "cell_type": "code",
      "metadata": {
        "colab": {
          "base_uri": "https://localhost:8080/"
        },
        "id": "_O_0ENES9FcD",
        "outputId": "ece2d25b-7b32-4cde-c376-0a8e9ad5d520"
      },
      "source": [
        "data.groupby('group')['user_id'].nunique() "
      ],
      "execution_count": 36,
      "outputs": [
        {
          "output_type": "execute_result",
          "data": {
            "text/plain": [
              "group\n",
              "A    3824\n",
              "B    2877\n",
              "Name: user_id, dtype: int64"
            ]
          },
          "metadata": {
            "tags": []
          },
          "execution_count": 36
        }
      ]
    },
    {
      "cell_type": "markdown",
      "metadata": {
        "id": "AgDfN6wXzOZs"
      },
      "source": [
        "Посмотрим, в каком порядке идут события, и построим воронку отдельно по каждой группе."
      ]
    },
    {
      "cell_type": "code",
      "metadata": {
        "id": "L5Skzzp0piCa"
      },
      "source": [
        "a_data = data.query('group == \"A\"')\n",
        "b_data = data.query('group == \"B\"')"
      ],
      "execution_count": 37,
      "outputs": []
    },
    {
      "cell_type": "code",
      "metadata": {
        "colab": {
          "base_uri": "https://localhost:8080/",
          "height": 364
        },
        "id": "ntLmF2bAzLVH",
        "outputId": "0050896f-2665-460b-ff04-61333096790a"
      },
      "source": [
        "data_funnel_A = a_data.pivot_table(index = 'event_name', values = 'user_id', aggfunc = 'count').reset_index().sort_values(by = 'user_id', ascending = False)\n",
        "data_funnel_B = b_data.pivot_table(index = 'event_name', values = 'user_id', aggfunc = 'count').reset_index().sort_values(by = 'user_id', ascending = False)\n",
        "print('Данные для частотной воронки продаж по группе А')\n",
        "display(data_funnel_A)\n",
        "print('Данные для частотной воронки продаж по группе В')\n",
        "data_funnel_B"
      ],
      "execution_count": 38,
      "outputs": [
        {
          "output_type": "stream",
          "text": [
            "Данные для частотной воронки продаж по группе А\n"
          ],
          "name": "stdout"
        },
        {
          "output_type": "display_data",
          "data": {
            "text/html": [
              "<div>\n",
              "<style scoped>\n",
              "    .dataframe tbody tr th:only-of-type {\n",
              "        vertical-align: middle;\n",
              "    }\n",
              "\n",
              "    .dataframe tbody tr th {\n",
              "        vertical-align: top;\n",
              "    }\n",
              "\n",
              "    .dataframe thead th {\n",
              "        text-align: right;\n",
              "    }\n",
              "</style>\n",
              "<table border=\"1\" class=\"dataframe\">\n",
              "  <thead>\n",
              "    <tr style=\"text-align: right;\">\n",
              "      <th></th>\n",
              "      <th>event_name</th>\n",
              "      <th>user_id</th>\n",
              "    </tr>\n",
              "  </thead>\n",
              "  <tbody>\n",
              "    <tr>\n",
              "      <th>0</th>\n",
              "      <td>login</td>\n",
              "      <td>8400</td>\n",
              "    </tr>\n",
              "    <tr>\n",
              "      <th>2</th>\n",
              "      <td>product_page</td>\n",
              "      <td>5415</td>\n",
              "    </tr>\n",
              "    <tr>\n",
              "      <th>3</th>\n",
              "      <td>purchase</td>\n",
              "      <td>2613</td>\n",
              "    </tr>\n",
              "    <tr>\n",
              "      <th>1</th>\n",
              "      <td>product_cart</td>\n",
              "      <td>2519</td>\n",
              "    </tr>\n",
              "  </tbody>\n",
              "</table>\n",
              "</div>"
            ],
            "text/plain": [
              "     event_name  user_id\n",
              "0         login     8400\n",
              "2  product_page     5415\n",
              "3      purchase     2613\n",
              "1  product_cart     2519"
            ]
          },
          "metadata": {
            "tags": []
          }
        },
        {
          "output_type": "stream",
          "text": [
            "Данные для частотной воронки продаж по группе В\n"
          ],
          "name": "stdout"
        },
        {
          "output_type": "execute_result",
          "data": {
            "text/html": [
              "<div>\n",
              "<style scoped>\n",
              "    .dataframe tbody tr th:only-of-type {\n",
              "        vertical-align: middle;\n",
              "    }\n",
              "\n",
              "    .dataframe tbody tr th {\n",
              "        vertical-align: top;\n",
              "    }\n",
              "\n",
              "    .dataframe thead th {\n",
              "        text-align: right;\n",
              "    }\n",
              "</style>\n",
              "<table border=\"1\" class=\"dataframe\">\n",
              "  <thead>\n",
              "    <tr style=\"text-align: right;\">\n",
              "      <th></th>\n",
              "      <th>event_name</th>\n",
              "      <th>user_id</th>\n",
              "    </tr>\n",
              "  </thead>\n",
              "  <tbody>\n",
              "    <tr>\n",
              "      <th>0</th>\n",
              "      <td>login</td>\n",
              "      <td>2493</td>\n",
              "    </tr>\n",
              "    <tr>\n",
              "      <th>2</th>\n",
              "      <td>product_page</td>\n",
              "      <td>1331</td>\n",
              "    </tr>\n",
              "    <tr>\n",
              "      <th>1</th>\n",
              "      <td>product_cart</td>\n",
              "      <td>659</td>\n",
              "    </tr>\n",
              "    <tr>\n",
              "      <th>3</th>\n",
              "      <td>purchase</td>\n",
              "      <td>640</td>\n",
              "    </tr>\n",
              "  </tbody>\n",
              "</table>\n",
              "</div>"
            ],
            "text/plain": [
              "     event_name  user_id\n",
              "0         login     2493\n",
              "2  product_page     1331\n",
              "1  product_cart      659\n",
              "3      purchase      640"
            ]
          },
          "metadata": {
            "tags": []
          },
          "execution_count": 38
        }
      ]
    },
    {
      "cell_type": "markdown",
      "metadata": {
        "id": "byyrtl9K0GOT"
      },
      "source": [
        "По убыванию частоты событий идут этапы:\n",
        "* Вход в приложение (на сайт)\n",
        "* Просмотр страницы продукта\n",
        "* Заказ\n",
        "* Переход в корзину\n",
        "\n",
        "Заказ - последнее логическое звено в цепочке событий. Получается, что некоторые пользователи могут не проходить по классической цепочке, а напрямую заказывать нужный продукт (видимо, заказ \"в один клик\" прямо со страницы продукта). В связи с этим корректно будет оценивать конверсию каждого этапа из техзадания по отношению к первому событию.\n",
        "\n",
        "\n",
        "Визуализируем воронку по частоте событий, отсортировав этапы по порядку:\n",
        "\n"
      ]
    },
    {
      "cell_type": "code",
      "metadata": {
        "colab": {
          "base_uri": "https://localhost:8080/",
          "height": 542
        },
        "id": "VlmIk-t_z6rR",
        "outputId": "943269ba-cd64-4e75-f656-048a27ad6074"
      },
      "source": [
        "#Расположим события в правильном порядке вручную\n",
        "data_funnel_A = data_funnel_A.reindex([0,2,1,3])\n",
        "data_funnel_B = data_funnel_B.reindex([0,2,1,3])\n",
        "#Воронку делаем по каждой группе теста отдельно\n",
        "fig = go.Figure(layout_title_text='Частотная воронка событий')\n",
        "fig.add_trace(go.Funnel(y=data_funnel_A['event_name'], x = data_funnel_A['user_id'], marker = {\"color\": \"#1c1847\"}, name='A',\n",
        "    textinfo = 'value+percent previous+percent initial'))\n",
        "fig.add_trace(go.Funnel(y=data_funnel_B['event_name'], x = data_funnel_B['user_id'], marker = {\"color\": \"red\"}, name = 'B', \n",
        "    textinfo = 'value+percent previous+percent initial'))\n",
        "fig.show()"
      ],
      "execution_count": 39,
      "outputs": [
        {
          "output_type": "display_data",
          "data": {
            "text/html": [
              "<html>\n",
              "<head><meta charset=\"utf-8\" /></head>\n",
              "<body>\n",
              "    <div>\n",
              "            <script src=\"https://cdnjs.cloudflare.com/ajax/libs/mathjax/2.7.5/MathJax.js?config=TeX-AMS-MML_SVG\"></script><script type=\"text/javascript\">if (window.MathJax) {MathJax.Hub.Config({SVG: {font: \"STIX-Web\"}});}</script>\n",
              "                <script type=\"text/javascript\">window.PlotlyConfig = {MathJaxConfig: 'local'};</script>\n",
              "        <script src=\"https://cdn.plot.ly/plotly-latest.min.js\"></script>    \n",
              "            <div id=\"4cf60a53-36eb-4a2b-a061-3c48851da9b8\" class=\"plotly-graph-div\" style=\"height:525px; width:100%;\"></div>\n",
              "            <script type=\"text/javascript\">\n",
              "                \n",
              "                    window.PLOTLYENV=window.PLOTLYENV || {};\n",
              "                    \n",
              "                if (document.getElementById(\"4cf60a53-36eb-4a2b-a061-3c48851da9b8\")) {\n",
              "                    Plotly.newPlot(\n",
              "                        '4cf60a53-36eb-4a2b-a061-3c48851da9b8',\n",
              "                        [{\"marker\": {\"color\": \"#1c1847\"}, \"name\": \"A\", \"textinfo\": \"value+percent previous+percent initial\", \"type\": \"funnel\", \"x\": [8400, 5415, 2519, 2613], \"y\": [\"login\", \"product_page\", \"product_cart\", \"purchase\"]}, {\"marker\": {\"color\": \"red\"}, \"name\": \"B\", \"textinfo\": \"value+percent previous+percent initial\", \"type\": \"funnel\", \"x\": [2493, 1331, 659, 640], \"y\": [\"login\", \"product_page\", \"product_cart\", \"purchase\"]}],\n",
              "                        {\"template\": {\"data\": {\"bar\": [{\"error_x\": {\"color\": \"#2a3f5f\"}, \"error_y\": {\"color\": \"#2a3f5f\"}, \"marker\": {\"line\": {\"color\": \"#E5ECF6\", \"width\": 0.5}}, \"type\": \"bar\"}], \"barpolar\": [{\"marker\": {\"line\": {\"color\": \"#E5ECF6\", \"width\": 0.5}}, \"type\": \"barpolar\"}], \"carpet\": [{\"aaxis\": {\"endlinecolor\": \"#2a3f5f\", \"gridcolor\": \"white\", \"linecolor\": \"white\", \"minorgridcolor\": \"white\", \"startlinecolor\": \"#2a3f5f\"}, \"baxis\": {\"endlinecolor\": \"#2a3f5f\", \"gridcolor\": \"white\", \"linecolor\": \"white\", \"minorgridcolor\": \"white\", \"startlinecolor\": \"#2a3f5f\"}, \"type\": \"carpet\"}], \"choropleth\": [{\"colorbar\": {\"outlinewidth\": 0, \"ticks\": \"\"}, \"type\": \"choropleth\"}], \"contour\": [{\"colorbar\": {\"outlinewidth\": 0, \"ticks\": \"\"}, \"colorscale\": [[0.0, \"#0d0887\"], [0.1111111111111111, \"#46039f\"], [0.2222222222222222, \"#7201a8\"], [0.3333333333333333, \"#9c179e\"], [0.4444444444444444, \"#bd3786\"], [0.5555555555555556, \"#d8576b\"], [0.6666666666666666, \"#ed7953\"], [0.7777777777777778, \"#fb9f3a\"], [0.8888888888888888, \"#fdca26\"], [1.0, \"#f0f921\"]], \"type\": \"contour\"}], \"contourcarpet\": [{\"colorbar\": {\"outlinewidth\": 0, \"ticks\": \"\"}, \"type\": \"contourcarpet\"}], \"heatmap\": [{\"colorbar\": {\"outlinewidth\": 0, \"ticks\": \"\"}, \"colorscale\": [[0.0, \"#0d0887\"], [0.1111111111111111, \"#46039f\"], [0.2222222222222222, \"#7201a8\"], [0.3333333333333333, \"#9c179e\"], [0.4444444444444444, \"#bd3786\"], [0.5555555555555556, \"#d8576b\"], [0.6666666666666666, \"#ed7953\"], [0.7777777777777778, \"#fb9f3a\"], [0.8888888888888888, \"#fdca26\"], [1.0, \"#f0f921\"]], \"type\": \"heatmap\"}], \"heatmapgl\": [{\"colorbar\": {\"outlinewidth\": 0, \"ticks\": \"\"}, \"colorscale\": [[0.0, \"#0d0887\"], [0.1111111111111111, \"#46039f\"], [0.2222222222222222, \"#7201a8\"], [0.3333333333333333, \"#9c179e\"], [0.4444444444444444, \"#bd3786\"], [0.5555555555555556, \"#d8576b\"], [0.6666666666666666, \"#ed7953\"], [0.7777777777777778, \"#fb9f3a\"], [0.8888888888888888, \"#fdca26\"], [1.0, \"#f0f921\"]], \"type\": \"heatmapgl\"}], \"histogram\": [{\"marker\": {\"colorbar\": {\"outlinewidth\": 0, \"ticks\": \"\"}}, \"type\": \"histogram\"}], \"histogram2d\": [{\"colorbar\": {\"outlinewidth\": 0, \"ticks\": \"\"}, \"colorscale\": [[0.0, \"#0d0887\"], [0.1111111111111111, \"#46039f\"], [0.2222222222222222, \"#7201a8\"], [0.3333333333333333, \"#9c179e\"], [0.4444444444444444, \"#bd3786\"], [0.5555555555555556, \"#d8576b\"], [0.6666666666666666, \"#ed7953\"], [0.7777777777777778, \"#fb9f3a\"], [0.8888888888888888, \"#fdca26\"], [1.0, \"#f0f921\"]], \"type\": \"histogram2d\"}], \"histogram2dcontour\": [{\"colorbar\": {\"outlinewidth\": 0, \"ticks\": \"\"}, \"colorscale\": [[0.0, \"#0d0887\"], [0.1111111111111111, \"#46039f\"], [0.2222222222222222, \"#7201a8\"], [0.3333333333333333, \"#9c179e\"], [0.4444444444444444, \"#bd3786\"], [0.5555555555555556, \"#d8576b\"], [0.6666666666666666, \"#ed7953\"], [0.7777777777777778, \"#fb9f3a\"], [0.8888888888888888, \"#fdca26\"], [1.0, \"#f0f921\"]], \"type\": \"histogram2dcontour\"}], \"mesh3d\": [{\"colorbar\": {\"outlinewidth\": 0, \"ticks\": \"\"}, \"type\": \"mesh3d\"}], \"parcoords\": [{\"line\": {\"colorbar\": {\"outlinewidth\": 0, \"ticks\": \"\"}}, \"type\": \"parcoords\"}], \"pie\": [{\"automargin\": true, \"type\": \"pie\"}], \"scatter\": [{\"marker\": {\"colorbar\": {\"outlinewidth\": 0, \"ticks\": \"\"}}, \"type\": \"scatter\"}], \"scatter3d\": [{\"line\": {\"colorbar\": {\"outlinewidth\": 0, \"ticks\": \"\"}}, \"marker\": {\"colorbar\": {\"outlinewidth\": 0, \"ticks\": \"\"}}, \"type\": \"scatter3d\"}], \"scattercarpet\": [{\"marker\": {\"colorbar\": {\"outlinewidth\": 0, \"ticks\": \"\"}}, \"type\": \"scattercarpet\"}], \"scattergeo\": [{\"marker\": {\"colorbar\": {\"outlinewidth\": 0, \"ticks\": \"\"}}, \"type\": \"scattergeo\"}], \"scattergl\": [{\"marker\": {\"colorbar\": {\"outlinewidth\": 0, \"ticks\": \"\"}}, \"type\": \"scattergl\"}], \"scattermapbox\": [{\"marker\": {\"colorbar\": {\"outlinewidth\": 0, \"ticks\": \"\"}}, \"type\": \"scattermapbox\"}], \"scatterpolar\": [{\"marker\": {\"colorbar\": {\"outlinewidth\": 0, \"ticks\": \"\"}}, \"type\": \"scatterpolar\"}], \"scatterpolargl\": [{\"marker\": {\"colorbar\": {\"outlinewidth\": 0, \"ticks\": \"\"}}, \"type\": \"scatterpolargl\"}], \"scatterternary\": [{\"marker\": {\"colorbar\": {\"outlinewidth\": 0, \"ticks\": \"\"}}, \"type\": \"scatterternary\"}], \"surface\": [{\"colorbar\": {\"outlinewidth\": 0, \"ticks\": \"\"}, \"colorscale\": [[0.0, \"#0d0887\"], [0.1111111111111111, \"#46039f\"], [0.2222222222222222, \"#7201a8\"], [0.3333333333333333, \"#9c179e\"], [0.4444444444444444, \"#bd3786\"], [0.5555555555555556, \"#d8576b\"], [0.6666666666666666, \"#ed7953\"], [0.7777777777777778, \"#fb9f3a\"], [0.8888888888888888, \"#fdca26\"], [1.0, \"#f0f921\"]], \"type\": \"surface\"}], \"table\": [{\"cells\": {\"fill\": {\"color\": \"#EBF0F8\"}, \"line\": {\"color\": \"white\"}}, \"header\": {\"fill\": {\"color\": \"#C8D4E3\"}, \"line\": {\"color\": \"white\"}}, \"type\": \"table\"}]}, \"layout\": {\"annotationdefaults\": {\"arrowcolor\": \"#2a3f5f\", \"arrowhead\": 0, \"arrowwidth\": 1}, \"coloraxis\": {\"colorbar\": {\"outlinewidth\": 0, \"ticks\": \"\"}}, \"colorscale\": {\"diverging\": [[0, \"#8e0152\"], [0.1, \"#c51b7d\"], [0.2, \"#de77ae\"], [0.3, \"#f1b6da\"], [0.4, \"#fde0ef\"], [0.5, \"#f7f7f7\"], [0.6, \"#e6f5d0\"], [0.7, \"#b8e186\"], [0.8, \"#7fbc41\"], [0.9, \"#4d9221\"], [1, \"#276419\"]], \"sequential\": [[0.0, \"#0d0887\"], [0.1111111111111111, \"#46039f\"], [0.2222222222222222, \"#7201a8\"], [0.3333333333333333, \"#9c179e\"], [0.4444444444444444, \"#bd3786\"], [0.5555555555555556, \"#d8576b\"], [0.6666666666666666, \"#ed7953\"], [0.7777777777777778, \"#fb9f3a\"], [0.8888888888888888, \"#fdca26\"], [1.0, \"#f0f921\"]], \"sequentialminus\": [[0.0, \"#0d0887\"], [0.1111111111111111, \"#46039f\"], [0.2222222222222222, \"#7201a8\"], [0.3333333333333333, \"#9c179e\"], [0.4444444444444444, \"#bd3786\"], [0.5555555555555556, \"#d8576b\"], [0.6666666666666666, \"#ed7953\"], [0.7777777777777778, \"#fb9f3a\"], [0.8888888888888888, \"#fdca26\"], [1.0, \"#f0f921\"]]}, \"colorway\": [\"#636efa\", \"#EF553B\", \"#00cc96\", \"#ab63fa\", \"#FFA15A\", \"#19d3f3\", \"#FF6692\", \"#B6E880\", \"#FF97FF\", \"#FECB52\"], \"font\": {\"color\": \"#2a3f5f\"}, \"geo\": {\"bgcolor\": \"white\", \"lakecolor\": \"white\", \"landcolor\": \"#E5ECF6\", \"showlakes\": true, \"showland\": true, \"subunitcolor\": \"white\"}, \"hoverlabel\": {\"align\": \"left\"}, \"hovermode\": \"closest\", \"mapbox\": {\"style\": \"light\"}, \"paper_bgcolor\": \"white\", \"plot_bgcolor\": \"#E5ECF6\", \"polar\": {\"angularaxis\": {\"gridcolor\": \"white\", \"linecolor\": \"white\", \"ticks\": \"\"}, \"bgcolor\": \"#E5ECF6\", \"radialaxis\": {\"gridcolor\": \"white\", \"linecolor\": \"white\", \"ticks\": \"\"}}, \"scene\": {\"xaxis\": {\"backgroundcolor\": \"#E5ECF6\", \"gridcolor\": \"white\", \"gridwidth\": 2, \"linecolor\": \"white\", \"showbackground\": true, \"ticks\": \"\", \"zerolinecolor\": \"white\"}, \"yaxis\": {\"backgroundcolor\": \"#E5ECF6\", \"gridcolor\": \"white\", \"gridwidth\": 2, \"linecolor\": \"white\", \"showbackground\": true, \"ticks\": \"\", \"zerolinecolor\": \"white\"}, \"zaxis\": {\"backgroundcolor\": \"#E5ECF6\", \"gridcolor\": \"white\", \"gridwidth\": 2, \"linecolor\": \"white\", \"showbackground\": true, \"ticks\": \"\", \"zerolinecolor\": \"white\"}}, \"shapedefaults\": {\"line\": {\"color\": \"#2a3f5f\"}}, \"ternary\": {\"aaxis\": {\"gridcolor\": \"white\", \"linecolor\": \"white\", \"ticks\": \"\"}, \"baxis\": {\"gridcolor\": \"white\", \"linecolor\": \"white\", \"ticks\": \"\"}, \"bgcolor\": \"#E5ECF6\", \"caxis\": {\"gridcolor\": \"white\", \"linecolor\": \"white\", \"ticks\": \"\"}}, \"title\": {\"x\": 0.05}, \"xaxis\": {\"automargin\": true, \"gridcolor\": \"white\", \"linecolor\": \"white\", \"ticks\": \"\", \"title\": {\"standoff\": 15}, \"zerolinecolor\": \"white\", \"zerolinewidth\": 2}, \"yaxis\": {\"automargin\": true, \"gridcolor\": \"white\", \"linecolor\": \"white\", \"ticks\": \"\", \"title\": {\"standoff\": 15}, \"zerolinecolor\": \"white\", \"zerolinewidth\": 2}}}, \"title\": {\"text\": \"\\u0427\\u0430\\u0441\\u0442\\u043e\\u0442\\u043d\\u0430\\u044f \\u0432\\u043e\\u0440\\u043e\\u043d\\u043a\\u0430 \\u0441\\u043e\\u0431\\u044b\\u0442\\u0438\\u0439\"}},\n",
              "                        {\"responsive\": true}\n",
              "                    ).then(function(){\n",
              "                            \n",
              "var gd = document.getElementById('4cf60a53-36eb-4a2b-a061-3c48851da9b8');\n",
              "var x = new MutationObserver(function (mutations, observer) {{\n",
              "        var display = window.getComputedStyle(gd).display;\n",
              "        if (!display || display === 'none') {{\n",
              "            console.log([gd, 'removed!']);\n",
              "            Plotly.purge(gd);\n",
              "            observer.disconnect();\n",
              "        }}\n",
              "}});\n",
              "\n",
              "// Listen for the removal of the full notebook cells\n",
              "var notebookContainer = gd.closest('#notebook-container');\n",
              "if (notebookContainer) {{\n",
              "    x.observe(notebookContainer, {childList: true});\n",
              "}}\n",
              "\n",
              "// Listen for the clearing of the current output cell\n",
              "var outputEl = gd.closest('.output');\n",
              "if (outputEl) {{\n",
              "    x.observe(outputEl, {childList: true});\n",
              "}}\n",
              "\n",
              "                        })\n",
              "                };\n",
              "                \n",
              "            </script>\n",
              "        </div>\n",
              "</body>\n",
              "</html>"
            ]
          },
          "metadata": {
            "tags": []
          }
        }
      ]
    },
    {
      "cell_type": "markdown",
      "metadata": {
        "id": "FsEQFQYIH-Du"
      },
      "source": [
        "Наихудшая конверсия в частотной воронке - на этапе перехода от просмотра страницы продукта к корзине. 50% в экспериментальной группе и 47% в контрольной.\n",
        "\n",
        "Доля финального события - покупки - составляет 26% от общего числа событий в экспериментальной группе и 31% - в контрольной."
      ]
    },
    {
      "cell_type": "markdown",
      "metadata": {
        "id": "0PXCzrZO1Vsz"
      },
      "source": [
        "Построим еще одну воронку - по количеству пользователей, которые проходили эти этапы. \n",
        "\n",
        "К этапам в таблице добавим строку с общим количеством зарегистрированных пользователей, чтобы узнать конверсию регистрация/логин."
      ]
    },
    {
      "cell_type": "code",
      "metadata": {
        "colab": {
          "base_uri": "https://localhost:8080/",
          "height": 301
        },
        "id": "muZ6zruh1SKO",
        "outputId": "4090e5df-dc11-43bc-c400-f871e766b9d5"
      },
      "source": [
        "'''Напишем функцию, которая будет строить сводную таблицу для воронки продаж по уникальным пользователям'''\n",
        "def funnel_by_users(data):\n",
        "  #Сводная таблица количества пользователей группы А по каждому этапу\n",
        "  data_funnel_2 = data.pivot_table(index = 'event_name', values = 'user_id', aggfunc = pd.Series.nunique).reset_index()\n",
        "  #Добавляем событие - регистрация, чтобы видеть в воронке общее количество пользователей\n",
        "  data_funnel_2 = data_funnel_2.append({'event_name': 'Registration', 'user_id':  data['user_id'].nunique()}, ignore_index=True).sort_values(by = 'user_id', ascending = False)\n",
        "  #Конверсия по отношению к общему количеству пользователей приложения/сайта\n",
        "  data_funnel_2['%_users'] = data_funnel_2['user_id']/data['user_id'].nunique()\n",
        "  data_funnel_2 = data_funnel_2.reindex([4,0,2,1,3])\n",
        "  print('Данные для воронки продаж по пользователям  группы ', data['group'].unique())\n",
        "  return (data_funnel_2)\n",
        "a = funnel_by_users(a_data)\n",
        "display(a.style.format({'%_users':'{:.2%}'}))\n",
        "b = funnel_by_users(b_data)\n",
        "b.style.format({'%_users':'{:.2%}'})"
      ],
      "execution_count": 40,
      "outputs": [
        {
          "output_type": "stream",
          "text": [
            "Данные для воронки продаж по пользователям  группы  ['A']\n"
          ],
          "name": "stdout"
        },
        {
          "output_type": "display_data",
          "data": {
            "text/html": [
              "<style  type=\"text/css\" >\n",
              "</style><table id=\"T_f1be6a70_fc3f_11eb_a5b7_0242ac1c0002\" ><thead>    <tr>        <th class=\"blank level0\" ></th>        <th class=\"col_heading level0 col0\" >event_name</th>        <th class=\"col_heading level0 col1\" >user_id</th>        <th class=\"col_heading level0 col2\" >%_users</th>    </tr></thead><tbody>\n",
              "                <tr>\n",
              "                        <th id=\"T_f1be6a70_fc3f_11eb_a5b7_0242ac1c0002level0_row0\" class=\"row_heading level0 row0\" >4</th>\n",
              "                        <td id=\"T_f1be6a70_fc3f_11eb_a5b7_0242ac1c0002row0_col0\" class=\"data row0 col0\" >Registration</td>\n",
              "                        <td id=\"T_f1be6a70_fc3f_11eb_a5b7_0242ac1c0002row0_col1\" class=\"data row0 col1\" >3824</td>\n",
              "                        <td id=\"T_f1be6a70_fc3f_11eb_a5b7_0242ac1c0002row0_col2\" class=\"data row0 col2\" >100.00%</td>\n",
              "            </tr>\n",
              "            <tr>\n",
              "                        <th id=\"T_f1be6a70_fc3f_11eb_a5b7_0242ac1c0002level0_row1\" class=\"row_heading level0 row1\" >0</th>\n",
              "                        <td id=\"T_f1be6a70_fc3f_11eb_a5b7_0242ac1c0002row1_col0\" class=\"data row1 col0\" >login</td>\n",
              "                        <td id=\"T_f1be6a70_fc3f_11eb_a5b7_0242ac1c0002row1_col1\" class=\"data row1 col1\" >2747</td>\n",
              "                        <td id=\"T_f1be6a70_fc3f_11eb_a5b7_0242ac1c0002row1_col2\" class=\"data row1 col2\" >71.84%</td>\n",
              "            </tr>\n",
              "            <tr>\n",
              "                        <th id=\"T_f1be6a70_fc3f_11eb_a5b7_0242ac1c0002level0_row2\" class=\"row_heading level0 row2\" >2</th>\n",
              "                        <td id=\"T_f1be6a70_fc3f_11eb_a5b7_0242ac1c0002row2_col0\" class=\"data row2 col0\" >product_page</td>\n",
              "                        <td id=\"T_f1be6a70_fc3f_11eb_a5b7_0242ac1c0002row2_col1\" class=\"data row2 col1\" >1780</td>\n",
              "                        <td id=\"T_f1be6a70_fc3f_11eb_a5b7_0242ac1c0002row2_col2\" class=\"data row2 col2\" >46.55%</td>\n",
              "            </tr>\n",
              "            <tr>\n",
              "                        <th id=\"T_f1be6a70_fc3f_11eb_a5b7_0242ac1c0002level0_row3\" class=\"row_heading level0 row3\" >1</th>\n",
              "                        <td id=\"T_f1be6a70_fc3f_11eb_a5b7_0242ac1c0002row3_col0\" class=\"data row3 col0\" >product_cart</td>\n",
              "                        <td id=\"T_f1be6a70_fc3f_11eb_a5b7_0242ac1c0002row3_col1\" class=\"data row3 col1\" >824</td>\n",
              "                        <td id=\"T_f1be6a70_fc3f_11eb_a5b7_0242ac1c0002row3_col2\" class=\"data row3 col2\" >21.55%</td>\n",
              "            </tr>\n",
              "            <tr>\n",
              "                        <th id=\"T_f1be6a70_fc3f_11eb_a5b7_0242ac1c0002level0_row4\" class=\"row_heading level0 row4\" >3</th>\n",
              "                        <td id=\"T_f1be6a70_fc3f_11eb_a5b7_0242ac1c0002row4_col0\" class=\"data row4 col0\" >purchase</td>\n",
              "                        <td id=\"T_f1be6a70_fc3f_11eb_a5b7_0242ac1c0002row4_col1\" class=\"data row4 col1\" >872</td>\n",
              "                        <td id=\"T_f1be6a70_fc3f_11eb_a5b7_0242ac1c0002row4_col2\" class=\"data row4 col2\" >22.80%</td>\n",
              "            </tr>\n",
              "    </tbody></table>"
            ],
            "text/plain": [
              "<pandas.io.formats.style.Styler at 0x7fbb1f3ab3d0>"
            ]
          },
          "metadata": {
            "tags": []
          }
        },
        {
          "output_type": "stream",
          "text": [
            "Данные для воронки продаж по пользователям  группы  ['B']\n"
          ],
          "name": "stdout"
        },
        {
          "output_type": "execute_result",
          "data": {
            "text/html": [
              "<style  type=\"text/css\" >\n",
              "</style><table id=\"T_f1c31c6e_fc3f_11eb_a5b7_0242ac1c0002\" ><thead>    <tr>        <th class=\"blank level0\" ></th>        <th class=\"col_heading level0 col0\" >event_name</th>        <th class=\"col_heading level0 col1\" >user_id</th>        <th class=\"col_heading level0 col2\" >%_users</th>    </tr></thead><tbody>\n",
              "                <tr>\n",
              "                        <th id=\"T_f1c31c6e_fc3f_11eb_a5b7_0242ac1c0002level0_row0\" class=\"row_heading level0 row0\" >4</th>\n",
              "                        <td id=\"T_f1c31c6e_fc3f_11eb_a5b7_0242ac1c0002row0_col0\" class=\"data row0 col0\" >Registration</td>\n",
              "                        <td id=\"T_f1c31c6e_fc3f_11eb_a5b7_0242ac1c0002row0_col1\" class=\"data row0 col1\" >2877</td>\n",
              "                        <td id=\"T_f1c31c6e_fc3f_11eb_a5b7_0242ac1c0002row0_col2\" class=\"data row0 col2\" >100.00%</td>\n",
              "            </tr>\n",
              "            <tr>\n",
              "                        <th id=\"T_f1c31c6e_fc3f_11eb_a5b7_0242ac1c0002level0_row1\" class=\"row_heading level0 row1\" >0</th>\n",
              "                        <td id=\"T_f1c31c6e_fc3f_11eb_a5b7_0242ac1c0002row1_col0\" class=\"data row1 col0\" >login</td>\n",
              "                        <td id=\"T_f1c31c6e_fc3f_11eb_a5b7_0242ac1c0002row1_col1\" class=\"data row1 col1\" >927</td>\n",
              "                        <td id=\"T_f1c31c6e_fc3f_11eb_a5b7_0242ac1c0002row1_col2\" class=\"data row1 col2\" >32.22%</td>\n",
              "            </tr>\n",
              "            <tr>\n",
              "                        <th id=\"T_f1c31c6e_fc3f_11eb_a5b7_0242ac1c0002level0_row2\" class=\"row_heading level0 row2\" >2</th>\n",
              "                        <td id=\"T_f1c31c6e_fc3f_11eb_a5b7_0242ac1c0002row2_col0\" class=\"data row2 col0\" >product_page</td>\n",
              "                        <td id=\"T_f1c31c6e_fc3f_11eb_a5b7_0242ac1c0002row2_col1\" class=\"data row2 col1\" >523</td>\n",
              "                        <td id=\"T_f1c31c6e_fc3f_11eb_a5b7_0242ac1c0002row2_col2\" class=\"data row2 col2\" >18.18%</td>\n",
              "            </tr>\n",
              "            <tr>\n",
              "                        <th id=\"T_f1c31c6e_fc3f_11eb_a5b7_0242ac1c0002level0_row3\" class=\"row_heading level0 row3\" >1</th>\n",
              "                        <td id=\"T_f1c31c6e_fc3f_11eb_a5b7_0242ac1c0002row3_col0\" class=\"data row3 col0\" >product_cart</td>\n",
              "                        <td id=\"T_f1c31c6e_fc3f_11eb_a5b7_0242ac1c0002row3_col1\" class=\"data row3 col1\" >255</td>\n",
              "                        <td id=\"T_f1c31c6e_fc3f_11eb_a5b7_0242ac1c0002row3_col2\" class=\"data row3 col2\" >8.86%</td>\n",
              "            </tr>\n",
              "            <tr>\n",
              "                        <th id=\"T_f1c31c6e_fc3f_11eb_a5b7_0242ac1c0002level0_row4\" class=\"row_heading level0 row4\" >3</th>\n",
              "                        <td id=\"T_f1c31c6e_fc3f_11eb_a5b7_0242ac1c0002row4_col0\" class=\"data row4 col0\" >purchase</td>\n",
              "                        <td id=\"T_f1c31c6e_fc3f_11eb_a5b7_0242ac1c0002row4_col1\" class=\"data row4 col1\" >256</td>\n",
              "                        <td id=\"T_f1c31c6e_fc3f_11eb_a5b7_0242ac1c0002row4_col2\" class=\"data row4 col2\" >8.90%</td>\n",
              "            </tr>\n",
              "    </tbody></table>"
            ],
            "text/plain": [
              "<pandas.io.formats.style.Styler at 0x7fbb212e6e10>"
            ]
          },
          "metadata": {
            "tags": []
          },
          "execution_count": 40
        }
      ]
    },
    {
      "cell_type": "code",
      "metadata": {
        "colab": {
          "base_uri": "https://localhost:8080/",
          "height": 542
        },
        "id": "MoJBMtNR2ffu",
        "outputId": "5126a853-f301-47e9-9c1f-8e5a790a9798"
      },
      "source": [
        "fig = go.Figure(layout_title_text='Воронка событий по количеству пользователей')\n",
        "fig.add_trace(go.Funnel(y=a['event_name'], x = a['user_id'],\n",
        "    textinfo = 'value+percent previous+percent initial', marker = {\"color\": \"#1c1847\"}, name='A'))\n",
        "fig.add_trace(go.Funnel(y=b['event_name'], x = b['user_id'],\n",
        "    textinfo = 'value+percent previous+percent initial', marker = {\"color\": \"red\"}, name = 'B'))\n",
        "fig.show()"
      ],
      "execution_count": 41,
      "outputs": [
        {
          "output_type": "display_data",
          "data": {
            "text/html": [
              "<html>\n",
              "<head><meta charset=\"utf-8\" /></head>\n",
              "<body>\n",
              "    <div>\n",
              "            <script src=\"https://cdnjs.cloudflare.com/ajax/libs/mathjax/2.7.5/MathJax.js?config=TeX-AMS-MML_SVG\"></script><script type=\"text/javascript\">if (window.MathJax) {MathJax.Hub.Config({SVG: {font: \"STIX-Web\"}});}</script>\n",
              "                <script type=\"text/javascript\">window.PlotlyConfig = {MathJaxConfig: 'local'};</script>\n",
              "        <script src=\"https://cdn.plot.ly/plotly-latest.min.js\"></script>    \n",
              "            <div id=\"8010c0dd-bd9a-4739-866e-758094102fe3\" class=\"plotly-graph-div\" style=\"height:525px; width:100%;\"></div>\n",
              "            <script type=\"text/javascript\">\n",
              "                \n",
              "                    window.PLOTLYENV=window.PLOTLYENV || {};\n",
              "                    \n",
              "                if (document.getElementById(\"8010c0dd-bd9a-4739-866e-758094102fe3\")) {\n",
              "                    Plotly.newPlot(\n",
              "                        '8010c0dd-bd9a-4739-866e-758094102fe3',\n",
              "                        [{\"marker\": {\"color\": \"#1c1847\"}, \"name\": \"A\", \"textinfo\": \"value+percent previous+percent initial\", \"type\": \"funnel\", \"x\": [3824, 2747, 1780, 824, 872], \"y\": [\"Registration\", \"login\", \"product_page\", \"product_cart\", \"purchase\"]}, {\"marker\": {\"color\": \"red\"}, \"name\": \"B\", \"textinfo\": \"value+percent previous+percent initial\", \"type\": \"funnel\", \"x\": [2877, 927, 523, 255, 256], \"y\": [\"Registration\", \"login\", \"product_page\", \"product_cart\", \"purchase\"]}],\n",
              "                        {\"template\": {\"data\": {\"bar\": [{\"error_x\": {\"color\": \"#2a3f5f\"}, \"error_y\": {\"color\": \"#2a3f5f\"}, \"marker\": {\"line\": {\"color\": \"#E5ECF6\", \"width\": 0.5}}, \"type\": \"bar\"}], \"barpolar\": [{\"marker\": {\"line\": {\"color\": \"#E5ECF6\", \"width\": 0.5}}, \"type\": \"barpolar\"}], \"carpet\": [{\"aaxis\": {\"endlinecolor\": \"#2a3f5f\", \"gridcolor\": \"white\", \"linecolor\": \"white\", \"minorgridcolor\": \"white\", \"startlinecolor\": \"#2a3f5f\"}, \"baxis\": {\"endlinecolor\": \"#2a3f5f\", \"gridcolor\": \"white\", \"linecolor\": \"white\", \"minorgridcolor\": \"white\", \"startlinecolor\": \"#2a3f5f\"}, \"type\": \"carpet\"}], \"choropleth\": [{\"colorbar\": {\"outlinewidth\": 0, \"ticks\": \"\"}, \"type\": \"choropleth\"}], \"contour\": [{\"colorbar\": {\"outlinewidth\": 0, \"ticks\": \"\"}, \"colorscale\": [[0.0, \"#0d0887\"], [0.1111111111111111, \"#46039f\"], [0.2222222222222222, \"#7201a8\"], [0.3333333333333333, \"#9c179e\"], [0.4444444444444444, \"#bd3786\"], [0.5555555555555556, \"#d8576b\"], [0.6666666666666666, \"#ed7953\"], [0.7777777777777778, \"#fb9f3a\"], [0.8888888888888888, \"#fdca26\"], [1.0, \"#f0f921\"]], \"type\": \"contour\"}], \"contourcarpet\": [{\"colorbar\": {\"outlinewidth\": 0, \"ticks\": \"\"}, \"type\": \"contourcarpet\"}], \"heatmap\": [{\"colorbar\": {\"outlinewidth\": 0, \"ticks\": \"\"}, \"colorscale\": [[0.0, \"#0d0887\"], [0.1111111111111111, \"#46039f\"], [0.2222222222222222, \"#7201a8\"], [0.3333333333333333, \"#9c179e\"], [0.4444444444444444, \"#bd3786\"], [0.5555555555555556, \"#d8576b\"], [0.6666666666666666, \"#ed7953\"], [0.7777777777777778, \"#fb9f3a\"], [0.8888888888888888, \"#fdca26\"], [1.0, \"#f0f921\"]], \"type\": \"heatmap\"}], \"heatmapgl\": [{\"colorbar\": {\"outlinewidth\": 0, \"ticks\": \"\"}, \"colorscale\": [[0.0, \"#0d0887\"], [0.1111111111111111, \"#46039f\"], [0.2222222222222222, \"#7201a8\"], [0.3333333333333333, \"#9c179e\"], [0.4444444444444444, \"#bd3786\"], [0.5555555555555556, \"#d8576b\"], [0.6666666666666666, \"#ed7953\"], [0.7777777777777778, \"#fb9f3a\"], [0.8888888888888888, \"#fdca26\"], [1.0, \"#f0f921\"]], \"type\": \"heatmapgl\"}], \"histogram\": [{\"marker\": {\"colorbar\": {\"outlinewidth\": 0, \"ticks\": \"\"}}, \"type\": \"histogram\"}], \"histogram2d\": [{\"colorbar\": {\"outlinewidth\": 0, \"ticks\": \"\"}, \"colorscale\": [[0.0, \"#0d0887\"], [0.1111111111111111, \"#46039f\"], [0.2222222222222222, \"#7201a8\"], [0.3333333333333333, \"#9c179e\"], [0.4444444444444444, \"#bd3786\"], [0.5555555555555556, \"#d8576b\"], [0.6666666666666666, \"#ed7953\"], [0.7777777777777778, \"#fb9f3a\"], [0.8888888888888888, \"#fdca26\"], [1.0, \"#f0f921\"]], \"type\": \"histogram2d\"}], \"histogram2dcontour\": [{\"colorbar\": {\"outlinewidth\": 0, \"ticks\": \"\"}, \"colorscale\": [[0.0, \"#0d0887\"], [0.1111111111111111, \"#46039f\"], [0.2222222222222222, \"#7201a8\"], [0.3333333333333333, \"#9c179e\"], [0.4444444444444444, \"#bd3786\"], [0.5555555555555556, \"#d8576b\"], [0.6666666666666666, \"#ed7953\"], [0.7777777777777778, \"#fb9f3a\"], [0.8888888888888888, \"#fdca26\"], [1.0, \"#f0f921\"]], \"type\": \"histogram2dcontour\"}], \"mesh3d\": [{\"colorbar\": {\"outlinewidth\": 0, \"ticks\": \"\"}, \"type\": \"mesh3d\"}], \"parcoords\": [{\"line\": {\"colorbar\": {\"outlinewidth\": 0, \"ticks\": \"\"}}, \"type\": \"parcoords\"}], \"pie\": [{\"automargin\": true, \"type\": \"pie\"}], \"scatter\": [{\"marker\": {\"colorbar\": {\"outlinewidth\": 0, \"ticks\": \"\"}}, \"type\": \"scatter\"}], \"scatter3d\": [{\"line\": {\"colorbar\": {\"outlinewidth\": 0, \"ticks\": \"\"}}, \"marker\": {\"colorbar\": {\"outlinewidth\": 0, \"ticks\": \"\"}}, \"type\": \"scatter3d\"}], \"scattercarpet\": [{\"marker\": {\"colorbar\": {\"outlinewidth\": 0, \"ticks\": \"\"}}, \"type\": \"scattercarpet\"}], \"scattergeo\": [{\"marker\": {\"colorbar\": {\"outlinewidth\": 0, \"ticks\": \"\"}}, \"type\": \"scattergeo\"}], \"scattergl\": [{\"marker\": {\"colorbar\": {\"outlinewidth\": 0, \"ticks\": \"\"}}, \"type\": \"scattergl\"}], \"scattermapbox\": [{\"marker\": {\"colorbar\": {\"outlinewidth\": 0, \"ticks\": \"\"}}, \"type\": \"scattermapbox\"}], \"scatterpolar\": [{\"marker\": {\"colorbar\": {\"outlinewidth\": 0, \"ticks\": \"\"}}, \"type\": \"scatterpolar\"}], \"scatterpolargl\": [{\"marker\": {\"colorbar\": {\"outlinewidth\": 0, \"ticks\": \"\"}}, \"type\": \"scatterpolargl\"}], \"scatterternary\": [{\"marker\": {\"colorbar\": {\"outlinewidth\": 0, \"ticks\": \"\"}}, \"type\": \"scatterternary\"}], \"surface\": [{\"colorbar\": {\"outlinewidth\": 0, \"ticks\": \"\"}, \"colorscale\": [[0.0, \"#0d0887\"], [0.1111111111111111, \"#46039f\"], [0.2222222222222222, \"#7201a8\"], [0.3333333333333333, \"#9c179e\"], [0.4444444444444444, \"#bd3786\"], [0.5555555555555556, \"#d8576b\"], [0.6666666666666666, \"#ed7953\"], [0.7777777777777778, \"#fb9f3a\"], [0.8888888888888888, \"#fdca26\"], [1.0, \"#f0f921\"]], \"type\": \"surface\"}], \"table\": [{\"cells\": {\"fill\": {\"color\": \"#EBF0F8\"}, \"line\": {\"color\": \"white\"}}, \"header\": {\"fill\": {\"color\": \"#C8D4E3\"}, \"line\": {\"color\": \"white\"}}, \"type\": \"table\"}]}, \"layout\": {\"annotationdefaults\": {\"arrowcolor\": \"#2a3f5f\", \"arrowhead\": 0, \"arrowwidth\": 1}, \"coloraxis\": {\"colorbar\": {\"outlinewidth\": 0, \"ticks\": \"\"}}, \"colorscale\": {\"diverging\": [[0, \"#8e0152\"], [0.1, \"#c51b7d\"], [0.2, \"#de77ae\"], [0.3, \"#f1b6da\"], [0.4, \"#fde0ef\"], [0.5, \"#f7f7f7\"], [0.6, \"#e6f5d0\"], [0.7, \"#b8e186\"], [0.8, \"#7fbc41\"], [0.9, \"#4d9221\"], [1, \"#276419\"]], \"sequential\": [[0.0, \"#0d0887\"], [0.1111111111111111, \"#46039f\"], [0.2222222222222222, \"#7201a8\"], [0.3333333333333333, \"#9c179e\"], [0.4444444444444444, \"#bd3786\"], [0.5555555555555556, \"#d8576b\"], [0.6666666666666666, \"#ed7953\"], [0.7777777777777778, \"#fb9f3a\"], [0.8888888888888888, \"#fdca26\"], [1.0, \"#f0f921\"]], \"sequentialminus\": [[0.0, \"#0d0887\"], [0.1111111111111111, \"#46039f\"], [0.2222222222222222, \"#7201a8\"], [0.3333333333333333, \"#9c179e\"], [0.4444444444444444, \"#bd3786\"], [0.5555555555555556, \"#d8576b\"], [0.6666666666666666, \"#ed7953\"], [0.7777777777777778, \"#fb9f3a\"], [0.8888888888888888, \"#fdca26\"], [1.0, \"#f0f921\"]]}, \"colorway\": [\"#636efa\", \"#EF553B\", \"#00cc96\", \"#ab63fa\", \"#FFA15A\", \"#19d3f3\", \"#FF6692\", \"#B6E880\", \"#FF97FF\", \"#FECB52\"], \"font\": {\"color\": \"#2a3f5f\"}, \"geo\": {\"bgcolor\": \"white\", \"lakecolor\": \"white\", \"landcolor\": \"#E5ECF6\", \"showlakes\": true, \"showland\": true, \"subunitcolor\": \"white\"}, \"hoverlabel\": {\"align\": \"left\"}, \"hovermode\": \"closest\", \"mapbox\": {\"style\": \"light\"}, \"paper_bgcolor\": \"white\", \"plot_bgcolor\": \"#E5ECF6\", \"polar\": {\"angularaxis\": {\"gridcolor\": \"white\", \"linecolor\": \"white\", \"ticks\": \"\"}, \"bgcolor\": \"#E5ECF6\", \"radialaxis\": {\"gridcolor\": \"white\", \"linecolor\": \"white\", \"ticks\": \"\"}}, \"scene\": {\"xaxis\": {\"backgroundcolor\": \"#E5ECF6\", \"gridcolor\": \"white\", \"gridwidth\": 2, \"linecolor\": \"white\", \"showbackground\": true, \"ticks\": \"\", \"zerolinecolor\": \"white\"}, \"yaxis\": {\"backgroundcolor\": \"#E5ECF6\", \"gridcolor\": \"white\", \"gridwidth\": 2, \"linecolor\": \"white\", \"showbackground\": true, \"ticks\": \"\", \"zerolinecolor\": \"white\"}, \"zaxis\": {\"backgroundcolor\": \"#E5ECF6\", \"gridcolor\": \"white\", \"gridwidth\": 2, \"linecolor\": \"white\", \"showbackground\": true, \"ticks\": \"\", \"zerolinecolor\": \"white\"}}, \"shapedefaults\": {\"line\": {\"color\": \"#2a3f5f\"}}, \"ternary\": {\"aaxis\": {\"gridcolor\": \"white\", \"linecolor\": \"white\", \"ticks\": \"\"}, \"baxis\": {\"gridcolor\": \"white\", \"linecolor\": \"white\", \"ticks\": \"\"}, \"bgcolor\": \"#E5ECF6\", \"caxis\": {\"gridcolor\": \"white\", \"linecolor\": \"white\", \"ticks\": \"\"}}, \"title\": {\"x\": 0.05}, \"xaxis\": {\"automargin\": true, \"gridcolor\": \"white\", \"linecolor\": \"white\", \"ticks\": \"\", \"title\": {\"standoff\": 15}, \"zerolinecolor\": \"white\", \"zerolinewidth\": 2}, \"yaxis\": {\"automargin\": true, \"gridcolor\": \"white\", \"linecolor\": \"white\", \"ticks\": \"\", \"title\": {\"standoff\": 15}, \"zerolinecolor\": \"white\", \"zerolinewidth\": 2}}}, \"title\": {\"text\": \"\\u0412\\u043e\\u0440\\u043e\\u043d\\u043a\\u0430 \\u0441\\u043e\\u0431\\u044b\\u0442\\u0438\\u0439 \\u043f\\u043e \\u043a\\u043e\\u043b\\u0438\\u0447\\u0435\\u0441\\u0442\\u0432\\u0443 \\u043f\\u043e\\u043b\\u044c\\u0437\\u043e\\u0432\\u0430\\u0442\\u0435\\u043b\\u0435\\u0439\"}},\n",
              "                        {\"responsive\": true}\n",
              "                    ).then(function(){\n",
              "                            \n",
              "var gd = document.getElementById('8010c0dd-bd9a-4739-866e-758094102fe3');\n",
              "var x = new MutationObserver(function (mutations, observer) {{\n",
              "        var display = window.getComputedStyle(gd).display;\n",
              "        if (!display || display === 'none') {{\n",
              "            console.log([gd, 'removed!']);\n",
              "            Plotly.purge(gd);\n",
              "            observer.disconnect();\n",
              "        }}\n",
              "}});\n",
              "\n",
              "// Listen for the removal of the full notebook cells\n",
              "var notebookContainer = gd.closest('#notebook-container');\n",
              "if (notebookContainer) {{\n",
              "    x.observe(notebookContainer, {childList: true});\n",
              "}}\n",
              "\n",
              "// Listen for the clearing of the current output cell\n",
              "var outputEl = gd.closest('.output');\n",
              "if (outputEl) {{\n",
              "    x.observe(outputEl, {childList: true});\n",
              "}}\n",
              "\n",
              "                        })\n",
              "                };\n",
              "                \n",
              "            </script>\n",
              "        </div>\n",
              "</body>\n",
              "</html>"
            ]
          },
          "metadata": {
            "tags": []
          }
        }
      ]
    },
    {
      "cell_type": "markdown",
      "metadata": {
        "id": "1E-fl45t3F1I"
      },
      "source": [
        "68% пользователей экспериментальной группы не пошло дальше регистрации. Действий в системе они не совершали.\n",
        "\n",
        "Из тех, кто залогинился, на следующий этап (просмотр карточки продукта)  перешли 65% пользователей контрольной группы и всего 56% - из экспериментальной.\n",
        "\n",
        "В экспериментальной группе лучше относительные показатели конверсии перехода в корзину со страницы продукта, но итоговая конверсия в заказ - всего 28% против 32% в контрольной группе.\n",
        "\n",
        "Отдельно отметим, что в экспериментальной группе только один человек сделал покупку \"мимо корзины\". В контрольной таких покупателей 48.\n",
        "\n",
        "Похоже, что показатели экспериментальной группы не лучше контрольной."
      ]
    },
    {
      "cell_type": "markdown",
      "metadata": {
        "id": "S0Av_Gj3I8J2"
      },
      "source": [
        "Посмотрим, как выглядит средний чек в обеих группах."
      ]
    },
    {
      "cell_type": "code",
      "metadata": {
        "colab": {
          "base_uri": "https://localhost:8080/"
        },
        "id": "K32lnAwcJBqA",
        "outputId": "c130aa6d-3c67-42dd-f919-9b5fbebd2665"
      },
      "source": [
        "print('Средний чек покупателя из контрольной группы: {:.2f} у.е.'.format(a_data['details'].sum()/a_data['user_id'].nunique()))\n",
        "print('Средний чек покупателя из контрольной группы: {:.2f} у.е.'.format(b_data['details'].sum()/b_data['user_id'].nunique()))"
      ],
      "execution_count": 42,
      "outputs": [
        {
          "output_type": "stream",
          "text": [
            "Средний чек покупателя из контрольной группы: 15.87 у.е.\n",
            "Средний чек покупателя из контрольной группы: 5.16 у.е.\n"
          ],
          "name": "stdout"
        }
      ]
    },
    {
      "cell_type": "markdown",
      "metadata": {
        "id": "dHxsX40xJvVg"
      },
      "source": [
        "По среднему чеку в экспериментальной группе тоже провал. В первую очередь из-за того, что большая часть пользователей, зарегистрировавшихся в системе, остались неактивными."
      ]
    },
    {
      "cell_type": "markdown",
      "metadata": {
        "id": "O6iMMFKQcrEI"
      },
      "source": [
        "Представим конверсию в виде таблицы, удобной для анализа."
      ]
    },
    {
      "cell_type": "code",
      "metadata": {
        "colab": {
          "base_uri": "https://localhost:8080/",
          "height": 261
        },
        "id": "phU2RUCZ36pb",
        "outputId": "f0aa8fb9-99e2-4bfa-a001-a8612792ba07"
      },
      "source": [
        "'''Функция расчета конверсии количества пользователей по событиям. На вход подается файл с событиями, \n",
        "на выходе таблица конверсии по этапам и по отношению к первому этапу'''  \n",
        "def conv_func(data):\n",
        "  #Группируем события по кол-ву уникальных пользователей\n",
        "  data_events = data.groupby('event_name').agg({'user_id':'nunique'}).reset_index().sort_values(by = 'user_id', ascending = False)\n",
        "  #Создаем колонку, где строке из столбца с пользователями будет соответствовать значение предыдущей строки этого же столбца. Он нужен для расчета конверсии\n",
        "  data_events = data_events.reindex([0,2,1,3])\n",
        "  data_events['prev_id'] = data_events['user_id'].shift(1).fillna(data['user_id'].nunique()).astype('int')\n",
        "  #Расчетный столбец конверсии между этапами\n",
        "  data_events['conversion'] = data_events['user_id'] / data_events['prev_id']\n",
        "  #Расчетный столбец конверсии по отношению к первому этапу\n",
        "  data_events['conversion_initial'] = (data_events['user_id'] / data_events.query('event_name == \"login\"')['prev_id'].sum())\n",
        "  #data_events.insert(3, 'initial', data_events.query('event_name == \"login\"')['user_id'].sum())\n",
        "  return data_events\n",
        "print('Таблица конверсии для группы', a_data['group'].unique())\n",
        "display(conv_func(a_data).style.format({'conversion':'{:.2%}', 'conversion_initial':'{:.2%}'}))\n",
        "print('Таблица конверсии для группы', b_data['group'].unique())\n",
        "conv_func(b_data).style.format({'conversion':'{:.2%}', 'conversion_initial':'{:.2%}'})"
      ],
      "execution_count": 43,
      "outputs": [
        {
          "output_type": "stream",
          "text": [
            "Таблица конверсии для группы ['A']\n"
          ],
          "name": "stdout"
        },
        {
          "output_type": "display_data",
          "data": {
            "text/html": [
              "<style  type=\"text/css\" >\n",
              "</style><table id=\"T_f1ead560_fc3f_11eb_a5b7_0242ac1c0002\" ><thead>    <tr>        <th class=\"blank level0\" ></th>        <th class=\"col_heading level0 col0\" >event_name</th>        <th class=\"col_heading level0 col1\" >user_id</th>        <th class=\"col_heading level0 col2\" >prev_id</th>        <th class=\"col_heading level0 col3\" >conversion</th>        <th class=\"col_heading level0 col4\" >conversion_initial</th>    </tr></thead><tbody>\n",
              "                <tr>\n",
              "                        <th id=\"T_f1ead560_fc3f_11eb_a5b7_0242ac1c0002level0_row0\" class=\"row_heading level0 row0\" >0</th>\n",
              "                        <td id=\"T_f1ead560_fc3f_11eb_a5b7_0242ac1c0002row0_col0\" class=\"data row0 col0\" >login</td>\n",
              "                        <td id=\"T_f1ead560_fc3f_11eb_a5b7_0242ac1c0002row0_col1\" class=\"data row0 col1\" >2747</td>\n",
              "                        <td id=\"T_f1ead560_fc3f_11eb_a5b7_0242ac1c0002row0_col2\" class=\"data row0 col2\" >3824</td>\n",
              "                        <td id=\"T_f1ead560_fc3f_11eb_a5b7_0242ac1c0002row0_col3\" class=\"data row0 col3\" >71.84%</td>\n",
              "                        <td id=\"T_f1ead560_fc3f_11eb_a5b7_0242ac1c0002row0_col4\" class=\"data row0 col4\" >71.84%</td>\n",
              "            </tr>\n",
              "            <tr>\n",
              "                        <th id=\"T_f1ead560_fc3f_11eb_a5b7_0242ac1c0002level0_row1\" class=\"row_heading level0 row1\" >2</th>\n",
              "                        <td id=\"T_f1ead560_fc3f_11eb_a5b7_0242ac1c0002row1_col0\" class=\"data row1 col0\" >product_page</td>\n",
              "                        <td id=\"T_f1ead560_fc3f_11eb_a5b7_0242ac1c0002row1_col1\" class=\"data row1 col1\" >1780</td>\n",
              "                        <td id=\"T_f1ead560_fc3f_11eb_a5b7_0242ac1c0002row1_col2\" class=\"data row1 col2\" >2747</td>\n",
              "                        <td id=\"T_f1ead560_fc3f_11eb_a5b7_0242ac1c0002row1_col3\" class=\"data row1 col3\" >64.80%</td>\n",
              "                        <td id=\"T_f1ead560_fc3f_11eb_a5b7_0242ac1c0002row1_col4\" class=\"data row1 col4\" >46.55%</td>\n",
              "            </tr>\n",
              "            <tr>\n",
              "                        <th id=\"T_f1ead560_fc3f_11eb_a5b7_0242ac1c0002level0_row2\" class=\"row_heading level0 row2\" >1</th>\n",
              "                        <td id=\"T_f1ead560_fc3f_11eb_a5b7_0242ac1c0002row2_col0\" class=\"data row2 col0\" >product_cart</td>\n",
              "                        <td id=\"T_f1ead560_fc3f_11eb_a5b7_0242ac1c0002row2_col1\" class=\"data row2 col1\" >824</td>\n",
              "                        <td id=\"T_f1ead560_fc3f_11eb_a5b7_0242ac1c0002row2_col2\" class=\"data row2 col2\" >1780</td>\n",
              "                        <td id=\"T_f1ead560_fc3f_11eb_a5b7_0242ac1c0002row2_col3\" class=\"data row2 col3\" >46.29%</td>\n",
              "                        <td id=\"T_f1ead560_fc3f_11eb_a5b7_0242ac1c0002row2_col4\" class=\"data row2 col4\" >21.55%</td>\n",
              "            </tr>\n",
              "            <tr>\n",
              "                        <th id=\"T_f1ead560_fc3f_11eb_a5b7_0242ac1c0002level0_row3\" class=\"row_heading level0 row3\" >3</th>\n",
              "                        <td id=\"T_f1ead560_fc3f_11eb_a5b7_0242ac1c0002row3_col0\" class=\"data row3 col0\" >purchase</td>\n",
              "                        <td id=\"T_f1ead560_fc3f_11eb_a5b7_0242ac1c0002row3_col1\" class=\"data row3 col1\" >872</td>\n",
              "                        <td id=\"T_f1ead560_fc3f_11eb_a5b7_0242ac1c0002row3_col2\" class=\"data row3 col2\" >824</td>\n",
              "                        <td id=\"T_f1ead560_fc3f_11eb_a5b7_0242ac1c0002row3_col3\" class=\"data row3 col3\" >105.83%</td>\n",
              "                        <td id=\"T_f1ead560_fc3f_11eb_a5b7_0242ac1c0002row3_col4\" class=\"data row3 col4\" >22.80%</td>\n",
              "            </tr>\n",
              "    </tbody></table>"
            ],
            "text/plain": [
              "<pandas.io.formats.style.Styler at 0x7fbb1f030fd0>"
            ]
          },
          "metadata": {
            "tags": []
          }
        },
        {
          "output_type": "stream",
          "text": [
            "Таблица конверсии для группы ['B']\n"
          ],
          "name": "stdout"
        },
        {
          "output_type": "execute_result",
          "data": {
            "text/html": [
              "<style  type=\"text/css\" >\n",
              "</style><table id=\"T_f1eeaffa_fc3f_11eb_a5b7_0242ac1c0002\" ><thead>    <tr>        <th class=\"blank level0\" ></th>        <th class=\"col_heading level0 col0\" >event_name</th>        <th class=\"col_heading level0 col1\" >user_id</th>        <th class=\"col_heading level0 col2\" >prev_id</th>        <th class=\"col_heading level0 col3\" >conversion</th>        <th class=\"col_heading level0 col4\" >conversion_initial</th>    </tr></thead><tbody>\n",
              "                <tr>\n",
              "                        <th id=\"T_f1eeaffa_fc3f_11eb_a5b7_0242ac1c0002level0_row0\" class=\"row_heading level0 row0\" >0</th>\n",
              "                        <td id=\"T_f1eeaffa_fc3f_11eb_a5b7_0242ac1c0002row0_col0\" class=\"data row0 col0\" >login</td>\n",
              "                        <td id=\"T_f1eeaffa_fc3f_11eb_a5b7_0242ac1c0002row0_col1\" class=\"data row0 col1\" >927</td>\n",
              "                        <td id=\"T_f1eeaffa_fc3f_11eb_a5b7_0242ac1c0002row0_col2\" class=\"data row0 col2\" >2877</td>\n",
              "                        <td id=\"T_f1eeaffa_fc3f_11eb_a5b7_0242ac1c0002row0_col3\" class=\"data row0 col3\" >32.22%</td>\n",
              "                        <td id=\"T_f1eeaffa_fc3f_11eb_a5b7_0242ac1c0002row0_col4\" class=\"data row0 col4\" >32.22%</td>\n",
              "            </tr>\n",
              "            <tr>\n",
              "                        <th id=\"T_f1eeaffa_fc3f_11eb_a5b7_0242ac1c0002level0_row1\" class=\"row_heading level0 row1\" >2</th>\n",
              "                        <td id=\"T_f1eeaffa_fc3f_11eb_a5b7_0242ac1c0002row1_col0\" class=\"data row1 col0\" >product_page</td>\n",
              "                        <td id=\"T_f1eeaffa_fc3f_11eb_a5b7_0242ac1c0002row1_col1\" class=\"data row1 col1\" >523</td>\n",
              "                        <td id=\"T_f1eeaffa_fc3f_11eb_a5b7_0242ac1c0002row1_col2\" class=\"data row1 col2\" >927</td>\n",
              "                        <td id=\"T_f1eeaffa_fc3f_11eb_a5b7_0242ac1c0002row1_col3\" class=\"data row1 col3\" >56.42%</td>\n",
              "                        <td id=\"T_f1eeaffa_fc3f_11eb_a5b7_0242ac1c0002row1_col4\" class=\"data row1 col4\" >18.18%</td>\n",
              "            </tr>\n",
              "            <tr>\n",
              "                        <th id=\"T_f1eeaffa_fc3f_11eb_a5b7_0242ac1c0002level0_row2\" class=\"row_heading level0 row2\" >1</th>\n",
              "                        <td id=\"T_f1eeaffa_fc3f_11eb_a5b7_0242ac1c0002row2_col0\" class=\"data row2 col0\" >product_cart</td>\n",
              "                        <td id=\"T_f1eeaffa_fc3f_11eb_a5b7_0242ac1c0002row2_col1\" class=\"data row2 col1\" >255</td>\n",
              "                        <td id=\"T_f1eeaffa_fc3f_11eb_a5b7_0242ac1c0002row2_col2\" class=\"data row2 col2\" >523</td>\n",
              "                        <td id=\"T_f1eeaffa_fc3f_11eb_a5b7_0242ac1c0002row2_col3\" class=\"data row2 col3\" >48.76%</td>\n",
              "                        <td id=\"T_f1eeaffa_fc3f_11eb_a5b7_0242ac1c0002row2_col4\" class=\"data row2 col4\" >8.86%</td>\n",
              "            </tr>\n",
              "            <tr>\n",
              "                        <th id=\"T_f1eeaffa_fc3f_11eb_a5b7_0242ac1c0002level0_row3\" class=\"row_heading level0 row3\" >3</th>\n",
              "                        <td id=\"T_f1eeaffa_fc3f_11eb_a5b7_0242ac1c0002row3_col0\" class=\"data row3 col0\" >purchase</td>\n",
              "                        <td id=\"T_f1eeaffa_fc3f_11eb_a5b7_0242ac1c0002row3_col1\" class=\"data row3 col1\" >256</td>\n",
              "                        <td id=\"T_f1eeaffa_fc3f_11eb_a5b7_0242ac1c0002row3_col2\" class=\"data row3 col2\" >255</td>\n",
              "                        <td id=\"T_f1eeaffa_fc3f_11eb_a5b7_0242ac1c0002row3_col3\" class=\"data row3 col3\" >100.39%</td>\n",
              "                        <td id=\"T_f1eeaffa_fc3f_11eb_a5b7_0242ac1c0002row3_col4\" class=\"data row3 col4\" >8.90%</td>\n",
              "            </tr>\n",
              "    </tbody></table>"
            ],
            "text/plain": [
              "<pandas.io.formats.style.Styler at 0x7fbb1efc1110>"
            ]
          },
          "metadata": {
            "tags": []
          },
          "execution_count": 43
        }
      ]
    },
    {
      "cell_type": "markdown",
      "metadata": {
        "id": "7Gk8_Xg2covr"
      },
      "source": [
        "По ТЗ ожидаемый эффект: за 14 дней с момента регистрации в системе пользователи покажут улучшение каждой метрики не менее, чем на 10%:\n",
        "* конверсии в просмотр карточек товаров — событие product_page\n",
        "* просмотры корзины — product_cart\n",
        "* покупки — purchase.\n",
        "\n",
        "К сожалению, данные не показывают такой динамики на экспериментальной группе."
      ]
    },
    {
      "cell_type": "markdown",
      "metadata": {
        "id": "hi9e5jPNd-Db"
      },
      "source": [
        "## Проверка гипотезы об отсутствии различий в конверсии между экспериментальной и контрольной группой <a id=\"hypothesis\"></a>"
      ]
    },
    {
      "cell_type": "markdown",
      "metadata": {
        "id": "r6sXJ01-eF_t"
      },
      "source": [
        "Проверим, есть ли статистические различия в конверсии между двумя группами теста.\n",
        "\n",
        "Нулевая гипотеза - статистически значимых различий между группами нет.\n",
        "\n",
        "H1 - различия статистически значимы."
      ]
    },
    {
      "cell_type": "markdown",
      "metadata": {
        "id": "1kGKYWxYnLyC"
      },
      "source": [
        "Для проверки гипотезы используем z-test."
      ]
    },
    {
      "cell_type": "code",
      "metadata": {
        "id": "t60taefDf5wM"
      },
      "source": [
        "#Пишем функцию проверки статзначимости по z-тесту\n",
        "def z_test(n1, x1, n2, x2):\n",
        "  #Конверсии по группам:\n",
        "  p1 = x1 / n1\n",
        "  p2 = x2 / n2\n",
        "  #Общая конверсия\n",
        "  p = (x1 + x2) / (n1 + n2)\n",
        "  #Разница между конверсиями\n",
        "  difference = p1 - p2\n",
        "  #Расчет z-значения (статистики разницы между конверсиями)\n",
        "  z_value = difference / (p * (1 - p) * (1/n1 + 1/n2))**0.5\n",
        "  #Статистика распределена нормально, используем при расчете p_value (среднее 0, ст.отклонение 1)\n",
        "  distr = st.norm(0, 1)\n",
        "  #Задаем функцию нормального распределения для расчета критерия \n",
        "  p_value = (1 - distr.cdf(abs(z_value))) * 2\n",
        "  return p_value"
      ],
      "execution_count": 44,
      "outputs": []
    },
    {
      "cell_type": "code",
      "metadata": {
        "id": "FyYh9nCPomLw"
      },
      "source": [
        "#Объединяем данные конверсии по двум группам в одну таблицу\n",
        "AB = conv_func(a_data).merge(conv_func(b_data), on = 'event_name')\n",
        "#Для удобства переименуем столбцы\n",
        "AB.columns = ['event_name', 'A', 'prev_step_A', 'conv_A', 'conv_initial_A', 'B', 'prev_step_B', 'conv_B', 'conv_initial_B']"
      ],
      "execution_count": 45,
      "outputs": []
    },
    {
      "cell_type": "code",
      "metadata": {
        "colab": {
          "base_uri": "https://localhost:8080/"
        },
        "id": "9A9wE3nLz5fG",
        "outputId": "e71fe349-66cd-4422-9e83-b7d70ad61e15"
      },
      "source": [
        "AB.iloc[0,5]"
      ],
      "execution_count": 46,
      "outputs": [
        {
          "output_type": "execute_result",
          "data": {
            "text/plain": [
              "927"
            ]
          },
          "metadata": {
            "tags": []
          },
          "execution_count": 46
        }
      ]
    },
    {
      "cell_type": "code",
      "metadata": {
        "colab": {
          "base_uri": "https://localhost:8080/",
          "height": 173
        },
        "id": "PQrmOZm0Be3B",
        "outputId": "11c979ab-c8ee-4ecb-a276-4bad429a5e93"
      },
      "source": [
        "#Добавляем столбец с уровнем значимости\n",
        "AB['alpha'] = 0.05\n",
        "#В этом столбце считаем относительную конверсию \n",
        "AB['p_value_relative'] = AB.apply(lambda x: z_test(x['prev_step_A'], x['A'], x['prev_step_B'], x['B']), axis = 1)  \n",
        "#В этом столбце считаем абсолютную конверсию \n",
        "AB['p_value_initial'] = AB.apply(lambda x: z_test(AB.iloc[0,2], x['A'], AB.iloc[0,6], x['B']), axis = 1)\n",
        "  \n",
        "AB.style.format({'p_value_relative':'{:.5f}', 'p_value_initial':'{:.5f}'})\n",
        "AB"
      ],
      "execution_count": 47,
      "outputs": [
        {
          "output_type": "execute_result",
          "data": {
            "text/html": [
              "<div>\n",
              "<style scoped>\n",
              "    .dataframe tbody tr th:only-of-type {\n",
              "        vertical-align: middle;\n",
              "    }\n",
              "\n",
              "    .dataframe tbody tr th {\n",
              "        vertical-align: top;\n",
              "    }\n",
              "\n",
              "    .dataframe thead th {\n",
              "        text-align: right;\n",
              "    }\n",
              "</style>\n",
              "<table border=\"1\" class=\"dataframe\">\n",
              "  <thead>\n",
              "    <tr style=\"text-align: right;\">\n",
              "      <th></th>\n",
              "      <th>event_name</th>\n",
              "      <th>A</th>\n",
              "      <th>prev_step_A</th>\n",
              "      <th>conv_A</th>\n",
              "      <th>conv_initial_A</th>\n",
              "      <th>B</th>\n",
              "      <th>prev_step_B</th>\n",
              "      <th>conv_B</th>\n",
              "      <th>conv_initial_B</th>\n",
              "      <th>alpha</th>\n",
              "      <th>p_value_relative</th>\n",
              "      <th>p_value_initial</th>\n",
              "    </tr>\n",
              "  </thead>\n",
              "  <tbody>\n",
              "    <tr>\n",
              "      <th>0</th>\n",
              "      <td>login</td>\n",
              "      <td>2747</td>\n",
              "      <td>3824</td>\n",
              "      <td>0.718358</td>\n",
              "      <td>0.718358</td>\n",
              "      <td>927</td>\n",
              "      <td>2877</td>\n",
              "      <td>0.322211</td>\n",
              "      <td>0.322211</td>\n",
              "      <td>0.05</td>\n",
              "      <td>0.000000</td>\n",
              "      <td>0.0</td>\n",
              "    </tr>\n",
              "    <tr>\n",
              "      <th>1</th>\n",
              "      <td>product_page</td>\n",
              "      <td>1780</td>\n",
              "      <td>2747</td>\n",
              "      <td>0.647980</td>\n",
              "      <td>0.465481</td>\n",
              "      <td>523</td>\n",
              "      <td>927</td>\n",
              "      <td>0.564186</td>\n",
              "      <td>0.181787</td>\n",
              "      <td>0.05</td>\n",
              "      <td>0.000005</td>\n",
              "      <td>0.0</td>\n",
              "    </tr>\n",
              "    <tr>\n",
              "      <th>2</th>\n",
              "      <td>product_cart</td>\n",
              "      <td>824</td>\n",
              "      <td>1780</td>\n",
              "      <td>0.462921</td>\n",
              "      <td>0.215481</td>\n",
              "      <td>255</td>\n",
              "      <td>523</td>\n",
              "      <td>0.487572</td>\n",
              "      <td>0.088634</td>\n",
              "      <td>0.05</td>\n",
              "      <td>0.320620</td>\n",
              "      <td>0.0</td>\n",
              "    </tr>\n",
              "    <tr>\n",
              "      <th>3</th>\n",
              "      <td>purchase</td>\n",
              "      <td>872</td>\n",
              "      <td>824</td>\n",
              "      <td>1.058252</td>\n",
              "      <td>0.228033</td>\n",
              "      <td>256</td>\n",
              "      <td>255</td>\n",
              "      <td>1.003922</td>\n",
              "      <td>0.088982</td>\n",
              "      <td>0.05</td>\n",
              "      <td>0.000502</td>\n",
              "      <td>0.0</td>\n",
              "    </tr>\n",
              "  </tbody>\n",
              "</table>\n",
              "</div>"
            ],
            "text/plain": [
              "     event_name     A  prev_step_A  ...  alpha  p_value_relative  p_value_initial\n",
              "0         login  2747         3824  ...   0.05          0.000000              0.0\n",
              "1  product_page  1780         2747  ...   0.05          0.000005              0.0\n",
              "2  product_cart   824         1780  ...   0.05          0.320620              0.0\n",
              "3      purchase   872          824  ...   0.05          0.000502              0.0\n",
              "\n",
              "[4 rows x 12 columns]"
            ]
          },
          "metadata": {
            "tags": []
          },
          "execution_count": 47
        }
      ]
    },
    {
      "cell_type": "markdown",
      "metadata": {
        "id": "u8eHKhGCXi5S"
      },
      "source": [
        "Единственный этап, где нельзя отвергнуть гипотезу об отсутствии различий между группами - конверсия перехода в корзину относительно предыдущего этапа. Но у нас слишком разные по количеству группы, чтобы принимать относительную конверсию за основной показатель. В данном случае следует ориентироваться на различия в абсолютной конверсии. \n",
        "\n",
        "Z-test показал, что на всех этапах различия между абсолютными конверсиями статистически значимы (p_value_initial < alpha). Таким образом, **отвергаем гипотезу о том, что статистически значимых различий в группах А и В нет**, и принимаем альтернативную."
      ]
    },
    {
      "cell_type": "markdown",
      "metadata": {
        "id": "8y2IEijrZu7I"
      },
      "source": [
        "## Выводы <a id=\"conclusions\"></a>"
      ]
    },
    {
      "cell_type": "markdown",
      "metadata": {
        "id": "gJe1G1Kza3SW"
      },
      "source": [
        "Мы проанализировали качество и результаты проведенного А/В-теста.\n",
        "При анализе качества проведения теста выявлены особенности, которые могли повлиять на результаты:\n",
        "* На период проведения теста приходятся новогодние акции, и 1220 пользователей совершали действия в системе в это время;\n",
        "* 1602 пользователя участвуют одновременно в двух тестах;\n",
        "* Контрольная и экспериментальная группы разбиты неравномерно, разница между их размерами - 33%;\n",
        "* Тест был остановлен досрочно: 30.12.2020 вместо 4.01.2021.\n",
        "\n",
        "\n",
        "Результаты теста:\n",
        "* При анализе последовательности событий выявилось, что 48 пользователей из контрольной группы и 1 из экспериментальной совершили заказ, минуя корзину (заказ в один клик со страницы продукта?). Верную последовательность устанавливали вручную;\n",
        "* Треть пользователей контрольной группы и две трети из экспериментальной не совершали никаких действий после регистрации на сервисе. Из-за этого **абсолютные показатели экспериментальной группы хуже, чем аналогичные у контрольной**. Это подтверждено статистическим тестом;\n",
        "* Средний чек у контрольной группы выше, чем у экспериментальной, в 3 раза;\n",
        "* Абсолютная конверсия в заказы в контрольной группе составила 23% против 9% в экспериментальной.\n",
        "\n",
        "Тест показал, что **внедрение улучшенной рекомендательной системы не привело к росту конверсии ни на одном из отмеченных в ТЗ этапов**. Целевые показатели (прирост 10% в конверсии просмотра карточек товаров, корзины и совершения покупки за 14 дней с момента регистрации пользователя в системе) не достигнуты.\n",
        "\n",
        "Самый **главный вопрос**, требующий дополнительного анализа - **почему большая часть пользователей экспериментального теста не стала пользоваться сервисом после регистрации**.\n",
        "\n",
        "Кроме указанных проблем, возможно, слишком жёстко задан временной период для сравнения показателей."
      ]
    }
  ]
}