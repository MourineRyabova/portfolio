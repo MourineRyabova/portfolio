{
 "cells": [
  {
   "cell_type": "markdown",
   "metadata": {},
   "source": [
    "<div style=\"border:solid purple 2px; padding: 20px\">\n",
    "    \n",
    "Марина привет! 👋 Меня зовут Рустам и мы уже знакомы, я проверял твою первую работу) Коротко обозначу вступление, я оставил комментарии, разных цветов, обрати в первую очередь на красные (если они будут 😊). Свои изменения прошу как-то выделять и также прошу не перемещать и не удалять мои комментарии\n",
    "    \n",
    "Мне понравился твой проект, как и прошлый)))) После того, как ты все доработаешь, я смогу его принять!) В конце есть чек-лист😉\n",
    "\n",
    "</div>"
   ]
  },
  {
   "cell_type": "markdown",
   "metadata": {
    "id": "14uR6sCvYeMZ"
   },
   "source": [
    "# **Определение перспективного тарифа для телеком-компании** "
   ]
  },
  {
   "cell_type": "markdown",
   "metadata": {
    "id": "LEBg-ED-Yw58"
   },
   "source": [
    "# Оглавление\n",
    "1. [Цель проекта](#purpose)\n",
    "2. [Исходные данные](#data)\n",
    "3. [Предобработка данных](#preprocessing)\n",
    "    * [Объединение таблиц users и tariffs](#merging)\n",
    "    * [Округление длительности звонков и интернет-трафика по условиям тарифа, группировка данных по месяцам](#round)\n",
    "    * [Сведение всех данных в единый датасет](#merging_2)\n",
    "    * [Удаление пустых значений и изменение типа данных столбцов](#dropna)\n",
    "4. [Подготовка расчётных данных](#counting)\n",
    "    * [Расчёт ежемесячной выручки по пользователям](#month_revenue)\n",
    "    * [Промежуточные выводы](#concl)\n",
    "5. [Анализ данных](#analysis)\n",
    "    * [Доли тарифов в выборке](#pie)\n",
    "    * [Динамика соотношения тарифов по месяцам](#part_month)\n",
    "    * [Анализ характеристик распределения данных](#describe)\n",
    "    * [Гистограммы распределений](#hist)\n",
    "6. [Проверка гипотез (анализ выручки)](#revenue)\n",
    "    * [Анализ характеристик распределения выручки](#revenue_describe)\n",
    "    * [Проверка гипотезы о равенстве выручки по тарифам](#hyp1)\n",
    "    * [Проверка гипотезы равенства выручки в Москве и регионах](#hyp2)\n",
    "7. [Выводы](#end)"
   ]
  },
  {
   "cell_type": "markdown",
   "metadata": {
    "id": "hPARkq0eY_0T"
   },
   "source": [
    "# 1. Цель проекта <a id=\"purpose\"></a>\n",
    "\n",
    "\n"
   ]
  },
  {
   "cell_type": "markdown",
   "metadata": {
    "id": "0r9MA4akdrQd"
   },
   "source": [
    "По относительно небольшой выборке пользоваталей сотовой сети нужно определить более финансово интересный для компании тариф."
   ]
  },
  {
   "cell_type": "markdown",
   "metadata": {},
   "source": [
    "<div class=\"alert alert-success\">\n",
    "<h2> Комментарий ревьюера <a class=\"tocSkip\"> </h2>\n",
    "\n",
    "Отличное начало, все есть, чтобы погрузиться в задачу"
   ]
  },
  {
   "cell_type": "markdown",
   "metadata": {
    "id": "79C0GK-7bhsP"
   },
   "source": [
    "# 2. Исходные данные <a id=\"data\"></a>"
   ]
  },
  {
   "cell_type": "markdown",
   "metadata": {
    "id": "5MFm9qgFbrPC"
   },
   "source": [
    "Имеем массив данных с информацией о 500 пользователей телеком-компании и о том, какие тарифы сотовой связи они используют. В наличии несколько файлов:"
   ]
  },
  {
   "cell_type": "code",
   "execution_count": 1,
   "metadata": {
    "id": "4hUx0t4wYXts"
   },
   "outputs": [],
   "source": [
    "from scipy import stats as st\n",
    "import numpy as np\n",
    "import pandas as pd\n",
    "from glob import glob\n",
    "import matplotlib.pyplot as plt\n",
    "import seaborn as sns\n",
    "import warnings\n",
    "warnings.filterwarnings('ignore')\n",
    "from pylab import rcParams\n",
    "rcParams['figure.figsize'] = 16, 5\n",
    "from scipy.stats import levene\n",
    "from scipy.stats import bartlett"
   ]
  },
  {
   "cell_type": "code",
   "execution_count": 2,
   "metadata": {
    "colab": {
     "base_uri": "https://localhost:8080/",
     "height": 1000
    },
    "id": "gru0mBBNA5uO",
    "outputId": "30d00e00-132a-4515-8ef7-c19e3150be98"
   },
   "outputs": [
    {
     "name": "stdout",
     "output_type": "stream",
     "text": [
      "<class 'pandas.core.frame.DataFrame'>\n",
      "RangeIndex: 2 entries, 0 to 1\n",
      "Data columns (total 8 columns):\n",
      "messages_included        2 non-null int64\n",
      "mb_per_month_included    2 non-null int64\n",
      "minutes_included         2 non-null int64\n",
      "rub_monthly_fee          2 non-null int64\n",
      "rub_per_gb               2 non-null int64\n",
      "rub_per_message          2 non-null int64\n",
      "rub_per_minute           2 non-null int64\n",
      "tariff_name              2 non-null object\n",
      "dtypes: int64(7), object(1)\n",
      "memory usage: 256.0+ bytes\n"
     ]
    },
    {
     "data": {
      "text/plain": [
       "None"
      ]
     },
     "metadata": {},
     "output_type": "display_data"
    },
    {
     "data": {
      "text/html": [
       "<div>\n",
       "<style scoped>\n",
       "    .dataframe tbody tr th:only-of-type {\n",
       "        vertical-align: middle;\n",
       "    }\n",
       "\n",
       "    .dataframe tbody tr th {\n",
       "        vertical-align: top;\n",
       "    }\n",
       "\n",
       "    .dataframe thead th {\n",
       "        text-align: right;\n",
       "    }\n",
       "</style>\n",
       "<table border=\"1\" class=\"dataframe\">\n",
       "  <thead>\n",
       "    <tr style=\"text-align: right;\">\n",
       "      <th></th>\n",
       "      <th>messages_included</th>\n",
       "      <th>mb_per_month_included</th>\n",
       "      <th>minutes_included</th>\n",
       "      <th>rub_monthly_fee</th>\n",
       "      <th>rub_per_gb</th>\n",
       "      <th>rub_per_message</th>\n",
       "      <th>rub_per_minute</th>\n",
       "      <th>tariff_name</th>\n",
       "    </tr>\n",
       "  </thead>\n",
       "  <tbody>\n",
       "    <tr>\n",
       "      <td>0</td>\n",
       "      <td>50</td>\n",
       "      <td>15360</td>\n",
       "      <td>500</td>\n",
       "      <td>550</td>\n",
       "      <td>200</td>\n",
       "      <td>3</td>\n",
       "      <td>3</td>\n",
       "      <td>smart</td>\n",
       "    </tr>\n",
       "    <tr>\n",
       "      <td>1</td>\n",
       "      <td>1000</td>\n",
       "      <td>30720</td>\n",
       "      <td>3000</td>\n",
       "      <td>1950</td>\n",
       "      <td>150</td>\n",
       "      <td>1</td>\n",
       "      <td>1</td>\n",
       "      <td>ultra</td>\n",
       "    </tr>\n",
       "  </tbody>\n",
       "</table>\n",
       "</div>"
      ],
      "text/plain": [
       "   messages_included  mb_per_month_included  minutes_included  \\\n",
       "0                 50                  15360               500   \n",
       "1               1000                  30720              3000   \n",
       "\n",
       "   rub_monthly_fee  rub_per_gb  rub_per_message  rub_per_minute tariff_name  \n",
       "0              550         200                3               3       smart  \n",
       "1             1950         150                1               1       ultra  "
      ]
     },
     "metadata": {},
     "output_type": "display_data"
    },
    {
     "name": "stdout",
     "output_type": "stream",
     "text": [
      "<class 'pandas.core.frame.DataFrame'>\n",
      "RangeIndex: 500 entries, 0 to 499\n",
      "Data columns (total 8 columns):\n",
      "user_id       500 non-null int64\n",
      "age           500 non-null int64\n",
      "churn_date    38 non-null object\n",
      "city          500 non-null object\n",
      "first_name    500 non-null object\n",
      "last_name     500 non-null object\n",
      "reg_date      500 non-null object\n",
      "tariff        500 non-null object\n",
      "dtypes: int64(2), object(6)\n",
      "memory usage: 31.4+ KB\n"
     ]
    },
    {
     "data": {
      "text/plain": [
       "None"
      ]
     },
     "metadata": {},
     "output_type": "display_data"
    },
    {
     "data": {
      "text/html": [
       "<div>\n",
       "<style scoped>\n",
       "    .dataframe tbody tr th:only-of-type {\n",
       "        vertical-align: middle;\n",
       "    }\n",
       "\n",
       "    .dataframe tbody tr th {\n",
       "        vertical-align: top;\n",
       "    }\n",
       "\n",
       "    .dataframe thead th {\n",
       "        text-align: right;\n",
       "    }\n",
       "</style>\n",
       "<table border=\"1\" class=\"dataframe\">\n",
       "  <thead>\n",
       "    <tr style=\"text-align: right;\">\n",
       "      <th></th>\n",
       "      <th>user_id</th>\n",
       "      <th>age</th>\n",
       "      <th>churn_date</th>\n",
       "      <th>city</th>\n",
       "      <th>first_name</th>\n",
       "      <th>last_name</th>\n",
       "      <th>reg_date</th>\n",
       "      <th>tariff</th>\n",
       "    </tr>\n",
       "  </thead>\n",
       "  <tbody>\n",
       "    <tr>\n",
       "      <td>0</td>\n",
       "      <td>1000</td>\n",
       "      <td>52</td>\n",
       "      <td>NaN</td>\n",
       "      <td>Краснодар</td>\n",
       "      <td>Рафаил</td>\n",
       "      <td>Верещагин</td>\n",
       "      <td>2018-05-25</td>\n",
       "      <td>ultra</td>\n",
       "    </tr>\n",
       "    <tr>\n",
       "      <td>1</td>\n",
       "      <td>1001</td>\n",
       "      <td>41</td>\n",
       "      <td>NaN</td>\n",
       "      <td>Москва</td>\n",
       "      <td>Иван</td>\n",
       "      <td>Ежов</td>\n",
       "      <td>2018-11-01</td>\n",
       "      <td>smart</td>\n",
       "    </tr>\n",
       "    <tr>\n",
       "      <td>2</td>\n",
       "      <td>1002</td>\n",
       "      <td>59</td>\n",
       "      <td>NaN</td>\n",
       "      <td>Стерлитамак</td>\n",
       "      <td>Евгений</td>\n",
       "      <td>Абрамович</td>\n",
       "      <td>2018-06-17</td>\n",
       "      <td>smart</td>\n",
       "    </tr>\n",
       "    <tr>\n",
       "      <td>3</td>\n",
       "      <td>1003</td>\n",
       "      <td>23</td>\n",
       "      <td>NaN</td>\n",
       "      <td>Москва</td>\n",
       "      <td>Белла</td>\n",
       "      <td>Белякова</td>\n",
       "      <td>2018-08-17</td>\n",
       "      <td>ultra</td>\n",
       "    </tr>\n",
       "    <tr>\n",
       "      <td>4</td>\n",
       "      <td>1004</td>\n",
       "      <td>68</td>\n",
       "      <td>NaN</td>\n",
       "      <td>Новокузнецк</td>\n",
       "      <td>Татьяна</td>\n",
       "      <td>Авдеенко</td>\n",
       "      <td>2018-05-14</td>\n",
       "      <td>ultra</td>\n",
       "    </tr>\n",
       "  </tbody>\n",
       "</table>\n",
       "</div>"
      ],
      "text/plain": [
       "   user_id  age churn_date         city first_name  last_name    reg_date  \\\n",
       "0     1000   52        NaN    Краснодар     Рафаил  Верещагин  2018-05-25   \n",
       "1     1001   41        NaN       Москва       Иван       Ежов  2018-11-01   \n",
       "2     1002   59        NaN  Стерлитамак    Евгений  Абрамович  2018-06-17   \n",
       "3     1003   23        NaN       Москва      Белла   Белякова  2018-08-17   \n",
       "4     1004   68        NaN  Новокузнецк    Татьяна   Авдеенко  2018-05-14   \n",
       "\n",
       "  tariff  \n",
       "0  ultra  \n",
       "1  smart  \n",
       "2  smart  \n",
       "3  ultra  \n",
       "4  ultra  "
      ]
     },
     "metadata": {},
     "output_type": "display_data"
    },
    {
     "name": "stdout",
     "output_type": "stream",
     "text": [
      "<class 'pandas.core.frame.DataFrame'>\n",
      "RangeIndex: 202607 entries, 0 to 202606\n",
      "Data columns (total 4 columns):\n",
      "id           202607 non-null object\n",
      "call_date    202607 non-null object\n",
      "duration     202607 non-null float64\n",
      "user_id      202607 non-null int64\n",
      "dtypes: float64(1), int64(1), object(2)\n",
      "memory usage: 6.2+ MB\n"
     ]
    },
    {
     "data": {
      "text/plain": [
       "None"
      ]
     },
     "metadata": {},
     "output_type": "display_data"
    },
    {
     "data": {
      "text/html": [
       "<div>\n",
       "<style scoped>\n",
       "    .dataframe tbody tr th:only-of-type {\n",
       "        vertical-align: middle;\n",
       "    }\n",
       "\n",
       "    .dataframe tbody tr th {\n",
       "        vertical-align: top;\n",
       "    }\n",
       "\n",
       "    .dataframe thead th {\n",
       "        text-align: right;\n",
       "    }\n",
       "</style>\n",
       "<table border=\"1\" class=\"dataframe\">\n",
       "  <thead>\n",
       "    <tr style=\"text-align: right;\">\n",
       "      <th></th>\n",
       "      <th>id</th>\n",
       "      <th>call_date</th>\n",
       "      <th>duration</th>\n",
       "      <th>user_id</th>\n",
       "    </tr>\n",
       "  </thead>\n",
       "  <tbody>\n",
       "    <tr>\n",
       "      <td>0</td>\n",
       "      <td>1000_0</td>\n",
       "      <td>2018-07-25</td>\n",
       "      <td>0.00</td>\n",
       "      <td>1000</td>\n",
       "    </tr>\n",
       "    <tr>\n",
       "      <td>1</td>\n",
       "      <td>1000_1</td>\n",
       "      <td>2018-08-17</td>\n",
       "      <td>0.00</td>\n",
       "      <td>1000</td>\n",
       "    </tr>\n",
       "    <tr>\n",
       "      <td>2</td>\n",
       "      <td>1000_2</td>\n",
       "      <td>2018-06-11</td>\n",
       "      <td>2.85</td>\n",
       "      <td>1000</td>\n",
       "    </tr>\n",
       "    <tr>\n",
       "      <td>3</td>\n",
       "      <td>1000_3</td>\n",
       "      <td>2018-09-21</td>\n",
       "      <td>13.80</td>\n",
       "      <td>1000</td>\n",
       "    </tr>\n",
       "    <tr>\n",
       "      <td>4</td>\n",
       "      <td>1000_4</td>\n",
       "      <td>2018-12-15</td>\n",
       "      <td>5.18</td>\n",
       "      <td>1000</td>\n",
       "    </tr>\n",
       "  </tbody>\n",
       "</table>\n",
       "</div>"
      ],
      "text/plain": [
       "       id   call_date  duration  user_id\n",
       "0  1000_0  2018-07-25      0.00     1000\n",
       "1  1000_1  2018-08-17      0.00     1000\n",
       "2  1000_2  2018-06-11      2.85     1000\n",
       "3  1000_3  2018-09-21     13.80     1000\n",
       "4  1000_4  2018-12-15      5.18     1000"
      ]
     },
     "metadata": {},
     "output_type": "display_data"
    },
    {
     "name": "stdout",
     "output_type": "stream",
     "text": [
      "<class 'pandas.core.frame.DataFrame'>\n",
      "RangeIndex: 149396 entries, 0 to 149395\n",
      "Data columns (total 5 columns):\n",
      "Unnamed: 0      149396 non-null int64\n",
      "id              149396 non-null object\n",
      "mb_used         149396 non-null float64\n",
      "session_date    149396 non-null object\n",
      "user_id         149396 non-null int64\n",
      "dtypes: float64(1), int64(2), object(2)\n",
      "memory usage: 5.7+ MB\n"
     ]
    },
    {
     "data": {
      "text/plain": [
       "None"
      ]
     },
     "metadata": {},
     "output_type": "display_data"
    },
    {
     "data": {
      "text/html": [
       "<div>\n",
       "<style scoped>\n",
       "    .dataframe tbody tr th:only-of-type {\n",
       "        vertical-align: middle;\n",
       "    }\n",
       "\n",
       "    .dataframe tbody tr th {\n",
       "        vertical-align: top;\n",
       "    }\n",
       "\n",
       "    .dataframe thead th {\n",
       "        text-align: right;\n",
       "    }\n",
       "</style>\n",
       "<table border=\"1\" class=\"dataframe\">\n",
       "  <thead>\n",
       "    <tr style=\"text-align: right;\">\n",
       "      <th></th>\n",
       "      <th>Unnamed: 0</th>\n",
       "      <th>id</th>\n",
       "      <th>mb_used</th>\n",
       "      <th>session_date</th>\n",
       "      <th>user_id</th>\n",
       "    </tr>\n",
       "  </thead>\n",
       "  <tbody>\n",
       "    <tr>\n",
       "      <td>0</td>\n",
       "      <td>0</td>\n",
       "      <td>1000_0</td>\n",
       "      <td>112.95</td>\n",
       "      <td>2018-11-25</td>\n",
       "      <td>1000</td>\n",
       "    </tr>\n",
       "    <tr>\n",
       "      <td>1</td>\n",
       "      <td>1</td>\n",
       "      <td>1000_1</td>\n",
       "      <td>1052.81</td>\n",
       "      <td>2018-09-07</td>\n",
       "      <td>1000</td>\n",
       "    </tr>\n",
       "    <tr>\n",
       "      <td>2</td>\n",
       "      <td>2</td>\n",
       "      <td>1000_2</td>\n",
       "      <td>1197.26</td>\n",
       "      <td>2018-06-25</td>\n",
       "      <td>1000</td>\n",
       "    </tr>\n",
       "    <tr>\n",
       "      <td>3</td>\n",
       "      <td>3</td>\n",
       "      <td>1000_3</td>\n",
       "      <td>550.27</td>\n",
       "      <td>2018-08-22</td>\n",
       "      <td>1000</td>\n",
       "    </tr>\n",
       "    <tr>\n",
       "      <td>4</td>\n",
       "      <td>4</td>\n",
       "      <td>1000_4</td>\n",
       "      <td>302.56</td>\n",
       "      <td>2018-09-24</td>\n",
       "      <td>1000</td>\n",
       "    </tr>\n",
       "  </tbody>\n",
       "</table>\n",
       "</div>"
      ],
      "text/plain": [
       "   Unnamed: 0      id  mb_used session_date  user_id\n",
       "0           0  1000_0   112.95   2018-11-25     1000\n",
       "1           1  1000_1  1052.81   2018-09-07     1000\n",
       "2           2  1000_2  1197.26   2018-06-25     1000\n",
       "3           3  1000_3   550.27   2018-08-22     1000\n",
       "4           4  1000_4   302.56   2018-09-24     1000"
      ]
     },
     "metadata": {},
     "output_type": "display_data"
    },
    {
     "name": "stdout",
     "output_type": "stream",
     "text": [
      "<class 'pandas.core.frame.DataFrame'>\n",
      "RangeIndex: 123036 entries, 0 to 123035\n",
      "Data columns (total 3 columns):\n",
      "id              123036 non-null object\n",
      "message_date    123036 non-null object\n",
      "user_id         123036 non-null int64\n",
      "dtypes: int64(1), object(2)\n",
      "memory usage: 2.8+ MB\n"
     ]
    },
    {
     "data": {
      "text/plain": [
       "None"
      ]
     },
     "metadata": {},
     "output_type": "display_data"
    },
    {
     "data": {
      "text/html": [
       "<div>\n",
       "<style scoped>\n",
       "    .dataframe tbody tr th:only-of-type {\n",
       "        vertical-align: middle;\n",
       "    }\n",
       "\n",
       "    .dataframe tbody tr th {\n",
       "        vertical-align: top;\n",
       "    }\n",
       "\n",
       "    .dataframe thead th {\n",
       "        text-align: right;\n",
       "    }\n",
       "</style>\n",
       "<table border=\"1\" class=\"dataframe\">\n",
       "  <thead>\n",
       "    <tr style=\"text-align: right;\">\n",
       "      <th></th>\n",
       "      <th>id</th>\n",
       "      <th>message_date</th>\n",
       "      <th>user_id</th>\n",
       "    </tr>\n",
       "  </thead>\n",
       "  <tbody>\n",
       "    <tr>\n",
       "      <td>0</td>\n",
       "      <td>1000_0</td>\n",
       "      <td>2018-06-27</td>\n",
       "      <td>1000</td>\n",
       "    </tr>\n",
       "    <tr>\n",
       "      <td>1</td>\n",
       "      <td>1000_1</td>\n",
       "      <td>2018-10-08</td>\n",
       "      <td>1000</td>\n",
       "    </tr>\n",
       "    <tr>\n",
       "      <td>2</td>\n",
       "      <td>1000_2</td>\n",
       "      <td>2018-08-04</td>\n",
       "      <td>1000</td>\n",
       "    </tr>\n",
       "    <tr>\n",
       "      <td>3</td>\n",
       "      <td>1000_3</td>\n",
       "      <td>2018-06-16</td>\n",
       "      <td>1000</td>\n",
       "    </tr>\n",
       "    <tr>\n",
       "      <td>4</td>\n",
       "      <td>1000_4</td>\n",
       "      <td>2018-12-05</td>\n",
       "      <td>1000</td>\n",
       "    </tr>\n",
       "  </tbody>\n",
       "</table>\n",
       "</div>"
      ],
      "text/plain": [
       "       id message_date  user_id\n",
       "0  1000_0   2018-06-27     1000\n",
       "1  1000_1   2018-10-08     1000\n",
       "2  1000_2   2018-08-04     1000\n",
       "3  1000_3   2018-06-16     1000\n",
       "4  1000_4   2018-12-05     1000"
      ]
     },
     "metadata": {},
     "output_type": "display_data"
    }
   ],
   "source": [
    "#Просмотрим информацию о каждом файле:\n",
    "tariffs = pd.read_csv('/datasets/tariffs.csv')\n",
    "users = pd.read_csv('/datasets/users.csv')\n",
    "calls = pd.read_csv('/datasets/calls.csv')\n",
    "internet = pd.read_csv('/datasets/internet.csv')\n",
    "messages = pd.read_csv('/datasets/messages.csv')\n",
    "tables = (tariffs, users, calls, internet, messages)\n",
    "for table in tables:\n",
    "    display(table.info())\n",
    "    display(table.head())"
   ]
  },
  {
   "cell_type": "markdown",
   "metadata": {},
   "source": [
    "<div class=\"alert alert-success\">\n",
    "<h2> Комментарий ревьюера <a class=\"tocSkip\"> </h2>\n",
    "\n",
    "Применять циклы для повторяющихся действий - очень правльное решение"
   ]
  },
  {
   "cell_type": "markdown",
   "metadata": {},
   "source": [
    "<div class=\"alert alert-success\">\n",
    "Привет, Рустам! В колабе у меня было еще круче:\n",
    "    \n",
    "    for filename in glob('/content/*'):\n",
    "  if filename.endswith('csv'):\n",
    "    filename = pd.read_csv(filename, engine = 'python')\n",
    "    display(filename.info())\n",
    "    display(filename.head())\n",
    "    \n",
    "    Но здесь я не смогла так сделать - слишком много файлов лежит в папке datasets. \n",
    "    Может, внести предложение для каждого проекта свою папочку с исходниками делать?\n"
   ]
  },
  {
   "cell_type": "markdown",
   "metadata": {},
   "source": [
    "<div class=\"alert alert-success\">\n",
    "<h2> Комментарий ревьюера v2 <a class=\"tocSkip\"> </h2>\n",
    "\n",
    "Да, можно, предложу своим, думаю это было бы удобно"
   ]
  },
  {
   "cell_type": "markdown",
   "metadata": {
    "id": "gW-7OAtKnyf-"
   },
   "source": [
    "Итак, у нас есть следующие файлы: \n",
    "\n",
    "\n",
    "1.   Файл `users` со списком пользователей, где содержится их ФИО и город проживания, а также название тарифа сотовой связи, которым они пользуются.\n",
    "2.   Файл-справочник `tariffs` с описанием тарифов **smart** и **ultra**.\n",
    "3.   Файл `calls` со сведениями по количеству и продолжительности звонков.\n",
    "4.   Файл `internet` с информацией о потраченном интернет-трафике.\n",
    "5.   Файл `messages` с указанием количества отправленных пользователями sms-сообщений.\n",
    "\n"
   ]
  },
  {
   "cell_type": "markdown",
   "metadata": {
    "id": "T5SV6xaGAptn"
   },
   "source": [
    "# 3. Предобработка данных <a id=\"preprocessing\"></a>"
   ]
  },
  {
   "cell_type": "markdown",
   "metadata": {
    "id": "8C2TpLjdpXTS"
   },
   "source": [
    "Сведём файлы в единую базу для удобства проведения анализа. В первую очередь соединим данные из таблиц `users` и `tariffs`. <a id=\"merging\"></a>"
   ]
  },
  {
   "cell_type": "code",
   "execution_count": 3,
   "metadata": {
    "colab": {
     "base_uri": "https://localhost:8080/",
     "height": 130
    },
    "id": "bWKyTpAmKbW4",
    "outputId": "9877fc84-9f4b-458b-a5fd-d384fd8d7332"
   },
   "outputs": [
    {
     "data": {
      "text/html": [
       "<div>\n",
       "<style scoped>\n",
       "    .dataframe tbody tr th:only-of-type {\n",
       "        vertical-align: middle;\n",
       "    }\n",
       "\n",
       "    .dataframe tbody tr th {\n",
       "        vertical-align: top;\n",
       "    }\n",
       "\n",
       "    .dataframe thead th {\n",
       "        text-align: right;\n",
       "    }\n",
       "</style>\n",
       "<table border=\"1\" class=\"dataframe\">\n",
       "  <thead>\n",
       "    <tr style=\"text-align: right;\">\n",
       "      <th></th>\n",
       "      <th>messages_included</th>\n",
       "      <th>mb_per_month_included</th>\n",
       "      <th>minutes_included</th>\n",
       "      <th>rub_monthly_fee</th>\n",
       "      <th>rub_per_gb</th>\n",
       "      <th>rub_per_message</th>\n",
       "      <th>rub_per_minute</th>\n",
       "      <th>tariff</th>\n",
       "    </tr>\n",
       "  </thead>\n",
       "  <tbody>\n",
       "    <tr>\n",
       "      <td>0</td>\n",
       "      <td>50</td>\n",
       "      <td>15360</td>\n",
       "      <td>500</td>\n",
       "      <td>550</td>\n",
       "      <td>200</td>\n",
       "      <td>3</td>\n",
       "      <td>3</td>\n",
       "      <td>smart</td>\n",
       "    </tr>\n",
       "    <tr>\n",
       "      <td>1</td>\n",
       "      <td>1000</td>\n",
       "      <td>30720</td>\n",
       "      <td>3000</td>\n",
       "      <td>1950</td>\n",
       "      <td>150</td>\n",
       "      <td>1</td>\n",
       "      <td>1</td>\n",
       "      <td>ultra</td>\n",
       "    </tr>\n",
       "  </tbody>\n",
       "</table>\n",
       "</div>"
      ],
      "text/plain": [
       "   messages_included  mb_per_month_included  minutes_included  \\\n",
       "0                 50                  15360               500   \n",
       "1               1000                  30720              3000   \n",
       "\n",
       "   rub_monthly_fee  rub_per_gb  rub_per_message  rub_per_minute tariff  \n",
       "0              550         200                3               3  smart  \n",
       "1             1950         150                1               1  ultra  "
      ]
     },
     "execution_count": 3,
     "metadata": {},
     "output_type": "execute_result"
    }
   ],
   "source": [
    "#Корректируем названием столбца с тарифом для корректного слияния:\n",
    "tariffs.rename(columns=lambda x: x.replace('tariff_name', 'tariff'), inplace=True)\n",
    "tariffs.head()"
   ]
  },
  {
   "cell_type": "code",
   "execution_count": 4,
   "metadata": {
    "colab": {
     "base_uri": "https://localhost:8080/",
     "height": 309
    },
    "id": "ANrhnZIKNagD",
    "outputId": "ba7a5ecc-f549-4283-a7d3-5de8c46fb8d6"
   },
   "outputs": [
    {
     "data": {
      "text/html": [
       "<div>\n",
       "<style scoped>\n",
       "    .dataframe tbody tr th:only-of-type {\n",
       "        vertical-align: middle;\n",
       "    }\n",
       "\n",
       "    .dataframe tbody tr th {\n",
       "        vertical-align: top;\n",
       "    }\n",
       "\n",
       "    .dataframe thead th {\n",
       "        text-align: right;\n",
       "    }\n",
       "</style>\n",
       "<table border=\"1\" class=\"dataframe\">\n",
       "  <thead>\n",
       "    <tr style=\"text-align: right;\">\n",
       "      <th></th>\n",
       "      <th>user_id</th>\n",
       "      <th>age</th>\n",
       "      <th>churn_date</th>\n",
       "      <th>city</th>\n",
       "      <th>first_name</th>\n",
       "      <th>last_name</th>\n",
       "      <th>reg_date</th>\n",
       "      <th>tariff</th>\n",
       "      <th>messages_included</th>\n",
       "      <th>mb_per_month_included</th>\n",
       "      <th>minutes_included</th>\n",
       "      <th>rub_monthly_fee</th>\n",
       "      <th>rub_per_gb</th>\n",
       "      <th>rub_per_message</th>\n",
       "      <th>rub_per_minute</th>\n",
       "    </tr>\n",
       "  </thead>\n",
       "  <tbody>\n",
       "    <tr>\n",
       "      <td>0</td>\n",
       "      <td>1000</td>\n",
       "      <td>52</td>\n",
       "      <td>NaN</td>\n",
       "      <td>Краснодар</td>\n",
       "      <td>Рафаил</td>\n",
       "      <td>Верещагин</td>\n",
       "      <td>2018-05-25</td>\n",
       "      <td>ultra</td>\n",
       "      <td>1000</td>\n",
       "      <td>30720</td>\n",
       "      <td>3000</td>\n",
       "      <td>1950</td>\n",
       "      <td>150</td>\n",
       "      <td>1</td>\n",
       "      <td>1</td>\n",
       "    </tr>\n",
       "    <tr>\n",
       "      <td>1</td>\n",
       "      <td>1001</td>\n",
       "      <td>41</td>\n",
       "      <td>NaN</td>\n",
       "      <td>Москва</td>\n",
       "      <td>Иван</td>\n",
       "      <td>Ежов</td>\n",
       "      <td>2018-11-01</td>\n",
       "      <td>smart</td>\n",
       "      <td>50</td>\n",
       "      <td>15360</td>\n",
       "      <td>500</td>\n",
       "      <td>550</td>\n",
       "      <td>200</td>\n",
       "      <td>3</td>\n",
       "      <td>3</td>\n",
       "    </tr>\n",
       "    <tr>\n",
       "      <td>2</td>\n",
       "      <td>1002</td>\n",
       "      <td>59</td>\n",
       "      <td>NaN</td>\n",
       "      <td>Стерлитамак</td>\n",
       "      <td>Евгений</td>\n",
       "      <td>Абрамович</td>\n",
       "      <td>2018-06-17</td>\n",
       "      <td>smart</td>\n",
       "      <td>50</td>\n",
       "      <td>15360</td>\n",
       "      <td>500</td>\n",
       "      <td>550</td>\n",
       "      <td>200</td>\n",
       "      <td>3</td>\n",
       "      <td>3</td>\n",
       "    </tr>\n",
       "    <tr>\n",
       "      <td>3</td>\n",
       "      <td>1003</td>\n",
       "      <td>23</td>\n",
       "      <td>NaN</td>\n",
       "      <td>Москва</td>\n",
       "      <td>Белла</td>\n",
       "      <td>Белякова</td>\n",
       "      <td>2018-08-17</td>\n",
       "      <td>ultra</td>\n",
       "      <td>1000</td>\n",
       "      <td>30720</td>\n",
       "      <td>3000</td>\n",
       "      <td>1950</td>\n",
       "      <td>150</td>\n",
       "      <td>1</td>\n",
       "      <td>1</td>\n",
       "    </tr>\n",
       "    <tr>\n",
       "      <td>4</td>\n",
       "      <td>1004</td>\n",
       "      <td>68</td>\n",
       "      <td>NaN</td>\n",
       "      <td>Новокузнецк</td>\n",
       "      <td>Татьяна</td>\n",
       "      <td>Авдеенко</td>\n",
       "      <td>2018-05-14</td>\n",
       "      <td>ultra</td>\n",
       "      <td>1000</td>\n",
       "      <td>30720</td>\n",
       "      <td>3000</td>\n",
       "      <td>1950</td>\n",
       "      <td>150</td>\n",
       "      <td>1</td>\n",
       "      <td>1</td>\n",
       "    </tr>\n",
       "  </tbody>\n",
       "</table>\n",
       "</div>"
      ],
      "text/plain": [
       "   user_id  age churn_date         city first_name  last_name    reg_date  \\\n",
       "0     1000   52        NaN    Краснодар     Рафаил  Верещагин  2018-05-25   \n",
       "1     1001   41        NaN       Москва       Иван       Ежов  2018-11-01   \n",
       "2     1002   59        NaN  Стерлитамак    Евгений  Абрамович  2018-06-17   \n",
       "3     1003   23        NaN       Москва      Белла   Белякова  2018-08-17   \n",
       "4     1004   68        NaN  Новокузнецк    Татьяна   Авдеенко  2018-05-14   \n",
       "\n",
       "  tariff  messages_included  mb_per_month_included  minutes_included  \\\n",
       "0  ultra               1000                  30720              3000   \n",
       "1  smart                 50                  15360               500   \n",
       "2  smart                 50                  15360               500   \n",
       "3  ultra               1000                  30720              3000   \n",
       "4  ultra               1000                  30720              3000   \n",
       "\n",
       "   rub_monthly_fee  rub_per_gb  rub_per_message  rub_per_minute  \n",
       "0             1950         150                1               1  \n",
       "1              550         200                3               3  \n",
       "2              550         200                3               3  \n",
       "3             1950         150                1               1  \n",
       "4             1950         150                1               1  "
      ]
     },
     "execution_count": 4,
     "metadata": {},
     "output_type": "execute_result"
    }
   ],
   "source": [
    "#Объединяем таблицы по данным столбца с тарифом:\n",
    "users = users.merge(tariffs, on = 'tariff', how = 'left')\n",
    "users.head()"
   ]
  },
  {
   "cell_type": "markdown",
   "metadata": {
    "id": "mhyQ1wy8qUnL"
   },
   "source": [
    "В таблице звонков есть строки с нулевой длительностью разговора. Вероятно, это сброшенные/ошибочные звонки. Посчитаем, сколько таких строк.     <a id=\"round\"></a>"
   ]
  },
  {
   "cell_type": "code",
   "execution_count": 5,
   "metadata": {
    "colab": {
     "base_uri": "https://localhost:8080/"
    },
    "id": "qmLoxmsqqrnS",
    "outputId": "cf67bdf6-21ea-491f-f0a2-ab18c733ee8e"
   },
   "outputs": [
    {
     "name": "stdout",
     "output_type": "stream",
     "text": [
      "В таблице 39613 строк с пропущенными звонками, то есть 19.55% всей выборки.\n"
     ]
    }
   ],
   "source": [
    "#Фильтруем звонки с нулевой длительностью:\n",
    "calls_0 = calls[calls['duration'] == 0]\n",
    "calls_part = len(calls_0)/len(calls)\n",
    "print('В таблице {} строк с пропущенными звонками, то есть {:.2%} всей выборки.'.format(len(calls_0), calls_part))"
   ]
  },
  {
   "cell_type": "markdown",
   "metadata": {
    "id": "xN95s0-u0Wak"
   },
   "source": [
    "Таких значений оказалось слишком много, чтобы просто избавиться от них. Так как звонок зафиксирован сетью, мобильный оператор снял за него деньги за 1 минуту разговора. Заменим все нулевые значения длительности единицами, а все минуты разговора округлим в большую сторону.\n",
    "\n",
    "\n",
    "---\n",
    "\n",
    "\n",
    "Поскольку тарифный план предусматривает ежемесячную оплату, сразу сгруппируем помесячно все данные по звонкам, интернет-трафику и сообщениям."
   ]
  },
  {
   "cell_type": "markdown",
   "metadata": {},
   "source": [
    "<div class = \"alert alert-success\">\n",
    "<h2> Комментарии ревьюера <a class=\"tocSkip\"> </h2>\n",
    "\n",
    "Логичная аргументация 👍 В реальном бизнесе, я думаю ты согласишься, что нужно задать вопрос разработчикам про данные с нулевой длительностью\n",
    "\n",
    "</div>"
   ]
  },
  {
   "cell_type": "code",
   "execution_count": 6,
   "metadata": {
    "colab": {
     "base_uri": "https://localhost:8080/",
     "height": 415
    },
    "id": "Scl5qqFWRnaG",
    "outputId": "9d2e007d-d201-4ab4-8f16-f6e720708b66"
   },
   "outputs": [
    {
     "data": {
      "text/html": [
       "<div>\n",
       "<style scoped>\n",
       "    .dataframe tbody tr th:only-of-type {\n",
       "        vertical-align: middle;\n",
       "    }\n",
       "\n",
       "    .dataframe tbody tr th {\n",
       "        vertical-align: top;\n",
       "    }\n",
       "\n",
       "    .dataframe thead th {\n",
       "        text-align: right;\n",
       "    }\n",
       "</style>\n",
       "<table border=\"1\" class=\"dataframe\">\n",
       "  <thead>\n",
       "    <tr style=\"text-align: right;\">\n",
       "      <th></th>\n",
       "      <th>user_id</th>\n",
       "      <th>month</th>\n",
       "      <th>duration_rounded</th>\n",
       "    </tr>\n",
       "  </thead>\n",
       "  <tbody>\n",
       "    <tr>\n",
       "      <td>550</td>\n",
       "      <td>1088</td>\n",
       "      <td>07 July</td>\n",
       "      <td>334</td>\n",
       "    </tr>\n",
       "    <tr>\n",
       "      <td>2954</td>\n",
       "      <td>1465</td>\n",
       "      <td>07 July</td>\n",
       "      <td>681</td>\n",
       "    </tr>\n",
       "    <tr>\n",
       "      <td>27</td>\n",
       "      <td>1004</td>\n",
       "      <td>10 October</td>\n",
       "      <td>153</td>\n",
       "    </tr>\n",
       "    <tr>\n",
       "      <td>419</td>\n",
       "      <td>1065</td>\n",
       "      <td>11 November</td>\n",
       "      <td>547</td>\n",
       "    </tr>\n",
       "    <tr>\n",
       "      <td>2195</td>\n",
       "      <td>1352</td>\n",
       "      <td>12 December</td>\n",
       "      <td>726</td>\n",
       "    </tr>\n",
       "  </tbody>\n",
       "</table>\n",
       "</div>"
      ],
      "text/plain": [
       "      user_id        month  duration_rounded\n",
       "550      1088      07 July               334\n",
       "2954     1465      07 July               681\n",
       "27       1004   10 October               153\n",
       "419      1065  11 November               547\n",
       "2195     1352  12 December               726"
      ]
     },
     "metadata": {},
     "output_type": "display_data"
    }
   ],
   "source": [
    "calls.loc[calls['duration'] == 0, 'duration'] = 1\n",
    "calls['duration_rounded'] = np.ceil(calls.duration).astype(int)\n",
    "calls['call_date'] = calls['call_date'].astype('datetime64[ns]')\n",
    "calls['month'] = pd.to_datetime(calls['call_date']).dt.strftime('%m %B')\n",
    "calls_grouped = calls.pivot_table(index = ['user_id','month'], values = 'duration_rounded', aggfunc = 'sum').reset_index()\n",
    "calls_grouped.columns = ['user_id', 'month', 'duration_rounded']\n",
    "display(calls_grouped.sample(5))"
   ]
  },
  {
   "cell_type": "markdown",
   "metadata": {},
   "source": [
    "<div class = \"alert alert-success\">\n",
    "<h2> Комментарии ревьюера <a class=\"tocSkip\"> </h2>\n",
    "\n",
    "Супер! Молодец, что не забыла округлить данные\n",
    "\n",
    "</div>"
   ]
  },
  {
   "cell_type": "markdown",
   "metadata": {
    "id": "8BnvN8Hn6_Eq"
   },
   "source": [
    "Таким же образом округлим до целых мегабайт показатели интернет-трафика и сгруппируем данные по месяцам."
   ]
  },
  {
   "cell_type": "code",
   "execution_count": 7,
   "metadata": {
    "colab": {
     "base_uri": "https://localhost:8080/",
     "height": 415
    },
    "id": "MW_1GdYQ7W-5",
    "outputId": "63aca5b8-fb88-4242-a634-bb86eaf86f46"
   },
   "outputs": [
    {
     "data": {
      "text/html": [
       "<div>\n",
       "<style scoped>\n",
       "    .dataframe tbody tr th:only-of-type {\n",
       "        vertical-align: middle;\n",
       "    }\n",
       "\n",
       "    .dataframe tbody tr th {\n",
       "        vertical-align: top;\n",
       "    }\n",
       "\n",
       "    .dataframe thead th {\n",
       "        text-align: right;\n",
       "    }\n",
       "</style>\n",
       "<table border=\"1\" class=\"dataframe\">\n",
       "  <thead>\n",
       "    <tr style=\"text-align: right;\">\n",
       "      <th></th>\n",
       "      <th>user_id</th>\n",
       "      <th>month</th>\n",
       "      <th>mb_used_rounded</th>\n",
       "    </tr>\n",
       "  </thead>\n",
       "  <tbody>\n",
       "    <tr>\n",
       "      <td>1396</td>\n",
       "      <td>1219</td>\n",
       "      <td>03 March</td>\n",
       "      <td>22040</td>\n",
       "    </tr>\n",
       "    <tr>\n",
       "      <td>617</td>\n",
       "      <td>1098</td>\n",
       "      <td>06 June</td>\n",
       "      <td>8261</td>\n",
       "    </tr>\n",
       "    <tr>\n",
       "      <td>1675</td>\n",
       "      <td>1264</td>\n",
       "      <td>12 December</td>\n",
       "      <td>16723</td>\n",
       "    </tr>\n",
       "    <tr>\n",
       "      <td>2870</td>\n",
       "      <td>1451</td>\n",
       "      <td>09 September</td>\n",
       "      <td>9816</td>\n",
       "    </tr>\n",
       "    <tr>\n",
       "      <td>1606</td>\n",
       "      <td>1253</td>\n",
       "      <td>10 October</td>\n",
       "      <td>26044</td>\n",
       "    </tr>\n",
       "  </tbody>\n",
       "</table>\n",
       "</div>"
      ],
      "text/plain": [
       "      user_id         month  mb_used_rounded\n",
       "1396     1219      03 March            22040\n",
       "617      1098       06 June             8261\n",
       "1675     1264   12 December            16723\n",
       "2870     1451  09 September             9816\n",
       "1606     1253    10 October            26044"
      ]
     },
     "metadata": {},
     "output_type": "display_data"
    }
   ],
   "source": [
    "internet['mb_used_rounded'] = np.ceil(internet.mb_used).astype(int)\n",
    "#Удалим столбец, дублирующий индексы таблицы:\n",
    "internet = internet.drop(['Unnamed: 0'], axis = 1)\n",
    "#Добавим месяц использования трафика:\n",
    "internet['session_date'] = internet['session_date'].astype('datetime64[ns]')\n",
    "internet['month'] = pd.to_datetime(internet['session_date']).dt.strftime('%m %B')\n",
    "#Сгруппируем данные помесячно:\n",
    "internet_grouped = internet.pivot_table(index = ['user_id','month'], values = 'mb_used_rounded', aggfunc = 'sum').reset_index()\n",
    "internet_grouped.columns = ['user_id', 'month', 'mb_used_rounded']\n",
    "display(internet_grouped.sample(5))"
   ]
  },
  {
   "cell_type": "markdown",
   "metadata": {},
   "source": [
    "<div class=\"alert alert-success\">\n",
    "<h2> Комментарий ревьюера <a class=\"tocSkip\"> </h2>\n",
    "\n",
    "Кстати, этот столбец можно было указать в качестве индексов, во время загрузки датафрейма. Для этого тебе нужно задать параметр [index_col](https://pandas.pydata.org/pandas-docs/stable/reference/api/pandas.read_excel.html). И мне очень нравится решение с `dt.strftime`"
   ]
  },
  {
   "cell_type": "markdown",
   "metadata": {
    "id": "Btc4uBto9bXc"
   },
   "source": [
    "Аналогично сгруппируем данные по сообщениям."
   ]
  },
  {
   "cell_type": "code",
   "execution_count": 8,
   "metadata": {
    "colab": {
     "base_uri": "https://localhost:8080/",
     "height": 415
    },
    "id": "MK9s3X1a-Nu9",
    "outputId": "6f9a34d8-4a08-4778-b9b5-86faf7b6e43f"
   },
   "outputs": [
    {
     "data": {
      "text/html": [
       "<div>\n",
       "<style scoped>\n",
       "    .dataframe tbody tr th:only-of-type {\n",
       "        vertical-align: middle;\n",
       "    }\n",
       "\n",
       "    .dataframe tbody tr th {\n",
       "        vertical-align: top;\n",
       "    }\n",
       "\n",
       "    .dataframe thead th {\n",
       "        text-align: right;\n",
       "    }\n",
       "</style>\n",
       "<table border=\"1\" class=\"dataframe\">\n",
       "  <thead>\n",
       "    <tr style=\"text-align: right;\">\n",
       "      <th></th>\n",
       "      <th>user_id</th>\n",
       "      <th>month</th>\n",
       "      <th>messages_number</th>\n",
       "    </tr>\n",
       "  </thead>\n",
       "  <tbody>\n",
       "    <tr>\n",
       "      <td>195</td>\n",
       "      <td>1035</td>\n",
       "      <td>06 June</td>\n",
       "      <td>51</td>\n",
       "    </tr>\n",
       "    <tr>\n",
       "      <td>2310</td>\n",
       "      <td>1426</td>\n",
       "      <td>09 September</td>\n",
       "      <td>71</td>\n",
       "    </tr>\n",
       "    <tr>\n",
       "      <td>1190</td>\n",
       "      <td>1229</td>\n",
       "      <td>12 December</td>\n",
       "      <td>6</td>\n",
       "    </tr>\n",
       "    <tr>\n",
       "      <td>1410</td>\n",
       "      <td>1274</td>\n",
       "      <td>08 August</td>\n",
       "      <td>75</td>\n",
       "    </tr>\n",
       "    <tr>\n",
       "      <td>2681</td>\n",
       "      <td>1492</td>\n",
       "      <td>07 July</td>\n",
       "      <td>19</td>\n",
       "    </tr>\n",
       "  </tbody>\n",
       "</table>\n",
       "</div>"
      ],
      "text/plain": [
       "      user_id         month  messages_number\n",
       "195      1035       06 June               51\n",
       "2310     1426  09 September               71\n",
       "1190     1229   12 December                6\n",
       "1410     1274     08 August               75\n",
       "2681     1492       07 July               19"
      ]
     },
     "metadata": {},
     "output_type": "display_data"
    }
   ],
   "source": [
    "messages['session_date'] = messages['message_date'].astype('datetime64[ns]')\n",
    "messages['month'] = pd.to_datetime(messages['message_date']).dt.strftime('%m %B')\n",
    "#Сгруппируем данные помесячно:\n",
    "messages_grouped = messages.pivot_table(index = ['user_id','month'], values = 'message_date', aggfunc = 'count').reset_index()\n",
    "messages_grouped.columns = ['user_id', 'month', 'messages_number']\n",
    "display(messages_grouped.sample(5))"
   ]
  },
  {
   "cell_type": "markdown",
   "metadata": {},
   "source": [
    "<div class=\"alert alert-warning\">\n",
    "<h2> Комментарий ревьюера <a class=\"tocSkip\"> </h2>\n",
    "\n",
    "Обрати, пожалуйста, внимание на использование `head`, `tail` или `sample` при форматировании датафреймов. Не забывай про них. Если оставить эту таблицу \"как есть\", то при сохранении ноутбука, например, на github, таблица развернется во всю длину и займет значительную часть отчета."
   ]
  },
  {
   "cell_type": "markdown",
   "metadata": {},
   "source": [
    "<div class=\"alert alert-success\">\n",
    "СДЕЛАНО!"
   ]
  },
  {
   "cell_type": "markdown",
   "metadata": {},
   "source": [
    "<div class=\"alert alert-success\">\n",
    "<h2> Комментарий ревьюера v2 <a class=\"tocSkip\"> </h2>\n",
    "\n",
    "👍👍👍"
   ]
  },
  {
   "cell_type": "markdown",
   "metadata": {
    "id": "V1tnOvkyHZUd"
   },
   "source": [
    "Таблицы готовы к объединению. Сформируем датасет из всех необходимых для анализа данных.     <a id=\"merging_2\"></a>"
   ]
  },
  {
   "cell_type": "code",
   "execution_count": 9,
   "metadata": {
    "colab": {
     "base_uri": "https://localhost:8080/",
     "height": 759
    },
    "id": "0QIXf48YHip8",
    "outputId": "30fa37f7-da64-4273-dfc1-52109df605b7"
   },
   "outputs": [
    {
     "name": "stdout",
     "output_type": "stream",
     "text": [
      "<class 'pandas.core.frame.DataFrame'>\n",
      "Int64Index: 3216 entries, 0 to 3215\n",
      "Data columns (total 19 columns):\n",
      "user_id                  3216 non-null int64\n",
      "month                    3214 non-null object\n",
      "mb_used_rounded          3203 non-null float64\n",
      "messages_number          2717 non-null float64\n",
      "duration_rounded         3174 non-null float64\n",
      "age                      3216 non-null int64\n",
      "churn_date               189 non-null object\n",
      "city                     3216 non-null object\n",
      "first_name               3216 non-null object\n",
      "last_name                3216 non-null object\n",
      "reg_date                 3216 non-null object\n",
      "tariff                   3216 non-null object\n",
      "messages_included        3216 non-null int64\n",
      "mb_per_month_included    3216 non-null int64\n",
      "minutes_included         3216 non-null int64\n",
      "rub_monthly_fee          3216 non-null int64\n",
      "rub_per_gb               3216 non-null int64\n",
      "rub_per_message          3216 non-null int64\n",
      "rub_per_minute           3216 non-null int64\n",
      "dtypes: float64(3), int64(9), object(7)\n",
      "memory usage: 502.5+ KB\n"
     ]
    },
    {
     "data": {
      "text/html": [
       "<div>\n",
       "<style scoped>\n",
       "    .dataframe tbody tr th:only-of-type {\n",
       "        vertical-align: middle;\n",
       "    }\n",
       "\n",
       "    .dataframe tbody tr th {\n",
       "        vertical-align: top;\n",
       "    }\n",
       "\n",
       "    .dataframe thead th {\n",
       "        text-align: right;\n",
       "    }\n",
       "</style>\n",
       "<table border=\"1\" class=\"dataframe\">\n",
       "  <thead>\n",
       "    <tr style=\"text-align: right;\">\n",
       "      <th></th>\n",
       "      <th>user_id</th>\n",
       "      <th>month</th>\n",
       "      <th>mb_used_rounded</th>\n",
       "      <th>messages_number</th>\n",
       "      <th>duration_rounded</th>\n",
       "      <th>age</th>\n",
       "      <th>churn_date</th>\n",
       "      <th>city</th>\n",
       "      <th>first_name</th>\n",
       "      <th>last_name</th>\n",
       "      <th>reg_date</th>\n",
       "      <th>tariff</th>\n",
       "      <th>messages_included</th>\n",
       "      <th>mb_per_month_included</th>\n",
       "      <th>minutes_included</th>\n",
       "      <th>rub_monthly_fee</th>\n",
       "      <th>rub_per_gb</th>\n",
       "      <th>rub_per_message</th>\n",
       "      <th>rub_per_minute</th>\n",
       "    </tr>\n",
       "  </thead>\n",
       "  <tbody>\n",
       "    <tr>\n",
       "      <td>3211</td>\n",
       "      <td>1273</td>\n",
       "      <td>10 October</td>\n",
       "      <td>NaN</td>\n",
       "      <td>35.0</td>\n",
       "      <td>320.0</td>\n",
       "      <td>46</td>\n",
       "      <td>NaN</td>\n",
       "      <td>Курган</td>\n",
       "      <td>Рэм</td>\n",
       "      <td>Корнилов</td>\n",
       "      <td>2018-05-15</td>\n",
       "      <td>ultra</td>\n",
       "      <td>1000</td>\n",
       "      <td>30720</td>\n",
       "      <td>3000</td>\n",
       "      <td>1950</td>\n",
       "      <td>150</td>\n",
       "      <td>1</td>\n",
       "      <td>1</td>\n",
       "    </tr>\n",
       "    <tr>\n",
       "      <td>3212</td>\n",
       "      <td>1273</td>\n",
       "      <td>11 November</td>\n",
       "      <td>NaN</td>\n",
       "      <td>29.0</td>\n",
       "      <td>286.0</td>\n",
       "      <td>46</td>\n",
       "      <td>NaN</td>\n",
       "      <td>Курган</td>\n",
       "      <td>Рэм</td>\n",
       "      <td>Корнилов</td>\n",
       "      <td>2018-05-15</td>\n",
       "      <td>ultra</td>\n",
       "      <td>1000</td>\n",
       "      <td>30720</td>\n",
       "      <td>3000</td>\n",
       "      <td>1950</td>\n",
       "      <td>150</td>\n",
       "      <td>1</td>\n",
       "      <td>1</td>\n",
       "    </tr>\n",
       "    <tr>\n",
       "      <td>3213</td>\n",
       "      <td>1273</td>\n",
       "      <td>12 December</td>\n",
       "      <td>NaN</td>\n",
       "      <td>39.0</td>\n",
       "      <td>263.0</td>\n",
       "      <td>46</td>\n",
       "      <td>NaN</td>\n",
       "      <td>Курган</td>\n",
       "      <td>Рэм</td>\n",
       "      <td>Корнилов</td>\n",
       "      <td>2018-05-15</td>\n",
       "      <td>ultra</td>\n",
       "      <td>1000</td>\n",
       "      <td>30720</td>\n",
       "      <td>3000</td>\n",
       "      <td>1950</td>\n",
       "      <td>150</td>\n",
       "      <td>1</td>\n",
       "      <td>1</td>\n",
       "    </tr>\n",
       "    <tr>\n",
       "      <td>3214</td>\n",
       "      <td>1128</td>\n",
       "      <td>NaN</td>\n",
       "      <td>NaN</td>\n",
       "      <td>NaN</td>\n",
       "      <td>NaN</td>\n",
       "      <td>51</td>\n",
       "      <td>2018-12-23</td>\n",
       "      <td>Волжский</td>\n",
       "      <td>Ксения</td>\n",
       "      <td>Агаева</td>\n",
       "      <td>2018-12-15</td>\n",
       "      <td>ultra</td>\n",
       "      <td>1000</td>\n",
       "      <td>30720</td>\n",
       "      <td>3000</td>\n",
       "      <td>1950</td>\n",
       "      <td>150</td>\n",
       "      <td>1</td>\n",
       "      <td>1</td>\n",
       "    </tr>\n",
       "    <tr>\n",
       "      <td>3215</td>\n",
       "      <td>1371</td>\n",
       "      <td>NaN</td>\n",
       "      <td>NaN</td>\n",
       "      <td>NaN</td>\n",
       "      <td>NaN</td>\n",
       "      <td>50</td>\n",
       "      <td>2018-12-30</td>\n",
       "      <td>Омск</td>\n",
       "      <td>Ириней</td>\n",
       "      <td>Трофимов</td>\n",
       "      <td>2018-12-25</td>\n",
       "      <td>smart</td>\n",
       "      <td>50</td>\n",
       "      <td>15360</td>\n",
       "      <td>500</td>\n",
       "      <td>550</td>\n",
       "      <td>200</td>\n",
       "      <td>3</td>\n",
       "      <td>3</td>\n",
       "    </tr>\n",
       "  </tbody>\n",
       "</table>\n",
       "</div>"
      ],
      "text/plain": [
       "      user_id        month  mb_used_rounded  messages_number  \\\n",
       "3211     1273   10 October              NaN             35.0   \n",
       "3212     1273  11 November              NaN             29.0   \n",
       "3213     1273  12 December              NaN             39.0   \n",
       "3214     1128          NaN              NaN              NaN   \n",
       "3215     1371          NaN              NaN              NaN   \n",
       "\n",
       "      duration_rounded  age  churn_date      city first_name last_name  \\\n",
       "3211             320.0   46         NaN    Курган        Рэм  Корнилов   \n",
       "3212             286.0   46         NaN    Курган        Рэм  Корнилов   \n",
       "3213             263.0   46         NaN    Курган        Рэм  Корнилов   \n",
       "3214               NaN   51  2018-12-23  Волжский     Ксения    Агаева   \n",
       "3215               NaN   50  2018-12-30      Омск     Ириней  Трофимов   \n",
       "\n",
       "        reg_date tariff  messages_included  mb_per_month_included  \\\n",
       "3211  2018-05-15  ultra               1000                  30720   \n",
       "3212  2018-05-15  ultra               1000                  30720   \n",
       "3213  2018-05-15  ultra               1000                  30720   \n",
       "3214  2018-12-15  ultra               1000                  30720   \n",
       "3215  2018-12-25  smart                 50                  15360   \n",
       "\n",
       "      minutes_included  rub_monthly_fee  rub_per_gb  rub_per_message  \\\n",
       "3211              3000             1950         150                1   \n",
       "3212              3000             1950         150                1   \n",
       "3213              3000             1950         150                1   \n",
       "3214              3000             1950         150                1   \n",
       "3215               500              550         200                3   \n",
       "\n",
       "      rub_per_minute  \n",
       "3211               1  \n",
       "3212               1  \n",
       "3213               1  \n",
       "3214               1  \n",
       "3215               3  "
      ]
     },
     "execution_count": 9,
     "metadata": {},
     "output_type": "execute_result"
    }
   ],
   "source": [
    "#Сначала сливаем данные по месяцам и id пользователей, потом привязываем их к ФИО и личным данным клиентов:\n",
    "data = internet_grouped.merge(messages_grouped, on = ['user_id', 'month'], how = 'outer')\n",
    "data = data.merge(calls_grouped, on = ['user_id', 'month'], how = 'outer')\n",
    "data = data.merge(users, on = 'user_id', how = 'outer')\n",
    "data.info()\n",
    "data.tail()"
   ]
  },
  {
   "cell_type": "markdown",
   "metadata": {},
   "source": [
    "<div class=\"alert alert-success\">\n",
    "<h2> Комментарий ревьюера <a class=\"tocSkip\"> </h2>\n",
    "\n",
    "Молодец, что проводишь объединение задавая параметр `how='outer'`. Так мы не потеряем данные"
   ]
  },
  {
   "cell_type": "markdown",
   "metadata": {
    "id": "1TTBfJmZ4HyH"
   },
   "source": [
    "Для удобства использования датасета изменим порядок отображения столбцов."
   ]
  },
  {
   "cell_type": "code",
   "execution_count": 10,
   "metadata": {
    "colab": {
     "base_uri": "https://localhost:8080/",
     "height": 213
    },
    "id": "frXfHvDX2H9J",
    "outputId": "824934a0-979d-47a8-b224-27deec2809a9"
   },
   "outputs": [
    {
     "data": {
      "text/html": [
       "<div>\n",
       "<style scoped>\n",
       "    .dataframe tbody tr th:only-of-type {\n",
       "        vertical-align: middle;\n",
       "    }\n",
       "\n",
       "    .dataframe tbody tr th {\n",
       "        vertical-align: top;\n",
       "    }\n",
       "\n",
       "    .dataframe thead th {\n",
       "        text-align: right;\n",
       "    }\n",
       "</style>\n",
       "<table border=\"1\" class=\"dataframe\">\n",
       "  <thead>\n",
       "    <tr style=\"text-align: right;\">\n",
       "      <th></th>\n",
       "      <th>user_id</th>\n",
       "      <th>age</th>\n",
       "      <th>first_name</th>\n",
       "      <th>last_name</th>\n",
       "      <th>city</th>\n",
       "      <th>tariff</th>\n",
       "      <th>reg_date</th>\n",
       "      <th>churn_date</th>\n",
       "      <th>month</th>\n",
       "      <th>mb_used_rounded</th>\n",
       "      <th>messages_number</th>\n",
       "      <th>duration_rounded</th>\n",
       "      <th>messages_included</th>\n",
       "      <th>mb_per_month_included</th>\n",
       "      <th>minutes_included</th>\n",
       "      <th>rub_monthly_fee</th>\n",
       "      <th>rub_per_gb</th>\n",
       "      <th>rub_per_message</th>\n",
       "      <th>rub_per_minute</th>\n",
       "    </tr>\n",
       "  </thead>\n",
       "  <tbody>\n",
       "    <tr>\n",
       "      <td>0</td>\n",
       "      <td>1000</td>\n",
       "      <td>52</td>\n",
       "      <td>Рафаил</td>\n",
       "      <td>Верещагин</td>\n",
       "      <td>Краснодар</td>\n",
       "      <td>ultra</td>\n",
       "      <td>2018-05-25</td>\n",
       "      <td>NaN</td>\n",
       "      <td>05 May</td>\n",
       "      <td>2256.0</td>\n",
       "      <td>22.0</td>\n",
       "      <td>164.0</td>\n",
       "      <td>1000</td>\n",
       "      <td>30720</td>\n",
       "      <td>3000</td>\n",
       "      <td>1950</td>\n",
       "      <td>150</td>\n",
       "      <td>1</td>\n",
       "      <td>1</td>\n",
       "    </tr>\n",
       "    <tr>\n",
       "      <td>1</td>\n",
       "      <td>1000</td>\n",
       "      <td>52</td>\n",
       "      <td>Рафаил</td>\n",
       "      <td>Верещагин</td>\n",
       "      <td>Краснодар</td>\n",
       "      <td>ultra</td>\n",
       "      <td>2018-05-25</td>\n",
       "      <td>NaN</td>\n",
       "      <td>06 June</td>\n",
       "      <td>23257.0</td>\n",
       "      <td>60.0</td>\n",
       "      <td>187.0</td>\n",
       "      <td>1000</td>\n",
       "      <td>30720</td>\n",
       "      <td>3000</td>\n",
       "      <td>1950</td>\n",
       "      <td>150</td>\n",
       "      <td>1</td>\n",
       "      <td>1</td>\n",
       "    </tr>\n",
       "    <tr>\n",
       "      <td>2</td>\n",
       "      <td>1000</td>\n",
       "      <td>52</td>\n",
       "      <td>Рафаил</td>\n",
       "      <td>Верещагин</td>\n",
       "      <td>Краснодар</td>\n",
       "      <td>ultra</td>\n",
       "      <td>2018-05-25</td>\n",
       "      <td>NaN</td>\n",
       "      <td>07 July</td>\n",
       "      <td>14016.0</td>\n",
       "      <td>75.0</td>\n",
       "      <td>346.0</td>\n",
       "      <td>1000</td>\n",
       "      <td>30720</td>\n",
       "      <td>3000</td>\n",
       "      <td>1950</td>\n",
       "      <td>150</td>\n",
       "      <td>1</td>\n",
       "      <td>1</td>\n",
       "    </tr>\n",
       "  </tbody>\n",
       "</table>\n",
       "</div>"
      ],
      "text/plain": [
       "   user_id  age first_name  last_name       city tariff    reg_date  \\\n",
       "0     1000   52     Рафаил  Верещагин  Краснодар  ultra  2018-05-25   \n",
       "1     1000   52     Рафаил  Верещагин  Краснодар  ultra  2018-05-25   \n",
       "2     1000   52     Рафаил  Верещагин  Краснодар  ultra  2018-05-25   \n",
       "\n",
       "  churn_date    month  mb_used_rounded  messages_number  duration_rounded  \\\n",
       "0        NaN   05 May           2256.0             22.0             164.0   \n",
       "1        NaN  06 June          23257.0             60.0             187.0   \n",
       "2        NaN  07 July          14016.0             75.0             346.0   \n",
       "\n",
       "   messages_included  mb_per_month_included  minutes_included  \\\n",
       "0               1000                  30720              3000   \n",
       "1               1000                  30720              3000   \n",
       "2               1000                  30720              3000   \n",
       "\n",
       "   rub_monthly_fee  rub_per_gb  rub_per_message  rub_per_minute  \n",
       "0             1950         150                1               1  \n",
       "1             1950         150                1               1  \n",
       "2             1950         150                1               1  "
      ]
     },
     "execution_count": 10,
     "metadata": {},
     "output_type": "execute_result"
    }
   ],
   "source": [
    "cols = list(data.columns.values)\n",
    "data = (data\n",
    "    [['user_id', 'age', 'first_name', 'last_name', 'city', \n",
    " 'tariff', 'reg_date', 'churn_date',\n",
    " 'month',\n",
    " 'mb_used_rounded',\n",
    " 'messages_number',\n",
    " 'duration_rounded',\n",
    " 'messages_included',\n",
    " 'mb_per_month_included',\n",
    " 'minutes_included',\n",
    " 'rub_monthly_fee',\n",
    " 'rub_per_gb',\n",
    " 'rub_per_message',\n",
    " 'rub_per_minute']]\n",
    ")\n",
    "data.head(3)"
   ]
  },
  {
   "cell_type": "markdown",
   "metadata": {
    "id": "QhfTIXyu4P1p"
   },
   "source": [
    "В столбцах `mb_used_rounded`, `messages_number`, `duration_rounded` после объединения появились пустые значения. Кто-то из клиентов сети использует интернет, но не звонит, или общается только с помощью сообщений. Заменяем в этих столбцах пустые ячейки на нулевые, а вещественный тип данных на целочисленный.    <a id=\"dropna\"></a>"
   ]
  },
  {
   "cell_type": "code",
   "execution_count": 11,
   "metadata": {
    "colab": {
     "base_uri": "https://localhost:8080/",
     "height": 165
    },
    "id": "zpOj8jJs4u_i",
    "outputId": "4fee0d14-1ead-4d23-d561-67e9fee140bb"
   },
   "outputs": [
    {
     "data": {
      "text/html": [
       "<div>\n",
       "<style scoped>\n",
       "    .dataframe tbody tr th:only-of-type {\n",
       "        vertical-align: middle;\n",
       "    }\n",
       "\n",
       "    .dataframe tbody tr th {\n",
       "        vertical-align: top;\n",
       "    }\n",
       "\n",
       "    .dataframe thead th {\n",
       "        text-align: right;\n",
       "    }\n",
       "</style>\n",
       "<table border=\"1\" class=\"dataframe\">\n",
       "  <thead>\n",
       "    <tr style=\"text-align: right;\">\n",
       "      <th></th>\n",
       "      <th>user_id</th>\n",
       "      <th>age</th>\n",
       "      <th>first_name</th>\n",
       "      <th>last_name</th>\n",
       "      <th>city</th>\n",
       "      <th>tariff</th>\n",
       "      <th>reg_date</th>\n",
       "      <th>churn_date</th>\n",
       "      <th>month</th>\n",
       "      <th>mb_used_rounded</th>\n",
       "      <th>messages_number</th>\n",
       "      <th>duration_rounded</th>\n",
       "      <th>messages_included</th>\n",
       "      <th>mb_per_month_included</th>\n",
       "      <th>minutes_included</th>\n",
       "      <th>rub_monthly_fee</th>\n",
       "      <th>rub_per_gb</th>\n",
       "      <th>rub_per_message</th>\n",
       "      <th>rub_per_minute</th>\n",
       "    </tr>\n",
       "  </thead>\n",
       "  <tbody>\n",
       "    <tr>\n",
       "      <td>3214</td>\n",
       "      <td>1128</td>\n",
       "      <td>51</td>\n",
       "      <td>Ксения</td>\n",
       "      <td>Агаева</td>\n",
       "      <td>Волжский</td>\n",
       "      <td>ultra</td>\n",
       "      <td>2018-12-15</td>\n",
       "      <td>2018-12-23</td>\n",
       "      <td>NaN</td>\n",
       "      <td>0</td>\n",
       "      <td>0</td>\n",
       "      <td>0</td>\n",
       "      <td>1000</td>\n",
       "      <td>30720</td>\n",
       "      <td>3000</td>\n",
       "      <td>1950</td>\n",
       "      <td>150</td>\n",
       "      <td>1</td>\n",
       "      <td>1</td>\n",
       "    </tr>\n",
       "    <tr>\n",
       "      <td>3215</td>\n",
       "      <td>1371</td>\n",
       "      <td>50</td>\n",
       "      <td>Ириней</td>\n",
       "      <td>Трофимов</td>\n",
       "      <td>Омск</td>\n",
       "      <td>smart</td>\n",
       "      <td>2018-12-25</td>\n",
       "      <td>2018-12-30</td>\n",
       "      <td>NaN</td>\n",
       "      <td>0</td>\n",
       "      <td>0</td>\n",
       "      <td>0</td>\n",
       "      <td>50</td>\n",
       "      <td>15360</td>\n",
       "      <td>500</td>\n",
       "      <td>550</td>\n",
       "      <td>200</td>\n",
       "      <td>3</td>\n",
       "      <td>3</td>\n",
       "    </tr>\n",
       "  </tbody>\n",
       "</table>\n",
       "</div>"
      ],
      "text/plain": [
       "      user_id  age first_name last_name      city tariff    reg_date  \\\n",
       "3214     1128   51     Ксения    Агаева  Волжский  ultra  2018-12-15   \n",
       "3215     1371   50     Ириней  Трофимов      Омск  smart  2018-12-25   \n",
       "\n",
       "      churn_date month  mb_used_rounded  messages_number  duration_rounded  \\\n",
       "3214  2018-12-23   NaN                0                0                 0   \n",
       "3215  2018-12-30   NaN                0                0                 0   \n",
       "\n",
       "      messages_included  mb_per_month_included  minutes_included  \\\n",
       "3214               1000                  30720              3000   \n",
       "3215                 50                  15360               500   \n",
       "\n",
       "      rub_monthly_fee  rub_per_gb  rub_per_message  rub_per_minute  \n",
       "3214             1950         150                1               1  \n",
       "3215              550         200                3               3  "
      ]
     },
     "metadata": {},
     "output_type": "display_data"
    }
   ],
   "source": [
    "columns_na = ['mb_used_rounded', 'messages_number', 'duration_rounded']\n",
    "data[columns_na] = data[columns_na].fillna(0).astype(int)\n",
    "display(data[data['month'].isna()])"
   ]
  },
  {
   "cell_type": "markdown",
   "metadata": {
    "id": "926DXaKl9Afp"
   },
   "source": [
    "В колонке \"месяц\" две пустые строки - два клиента не использовали купленный тариф. Это подтверждает и разница в несколько дней между датой регистрации и датой закрытия тарифа. Для подсчета выручки компании эти строки неинформативны, их можно удалить из датасета."
   ]
  },
  {
   "cell_type": "markdown",
   "metadata": {},
   "source": [
    "<div class=\"alert alert-success\">\n",
    "<h2> Комментарий ревьюера <a class=\"tocSkip\"> </h2>\n",
    "\n",
    "Согласен"
   ]
  },
  {
   "cell_type": "code",
   "execution_count": 12,
   "metadata": {
    "id": "V2STyXkX-GNz"
   },
   "outputs": [],
   "source": [
    "data = data.dropna(subset = ['month']).reset_index()\n",
    "#Проверка, закомментирована для компактности\n",
    "#data.info() "
   ]
  },
  {
   "cell_type": "markdown",
   "metadata": {
    "id": "EzuRAnWAA77r"
   },
   "source": [
    "# 4. Подготовка расчётных данных <a id=\"counting\"></a>"
   ]
  },
  {
   "cell_type": "markdown",
   "metadata": {
    "id": "ck9I_u1eBtcl"
   },
   "source": [
    "Рассчитаем ежемесячную выручку по каждому пользователю.  <a id=\"month_revenue\"></a>"
   ]
  },
  {
   "cell_type": "code",
   "execution_count": 13,
   "metadata": {
    "colab": {
     "base_uri": "https://localhost:8080/",
     "height": 682
    },
    "id": "sYQmWQvXB8vm",
    "outputId": "b7a03243-2661-4510-db79-6d5d06be9971"
   },
   "outputs": [
    {
     "data": {
      "text/html": [
       "<div>\n",
       "<style scoped>\n",
       "    .dataframe tbody tr th:only-of-type {\n",
       "        vertical-align: middle;\n",
       "    }\n",
       "\n",
       "    .dataframe tbody tr th {\n",
       "        vertical-align: top;\n",
       "    }\n",
       "\n",
       "    .dataframe thead th {\n",
       "        text-align: right;\n",
       "    }\n",
       "</style>\n",
       "<table border=\"1\" class=\"dataframe\">\n",
       "  <thead>\n",
       "    <tr style=\"text-align: right;\">\n",
       "      <th></th>\n",
       "      <th>rub_monthly_fee</th>\n",
       "      <th>duration_rounded</th>\n",
       "      <th>minutes_included</th>\n",
       "      <th>rub_per_minute</th>\n",
       "      <th>mb_used_rounded</th>\n",
       "      <th>mb_per_month_included</th>\n",
       "      <th>rub_per_gb</th>\n",
       "      <th>messages_number</th>\n",
       "      <th>messages_included</th>\n",
       "      <th>rub_per_message</th>\n",
       "      <th>revenue_calls</th>\n",
       "      <th>revenue_internet</th>\n",
       "      <th>revenue_messages</th>\n",
       "      <th>revenue_month</th>\n",
       "    </tr>\n",
       "  </thead>\n",
       "  <tbody>\n",
       "    <tr>\n",
       "      <td>3194</td>\n",
       "      <td>550</td>\n",
       "      <td>533</td>\n",
       "      <td>500</td>\n",
       "      <td>3</td>\n",
       "      <td>20757</td>\n",
       "      <td>15360</td>\n",
       "      <td>200</td>\n",
       "      <td>51</td>\n",
       "      <td>50</td>\n",
       "      <td>3</td>\n",
       "      <td>99</td>\n",
       "      <td>1054.101562</td>\n",
       "      <td>3</td>\n",
       "      <td>1706.101562</td>\n",
       "    </tr>\n",
       "    <tr>\n",
       "      <td>3195</td>\n",
       "      <td>550</td>\n",
       "      <td>506</td>\n",
       "      <td>500</td>\n",
       "      <td>3</td>\n",
       "      <td>11512</td>\n",
       "      <td>15360</td>\n",
       "      <td>200</td>\n",
       "      <td>20</td>\n",
       "      <td>50</td>\n",
       "      <td>3</td>\n",
       "      <td>18</td>\n",
       "      <td>0.000000</td>\n",
       "      <td>0</td>\n",
       "      <td>568.000000</td>\n",
       "    </tr>\n",
       "    <tr>\n",
       "      <td>3196</td>\n",
       "      <td>550</td>\n",
       "      <td>387</td>\n",
       "      <td>500</td>\n",
       "      <td>3</td>\n",
       "      <td>14174</td>\n",
       "      <td>15360</td>\n",
       "      <td>200</td>\n",
       "      <td>14</td>\n",
       "      <td>50</td>\n",
       "      <td>3</td>\n",
       "      <td>0</td>\n",
       "      <td>0.000000</td>\n",
       "      <td>0</td>\n",
       "      <td>550.000000</td>\n",
       "    </tr>\n",
       "    <tr>\n",
       "      <td>3197</td>\n",
       "      <td>550</td>\n",
       "      <td>558</td>\n",
       "      <td>500</td>\n",
       "      <td>3</td>\n",
       "      <td>19940</td>\n",
       "      <td>15360</td>\n",
       "      <td>200</td>\n",
       "      <td>17</td>\n",
       "      <td>50</td>\n",
       "      <td>3</td>\n",
       "      <td>174</td>\n",
       "      <td>894.531250</td>\n",
       "      <td>0</td>\n",
       "      <td>1618.531250</td>\n",
       "    </tr>\n",
       "    <tr>\n",
       "      <td>3198</td>\n",
       "      <td>550</td>\n",
       "      <td>178</td>\n",
       "      <td>500</td>\n",
       "      <td>3</td>\n",
       "      <td>7486</td>\n",
       "      <td>15360</td>\n",
       "      <td>200</td>\n",
       "      <td>20</td>\n",
       "      <td>50</td>\n",
       "      <td>3</td>\n",
       "      <td>0</td>\n",
       "      <td>0.000000</td>\n",
       "      <td>0</td>\n",
       "      <td>550.000000</td>\n",
       "    </tr>\n",
       "    <tr>\n",
       "      <td>3199</td>\n",
       "      <td>550</td>\n",
       "      <td>414</td>\n",
       "      <td>500</td>\n",
       "      <td>3</td>\n",
       "      <td>24270</td>\n",
       "      <td>15360</td>\n",
       "      <td>200</td>\n",
       "      <td>62</td>\n",
       "      <td>50</td>\n",
       "      <td>3</td>\n",
       "      <td>0</td>\n",
       "      <td>1740.234375</td>\n",
       "      <td>36</td>\n",
       "      <td>2326.234375</td>\n",
       "    </tr>\n",
       "    <tr>\n",
       "      <td>3200</td>\n",
       "      <td>550</td>\n",
       "      <td>477</td>\n",
       "      <td>500</td>\n",
       "      <td>3</td>\n",
       "      <td>22166</td>\n",
       "      <td>15360</td>\n",
       "      <td>200</td>\n",
       "      <td>44</td>\n",
       "      <td>50</td>\n",
       "      <td>3</td>\n",
       "      <td>0</td>\n",
       "      <td>1329.296875</td>\n",
       "      <td>0</td>\n",
       "      <td>1879.296875</td>\n",
       "    </tr>\n",
       "    <tr>\n",
       "      <td>3201</td>\n",
       "      <td>550</td>\n",
       "      <td>258</td>\n",
       "      <td>500</td>\n",
       "      <td>3</td>\n",
       "      <td>20604</td>\n",
       "      <td>15360</td>\n",
       "      <td>200</td>\n",
       "      <td>42</td>\n",
       "      <td>50</td>\n",
       "      <td>3</td>\n",
       "      <td>0</td>\n",
       "      <td>1024.218750</td>\n",
       "      <td>0</td>\n",
       "      <td>1574.218750</td>\n",
       "    </tr>\n",
       "    <tr>\n",
       "      <td>3202</td>\n",
       "      <td>550</td>\n",
       "      <td>71</td>\n",
       "      <td>500</td>\n",
       "      <td>3</td>\n",
       "      <td>1848</td>\n",
       "      <td>15360</td>\n",
       "      <td>200</td>\n",
       "      <td>11</td>\n",
       "      <td>50</td>\n",
       "      <td>3</td>\n",
       "      <td>0</td>\n",
       "      <td>0.000000</td>\n",
       "      <td>0</td>\n",
       "      <td>550.000000</td>\n",
       "    </tr>\n",
       "    <tr>\n",
       "      <td>3203</td>\n",
       "      <td>550</td>\n",
       "      <td>473</td>\n",
       "      <td>500</td>\n",
       "      <td>3</td>\n",
       "      <td>17809</td>\n",
       "      <td>15360</td>\n",
       "      <td>200</td>\n",
       "      <td>48</td>\n",
       "      <td>50</td>\n",
       "      <td>3</td>\n",
       "      <td>0</td>\n",
       "      <td>478.320312</td>\n",
       "      <td>0</td>\n",
       "      <td>1028.320312</td>\n",
       "    </tr>\n",
       "    <tr>\n",
       "      <td>3204</td>\n",
       "      <td>550</td>\n",
       "      <td>624</td>\n",
       "      <td>500</td>\n",
       "      <td>3</td>\n",
       "      <td>17984</td>\n",
       "      <td>15360</td>\n",
       "      <td>200</td>\n",
       "      <td>59</td>\n",
       "      <td>50</td>\n",
       "      <td>3</td>\n",
       "      <td>372</td>\n",
       "      <td>512.500000</td>\n",
       "      <td>27</td>\n",
       "      <td>1461.500000</td>\n",
       "    </tr>\n",
       "    <tr>\n",
       "      <td>3205</td>\n",
       "      <td>550</td>\n",
       "      <td>505</td>\n",
       "      <td>500</td>\n",
       "      <td>3</td>\n",
       "      <td>13077</td>\n",
       "      <td>15360</td>\n",
       "      <td>200</td>\n",
       "      <td>66</td>\n",
       "      <td>50</td>\n",
       "      <td>3</td>\n",
       "      <td>15</td>\n",
       "      <td>0.000000</td>\n",
       "      <td>48</td>\n",
       "      <td>613.000000</td>\n",
       "    </tr>\n",
       "    <tr>\n",
       "      <td>3206</td>\n",
       "      <td>1950</td>\n",
       "      <td>225</td>\n",
       "      <td>3000</td>\n",
       "      <td>1</td>\n",
       "      <td>0</td>\n",
       "      <td>30720</td>\n",
       "      <td>150</td>\n",
       "      <td>21</td>\n",
       "      <td>1000</td>\n",
       "      <td>1</td>\n",
       "      <td>0</td>\n",
       "      <td>0.000000</td>\n",
       "      <td>0</td>\n",
       "      <td>1950.000000</td>\n",
       "    </tr>\n",
       "    <tr>\n",
       "      <td>3207</td>\n",
       "      <td>1950</td>\n",
       "      <td>242</td>\n",
       "      <td>3000</td>\n",
       "      <td>1</td>\n",
       "      <td>0</td>\n",
       "      <td>30720</td>\n",
       "      <td>150</td>\n",
       "      <td>38</td>\n",
       "      <td>1000</td>\n",
       "      <td>1</td>\n",
       "      <td>0</td>\n",
       "      <td>0.000000</td>\n",
       "      <td>0</td>\n",
       "      <td>1950.000000</td>\n",
       "    </tr>\n",
       "    <tr>\n",
       "      <td>3208</td>\n",
       "      <td>1950</td>\n",
       "      <td>267</td>\n",
       "      <td>3000</td>\n",
       "      <td>1</td>\n",
       "      <td>0</td>\n",
       "      <td>30720</td>\n",
       "      <td>150</td>\n",
       "      <td>37</td>\n",
       "      <td>1000</td>\n",
       "      <td>1</td>\n",
       "      <td>0</td>\n",
       "      <td>0.000000</td>\n",
       "      <td>0</td>\n",
       "      <td>1950.000000</td>\n",
       "    </tr>\n",
       "    <tr>\n",
       "      <td>3209</td>\n",
       "      <td>1950</td>\n",
       "      <td>267</td>\n",
       "      <td>3000</td>\n",
       "      <td>1</td>\n",
       "      <td>0</td>\n",
       "      <td>30720</td>\n",
       "      <td>150</td>\n",
       "      <td>41</td>\n",
       "      <td>1000</td>\n",
       "      <td>1</td>\n",
       "      <td>0</td>\n",
       "      <td>0.000000</td>\n",
       "      <td>0</td>\n",
       "      <td>1950.000000</td>\n",
       "    </tr>\n",
       "    <tr>\n",
       "      <td>3210</td>\n",
       "      <td>1950</td>\n",
       "      <td>228</td>\n",
       "      <td>3000</td>\n",
       "      <td>1</td>\n",
       "      <td>0</td>\n",
       "      <td>30720</td>\n",
       "      <td>150</td>\n",
       "      <td>32</td>\n",
       "      <td>1000</td>\n",
       "      <td>1</td>\n",
       "      <td>0</td>\n",
       "      <td>0.000000</td>\n",
       "      <td>0</td>\n",
       "      <td>1950.000000</td>\n",
       "    </tr>\n",
       "    <tr>\n",
       "      <td>3211</td>\n",
       "      <td>1950</td>\n",
       "      <td>320</td>\n",
       "      <td>3000</td>\n",
       "      <td>1</td>\n",
       "      <td>0</td>\n",
       "      <td>30720</td>\n",
       "      <td>150</td>\n",
       "      <td>35</td>\n",
       "      <td>1000</td>\n",
       "      <td>1</td>\n",
       "      <td>0</td>\n",
       "      <td>0.000000</td>\n",
       "      <td>0</td>\n",
       "      <td>1950.000000</td>\n",
       "    </tr>\n",
       "    <tr>\n",
       "      <td>3212</td>\n",
       "      <td>1950</td>\n",
       "      <td>286</td>\n",
       "      <td>3000</td>\n",
       "      <td>1</td>\n",
       "      <td>0</td>\n",
       "      <td>30720</td>\n",
       "      <td>150</td>\n",
       "      <td>29</td>\n",
       "      <td>1000</td>\n",
       "      <td>1</td>\n",
       "      <td>0</td>\n",
       "      <td>0.000000</td>\n",
       "      <td>0</td>\n",
       "      <td>1950.000000</td>\n",
       "    </tr>\n",
       "    <tr>\n",
       "      <td>3213</td>\n",
       "      <td>1950</td>\n",
       "      <td>263</td>\n",
       "      <td>3000</td>\n",
       "      <td>1</td>\n",
       "      <td>0</td>\n",
       "      <td>30720</td>\n",
       "      <td>150</td>\n",
       "      <td>39</td>\n",
       "      <td>1000</td>\n",
       "      <td>1</td>\n",
       "      <td>0</td>\n",
       "      <td>0.000000</td>\n",
       "      <td>0</td>\n",
       "      <td>1950.000000</td>\n",
       "    </tr>\n",
       "  </tbody>\n",
       "</table>\n",
       "</div>"
      ],
      "text/plain": [
       "      rub_monthly_fee  duration_rounded  minutes_included  rub_per_minute  \\\n",
       "3194              550               533               500               3   \n",
       "3195              550               506               500               3   \n",
       "3196              550               387               500               3   \n",
       "3197              550               558               500               3   \n",
       "3198              550               178               500               3   \n",
       "3199              550               414               500               3   \n",
       "3200              550               477               500               3   \n",
       "3201              550               258               500               3   \n",
       "3202              550                71               500               3   \n",
       "3203              550               473               500               3   \n",
       "3204              550               624               500               3   \n",
       "3205              550               505               500               3   \n",
       "3206             1950               225              3000               1   \n",
       "3207             1950               242              3000               1   \n",
       "3208             1950               267              3000               1   \n",
       "3209             1950               267              3000               1   \n",
       "3210             1950               228              3000               1   \n",
       "3211             1950               320              3000               1   \n",
       "3212             1950               286              3000               1   \n",
       "3213             1950               263              3000               1   \n",
       "\n",
       "      mb_used_rounded  mb_per_month_included  rub_per_gb  messages_number  \\\n",
       "3194            20757                  15360         200               51   \n",
       "3195            11512                  15360         200               20   \n",
       "3196            14174                  15360         200               14   \n",
       "3197            19940                  15360         200               17   \n",
       "3198             7486                  15360         200               20   \n",
       "3199            24270                  15360         200               62   \n",
       "3200            22166                  15360         200               44   \n",
       "3201            20604                  15360         200               42   \n",
       "3202             1848                  15360         200               11   \n",
       "3203            17809                  15360         200               48   \n",
       "3204            17984                  15360         200               59   \n",
       "3205            13077                  15360         200               66   \n",
       "3206                0                  30720         150               21   \n",
       "3207                0                  30720         150               38   \n",
       "3208                0                  30720         150               37   \n",
       "3209                0                  30720         150               41   \n",
       "3210                0                  30720         150               32   \n",
       "3211                0                  30720         150               35   \n",
       "3212                0                  30720         150               29   \n",
       "3213                0                  30720         150               39   \n",
       "\n",
       "      messages_included  rub_per_message  revenue_calls  revenue_internet  \\\n",
       "3194                 50                3             99       1054.101562   \n",
       "3195                 50                3             18          0.000000   \n",
       "3196                 50                3              0          0.000000   \n",
       "3197                 50                3            174        894.531250   \n",
       "3198                 50                3              0          0.000000   \n",
       "3199                 50                3              0       1740.234375   \n",
       "3200                 50                3              0       1329.296875   \n",
       "3201                 50                3              0       1024.218750   \n",
       "3202                 50                3              0          0.000000   \n",
       "3203                 50                3              0        478.320312   \n",
       "3204                 50                3            372        512.500000   \n",
       "3205                 50                3             15          0.000000   \n",
       "3206               1000                1              0          0.000000   \n",
       "3207               1000                1              0          0.000000   \n",
       "3208               1000                1              0          0.000000   \n",
       "3209               1000                1              0          0.000000   \n",
       "3210               1000                1              0          0.000000   \n",
       "3211               1000                1              0          0.000000   \n",
       "3212               1000                1              0          0.000000   \n",
       "3213               1000                1              0          0.000000   \n",
       "\n",
       "      revenue_messages  revenue_month  \n",
       "3194                 3    1706.101562  \n",
       "3195                 0     568.000000  \n",
       "3196                 0     550.000000  \n",
       "3197                 0    1618.531250  \n",
       "3198                 0     550.000000  \n",
       "3199                36    2326.234375  \n",
       "3200                 0    1879.296875  \n",
       "3201                 0    1574.218750  \n",
       "3202                 0     550.000000  \n",
       "3203                 0    1028.320312  \n",
       "3204                27    1461.500000  \n",
       "3205                48     613.000000  \n",
       "3206                 0    1950.000000  \n",
       "3207                 0    1950.000000  \n",
       "3208                 0    1950.000000  \n",
       "3209                 0    1950.000000  \n",
       "3210                 0    1950.000000  \n",
       "3211                 0    1950.000000  \n",
       "3212                 0    1950.000000  \n",
       "3213                 0    1950.000000  "
      ]
     },
     "execution_count": 13,
     "metadata": {},
     "output_type": "execute_result"
    }
   ],
   "source": [
    "#Создаем столбцы, в которые попадёт сумма выручки компании при превышении клиентом лимита по тарифам:\n",
    "data['revenue_calls'] = (data['duration_rounded'] - data['minutes_included']) * data['rub_per_minute']\n",
    "data['revenue_internet'] = (data['mb_used_rounded'] - data['mb_per_month_included']) * data['rub_per_gb'] / 1024\n",
    "data['revenue_messages'] = (data['messages_number'] - data['messages_included']) * data['rub_per_message']\n",
    "#В случае, если превышения нет, оставим в этих столбцах нули:\n",
    "data.loc[data['revenue_calls'] < 0, 'revenue_calls'] = 0\n",
    "data.loc[data['revenue_internet'] < 0, 'revenue_internet'] = 0\n",
    "data.loc[data['revenue_messages'] < 0, 'revenue_messages'] = 0\n",
    "#Итоговая выручка складывается из тарифа и оплаты за превышение трафика, лимита минут и сообщений:\n",
    "data['revenue_month'] = data['rub_monthly_fee'] + data['revenue_calls'] + data['revenue_internet'] + data['revenue_messages']\n",
    "#Проверка:\n",
    "data[['rub_monthly_fee', 'duration_rounded', 'minutes_included', 'rub_per_minute', 'mb_used_rounded','mb_per_month_included','rub_per_gb', 'messages_number', 'messages_included', 'rub_per_message', 'revenue_calls', 'revenue_internet', 'revenue_messages', 'revenue_month']].tail(20)"
   ]
  },
  {
   "cell_type": "markdown",
   "metadata": {},
   "source": [
    "<div class=\"alert alert-success\">\n",
    "<h2> Комментарий ревьюера <a class=\"tocSkip\"> </h2>\n",
    "\n",
    "Все правильно, я бы решение обернул в функции для более элегантного вида"
   ]
  },
  {
   "cell_type": "markdown",
   "metadata": {},
   "source": [
    "<div class=\"alert alert-success\">\n",
    "Рустам, можешь дать небольшую подсказку, как начать функцию? Сама хочу, но, видимо, опыта не хватает. Не знаю, как подступиться."
   ]
  },
  {
   "cell_type": "markdown",
   "metadata": {},
   "source": [
    "<div class=\"alert alert-success\">\n",
    "<h2> Комментарий ревьюера <a class=\"tocSkip\"> </h2>\n",
    "\n",
    "Я в свое время когда работу выполнял, что-то похожее на такую функцию писал. Там возможно решение немного будет отличаться от твоего, но сама мысль думаю понятна)"
   ]
  },
  {
   "cell_type": "code",
   "execution_count": 39,
   "metadata": {},
   "outputs": [
    {
     "data": {
      "text/plain": [
       "0     1950.0\n",
       "1     1950.0\n",
       "2     1950.0\n",
       "3     1950.0\n",
       "4     1950.0\n",
       "5     1950.0\n",
       "6     1950.0\n",
       "7     1950.0\n",
       "8     1350.0\n",
       "9      550.0\n",
       "10     550.0\n",
       "11    1150.0\n",
       "12    1550.0\n",
       "13     950.0\n",
       "14     550.0\n",
       "15    1350.0\n",
       "16    1150.0\n",
       "17    1950.0\n",
       "18    1950.0\n",
       "19    1950.0\n",
       "dtype: float64"
      ]
     },
     "execution_count": 39,
     "metadata": {},
     "output_type": "execute_result"
    }
   ],
   "source": [
    "df_tariffs = pd.read_csv('https://code.s3.yandex.net/datasets/tariffs.csv', index_col = 'tariff_name')\n",
    "\n",
    "def month_revenue(row):\n",
    "\n",
    "    minutes = row['duration_rounded']\n",
    "    messages = row['messages_number']\n",
    "    internet = row['mb_used_rounded'] \n",
    "    tariff = row['tariff']\n",
    "\n",
    "    minutes_lim = df_tariffs.loc[tariff, 'minutes_included']\n",
    "    message_lim = df_tariffs.loc[tariff, 'messages_included']\n",
    "    internet_lim = df_tariffs.loc[tariff, 'mb_per_month_included']\n",
    "    monthly_fee = df_tariffs.loc[tariff, 'rub_monthly_fee']\n",
    "\n",
    "    call_overlimit = max(minutes - minutes_lim, 0)\n",
    "    call_overpay = call_overlimit * df_tariffs.loc[tariff, 'rub_per_minute']\n",
    "    \n",
    "    message_overlimit = max(messages - message_lim, 0)\n",
    "    message_overpay = message_overlimit * df_tariffs.loc[tariff, 'rub_per_message']\n",
    "    \n",
    "    internet_overlimit = max(np.ceil((internet - internet_lim)/1024), 0)\n",
    "    internet_overpay = internet_overlimit * df_tariffs.loc[tariff, 'rub_per_gb']\n",
    "    \n",
    "    return monthly_fee + call_overpay + message_overpay + internet_overpay\n",
    "\n",
    "data.apply(month_revenue, axis = 1).head(20)"
   ]
  },
  {
   "cell_type": "markdown",
   "metadata": {
    "id": "WKZnG-IZ2PRq"
   },
   "source": [
    "Итак:\n",
    " \n",
    "\n",
    "*   Информация об использовании тарифов сгруппирована по месяцам;\n",
    "*   Собрана из разрозненных файлов в единый датафрейм;\n",
    "*   Данные проверены на ошибки;\n",
    "*   Убраны пустые значения;\n",
    "*   В таблицу добавлен расчётный столбец ежемесячной выручки по каждому пользователю.\n",
    "\n",
    "Приступаем к анализу полученных данных.\n",
    "\n",
    "<a id=\"concl\"></a>   "
   ]
  },
  {
   "cell_type": "markdown",
   "metadata": {
    "id": "Y_cZfCp5LA9q"
   },
   "source": [
    "# 5. Анализ данных <a id=\"analysis\"></a>"
   ]
  },
  {
   "cell_type": "markdown",
   "metadata": {
    "id": "KjnOQ858a8Gf"
   },
   "source": [
    "В первую очередь, посмотрим, каким тарифом предпочитают пользоваться клиенты \"Мегалайна\". Построим круговую диаграмму: <a id=\"pie\"></a>"
   ]
  },
  {
   "cell_type": "code",
   "execution_count": 15,
   "metadata": {
    "colab": {
     "base_uri": "https://localhost:8080/",
     "height": 319
    },
    "id": "6dOsv5c6bNYZ",
    "outputId": "1f3e0c2f-c294-4a7a-8415-4313d9d11fbe"
   },
   "outputs": [
    {
     "data": {
      "image/png": "[encoded data removed]",
      "text/plain": [
       "<Figure size 1152x360 with 1 Axes>"
      ]
     },
     "metadata": {},
     "output_type": "display_data"
    }
   ],
   "source": [
    "#Диаграмма на основе данных списка клиентов:\n",
    "users['tariff'].value_counts().plot(kind = 'pie', autopct='%1.2f%%', explode = (0, 0.1), shadow = True)\n",
    "plt.title('Доли тарифов Smart и Ultra среди выборки клиентов:')\n",
    "plt.show()"
   ]
  },
  {
   "cell_type": "markdown",
   "metadata": {
    "id": "FHmNVHDr38kY"
   },
   "source": [
    "70% клиентов \"Мегалайна\" предпочитают универсальный и недорогой тариф Smart. "
   ]
  },
  {
   "cell_type": "markdown",
   "metadata": {
    "id": "iLUyuUoaoxAa"
   },
   "source": [
    "Проверим, как меняются доли тарифов в выборке по месяцам. Возможно, не всегда соотношение было таким. <a id=\"part_month\"></a>"
   ]
  },
  {
   "cell_type": "code",
   "execution_count": 16,
   "metadata": {
    "colab": {
     "base_uri": "https://localhost:8080/",
     "height": 171
    },
    "id": "2-VDd5zZl1KM",
    "outputId": "087cc48d-0604-466a-cb4f-5ffb72dc7d21"
   },
   "outputs": [
    {
     "data": {
      "text/html": [
       "<div>\n",
       "<style scoped>\n",
       "    .dataframe tbody tr th:only-of-type {\n",
       "        vertical-align: middle;\n",
       "    }\n",
       "\n",
       "    .dataframe tbody tr th {\n",
       "        vertical-align: top;\n",
       "    }\n",
       "\n",
       "    .dataframe thead th {\n",
       "        text-align: right;\n",
       "    }\n",
       "</style>\n",
       "<table border=\"1\" class=\"dataframe\">\n",
       "  <thead>\n",
       "    <tr style=\"text-align: right;\">\n",
       "      <th></th>\n",
       "      <th>month</th>\n",
       "      <th>tariff</th>\n",
       "      <th>count_users_part</th>\n",
       "      <th>count_users_total</th>\n",
       "      <th>%</th>\n",
       "    </tr>\n",
       "  </thead>\n",
       "  <tbody>\n",
       "    <tr>\n",
       "      <td>1</td>\n",
       "      <td>01 January</td>\n",
       "      <td>smart</td>\n",
       "      <td>34</td>\n",
       "      <td>43</td>\n",
       "      <td>79.069767</td>\n",
       "    </tr>\n",
       "    <tr>\n",
       "      <td>0</td>\n",
       "      <td>01 January</td>\n",
       "      <td>ultra</td>\n",
       "      <td>9</td>\n",
       "      <td>43</td>\n",
       "      <td>20.930233</td>\n",
       "    </tr>\n",
       "    <tr>\n",
       "      <td>3</td>\n",
       "      <td>02 February</td>\n",
       "      <td>smart</td>\n",
       "      <td>58</td>\n",
       "      <td>82</td>\n",
       "      <td>70.731707</td>\n",
       "    </tr>\n",
       "    <tr>\n",
       "      <td>2</td>\n",
       "      <td>02 February</td>\n",
       "      <td>ultra</td>\n",
       "      <td>24</td>\n",
       "      <td>82</td>\n",
       "      <td>29.268293</td>\n",
       "    </tr>\n",
       "  </tbody>\n",
       "</table>\n",
       "</div>"
      ],
      "text/plain": [
       "         month tariff  count_users_part  count_users_total          %\n",
       "1   01 January  smart                34                 43  79.069767\n",
       "0   01 January  ultra                 9                 43  20.930233\n",
       "3  02 February  smart                58                 82  70.731707\n",
       "2  02 February  ultra                24                 82  29.268293"
      ]
     },
     "execution_count": 16,
     "metadata": {},
     "output_type": "execute_result"
    }
   ],
   "source": [
    "#Группируем таблицу по месяцу и тарифу. Данные - количество пользователей.\n",
    "grouped_data = data.groupby(['month', 'tariff'])['user_id'].count().reset_index().sort_values(by = ['month','user_id'])\n",
    "grouped_data.columns = ['month', 'tariff', 'count_users_part']\n",
    "#Групппируем таблицу только по месяцу без разбивки по тарифам.\n",
    "grouped_data_2 = data.groupby('month')['user_id'].count().reset_index()\n",
    "grouped_data_2.columns = ['month', 'count_users_total']\n",
    "#Объединяем обе таблицы по месяцу:\n",
    "grouped_data = grouped_data.merge(grouped_data_2, on = 'month', how = 'left').sort_values(by = ['month','tariff'])\n",
    "#Добавляем столбец с долей пользователя конкретного тарифа от общего количества пользователей:\n",
    "grouped_data['%'] = grouped_data['count_users_part'] * 100/ grouped_data['count_users_total']\n",
    "grouped_data.head(4)\n",
    "\n"
   ]
  },
  {
   "cell_type": "code",
   "execution_count": 17,
   "metadata": {
    "colab": {
     "base_uri": "https://localhost:8080/",
     "height": 394
    },
    "id": "JJLnBCDOOeBc",
    "outputId": "6be64fc2-00b9-4513-e094-30203702fa08"
   },
   "outputs": [
    {
     "data": {
      "image/png": "[encoded data removed]",
      "text/plain": [
       "<Figure size 1080x432 with 1 Axes>"
      ]
     },
     "metadata": {},
     "output_type": "display_data"
    }
   ],
   "source": [
    "#Строим столбчатую диаграмму, показывающую доли пользователей в разрезе месяца:\n",
    "month = grouped_data['month']\n",
    "tariff = grouped_data['tariff']\n",
    "part = grouped_data['%']\n",
    "sns.set()\n",
    "plt.figure(figsize = (15,6))\n",
    "ax = sns.barplot(y= month, x = part, hue = tariff, dodge = False)\n",
    "ax.set(title = \"Соотношение количества пользователей тарифов по месяцам\",\n",
    "      ylabel = \"Месяц\",\n",
    "      xlabel = \"Доля пользователей тарифа, %\")\n",
    "plt.show()"
   ]
  },
  {
   "cell_type": "markdown",
   "metadata": {},
   "source": [
    "<div class=\"alert alert-success\">\n",
    "<h2> Комментарий ревьюера <a class=\"tocSkip\"> </h2>\n",
    "\n",
    "👏 Отличный график, разверни ось икс на 90 градусов, декабрь с ноябрем залезли друг на друга\n",
    "\n",
    "![](https://i.gifer.com/R0YH.gif)"
   ]
  },
  {
   "cell_type": "markdown",
   "metadata": {},
   "source": [
    "<div class=\"alert alert-success\">\n",
    "    СДЕЛАНО!"
   ]
  },
  {
   "cell_type": "markdown",
   "metadata": {},
   "source": [
    "<div class=\"alert alert-success\">\n",
    "<h2> Комментарий ревьюера <a class=\"tocSkip\"> </h2>\n",
    "\n",
    "Лучше и не придумаешь"
   ]
  },
  {
   "cell_type": "markdown",
   "metadata": {
    "id": "za9IE_244mGH"
   },
   "source": [
    "В январе доля пользователей тарифа Smart была 80%, затем в течение полугода начала снижаться примерно до 65%, затем опять приблизилась к средним 70%."
   ]
  },
  {
   "cell_type": "markdown",
   "metadata": {
    "id": "2K-8dJ905IpG"
   },
   "source": [
    "В первую очередь посмотрим на характеристики распределения данных. <a id=\"describe\"></a>"
   ]
  },
  {
   "cell_type": "code",
   "execution_count": 18,
   "metadata": {
    "colab": {
     "base_uri": "https://localhost:8080/",
     "height": 448
    },
    "id": "mo67ON3Go4gS",
    "outputId": "e8d8cf26-14aa-4406-be3b-f9a24d3e5b29"
   },
   "outputs": [
    {
     "name": "stdout",
     "output_type": "stream",
     "text": [
      "Характеристики распределения длительности разговора, интернет-трафика и количества сообщений для тарифа \"Smart\":\n"
     ]
    },
    {
     "data": {
      "text/html": [
       "<style  type=\"text/css\" >\n",
       "</style><table id=\"T_6329df88_7841_11eb_bfcc_02420a39b934\" ><thead>    <tr>        <th class=\"blank level0\" ></th>        <th class=\"col_heading level0 col0\" >duration_rounded</th>        <th class=\"col_heading level0 col1\" >mb_used_rounded</th>        <th class=\"col_heading level0 col2\" >messages_number</th>    </tr></thead><tbody>\n",
       "                <tr>\n",
       "                        <th id=\"T_6329df88_7841_11eb_bfcc_02420a39b934level0_row0\" class=\"row_heading level0 row0\" >count</th>\n",
       "                        <td id=\"T_6329df88_7841_11eb_bfcc_02420a39b934row0_col0\" class=\"data row0 col0\" >2229.00</td>\n",
       "                        <td id=\"T_6329df88_7841_11eb_bfcc_02420a39b934row0_col1\" class=\"data row0 col1\" >2229.00</td>\n",
       "                        <td id=\"T_6329df88_7841_11eb_bfcc_02420a39b934row0_col2\" class=\"data row0 col2\" >2229.00</td>\n",
       "            </tr>\n",
       "            <tr>\n",
       "                        <th id=\"T_6329df88_7841_11eb_bfcc_02420a39b934level0_row1\" class=\"row_heading level0 row1\" >mean</th>\n",
       "                        <td id=\"T_6329df88_7841_11eb_bfcc_02420a39b934row1_col0\" class=\"data row1 col0\" >429.45</td>\n",
       "                        <td id=\"T_6329df88_7841_11eb_bfcc_02420a39b934row1_col1\" class=\"data row1 col1\" >16229.19</td>\n",
       "                        <td id=\"T_6329df88_7841_11eb_bfcc_02420a39b934row1_col2\" class=\"data row1 col2\" >33.38</td>\n",
       "            </tr>\n",
       "            <tr>\n",
       "                        <th id=\"T_6329df88_7841_11eb_bfcc_02420a39b934level0_row2\" class=\"row_heading level0 row2\" >std</th>\n",
       "                        <td id=\"T_6329df88_7841_11eb_bfcc_02420a39b934row2_col0\" class=\"data row2 col0\" >194.87</td>\n",
       "                        <td id=\"T_6329df88_7841_11eb_bfcc_02420a39b934row2_col1\" class=\"data row2 col1\" >5877.58</td>\n",
       "                        <td id=\"T_6329df88_7841_11eb_bfcc_02420a39b934row2_col2\" class=\"data row2 col2\" >28.23</td>\n",
       "            </tr>\n",
       "            <tr>\n",
       "                        <th id=\"T_6329df88_7841_11eb_bfcc_02420a39b934level0_row3\" class=\"row_heading level0 row3\" >min</th>\n",
       "                        <td id=\"T_6329df88_7841_11eb_bfcc_02420a39b934row3_col0\" class=\"data row3 col0\" >0.00</td>\n",
       "                        <td id=\"T_6329df88_7841_11eb_bfcc_02420a39b934row3_col1\" class=\"data row3 col1\" >0.00</td>\n",
       "                        <td id=\"T_6329df88_7841_11eb_bfcc_02420a39b934row3_col2\" class=\"data row3 col2\" >0.00</td>\n",
       "            </tr>\n",
       "            <tr>\n",
       "                        <th id=\"T_6329df88_7841_11eb_bfcc_02420a39b934level0_row4\" class=\"row_heading level0 row4\" >25%</th>\n",
       "                        <td id=\"T_6329df88_7841_11eb_bfcc_02420a39b934row4_col0\" class=\"data row4 col0\" >291.00</td>\n",
       "                        <td id=\"T_6329df88_7841_11eb_bfcc_02420a39b934row4_col1\" class=\"data row4 col1\" >12658.00</td>\n",
       "                        <td id=\"T_6329df88_7841_11eb_bfcc_02420a39b934row4_col2\" class=\"data row4 col2\" >10.00</td>\n",
       "            </tr>\n",
       "            <tr>\n",
       "                        <th id=\"T_6329df88_7841_11eb_bfcc_02420a39b934level0_row5\" class=\"row_heading level0 row5\" >50%</th>\n",
       "                        <td id=\"T_6329df88_7841_11eb_bfcc_02420a39b934row5_col0\" class=\"data row5 col0\" >435.00</td>\n",
       "                        <td id=\"T_6329df88_7841_11eb_bfcc_02420a39b934row5_col1\" class=\"data row5 col1\" >16531.00</td>\n",
       "                        <td id=\"T_6329df88_7841_11eb_bfcc_02420a39b934row5_col2\" class=\"data row5 col2\" >28.00</td>\n",
       "            </tr>\n",
       "            <tr>\n",
       "                        <th id=\"T_6329df88_7841_11eb_bfcc_02420a39b934level0_row6\" class=\"row_heading level0 row6\" >75%</th>\n",
       "                        <td id=\"T_6329df88_7841_11eb_bfcc_02420a39b934row6_col0\" class=\"data row6 col0\" >560.00</td>\n",
       "                        <td id=\"T_6329df88_7841_11eb_bfcc_02420a39b934row6_col1\" class=\"data row6 col1\" >20068.00</td>\n",
       "                        <td id=\"T_6329df88_7841_11eb_bfcc_02420a39b934row6_col2\" class=\"data row6 col2\" >51.00</td>\n",
       "            </tr>\n",
       "            <tr>\n",
       "                        <th id=\"T_6329df88_7841_11eb_bfcc_02420a39b934level0_row7\" class=\"row_heading level0 row7\" >max</th>\n",
       "                        <td id=\"T_6329df88_7841_11eb_bfcc_02420a39b934row7_col0\" class=\"data row7 col0\" >1471.00</td>\n",
       "                        <td id=\"T_6329df88_7841_11eb_bfcc_02420a39b934row7_col1\" class=\"data row7 col1\" >38610.00</td>\n",
       "                        <td id=\"T_6329df88_7841_11eb_bfcc_02420a39b934row7_col2\" class=\"data row7 col2\" >143.00</td>\n",
       "            </tr>\n",
       "    </tbody></table>"
      ],
      "text/plain": [
       "<pandas.io.formats.style.Styler at 0x7fb041bb4290>"
      ]
     },
     "metadata": {},
     "output_type": "display_data"
    },
    {
     "name": "stdout",
     "output_type": "stream",
     "text": [
      "Дисперсия распределения по показателям тарифа \"Smart\":\n"
     ]
    },
    {
     "data": {
      "text/plain": [
       "duration_rounded       37974\n",
       "mb_used_rounded     34545911\n",
       "messages_number          796\n",
       "dtype: int64"
      ]
     },
     "metadata": {},
     "output_type": "display_data"
    },
    {
     "name": "stdout",
     "output_type": "stream",
     "text": [
      "Характеристики распределения длительности разговора, интернет-трафика и количества сообщений для тарифа \"Ultra\":\n"
     ]
    },
    {
     "data": {
      "text/html": [
       "<style  type=\"text/css\" >\n",
       "</style><table id=\"T_632e7aac_7841_11eb_bfcc_02420a39b934\" ><thead>    <tr>        <th class=\"blank level0\" ></th>        <th class=\"col_heading level0 col0\" >duration_rounded</th>        <th class=\"col_heading level0 col1\" >mb_used_rounded</th>        <th class=\"col_heading level0 col2\" >messages_number</th>    </tr></thead><tbody>\n",
       "                <tr>\n",
       "                        <th id=\"T_632e7aac_7841_11eb_bfcc_02420a39b934level0_row0\" class=\"row_heading level0 row0\" >count</th>\n",
       "                        <td id=\"T_632e7aac_7841_11eb_bfcc_02420a39b934row0_col0\" class=\"data row0 col0\" >985.00</td>\n",
       "                        <td id=\"T_632e7aac_7841_11eb_bfcc_02420a39b934row0_col1\" class=\"data row0 col1\" >985.00</td>\n",
       "                        <td id=\"T_632e7aac_7841_11eb_bfcc_02420a39b934row0_col2\" class=\"data row0 col2\" >985.00</td>\n",
       "            </tr>\n",
       "            <tr>\n",
       "                        <th id=\"T_632e7aac_7841_11eb_bfcc_02420a39b934level0_row1\" class=\"row_heading level0 row1\" >mean</th>\n",
       "                        <td id=\"T_632e7aac_7841_11eb_bfcc_02420a39b934row1_col0\" class=\"data row1 col0\" >540.78</td>\n",
       "                        <td id=\"T_632e7aac_7841_11eb_bfcc_02420a39b934row1_col1\" class=\"data row1 col1\" >19486.90</td>\n",
       "                        <td id=\"T_632e7aac_7841_11eb_bfcc_02420a39b934row1_col2\" class=\"data row1 col2\" >49.36</td>\n",
       "            </tr>\n",
       "            <tr>\n",
       "                        <th id=\"T_632e7aac_7841_11eb_bfcc_02420a39b934level0_row2\" class=\"row_heading level0 row2\" >std</th>\n",
       "                        <td id=\"T_632e7aac_7841_11eb_bfcc_02420a39b934row2_col0\" class=\"data row2 col0\" >325.74</td>\n",
       "                        <td id=\"T_632e7aac_7841_11eb_bfcc_02420a39b934row2_col1\" class=\"data row2 col1\" >10096.32</td>\n",
       "                        <td id=\"T_632e7aac_7841_11eb_bfcc_02420a39b934row2_col2\" class=\"data row2 col2\" >47.80</td>\n",
       "            </tr>\n",
       "            <tr>\n",
       "                        <th id=\"T_632e7aac_7841_11eb_bfcc_02420a39b934level0_row3\" class=\"row_heading level0 row3\" >min</th>\n",
       "                        <td id=\"T_632e7aac_7841_11eb_bfcc_02420a39b934row3_col0\" class=\"data row3 col0\" >0.00</td>\n",
       "                        <td id=\"T_632e7aac_7841_11eb_bfcc_02420a39b934row3_col1\" class=\"data row3 col1\" >0.00</td>\n",
       "                        <td id=\"T_632e7aac_7841_11eb_bfcc_02420a39b934row3_col2\" class=\"data row3 col2\" >0.00</td>\n",
       "            </tr>\n",
       "            <tr>\n",
       "                        <th id=\"T_632e7aac_7841_11eb_bfcc_02420a39b934level0_row4\" class=\"row_heading level0 row4\" >25%</th>\n",
       "                        <td id=\"T_632e7aac_7841_11eb_bfcc_02420a39b934row4_col0\" class=\"data row4 col0\" >292.00</td>\n",
       "                        <td id=\"T_632e7aac_7841_11eb_bfcc_02420a39b934row4_col1\" class=\"data row4 col1\" >11785.00</td>\n",
       "                        <td id=\"T_632e7aac_7841_11eb_bfcc_02420a39b934row4_col2\" class=\"data row4 col2\" >6.00</td>\n",
       "            </tr>\n",
       "            <tr>\n",
       "                        <th id=\"T_632e7aac_7841_11eb_bfcc_02420a39b934level0_row5\" class=\"row_heading level0 row5\" >50%</th>\n",
       "                        <td id=\"T_632e7aac_7841_11eb_bfcc_02420a39b934row5_col0\" class=\"data row5 col0\" >532.00</td>\n",
       "                        <td id=\"T_632e7aac_7841_11eb_bfcc_02420a39b934row5_col1\" class=\"data row5 col1\" >19324.00</td>\n",
       "                        <td id=\"T_632e7aac_7841_11eb_bfcc_02420a39b934row5_col2\" class=\"data row5 col2\" >38.00</td>\n",
       "            </tr>\n",
       "            <tr>\n",
       "                        <th id=\"T_632e7aac_7841_11eb_bfcc_02420a39b934level0_row6\" class=\"row_heading level0 row6\" >75%</th>\n",
       "                        <td id=\"T_632e7aac_7841_11eb_bfcc_02420a39b934row6_col0\" class=\"data row6 col0\" >773.00</td>\n",
       "                        <td id=\"T_632e7aac_7841_11eb_bfcc_02420a39b934row6_col1\" class=\"data row6 col1\" >26863.00</td>\n",
       "                        <td id=\"T_632e7aac_7841_11eb_bfcc_02420a39b934row6_col2\" class=\"data row6 col2\" >79.00</td>\n",
       "            </tr>\n",
       "            <tr>\n",
       "                        <th id=\"T_632e7aac_7841_11eb_bfcc_02420a39b934level0_row7\" class=\"row_heading level0 row7\" >max</th>\n",
       "                        <td id=\"T_632e7aac_7841_11eb_bfcc_02420a39b934row7_col0\" class=\"data row7 col0\" >1727.00</td>\n",
       "                        <td id=\"T_632e7aac_7841_11eb_bfcc_02420a39b934row7_col1\" class=\"data row7 col1\" >49789.00</td>\n",
       "                        <td id=\"T_632e7aac_7841_11eb_bfcc_02420a39b934row7_col2\" class=\"data row7 col2\" >224.00</td>\n",
       "            </tr>\n",
       "    </tbody></table>"
      ],
      "text/plain": [
       "<pandas.io.formats.style.Styler at 0x7fb041b71210>"
      ]
     },
     "metadata": {},
     "output_type": "display_data"
    },
    {
     "name": "stdout",
     "output_type": "stream",
     "text": [
      "Дисперсия распределения по показателям тарифа \"Ultra\":\n"
     ]
    },
    {
     "data": {
      "text/plain": [
       "duration_rounded       106105\n",
       "mb_used_rounded     101935621\n",
       "messages_number          2285\n",
       "dtype: int64"
      ]
     },
     "metadata": {},
     "output_type": "display_data"
    }
   ],
   "source": [
    "data_ultra = data.query('tariff == \"ultra\"')\n",
    "data_smart = data.query('tariff == \"smart\"')\n",
    "print('Характеристики распределения длительности разговора, интернет-трафика и количества сообщений для тарифа \"Smart\":')\n",
    "display(data_smart[['duration_rounded', 'mb_used_rounded', 'messages_number']].describe().style.format('{:.2f}'))\n",
    "var_smart = np.var(data_smart[['duration_rounded', 'mb_used_rounded', 'messages_number']], ddof = 1).astype(int)\n",
    "print('Дисперсия распределения по показателям тарифа \"Smart\":')\n",
    "display(var_smart)\n",
    "print('Характеристики распределения длительности разговора, интернет-трафика и количества сообщений для тарифа \"Ultra\":')\n",
    "display(data_ultra[['duration_rounded', 'mb_used_rounded', 'messages_number']].describe().style.format('{:.2f}'))\n",
    "print('Дисперсия распределения по показателям тарифа \"Ultra\":')\n",
    "var_ultra = np.var(data_ultra[['duration_rounded', 'mb_used_rounded', 'messages_number']], ddof = 1).astype(int)\n",
    "display(var_ultra)"
   ]
  },
  {
   "cell_type": "markdown",
   "metadata": {},
   "source": [
    "<div class=\"alert alert-warning\">\n",
    "<h2> Комментарий ревьюера <a class=\"tocSkip\"> </h2>\n",
    "\n",
    "Я бы дисперсию оставил в решении, в задании просят же найти их. Также обрати внимание на параметр `ddof` при подсчете [дисперсии](https://numpy.org/doc/stable/reference/generated/numpy.var.html)\n",
    "\n",
    "</div>"
   ]
  },
  {
   "cell_type": "markdown",
   "metadata": {},
   "source": [
    "<div class=\"alert alert-success\">\n",
    "    СДЕЛАНО!"
   ]
  },
  {
   "cell_type": "markdown",
   "metadata": {},
   "source": [
    "<div class=\"alert alert-success\">\n",
    "<h2> Комментарий ревьюера v2 <a class=\"tocSkip\"> </h2>\n",
    "\n",
    "А вот пример, как можно было дисперсию включить в таблицу и оставить только нужное. Да, решение длинное, но вдруг будет полезным)"
   ]
  },
  {
   "cell_type": "code",
   "execution_count": 49,
   "metadata": {},
   "outputs": [
    {
     "data": {
      "text/html": [
       "<style  type=\"text/css\" >\n",
       "</style><table id=\"T_95147e8e_7843_11eb_bfcc_02420a39b934\" ><thead>    <tr>        <th class=\"blank level0\" ></th>        <th class=\"col_heading level0 col0\" >duration_rounded</th>        <th class=\"col_heading level0 col1\" >mb_used_rounded</th>        <th class=\"col_heading level0 col2\" >messages_number</th>    </tr></thead><tbody>\n",
       "                <tr>\n",
       "                        <th id=\"T_95147e8e_7843_11eb_bfcc_02420a39b934level0_row0\" class=\"row_heading level0 row0\" >mean</th>\n",
       "                        <td id=\"T_95147e8e_7843_11eb_bfcc_02420a39b934row0_col0\" class=\"data row0 col0\" >540.78</td>\n",
       "                        <td id=\"T_95147e8e_7843_11eb_bfcc_02420a39b934row0_col1\" class=\"data row0 col1\" >19486.90</td>\n",
       "                        <td id=\"T_95147e8e_7843_11eb_bfcc_02420a39b934row0_col2\" class=\"data row0 col2\" >49.36</td>\n",
       "            </tr>\n",
       "            <tr>\n",
       "                        <th id=\"T_95147e8e_7843_11eb_bfcc_02420a39b934level0_row1\" class=\"row_heading level0 row1\" >std</th>\n",
       "                        <td id=\"T_95147e8e_7843_11eb_bfcc_02420a39b934row1_col0\" class=\"data row1 col0\" >325.74</td>\n",
       "                        <td id=\"T_95147e8e_7843_11eb_bfcc_02420a39b934row1_col1\" class=\"data row1 col1\" >10096.32</td>\n",
       "                        <td id=\"T_95147e8e_7843_11eb_bfcc_02420a39b934row1_col2\" class=\"data row1 col2\" >47.80</td>\n",
       "            </tr>\n",
       "            <tr>\n",
       "                        <th id=\"T_95147e8e_7843_11eb_bfcc_02420a39b934level0_row2\" class=\"row_heading level0 row2\" >var</th>\n",
       "                        <td id=\"T_95147e8e_7843_11eb_bfcc_02420a39b934row2_col0\" class=\"data row2 col0\" >106105.73</td>\n",
       "                        <td id=\"T_95147e8e_7843_11eb_bfcc_02420a39b934row2_col1\" class=\"data row2 col1\" >101935621.05</td>\n",
       "                        <td id=\"T_95147e8e_7843_11eb_bfcc_02420a39b934row2_col2\" class=\"data row2 col2\" >2285.27</td>\n",
       "            </tr>\n",
       "    </tbody></table>"
      ],
      "text/plain": [
       "<pandas.io.formats.style.Styler at 0x7fb0b5d32e10>"
      ]
     },
     "execution_count": 49,
     "metadata": {},
     "output_type": "execute_result"
    }
   ],
   "source": [
    "data_ultra[['duration_rounded', 'mb_used_rounded', 'messages_number']].describe().loc[['mean', \\\n",
    "'std']].append(pd.Series(np.var(data_ultra[['duration_rounded', 'mb_used_rounded', \\\n",
    "'messages_number']], ddof = 1), name = 'var')).style.format('{:.2f}')"
   ]
  },
  {
   "cell_type": "markdown",
   "metadata": {},
   "source": [
    "<div class=\"alert alert-success\">\n",
    "<h2> Комментарий ревьюера v2 <a class=\"tocSkip\"> </h2>\n",
    "\n",
    "Через сводные таблицы наверное короче будет"
   ]
  },
  {
   "cell_type": "code",
   "execution_count": 52,
   "metadata": {},
   "outputs": [
    {
     "data": {
      "text/html": [
       "<style  type=\"text/css\" >\n",
       "</style><table id=\"T_7b46b03e_7844_11eb_bfcc_02420a39b934\" ><thead>    <tr>        <th class=\"blank\" ></th>        <th class=\"index_name level0\" >tariff</th>        <th class=\"col_heading level0 col0\" >smart</th>        <th class=\"col_heading level0 col1\" >ultra</th>    </tr></thead><tbody>\n",
       "                <tr>\n",
       "                        <th id=\"T_7b46b03e_7844_11eb_bfcc_02420a39b934level0_row0\" class=\"row_heading level0 row0\" rowspan=3>mean</th>\n",
       "                        <th id=\"T_7b46b03e_7844_11eb_bfcc_02420a39b934level1_row0\" class=\"row_heading level1 row0\" >duration_rounded</th>\n",
       "                        <td id=\"T_7b46b03e_7844_11eb_bfcc_02420a39b934row0_col0\" class=\"data row0 col0\" >429.45</td>\n",
       "                        <td id=\"T_7b46b03e_7844_11eb_bfcc_02420a39b934row0_col1\" class=\"data row0 col1\" >540.78</td>\n",
       "            </tr>\n",
       "            <tr>\n",
       "                                <th id=\"T_7b46b03e_7844_11eb_bfcc_02420a39b934level1_row1\" class=\"row_heading level1 row1\" >mb_used_rounded</th>\n",
       "                        <td id=\"T_7b46b03e_7844_11eb_bfcc_02420a39b934row1_col0\" class=\"data row1 col0\" >16229.19</td>\n",
       "                        <td id=\"T_7b46b03e_7844_11eb_bfcc_02420a39b934row1_col1\" class=\"data row1 col1\" >19486.90</td>\n",
       "            </tr>\n",
       "            <tr>\n",
       "                                <th id=\"T_7b46b03e_7844_11eb_bfcc_02420a39b934level1_row2\" class=\"row_heading level1 row2\" >messages_number</th>\n",
       "                        <td id=\"T_7b46b03e_7844_11eb_bfcc_02420a39b934row2_col0\" class=\"data row2 col0\" >33.38</td>\n",
       "                        <td id=\"T_7b46b03e_7844_11eb_bfcc_02420a39b934row2_col1\" class=\"data row2 col1\" >49.36</td>\n",
       "            </tr>\n",
       "            <tr>\n",
       "                        <th id=\"T_7b46b03e_7844_11eb_bfcc_02420a39b934level0_row3\" class=\"row_heading level0 row3\" rowspan=3>std</th>\n",
       "                        <th id=\"T_7b46b03e_7844_11eb_bfcc_02420a39b934level1_row3\" class=\"row_heading level1 row3\" >duration_rounded</th>\n",
       "                        <td id=\"T_7b46b03e_7844_11eb_bfcc_02420a39b934row3_col0\" class=\"data row3 col0\" >194.87</td>\n",
       "                        <td id=\"T_7b46b03e_7844_11eb_bfcc_02420a39b934row3_col1\" class=\"data row3 col1\" >325.74</td>\n",
       "            </tr>\n",
       "            <tr>\n",
       "                                <th id=\"T_7b46b03e_7844_11eb_bfcc_02420a39b934level1_row4\" class=\"row_heading level1 row4\" >mb_used_rounded</th>\n",
       "                        <td id=\"T_7b46b03e_7844_11eb_bfcc_02420a39b934row4_col0\" class=\"data row4 col0\" >5877.58</td>\n",
       "                        <td id=\"T_7b46b03e_7844_11eb_bfcc_02420a39b934row4_col1\" class=\"data row4 col1\" >10096.32</td>\n",
       "            </tr>\n",
       "            <tr>\n",
       "                                <th id=\"T_7b46b03e_7844_11eb_bfcc_02420a39b934level1_row5\" class=\"row_heading level1 row5\" >messages_number</th>\n",
       "                        <td id=\"T_7b46b03e_7844_11eb_bfcc_02420a39b934row5_col0\" class=\"data row5 col0\" >28.23</td>\n",
       "                        <td id=\"T_7b46b03e_7844_11eb_bfcc_02420a39b934row5_col1\" class=\"data row5 col1\" >47.80</td>\n",
       "            </tr>\n",
       "            <tr>\n",
       "                        <th id=\"T_7b46b03e_7844_11eb_bfcc_02420a39b934level0_row6\" class=\"row_heading level0 row6\" rowspan=3>var</th>\n",
       "                        <th id=\"T_7b46b03e_7844_11eb_bfcc_02420a39b934level1_row6\" class=\"row_heading level1 row6\" >duration_rounded</th>\n",
       "                        <td id=\"T_7b46b03e_7844_11eb_bfcc_02420a39b934row6_col0\" class=\"data row6 col0\" >37974.77</td>\n",
       "                        <td id=\"T_7b46b03e_7844_11eb_bfcc_02420a39b934row6_col1\" class=\"data row6 col1\" >106105.73</td>\n",
       "            </tr>\n",
       "            <tr>\n",
       "                                <th id=\"T_7b46b03e_7844_11eb_bfcc_02420a39b934level1_row7\" class=\"row_heading level1 row7\" >mb_used_rounded</th>\n",
       "                        <td id=\"T_7b46b03e_7844_11eb_bfcc_02420a39b934row7_col0\" class=\"data row7 col0\" >34545911.13</td>\n",
       "                        <td id=\"T_7b46b03e_7844_11eb_bfcc_02420a39b934row7_col1\" class=\"data row7 col1\" >101935621.05</td>\n",
       "            </tr>\n",
       "            <tr>\n",
       "                                <th id=\"T_7b46b03e_7844_11eb_bfcc_02420a39b934level1_row8\" class=\"row_heading level1 row8\" >messages_number</th>\n",
       "                        <td id=\"T_7b46b03e_7844_11eb_bfcc_02420a39b934row8_col0\" class=\"data row8 col0\" >796.81</td>\n",
       "                        <td id=\"T_7b46b03e_7844_11eb_bfcc_02420a39b934row8_col1\" class=\"data row8 col1\" >2285.27</td>\n",
       "            </tr>\n",
       "    </tbody></table>"
      ],
      "text/plain": [
       "<pandas.io.formats.style.Styler at 0x7fb0c84eeb10>"
      ]
     },
     "execution_count": 52,
     "metadata": {},
     "output_type": "execute_result"
    }
   ],
   "source": [
    "data.pivot_table(index='tariff',  \n",
    "                 values=['duration_rounded', 'mb_used_rounded', 'messages_number'], \n",
    "                 aggfunc=['mean', 'std', 'var']).T.style.format('{:.2f}')"
   ]
  },
  {
   "cell_type": "markdown",
   "metadata": {
    "id": "t2KNo6ipsUlX"
   },
   "source": [
    "По характеристикам распределения можно сделать выводы:\n",
    "*   **Средняя длительность разговора не сильно зависит от тарифа**. В среднем человеку нужно около 430 минут разговора на тарифе \"Smart\" и 540 - на тарифе \"Ultra\". Среднее и медиана у распределения близки, т.е. выбросов немного.\n",
    "*   **Сообщения сейчас не в моде**. Пользователи обоих тарифов за редким исключением не превышают лимит.\n",
    "*   **Основные различия касаются объема интернет-трафика**. Пользователи тарифа \"Smart\" превышают лимит 15Гб и платят за дополнительные мегабайты чаще, чем в половине случаев. Пользователи \"Ultra\" используют интернет активнее (в среднем на 3Гб), но больше чем в 75% случаев не выходят за увеличенный лимит в 30Гб.\n",
    "\n"
   ]
  },
  {
   "cell_type": "markdown",
   "metadata": {
    "id": "vkdU9k6ysIeG"
   },
   "source": [
    "Для наглядности построим сравнительные графики длительности разговора, отправки смс и активности пользователя в сети в зависимости от выбранного тарифа. <a id=\"hist\"></a>"
   ]
  },
  {
   "cell_type": "code",
   "execution_count": 19,
   "metadata": {
    "colab": {
     "base_uri": "https://localhost:8080/",
     "height": 313
    },
    "id": "w5gVu7OABMrV",
    "outputId": "842ea163-ca90-43c2-a09b-e6efa8aaa20a"
   },
   "outputs": [
    {
     "data": {
      "image/png": "[encoded data removed]",
      "text/plain": [
       "<Figure size 1152x360 with 3 Axes>"
      ]
     },
     "metadata": {},
     "output_type": "display_data"
    }
   ],
   "source": [
    "#Строим гистограммы распределений ежемесячной длительности разговора, количества сообщений и объема интернет-трафика:\n",
    "#tariff = data['tariff']\n",
    "sns.set()\n",
    "fig,axes=plt.subplots(1,3)\n",
    "for tariff in ['smart', 'ultra']:\n",
    "  ax = sns.distplot(data.query('tariff == @tariff')['duration_rounded'], label = tariff, ax = axes[0])\n",
    "  ax1 = sns.distplot(data.query('tariff == @tariff')['mb_used_rounded'], label = tariff, ax = axes[1])\n",
    "  ax2 = sns.distplot(data.query('tariff == @tariff')['messages_number'], label = tariff, ax = axes[2])\n",
    "\n",
    "ax.set(title = \"Распределение длительности звонков\",\n",
    "      xlabel = \"Продолжительность разговора, мин\",\n",
    "      ylabel = \"Плотность вероятности\")\n",
    "ax1.set(title = \"Распределение объёма интернет-трафика\",\n",
    "      xlabel = \"Количество потраченнных мегабайт, Мб\",\n",
    "      ylabel = \"Плотность вероятности\")\n",
    "ax2.set(title = \"Распределение количества сообщений\",\n",
    "      xlabel = \"Количество сообщений, шт\",\n",
    "      ylabel = \"Плотность вероятности\")\n",
    "      \n",
    "ax.legend()\n",
    "ax1.legend()\n",
    "ax2.legend()\n",
    "plt.show()"
   ]
  },
  {
   "cell_type": "markdown",
   "metadata": {},
   "source": [
    "<div class=\"alert alert-success\">\n",
    "<h2> Комментарий ревьюера <a class=\"tocSkip\"> </h2>\n",
    "\n",
    "Отличный график 👏\n",
    "    \n",
    "![](https://i.gifer.com/NdG.gif)"
   ]
  },
  {
   "cell_type": "markdown",
   "metadata": {
    "id": "aB8qnHBN_E0u"
   },
   "source": [
    "В целом поведение пользователя в обоих случаях похожее, но на графиках видно **смещение вправо** распределения длительности звонков и объёма интернет-трафика **по тарифу \"Ultra\"**. Лимиты больше - использование свободнее.\n",
    "\n",
    "Эти распределения близки к нормальным. **Распределение количества сообщений стремится к экспоненциальному виду**. Максимум около нуля. Пользователей, отправляющих много sms, мало."
   ]
  },
  {
   "cell_type": "markdown",
   "metadata": {
    "id": "d6dZ91aSBLlK"
   },
   "source": [
    "# 6. Проверка гипотез (анализ выручки) <a id=\"revenue\"></a>"
   ]
  },
  {
   "cell_type": "markdown",
   "metadata": {
    "id": "AsgQKZ5SBWRV"
   },
   "source": [
    "В первую очередь посчитаем характеристики распределения выручки по тарифам. <a id=\"revenue_describe\"></a>"
   ]
  },
  {
   "cell_type": "code",
   "execution_count": 20,
   "metadata": {
    "colab": {
     "base_uri": "https://localhost:8080/",
     "height": 428
    },
    "id": "OlEYTAY8BeHh",
    "outputId": "d924d586-c8ca-49f3-d149-9f65fbce5ec3"
   },
   "outputs": [
    {
     "name": "stdout",
     "output_type": "stream",
     "text": [
      "Характеристики распределения ежемесячной выручки по тарифу \"Smart\":\n"
     ]
    },
    {
     "data": {
      "text/html": [
       "<style  type=\"text/css\" >\n",
       "</style><table id=\"T_64486c2c_7841_11eb_bfcc_02420a39b934\" ><thead>    <tr>        <th class=\"blank level0\" ></th>        <th class=\"col_heading level0 col0\" >revenue_month</th>    </tr></thead><tbody>\n",
       "                <tr>\n",
       "                        <th id=\"T_64486c2c_7841_11eb_bfcc_02420a39b934level0_row0\" class=\"row_heading level0 row0\" >count</th>\n",
       "                        <td id=\"T_64486c2c_7841_11eb_bfcc_02420a39b934row0_col0\" class=\"data row0 col0\" >2229.00</td>\n",
       "            </tr>\n",
       "            <tr>\n",
       "                        <th id=\"T_64486c2c_7841_11eb_bfcc_02420a39b934level0_row1\" class=\"row_heading level0 row1\" >mean</th>\n",
       "                        <td id=\"T_64486c2c_7841_11eb_bfcc_02420a39b934row1_col0\" class=\"data row1 col0\" >1250.33</td>\n",
       "            </tr>\n",
       "            <tr>\n",
       "                        <th id=\"T_64486c2c_7841_11eb_bfcc_02420a39b934level0_row2\" class=\"row_heading level0 row2\" >std</th>\n",
       "                        <td id=\"T_64486c2c_7841_11eb_bfcc_02420a39b934row2_col0\" class=\"data row2 col0\" >797.03</td>\n",
       "            </tr>\n",
       "            <tr>\n",
       "                        <th id=\"T_64486c2c_7841_11eb_bfcc_02420a39b934level0_row3\" class=\"row_heading level0 row3\" >min</th>\n",
       "                        <td id=\"T_64486c2c_7841_11eb_bfcc_02420a39b934row3_col0\" class=\"data row3 col0\" >550.00</td>\n",
       "            </tr>\n",
       "            <tr>\n",
       "                        <th id=\"T_64486c2c_7841_11eb_bfcc_02420a39b934level0_row4\" class=\"row_heading level0 row4\" >25%</th>\n",
       "                        <td id=\"T_64486c2c_7841_11eb_bfcc_02420a39b934row4_col0\" class=\"data row4 col0\" >553.00</td>\n",
       "            </tr>\n",
       "            <tr>\n",
       "                        <th id=\"T_64486c2c_7841_11eb_bfcc_02420a39b934level0_row5\" class=\"row_heading level0 row5\" >50%</th>\n",
       "                        <td id=\"T_64486c2c_7841_11eb_bfcc_02420a39b934row5_col0\" class=\"data row5 col0\" >986.49</td>\n",
       "            </tr>\n",
       "            <tr>\n",
       "                        <th id=\"T_64486c2c_7841_11eb_bfcc_02420a39b934level0_row6\" class=\"row_heading level0 row6\" >75%</th>\n",
       "                        <td id=\"T_64486c2c_7841_11eb_bfcc_02420a39b934row6_col0\" class=\"data row6 col0\" >1701.56</td>\n",
       "            </tr>\n",
       "            <tr>\n",
       "                        <th id=\"T_64486c2c_7841_11eb_bfcc_02420a39b934level0_row7\" class=\"row_heading level0 row7\" >max</th>\n",
       "                        <td id=\"T_64486c2c_7841_11eb_bfcc_02420a39b934row7_col0\" class=\"data row7 col0\" >6765.02</td>\n",
       "            </tr>\n",
       "    </tbody></table>"
      ],
      "text/plain": [
       "<pandas.io.formats.style.Styler at 0x7fb0c88bfed0>"
      ]
     },
     "metadata": {},
     "output_type": "display_data"
    },
    {
     "name": "stdout",
     "output_type": "stream",
     "text": [
      "Характеристики распределения ежемесячной выручки по тарифу \"Ultra\":\n"
     ]
    },
    {
     "data": {
      "text/html": [
       "<style  type=\"text/css\" >\n",
       "</style><table id=\"T_644a4b82_7841_11eb_bfcc_02420a39b934\" ><thead>    <tr>        <th class=\"blank level0\" ></th>        <th class=\"col_heading level0 col0\" >revenue_month</th>    </tr></thead><tbody>\n",
       "                <tr>\n",
       "                        <th id=\"T_644a4b82_7841_11eb_bfcc_02420a39b934level0_row0\" class=\"row_heading level0 row0\" >count</th>\n",
       "                        <td id=\"T_644a4b82_7841_11eb_bfcc_02420a39b934row0_col0\" class=\"data row0 col0\" >985.00</td>\n",
       "            </tr>\n",
       "            <tr>\n",
       "                        <th id=\"T_644a4b82_7841_11eb_bfcc_02420a39b934level0_row1\" class=\"row_heading level0 row1\" >mean</th>\n",
       "                        <td id=\"T_644a4b82_7841_11eb_bfcc_02420a39b934row1_col0\" class=\"data row1 col0\" >2060.53</td>\n",
       "            </tr>\n",
       "            <tr>\n",
       "                        <th id=\"T_644a4b82_7841_11eb_bfcc_02420a39b934level0_row2\" class=\"row_heading level0 row2\" >std</th>\n",
       "                        <td id=\"T_644a4b82_7841_11eb_bfcc_02420a39b934row2_col0\" class=\"data row2 col0\" >356.31</td>\n",
       "            </tr>\n",
       "            <tr>\n",
       "                        <th id=\"T_644a4b82_7841_11eb_bfcc_02420a39b934level0_row3\" class=\"row_heading level0 row3\" >min</th>\n",
       "                        <td id=\"T_644a4b82_7841_11eb_bfcc_02420a39b934row3_col0\" class=\"data row3 col0\" >1950.00</td>\n",
       "            </tr>\n",
       "            <tr>\n",
       "                        <th id=\"T_644a4b82_7841_11eb_bfcc_02420a39b934level0_row4\" class=\"row_heading level0 row4\" >25%</th>\n",
       "                        <td id=\"T_644a4b82_7841_11eb_bfcc_02420a39b934row4_col0\" class=\"data row4 col0\" >1950.00</td>\n",
       "            </tr>\n",
       "            <tr>\n",
       "                        <th id=\"T_644a4b82_7841_11eb_bfcc_02420a39b934level0_row5\" class=\"row_heading level0 row5\" >50%</th>\n",
       "                        <td id=\"T_644a4b82_7841_11eb_bfcc_02420a39b934row5_col0\" class=\"data row5 col0\" >1950.00</td>\n",
       "            </tr>\n",
       "            <tr>\n",
       "                        <th id=\"T_644a4b82_7841_11eb_bfcc_02420a39b934level0_row6\" class=\"row_heading level0 row6\" >75%</th>\n",
       "                        <td id=\"T_644a4b82_7841_11eb_bfcc_02420a39b934row6_col0\" class=\"data row6 col0\" >1950.00</td>\n",
       "            </tr>\n",
       "            <tr>\n",
       "                        <th id=\"T_644a4b82_7841_11eb_bfcc_02420a39b934level0_row7\" class=\"row_heading level0 row7\" >max</th>\n",
       "                        <td id=\"T_644a4b82_7841_11eb_bfcc_02420a39b934row7_col0\" class=\"data row7 col0\" >4743.31</td>\n",
       "            </tr>\n",
       "    </tbody></table>"
      ],
      "text/plain": [
       "<pandas.io.formats.style.Styler at 0x7fb0c873cdd0>"
      ]
     },
     "metadata": {},
     "output_type": "display_data"
    }
   ],
   "source": [
    "print('Характеристики распределения ежемесячной выручки по тарифу \"Smart\":')\n",
    "display(data_smart[['revenue_month']].describe().style.format('{:.2f}'))\n",
    "print('Характеристики распределения ежемесячной выручки по тарифу \"Ultra\":')\n",
    "display(data_ultra[['revenue_month']].describe().style.format('{:.2f}'))"
   ]
  },
  {
   "cell_type": "markdown",
   "metadata": {
    "id": "Aa_GEoKfD6kf"
   },
   "source": [
    "Построим гистограммы распределения выручки по тарифам."
   ]
  },
  {
   "cell_type": "code",
   "execution_count": 21,
   "metadata": {
    "colab": {
     "base_uri": "https://localhost:8080/",
     "height": 410
    },
    "id": "mMJvsIu5Cazc",
    "outputId": "68edb24e-dafa-45df-ffe7-5fff31a3e455"
   },
   "outputs": [
    {
     "data": {
      "image/png": "[encoded data removed]",
      "text/plain": [
       "<Figure size 720x432 with 1 Axes>"
      ]
     },
     "metadata": {},
     "output_type": "display_data"
    }
   ],
   "source": [
    "sns.set()\n",
    "fig, ax = plt.subplots()\n",
    "fig.set_size_inches(10, 6)\n",
    "for tariff in ['smart', 'ultra']:\n",
    "  ax = sns.distplot(data.query('tariff == @tariff')['revenue_month'], label = tariff)\n",
    "ax.set(title = \"Распределение выручки по тарифам\",\n",
    "      xlabel = \"Ежемесячная выручка с пользователя, руб\",\n",
    "      ylabel = \"Плотность вероятности\")\n",
    "      \n",
    "ax.legend()\n",
    "plt.show()"
   ]
  },
  {
   "cell_type": "markdown",
   "metadata": {
    "id": "S0Pov4RKEBC6"
   },
   "source": [
    "График наглядно показывает, что выручка подчиняется экспоненциальному распределению. Пик в обоих случаях - выручка, равная абонентской плате. Меньше сумма быть не может. Количество пользователей, превышающих лимит по включенным ресурсам - больше половины на тарифе \"Smart\" и меньше 25% на тарифе \"Ultra\"."
   ]
  },
  {
   "cell_type": "markdown",
   "metadata": {
    "id": "EmLxv5G9Gefh"
   },
   "source": [
    "Проверим гипотезу H0 о том, что средняя выручка по тарифу \"Smart\" и \"Ultra\" в двух соответствующих генеральных совокупностях одинакова. \n",
    "\n",
    "Для начала проведём тест Левене о равенстве дисперсий двух выборок/совокупностей (мы предполагаем, что наши данные неоднородны и содержат выбросы, поэтому используем именно этот тест). <a id=\"Hyp1\"></a>"
   ]
  },
  {
   "cell_type": "code",
   "execution_count": 22,
   "metadata": {},
   "outputs": [
    {
     "name": "stdout",
     "output_type": "stream",
     "text": [
      "5.212050107656611e-119\n",
      "Отвергаем нулевую гипотезу\n"
     ]
    }
   ],
   "source": [
    "a = data_smart['revenue_month']\n",
    "b = data_ultra['revenue_month']\n",
    "alpha = 0.05\n",
    "stat, p = levene(a, b)\n",
    "print(p)\n",
    "if (p < alpha):\n",
    "    print(\"Отвергаем нулевую гипотезу\")\n",
    "else:\n",
    "    print(\"Не получилось отвергнуть нулевую гипотезу\")"
   ]
  },
  {
   "cell_type": "markdown",
   "metadata": {},
   "source": [
    "Итак, тест Левене показал, что нужно принять альтернативную гипотезу: дисперсии совокупностей различаются. Учтем это при проведении Т-теста ниже."
   ]
  },
  {
   "cell_type": "code",
   "execution_count": 23,
   "metadata": {
    "colab": {
     "base_uri": "https://localhost:8080/"
    },
    "id": "A4GwdehCKoe5",
    "outputId": "b30be3e0-ba07-403a-c35c-b9e5aaf9b0fa"
   },
   "outputs": [
    {
     "name": "stdout",
     "output_type": "stream",
     "text": [
      "p-значение: 3.0842599087855415e-282\n",
      "Отвергаем нулевую гипотезу\n"
     ]
    }
   ],
   "source": [
    "alpha = 0.05\n",
    "results = st.ttest_ind(\n",
    "    data_smart['revenue_month'], \n",
    "    data_ultra['revenue_month'],\n",
    "    equal_var = False)\n",
    "print('p-значение:', results.pvalue)\n",
    " \n",
    "if (results.pvalue < alpha):\n",
    "    print(\"Отвергаем нулевую гипотезу\")\n",
    "else:\n",
    "    print(\"Не получилось отвергнуть нулевую гипотезу\")"
   ]
  },
  {
   "cell_type": "markdown",
   "metadata": {},
   "source": [
    "<div class=\"alert alert-success\">\n",
    "<h2> Комментарий ревьюера <a class=\"tocSkip\"> </h2>\n",
    "\n",
    "Ты сравниваешь равенство дисперсий по стандартному отклонению? Это круто) Для этого кстати можно провести предварительный статистический тест на равенство дисперсий [тестом Левене](https://docs.scipy.org/doc/scipy/reference/generated/scipy.stats.levene.html) (там в конце есть неплохой пример) или [тестом Барлетта](https://docs.scipy.org/doc/scipy/reference/generated/scipy.stats.bartlett.html). В чем разница в тестах, думаю ты разберешься 🙂\n",
    "\n",
    "</div>"
   ]
  },
  {
   "cell_type": "markdown",
   "metadata": {},
   "source": [
    "<div class=\"alert alert-success\"> \n",
    "    Спасибо, сделано!"
   ]
  },
  {
   "cell_type": "markdown",
   "metadata": {},
   "source": [
    "<div class=\"alert alert-success\">\n",
    "<h2> Комментарий ревьюера v2 <a class=\"tocSkip\"> </h2>\n",
    "\n",
    "Отличная реализация!"
   ]
  },
  {
   "cell_type": "markdown",
   "metadata": {
    "id": "CmhAdDbZK6Pa"
   },
   "source": [
    "Уровень значимости статистики разности средних наших показателей (**p-value**) исчезающе мал, поэтому принимаем альтернативную гипотезу: с высокой вероятностью средняя выручка по тарифам отличается, как и в нашей выборке."
   ]
  },
  {
   "cell_type": "code",
   "execution_count": 24,
   "metadata": {
    "colab": {
     "base_uri": "https://localhost:8080/"
    },
    "id": "W0QWQf0pNJkX",
    "outputId": "3ab76e78-6dfd-4de8-b494-bb46989aa855"
   },
   "outputs": [
    {
     "name": "stdout",
     "output_type": "stream",
     "text": [
      "Средняя выручка с пользователя по тарифу \"Smart\" 1250.33 рублей.\n",
      "Средняя выручка с пользователя по тарифу \"Ultra\" 2060.53 рублей.\n"
     ]
    }
   ],
   "source": [
    "print('Средняя выручка с пользователя по тарифу \"Smart\" {:.2f} рублей.'.format(data_smart['revenue_month'].mean()))\n",
    "print('Средняя выручка с пользователя по тарифу \"Ultra\" {:.2f} рублей.'.format(data_ultra['revenue_month'].mean()))"
   ]
  },
  {
   "cell_type": "markdown",
   "metadata": {
    "id": "r1LKGzNoOEfe"
   },
   "source": [
    "Такой результат позволяет рекомендовать сотовому оператору провести рекламную кампанию в пользу тарифа \"Ultra\": увеличение его доли среди всех пользователей поднимет среднюю выручку."
   ]
  },
  {
   "cell_type": "markdown",
   "metadata": {
    "id": "3vhV7btiOedF"
   },
   "source": [
    "Проверим еще одну гипотезу: выручка по тарифам не зависит от города проживания абонента (одинакова в Москве и регионах). <a id=\"hyp2\"></a>"
   ]
  },
  {
   "cell_type": "code",
   "execution_count": 25,
   "metadata": {
    "colab": {
     "base_uri": "https://localhost:8080/"
    },
    "id": "PFtWNQ5ROpmC",
    "outputId": "c752cf33-1813-4a11-f4a1-67605b2b3f32"
   },
   "outputs": [
    {
     "data": {
      "text/plain": [
       "array(['Регионы', 'Москва'], dtype=object)"
      ]
     },
     "execution_count": 25,
     "metadata": {},
     "output_type": "execute_result"
    }
   ],
   "source": [
    "#Формируем столбец с разбивкой Москва/регионы:\n",
    "data['moscow_regions'] = (data['city'] == 'Москва')\n",
    "data.loc[data['moscow_regions'] == True, 'moscow_regions'] = 'Москва'\n",
    "data.loc[data['moscow_regions'] == False, 'moscow_regions'] = 'Регионы'\n",
    "data['moscow_regions'].unique()"
   ]
  },
  {
   "cell_type": "markdown",
   "metadata": {},
   "source": [
    "<div class=\"alert alert-success\">\n",
    "<h2> Комментарий ревьюера <a class=\"tocSkip\"> </h2>\n",
    "\n",
    "По поводу библиотеки, ты можешь обновить версию прописав `!pip3 install --upgrade --user seaborn`. После того, как библиотека успешно обновиться нужно перезапустить kernel (через `Kernel - Restart & Run All`)"
   ]
  },
  {
   "cell_type": "code",
   "execution_count": 26,
   "metadata": {
    "colab": {
     "base_uri": "https://localhost:8080/",
     "height": 365
    },
    "id": "kGyknGmERuIa",
    "outputId": "0f6bda35-3ee4-4d9a-ceff-97b77e8e81b0"
   },
   "outputs": [
    {
     "data": {
      "image/png": "[encoded data removed]",
      "text/plain": [
       "<Figure size 1152x360 with 2 Axes>"
      ]
     },
     "metadata": {},
     "output_type": "display_data"
    }
   ],
   "source": [
    "#Строим гистограмму распределения выручки по заданному критерию:\n",
    "#Примечание: в тренажере, видимо, не установлен последний seaborn, нужный график не отображается. Выведу другой.\n",
    "#sns.displot(data=data.sort_values(by = 'tariff'),\n",
    "#            x='revenue_month',\n",
    "#            hue='tariff',\n",
    "#            col='moscow_regions',\n",
    "#            bins=30,\n",
    "#            kde=True)\n",
    "#plt.show()\n",
    "\n",
    "sns.set()\n",
    "fig,axes=plt.subplots(1,2)\n",
    "for regions in ['Москва', 'Регионы']:\n",
    "  ax = sns.distplot(data.query('tariff == \"smart\" and moscow_regions == @regions')['revenue_month'], label = regions, ax = axes[0])\n",
    "  ax1 = sns.distplot(data.query('tariff == \"ultra\"and moscow_regions == @regions')['revenue_month'], label = regions, ax = axes[1])\n",
    "\n",
    "ax.set(title = \"Распределение выручки по тарифу Smart\",\n",
    "      xlabel = \"Выручка по пользователям, руб\",\n",
    "      ylabel = \"Плотность вероятности\")\n",
    "ax1.set(title = \"Распределение выручки по тарифу Ultra\",\n",
    "      xlabel = \"Выручка по пользователям, руб\",\n",
    "      ylabel = \"Плотность вероятности\")\n",
    "      \n",
    "ax.legend()\n",
    "ax1.legend()\n",
    "plt.show()"
   ]
  },
  {
   "cell_type": "code",
   "execution_count": 27,
   "metadata": {
    "colab": {
     "base_uri": "https://localhost:8080/",
     "height": 839
    },
    "id": "xbj8MEgxTA7f",
    "outputId": "ac07f14a-3d44-48ef-c354-1ec55009487f"
   },
   "outputs": [
    {
     "name": "stdout",
     "output_type": "stream",
     "text": [
      "Характеристики распределения ежемесячной выручки по тарифу \"Smart\" в Москве:\n"
     ]
    },
    {
     "data": {
      "text/html": [
       "<style  type=\"text/css\" >\n",
       "</style><table id=\"T_65873384_7841_11eb_bfcc_02420a39b934\" ><thead>    <tr>        <th class=\"blank level0\" ></th>        <th class=\"col_heading level0 col0\" >revenue_month</th>    </tr></thead><tbody>\n",
       "                <tr>\n",
       "                        <th id=\"T_65873384_7841_11eb_bfcc_02420a39b934level0_row0\" class=\"row_heading level0 row0\" >count</th>\n",
       "                        <td id=\"T_65873384_7841_11eb_bfcc_02420a39b934row0_col0\" class=\"data row0 col0\" >386.00</td>\n",
       "            </tr>\n",
       "            <tr>\n",
       "                        <th id=\"T_65873384_7841_11eb_bfcc_02420a39b934level0_row1\" class=\"row_heading level0 row1\" >mean</th>\n",
       "                        <td id=\"T_65873384_7841_11eb_bfcc_02420a39b934row1_col0\" class=\"data row1 col0\" >1198.43</td>\n",
       "            </tr>\n",
       "            <tr>\n",
       "                        <th id=\"T_65873384_7841_11eb_bfcc_02420a39b934level0_row2\" class=\"row_heading level0 row2\" >std</th>\n",
       "                        <td id=\"T_65873384_7841_11eb_bfcc_02420a39b934row2_col0\" class=\"data row2 col0\" >727.73</td>\n",
       "            </tr>\n",
       "            <tr>\n",
       "                        <th id=\"T_65873384_7841_11eb_bfcc_02420a39b934level0_row3\" class=\"row_heading level0 row3\" >min</th>\n",
       "                        <td id=\"T_65873384_7841_11eb_bfcc_02420a39b934row3_col0\" class=\"data row3 col0\" >550.00</td>\n",
       "            </tr>\n",
       "            <tr>\n",
       "                        <th id=\"T_65873384_7841_11eb_bfcc_02420a39b934level0_row4\" class=\"row_heading level0 row4\" >25%</th>\n",
       "                        <td id=\"T_65873384_7841_11eb_bfcc_02420a39b934row4_col0\" class=\"data row4 col0\" >550.00</td>\n",
       "            </tr>\n",
       "            <tr>\n",
       "                        <th id=\"T_65873384_7841_11eb_bfcc_02420a39b934level0_row5\" class=\"row_heading level0 row5\" >50%</th>\n",
       "                        <td id=\"T_65873384_7841_11eb_bfcc_02420a39b934row5_col0\" class=\"data row5 col0\" >979.55</td>\n",
       "            </tr>\n",
       "            <tr>\n",
       "                        <th id=\"T_65873384_7841_11eb_bfcc_02420a39b934level0_row6\" class=\"row_heading level0 row6\" >75%</th>\n",
       "                        <td id=\"T_65873384_7841_11eb_bfcc_02420a39b934row6_col0\" class=\"data row6 col0\" >1624.09</td>\n",
       "            </tr>\n",
       "            <tr>\n",
       "                        <th id=\"T_65873384_7841_11eb_bfcc_02420a39b934level0_row7\" class=\"row_heading level0 row7\" >max</th>\n",
       "                        <td id=\"T_65873384_7841_11eb_bfcc_02420a39b934row7_col0\" class=\"data row7 col0\" >5222.43</td>\n",
       "            </tr>\n",
       "    </tbody></table>"
      ],
      "text/plain": [
       "<pandas.io.formats.style.Styler at 0x7fb0417c7590>"
      ]
     },
     "metadata": {},
     "output_type": "display_data"
    },
    {
     "name": "stdout",
     "output_type": "stream",
     "text": [
      "Характеристики распределения ежемесячной выручки по тарифу \"Smart\" в регионах:\n"
     ]
    },
    {
     "data": {
      "text/html": [
       "<style  type=\"text/css\" >\n",
       "</style><table id=\"T_65890e2a_7841_11eb_bfcc_02420a39b934\" ><thead>    <tr>        <th class=\"blank level0\" ></th>        <th class=\"col_heading level0 col0\" >revenue_month</th>    </tr></thead><tbody>\n",
       "                <tr>\n",
       "                        <th id=\"T_65890e2a_7841_11eb_bfcc_02420a39b934level0_row0\" class=\"row_heading level0 row0\" >count</th>\n",
       "                        <td id=\"T_65890e2a_7841_11eb_bfcc_02420a39b934row0_col0\" class=\"data row0 col0\" >1843.00</td>\n",
       "            </tr>\n",
       "            <tr>\n",
       "                        <th id=\"T_65890e2a_7841_11eb_bfcc_02420a39b934level0_row1\" class=\"row_heading level0 row1\" >mean</th>\n",
       "                        <td id=\"T_65890e2a_7841_11eb_bfcc_02420a39b934row1_col0\" class=\"data row1 col0\" >1261.19</td>\n",
       "            </tr>\n",
       "            <tr>\n",
       "                        <th id=\"T_65890e2a_7841_11eb_bfcc_02420a39b934level0_row2\" class=\"row_heading level0 row2\" >std</th>\n",
       "                        <td id=\"T_65890e2a_7841_11eb_bfcc_02420a39b934row2_col0\" class=\"data row2 col0\" >810.56</td>\n",
       "            </tr>\n",
       "            <tr>\n",
       "                        <th id=\"T_65890e2a_7841_11eb_bfcc_02420a39b934level0_row3\" class=\"row_heading level0 row3\" >min</th>\n",
       "                        <td id=\"T_65890e2a_7841_11eb_bfcc_02420a39b934row3_col0\" class=\"data row3 col0\" >550.00</td>\n",
       "            </tr>\n",
       "            <tr>\n",
       "                        <th id=\"T_65890e2a_7841_11eb_bfcc_02420a39b934level0_row4\" class=\"row_heading level0 row4\" >25%</th>\n",
       "                        <td id=\"T_65890e2a_7841_11eb_bfcc_02420a39b934row4_col0\" class=\"data row4 col0\" >556.42</td>\n",
       "            </tr>\n",
       "            <tr>\n",
       "                        <th id=\"T_65890e2a_7841_11eb_bfcc_02420a39b934level0_row5\" class=\"row_heading level0 row5\" >50%</th>\n",
       "                        <td id=\"T_65890e2a_7841_11eb_bfcc_02420a39b934row5_col0\" class=\"data row5 col0\" >988.16</td>\n",
       "            </tr>\n",
       "            <tr>\n",
       "                        <th id=\"T_65890e2a_7841_11eb_bfcc_02420a39b934level0_row6\" class=\"row_heading level0 row6\" >75%</th>\n",
       "                        <td id=\"T_65890e2a_7841_11eb_bfcc_02420a39b934row6_col0\" class=\"data row6 col0\" >1723.54</td>\n",
       "            </tr>\n",
       "            <tr>\n",
       "                        <th id=\"T_65890e2a_7841_11eb_bfcc_02420a39b934level0_row7\" class=\"row_heading level0 row7\" >max</th>\n",
       "                        <td id=\"T_65890e2a_7841_11eb_bfcc_02420a39b934row7_col0\" class=\"data row7 col0\" >6765.02</td>\n",
       "            </tr>\n",
       "    </tbody></table>"
      ],
      "text/plain": [
       "<pandas.io.formats.style.Styler at 0x7fb0c84eee50>"
      ]
     },
     "metadata": {},
     "output_type": "display_data"
    },
    {
     "name": "stdout",
     "output_type": "stream",
     "text": [
      "Характеристики распределения ежемесячной выручки по тарифу \"Ultra\" в Москве:\n"
     ]
    },
    {
     "data": {
      "text/html": [
       "<style  type=\"text/css\" >\n",
       "</style><table id=\"T_658befe6_7841_11eb_bfcc_02420a39b934\" ><thead>    <tr>        <th class=\"blank level0\" ></th>        <th class=\"col_heading level0 col0\" >revenue_month</th>    </tr></thead><tbody>\n",
       "                <tr>\n",
       "                        <th id=\"T_658befe6_7841_11eb_bfcc_02420a39b934level0_row0\" class=\"row_heading level0 row0\" >count</th>\n",
       "                        <td id=\"T_658befe6_7841_11eb_bfcc_02420a39b934row0_col0\" class=\"data row0 col0\" >225.00</td>\n",
       "            </tr>\n",
       "            <tr>\n",
       "                        <th id=\"T_658befe6_7841_11eb_bfcc_02420a39b934level0_row1\" class=\"row_heading level0 row1\" >mean</th>\n",
       "                        <td id=\"T_658befe6_7841_11eb_bfcc_02420a39b934row1_col0\" class=\"data row1 col0\" >2063.63</td>\n",
       "            </tr>\n",
       "            <tr>\n",
       "                        <th id=\"T_658befe6_7841_11eb_bfcc_02420a39b934level0_row2\" class=\"row_heading level0 row2\" >std</th>\n",
       "                        <td id=\"T_658befe6_7841_11eb_bfcc_02420a39b934row2_col0\" class=\"data row2 col0\" >330.57</td>\n",
       "            </tr>\n",
       "            <tr>\n",
       "                        <th id=\"T_658befe6_7841_11eb_bfcc_02420a39b934level0_row3\" class=\"row_heading level0 row3\" >min</th>\n",
       "                        <td id=\"T_658befe6_7841_11eb_bfcc_02420a39b934row3_col0\" class=\"data row3 col0\" >1950.00</td>\n",
       "            </tr>\n",
       "            <tr>\n",
       "                        <th id=\"T_658befe6_7841_11eb_bfcc_02420a39b934level0_row4\" class=\"row_heading level0 row4\" >25%</th>\n",
       "                        <td id=\"T_658befe6_7841_11eb_bfcc_02420a39b934row4_col0\" class=\"data row4 col0\" >1950.00</td>\n",
       "            </tr>\n",
       "            <tr>\n",
       "                        <th id=\"T_658befe6_7841_11eb_bfcc_02420a39b934level0_row5\" class=\"row_heading level0 row5\" >50%</th>\n",
       "                        <td id=\"T_658befe6_7841_11eb_bfcc_02420a39b934row5_col0\" class=\"data row5 col0\" >1950.00</td>\n",
       "            </tr>\n",
       "            <tr>\n",
       "                        <th id=\"T_658befe6_7841_11eb_bfcc_02420a39b934level0_row6\" class=\"row_heading level0 row6\" >75%</th>\n",
       "                        <td id=\"T_658befe6_7841_11eb_bfcc_02420a39b934row6_col0\" class=\"data row6 col0\" >1950.00</td>\n",
       "            </tr>\n",
       "            <tr>\n",
       "                        <th id=\"T_658befe6_7841_11eb_bfcc_02420a39b934level0_row7\" class=\"row_heading level0 row7\" >max</th>\n",
       "                        <td id=\"T_658befe6_7841_11eb_bfcc_02420a39b934row7_col0\" class=\"data row7 col0\" >3945.26</td>\n",
       "            </tr>\n",
       "    </tbody></table>"
      ],
      "text/plain": [
       "<pandas.io.formats.style.Styler at 0x7fb0c8485f50>"
      ]
     },
     "metadata": {},
     "output_type": "display_data"
    },
    {
     "name": "stdout",
     "output_type": "stream",
     "text": [
      "Характеристики распределения ежемесячной выручки по тарифу \"Ultra\" в регионах:\n"
     ]
    },
    {
     "data": {
      "text/html": [
       "<style  type=\"text/css\" >\n",
       "</style><table id=\"T_658d8c7a_7841_11eb_bfcc_02420a39b934\" ><thead>    <tr>        <th class=\"blank level0\" ></th>        <th class=\"col_heading level0 col0\" >revenue_month</th>    </tr></thead><tbody>\n",
       "                <tr>\n",
       "                        <th id=\"T_658d8c7a_7841_11eb_bfcc_02420a39b934level0_row0\" class=\"row_heading level0 row0\" >count</th>\n",
       "                        <td id=\"T_658d8c7a_7841_11eb_bfcc_02420a39b934row0_col0\" class=\"data row0 col0\" >760.00</td>\n",
       "            </tr>\n",
       "            <tr>\n",
       "                        <th id=\"T_658d8c7a_7841_11eb_bfcc_02420a39b934level0_row1\" class=\"row_heading level0 row1\" >mean</th>\n",
       "                        <td id=\"T_658d8c7a_7841_11eb_bfcc_02420a39b934row1_col0\" class=\"data row1 col0\" >2059.61</td>\n",
       "            </tr>\n",
       "            <tr>\n",
       "                        <th id=\"T_658d8c7a_7841_11eb_bfcc_02420a39b934level0_row2\" class=\"row_heading level0 row2\" >std</th>\n",
       "                        <td id=\"T_658d8c7a_7841_11eb_bfcc_02420a39b934row2_col0\" class=\"data row2 col0\" >363.78</td>\n",
       "            </tr>\n",
       "            <tr>\n",
       "                        <th id=\"T_658d8c7a_7841_11eb_bfcc_02420a39b934level0_row3\" class=\"row_heading level0 row3\" >min</th>\n",
       "                        <td id=\"T_658d8c7a_7841_11eb_bfcc_02420a39b934row3_col0\" class=\"data row3 col0\" >1950.00</td>\n",
       "            </tr>\n",
       "            <tr>\n",
       "                        <th id=\"T_658d8c7a_7841_11eb_bfcc_02420a39b934level0_row4\" class=\"row_heading level0 row4\" >25%</th>\n",
       "                        <td id=\"T_658d8c7a_7841_11eb_bfcc_02420a39b934row4_col0\" class=\"data row4 col0\" >1950.00</td>\n",
       "            </tr>\n",
       "            <tr>\n",
       "                        <th id=\"T_658d8c7a_7841_11eb_bfcc_02420a39b934level0_row5\" class=\"row_heading level0 row5\" >50%</th>\n",
       "                        <td id=\"T_658d8c7a_7841_11eb_bfcc_02420a39b934row5_col0\" class=\"data row5 col0\" >1950.00</td>\n",
       "            </tr>\n",
       "            <tr>\n",
       "                        <th id=\"T_658d8c7a_7841_11eb_bfcc_02420a39b934level0_row6\" class=\"row_heading level0 row6\" >75%</th>\n",
       "                        <td id=\"T_658d8c7a_7841_11eb_bfcc_02420a39b934row6_col0\" class=\"data row6 col0\" >1950.00</td>\n",
       "            </tr>\n",
       "            <tr>\n",
       "                        <th id=\"T_658d8c7a_7841_11eb_bfcc_02420a39b934level0_row7\" class=\"row_heading level0 row7\" >max</th>\n",
       "                        <td id=\"T_658d8c7a_7841_11eb_bfcc_02420a39b934row7_col0\" class=\"data row7 col0\" >4743.31</td>\n",
       "            </tr>\n",
       "    </tbody></table>"
      ],
      "text/plain": [
       "<pandas.io.formats.style.Styler at 0x7fb0c895b050>"
      ]
     },
     "metadata": {},
     "output_type": "display_data"
    }
   ],
   "source": [
    "data_smart_moscow = data.query('tariff == \"smart\" and moscow_regions == \"Москва\"')\n",
    "data_smart_regions = data.query('tariff == \"smart\" and moscow_regions == \"Регионы\"')\n",
    "print('Характеристики распределения ежемесячной выручки по тарифу \"Smart\" в Москве:')\n",
    "display(data_smart_moscow[['revenue_month']].describe().style.format('{:.2f}'))\n",
    "print('Характеристики распределения ежемесячной выручки по тарифу \"Smart\" в регионах:')\n",
    "display(data_smart_regions[['revenue_month']].describe().style.format('{:.2f}'))\n",
    "\n",
    "data_ultra_moscow = data.query('tariff == \"ultra\" and moscow_regions == \"Москва\"')\n",
    "data_ultra_regions = data.query('tariff == \"ultra\" and moscow_regions == \"Регионы\"')\n",
    "print('Характеристики распределения ежемесячной выручки по тарифу \"Ultra\" в Москве:')\n",
    "display(data_ultra_moscow[['revenue_month']].describe().style.format('{:.2f}'))\n",
    "print('Характеристики распределения ежемесячной выручки по тарифу \"Ultra\" в регионах:')\n",
    "display(data_ultra_regions[['revenue_month']].describe().style.format('{:.2f}'))"
   ]
  },
  {
   "cell_type": "markdown",
   "metadata": {
    "id": "90IwquhHWA8h"
   },
   "source": [
    "По графикам и характеристикам распределения выручки по Москве и регионам можно увидеть:\n",
    "\n",
    "\n",
    "*   **Характер распределения выручки** по обоим тарифам в Москве и за её пределами **одинаков**;\n",
    "*   **Средняя выручка в регионах чуть выше**, чем аналогичный показатель по Москве.\n",
    "\n",
    "\n",
    "Проведем тест, чтобы отвергнуть/подтвердить нулевую гипотезу отдельно по каждому тарифу.\n"
   ]
  },
  {
   "cell_type": "markdown",
   "metadata": {},
   "source": [
    "Рассчитываем критерий Левене о равенстве дисперсий выручки по тарифу Smart в Москве/регионах. "
   ]
  },
  {
   "cell_type": "code",
   "execution_count": 28,
   "metadata": {},
   "outputs": [
    {
     "name": "stdout",
     "output_type": "stream",
     "text": [
      "0.11623734361911198\n",
      "Не получилось отвергнуть нулевую гипотезу\n"
     ]
    }
   ],
   "source": [
    "m_s = data_smart_moscow['revenue_month']\n",
    "r_s = data_smart_regions['revenue_month']\n",
    "\n",
    "stat, p = levene(m_s, r_s)\n",
    "\n",
    "print(p)\n",
    "if (p < alpha):\n",
    "    print(\"Отвергаем нулевую гипотезу\")\n",
    "else:\n",
    "    print(\"Не получилось отвергнуть нулевую гипотезу\")"
   ]
  },
  {
   "cell_type": "markdown",
   "metadata": {},
   "source": [
    "Принимаем нулевую гипотезу о равенстве дисперсий выручки, отразим это в параметре equal_var ниже при проведении Т-теста."
   ]
  },
  {
   "cell_type": "code",
   "execution_count": 29,
   "metadata": {
    "colab": {
     "base_uri": "https://localhost:8080/"
    },
    "id": "aLrqtcLwWuY-",
    "outputId": "703d14a1-fd7e-4ec2-d21c-4a14461388c3"
   },
   "outputs": [
    {
     "name": "stdout",
     "output_type": "stream",
     "text": [
      "p-значение: 0.15952707795729637\n",
      "Не получилось отвергнуть нулевую гипотезу\n"
     ]
    }
   ],
   "source": [
    "#Проверяем гипотезу о равенстве выручки по тарифу Smart:\n",
    "alpha = 0.05\n",
    "results = st.ttest_ind(\n",
    "    data_smart_moscow['revenue_month'], \n",
    "    data_smart_regions['revenue_month'],\n",
    "    equal_var = True)\n",
    "print('p-значение:', results.pvalue)\n",
    " \n",
    "if (results.pvalue < alpha):\n",
    "    print(\"Отвергаем нулевую гипотезу\")\n",
    "else:\n",
    "    print(\"Не получилось отвергнуть нулевую гипотезу\")"
   ]
  },
  {
   "cell_type": "markdown",
   "metadata": {
    "id": "RdUI4ByeXxeL"
   },
   "source": [
    "Вероятность ошибки при отклонении нулевой гипотезы около 16%. При такой вероятности отвергнуть её не получится. Будем считать, что **выручка по тарифу \"Smart\" в Москве и регионах варьирует незначительно**. "
   ]
  },
  {
   "cell_type": "markdown",
   "metadata": {},
   "source": [
    "Теперь проверим такую же гипотезу по тарифу \"Ultra\".\n",
    "Проводим тест Левене на равенство дисперсий совокупности, чтобы сделать более точным Т-тест."
   ]
  },
  {
   "cell_type": "code",
   "execution_count": 30,
   "metadata": {},
   "outputs": [
    {
     "name": "stdout",
     "output_type": "stream",
     "text": [
      "0.88206811444585\n",
      "Не получилось отвергнуть нулевую гипотезу\n"
     ]
    }
   ],
   "source": [
    "m_u = data_ultra_moscow['revenue_month']\n",
    "r_u = data_ultra_regions['revenue_month']\n",
    "\n",
    "stat, p = levene(m_u, r_u)\n",
    "\n",
    "print(p)\n",
    "if (p < alpha):\n",
    "    print(\"Отвергаем нулевую гипотезу\")\n",
    "else:\n",
    "    print(\"Не получилось отвергнуть нулевую гипотезу\")"
   ]
  },
  {
   "cell_type": "markdown",
   "metadata": {},
   "source": [
    "Принимаем гипотезу: дисперсии выборок, как и совокупностей, равны. Отразим это в параметре equal_var при расчете ниже."
   ]
  },
  {
   "cell_type": "code",
   "execution_count": 31,
   "metadata": {
    "colab": {
     "base_uri": "https://localhost:8080/"
    },
    "id": "9duRlAIXX_iG",
    "outputId": "96720853-8230-4253-e112-50c8ebed79c1"
   },
   "outputs": [
    {
     "name": "stdout",
     "output_type": "stream",
     "text": [
      "p-значение: 0.8820681144458327\n",
      "Не получилось отвергнуть нулевую гипотезу\n"
     ]
    }
   ],
   "source": [
    "#Проверяем гипотезу о равенстве выручки по тарифу Ultra:\n",
    "alpha = 0.05\n",
    "results = st.ttest_ind(\n",
    "    data_ultra_moscow['revenue_month'], \n",
    "    data_ultra_regions['revenue_month'],\n",
    "    equal_var = True)\n",
    "print('p-значение:', results.pvalue)\n",
    " \n",
    "if (results.pvalue < alpha):\n",
    "    print(\"Отвергаем нулевую гипотезу\")\n",
    "else:\n",
    "    print(\"Не получилось отвергнуть нулевую гипотезу\")"
   ]
  },
  {
   "cell_type": "markdown",
   "metadata": {},
   "source": [
    "<div class=\"alert alert-danger\">\n",
    "<h2> Комментарий ревьюера <a class=\"tocSkip\"> </h2>\n",
    "\n",
    "Все супер, добавь еще проверку гипотезы с разбивкой Москва/неМосква, без деления по тарифам"
   ]
  },
  {
   "cell_type": "markdown",
   "metadata": {},
   "source": [
    "<div class=\"alert alert-success\">\n",
    "СДЕЛАНО! (НИЖЕ)"
   ]
  },
  {
   "cell_type": "markdown",
   "metadata": {
    "id": "Esg8bSbpZ2Yq"
   },
   "source": [
    "Вероятность ошибки при отклонении этой гипотезы - болльше 88%. То есть с высокой долей вероятности мы можем утверждать, что **по тарифу \"Ultra\" выручка будет одинаковой по всей стране** и будет примерно равна абонентской плате. Это подтверждает наша выборка - большинство абонентов укладывается в ежемесячные лимиты, установленные оператором."
   ]
  },
  {
   "cell_type": "markdown",
   "metadata": {},
   "source": [
    "Третьим этапом сравним выручку сотового оператора по локации абонентов без разбивки по тарифам.\n",
    "Нулевая гипотеза - выручка одинакова вне зависимости от региона."
   ]
  },
  {
   "cell_type": "markdown",
   "metadata": {},
   "source": [
    "Считаем характеристики распределения выручки по Москве и регионам."
   ]
  },
  {
   "cell_type": "code",
   "execution_count": 32,
   "metadata": {},
   "outputs": [
    {
     "name": "stdout",
     "output_type": "stream",
     "text": [
      "Характеристики распределения ежемесячной выручки оператора в Москве:\n"
     ]
    },
    {
     "data": {
      "text/html": [
       "<style  type=\"text/css\" >\n",
       "</style><table id=\"T_659edfac_7841_11eb_bfcc_02420a39b934\" ><thead>    <tr>        <th class=\"blank level0\" ></th>        <th class=\"col_heading level0 col0\" >revenue_month</th>    </tr></thead><tbody>\n",
       "                <tr>\n",
       "                        <th id=\"T_659edfac_7841_11eb_bfcc_02420a39b934level0_row0\" class=\"row_heading level0 row0\" >count</th>\n",
       "                        <td id=\"T_659edfac_7841_11eb_bfcc_02420a39b934row0_col0\" class=\"data row0 col0\" >611.00</td>\n",
       "            </tr>\n",
       "            <tr>\n",
       "                        <th id=\"T_659edfac_7841_11eb_bfcc_02420a39b934level0_row1\" class=\"row_heading level0 row1\" >mean</th>\n",
       "                        <td id=\"T_659edfac_7841_11eb_bfcc_02420a39b934row1_col0\" class=\"data row1 col0\" >1517.04</td>\n",
       "            </tr>\n",
       "            <tr>\n",
       "                        <th id=\"T_659edfac_7841_11eb_bfcc_02420a39b934level0_row2\" class=\"row_heading level0 row2\" >std</th>\n",
       "                        <td id=\"T_659edfac_7841_11eb_bfcc_02420a39b934row2_col0\" class=\"data row2 col0\" >740.82</td>\n",
       "            </tr>\n",
       "            <tr>\n",
       "                        <th id=\"T_659edfac_7841_11eb_bfcc_02420a39b934level0_row3\" class=\"row_heading level0 row3\" >min</th>\n",
       "                        <td id=\"T_659edfac_7841_11eb_bfcc_02420a39b934row3_col0\" class=\"data row3 col0\" >550.00</td>\n",
       "            </tr>\n",
       "            <tr>\n",
       "                        <th id=\"T_659edfac_7841_11eb_bfcc_02420a39b934level0_row4\" class=\"row_heading level0 row4\" >25%</th>\n",
       "                        <td id=\"T_659edfac_7841_11eb_bfcc_02420a39b934row4_col0\" class=\"data row4 col0\" >766.00</td>\n",
       "            </tr>\n",
       "            <tr>\n",
       "                        <th id=\"T_659edfac_7841_11eb_bfcc_02420a39b934level0_row5\" class=\"row_heading level0 row5\" >50%</th>\n",
       "                        <td id=\"T_659edfac_7841_11eb_bfcc_02420a39b934row5_col0\" class=\"data row5 col0\" >1730.27</td>\n",
       "            </tr>\n",
       "            <tr>\n",
       "                        <th id=\"T_659edfac_7841_11eb_bfcc_02420a39b934level0_row6\" class=\"row_heading level0 row6\" >75%</th>\n",
       "                        <td id=\"T_659edfac_7841_11eb_bfcc_02420a39b934row6_col0\" class=\"data row6 col0\" >1950.00</td>\n",
       "            </tr>\n",
       "            <tr>\n",
       "                        <th id=\"T_659edfac_7841_11eb_bfcc_02420a39b934level0_row7\" class=\"row_heading level0 row7\" >max</th>\n",
       "                        <td id=\"T_659edfac_7841_11eb_bfcc_02420a39b934row7_col0\" class=\"data row7 col0\" >5222.43</td>\n",
       "            </tr>\n",
       "    </tbody></table>"
      ],
      "text/plain": [
       "<pandas.io.formats.style.Styler at 0x7fb0c85a4390>"
      ]
     },
     "metadata": {},
     "output_type": "display_data"
    },
    {
     "name": "stdout",
     "output_type": "stream",
     "text": [
      "Характеристики распределения ежемесячной выручки оператора в регионах:\n"
     ]
    },
    {
     "data": {
      "text/html": [
       "<style  type=\"text/css\" >\n",
       "</style><table id=\"T_65a5ed7e_7841_11eb_bfcc_02420a39b934\" ><thead>    <tr>        <th class=\"blank level0\" ></th>        <th class=\"col_heading level0 col0\" >revenue_month</th>    </tr></thead><tbody>\n",
       "                <tr>\n",
       "                        <th id=\"T_65a5ed7e_7841_11eb_bfcc_02420a39b934level0_row0\" class=\"row_heading level0 row0\" >count</th>\n",
       "                        <td id=\"T_65a5ed7e_7841_11eb_bfcc_02420a39b934row0_col0\" class=\"data row0 col0\" >2603.00</td>\n",
       "            </tr>\n",
       "            <tr>\n",
       "                        <th id=\"T_65a5ed7e_7841_11eb_bfcc_02420a39b934level0_row1\" class=\"row_heading level0 row1\" >mean</th>\n",
       "                        <td id=\"T_65a5ed7e_7841_11eb_bfcc_02420a39b934row1_col0\" class=\"data row1 col0\" >1494.31</td>\n",
       "            </tr>\n",
       "            <tr>\n",
       "                        <th id=\"T_65a5ed7e_7841_11eb_bfcc_02420a39b934level0_row2\" class=\"row_heading level0 row2\" >std</th>\n",
       "                        <td id=\"T_65a5ed7e_7841_11eb_bfcc_02420a39b934row2_col0\" class=\"data row2 col0\" >797.21</td>\n",
       "            </tr>\n",
       "            <tr>\n",
       "                        <th id=\"T_65a5ed7e_7841_11eb_bfcc_02420a39b934level0_row3\" class=\"row_heading level0 row3\" >min</th>\n",
       "                        <td id=\"T_65a5ed7e_7841_11eb_bfcc_02420a39b934row3_col0\" class=\"data row3 col0\" >550.00</td>\n",
       "            </tr>\n",
       "            <tr>\n",
       "                        <th id=\"T_65a5ed7e_7841_11eb_bfcc_02420a39b934level0_row4\" class=\"row_heading level0 row4\" >25%</th>\n",
       "                        <td id=\"T_65a5ed7e_7841_11eb_bfcc_02420a39b934row4_col0\" class=\"data row4 col0\" >704.50</td>\n",
       "            </tr>\n",
       "            <tr>\n",
       "                        <th id=\"T_65a5ed7e_7841_11eb_bfcc_02420a39b934level0_row5\" class=\"row_heading level0 row5\" >50%</th>\n",
       "                        <td id=\"T_65a5ed7e_7841_11eb_bfcc_02420a39b934row5_col0\" class=\"data row5 col0\" >1544.34</td>\n",
       "            </tr>\n",
       "            <tr>\n",
       "                        <th id=\"T_65a5ed7e_7841_11eb_bfcc_02420a39b934level0_row6\" class=\"row_heading level0 row6\" >75%</th>\n",
       "                        <td id=\"T_65a5ed7e_7841_11eb_bfcc_02420a39b934row6_col0\" class=\"data row6 col0\" >1950.00</td>\n",
       "            </tr>\n",
       "            <tr>\n",
       "                        <th id=\"T_65a5ed7e_7841_11eb_bfcc_02420a39b934level0_row7\" class=\"row_heading level0 row7\" >max</th>\n",
       "                        <td id=\"T_65a5ed7e_7841_11eb_bfcc_02420a39b934row7_col0\" class=\"data row7 col0\" >6765.02</td>\n",
       "            </tr>\n",
       "    </tbody></table>"
      ],
      "text/plain": [
       "<pandas.io.formats.style.Styler at 0x7fb0c84c5890>"
      ]
     },
     "metadata": {},
     "output_type": "display_data"
    }
   ],
   "source": [
    "data_moscow = data.query('moscow_regions == \"Москва\"')\n",
    "data_regions = data.query('moscow_regions == \"Регионы\"')\n",
    "print('Характеристики распределения ежемесячной выручки оператора в Москве:')\n",
    "display(data_moscow[['revenue_month']].describe().style.format('{:.2f}'))\n",
    "print('Характеристики распределения ежемесячной выручки оператора в регионах:')\n",
    "display(data_regions[['revenue_month']].describe().style.format('{:.2f}'))\n"
   ]
  },
  {
   "cell_type": "markdown",
   "metadata": {},
   "source": [
    "Как и выше, проводим тест Левене на равенство дисперсий совокупности, чтобы сделать более точным Т-тест."
   ]
  },
  {
   "cell_type": "code",
   "execution_count": 33,
   "metadata": {},
   "outputs": [
    {
     "name": "stdout",
     "output_type": "stream",
     "text": [
      "0.017085270612544515\n",
      "Отвергаем нулевую гипотезу\n"
     ]
    }
   ],
   "source": [
    "m = data_moscow['revenue_month']\n",
    "r = data_regions['revenue_month']\n",
    "alpha = 0.05\n",
    "stat, p = levene(m,r)\n",
    "print(p)\n",
    "if (p < alpha):\n",
    "    print(\"Отвергаем нулевую гипотезу\")\n",
    "else:\n",
    "    print(\"Не получилось отвергнуть нулевую гипотезу\")"
   ]
  },
  {
   "cell_type": "markdown",
   "metadata": {},
   "source": [
    "Дисперсии выборок, как и совокупностей, не равны. Отразим это в параметре equal_var при расчете ниже."
   ]
  },
  {
   "cell_type": "code",
   "execution_count": 34,
   "metadata": {},
   "outputs": [
    {
     "name": "stdout",
     "output_type": "stream",
     "text": [
      "p-значение: 0.5014487809585113\n",
      "Не получилось отвергнуть нулевую гипотезу\n"
     ]
    }
   ],
   "source": [
    "#Проверяем гипотезу о равенстве выручки в целом по Москве/регионам:\n",
    "alpha = 0.05\n",
    "results = st.ttest_ind(\n",
    "    data_moscow['revenue_month'], \n",
    "    data_regions['revenue_month'],\n",
    "    equal_var = False)\n",
    "print('p-значение:', results.pvalue)\n",
    " \n",
    "if (results.pvalue < alpha):\n",
    "    print(\"Отвергаем нулевую гипотезу\")\n",
    "else:\n",
    "    print(\"Не получилось отвергнуть нулевую гипотезу\")"
   ]
  },
  {
   "cell_type": "markdown",
   "metadata": {},
   "source": [
    "<div class=\"alert alert-success\">\n",
    "<h2> Комментарий ревьюера v2 <a class=\"tocSkip\"> </h2>\n",
    "\n",
    "![](https://i.gifer.com/fy22.gif)"
   ]
  },
  {
   "cell_type": "markdown",
   "metadata": {},
   "source": [
    "Таким образом, вероятность ошибки при отклонении нулевой гипотезы около 50%. Или ошибёмся, или нет :). Принимаем, что выручка оператора не зависит от места проживания абонента. "
   ]
  },
  {
   "cell_type": "markdown",
   "metadata": {
    "id": "wYvGuSjya7DC"
   },
   "source": [
    "# 7. Выводы <a id=\"end\"></a>"
   ]
  },
  {
   "cell_type": "markdown",
   "metadata": {
    "id": "sd0I1lklbE1f"
   },
   "source": [
    "Проведя статистический анализ выборки из 500 абонентов сотового оператора, можем сделать следующие выводы:\n",
    "\n",
    "\n",
    "*   Основные различия между пользовательским поведением - **значительное увеличение потребления интернет-трафика на тарифе \"Ultra\"**. Длительность звонков и отправка сообщений значительно не различаются. \n",
    "*   **Пользователи тарифа \"Smart\" в половине случаев не укладываются в лимиты звонков и трафика**, но даже с учетом оплаты сверх лимита тратят в среднем меньше суммы абонентской платы тарифа \"Ultra\".\n",
    "*   **Тариф \"Ultra\" более выгоден для мобильного оператора**. Меньше 25% пользователей превышают лимиты, но средняя выручка выше за счет высокой абонентской платы. \n",
    "*   Возможно, маркетологам стоит поработать с характеристиками тарифа \"Ultra\", чтобы сделать его более привлекательным для потенциальных абонентов. \n",
    "*   В Москве доля клиентов с тарифом \"Ultra\" - 37%, в регионах - 29%. При этом **абоненты тарифа \"Smart\" из регионов в среднем приносят чуть больше выручки**, т.е. более интенсивно используют мобильную связь. На это тоже следует обратить внимание маркетологам при выборе таргет-группы для рекламы.\n",
    "*   За счёт того, что в Москве доля тарифа \"Ultra\" выше, чем в регионах, средняя выручка по этому городу чуть выше. Однако незначительно, что и показал тест на равенство суммарной выручки. Это еще один плюс в пользу предположения, что **в регионах больше потенциал для привлечения новых \"Ultra\"-клиентов**.\n",
    "\n",
    " "
   ]
  },
  {
   "cell_type": "markdown",
   "metadata": {},
   "source": [
    "<div style=\"border:solid purple 2px; padding: 20px\">\n",
    "\n",
    "Работа выполнена на очень высоком уровне, ты хорошо используешь собственные функции, отлично визуализируешь распределения, на каждом шаге аргументируешь свой выбор. Мне понравился твой очень вдумчивый подход к работе.\n",
    "\n",
    "Остались небольшие доработки:\n",
    "\n",
    "- В шаге 4 необходимо дополнить проверку 2 гипотезы\n",
    "\n",
    "Я уверен, ты легко справишься с доработками, жду твоих исправлений 😊\n",
    "\n",
    "<div>"
   ]
  },
  {
   "cell_type": "markdown",
   "metadata": {},
   "source": [
    "<div class=\"alert alert-success\">\n",
    "    СПАСИБО! ВСЁ УЧЛА. "
   ]
  },
  {
   "cell_type": "markdown",
   "metadata": {},
   "source": [
    "<div class=\"alert alert-success\">\n",
    "<h2> Комментарий ревьюера v2 <a class=\"tocSkip\"> </h2>\n",
    "\n",
    "Спасибо тебе Марина, за качественный проект. Такие работы проверять одно удовольствие! Работу я, конечно же, принимаю, и желаю удачи в последующих проектах. Надеюсь, мы еще встретимся)\n",
    "\n",
    "</div>"
   ]
  },
  {
   "cell_type": "code",
   "execution_count": null,
   "metadata": {},
   "outputs": [],
   "source": []
  }
 ],
 "metadata": {
  "colab": {
   "collapsed_sections": [
    "14uR6sCvYeMZ",
    "LEBg-ED-Yw58"
   ],
   "name": "Определение перспективного тарифа для телеком компании.ipynb",
   "provenance": []
  },
  "kernelspec": {
   "display_name": "Python 3",
   "language": "python",
   "name": "python3"
  },
  "language_info": {
   "codemirror_mode": {
    "name": "ipython",
    "version": 3
   },
   "file_extension": ".py",
   "mimetype": "text/x-python",
   "name": "python",
   "nbconvert_exporter": "python",
   "pygments_lexer": "ipython3",
   "version": "3.7.8"
  },
  "toc": {
   "base_numbering": 1,
   "nav_menu": {},
   "number_sections": true,
   "sideBar": true,
   "skip_h1_title": true,
   "title_cell": "Table of Contents",
   "title_sidebar": "Contents",
   "toc_cell": false,
   "toc_position": {},
   "toc_section_display": true,
   "toc_window_display": false
  }
 },
 "nbformat": 4,
 "nbformat_minor": 1
}
