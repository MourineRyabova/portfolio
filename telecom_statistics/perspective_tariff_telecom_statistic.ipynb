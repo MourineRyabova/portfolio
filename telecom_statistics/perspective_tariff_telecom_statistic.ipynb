{
  "nbformat": 4,
  "nbformat_minor": 0,
  "metadata": {
    "colab": {
      "name": "Определение перспективного тарифа для телеком-компании accepted (Статистический анализ данных).ipynb",
      "provenance": [],
      "collapsed_sections": [
        "14uR6sCvYeMZ",
        "LEBg-ED-Yw58"
      ]
    },
    "kernelspec": {
      "display_name": "Python 3",
      "language": "python",
      "name": "python3"
    },
    "language_info": {
      "codemirror_mode": {
        "name": "ipython",
        "version": 3
      },
      "file_extension": ".py",
      "mimetype": "text/x-python",
      "name": "python",
      "nbconvert_exporter": "python",
      "pygments_lexer": "ipython3",
      "version": "3.7.8"
    },
    "toc": {
      "base_numbering": 1,
      "nav_menu": {},
      "number_sections": true,
      "sideBar": true,
      "skip_h1_title": true,
      "title_cell": "Table of Contents",
      "title_sidebar": "Contents",
      "toc_cell": false,
      "toc_position": {},
      "toc_section_display": true,
      "toc_window_display": false
    }
  },
  "cells": [
    {
      "cell_type": "markdown",
      "metadata": {
        "id": "14uR6sCvYeMZ"
      },
      "source": [
        "# **Определение перспективного тарифа для телеком-компании** "
      ]
    },
    {
      "cell_type": "markdown",
      "metadata": {
        "id": "LEBg-ED-Yw58"
      },
      "source": [
        "# Оглавление\n",
        "1. [Цель проекта](#purpose)\n",
        "2. [Исходные данные](#data)\n",
        "3. [Предобработка данных](#preprocessing)\n",
        "    * [Объединение таблиц users и tariffs](#merging)\n",
        "    * [Округление длительности звонков и интернет-трафика по условиям тарифа, группировка данных по месяцам](#round)\n",
        "    * [Сведение всех данных в единый датасет](#merging_2)\n",
        "    * [Удаление пустых значений и изменение типа данных столбцов](#dropna)\n",
        "4. [Подготовка расчётных данных](#counting)\n",
        "    * [Расчёт ежемесячной выручки по пользователям](#month_revenue)\n",
        "    * [Промежуточные выводы](#concl)\n",
        "5. [Анализ данных](#analysis)\n",
        "    * [Доли тарифов в выборке](#pie)\n",
        "    * [Динамика соотношения тарифов по месяцам](#part_month)\n",
        "    * [Анализ характеристик распределения данных](#describe)\n",
        "    * [Гистограммы распределений](#hist)\n",
        "6. [Проверка гипотез (анализ выручки)](#revenue)\n",
        "    * [Анализ характеристик распределения выручки](#revenue_describe)\n",
        "    * [Проверка гипотезы о равенстве выручки по тарифам](#hyp1)\n",
        "    * [Проверка гипотезы равенства выручки в Москве и регионах](#hyp2)\n",
        "7. [Выводы](#end)"
      ]
    },
    {
      "cell_type": "markdown",
      "metadata": {
        "id": "hPARkq0eY_0T"
      },
      "source": [
        "# 1. Цель проекта <a id=\"purpose\"></a>\n",
        "\n",
        "\n"
      ]
    },
    {
      "cell_type": "markdown",
      "metadata": {
        "id": "0r9MA4akdrQd"
      },
      "source": [
        "По относительно небольшой выборке пользоваталей сотовой сети нужно определить более финансово интересный для компании тариф."
      ]
    },
    {
      "cell_type": "markdown",
      "metadata": {
        "id": "79C0GK-7bhsP"
      },
      "source": [
        "# 2. Исходные данные <a id=\"data\"></a>"
      ]
    },
    {
      "cell_type": "markdown",
      "metadata": {
        "id": "5MFm9qgFbrPC"
      },
      "source": [
        "Имеем массив данных с информацией о 500 пользователей телеком-компании и о том, какие тарифы сотовой связи они используют. В наличии несколько файлов:"
      ]
    },
    {
      "cell_type": "code",
      "metadata": {
        "id": "4hUx0t4wYXts"
      },
      "source": [
        "from scipy import stats as st\n",
        "import numpy as np\n",
        "import pandas as pd\n",
        "from glob import glob\n",
        "import matplotlib.pyplot as plt\n",
        "import seaborn as sns\n",
        "import warnings\n",
        "warnings.filterwarnings('ignore')\n",
        "from pylab import rcParams\n",
        "rcParams['figure.figsize'] = 16, 5\n",
        "from scipy.stats import levene\n",
        "from scipy.stats import bartlett"
      ],
      "execution_count": null,
      "outputs": []
    },
    {
      "cell_type": "code",
      "metadata": {
        "colab": {
          "base_uri": "https://localhost:8080/"
        },
        "id": "Mtj-lN6vWNJv",
        "outputId": "045c0fc9-18da-4c7f-eb2d-60200f513cab"
      },
      "source": [
        "from google.colab import drive\n",
        "drive.mount('/content/drive')"
      ],
      "execution_count": null,
      "outputs": [
        {
          "output_type": "stream",
          "text": [
            "Drive already mounted at /content/drive; to attempt to forcibly remount, call drive.mount(\"/content/drive\", force_remount=True).\n"
          ],
          "name": "stdout"
        }
      ]
    },
    {
      "cell_type": "code",
      "metadata": {
        "colab": {
          "base_uri": "https://localhost:8080/",
          "height": 1000
        },
        "id": "16QSYHu2WKsQ",
        "outputId": "6dad0424-99fe-4274-ce9b-0d54ef581c90"
      },
      "source": [
        "for filename in glob('/content/drive/MyDrive/Colab Notebooks/dataset_telecom/*'):\n",
        "  if filename.endswith('csv'): \n",
        "    filename = pd.read_csv(filename, engine = 'python')\n",
        "    display(filename.info()) \n",
        "    display(filename.head())"
      ],
      "execution_count": null,
      "outputs": [
        {
          "output_type": "stream",
          "text": [
            "<class 'pandas.core.frame.DataFrame'>\n",
            "RangeIndex: 202607 entries, 0 to 202606\n",
            "Data columns (total 4 columns):\n",
            " #   Column     Non-Null Count   Dtype  \n",
            "---  ------     --------------   -----  \n",
            " 0   id         202607 non-null  object \n",
            " 1   call_date  202607 non-null  object \n",
            " 2   duration   202607 non-null  float64\n",
            " 3   user_id    202607 non-null  int64  \n",
            "dtypes: float64(1), int64(1), object(2)\n",
            "memory usage: 6.2+ MB\n"
          ],
          "name": "stdout"
        },
        {
          "output_type": "display_data",
          "data": {
            "text/plain": [
              "None"
            ]
          },
          "metadata": {
            "tags": []
          }
        },
        {
          "output_type": "display_data",
          "data": {
            "text/html": [
              "<div>\n",
              "<style scoped>\n",
              "    .dataframe tbody tr th:only-of-type {\n",
              "        vertical-align: middle;\n",
              "    }\n",
              "\n",
              "    .dataframe tbody tr th {\n",
              "        vertical-align: top;\n",
              "    }\n",
              "\n",
              "    .dataframe thead th {\n",
              "        text-align: right;\n",
              "    }\n",
              "</style>\n",
              "<table border=\"1\" class=\"dataframe\">\n",
              "  <thead>\n",
              "    <tr style=\"text-align: right;\">\n",
              "      <th></th>\n",
              "      <th>id</th>\n",
              "      <th>call_date</th>\n",
              "      <th>duration</th>\n",
              "      <th>user_id</th>\n",
              "    </tr>\n",
              "  </thead>\n",
              "  <tbody>\n",
              "    <tr>\n",
              "      <th>0</th>\n",
              "      <td>1000_0</td>\n",
              "      <td>2018-07-25</td>\n",
              "      <td>0.00</td>\n",
              "      <td>1000</td>\n",
              "    </tr>\n",
              "    <tr>\n",
              "      <th>1</th>\n",
              "      <td>1000_1</td>\n",
              "      <td>2018-08-17</td>\n",
              "      <td>0.00</td>\n",
              "      <td>1000</td>\n",
              "    </tr>\n",
              "    <tr>\n",
              "      <th>2</th>\n",
              "      <td>1000_2</td>\n",
              "      <td>2018-06-11</td>\n",
              "      <td>2.85</td>\n",
              "      <td>1000</td>\n",
              "    </tr>\n",
              "    <tr>\n",
              "      <th>3</th>\n",
              "      <td>1000_3</td>\n",
              "      <td>2018-09-21</td>\n",
              "      <td>13.80</td>\n",
              "      <td>1000</td>\n",
              "    </tr>\n",
              "    <tr>\n",
              "      <th>4</th>\n",
              "      <td>1000_4</td>\n",
              "      <td>2018-12-15</td>\n",
              "      <td>5.18</td>\n",
              "      <td>1000</td>\n",
              "    </tr>\n",
              "  </tbody>\n",
              "</table>\n",
              "</div>"
            ],
            "text/plain": [
              "       id   call_date  duration  user_id\n",
              "0  1000_0  2018-07-25      0.00     1000\n",
              "1  1000_1  2018-08-17      0.00     1000\n",
              "2  1000_2  2018-06-11      2.85     1000\n",
              "3  1000_3  2018-09-21     13.80     1000\n",
              "4  1000_4  2018-12-15      5.18     1000"
            ]
          },
          "metadata": {
            "tags": []
          }
        },
        {
          "output_type": "stream",
          "text": [
            "<class 'pandas.core.frame.DataFrame'>\n",
            "RangeIndex: 149396 entries, 0 to 149395\n",
            "Data columns (total 5 columns):\n",
            " #   Column        Non-Null Count   Dtype  \n",
            "---  ------        --------------   -----  \n",
            " 0   Unnamed: 0    149396 non-null  int64  \n",
            " 1   id            149396 non-null  object \n",
            " 2   mb_used       149396 non-null  float64\n",
            " 3   session_date  149396 non-null  object \n",
            " 4   user_id       149396 non-null  int64  \n",
            "dtypes: float64(1), int64(2), object(2)\n",
            "memory usage: 5.7+ MB\n"
          ],
          "name": "stdout"
        },
        {
          "output_type": "display_data",
          "data": {
            "text/plain": [
              "None"
            ]
          },
          "metadata": {
            "tags": []
          }
        },
        {
          "output_type": "display_data",
          "data": {
            "text/html": [
              "<div>\n",
              "<style scoped>\n",
              "    .dataframe tbody tr th:only-of-type {\n",
              "        vertical-align: middle;\n",
              "    }\n",
              "\n",
              "    .dataframe tbody tr th {\n",
              "        vertical-align: top;\n",
              "    }\n",
              "\n",
              "    .dataframe thead th {\n",
              "        text-align: right;\n",
              "    }\n",
              "</style>\n",
              "<table border=\"1\" class=\"dataframe\">\n",
              "  <thead>\n",
              "    <tr style=\"text-align: right;\">\n",
              "      <th></th>\n",
              "      <th>Unnamed: 0</th>\n",
              "      <th>id</th>\n",
              "      <th>mb_used</th>\n",
              "      <th>session_date</th>\n",
              "      <th>user_id</th>\n",
              "    </tr>\n",
              "  </thead>\n",
              "  <tbody>\n",
              "    <tr>\n",
              "      <th>0</th>\n",
              "      <td>0</td>\n",
              "      <td>1000_0</td>\n",
              "      <td>112.95</td>\n",
              "      <td>2018-11-25</td>\n",
              "      <td>1000</td>\n",
              "    </tr>\n",
              "    <tr>\n",
              "      <th>1</th>\n",
              "      <td>1</td>\n",
              "      <td>1000_1</td>\n",
              "      <td>1052.81</td>\n",
              "      <td>2018-09-07</td>\n",
              "      <td>1000</td>\n",
              "    </tr>\n",
              "    <tr>\n",
              "      <th>2</th>\n",
              "      <td>2</td>\n",
              "      <td>1000_2</td>\n",
              "      <td>1197.26</td>\n",
              "      <td>2018-06-25</td>\n",
              "      <td>1000</td>\n",
              "    </tr>\n",
              "    <tr>\n",
              "      <th>3</th>\n",
              "      <td>3</td>\n",
              "      <td>1000_3</td>\n",
              "      <td>550.27</td>\n",
              "      <td>2018-08-22</td>\n",
              "      <td>1000</td>\n",
              "    </tr>\n",
              "    <tr>\n",
              "      <th>4</th>\n",
              "      <td>4</td>\n",
              "      <td>1000_4</td>\n",
              "      <td>302.56</td>\n",
              "      <td>2018-09-24</td>\n",
              "      <td>1000</td>\n",
              "    </tr>\n",
              "  </tbody>\n",
              "</table>\n",
              "</div>"
            ],
            "text/plain": [
              "   Unnamed: 0      id  mb_used session_date  user_id\n",
              "0           0  1000_0   112.95   2018-11-25     1000\n",
              "1           1  1000_1  1052.81   2018-09-07     1000\n",
              "2           2  1000_2  1197.26   2018-06-25     1000\n",
              "3           3  1000_3   550.27   2018-08-22     1000\n",
              "4           4  1000_4   302.56   2018-09-24     1000"
            ]
          },
          "metadata": {
            "tags": []
          }
        },
        {
          "output_type": "stream",
          "text": [
            "<class 'pandas.core.frame.DataFrame'>\n",
            "RangeIndex: 123036 entries, 0 to 123035\n",
            "Data columns (total 3 columns):\n",
            " #   Column        Non-Null Count   Dtype \n",
            "---  ------        --------------   ----- \n",
            " 0   id            123036 non-null  object\n",
            " 1   message_date  123036 non-null  object\n",
            " 2   user_id       123036 non-null  int64 \n",
            "dtypes: int64(1), object(2)\n",
            "memory usage: 2.8+ MB\n"
          ],
          "name": "stdout"
        },
        {
          "output_type": "display_data",
          "data": {
            "text/plain": [
              "None"
            ]
          },
          "metadata": {
            "tags": []
          }
        },
        {
          "output_type": "display_data",
          "data": {
            "text/html": [
              "<div>\n",
              "<style scoped>\n",
              "    .dataframe tbody tr th:only-of-type {\n",
              "        vertical-align: middle;\n",
              "    }\n",
              "\n",
              "    .dataframe tbody tr th {\n",
              "        vertical-align: top;\n",
              "    }\n",
              "\n",
              "    .dataframe thead th {\n",
              "        text-align: right;\n",
              "    }\n",
              "</style>\n",
              "<table border=\"1\" class=\"dataframe\">\n",
              "  <thead>\n",
              "    <tr style=\"text-align: right;\">\n",
              "      <th></th>\n",
              "      <th>id</th>\n",
              "      <th>message_date</th>\n",
              "      <th>user_id</th>\n",
              "    </tr>\n",
              "  </thead>\n",
              "  <tbody>\n",
              "    <tr>\n",
              "      <th>0</th>\n",
              "      <td>1000_0</td>\n",
              "      <td>2018-06-27</td>\n",
              "      <td>1000</td>\n",
              "    </tr>\n",
              "    <tr>\n",
              "      <th>1</th>\n",
              "      <td>1000_1</td>\n",
              "      <td>2018-10-08</td>\n",
              "      <td>1000</td>\n",
              "    </tr>\n",
              "    <tr>\n",
              "      <th>2</th>\n",
              "      <td>1000_2</td>\n",
              "      <td>2018-08-04</td>\n",
              "      <td>1000</td>\n",
              "    </tr>\n",
              "    <tr>\n",
              "      <th>3</th>\n",
              "      <td>1000_3</td>\n",
              "      <td>2018-06-16</td>\n",
              "      <td>1000</td>\n",
              "    </tr>\n",
              "    <tr>\n",
              "      <th>4</th>\n",
              "      <td>1000_4</td>\n",
              "      <td>2018-12-05</td>\n",
              "      <td>1000</td>\n",
              "    </tr>\n",
              "  </tbody>\n",
              "</table>\n",
              "</div>"
            ],
            "text/plain": [
              "       id message_date  user_id\n",
              "0  1000_0   2018-06-27     1000\n",
              "1  1000_1   2018-10-08     1000\n",
              "2  1000_2   2018-08-04     1000\n",
              "3  1000_3   2018-06-16     1000\n",
              "4  1000_4   2018-12-05     1000"
            ]
          },
          "metadata": {
            "tags": []
          }
        },
        {
          "output_type": "stream",
          "text": [
            "<class 'pandas.core.frame.DataFrame'>\n",
            "RangeIndex: 2 entries, 0 to 1\n",
            "Data columns (total 8 columns):\n",
            " #   Column                 Non-Null Count  Dtype \n",
            "---  ------                 --------------  ----- \n",
            " 0   messages_included      2 non-null      int64 \n",
            " 1   mb_per_month_included  2 non-null      int64 \n",
            " 2   minutes_included       2 non-null      int64 \n",
            " 3   rub_monthly_fee        2 non-null      int64 \n",
            " 4   rub_per_gb             2 non-null      int64 \n",
            " 5   rub_per_message        2 non-null      int64 \n",
            " 6   rub_per_minute         2 non-null      int64 \n",
            " 7   tariff_name            2 non-null      object\n",
            "dtypes: int64(7), object(1)\n",
            "memory usage: 256.0+ bytes\n"
          ],
          "name": "stdout"
        },
        {
          "output_type": "display_data",
          "data": {
            "text/plain": [
              "None"
            ]
          },
          "metadata": {
            "tags": []
          }
        },
        {
          "output_type": "display_data",
          "data": {
            "text/html": [
              "<div>\n",
              "<style scoped>\n",
              "    .dataframe tbody tr th:only-of-type {\n",
              "        vertical-align: middle;\n",
              "    }\n",
              "\n",
              "    .dataframe tbody tr th {\n",
              "        vertical-align: top;\n",
              "    }\n",
              "\n",
              "    .dataframe thead th {\n",
              "        text-align: right;\n",
              "    }\n",
              "</style>\n",
              "<table border=\"1\" class=\"dataframe\">\n",
              "  <thead>\n",
              "    <tr style=\"text-align: right;\">\n",
              "      <th></th>\n",
              "      <th>messages_included</th>\n",
              "      <th>mb_per_month_included</th>\n",
              "      <th>minutes_included</th>\n",
              "      <th>rub_monthly_fee</th>\n",
              "      <th>rub_per_gb</th>\n",
              "      <th>rub_per_message</th>\n",
              "      <th>rub_per_minute</th>\n",
              "      <th>tariff_name</th>\n",
              "    </tr>\n",
              "  </thead>\n",
              "  <tbody>\n",
              "    <tr>\n",
              "      <th>0</th>\n",
              "      <td>50</td>\n",
              "      <td>15360</td>\n",
              "      <td>500</td>\n",
              "      <td>550</td>\n",
              "      <td>200</td>\n",
              "      <td>3</td>\n",
              "      <td>3</td>\n",
              "      <td>smart</td>\n",
              "    </tr>\n",
              "    <tr>\n",
              "      <th>1</th>\n",
              "      <td>1000</td>\n",
              "      <td>30720</td>\n",
              "      <td>3000</td>\n",
              "      <td>1950</td>\n",
              "      <td>150</td>\n",
              "      <td>1</td>\n",
              "      <td>1</td>\n",
              "      <td>ultra</td>\n",
              "    </tr>\n",
              "  </tbody>\n",
              "</table>\n",
              "</div>"
            ],
            "text/plain": [
              "   messages_included  mb_per_month_included  ...  rub_per_minute  tariff_name\n",
              "0                 50                  15360  ...               3        smart\n",
              "1               1000                  30720  ...               1        ultra\n",
              "\n",
              "[2 rows x 8 columns]"
            ]
          },
          "metadata": {
            "tags": []
          }
        },
        {
          "output_type": "stream",
          "text": [
            "<class 'pandas.core.frame.DataFrame'>\n",
            "RangeIndex: 500 entries, 0 to 499\n",
            "Data columns (total 8 columns):\n",
            " #   Column      Non-Null Count  Dtype \n",
            "---  ------      --------------  ----- \n",
            " 0   user_id     500 non-null    int64 \n",
            " 1   age         500 non-null    int64 \n",
            " 2   churn_date  38 non-null     object\n",
            " 3   city        500 non-null    object\n",
            " 4   first_name  500 non-null    object\n",
            " 5   last_name   500 non-null    object\n",
            " 6   reg_date    500 non-null    object\n",
            " 7   tariff      500 non-null    object\n",
            "dtypes: int64(2), object(6)\n",
            "memory usage: 31.4+ KB\n"
          ],
          "name": "stdout"
        },
        {
          "output_type": "display_data",
          "data": {
            "text/plain": [
              "None"
            ]
          },
          "metadata": {
            "tags": []
          }
        },
        {
          "output_type": "display_data",
          "data": {
            "text/html": [
              "<div>\n",
              "<style scoped>\n",
              "    .dataframe tbody tr th:only-of-type {\n",
              "        vertical-align: middle;\n",
              "    }\n",
              "\n",
              "    .dataframe tbody tr th {\n",
              "        vertical-align: top;\n",
              "    }\n",
              "\n",
              "    .dataframe thead th {\n",
              "        text-align: right;\n",
              "    }\n",
              "</style>\n",
              "<table border=\"1\" class=\"dataframe\">\n",
              "  <thead>\n",
              "    <tr style=\"text-align: right;\">\n",
              "      <th></th>\n",
              "      <th>user_id</th>\n",
              "      <th>age</th>\n",
              "      <th>churn_date</th>\n",
              "      <th>city</th>\n",
              "      <th>first_name</th>\n",
              "      <th>last_name</th>\n",
              "      <th>reg_date</th>\n",
              "      <th>tariff</th>\n",
              "    </tr>\n",
              "  </thead>\n",
              "  <tbody>\n",
              "    <tr>\n",
              "      <th>0</th>\n",
              "      <td>1000</td>\n",
              "      <td>52</td>\n",
              "      <td>NaN</td>\n",
              "      <td>Краснодар</td>\n",
              "      <td>Рафаил</td>\n",
              "      <td>Верещагин</td>\n",
              "      <td>2018-05-25</td>\n",
              "      <td>ultra</td>\n",
              "    </tr>\n",
              "    <tr>\n",
              "      <th>1</th>\n",
              "      <td>1001</td>\n",
              "      <td>41</td>\n",
              "      <td>NaN</td>\n",
              "      <td>Москва</td>\n",
              "      <td>Иван</td>\n",
              "      <td>Ежов</td>\n",
              "      <td>2018-11-01</td>\n",
              "      <td>smart</td>\n",
              "    </tr>\n",
              "    <tr>\n",
              "      <th>2</th>\n",
              "      <td>1002</td>\n",
              "      <td>59</td>\n",
              "      <td>NaN</td>\n",
              "      <td>Стерлитамак</td>\n",
              "      <td>Евгений</td>\n",
              "      <td>Абрамович</td>\n",
              "      <td>2018-06-17</td>\n",
              "      <td>smart</td>\n",
              "    </tr>\n",
              "    <tr>\n",
              "      <th>3</th>\n",
              "      <td>1003</td>\n",
              "      <td>23</td>\n",
              "      <td>NaN</td>\n",
              "      <td>Москва</td>\n",
              "      <td>Белла</td>\n",
              "      <td>Белякова</td>\n",
              "      <td>2018-08-17</td>\n",
              "      <td>ultra</td>\n",
              "    </tr>\n",
              "    <tr>\n",
              "      <th>4</th>\n",
              "      <td>1004</td>\n",
              "      <td>68</td>\n",
              "      <td>NaN</td>\n",
              "      <td>Новокузнецк</td>\n",
              "      <td>Татьяна</td>\n",
              "      <td>Авдеенко</td>\n",
              "      <td>2018-05-14</td>\n",
              "      <td>ultra</td>\n",
              "    </tr>\n",
              "  </tbody>\n",
              "</table>\n",
              "</div>"
            ],
            "text/plain": [
              "   user_id  age churn_date  ...  last_name    reg_date tariff\n",
              "0     1000   52        NaN  ...  Верещагин  2018-05-25  ultra\n",
              "1     1001   41        NaN  ...       Ежов  2018-11-01  smart\n",
              "2     1002   59        NaN  ...  Абрамович  2018-06-17  smart\n",
              "3     1003   23        NaN  ...   Белякова  2018-08-17  ultra\n",
              "4     1004   68        NaN  ...   Авдеенко  2018-05-14  ultra\n",
              "\n",
              "[5 rows x 8 columns]"
            ]
          },
          "metadata": {
            "tags": []
          }
        }
      ]
    },
    {
      "cell_type": "markdown",
      "metadata": {
        "id": "gW-7OAtKnyf-"
      },
      "source": [
        "Итак, у нас есть следующие файлы: \n",
        "\n",
        "\n",
        "1.   Файл `users` со списком пользователей, где содержится их ФИО и город проживания, а также название тарифа сотовой связи, которым они пользуются.\n",
        "2.   Файл-справочник `tariffs` с описанием тарифов **smart** и **ultra**.\n",
        "3.   Файл `calls` со сведениями по количеству и продолжительности звонков.\n",
        "4.   Файл `internet` с информацией о потраченном интернет-трафике.\n",
        "5.   Файл `messages` с указанием количества отправленных пользователями sms-сообщений.\n",
        "\n"
      ]
    },
    {
      "cell_type": "markdown",
      "metadata": {
        "id": "T5SV6xaGAptn"
      },
      "source": [
        "# 3. Предобработка данных <a id=\"preprocessing\"></a>"
      ]
    },
    {
      "cell_type": "markdown",
      "metadata": {
        "id": "8C2TpLjdpXTS"
      },
      "source": [
        "Сведём файлы в единую базу для удобства проведения анализа. В первую очередь соединим данные из таблиц `users` и `tariffs`. <a id=\"merging\"></a>"
      ]
    },
    {
      "cell_type": "code",
      "metadata": {
        "colab": {
          "base_uri": "https://localhost:8080/",
          "height": 111
        },
        "id": "bWKyTpAmKbW4",
        "outputId": "5b23b9e5-6d5c-44b4-b331-fbf6bec8cd44"
      },
      "source": [
        "tariffs = pd.read_csv('/content/drive/MyDrive/Colab Notebooks/dataset_telecom/tariffs.csv')\n",
        "#Корректируем название столбца с тарифом для корректного слияния:\n",
        "tariffs.rename(columns=lambda x: x.replace('tariff_name', 'tariff'), inplace=True)\n",
        "tariffs.head()"
      ],
      "execution_count": null,
      "outputs": [
        {
          "output_type": "execute_result",
          "data": {
            "text/html": [
              "<div>\n",
              "<style scoped>\n",
              "    .dataframe tbody tr th:only-of-type {\n",
              "        vertical-align: middle;\n",
              "    }\n",
              "\n",
              "    .dataframe tbody tr th {\n",
              "        vertical-align: top;\n",
              "    }\n",
              "\n",
              "    .dataframe thead th {\n",
              "        text-align: right;\n",
              "    }\n",
              "</style>\n",
              "<table border=\"1\" class=\"dataframe\">\n",
              "  <thead>\n",
              "    <tr style=\"text-align: right;\">\n",
              "      <th></th>\n",
              "      <th>messages_included</th>\n",
              "      <th>mb_per_month_included</th>\n",
              "      <th>minutes_included</th>\n",
              "      <th>rub_monthly_fee</th>\n",
              "      <th>rub_per_gb</th>\n",
              "      <th>rub_per_message</th>\n",
              "      <th>rub_per_minute</th>\n",
              "      <th>tariff</th>\n",
              "    </tr>\n",
              "  </thead>\n",
              "  <tbody>\n",
              "    <tr>\n",
              "      <th>0</th>\n",
              "      <td>50</td>\n",
              "      <td>15360</td>\n",
              "      <td>500</td>\n",
              "      <td>550</td>\n",
              "      <td>200</td>\n",
              "      <td>3</td>\n",
              "      <td>3</td>\n",
              "      <td>smart</td>\n",
              "    </tr>\n",
              "    <tr>\n",
              "      <th>1</th>\n",
              "      <td>1000</td>\n",
              "      <td>30720</td>\n",
              "      <td>3000</td>\n",
              "      <td>1950</td>\n",
              "      <td>150</td>\n",
              "      <td>1</td>\n",
              "      <td>1</td>\n",
              "      <td>ultra</td>\n",
              "    </tr>\n",
              "  </tbody>\n",
              "</table>\n",
              "</div>"
            ],
            "text/plain": [
              "   messages_included  mb_per_month_included  ...  rub_per_minute  tariff\n",
              "0                 50                  15360  ...               3   smart\n",
              "1               1000                  30720  ...               1   ultra\n",
              "\n",
              "[2 rows x 8 columns]"
            ]
          },
          "metadata": {
            "tags": []
          },
          "execution_count": 4
        }
      ]
    },
    {
      "cell_type": "code",
      "metadata": {
        "colab": {
          "base_uri": "https://localhost:8080/",
          "height": 310
        },
        "id": "ANrhnZIKNagD",
        "outputId": "05eb4d80-24b0-46c2-fb4f-5818afd73b6a"
      },
      "source": [
        "users = pd.read_csv('/content/drive/MyDrive/Colab Notebooks/dataset_telecom/users.csv')\n",
        "#Объединяем таблицы по данным столбца с тарифом:\n",
        "users = users.merge(tariffs, on = 'tariff', how = 'left')\n",
        "users.head()"
      ],
      "execution_count": null,
      "outputs": [
        {
          "output_type": "execute_result",
          "data": {
            "text/html": [
              "<div>\n",
              "<style scoped>\n",
              "    .dataframe tbody tr th:only-of-type {\n",
              "        vertical-align: middle;\n",
              "    }\n",
              "\n",
              "    .dataframe tbody tr th {\n",
              "        vertical-align: top;\n",
              "    }\n",
              "\n",
              "    .dataframe thead th {\n",
              "        text-align: right;\n",
              "    }\n",
              "</style>\n",
              "<table border=\"1\" class=\"dataframe\">\n",
              "  <thead>\n",
              "    <tr style=\"text-align: right;\">\n",
              "      <th></th>\n",
              "      <th>user_id</th>\n",
              "      <th>age</th>\n",
              "      <th>churn_date</th>\n",
              "      <th>city</th>\n",
              "      <th>first_name</th>\n",
              "      <th>last_name</th>\n",
              "      <th>reg_date</th>\n",
              "      <th>tariff</th>\n",
              "      <th>messages_included</th>\n",
              "      <th>mb_per_month_included</th>\n",
              "      <th>minutes_included</th>\n",
              "      <th>rub_monthly_fee</th>\n",
              "      <th>rub_per_gb</th>\n",
              "      <th>rub_per_message</th>\n",
              "      <th>rub_per_minute</th>\n",
              "    </tr>\n",
              "  </thead>\n",
              "  <tbody>\n",
              "    <tr>\n",
              "      <th>0</th>\n",
              "      <td>1000</td>\n",
              "      <td>52</td>\n",
              "      <td>NaN</td>\n",
              "      <td>Краснодар</td>\n",
              "      <td>Рафаил</td>\n",
              "      <td>Верещагин</td>\n",
              "      <td>2018-05-25</td>\n",
              "      <td>ultra</td>\n",
              "      <td>1000</td>\n",
              "      <td>30720</td>\n",
              "      <td>3000</td>\n",
              "      <td>1950</td>\n",
              "      <td>150</td>\n",
              "      <td>1</td>\n",
              "      <td>1</td>\n",
              "    </tr>\n",
              "    <tr>\n",
              "      <th>1</th>\n",
              "      <td>1001</td>\n",
              "      <td>41</td>\n",
              "      <td>NaN</td>\n",
              "      <td>Москва</td>\n",
              "      <td>Иван</td>\n",
              "      <td>Ежов</td>\n",
              "      <td>2018-11-01</td>\n",
              "      <td>smart</td>\n",
              "      <td>50</td>\n",
              "      <td>15360</td>\n",
              "      <td>500</td>\n",
              "      <td>550</td>\n",
              "      <td>200</td>\n",
              "      <td>3</td>\n",
              "      <td>3</td>\n",
              "    </tr>\n",
              "    <tr>\n",
              "      <th>2</th>\n",
              "      <td>1002</td>\n",
              "      <td>59</td>\n",
              "      <td>NaN</td>\n",
              "      <td>Стерлитамак</td>\n",
              "      <td>Евгений</td>\n",
              "      <td>Абрамович</td>\n",
              "      <td>2018-06-17</td>\n",
              "      <td>smart</td>\n",
              "      <td>50</td>\n",
              "      <td>15360</td>\n",
              "      <td>500</td>\n",
              "      <td>550</td>\n",
              "      <td>200</td>\n",
              "      <td>3</td>\n",
              "      <td>3</td>\n",
              "    </tr>\n",
              "    <tr>\n",
              "      <th>3</th>\n",
              "      <td>1003</td>\n",
              "      <td>23</td>\n",
              "      <td>NaN</td>\n",
              "      <td>Москва</td>\n",
              "      <td>Белла</td>\n",
              "      <td>Белякова</td>\n",
              "      <td>2018-08-17</td>\n",
              "      <td>ultra</td>\n",
              "      <td>1000</td>\n",
              "      <td>30720</td>\n",
              "      <td>3000</td>\n",
              "      <td>1950</td>\n",
              "      <td>150</td>\n",
              "      <td>1</td>\n",
              "      <td>1</td>\n",
              "    </tr>\n",
              "    <tr>\n",
              "      <th>4</th>\n",
              "      <td>1004</td>\n",
              "      <td>68</td>\n",
              "      <td>NaN</td>\n",
              "      <td>Новокузнецк</td>\n",
              "      <td>Татьяна</td>\n",
              "      <td>Авдеенко</td>\n",
              "      <td>2018-05-14</td>\n",
              "      <td>ultra</td>\n",
              "      <td>1000</td>\n",
              "      <td>30720</td>\n",
              "      <td>3000</td>\n",
              "      <td>1950</td>\n",
              "      <td>150</td>\n",
              "      <td>1</td>\n",
              "      <td>1</td>\n",
              "    </tr>\n",
              "  </tbody>\n",
              "</table>\n",
              "</div>"
            ],
            "text/plain": [
              "   user_id  age churn_date  ... rub_per_gb rub_per_message rub_per_minute\n",
              "0     1000   52        NaN  ...        150               1              1\n",
              "1     1001   41        NaN  ...        200               3              3\n",
              "2     1002   59        NaN  ...        200               3              3\n",
              "3     1003   23        NaN  ...        150               1              1\n",
              "4     1004   68        NaN  ...        150               1              1\n",
              "\n",
              "[5 rows x 15 columns]"
            ]
          },
          "metadata": {
            "tags": []
          },
          "execution_count": 5
        }
      ]
    },
    {
      "cell_type": "markdown",
      "metadata": {
        "id": "mhyQ1wy8qUnL"
      },
      "source": [
        "В таблице звонков есть строки с нулевой длительностью разговора. Вероятно, это сброшенные/ошибочные звонки. Посчитаем, сколько таких строк.     <a id=\"round\"></a>"
      ]
    },
    {
      "cell_type": "code",
      "metadata": {
        "colab": {
          "base_uri": "https://localhost:8080/"
        },
        "id": "qmLoxmsqqrnS",
        "outputId": "f687b317-4f55-4103-f747-9ca37c7c09d9"
      },
      "source": [
        "calls = pd.read_csv('/content/drive/MyDrive/Colab Notebooks/dataset_telecom/calls.csv')\n",
        "#Фильтруем звонки с нулевой длительностью:\n",
        "calls_0 = calls[calls['duration'] == 0]\n",
        "calls_part = len(calls_0)/len(calls)\n",
        "print('В таблице {} строк с пропущенными звонками, то есть {:.2%} всей выборки.'.format(len(calls_0), calls_part))"
      ],
      "execution_count": null,
      "outputs": [
        {
          "output_type": "stream",
          "text": [
            "В таблице 39613 строк с пропущенными звонками, то есть 19.55% всей выборки.\n"
          ],
          "name": "stdout"
        }
      ]
    },
    {
      "cell_type": "markdown",
      "metadata": {
        "id": "xN95s0-u0Wak"
      },
      "source": [
        "Таких значений оказалось слишком много, чтобы просто избавиться от них. Так как звонок зафиксирован сетью, мобильный оператор снял за него деньги за 1 минуту разговора. Заменим все нулевые значения длительности единицами, а все минуты разговора округлим в большую сторону.\n",
        "\n",
        "\n",
        "---\n",
        "\n",
        "\n",
        "Поскольку тарифный план предусматривает ежемесячную оплату, сразу сгруппируем помесячно все данные по звонкам, интернет-трафику и сообщениям."
      ]
    },
    {
      "cell_type": "code",
      "metadata": {
        "colab": {
          "base_uri": "https://localhost:8080/",
          "height": 204
        },
        "id": "Scl5qqFWRnaG",
        "outputId": "c49e80f6-aec7-4cc1-84ea-514d4eb6b109"
      },
      "source": [
        "calls.loc[calls['duration'] == 0, 'duration'] = 1\n",
        "calls['duration_rounded'] = np.ceil(calls.duration).astype(int)\n",
        "calls['call_date'] = calls['call_date'].astype('datetime64[ns]')\n",
        "calls['month'] = pd.to_datetime(calls['call_date']).dt.strftime('%m %B')\n",
        "calls_grouped = calls.pivot_table(index = ['user_id','month'], values = 'duration_rounded', aggfunc = 'sum').reset_index()\n",
        "calls_grouped.columns = ['user_id', 'month', 'duration_rounded']\n",
        "display(calls_grouped.sample(5))"
      ],
      "execution_count": null,
      "outputs": [
        {
          "output_type": "display_data",
          "data": {
            "text/html": [
              "<div>\n",
              "<style scoped>\n",
              "    .dataframe tbody tr th:only-of-type {\n",
              "        vertical-align: middle;\n",
              "    }\n",
              "\n",
              "    .dataframe tbody tr th {\n",
              "        vertical-align: top;\n",
              "    }\n",
              "\n",
              "    .dataframe thead th {\n",
              "        text-align: right;\n",
              "    }\n",
              "</style>\n",
              "<table border=\"1\" class=\"dataframe\">\n",
              "  <thead>\n",
              "    <tr style=\"text-align: right;\">\n",
              "      <th></th>\n",
              "      <th>user_id</th>\n",
              "      <th>month</th>\n",
              "      <th>duration_rounded</th>\n",
              "    </tr>\n",
              "  </thead>\n",
              "  <tbody>\n",
              "    <tr>\n",
              "      <th>1736</th>\n",
              "      <td>1278</td>\n",
              "      <td>12 December</td>\n",
              "      <td>676</td>\n",
              "    </tr>\n",
              "    <tr>\n",
              "      <th>2970</th>\n",
              "      <td>1466</td>\n",
              "      <td>12 December</td>\n",
              "      <td>673</td>\n",
              "    </tr>\n",
              "    <tr>\n",
              "      <th>325</th>\n",
              "      <td>1052</td>\n",
              "      <td>11 November</td>\n",
              "      <td>702</td>\n",
              "    </tr>\n",
              "    <tr>\n",
              "      <th>351</th>\n",
              "      <td>1055</td>\n",
              "      <td>11 November</td>\n",
              "      <td>325</td>\n",
              "    </tr>\n",
              "    <tr>\n",
              "      <th>298</th>\n",
              "      <td>1048</td>\n",
              "      <td>11 November</td>\n",
              "      <td>835</td>\n",
              "    </tr>\n",
              "  </tbody>\n",
              "</table>\n",
              "</div>"
            ],
            "text/plain": [
              "      user_id        month  duration_rounded\n",
              "1736     1278  12 December               676\n",
              "2970     1466  12 December               673\n",
              "325      1052  11 November               702\n",
              "351      1055  11 November               325\n",
              "298      1048  11 November               835"
            ]
          },
          "metadata": {
            "tags": []
          }
        }
      ]
    },
    {
      "cell_type": "markdown",
      "metadata": {
        "id": "8BnvN8Hn6_Eq"
      },
      "source": [
        "Таким же образом округлим до целых мегабайт показатели интернет-трафика и сгруппируем данные по месяцам."
      ]
    },
    {
      "cell_type": "code",
      "metadata": {
        "colab": {
          "base_uri": "https://localhost:8080/",
          "height": 204
        },
        "id": "MW_1GdYQ7W-5",
        "outputId": "6aa47d3c-8725-42c7-ed40-a0377d1d4eff"
      },
      "source": [
        "internet = pd.read_csv('/content/drive/MyDrive/Colab Notebooks/dataset_telecom/internet.csv')\n",
        "internet['mb_used_rounded'] = np.ceil(internet.mb_used).astype(int)\n",
        "#Удалим столбец, дублирующий индексы таблицы:\n",
        "internet = internet.drop(['Unnamed: 0'], axis = 1)\n",
        "#Добавим месяц использования трафика:\n",
        "internet['session_date'] = internet['session_date'].astype('datetime64[ns]')\n",
        "internet['month'] = pd.to_datetime(internet['session_date']).dt.strftime('%m %B')\n",
        "#Сгруппируем данные помесячно:\n",
        "internet_grouped = internet.pivot_table(index = ['user_id','month'], values = 'mb_used_rounded', aggfunc = 'sum').reset_index()\n",
        "internet_grouped.columns = ['user_id', 'month', 'mb_used_rounded']\n",
        "display(internet_grouped.sample(5))"
      ],
      "execution_count": null,
      "outputs": [
        {
          "output_type": "display_data",
          "data": {
            "text/html": [
              "<div>\n",
              "<style scoped>\n",
              "    .dataframe tbody tr th:only-of-type {\n",
              "        vertical-align: middle;\n",
              "    }\n",
              "\n",
              "    .dataframe tbody tr th {\n",
              "        vertical-align: top;\n",
              "    }\n",
              "\n",
              "    .dataframe thead th {\n",
              "        text-align: right;\n",
              "    }\n",
              "</style>\n",
              "<table border=\"1\" class=\"dataframe\">\n",
              "  <thead>\n",
              "    <tr style=\"text-align: right;\">\n",
              "      <th></th>\n",
              "      <th>user_id</th>\n",
              "      <th>month</th>\n",
              "      <th>mb_used_rounded</th>\n",
              "    </tr>\n",
              "  </thead>\n",
              "  <tbody>\n",
              "    <tr>\n",
              "      <th>3029</th>\n",
              "      <td>1472</td>\n",
              "      <td>08 August</td>\n",
              "      <td>16859</td>\n",
              "    </tr>\n",
              "    <tr>\n",
              "      <th>875</th>\n",
              "      <td>1138</td>\n",
              "      <td>10 October</td>\n",
              "      <td>26747</td>\n",
              "    </tr>\n",
              "    <tr>\n",
              "      <th>690</th>\n",
              "      <td>1109</td>\n",
              "      <td>04 April</td>\n",
              "      <td>11811</td>\n",
              "    </tr>\n",
              "    <tr>\n",
              "      <th>828</th>\n",
              "      <td>1130</td>\n",
              "      <td>04 April</td>\n",
              "      <td>14821</td>\n",
              "    </tr>\n",
              "    <tr>\n",
              "      <th>411</th>\n",
              "      <td>1065</td>\n",
              "      <td>03 March</td>\n",
              "      <td>19607</td>\n",
              "    </tr>\n",
              "  </tbody>\n",
              "</table>\n",
              "</div>"
            ],
            "text/plain": [
              "      user_id       month  mb_used_rounded\n",
              "3029     1472   08 August            16859\n",
              "875      1138  10 October            26747\n",
              "690      1109    04 April            11811\n",
              "828      1130    04 April            14821\n",
              "411      1065    03 March            19607"
            ]
          },
          "metadata": {
            "tags": []
          }
        }
      ]
    },
    {
      "cell_type": "markdown",
      "metadata": {
        "id": "Btc4uBto9bXc"
      },
      "source": [
        "Аналогично сгруппируем данные по сообщениям."
      ]
    },
    {
      "cell_type": "code",
      "metadata": {
        "colab": {
          "base_uri": "https://localhost:8080/",
          "height": 204
        },
        "id": "MK9s3X1a-Nu9",
        "outputId": "7eae9b11-df06-408c-a5ad-3ba2853bb37f"
      },
      "source": [
        "messages = pd.read_csv('/content/drive/MyDrive/Colab Notebooks/dataset_telecom/messages.csv')\n",
        "messages['session_date'] = messages['message_date'].astype('datetime64[ns]')\n",
        "messages['month'] = pd.to_datetime(messages['message_date']).dt.strftime('%m %B')\n",
        "#Сгруппируем данные помесячно:\n",
        "messages_grouped = messages.pivot_table(index = ['user_id','month'], values = 'message_date', aggfunc = 'count').reset_index()\n",
        "messages_grouped.columns = ['user_id', 'month', 'messages_number']\n",
        "display(messages_grouped.sample(5))"
      ],
      "execution_count": null,
      "outputs": [
        {
          "output_type": "display_data",
          "data": {
            "text/html": [
              "<div>\n",
              "<style scoped>\n",
              "    .dataframe tbody tr th:only-of-type {\n",
              "        vertical-align: middle;\n",
              "    }\n",
              "\n",
              "    .dataframe tbody tr th {\n",
              "        vertical-align: top;\n",
              "    }\n",
              "\n",
              "    .dataframe thead th {\n",
              "        text-align: right;\n",
              "    }\n",
              "</style>\n",
              "<table border=\"1\" class=\"dataframe\">\n",
              "  <thead>\n",
              "    <tr style=\"text-align: right;\">\n",
              "      <th></th>\n",
              "      <th>user_id</th>\n",
              "      <th>month</th>\n",
              "      <th>messages_number</th>\n",
              "    </tr>\n",
              "  </thead>\n",
              "  <tbody>\n",
              "    <tr>\n",
              "      <th>607</th>\n",
              "      <td>1110</td>\n",
              "      <td>11 November</td>\n",
              "      <td>40</td>\n",
              "    </tr>\n",
              "    <tr>\n",
              "      <th>1381</th>\n",
              "      <td>1269</td>\n",
              "      <td>11 November</td>\n",
              "      <td>17</td>\n",
              "    </tr>\n",
              "    <tr>\n",
              "      <th>1566</th>\n",
              "      <td>1302</td>\n",
              "      <td>12 December</td>\n",
              "      <td>101</td>\n",
              "    </tr>\n",
              "    <tr>\n",
              "      <th>2528</th>\n",
              "      <td>1468</td>\n",
              "      <td>07 July</td>\n",
              "      <td>9</td>\n",
              "    </tr>\n",
              "    <tr>\n",
              "      <th>874</th>\n",
              "      <td>1167</td>\n",
              "      <td>11 November</td>\n",
              "      <td>148</td>\n",
              "    </tr>\n",
              "  </tbody>\n",
              "</table>\n",
              "</div>"
            ],
            "text/plain": [
              "      user_id        month  messages_number\n",
              "607      1110  11 November               40\n",
              "1381     1269  11 November               17\n",
              "1566     1302  12 December              101\n",
              "2528     1468      07 July                9\n",
              "874      1167  11 November              148"
            ]
          },
          "metadata": {
            "tags": []
          }
        }
      ]
    },
    {
      "cell_type": "markdown",
      "metadata": {
        "id": "V1tnOvkyHZUd"
      },
      "source": [
        "Таблицы готовы к объединению. Сформируем датасет из всех необходимых для анализа данных.     <a id=\"merging_2\"></a>"
      ]
    },
    {
      "cell_type": "code",
      "metadata": {
        "colab": {
          "base_uri": "https://localhost:8080/",
          "height": 772
        },
        "id": "0QIXf48YHip8",
        "outputId": "6e87ba5f-ac8b-4938-942d-580e7fd0665f"
      },
      "source": [
        "#Сначала сливаем данные по месяцам и id пользователей, потом привязываем их к ФИО и личным данным клиентов:\n",
        "data = internet_grouped.merge(messages_grouped, on = ['user_id', 'month'], how = 'outer')\n",
        "data = data.merge(calls_grouped, on = ['user_id', 'month'], how = 'outer')\n",
        "data = data.merge(users, on = 'user_id', how = 'outer')\n",
        "data.info()\n",
        "data.tail()"
      ],
      "execution_count": null,
      "outputs": [
        {
          "output_type": "stream",
          "text": [
            "<class 'pandas.core.frame.DataFrame'>\n",
            "Int64Index: 3216 entries, 0 to 3215\n",
            "Data columns (total 19 columns):\n",
            " #   Column                 Non-Null Count  Dtype  \n",
            "---  ------                 --------------  -----  \n",
            " 0   user_id                3216 non-null   int64  \n",
            " 1   month                  3214 non-null   object \n",
            " 2   mb_used_rounded        3203 non-null   float64\n",
            " 3   messages_number        2717 non-null   float64\n",
            " 4   duration_rounded       3174 non-null   float64\n",
            " 5   age                    3216 non-null   int64  \n",
            " 6   churn_date             189 non-null    object \n",
            " 7   city                   3216 non-null   object \n",
            " 8   first_name             3216 non-null   object \n",
            " 9   last_name              3216 non-null   object \n",
            " 10  reg_date               3216 non-null   object \n",
            " 11  tariff                 3216 non-null   object \n",
            " 12  messages_included      3216 non-null   int64  \n",
            " 13  mb_per_month_included  3216 non-null   int64  \n",
            " 14  minutes_included       3216 non-null   int64  \n",
            " 15  rub_monthly_fee        3216 non-null   int64  \n",
            " 16  rub_per_gb             3216 non-null   int64  \n",
            " 17  rub_per_message        3216 non-null   int64  \n",
            " 18  rub_per_minute         3216 non-null   int64  \n",
            "dtypes: float64(3), int64(9), object(7)\n",
            "memory usage: 502.5+ KB\n"
          ],
          "name": "stdout"
        },
        {
          "output_type": "execute_result",
          "data": {
            "text/html": [
              "<div>\n",
              "<style scoped>\n",
              "    .dataframe tbody tr th:only-of-type {\n",
              "        vertical-align: middle;\n",
              "    }\n",
              "\n",
              "    .dataframe tbody tr th {\n",
              "        vertical-align: top;\n",
              "    }\n",
              "\n",
              "    .dataframe thead th {\n",
              "        text-align: right;\n",
              "    }\n",
              "</style>\n",
              "<table border=\"1\" class=\"dataframe\">\n",
              "  <thead>\n",
              "    <tr style=\"text-align: right;\">\n",
              "      <th></th>\n",
              "      <th>user_id</th>\n",
              "      <th>month</th>\n",
              "      <th>mb_used_rounded</th>\n",
              "      <th>messages_number</th>\n",
              "      <th>duration_rounded</th>\n",
              "      <th>age</th>\n",
              "      <th>churn_date</th>\n",
              "      <th>city</th>\n",
              "      <th>first_name</th>\n",
              "      <th>last_name</th>\n",
              "      <th>reg_date</th>\n",
              "      <th>tariff</th>\n",
              "      <th>messages_included</th>\n",
              "      <th>mb_per_month_included</th>\n",
              "      <th>minutes_included</th>\n",
              "      <th>rub_monthly_fee</th>\n",
              "      <th>rub_per_gb</th>\n",
              "      <th>rub_per_message</th>\n",
              "      <th>rub_per_minute</th>\n",
              "    </tr>\n",
              "  </thead>\n",
              "  <tbody>\n",
              "    <tr>\n",
              "      <th>3211</th>\n",
              "      <td>1273</td>\n",
              "      <td>10 October</td>\n",
              "      <td>NaN</td>\n",
              "      <td>35.0</td>\n",
              "      <td>320.0</td>\n",
              "      <td>46</td>\n",
              "      <td>NaN</td>\n",
              "      <td>Курган</td>\n",
              "      <td>Рэм</td>\n",
              "      <td>Корнилов</td>\n",
              "      <td>2018-05-15</td>\n",
              "      <td>ultra</td>\n",
              "      <td>1000</td>\n",
              "      <td>30720</td>\n",
              "      <td>3000</td>\n",
              "      <td>1950</td>\n",
              "      <td>150</td>\n",
              "      <td>1</td>\n",
              "      <td>1</td>\n",
              "    </tr>\n",
              "    <tr>\n",
              "      <th>3212</th>\n",
              "      <td>1273</td>\n",
              "      <td>11 November</td>\n",
              "      <td>NaN</td>\n",
              "      <td>29.0</td>\n",
              "      <td>286.0</td>\n",
              "      <td>46</td>\n",
              "      <td>NaN</td>\n",
              "      <td>Курган</td>\n",
              "      <td>Рэм</td>\n",
              "      <td>Корнилов</td>\n",
              "      <td>2018-05-15</td>\n",
              "      <td>ultra</td>\n",
              "      <td>1000</td>\n",
              "      <td>30720</td>\n",
              "      <td>3000</td>\n",
              "      <td>1950</td>\n",
              "      <td>150</td>\n",
              "      <td>1</td>\n",
              "      <td>1</td>\n",
              "    </tr>\n",
              "    <tr>\n",
              "      <th>3213</th>\n",
              "      <td>1273</td>\n",
              "      <td>12 December</td>\n",
              "      <td>NaN</td>\n",
              "      <td>39.0</td>\n",
              "      <td>263.0</td>\n",
              "      <td>46</td>\n",
              "      <td>NaN</td>\n",
              "      <td>Курган</td>\n",
              "      <td>Рэм</td>\n",
              "      <td>Корнилов</td>\n",
              "      <td>2018-05-15</td>\n",
              "      <td>ultra</td>\n",
              "      <td>1000</td>\n",
              "      <td>30720</td>\n",
              "      <td>3000</td>\n",
              "      <td>1950</td>\n",
              "      <td>150</td>\n",
              "      <td>1</td>\n",
              "      <td>1</td>\n",
              "    </tr>\n",
              "    <tr>\n",
              "      <th>3214</th>\n",
              "      <td>1128</td>\n",
              "      <td>NaN</td>\n",
              "      <td>NaN</td>\n",
              "      <td>NaN</td>\n",
              "      <td>NaN</td>\n",
              "      <td>51</td>\n",
              "      <td>2018-12-23</td>\n",
              "      <td>Волжский</td>\n",
              "      <td>Ксения</td>\n",
              "      <td>Агаева</td>\n",
              "      <td>2018-12-15</td>\n",
              "      <td>ultra</td>\n",
              "      <td>1000</td>\n",
              "      <td>30720</td>\n",
              "      <td>3000</td>\n",
              "      <td>1950</td>\n",
              "      <td>150</td>\n",
              "      <td>1</td>\n",
              "      <td>1</td>\n",
              "    </tr>\n",
              "    <tr>\n",
              "      <th>3215</th>\n",
              "      <td>1371</td>\n",
              "      <td>NaN</td>\n",
              "      <td>NaN</td>\n",
              "      <td>NaN</td>\n",
              "      <td>NaN</td>\n",
              "      <td>50</td>\n",
              "      <td>2018-12-30</td>\n",
              "      <td>Омск</td>\n",
              "      <td>Ириней</td>\n",
              "      <td>Трофимов</td>\n",
              "      <td>2018-12-25</td>\n",
              "      <td>smart</td>\n",
              "      <td>50</td>\n",
              "      <td>15360</td>\n",
              "      <td>500</td>\n",
              "      <td>550</td>\n",
              "      <td>200</td>\n",
              "      <td>3</td>\n",
              "      <td>3</td>\n",
              "    </tr>\n",
              "  </tbody>\n",
              "</table>\n",
              "</div>"
            ],
            "text/plain": [
              "      user_id        month  ...  rub_per_message  rub_per_minute\n",
              "3211     1273   10 October  ...                1               1\n",
              "3212     1273  11 November  ...                1               1\n",
              "3213     1273  12 December  ...                1               1\n",
              "3214     1128          NaN  ...                1               1\n",
              "3215     1371          NaN  ...                3               3\n",
              "\n",
              "[5 rows x 19 columns]"
            ]
          },
          "metadata": {
            "tags": []
          },
          "execution_count": 10
        }
      ]
    },
    {
      "cell_type": "markdown",
      "metadata": {
        "id": "1TTBfJmZ4HyH"
      },
      "source": [
        "Для удобства использования датасета изменим порядок отображения столбцов."
      ]
    },
    {
      "cell_type": "code",
      "metadata": {
        "colab": {
          "base_uri": "https://localhost:8080/",
          "height": 213
        },
        "id": "frXfHvDX2H9J",
        "outputId": "38a3eb51-71d2-4c8b-a0c9-f9e6f3b8f3ac"
      },
      "source": [
        "cols = list(data.columns.values)\n",
        "data = (data\n",
        "    [['user_id', 'age', 'first_name', 'last_name', 'city', \n",
        " 'tariff', 'reg_date', 'churn_date',\n",
        " 'month',\n",
        " 'mb_used_rounded',\n",
        " 'messages_number',\n",
        " 'duration_rounded',\n",
        " 'messages_included',\n",
        " 'mb_per_month_included',\n",
        " 'minutes_included',\n",
        " 'rub_monthly_fee',\n",
        " 'rub_per_gb',\n",
        " 'rub_per_message',\n",
        " 'rub_per_minute']]\n",
        ")\n",
        "data.head(3)"
      ],
      "execution_count": null,
      "outputs": [
        {
          "output_type": "execute_result",
          "data": {
            "text/html": [
              "<div>\n",
              "<style scoped>\n",
              "    .dataframe tbody tr th:only-of-type {\n",
              "        vertical-align: middle;\n",
              "    }\n",
              "\n",
              "    .dataframe tbody tr th {\n",
              "        vertical-align: top;\n",
              "    }\n",
              "\n",
              "    .dataframe thead th {\n",
              "        text-align: right;\n",
              "    }\n",
              "</style>\n",
              "<table border=\"1\" class=\"dataframe\">\n",
              "  <thead>\n",
              "    <tr style=\"text-align: right;\">\n",
              "      <th></th>\n",
              "      <th>user_id</th>\n",
              "      <th>age</th>\n",
              "      <th>first_name</th>\n",
              "      <th>last_name</th>\n",
              "      <th>city</th>\n",
              "      <th>tariff</th>\n",
              "      <th>reg_date</th>\n",
              "      <th>churn_date</th>\n",
              "      <th>month</th>\n",
              "      <th>mb_used_rounded</th>\n",
              "      <th>messages_number</th>\n",
              "      <th>duration_rounded</th>\n",
              "      <th>messages_included</th>\n",
              "      <th>mb_per_month_included</th>\n",
              "      <th>minutes_included</th>\n",
              "      <th>rub_monthly_fee</th>\n",
              "      <th>rub_per_gb</th>\n",
              "      <th>rub_per_message</th>\n",
              "      <th>rub_per_minute</th>\n",
              "    </tr>\n",
              "  </thead>\n",
              "  <tbody>\n",
              "    <tr>\n",
              "      <th>0</th>\n",
              "      <td>1000</td>\n",
              "      <td>52</td>\n",
              "      <td>Рафаил</td>\n",
              "      <td>Верещагин</td>\n",
              "      <td>Краснодар</td>\n",
              "      <td>ultra</td>\n",
              "      <td>2018-05-25</td>\n",
              "      <td>NaN</td>\n",
              "      <td>05 May</td>\n",
              "      <td>2256.0</td>\n",
              "      <td>22.0</td>\n",
              "      <td>164.0</td>\n",
              "      <td>1000</td>\n",
              "      <td>30720</td>\n",
              "      <td>3000</td>\n",
              "      <td>1950</td>\n",
              "      <td>150</td>\n",
              "      <td>1</td>\n",
              "      <td>1</td>\n",
              "    </tr>\n",
              "    <tr>\n",
              "      <th>1</th>\n",
              "      <td>1000</td>\n",
              "      <td>52</td>\n",
              "      <td>Рафаил</td>\n",
              "      <td>Верещагин</td>\n",
              "      <td>Краснодар</td>\n",
              "      <td>ultra</td>\n",
              "      <td>2018-05-25</td>\n",
              "      <td>NaN</td>\n",
              "      <td>06 June</td>\n",
              "      <td>23257.0</td>\n",
              "      <td>60.0</td>\n",
              "      <td>187.0</td>\n",
              "      <td>1000</td>\n",
              "      <td>30720</td>\n",
              "      <td>3000</td>\n",
              "      <td>1950</td>\n",
              "      <td>150</td>\n",
              "      <td>1</td>\n",
              "      <td>1</td>\n",
              "    </tr>\n",
              "    <tr>\n",
              "      <th>2</th>\n",
              "      <td>1000</td>\n",
              "      <td>52</td>\n",
              "      <td>Рафаил</td>\n",
              "      <td>Верещагин</td>\n",
              "      <td>Краснодар</td>\n",
              "      <td>ultra</td>\n",
              "      <td>2018-05-25</td>\n",
              "      <td>NaN</td>\n",
              "      <td>07 July</td>\n",
              "      <td>14016.0</td>\n",
              "      <td>75.0</td>\n",
              "      <td>346.0</td>\n",
              "      <td>1000</td>\n",
              "      <td>30720</td>\n",
              "      <td>3000</td>\n",
              "      <td>1950</td>\n",
              "      <td>150</td>\n",
              "      <td>1</td>\n",
              "      <td>1</td>\n",
              "    </tr>\n",
              "  </tbody>\n",
              "</table>\n",
              "</div>"
            ],
            "text/plain": [
              "   user_id  age first_name  ... rub_per_gb rub_per_message rub_per_minute\n",
              "0     1000   52     Рафаил  ...        150               1              1\n",
              "1     1000   52     Рафаил  ...        150               1              1\n",
              "2     1000   52     Рафаил  ...        150               1              1\n",
              "\n",
              "[3 rows x 19 columns]"
            ]
          },
          "metadata": {
            "tags": []
          },
          "execution_count": 11
        }
      ]
    },
    {
      "cell_type": "markdown",
      "metadata": {
        "id": "QhfTIXyu4P1p"
      },
      "source": [
        "В столбцах `mb_used_rounded`, `messages_number`, `duration_rounded` после объединения появились пустые значения. Кто-то из клиентов сети использует интернет, но не звонит, или общается только с помощью сообщений. Заменяем в этих столбцах пустые ячейки на нулевые, а вещественный тип данных на целочисленный.    <a id=\"dropna\"></a>"
      ]
    },
    {
      "cell_type": "code",
      "metadata": {
        "colab": {
          "base_uri": "https://localhost:8080/",
          "height": 165
        },
        "id": "zpOj8jJs4u_i",
        "outputId": "7ec3660b-f8e4-41aa-87a8-9d5be650bbbb"
      },
      "source": [
        "columns_na = ['mb_used_rounded', 'messages_number', 'duration_rounded']\n",
        "data[columns_na] = data[columns_na].fillna(0).astype(int)\n",
        "display(data[data['month'].isna()])"
      ],
      "execution_count": null,
      "outputs": [
        {
          "output_type": "display_data",
          "data": {
            "text/html": [
              "<div>\n",
              "<style scoped>\n",
              "    .dataframe tbody tr th:only-of-type {\n",
              "        vertical-align: middle;\n",
              "    }\n",
              "\n",
              "    .dataframe tbody tr th {\n",
              "        vertical-align: top;\n",
              "    }\n",
              "\n",
              "    .dataframe thead th {\n",
              "        text-align: right;\n",
              "    }\n",
              "</style>\n",
              "<table border=\"1\" class=\"dataframe\">\n",
              "  <thead>\n",
              "    <tr style=\"text-align: right;\">\n",
              "      <th></th>\n",
              "      <th>user_id</th>\n",
              "      <th>age</th>\n",
              "      <th>first_name</th>\n",
              "      <th>last_name</th>\n",
              "      <th>city</th>\n",
              "      <th>tariff</th>\n",
              "      <th>reg_date</th>\n",
              "      <th>churn_date</th>\n",
              "      <th>month</th>\n",
              "      <th>mb_used_rounded</th>\n",
              "      <th>messages_number</th>\n",
              "      <th>duration_rounded</th>\n",
              "      <th>messages_included</th>\n",
              "      <th>mb_per_month_included</th>\n",
              "      <th>minutes_included</th>\n",
              "      <th>rub_monthly_fee</th>\n",
              "      <th>rub_per_gb</th>\n",
              "      <th>rub_per_message</th>\n",
              "      <th>rub_per_minute</th>\n",
              "    </tr>\n",
              "  </thead>\n",
              "  <tbody>\n",
              "    <tr>\n",
              "      <th>3214</th>\n",
              "      <td>1128</td>\n",
              "      <td>51</td>\n",
              "      <td>Ксения</td>\n",
              "      <td>Агаева</td>\n",
              "      <td>Волжский</td>\n",
              "      <td>ultra</td>\n",
              "      <td>2018-12-15</td>\n",
              "      <td>2018-12-23</td>\n",
              "      <td>NaN</td>\n",
              "      <td>0</td>\n",
              "      <td>0</td>\n",
              "      <td>0</td>\n",
              "      <td>1000</td>\n",
              "      <td>30720</td>\n",
              "      <td>3000</td>\n",
              "      <td>1950</td>\n",
              "      <td>150</td>\n",
              "      <td>1</td>\n",
              "      <td>1</td>\n",
              "    </tr>\n",
              "    <tr>\n",
              "      <th>3215</th>\n",
              "      <td>1371</td>\n",
              "      <td>50</td>\n",
              "      <td>Ириней</td>\n",
              "      <td>Трофимов</td>\n",
              "      <td>Омск</td>\n",
              "      <td>smart</td>\n",
              "      <td>2018-12-25</td>\n",
              "      <td>2018-12-30</td>\n",
              "      <td>NaN</td>\n",
              "      <td>0</td>\n",
              "      <td>0</td>\n",
              "      <td>0</td>\n",
              "      <td>50</td>\n",
              "      <td>15360</td>\n",
              "      <td>500</td>\n",
              "      <td>550</td>\n",
              "      <td>200</td>\n",
              "      <td>3</td>\n",
              "      <td>3</td>\n",
              "    </tr>\n",
              "  </tbody>\n",
              "</table>\n",
              "</div>"
            ],
            "text/plain": [
              "      user_id  age first_name  ... rub_per_gb rub_per_message rub_per_minute\n",
              "3214     1128   51     Ксения  ...        150               1              1\n",
              "3215     1371   50     Ириней  ...        200               3              3\n",
              "\n",
              "[2 rows x 19 columns]"
            ]
          },
          "metadata": {
            "tags": []
          }
        }
      ]
    },
    {
      "cell_type": "markdown",
      "metadata": {
        "id": "926DXaKl9Afp"
      },
      "source": [
        "В колонке \"месяц\" две пустые строки - два клиента не использовали купленный тариф. Это подтверждает и разница в несколько дней между датой регистрации и датой закрытия тарифа. Для подсчета выручки компании эти строки неинформативны, их можно удалить из датасета."
      ]
    },
    {
      "cell_type": "code",
      "metadata": {
        "id": "V2STyXkX-GNz"
      },
      "source": [
        "data = data.dropna(subset = ['month']).reset_index()\n",
        "#Проверка, закомментирована для компактности\n",
        "#data.info() "
      ],
      "execution_count": null,
      "outputs": []
    },
    {
      "cell_type": "markdown",
      "metadata": {
        "id": "EzuRAnWAA77r"
      },
      "source": [
        "# 4. Подготовка расчётных данных <a id=\"counting\"></a>"
      ]
    },
    {
      "cell_type": "markdown",
      "metadata": {
        "id": "ck9I_u1eBtcl"
      },
      "source": [
        "Рассчитаем ежемесячную выручку по каждому пользователю.  <a id=\"month_revenue\"></a>"
      ]
    },
    {
      "cell_type": "code",
      "metadata": {
        "id": "sYQmWQvXB8vm"
      },
      "source": [
        "#Создаем столбцы, в которые попадёт сумма выручки компании при превышении клиентом лимита по тарифам:\n",
        "data['revenue_calls'] = (data['duration_rounded'] - data['minutes_included']) * data['rub_per_minute']\n",
        "data['revenue_internet'] = (data['mb_used_rounded'] - data['mb_per_month_included']) * data['rub_per_gb'] / 1024\n",
        "data['revenue_messages'] = (data['messages_number'] - data['messages_included']) * data['rub_per_message']\n",
        "#В случае, если превышения нет, оставим в этих столбцах нули:\n",
        "data.loc[data['revenue_calls'] < 0, 'revenue_calls'] = 0\n",
        "data.loc[data['revenue_internet'] < 0, 'revenue_internet'] = 0\n",
        "data.loc[data['revenue_messages'] < 0, 'revenue_messages'] = 0\n",
        "#Итоговая выручка складывается из тарифа и оплаты за превышение трафика, лимита минут и сообщений:\n",
        "data['revenue_month'] = data['rub_monthly_fee'] + data['revenue_calls'] + data['revenue_internet'] + data['revenue_messages']\n",
        "#Проверка:\n",
        "#data[['rub_monthly_fee', 'duration_rounded', 'minutes_included', 'rub_per_minute', 'mb_used_rounded','mb_per_month_included','rub_per_gb', 'messages_number', 'messages_included', 'rub_per_message', 'revenue_calls', 'revenue_internet', 'revenue_messages', 'revenue_month']].tail(20)"
      ],
      "execution_count": null,
      "outputs": []
    },
    {
      "cell_type": "markdown",
      "metadata": {
        "id": "WKZnG-IZ2PRq"
      },
      "source": [
        "Итак:\n",
        " \n",
        "\n",
        "*   Информация об использовании тарифов сгруппирована по месяцам;\n",
        "*   Собрана из разрозненных файлов в единый датафрейм;\n",
        "*   Данные проверены на ошибки;\n",
        "*   Убраны пустые значения;\n",
        "*   В таблицу добавлен расчётный столбец ежемесячной выручки по каждому пользователю.\n",
        "\n",
        "Приступаем к анализу полученных данных.\n",
        "\n",
        "<a id=\"concl\"></a>   "
      ]
    },
    {
      "cell_type": "markdown",
      "metadata": {
        "id": "Y_cZfCp5LA9q"
      },
      "source": [
        "# 5. Анализ данных <a id=\"analysis\"></a>"
      ]
    },
    {
      "cell_type": "markdown",
      "metadata": {
        "id": "KjnOQ858a8Gf"
      },
      "source": [
        "В первую очередь, посмотрим, каким тарифом предпочитают пользоваться клиенты \"Мегалайна\". Построим круговую диаграмму: <a id=\"pie\"></a>"
      ]
    },
    {
      "cell_type": "code",
      "metadata": {
        "colab": {
          "base_uri": "https://localhost:8080/",
          "height": 264
        },
        "id": "6dOsv5c6bNYZ",
        "outputId": "76d67af7-b7eb-4345-f26b-b803fbe0984f"
      },
      "source": [
        "#Диаграмма на основе данных списка клиентов:\n",
        "users['tariff'].value_counts().plot(kind = 'pie', autopct='%1.2f%%', explode = (0, 0.1), shadow = True)\n",
        "plt.title('Доли тарифов Smart и Ultra среди выборки клиентов:')\n",
        "plt.show()"
      ],
      "execution_count": null,
      "outputs": [
        {
          "output_type": "display_data",
          "data": {
            "image/png": "[encoded data removed]",
            "text/plain": [
              "<Figure size 432x288 with 1 Axes>"
            ]
          },
          "metadata": {
            "tags": []
          }
        }
      ]
    },
    {
      "cell_type": "markdown",
      "metadata": {
        "id": "FHmNVHDr38kY"
      },
      "source": [
        "70% клиентов \"Мегалайна\" предпочитают универсальный и недорогой тариф Smart. "
      ]
    },
    {
      "cell_type": "markdown",
      "metadata": {
        "id": "iLUyuUoaoxAa"
      },
      "source": [
        "Проверим, как меняются доли тарифов в выборке по месяцам. Возможно, не всегда соотношение было таким. <a id=\"part_month\"></a>"
      ]
    },
    {
      "cell_type": "code",
      "metadata": {
        "colab": {
          "base_uri": "https://localhost:8080/",
          "height": 173
        },
        "id": "2-VDd5zZl1KM",
        "outputId": "c59bb7aa-a579-4315-c3f0-bb0ea01ee2fe"
      },
      "source": [
        "#Группируем таблицу по месяцу и тарифу. Данные - количество пользователей.\n",
        "grouped_data = data.groupby(['month', 'tariff'])['user_id'].count().reset_index().sort_values(by = ['month','user_id'])\n",
        "grouped_data.columns = ['month', 'tariff', 'count_users_part']\n",
        "#Групппируем таблицу только по месяцу без разбивки по тарифам.\n",
        "grouped_data_2 = data.groupby('month')['user_id'].count().reset_index()\n",
        "grouped_data_2.columns = ['month', 'count_users_total']\n",
        "#Объединяем обе таблицы по месяцу:\n",
        "grouped_data = grouped_data.merge(grouped_data_2, on = 'month', how = 'left').sort_values(by = ['month','tariff'])\n",
        "#Добавляем столбец с долей пользователя конкретного тарифа от общего количества пользователей:\n",
        "grouped_data['%'] = grouped_data['count_users_part'] * 100/ grouped_data['count_users_total']\n",
        "grouped_data.head(4)\n",
        "\n"
      ],
      "execution_count": null,
      "outputs": [
        {
          "output_type": "execute_result",
          "data": {
            "text/html": [
              "<div>\n",
              "<style scoped>\n",
              "    .dataframe tbody tr th:only-of-type {\n",
              "        vertical-align: middle;\n",
              "    }\n",
              "\n",
              "    .dataframe tbody tr th {\n",
              "        vertical-align: top;\n",
              "    }\n",
              "\n",
              "    .dataframe thead th {\n",
              "        text-align: right;\n",
              "    }\n",
              "</style>\n",
              "<table border=\"1\" class=\"dataframe\">\n",
              "  <thead>\n",
              "    <tr style=\"text-align: right;\">\n",
              "      <th></th>\n",
              "      <th>month</th>\n",
              "      <th>tariff</th>\n",
              "      <th>count_users_part</th>\n",
              "      <th>count_users_total</th>\n",
              "      <th>%</th>\n",
              "    </tr>\n",
              "  </thead>\n",
              "  <tbody>\n",
              "    <tr>\n",
              "      <th>1</th>\n",
              "      <td>01 January</td>\n",
              "      <td>smart</td>\n",
              "      <td>34</td>\n",
              "      <td>43</td>\n",
              "      <td>79.069767</td>\n",
              "    </tr>\n",
              "    <tr>\n",
              "      <th>0</th>\n",
              "      <td>01 January</td>\n",
              "      <td>ultra</td>\n",
              "      <td>9</td>\n",
              "      <td>43</td>\n",
              "      <td>20.930233</td>\n",
              "    </tr>\n",
              "    <tr>\n",
              "      <th>3</th>\n",
              "      <td>02 February</td>\n",
              "      <td>smart</td>\n",
              "      <td>58</td>\n",
              "      <td>82</td>\n",
              "      <td>70.731707</td>\n",
              "    </tr>\n",
              "    <tr>\n",
              "      <th>2</th>\n",
              "      <td>02 February</td>\n",
              "      <td>ultra</td>\n",
              "      <td>24</td>\n",
              "      <td>82</td>\n",
              "      <td>29.268293</td>\n",
              "    </tr>\n",
              "  </tbody>\n",
              "</table>\n",
              "</div>"
            ],
            "text/plain": [
              "         month tariff  count_users_part  count_users_total          %\n",
              "1   01 January  smart                34                 43  79.069767\n",
              "0   01 January  ultra                 9                 43  20.930233\n",
              "3  02 February  smart                58                 82  70.731707\n",
              "2  02 February  ultra                24                 82  29.268293"
            ]
          },
          "metadata": {
            "tags": []
          },
          "execution_count": 16
        }
      ]
    },
    {
      "cell_type": "code",
      "metadata": {
        "colab": {
          "base_uri": "https://localhost:8080/",
          "height": 410
        },
        "id": "JJLnBCDOOeBc",
        "outputId": "f8b39045-1529-4955-ee25-815d289dfaf7"
      },
      "source": [
        "#Строим столбчатую диаграмму, показывающую доли пользователей в разрезе месяца:\n",
        "month = grouped_data['month']\n",
        "tariff = grouped_data['tariff']\n",
        "part = grouped_data['%']\n",
        "sns.set()\n",
        "plt.figure(figsize = (15,6))\n",
        "ax = sns.barplot(y= month, x = part, hue = tariff, dodge = False)\n",
        "ax.set(title = \"Соотношение количества пользователей тарифов по месяцам\",\n",
        "      ylabel = \"Месяц\",\n",
        "      xlabel = \"Доля пользователей тарифа, %\")\n",
        "plt.show()"
      ],
      "execution_count": null,
      "outputs": [
        {
          "output_type": "display_data",
          "data": {
            "image/png": "[encoded data removed]",
            "text/plain": [
              "<Figure size 1080x432 with 1 Axes>"
            ]
          },
          "metadata": {
            "tags": []
          }
        }
      ]
    },
    {
      "cell_type": "markdown",
      "metadata": {
        "id": "za9IE_244mGH"
      },
      "source": [
        "В январе доля пользователей тарифа Smart была 80%, затем в течение полугода начала снижаться примерно до 65%, затем опять приблизилась к средним 70%."
      ]
    },
    {
      "cell_type": "markdown",
      "metadata": {
        "id": "2K-8dJ905IpG"
      },
      "source": [
        "В первую очередь посмотрим на характеристики распределения данных. <a id=\"describe\"></a>"
      ]
    },
    {
      "cell_type": "code",
      "metadata": {
        "colab": {
          "base_uri": "https://localhost:8080/",
          "height": 219
        },
        "id": "mo67ON3Go4gS",
        "outputId": "dc02018f-461d-40f2-f380-32196a32311d"
      },
      "source": [
        "data_ultra = data.query('tariff == \"ultra\"')\n",
        "data_smart = data.query('tariff == \"smart\"')\n",
        "print('Характеристики распределения длительности разговора, интернет-трафика и количества сообщений для тарифа \"Smart\":')\n",
        "display(data_smart[['duration_rounded', 'mb_used_rounded', 'messages_number']].describe().loc[['mean', \\\n",
        "'std']].append(pd.Series(np.var(data_smart[['duration_rounded', 'mb_used_rounded', \\\n",
        "'messages_number']], ddof = 1), name = 'var')).style.format('{:.2f}'))\n",
        "\n",
        "print('Характеристики распределения длительности разговора, интернет-трафика и количества сообщений для тарифа \"Ultra\":')\n",
        "display(data_ultra[['duration_rounded', 'mb_used_rounded', 'messages_number']].describe().loc[['mean', \\\n",
        "'std']].append(pd.Series(np.var(data_ultra[['duration_rounded', 'mb_used_rounded', \\\n",
        "'messages_number']], ddof = 1), name = 'var')).style.format('{:.2f}'))\n"
      ],
      "execution_count": null,
      "outputs": [
        {
          "output_type": "stream",
          "text": [
            "Характеристики распределения длительности разговора, интернет-трафика и количества сообщений для тарифа \"Smart\":\n"
          ],
          "name": "stdout"
        },
        {
          "output_type": "display_data",
          "data": {
            "text/html": [
              "<style  type=\"text/css\" >\n",
              "</style><table id=\"T_6a73c412_fcf2_11eb_a660_0242ac1c0002\" ><thead>    <tr>        <th class=\"blank level0\" ></th>        <th class=\"col_heading level0 col0\" >duration_rounded</th>        <th class=\"col_heading level0 col1\" >mb_used_rounded</th>        <th class=\"col_heading level0 col2\" >messages_number</th>    </tr></thead><tbody>\n",
              "                <tr>\n",
              "                        <th id=\"T_6a73c412_fcf2_11eb_a660_0242ac1c0002level0_row0\" class=\"row_heading level0 row0\" >mean</th>\n",
              "                        <td id=\"T_6a73c412_fcf2_11eb_a660_0242ac1c0002row0_col0\" class=\"data row0 col0\" >429.45</td>\n",
              "                        <td id=\"T_6a73c412_fcf2_11eb_a660_0242ac1c0002row0_col1\" class=\"data row0 col1\" >16229.19</td>\n",
              "                        <td id=\"T_6a73c412_fcf2_11eb_a660_0242ac1c0002row0_col2\" class=\"data row0 col2\" >33.38</td>\n",
              "            </tr>\n",
              "            <tr>\n",
              "                        <th id=\"T_6a73c412_fcf2_11eb_a660_0242ac1c0002level0_row1\" class=\"row_heading level0 row1\" >std</th>\n",
              "                        <td id=\"T_6a73c412_fcf2_11eb_a660_0242ac1c0002row1_col0\" class=\"data row1 col0\" >194.87</td>\n",
              "                        <td id=\"T_6a73c412_fcf2_11eb_a660_0242ac1c0002row1_col1\" class=\"data row1 col1\" >5877.58</td>\n",
              "                        <td id=\"T_6a73c412_fcf2_11eb_a660_0242ac1c0002row1_col2\" class=\"data row1 col2\" >28.23</td>\n",
              "            </tr>\n",
              "            <tr>\n",
              "                        <th id=\"T_6a73c412_fcf2_11eb_a660_0242ac1c0002level0_row2\" class=\"row_heading level0 row2\" >var</th>\n",
              "                        <td id=\"T_6a73c412_fcf2_11eb_a660_0242ac1c0002row2_col0\" class=\"data row2 col0\" >37974.77</td>\n",
              "                        <td id=\"T_6a73c412_fcf2_11eb_a660_0242ac1c0002row2_col1\" class=\"data row2 col1\" >34545911.13</td>\n",
              "                        <td id=\"T_6a73c412_fcf2_11eb_a660_0242ac1c0002row2_col2\" class=\"data row2 col2\" >796.81</td>\n",
              "            </tr>\n",
              "    </tbody></table>"
            ],
            "text/plain": [
              "<pandas.io.formats.style.Styler at 0x7f4b9b270b50>"
            ]
          },
          "metadata": {
            "tags": []
          }
        },
        {
          "output_type": "stream",
          "text": [
            "Характеристики распределения длительности разговора, интернет-трафика и количества сообщений для тарифа \"Ultra\":\n"
          ],
          "name": "stdout"
        },
        {
          "output_type": "display_data",
          "data": {
            "text/html": [
              "<style  type=\"text/css\" >\n",
              "</style><table id=\"T_6a781242_fcf2_11eb_a660_0242ac1c0002\" ><thead>    <tr>        <th class=\"blank level0\" ></th>        <th class=\"col_heading level0 col0\" >duration_rounded</th>        <th class=\"col_heading level0 col1\" >mb_used_rounded</th>        <th class=\"col_heading level0 col2\" >messages_number</th>    </tr></thead><tbody>\n",
              "                <tr>\n",
              "                        <th id=\"T_6a781242_fcf2_11eb_a660_0242ac1c0002level0_row0\" class=\"row_heading level0 row0\" >mean</th>\n",
              "                        <td id=\"T_6a781242_fcf2_11eb_a660_0242ac1c0002row0_col0\" class=\"data row0 col0\" >540.78</td>\n",
              "                        <td id=\"T_6a781242_fcf2_11eb_a660_0242ac1c0002row0_col1\" class=\"data row0 col1\" >19486.90</td>\n",
              "                        <td id=\"T_6a781242_fcf2_11eb_a660_0242ac1c0002row0_col2\" class=\"data row0 col2\" >49.36</td>\n",
              "            </tr>\n",
              "            <tr>\n",
              "                        <th id=\"T_6a781242_fcf2_11eb_a660_0242ac1c0002level0_row1\" class=\"row_heading level0 row1\" >std</th>\n",
              "                        <td id=\"T_6a781242_fcf2_11eb_a660_0242ac1c0002row1_col0\" class=\"data row1 col0\" >325.74</td>\n",
              "                        <td id=\"T_6a781242_fcf2_11eb_a660_0242ac1c0002row1_col1\" class=\"data row1 col1\" >10096.32</td>\n",
              "                        <td id=\"T_6a781242_fcf2_11eb_a660_0242ac1c0002row1_col2\" class=\"data row1 col2\" >47.80</td>\n",
              "            </tr>\n",
              "            <tr>\n",
              "                        <th id=\"T_6a781242_fcf2_11eb_a660_0242ac1c0002level0_row2\" class=\"row_heading level0 row2\" >var</th>\n",
              "                        <td id=\"T_6a781242_fcf2_11eb_a660_0242ac1c0002row2_col0\" class=\"data row2 col0\" >106105.73</td>\n",
              "                        <td id=\"T_6a781242_fcf2_11eb_a660_0242ac1c0002row2_col1\" class=\"data row2 col1\" >101935621.05</td>\n",
              "                        <td id=\"T_6a781242_fcf2_11eb_a660_0242ac1c0002row2_col2\" class=\"data row2 col2\" >2285.27</td>\n",
              "            </tr>\n",
              "    </tbody></table>"
            ],
            "text/plain": [
              "<pandas.io.formats.style.Styler at 0x7f4b9b2d2110>"
            ]
          },
          "metadata": {
            "tags": []
          }
        }
      ]
    },
    {
      "cell_type": "markdown",
      "metadata": {
        "id": "t2KNo6ipsUlX"
      },
      "source": [
        "По характеристикам распределения можно сделать выводы:\n",
        "*   **Средняя длительность разговора не сильно зависит от тарифа**. В среднем человеку нужно около 430 минут разговора на тарифе \"Smart\" и 540 - на тарифе \"Ultra\". Среднее и медиана у распределения близки, т.е. выбросов немного.\n",
        "*   **Сообщения сейчас не в моде**. Пользователи обоих тарифов за редким исключением не превышают лимит.\n",
        "*   **Основные различия касаются объема интернет-трафика**. Пользователи тарифа \"Smart\" превышают лимит 15Гб и платят за дополнительные мегабайты чаще, чем в половине случаев. Пользователи \"Ultra\" используют интернет активнее (в среднем на 3Гб), но больше чем в 75% случаев не выходят за увеличенный лимит в 30Гб.\n",
        "\n"
      ]
    },
    {
      "cell_type": "markdown",
      "metadata": {
        "id": "vkdU9k6ysIeG"
      },
      "source": [
        "Для наглядности построим сравнительные графики длительности разговора, отправки смс и активности пользователя в сети в зависимости от выбранного тарифа. <a id=\"hist\"></a>"
      ]
    },
    {
      "cell_type": "code",
      "metadata": {
        "colab": {
          "base_uri": "https://localhost:8080/",
          "height": 247
        },
        "id": "w5gVu7OABMrV",
        "outputId": "56b88f70-9c1c-4f03-c669-08a3ed6e4276"
      },
      "source": [
        "#Строим гистограммы распределений ежемесячной длительности разговора, количества сообщений и объема интернет-трафика:\n",
        "#tariff = data['tariff']\n",
        "sns.set()\n",
        "fig,axes=plt.subplots(1,3)\n",
        "fig.set_size_inches(15, 3)\n",
        "for tariff in ['smart', 'ultra']:\n",
        "  ax = sns.distplot(data.query('tariff == @tariff')['duration_rounded'], label = tariff, ax = axes[0])\n",
        "  ax1 = sns.distplot(data.query('tariff == @tariff')['mb_used_rounded'], label = tariff, ax = axes[1])\n",
        "  ax2 = sns.distplot(data.query('tariff == @tariff')['messages_number'], label = tariff, ax = axes[2])\n",
        "\n",
        "ax.set(title = \"Распределение длительности звонков\",\n",
        "      xlabel = \"Продолжительность разговора, мин\",\n",
        "      ylabel = \"Плотность вероятности\")\n",
        "ax1.set(title = \"Распределение объёма интернет-трафика\",\n",
        "      xlabel = \"Количество потраченнных мегабайт, Мб\",\n",
        "      ylabel = \"Плотность вероятности\")\n",
        "ax2.set(title = \"Распределение количества сообщений\",\n",
        "      xlabel = \"Количество сообщений, шт\",\n",
        "      ylabel = \"Плотность вероятности\")\n",
        "      \n",
        "ax.legend()\n",
        "ax1.legend()\n",
        "ax2.legend()\n",
        "plt.show()"
      ],
      "execution_count": null,
      "outputs": [
        {
          "output_type": "display_data",
          "data": {
            "image/png": "[encoded data removed]",
            "text/plain": [
              "<Figure size 1080x216 with 3 Axes>"
            ]
          },
          "metadata": {
            "tags": []
          }
        }
      ]
    },
    {
      "cell_type": "markdown",
      "metadata": {
        "id": "aB8qnHBN_E0u"
      },
      "source": [
        "В целом поведение пользователя в обоих случаях похожее, но на графиках видно **смещение вправо** распределения длительности звонков и объёма интернет-трафика **по тарифу \"Ultra\"**. Лимиты больше - использование свободнее.\n",
        "\n",
        "Эти распределения близки к нормальным. **Распределение количества сообщений стремится к экспоненциальному виду**. Максимум около нуля. Пользователей, отправляющих много sms, мало."
      ]
    },
    {
      "cell_type": "markdown",
      "metadata": {
        "id": "d6dZ91aSBLlK"
      },
      "source": [
        "# 6. Проверка гипотез (анализ выручки) <a id=\"revenue\"></a>"
      ]
    },
    {
      "cell_type": "markdown",
      "metadata": {
        "id": "AsgQKZ5SBWRV"
      },
      "source": [
        "В первую очередь посчитаем характеристики распределения выручки по тарифам. <a id=\"revenue_describe\"></a>"
      ]
    },
    {
      "cell_type": "code",
      "metadata": {
        "colab": {
          "base_uri": "https://localhost:8080/",
          "height": 424
        },
        "id": "OlEYTAY8BeHh",
        "outputId": "f75c6bc2-eaf7-4551-ded7-338dc363cd98"
      },
      "source": [
        "print('Характеристики распределения ежемесячной выручки по тарифу \"Smart\":')\n",
        "display(data_smart[['revenue_month']].describe().style.format('{:.2f}'))\n",
        "print('Характеристики распределения ежемесячной выручки по тарифу \"Ultra\":')\n",
        "display(data_ultra[['revenue_month']].describe().style.format('{:.2f}'))"
      ],
      "execution_count": null,
      "outputs": [
        {
          "output_type": "stream",
          "text": [
            "Характеристики распределения ежемесячной выручки по тарифу \"Smart\":\n"
          ],
          "name": "stdout"
        },
        {
          "output_type": "display_data",
          "data": {
            "text/html": [
              "<style  type=\"text/css\" >\n",
              "</style><table id=\"T_6b553c12_fcf2_11eb_a660_0242ac1c0002\" ><thead>    <tr>        <th class=\"blank level0\" ></th>        <th class=\"col_heading level0 col0\" >revenue_month</th>    </tr></thead><tbody>\n",
              "                <tr>\n",
              "                        <th id=\"T_6b553c12_fcf2_11eb_a660_0242ac1c0002level0_row0\" class=\"row_heading level0 row0\" >count</th>\n",
              "                        <td id=\"T_6b553c12_fcf2_11eb_a660_0242ac1c0002row0_col0\" class=\"data row0 col0\" >2229.00</td>\n",
              "            </tr>\n",
              "            <tr>\n",
              "                        <th id=\"T_6b553c12_fcf2_11eb_a660_0242ac1c0002level0_row1\" class=\"row_heading level0 row1\" >mean</th>\n",
              "                        <td id=\"T_6b553c12_fcf2_11eb_a660_0242ac1c0002row1_col0\" class=\"data row1 col0\" >1250.33</td>\n",
              "            </tr>\n",
              "            <tr>\n",
              "                        <th id=\"T_6b553c12_fcf2_11eb_a660_0242ac1c0002level0_row2\" class=\"row_heading level0 row2\" >std</th>\n",
              "                        <td id=\"T_6b553c12_fcf2_11eb_a660_0242ac1c0002row2_col0\" class=\"data row2 col0\" >797.03</td>\n",
              "            </tr>\n",
              "            <tr>\n",
              "                        <th id=\"T_6b553c12_fcf2_11eb_a660_0242ac1c0002level0_row3\" class=\"row_heading level0 row3\" >min</th>\n",
              "                        <td id=\"T_6b553c12_fcf2_11eb_a660_0242ac1c0002row3_col0\" class=\"data row3 col0\" >550.00</td>\n",
              "            </tr>\n",
              "            <tr>\n",
              "                        <th id=\"T_6b553c12_fcf2_11eb_a660_0242ac1c0002level0_row4\" class=\"row_heading level0 row4\" >25%</th>\n",
              "                        <td id=\"T_6b553c12_fcf2_11eb_a660_0242ac1c0002row4_col0\" class=\"data row4 col0\" >553.00</td>\n",
              "            </tr>\n",
              "            <tr>\n",
              "                        <th id=\"T_6b553c12_fcf2_11eb_a660_0242ac1c0002level0_row5\" class=\"row_heading level0 row5\" >50%</th>\n",
              "                        <td id=\"T_6b553c12_fcf2_11eb_a660_0242ac1c0002row5_col0\" class=\"data row5 col0\" >986.49</td>\n",
              "            </tr>\n",
              "            <tr>\n",
              "                        <th id=\"T_6b553c12_fcf2_11eb_a660_0242ac1c0002level0_row6\" class=\"row_heading level0 row6\" >75%</th>\n",
              "                        <td id=\"T_6b553c12_fcf2_11eb_a660_0242ac1c0002row6_col0\" class=\"data row6 col0\" >1701.56</td>\n",
              "            </tr>\n",
              "            <tr>\n",
              "                        <th id=\"T_6b553c12_fcf2_11eb_a660_0242ac1c0002level0_row7\" class=\"row_heading level0 row7\" >max</th>\n",
              "                        <td id=\"T_6b553c12_fcf2_11eb_a660_0242ac1c0002row7_col0\" class=\"data row7 col0\" >6765.02</td>\n",
              "            </tr>\n",
              "    </tbody></table>"
            ],
            "text/plain": [
              "<pandas.io.formats.style.Styler at 0x7f4b9a89c190>"
            ]
          },
          "metadata": {
            "tags": []
          }
        },
        {
          "output_type": "stream",
          "text": [
            "Характеристики распределения ежемесячной выручки по тарифу \"Ultra\":\n"
          ],
          "name": "stdout"
        },
        {
          "output_type": "display_data",
          "data": {
            "text/html": [
              "<style  type=\"text/css\" >\n",
              "</style><table id=\"T_6b590798_fcf2_11eb_a660_0242ac1c0002\" ><thead>    <tr>        <th class=\"blank level0\" ></th>        <th class=\"col_heading level0 col0\" >revenue_month</th>    </tr></thead><tbody>\n",
              "                <tr>\n",
              "                        <th id=\"T_6b590798_fcf2_11eb_a660_0242ac1c0002level0_row0\" class=\"row_heading level0 row0\" >count</th>\n",
              "                        <td id=\"T_6b590798_fcf2_11eb_a660_0242ac1c0002row0_col0\" class=\"data row0 col0\" >985.00</td>\n",
              "            </tr>\n",
              "            <tr>\n",
              "                        <th id=\"T_6b590798_fcf2_11eb_a660_0242ac1c0002level0_row1\" class=\"row_heading level0 row1\" >mean</th>\n",
              "                        <td id=\"T_6b590798_fcf2_11eb_a660_0242ac1c0002row1_col0\" class=\"data row1 col0\" >2060.53</td>\n",
              "            </tr>\n",
              "            <tr>\n",
              "                        <th id=\"T_6b590798_fcf2_11eb_a660_0242ac1c0002level0_row2\" class=\"row_heading level0 row2\" >std</th>\n",
              "                        <td id=\"T_6b590798_fcf2_11eb_a660_0242ac1c0002row2_col0\" class=\"data row2 col0\" >356.31</td>\n",
              "            </tr>\n",
              "            <tr>\n",
              "                        <th id=\"T_6b590798_fcf2_11eb_a660_0242ac1c0002level0_row3\" class=\"row_heading level0 row3\" >min</th>\n",
              "                        <td id=\"T_6b590798_fcf2_11eb_a660_0242ac1c0002row3_col0\" class=\"data row3 col0\" >1950.00</td>\n",
              "            </tr>\n",
              "            <tr>\n",
              "                        <th id=\"T_6b590798_fcf2_11eb_a660_0242ac1c0002level0_row4\" class=\"row_heading level0 row4\" >25%</th>\n",
              "                        <td id=\"T_6b590798_fcf2_11eb_a660_0242ac1c0002row4_col0\" class=\"data row4 col0\" >1950.00</td>\n",
              "            </tr>\n",
              "            <tr>\n",
              "                        <th id=\"T_6b590798_fcf2_11eb_a660_0242ac1c0002level0_row5\" class=\"row_heading level0 row5\" >50%</th>\n",
              "                        <td id=\"T_6b590798_fcf2_11eb_a660_0242ac1c0002row5_col0\" class=\"data row5 col0\" >1950.00</td>\n",
              "            </tr>\n",
              "            <tr>\n",
              "                        <th id=\"T_6b590798_fcf2_11eb_a660_0242ac1c0002level0_row6\" class=\"row_heading level0 row6\" >75%</th>\n",
              "                        <td id=\"T_6b590798_fcf2_11eb_a660_0242ac1c0002row6_col0\" class=\"data row6 col0\" >1950.00</td>\n",
              "            </tr>\n",
              "            <tr>\n",
              "                        <th id=\"T_6b590798_fcf2_11eb_a660_0242ac1c0002level0_row7\" class=\"row_heading level0 row7\" >max</th>\n",
              "                        <td id=\"T_6b590798_fcf2_11eb_a660_0242ac1c0002row7_col0\" class=\"data row7 col0\" >4743.31</td>\n",
              "            </tr>\n",
              "    </tbody></table>"
            ],
            "text/plain": [
              "<pandas.io.formats.style.Styler at 0x7f4b9b370710>"
            ]
          },
          "metadata": {
            "tags": []
          }
        }
      ]
    },
    {
      "cell_type": "markdown",
      "metadata": {
        "id": "Aa_GEoKfD6kf"
      },
      "source": [
        "Построим гистограммы распределения выручки по тарифам."
      ]
    },
    {
      "cell_type": "code",
      "metadata": {
        "colab": {
          "base_uri": "https://localhost:8080/",
          "height": 410
        },
        "id": "mMJvsIu5Cazc",
        "outputId": "8ccef294-b5f6-4b71-f357-e9e1921174b7"
      },
      "source": [
        "sns.set()\n",
        "fig, ax = plt.subplots()\n",
        "fig.set_size_inches(10, 6)\n",
        "for tariff in ['smart', 'ultra']:\n",
        "  ax = sns.distplot(data.query('tariff == @tariff')['revenue_month'], label = tariff)\n",
        "ax.set(title = \"Распределение выручки по тарифам\",\n",
        "      xlabel = \"Ежемесячная выручка с пользователя, руб\",\n",
        "      ylabel = \"Плотность вероятности\")\n",
        "      \n",
        "ax.legend()\n",
        "plt.show()"
      ],
      "execution_count": null,
      "outputs": [
        {
          "output_type": "display_data",
          "data": {
            "image/png": "[encoded data removed]",
            "text/plain": [
              "<Figure size 720x432 with 1 Axes>"
            ]
          },
          "metadata": {
            "tags": []
          }
        }
      ]
    },
    {
      "cell_type": "markdown",
      "metadata": {
        "id": "S0Pov4RKEBC6"
      },
      "source": [
        "График наглядно показывает, что выручка подчиняется экспоненциальному распределению. Пик в обоих случаях - выручка, равная абонентской плате. Меньше сумма быть не может. Количество пользователей, превышающих лимит по включенным ресурсам - больше половины на тарифе \"Smart\" и меньше 25% на тарифе \"Ultra\"."
      ]
    },
    {
      "cell_type": "markdown",
      "metadata": {
        "id": "EmLxv5G9Gefh"
      },
      "source": [
        "Проверим гипотезу H0 о том, что средняя выручка по тарифу \"Smart\" и \"Ultra\" в двух соответствующих генеральных совокупностях одинакова. \n",
        "\n",
        "Для начала проведём тест Левене о равенстве дисперсий двух выборок/совокупностей (мы предполагаем, что наши данные неоднородны и содержат выбросы, поэтому используем именно этот тест). <a id=\"Hyp1\"></a>"
      ]
    },
    {
      "cell_type": "code",
      "metadata": {
        "colab": {
          "base_uri": "https://localhost:8080/"
        },
        "id": "VPTWi1ZMRvVL",
        "outputId": "2531d2b6-5810-4ea0-cac4-e1b5ab83265a"
      },
      "source": [
        "a = data_smart['revenue_month']\n",
        "b = data_ultra['revenue_month']\n",
        "alpha = 0.05\n",
        "stat, p = levene(a, b)\n",
        "print(p)\n",
        "if (p < alpha):\n",
        "    print(\"Отвергаем нулевую гипотезу\")\n",
        "else:\n",
        "    print(\"Не получилось отвергнуть нулевую гипотезу\")"
      ],
      "execution_count": null,
      "outputs": [
        {
          "output_type": "stream",
          "text": [
            "5.212050107656611e-119\n",
            "Отвергаем нулевую гипотезу\n"
          ],
          "name": "stdout"
        }
      ]
    },
    {
      "cell_type": "markdown",
      "metadata": {
        "id": "JUzH1ni6RvVL"
      },
      "source": [
        "Итак, тест Левене показал, что нужно принять альтернативную гипотезу: дисперсии совокупностей различаются. Учтем это при проведении Т-теста ниже."
      ]
    },
    {
      "cell_type": "code",
      "metadata": {
        "colab": {
          "base_uri": "https://localhost:8080/"
        },
        "id": "A4GwdehCKoe5",
        "outputId": "1d8943e0-1df0-41b3-815c-6c7bd7c4844a"
      },
      "source": [
        "alpha = 0.05\n",
        "results = st.ttest_ind(\n",
        "    data_smart['revenue_month'], \n",
        "    data_ultra['revenue_month'],\n",
        "    equal_var = False)\n",
        "print('p-значение:', results.pvalue)\n",
        " \n",
        "if (results.pvalue < alpha):\n",
        "    print(\"Отвергаем нулевую гипотезу\")\n",
        "else:\n",
        "    print(\"Не получилось отвергнуть нулевую гипотезу\")"
      ],
      "execution_count": null,
      "outputs": [
        {
          "output_type": "stream",
          "text": [
            "p-значение: 3.0842599087855415e-282\n",
            "Отвергаем нулевую гипотезу\n"
          ],
          "name": "stdout"
        }
      ]
    },
    {
      "cell_type": "markdown",
      "metadata": {
        "id": "CmhAdDbZK6Pa"
      },
      "source": [
        "Уровень значимости статистики разности средних наших показателей (**p-value**) исчезающе мал, поэтому принимаем альтернативную гипотезу: с высокой вероятностью средняя выручка по тарифам отличается, как и в нашей выборке."
      ]
    },
    {
      "cell_type": "code",
      "metadata": {
        "colab": {
          "base_uri": "https://localhost:8080/"
        },
        "id": "W0QWQf0pNJkX",
        "outputId": "5e314a88-0fef-446b-b1d3-40fbd9197682"
      },
      "source": [
        "print('Средняя выручка с пользователя по тарифу \"Smart\" {:.2f} рублей.'.format(data_smart['revenue_month'].mean()))\n",
        "print('Средняя выручка с пользователя по тарифу \"Ultra\" {:.2f} рублей.'.format(data_ultra['revenue_month'].mean()))"
      ],
      "execution_count": null,
      "outputs": [
        {
          "output_type": "stream",
          "text": [
            "Средняя выручка с пользователя по тарифу \"Smart\" 1250.33 рублей.\n",
            "Средняя выручка с пользователя по тарифу \"Ultra\" 2060.53 рублей.\n"
          ],
          "name": "stdout"
        }
      ]
    },
    {
      "cell_type": "markdown",
      "metadata": {
        "id": "r1LKGzNoOEfe"
      },
      "source": [
        "Такой результат позволяет рекомендовать сотовому оператору провести рекламную кампанию в пользу тарифа \"Ultra\": увеличение его доли среди всех пользователей поднимет среднюю выручку."
      ]
    },
    {
      "cell_type": "markdown",
      "metadata": {
        "id": "3vhV7btiOedF"
      },
      "source": [
        "Проверим еще одну гипотезу: выручка по тарифам не зависит от города проживания абонента (одинакова в Москве и регионах). <a id=\"hyp2\"></a>"
      ]
    },
    {
      "cell_type": "code",
      "metadata": {
        "colab": {
          "base_uri": "https://localhost:8080/"
        },
        "id": "PFtWNQ5ROpmC",
        "outputId": "f1ac9d92-eb73-40f3-f65b-c81fbc52ea7d"
      },
      "source": [
        "#Формируем столбец с разбивкой Москва/регионы:\n",
        "data['moscow_regions'] = (data['city'] == 'Москва')\n",
        "data.loc[data['moscow_regions'] == True, 'moscow_regions'] = 'Москва'\n",
        "data.loc[data['moscow_regions'] == False, 'moscow_regions'] = 'Регионы'\n",
        "data['moscow_regions'].unique()"
      ],
      "execution_count": null,
      "outputs": [
        {
          "output_type": "execute_result",
          "data": {
            "text/plain": [
              "array(['Регионы', 'Москва'], dtype=object)"
            ]
          },
          "metadata": {
            "tags": []
          },
          "execution_count": 25
        }
      ]
    },
    {
      "cell_type": "code",
      "metadata": {
        "colab": {
          "base_uri": "https://localhost:8080/",
          "height": 355
        },
        "id": "kGyknGmERuIa",
        "outputId": "0167d2b5-7b4f-4530-8623-4cf4cc3f9248"
      },
      "source": [
        "#Строим гистограмму распределения выручки по заданному критерию:\n",
        "#Примечание: в тренажере, видимо, не установлен последний seaborn, нужный график не отображается. Выведу другой.\n",
        "#sns.displot(data=data.sort_values(by = 'tariff'),\n",
        "#            x='revenue_month',\n",
        "#            hue='tariff',\n",
        "#            col='moscow_regions',\n",
        "#            bins=30,\n",
        "#            kde=True)\n",
        "#plt.show()\n",
        "\n",
        "sns.set()\n",
        "fig,axes=plt.subplots(1,2)\n",
        "fig.set_size_inches(15, 5)\n",
        "for regions in ['Москва', 'Регионы']:\n",
        "  ax = sns.distplot(data.query('tariff == \"smart\" and moscow_regions == @regions')['revenue_month'], label = regions, ax = axes[0])\n",
        "  ax1 = sns.distplot(data.query('tariff == \"ultra\"and moscow_regions == @regions')['revenue_month'], label = regions, ax = axes[1])\n",
        "\n",
        "ax.set(title = \"Распределение выручки по тарифу Smart\",\n",
        "      xlabel = \"Выручка по пользователям, руб\",\n",
        "      ylabel = \"Плотность вероятности\")\n",
        "ax1.set(title = \"Распределение выручки по тарифу Ultra\",\n",
        "      xlabel = \"Выручка по пользователям, руб\",\n",
        "      ylabel = \"Плотность вероятности\")\n",
        "      \n",
        "ax.legend()\n",
        "ax1.legend()\n",
        "plt.show()"
      ],
      "execution_count": null,
      "outputs": [
        {
          "output_type": "display_data",
          "data": {
            "image/png": "[encoded data removed]",
            "text/plain": [
              "<Figure size 1080x360 with 2 Axes>"
            ]
          },
          "metadata": {
            "tags": []
          }
        }
      ]
    },
    {
      "cell_type": "code",
      "metadata": {
        "colab": {
          "base_uri": "https://localhost:8080/",
          "height": 832
        },
        "id": "xbj8MEgxTA7f",
        "outputId": "6595fbf9-6a0a-4e2e-f871-be22f772be02"
      },
      "source": [
        "data_smart_moscow = data.query('tariff == \"smart\" and moscow_regions == \"Москва\"')\n",
        "data_smart_regions = data.query('tariff == \"smart\" and moscow_regions == \"Регионы\"')\n",
        "print('Характеристики распределения ежемесячной выручки по тарифу \"Smart\" в Москве:')\n",
        "display(data_smart_moscow[['revenue_month']].describe().style.format('{:.2f}'))\n",
        "print('Характеристики распределения ежемесячной выручки по тарифу \"Smart\" в регионах:')\n",
        "display(data_smart_regions[['revenue_month']].describe().style.format('{:.2f}'))\n",
        "\n",
        "data_ultra_moscow = data.query('tariff == \"ultra\" and moscow_regions == \"Москва\"')\n",
        "data_ultra_regions = data.query('tariff == \"ultra\" and moscow_regions == \"Регионы\"')\n",
        "print('Характеристики распределения ежемесячной выручки по тарифу \"Ultra\" в Москве:')\n",
        "display(data_ultra_moscow[['revenue_month']].describe().style.format('{:.2f}'))\n",
        "print('Характеристики распределения ежемесячной выручки по тарифу \"Ultra\" в регионах:')\n",
        "display(data_ultra_regions[['revenue_month']].describe().style.format('{:.2f}'))"
      ],
      "execution_count": null,
      "outputs": [
        {
          "output_type": "stream",
          "text": [
            "Характеристики распределения ежемесячной выручки по тарифу \"Smart\" в Москве:\n"
          ],
          "name": "stdout"
        },
        {
          "output_type": "display_data",
          "data": {
            "text/html": [
              "<style  type=\"text/css\" >\n",
              "</style><table id=\"T_6c5d0b80_fcf2_11eb_a660_0242ac1c0002\" ><thead>    <tr>        <th class=\"blank level0\" ></th>        <th class=\"col_heading level0 col0\" >revenue_month</th>    </tr></thead><tbody>\n",
              "                <tr>\n",
              "                        <th id=\"T_6c5d0b80_fcf2_11eb_a660_0242ac1c0002level0_row0\" class=\"row_heading level0 row0\" >count</th>\n",
              "                        <td id=\"T_6c5d0b80_fcf2_11eb_a660_0242ac1c0002row0_col0\" class=\"data row0 col0\" >386.00</td>\n",
              "            </tr>\n",
              "            <tr>\n",
              "                        <th id=\"T_6c5d0b80_fcf2_11eb_a660_0242ac1c0002level0_row1\" class=\"row_heading level0 row1\" >mean</th>\n",
              "                        <td id=\"T_6c5d0b80_fcf2_11eb_a660_0242ac1c0002row1_col0\" class=\"data row1 col0\" >1198.43</td>\n",
              "            </tr>\n",
              "            <tr>\n",
              "                        <th id=\"T_6c5d0b80_fcf2_11eb_a660_0242ac1c0002level0_row2\" class=\"row_heading level0 row2\" >std</th>\n",
              "                        <td id=\"T_6c5d0b80_fcf2_11eb_a660_0242ac1c0002row2_col0\" class=\"data row2 col0\" >727.73</td>\n",
              "            </tr>\n",
              "            <tr>\n",
              "                        <th id=\"T_6c5d0b80_fcf2_11eb_a660_0242ac1c0002level0_row3\" class=\"row_heading level0 row3\" >min</th>\n",
              "                        <td id=\"T_6c5d0b80_fcf2_11eb_a660_0242ac1c0002row3_col0\" class=\"data row3 col0\" >550.00</td>\n",
              "            </tr>\n",
              "            <tr>\n",
              "                        <th id=\"T_6c5d0b80_fcf2_11eb_a660_0242ac1c0002level0_row4\" class=\"row_heading level0 row4\" >25%</th>\n",
              "                        <td id=\"T_6c5d0b80_fcf2_11eb_a660_0242ac1c0002row4_col0\" class=\"data row4 col0\" >550.00</td>\n",
              "            </tr>\n",
              "            <tr>\n",
              "                        <th id=\"T_6c5d0b80_fcf2_11eb_a660_0242ac1c0002level0_row5\" class=\"row_heading level0 row5\" >50%</th>\n",
              "                        <td id=\"T_6c5d0b80_fcf2_11eb_a660_0242ac1c0002row5_col0\" class=\"data row5 col0\" >979.55</td>\n",
              "            </tr>\n",
              "            <tr>\n",
              "                        <th id=\"T_6c5d0b80_fcf2_11eb_a660_0242ac1c0002level0_row6\" class=\"row_heading level0 row6\" >75%</th>\n",
              "                        <td id=\"T_6c5d0b80_fcf2_11eb_a660_0242ac1c0002row6_col0\" class=\"data row6 col0\" >1624.09</td>\n",
              "            </tr>\n",
              "            <tr>\n",
              "                        <th id=\"T_6c5d0b80_fcf2_11eb_a660_0242ac1c0002level0_row7\" class=\"row_heading level0 row7\" >max</th>\n",
              "                        <td id=\"T_6c5d0b80_fcf2_11eb_a660_0242ac1c0002row7_col0\" class=\"data row7 col0\" >5222.43</td>\n",
              "            </tr>\n",
              "    </tbody></table>"
            ],
            "text/plain": [
              "<pandas.io.formats.style.Styler at 0x7f4b99448310>"
            ]
          },
          "metadata": {
            "tags": []
          }
        },
        {
          "output_type": "stream",
          "text": [
            "Характеристики распределения ежемесячной выручки по тарифу \"Smart\" в регионах:\n"
          ],
          "name": "stdout"
        },
        {
          "output_type": "display_data",
          "data": {
            "text/html": [
              "<style  type=\"text/css\" >\n",
              "</style><table id=\"T_6c5f235c_fcf2_11eb_a660_0242ac1c0002\" ><thead>    <tr>        <th class=\"blank level0\" ></th>        <th class=\"col_heading level0 col0\" >revenue_month</th>    </tr></thead><tbody>\n",
              "                <tr>\n",
              "                        <th id=\"T_6c5f235c_fcf2_11eb_a660_0242ac1c0002level0_row0\" class=\"row_heading level0 row0\" >count</th>\n",
              "                        <td id=\"T_6c5f235c_fcf2_11eb_a660_0242ac1c0002row0_col0\" class=\"data row0 col0\" >1843.00</td>\n",
              "            </tr>\n",
              "            <tr>\n",
              "                        <th id=\"T_6c5f235c_fcf2_11eb_a660_0242ac1c0002level0_row1\" class=\"row_heading level0 row1\" >mean</th>\n",
              "                        <td id=\"T_6c5f235c_fcf2_11eb_a660_0242ac1c0002row1_col0\" class=\"data row1 col0\" >1261.19</td>\n",
              "            </tr>\n",
              "            <tr>\n",
              "                        <th id=\"T_6c5f235c_fcf2_11eb_a660_0242ac1c0002level0_row2\" class=\"row_heading level0 row2\" >std</th>\n",
              "                        <td id=\"T_6c5f235c_fcf2_11eb_a660_0242ac1c0002row2_col0\" class=\"data row2 col0\" >810.56</td>\n",
              "            </tr>\n",
              "            <tr>\n",
              "                        <th id=\"T_6c5f235c_fcf2_11eb_a660_0242ac1c0002level0_row3\" class=\"row_heading level0 row3\" >min</th>\n",
              "                        <td id=\"T_6c5f235c_fcf2_11eb_a660_0242ac1c0002row3_col0\" class=\"data row3 col0\" >550.00</td>\n",
              "            </tr>\n",
              "            <tr>\n",
              "                        <th id=\"T_6c5f235c_fcf2_11eb_a660_0242ac1c0002level0_row4\" class=\"row_heading level0 row4\" >25%</th>\n",
              "                        <td id=\"T_6c5f235c_fcf2_11eb_a660_0242ac1c0002row4_col0\" class=\"data row4 col0\" >556.42</td>\n",
              "            </tr>\n",
              "            <tr>\n",
              "                        <th id=\"T_6c5f235c_fcf2_11eb_a660_0242ac1c0002level0_row5\" class=\"row_heading level0 row5\" >50%</th>\n",
              "                        <td id=\"T_6c5f235c_fcf2_11eb_a660_0242ac1c0002row5_col0\" class=\"data row5 col0\" >988.16</td>\n",
              "            </tr>\n",
              "            <tr>\n",
              "                        <th id=\"T_6c5f235c_fcf2_11eb_a660_0242ac1c0002level0_row6\" class=\"row_heading level0 row6\" >75%</th>\n",
              "                        <td id=\"T_6c5f235c_fcf2_11eb_a660_0242ac1c0002row6_col0\" class=\"data row6 col0\" >1723.54</td>\n",
              "            </tr>\n",
              "            <tr>\n",
              "                        <th id=\"T_6c5f235c_fcf2_11eb_a660_0242ac1c0002level0_row7\" class=\"row_heading level0 row7\" >max</th>\n",
              "                        <td id=\"T_6c5f235c_fcf2_11eb_a660_0242ac1c0002row7_col0\" class=\"data row7 col0\" >6765.02</td>\n",
              "            </tr>\n",
              "    </tbody></table>"
            ],
            "text/plain": [
              "<pandas.io.formats.style.Styler at 0x7f4b99463810>"
            ]
          },
          "metadata": {
            "tags": []
          }
        },
        {
          "output_type": "stream",
          "text": [
            "Характеристики распределения ежемесячной выручки по тарифу \"Ultra\" в Москве:\n"
          ],
          "name": "stdout"
        },
        {
          "output_type": "display_data",
          "data": {
            "text/html": [
              "<style  type=\"text/css\" >\n",
              "</style><table id=\"T_6c70eed4_fcf2_11eb_a660_0242ac1c0002\" ><thead>    <tr>        <th class=\"blank level0\" ></th>        <th class=\"col_heading level0 col0\" >revenue_month</th>    </tr></thead><tbody>\n",
              "                <tr>\n",
              "                        <th id=\"T_6c70eed4_fcf2_11eb_a660_0242ac1c0002level0_row0\" class=\"row_heading level0 row0\" >count</th>\n",
              "                        <td id=\"T_6c70eed4_fcf2_11eb_a660_0242ac1c0002row0_col0\" class=\"data row0 col0\" >225.00</td>\n",
              "            </tr>\n",
              "            <tr>\n",
              "                        <th id=\"T_6c70eed4_fcf2_11eb_a660_0242ac1c0002level0_row1\" class=\"row_heading level0 row1\" >mean</th>\n",
              "                        <td id=\"T_6c70eed4_fcf2_11eb_a660_0242ac1c0002row1_col0\" class=\"data row1 col0\" >2063.63</td>\n",
              "            </tr>\n",
              "            <tr>\n",
              "                        <th id=\"T_6c70eed4_fcf2_11eb_a660_0242ac1c0002level0_row2\" class=\"row_heading level0 row2\" >std</th>\n",
              "                        <td id=\"T_6c70eed4_fcf2_11eb_a660_0242ac1c0002row2_col0\" class=\"data row2 col0\" >330.57</td>\n",
              "            </tr>\n",
              "            <tr>\n",
              "                        <th id=\"T_6c70eed4_fcf2_11eb_a660_0242ac1c0002level0_row3\" class=\"row_heading level0 row3\" >min</th>\n",
              "                        <td id=\"T_6c70eed4_fcf2_11eb_a660_0242ac1c0002row3_col0\" class=\"data row3 col0\" >1950.00</td>\n",
              "            </tr>\n",
              "            <tr>\n",
              "                        <th id=\"T_6c70eed4_fcf2_11eb_a660_0242ac1c0002level0_row4\" class=\"row_heading level0 row4\" >25%</th>\n",
              "                        <td id=\"T_6c70eed4_fcf2_11eb_a660_0242ac1c0002row4_col0\" class=\"data row4 col0\" >1950.00</td>\n",
              "            </tr>\n",
              "            <tr>\n",
              "                        <th id=\"T_6c70eed4_fcf2_11eb_a660_0242ac1c0002level0_row5\" class=\"row_heading level0 row5\" >50%</th>\n",
              "                        <td id=\"T_6c70eed4_fcf2_11eb_a660_0242ac1c0002row5_col0\" class=\"data row5 col0\" >1950.00</td>\n",
              "            </tr>\n",
              "            <tr>\n",
              "                        <th id=\"T_6c70eed4_fcf2_11eb_a660_0242ac1c0002level0_row6\" class=\"row_heading level0 row6\" >75%</th>\n",
              "                        <td id=\"T_6c70eed4_fcf2_11eb_a660_0242ac1c0002row6_col0\" class=\"data row6 col0\" >1950.00</td>\n",
              "            </tr>\n",
              "            <tr>\n",
              "                        <th id=\"T_6c70eed4_fcf2_11eb_a660_0242ac1c0002level0_row7\" class=\"row_heading level0 row7\" >max</th>\n",
              "                        <td id=\"T_6c70eed4_fcf2_11eb_a660_0242ac1c0002row7_col0\" class=\"data row7 col0\" >3945.26</td>\n",
              "            </tr>\n",
              "    </tbody></table>"
            ],
            "text/plain": [
              "<pandas.io.formats.style.Styler at 0x7f4b9ac07dd0>"
            ]
          },
          "metadata": {
            "tags": []
          }
        },
        {
          "output_type": "stream",
          "text": [
            "Характеристики распределения ежемесячной выручки по тарифу \"Ultra\" в регионах:\n"
          ],
          "name": "stdout"
        },
        {
          "output_type": "display_data",
          "data": {
            "text/html": [
              "<style  type=\"text/css\" >\n",
              "</style><table id=\"T_6c7355f2_fcf2_11eb_a660_0242ac1c0002\" ><thead>    <tr>        <th class=\"blank level0\" ></th>        <th class=\"col_heading level0 col0\" >revenue_month</th>    </tr></thead><tbody>\n",
              "                <tr>\n",
              "                        <th id=\"T_6c7355f2_fcf2_11eb_a660_0242ac1c0002level0_row0\" class=\"row_heading level0 row0\" >count</th>\n",
              "                        <td id=\"T_6c7355f2_fcf2_11eb_a660_0242ac1c0002row0_col0\" class=\"data row0 col0\" >760.00</td>\n",
              "            </tr>\n",
              "            <tr>\n",
              "                        <th id=\"T_6c7355f2_fcf2_11eb_a660_0242ac1c0002level0_row1\" class=\"row_heading level0 row1\" >mean</th>\n",
              "                        <td id=\"T_6c7355f2_fcf2_11eb_a660_0242ac1c0002row1_col0\" class=\"data row1 col0\" >2059.61</td>\n",
              "            </tr>\n",
              "            <tr>\n",
              "                        <th id=\"T_6c7355f2_fcf2_11eb_a660_0242ac1c0002level0_row2\" class=\"row_heading level0 row2\" >std</th>\n",
              "                        <td id=\"T_6c7355f2_fcf2_11eb_a660_0242ac1c0002row2_col0\" class=\"data row2 col0\" >363.78</td>\n",
              "            </tr>\n",
              "            <tr>\n",
              "                        <th id=\"T_6c7355f2_fcf2_11eb_a660_0242ac1c0002level0_row3\" class=\"row_heading level0 row3\" >min</th>\n",
              "                        <td id=\"T_6c7355f2_fcf2_11eb_a660_0242ac1c0002row3_col0\" class=\"data row3 col0\" >1950.00</td>\n",
              "            </tr>\n",
              "            <tr>\n",
              "                        <th id=\"T_6c7355f2_fcf2_11eb_a660_0242ac1c0002level0_row4\" class=\"row_heading level0 row4\" >25%</th>\n",
              "                        <td id=\"T_6c7355f2_fcf2_11eb_a660_0242ac1c0002row4_col0\" class=\"data row4 col0\" >1950.00</td>\n",
              "            </tr>\n",
              "            <tr>\n",
              "                        <th id=\"T_6c7355f2_fcf2_11eb_a660_0242ac1c0002level0_row5\" class=\"row_heading level0 row5\" >50%</th>\n",
              "                        <td id=\"T_6c7355f2_fcf2_11eb_a660_0242ac1c0002row5_col0\" class=\"data row5 col0\" >1950.00</td>\n",
              "            </tr>\n",
              "            <tr>\n",
              "                        <th id=\"T_6c7355f2_fcf2_11eb_a660_0242ac1c0002level0_row6\" class=\"row_heading level0 row6\" >75%</th>\n",
              "                        <td id=\"T_6c7355f2_fcf2_11eb_a660_0242ac1c0002row6_col0\" class=\"data row6 col0\" >1950.00</td>\n",
              "            </tr>\n",
              "            <tr>\n",
              "                        <th id=\"T_6c7355f2_fcf2_11eb_a660_0242ac1c0002level0_row7\" class=\"row_heading level0 row7\" >max</th>\n",
              "                        <td id=\"T_6c7355f2_fcf2_11eb_a660_0242ac1c0002row7_col0\" class=\"data row7 col0\" >4743.31</td>\n",
              "            </tr>\n",
              "    </tbody></table>"
            ],
            "text/plain": [
              "<pandas.io.formats.style.Styler at 0x7f4b9ac18610>"
            ]
          },
          "metadata": {
            "tags": []
          }
        }
      ]
    },
    {
      "cell_type": "markdown",
      "metadata": {
        "id": "90IwquhHWA8h"
      },
      "source": [
        "По графикам и характеристикам распределения выручки по Москве и регионам можно увидеть:\n",
        "\n",
        "\n",
        "*   **Характер распределения выручки** по обоим тарифам в Москве и за её пределами **одинаков**;\n",
        "*   **Средняя выручка в регионах чуть выше**, чем аналогичный показатель по Москве.\n",
        "\n",
        "\n",
        "Проведем тест, чтобы отвергнуть/подтвердить нулевую гипотезу отдельно по каждому тарифу.\n"
      ]
    },
    {
      "cell_type": "markdown",
      "metadata": {
        "id": "wB08jPkMRvVP"
      },
      "source": [
        "Рассчитываем критерий Левене о равенстве дисперсий выручки по тарифу Smart в Москве/регионах. "
      ]
    },
    {
      "cell_type": "code",
      "metadata": {
        "colab": {
          "base_uri": "https://localhost:8080/"
        },
        "id": "r5CGSt3QRvVP",
        "outputId": "a9af17eb-6d42-43ee-8b03-5307b132671d"
      },
      "source": [
        "m_s = data_smart_moscow['revenue_month']\n",
        "r_s = data_smart_regions['revenue_month']\n",
        "\n",
        "stat, p = levene(m_s, r_s)\n",
        "\n",
        "print(p)\n",
        "if (p < alpha):\n",
        "    print(\"Отвергаем нулевую гипотезу\")\n",
        "else:\n",
        "    print(\"Не получилось отвергнуть нулевую гипотезу\")"
      ],
      "execution_count": null,
      "outputs": [
        {
          "output_type": "stream",
          "text": [
            "0.11623734361911198\n",
            "Не получилось отвергнуть нулевую гипотезу\n"
          ],
          "name": "stdout"
        }
      ]
    },
    {
      "cell_type": "markdown",
      "metadata": {
        "id": "vKnXUO_HRvVP"
      },
      "source": [
        "Принимаем нулевую гипотезу о равенстве дисперсий выручки, отразим это в параметре equal_var ниже при проведении Т-теста."
      ]
    },
    {
      "cell_type": "code",
      "metadata": {
        "colab": {
          "base_uri": "https://localhost:8080/"
        },
        "id": "aLrqtcLwWuY-",
        "outputId": "8af80ad8-f3b2-4814-fad2-7a83f61f6278"
      },
      "source": [
        "#Проверяем гипотезу о равенстве выручки по тарифу Smart:\n",
        "alpha = 0.05\n",
        "results = st.ttest_ind(\n",
        "    data_smart_moscow['revenue_month'], \n",
        "    data_smart_regions['revenue_month'],\n",
        "    equal_var = True)\n",
        "print('p-значение:', results.pvalue)\n",
        " \n",
        "if (results.pvalue < alpha):\n",
        "    print(\"Отвергаем нулевую гипотезу\")\n",
        "else:\n",
        "    print(\"Не получилось отвергнуть нулевую гипотезу\")"
      ],
      "execution_count": null,
      "outputs": [
        {
          "output_type": "stream",
          "text": [
            "p-значение: 0.15952707795729637\n",
            "Не получилось отвергнуть нулевую гипотезу\n"
          ],
          "name": "stdout"
        }
      ]
    },
    {
      "cell_type": "markdown",
      "metadata": {
        "id": "RdUI4ByeXxeL"
      },
      "source": [
        "Вероятность ошибки при отклонении нулевой гипотезы около 16%. При такой вероятности отвергнуть её не получится. Будем считать, что **выручка по тарифу \"Smart\" в Москве и регионах варьирует незначительно**. "
      ]
    },
    {
      "cell_type": "markdown",
      "metadata": {
        "id": "Gk3XKBlmRvVQ"
      },
      "source": [
        "Теперь проверим такую же гипотезу по тарифу \"Ultra\".\n",
        "Проводим тест Левене на равенство дисперсий совокупности, чтобы сделать более точным Т-тест."
      ]
    },
    {
      "cell_type": "code",
      "metadata": {
        "colab": {
          "base_uri": "https://localhost:8080/"
        },
        "id": "_9yfSnmmRvVQ",
        "outputId": "21166c4b-37da-4111-a4de-e72790c755cd"
      },
      "source": [
        "m_u = data_ultra_moscow['revenue_month']\n",
        "r_u = data_ultra_regions['revenue_month']\n",
        "\n",
        "stat, p = levene(m_u, r_u)\n",
        "\n",
        "print(p)\n",
        "if (p < alpha):\n",
        "    print(\"Отвергаем нулевую гипотезу\")\n",
        "else:\n",
        "    print(\"Не получилось отвергнуть нулевую гипотезу\")"
      ],
      "execution_count": null,
      "outputs": [
        {
          "output_type": "stream",
          "text": [
            "0.88206811444585\n",
            "Не получилось отвергнуть нулевую гипотезу\n"
          ],
          "name": "stdout"
        }
      ]
    },
    {
      "cell_type": "markdown",
      "metadata": {
        "id": "D_w0GoRmRvVR"
      },
      "source": [
        "Принимаем гипотезу: дисперсии выборок, как и совокупностей, равны. Отразим это в параметре equal_var при расчете ниже."
      ]
    },
    {
      "cell_type": "code",
      "metadata": {
        "colab": {
          "base_uri": "https://localhost:8080/"
        },
        "id": "9duRlAIXX_iG",
        "outputId": "72b2d6c0-fb78-4f39-b9f8-1902107630a5"
      },
      "source": [
        "#Проверяем гипотезу о равенстве выручки по тарифу Ultra:\n",
        "alpha = 0.05\n",
        "results = st.ttest_ind(\n",
        "    data_ultra_moscow['revenue_month'], \n",
        "    data_ultra_regions['revenue_month'],\n",
        "    equal_var = True)\n",
        "print('p-значение:', results.pvalue)\n",
        " \n",
        "if (results.pvalue < alpha):\n",
        "    print(\"Отвергаем нулевую гипотезу\")\n",
        "else:\n",
        "    print(\"Не получилось отвергнуть нулевую гипотезу\")"
      ],
      "execution_count": null,
      "outputs": [
        {
          "output_type": "stream",
          "text": [
            "p-значение: 0.8820681144458327\n",
            "Не получилось отвергнуть нулевую гипотезу\n"
          ],
          "name": "stdout"
        }
      ]
    },
    {
      "cell_type": "markdown",
      "metadata": {
        "id": "Esg8bSbpZ2Yq"
      },
      "source": [
        "Вероятность ошибки при отклонении этой гипотезы - болльше 88%. То есть с высокой долей вероятности мы можем утверждать, что **по тарифу \"Ultra\" выручка будет одинаковой по всей стране** и будет примерно равна абонентской плате. Это подтверждает наша выборка - большинство абонентов укладывается в ежемесячные лимиты, установленные оператором."
      ]
    },
    {
      "cell_type": "markdown",
      "metadata": {
        "id": "WpDcgw80RvVS"
      },
      "source": [
        "Третьим этапом сравним выручку сотового оператора по локации абонентов без разбивки по тарифам.\n",
        "Нулевая гипотеза - выручка одинакова вне зависимости от региона."
      ]
    },
    {
      "cell_type": "markdown",
      "metadata": {
        "id": "6C8WUvLnRvVS"
      },
      "source": [
        "Считаем характеристики распределения выручки по Москве и регионам."
      ]
    },
    {
      "cell_type": "code",
      "metadata": {
        "colab": {
          "base_uri": "https://localhost:8080/",
          "height": 424
        },
        "id": "biQAhG6ORvVS",
        "outputId": "ab11f851-b0b3-498f-971c-ef6fbc69bbc2"
      },
      "source": [
        "data_moscow = data.query('moscow_regions == \"Москва\"')\n",
        "data_regions = data.query('moscow_regions == \"Регионы\"')\n",
        "print('Характеристики распределения ежемесячной выручки оператора в Москве:')\n",
        "display(data_moscow[['revenue_month']].describe().style.format('{:.2f}'))\n",
        "print('Характеристики распределения ежемесячной выручки оператора в регионах:')\n",
        "display(data_regions[['revenue_month']].describe().style.format('{:.2f}'))\n"
      ],
      "execution_count": null,
      "outputs": [
        {
          "output_type": "stream",
          "text": [
            "Характеристики распределения ежемесячной выручки оператора в Москве:\n"
          ],
          "name": "stdout"
        },
        {
          "output_type": "display_data",
          "data": {
            "text/html": [
              "<style  type=\"text/css\" >\n",
              "</style><table id=\"T_6c8502de_fcf2_11eb_a660_0242ac1c0002\" ><thead>    <tr>        <th class=\"blank level0\" ></th>        <th class=\"col_heading level0 col0\" >revenue_month</th>    </tr></thead><tbody>\n",
              "                <tr>\n",
              "                        <th id=\"T_6c8502de_fcf2_11eb_a660_0242ac1c0002level0_row0\" class=\"row_heading level0 row0\" >count</th>\n",
              "                        <td id=\"T_6c8502de_fcf2_11eb_a660_0242ac1c0002row0_col0\" class=\"data row0 col0\" >611.00</td>\n",
              "            </tr>\n",
              "            <tr>\n",
              "                        <th id=\"T_6c8502de_fcf2_11eb_a660_0242ac1c0002level0_row1\" class=\"row_heading level0 row1\" >mean</th>\n",
              "                        <td id=\"T_6c8502de_fcf2_11eb_a660_0242ac1c0002row1_col0\" class=\"data row1 col0\" >1517.04</td>\n",
              "            </tr>\n",
              "            <tr>\n",
              "                        <th id=\"T_6c8502de_fcf2_11eb_a660_0242ac1c0002level0_row2\" class=\"row_heading level0 row2\" >std</th>\n",
              "                        <td id=\"T_6c8502de_fcf2_11eb_a660_0242ac1c0002row2_col0\" class=\"data row2 col0\" >740.82</td>\n",
              "            </tr>\n",
              "            <tr>\n",
              "                        <th id=\"T_6c8502de_fcf2_11eb_a660_0242ac1c0002level0_row3\" class=\"row_heading level0 row3\" >min</th>\n",
              "                        <td id=\"T_6c8502de_fcf2_11eb_a660_0242ac1c0002row3_col0\" class=\"data row3 col0\" >550.00</td>\n",
              "            </tr>\n",
              "            <tr>\n",
              "                        <th id=\"T_6c8502de_fcf2_11eb_a660_0242ac1c0002level0_row4\" class=\"row_heading level0 row4\" >25%</th>\n",
              "                        <td id=\"T_6c8502de_fcf2_11eb_a660_0242ac1c0002row4_col0\" class=\"data row4 col0\" >766.00</td>\n",
              "            </tr>\n",
              "            <tr>\n",
              "                        <th id=\"T_6c8502de_fcf2_11eb_a660_0242ac1c0002level0_row5\" class=\"row_heading level0 row5\" >50%</th>\n",
              "                        <td id=\"T_6c8502de_fcf2_11eb_a660_0242ac1c0002row5_col0\" class=\"data row5 col0\" >1730.27</td>\n",
              "            </tr>\n",
              "            <tr>\n",
              "                        <th id=\"T_6c8502de_fcf2_11eb_a660_0242ac1c0002level0_row6\" class=\"row_heading level0 row6\" >75%</th>\n",
              "                        <td id=\"T_6c8502de_fcf2_11eb_a660_0242ac1c0002row6_col0\" class=\"data row6 col0\" >1950.00</td>\n",
              "            </tr>\n",
              "            <tr>\n",
              "                        <th id=\"T_6c8502de_fcf2_11eb_a660_0242ac1c0002level0_row7\" class=\"row_heading level0 row7\" >max</th>\n",
              "                        <td id=\"T_6c8502de_fcf2_11eb_a660_0242ac1c0002row7_col0\" class=\"data row7 col0\" >5222.43</td>\n",
              "            </tr>\n",
              "    </tbody></table>"
            ],
            "text/plain": [
              "<pandas.io.formats.style.Styler at 0x7f4b9957a490>"
            ]
          },
          "metadata": {
            "tags": []
          }
        },
        {
          "output_type": "stream",
          "text": [
            "Характеристики распределения ежемесячной выручки оператора в регионах:\n"
          ],
          "name": "stdout"
        },
        {
          "output_type": "display_data",
          "data": {
            "text/html": [
              "<style  type=\"text/css\" >\n",
              "</style><table id=\"T_6c876344_fcf2_11eb_a660_0242ac1c0002\" ><thead>    <tr>        <th class=\"blank level0\" ></th>        <th class=\"col_heading level0 col0\" >revenue_month</th>    </tr></thead><tbody>\n",
              "                <tr>\n",
              "                        <th id=\"T_6c876344_fcf2_11eb_a660_0242ac1c0002level0_row0\" class=\"row_heading level0 row0\" >count</th>\n",
              "                        <td id=\"T_6c876344_fcf2_11eb_a660_0242ac1c0002row0_col0\" class=\"data row0 col0\" >2603.00</td>\n",
              "            </tr>\n",
              "            <tr>\n",
              "                        <th id=\"T_6c876344_fcf2_11eb_a660_0242ac1c0002level0_row1\" class=\"row_heading level0 row1\" >mean</th>\n",
              "                        <td id=\"T_6c876344_fcf2_11eb_a660_0242ac1c0002row1_col0\" class=\"data row1 col0\" >1494.31</td>\n",
              "            </tr>\n",
              "            <tr>\n",
              "                        <th id=\"T_6c876344_fcf2_11eb_a660_0242ac1c0002level0_row2\" class=\"row_heading level0 row2\" >std</th>\n",
              "                        <td id=\"T_6c876344_fcf2_11eb_a660_0242ac1c0002row2_col0\" class=\"data row2 col0\" >797.21</td>\n",
              "            </tr>\n",
              "            <tr>\n",
              "                        <th id=\"T_6c876344_fcf2_11eb_a660_0242ac1c0002level0_row3\" class=\"row_heading level0 row3\" >min</th>\n",
              "                        <td id=\"T_6c876344_fcf2_11eb_a660_0242ac1c0002row3_col0\" class=\"data row3 col0\" >550.00</td>\n",
              "            </tr>\n",
              "            <tr>\n",
              "                        <th id=\"T_6c876344_fcf2_11eb_a660_0242ac1c0002level0_row4\" class=\"row_heading level0 row4\" >25%</th>\n",
              "                        <td id=\"T_6c876344_fcf2_11eb_a660_0242ac1c0002row4_col0\" class=\"data row4 col0\" >704.50</td>\n",
              "            </tr>\n",
              "            <tr>\n",
              "                        <th id=\"T_6c876344_fcf2_11eb_a660_0242ac1c0002level0_row5\" class=\"row_heading level0 row5\" >50%</th>\n",
              "                        <td id=\"T_6c876344_fcf2_11eb_a660_0242ac1c0002row5_col0\" class=\"data row5 col0\" >1544.34</td>\n",
              "            </tr>\n",
              "            <tr>\n",
              "                        <th id=\"T_6c876344_fcf2_11eb_a660_0242ac1c0002level0_row6\" class=\"row_heading level0 row6\" >75%</th>\n",
              "                        <td id=\"T_6c876344_fcf2_11eb_a660_0242ac1c0002row6_col0\" class=\"data row6 col0\" >1950.00</td>\n",
              "            </tr>\n",
              "            <tr>\n",
              "                        <th id=\"T_6c876344_fcf2_11eb_a660_0242ac1c0002level0_row7\" class=\"row_heading level0 row7\" >max</th>\n",
              "                        <td id=\"T_6c876344_fcf2_11eb_a660_0242ac1c0002row7_col0\" class=\"data row7 col0\" >6765.02</td>\n",
              "            </tr>\n",
              "    </tbody></table>"
            ],
            "text/plain": [
              "<pandas.io.formats.style.Styler at 0x7f4b9a944450>"
            ]
          },
          "metadata": {
            "tags": []
          }
        }
      ]
    },
    {
      "cell_type": "markdown",
      "metadata": {
        "id": "MPPdDudVRvVS"
      },
      "source": [
        "Как и выше, проводим тест Левене на равенство дисперсий совокупности, чтобы сделать более точным Т-тест."
      ]
    },
    {
      "cell_type": "code",
      "metadata": {
        "colab": {
          "base_uri": "https://localhost:8080/"
        },
        "id": "VtoA34H-RvVT",
        "outputId": "28e52d7f-73c4-4811-de93-b4cda3173440"
      },
      "source": [
        "m = data_moscow['revenue_month']\n",
        "r = data_regions['revenue_month']\n",
        "alpha = 0.05\n",
        "stat, p = levene(m,r)\n",
        "print(p)\n",
        "if (p < alpha):\n",
        "    print(\"Отвергаем нулевую гипотезу\")\n",
        "else:\n",
        "    print(\"Не получилось отвергнуть нулевую гипотезу\")"
      ],
      "execution_count": null,
      "outputs": [
        {
          "output_type": "stream",
          "text": [
            "0.017085270612544515\n",
            "Отвергаем нулевую гипотезу\n"
          ],
          "name": "stdout"
        }
      ]
    },
    {
      "cell_type": "markdown",
      "metadata": {
        "id": "H21fMA-ERvVT"
      },
      "source": [
        "Дисперсии выборок, как и совокупностей, не равны. Отразим это в параметре equal_var при расчете ниже."
      ]
    },
    {
      "cell_type": "code",
      "metadata": {
        "colab": {
          "base_uri": "https://localhost:8080/"
        },
        "id": "aleZjokORvVT",
        "outputId": "b1354e14-fa3b-4646-98dc-13551e3bd2e4"
      },
      "source": [
        "#Проверяем гипотезу о равенстве выручки в целом по Москве/регионам:\n",
        "alpha = 0.05\n",
        "results = st.ttest_ind(\n",
        "    data_moscow['revenue_month'], \n",
        "    data_regions['revenue_month'],\n",
        "    equal_var = False)\n",
        "print('p-значение:', results.pvalue)\n",
        " \n",
        "if (results.pvalue < alpha):\n",
        "    print(\"Отвергаем нулевую гипотезу\")\n",
        "else:\n",
        "    print(\"Не получилось отвергнуть нулевую гипотезу\")"
      ],
      "execution_count": null,
      "outputs": [
        {
          "output_type": "stream",
          "text": [
            "p-значение: 0.5014487809585113\n",
            "Не получилось отвергнуть нулевую гипотезу\n"
          ],
          "name": "stdout"
        }
      ]
    },
    {
      "cell_type": "markdown",
      "metadata": {
        "id": "soJDp5DORvVU"
      },
      "source": [
        "Таким образом, вероятность ошибки при отклонении нулевой гипотезы около 50%. Или ошибёмся, или нет :). Принимаем, что выручка оператора не зависит от места проживания абонента. "
      ]
    },
    {
      "cell_type": "markdown",
      "metadata": {
        "id": "wYvGuSjya7DC"
      },
      "source": [
        "# 7. Выводы <a id=\"end\"></a>"
      ]
    },
    {
      "cell_type": "markdown",
      "metadata": {
        "id": "sd0I1lklbE1f"
      },
      "source": [
        "Проведя статистический анализ выборки из 500 абонентов сотового оператора, можем сделать следующие выводы:\n",
        "\n",
        "\n",
        "*   Основные различия между пользовательским поведением - **значительное увеличение потребления интернет-трафика на тарифе \"Ultra\"**. Длительность звонков и отправка сообщений значительно не различаются. \n",
        "*   **Пользователи тарифа \"Smart\" в половине случаев не укладываются в лимиты звонков и трафика**, но даже с учетом оплаты сверх лимита тратят в среднем меньше суммы абонентской платы тарифа \"Ultra\".\n",
        "*   **Тариф \"Ultra\" более выгоден для мобильного оператора**. Меньше 25% пользователей превышают лимиты, но средняя выручка выше за счет высокой абонентской платы. \n",
        "*   Возможно, маркетологам стоит поработать с характеристиками тарифа \"Ultra\", чтобы сделать его более привлекательным для потенциальных абонентов. \n",
        "*   В Москве доля клиентов с тарифом \"Ultra\" - 37%, в регионах - 29%. При этом **абоненты тарифа \"Smart\" из регионов в среднем приносят чуть больше выручки**, т.е. более интенсивно используют мобильную связь. На это тоже следует обратить внимание маркетологам при выборе таргет-группы для рекламы.\n",
        "*   За счёт того, что в Москве доля тарифа \"Ultra\" выше, чем в регионах, средняя выручка по этому городу чуть выше. Однако незначительно, что и показал тест на равенство суммарной выручки. Это еще один плюс в пользу предположения, что **в регионах больше потенциал для привлечения новых \"Ultra\"-клиентов**.\n",
        "\n",
        " "
      ]
    }
  ]
}